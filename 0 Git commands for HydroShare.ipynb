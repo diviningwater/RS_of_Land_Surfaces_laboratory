{
 "cells": [
  {
   "cell_type": "raw",
   "metadata": {
    "slideshow": {
     "slide_type": "skip"
    }
   },
   "source": [
    "Run this notebook as slides by clicking in the \"Enter/Exit RISE Slideshow\" button in the toolbar"
   ]
  },
  {
   "cell_type": "markdown",
   "metadata": {
    "slideshow": {
     "slide_type": "slide"
    }
   },
   "source": [
    "# Notebook 0\n",
    "\n",
    "# Git commands for HydroShare Jupyter App  (or local Anaconda)"
   ]
  },
  {
   "cell_type": "code",
   "execution_count": 1,
   "metadata": {
    "slideshow": {
     "slide_type": "fragment"
    }
   },
   "outputs": [
    {
     "name": "stdout",
     "output_type": "stream",
     "text": [
      "Updated by Alfonso Torres-Rua,  April 20, 2020\n"
     ]
    }
   ],
   "source": [
    "from datetime import date\n",
    "today = date.today()\n",
    "d2 = today.strftime(\"%B %d, %Y\")\n",
    "print(\"Updated by Alfonso Torres-Rua, \", d2) "
   ]
  },
  {
   "cell_type": "markdown",
   "metadata": {
    "slideshow": {
     "slide_type": "fragment"
    }
   },
   "source": [
    "A live document of my experience with git and Hydroshare.\n",
    "\n",
    "Derived from https://www.linux.com/learn/beginning-git-and-github-linux-users"
   ]
  },
  {
   "cell_type": "markdown",
   "metadata": {
    "slideshow": {
     "slide_type": "slide"
    }
   },
   "source": [
    "## Main point/lesson:\n",
    "\n",
    "It is important to be organized when developing code. The main tasks are: \n",
    "1. Creating a GitHub account **(for this class)**\n",
    "2. Creating a git repository\n",
    "3. fork a repository to your GitHub account **(for this class)**\n",
    "4. Cloning Github repository to Hydroshare (or a local Anaconda installation)  **(for this class)**\n",
    "5. Adding files to a local (cloned) git repository  \n",
    "6. Removing files from a local (cloned) git repository\n",
    "7. Committing and Pushing files to cloud git repository (Github)\n",
    "8. Pulling files from cloud git repository (Github)  **(for this class)**\n",
    "9. Forcing pulling files from cloud git repository  (Github) and rejecting local files changes **(for this class)**"
   ]
  },
  {
   "cell_type": "markdown",
   "metadata": {
    "slideshow": {
     "slide_type": "slide"
    }
   },
   "source": [
    "So, for a research project or homeworks of a class, you can start a repository (repo) in GitHub and then clone it to Hydroshare (or an local Anaconda installation) "
   ]
  },
  {
   "cell_type": "markdown",
   "metadata": {
    "slideshow": {
     "slide_type": "slide"
    }
   },
   "source": [
    "## 1. Creating a GitHub account:\n",
    "\n",
    "Go to https://github.com/ and create an account. It is free."
   ]
  },
  {
   "cell_type": "markdown",
   "metadata": {
    "cell_style": "split",
    "slideshow": {
     "slide_type": "slide"
    }
   },
   "source": [
    "## 2. Create a git repository (not necessary for this class):\n",
    "\n",
    "Click on the **NEW** (green button) in your GitHub account."
   ]
  },
  {
   "cell_type": "code",
   "execution_count": 2,
   "metadata": {
    "cell_style": "split",
    "slideshow": {
     "slide_type": "fragment"
    }
   },
   "outputs": [
    {
     "data": {
      "text/html": [
       "<img src='0 Git commands/picture0.PNG', width=700, height=200>"
      ],
      "text/plain": [
       "<IPython.core.display.HTML object>"
      ]
     },
     "metadata": {},
     "output_type": "display_data"
    }
   ],
   "source": [
    "%%html\n",
    "<img src='0 Git commands/picture0.PNG', width=700, height=200>"
   ]
  },
  {
   "cell_type": "markdown",
   "metadata": {
    "cell_style": "split",
    "slideshow": {
     "slide_type": "subslide"
    }
   },
   "source": [
    "Then:\n",
    "\n",
    "1. Give it a name (I am calling it playground2)\n",
    "\n",
    "2. Choose private (only you have the access) or public.\n",
    "\n",
    "3. Check the\"Initialize this repository with a README (the README is where an explanation about the repository is placed)\n",
    "\n",
    "4. In the Add.gitignore select the programming language (I chose Python)\n",
    "\n",
    "5. In the add.license select None or an open or close license.\n",
    "\n",
    "6. Click \"Create Repository\""
   ]
  },
  {
   "cell_type": "code",
   "execution_count": 3,
   "metadata": {
    "cell_style": "split",
    "slideshow": {
     "slide_type": "fragment"
    }
   },
   "outputs": [
    {
     "data": {
      "text/html": [
       "<img src='0 Git commands/picture1.png', width=700, height=200>"
      ],
      "text/plain": [
       "<IPython.core.display.HTML object>"
      ]
     },
     "metadata": {},
     "output_type": "display_data"
    }
   ],
   "source": [
    "%%html\n",
    "<img src='0 Git commands/picture1.png', width=700, height=200>"
   ]
  },
  {
   "cell_type": "markdown",
   "metadata": {
    "slideshow": {
     "slide_type": "subslide"
    }
   },
   "source": [
    "In the next screen, you can still modify the README.md using the pen icon "
   ]
  },
  {
   "cell_type": "code",
   "execution_count": 4,
   "metadata": {
    "slideshow": {
     "slide_type": "fragment"
    }
   },
   "outputs": [
    {
     "data": {
      "text/html": [
       "<img src='0 Git commands/picture2.png', width=700, height=200>"
      ],
      "text/plain": [
       "<IPython.core.display.HTML object>"
      ]
     },
     "metadata": {},
     "output_type": "display_data"
    }
   ],
   "source": [
    "%%html\n",
    "<img src='0 Git commands/picture2.png', width=700, height=200>"
   ]
  },
  {
   "cell_type": "markdown",
   "metadata": {
    "slideshow": {
     "slide_type": "slide"
    }
   },
   "source": [
    "## 3. Fork a Github repository to your account:\n",
    "\n",
    "If we find an online GitHub repository of interest, we may want to have a copy of it (**fork**) on our GitHub account. "
   ]
  },
  {
   "cell_type": "markdown",
   "metadata": {
    "slideshow": {
     "slide_type": "subslide"
    }
   },
   "source": [
    "Why FORK and not the original link? Many reasons:\n",
    "\n",
    "1. The original code may disappear. Author may decide that. See this link https://qz.com/646467/how-one-programmer-broke-the-internet-by-deleting-a-tiny-piece-of-code/\n",
    "2. The original code may change (drastically) and won't work with your developed linked code or modifications.\n",
    "3. Documenting your work development. I.e. you may be developing a model and having all the components for others to run is necessary (work replicability).\n",
    "4. You may think of another reason too.."
   ]
  },
  {
   "cell_type": "markdown",
   "metadata": {
    "slideshow": {
     "slide_type": "slide"
    }
   },
   "source": [
    "First, we have to find a repository to \"fork\", to copy it to your Github account. For example, let's fork the repository **openet-ssebop-beta**. You can look for it in the search box and click on \"All Github\":\n",
    "    "
   ]
  },
  {
   "cell_type": "code",
   "execution_count": 5,
   "metadata": {
    "slideshow": {
     "slide_type": "fragment"
    }
   },
   "outputs": [
    {
     "data": {
      "text/html": [
       "<img src='0 Git commands/picture3.png', width=700, height=200>"
      ],
      "text/plain": [
       "<IPython.core.display.HTML object>"
      ]
     },
     "metadata": {},
     "output_type": "display_data"
    }
   ],
   "source": [
    "%%html\n",
    "<img src='0 Git commands/picture3.png', width=700, height=200>"
   ]
  },
  {
   "cell_type": "markdown",
   "metadata": {
    "slideshow": {
     "slide_type": "subslide"
    }
   },
   "source": [
    "Click on Fork:\n",
    "    "
   ]
  },
  {
   "cell_type": "code",
   "execution_count": 6,
   "metadata": {
    "slideshow": {
     "slide_type": "fragment"
    }
   },
   "outputs": [
    {
     "data": {
      "text/html": [
       "<img src='0 Git commands/picture4.png', width=700, height=200>"
      ],
      "text/plain": [
       "<IPython.core.display.HTML object>"
      ]
     },
     "metadata": {},
     "output_type": "display_data"
    }
   ],
   "source": [
    "%%html\n",
    "<img src='0 Git commands/picture4.png', width=700, height=200>"
   ]
  },
  {
   "cell_type": "markdown",
   "metadata": {
    "slideshow": {
     "slide_type": "slide"
    }
   },
   "source": [
    "## 4. Cloning Github repository to Hydroshare (or a local Anaconda installation)"
   ]
  },
  {
   "cell_type": "markdown",
   "metadata": {
    "slideshow": {
     "slide_type": "fragment"
    }
   },
   "source": [
    "You can clone your own or forked repositories to Hydroshare. Clone means create a copy somewhere else from Github (local computer or the cloud) while keeping a link to Github for syncronization and changes tracking."
   ]
  },
  {
   "cell_type": "markdown",
   "metadata": {
    "slideshow": {
     "slide_type": "slide"
    }
   },
   "source": [
    "To clone we need to create a location where to clone files. I recommend creating a folder.\n",
    "\n",
    "Go back to HydroShare, and:\n",
    "\n",
    "1. Open the Jupyter App,\n",
    "2. Go to Jupyter notebooks view (click on File then Open)\n",
    "3. Create a git repo folder (I call mine git-repos) using these terminal commands if there is none previously and navigate to it."
   ]
  },
  {
   "cell_type": "raw",
   "metadata": {
    "slideshow": {
     "slide_type": "fragment"
    }
   },
   "source": [
    "#open terminal from the Jupyter notebooks view\n",
    "# navigate to notebooks and type the two commands below:\n",
    "\n",
    "mkdir git-repos\n",
    "\n",
    "cd git-repos"
   ]
  },
  {
   "cell_type": "markdown",
   "metadata": {
    "slideshow": {
     "slide_type": "slide"
    }
   },
   "source": [
    "4. In the same terminal, clone the repository by clicking in the Github green button (which shows a web address like this https://github.com/torresrua/playground.git ) and then typing in the terminal the following command:"
   ]
  },
  {
   "cell_type": "raw",
   "metadata": {
    "slideshow": {
     "slide_type": "fragment"
    }
   },
   "source": [
    "git clone https://github.com/torresrua/playground.git"
   ]
  },
  {
   "cell_type": "markdown",
   "metadata": {
    "slideshow": {
     "slide_type": "fragment"
    }
   },
   "source": [
    "5. pass the command below in the terminal to see the files in the local version of the repository"
   ]
  },
  {
   "cell_type": "raw",
   "metadata": {
    "slideshow": {
     "slide_type": "fragment"
    }
   },
   "source": [
    "ls playground/"
   ]
  },
  {
   "cell_type": "markdown",
   "metadata": {
    "slideshow": {
     "slide_type": "slide"
    }
   },
   "source": [
    "## 5. Adding files to a local (cloned) git repository  \n",
    "\n",
    "When new files were added to the cloned repo in Jupyter, we need to tell git to track them. Every time you finish working on notebooks, go to a terminal, navigate to the local repo folder and:"
   ]
  },
  {
   "cell_type": "raw",
   "metadata": {
    "slideshow": {
     "slide_type": "fragment"
    }
   },
   "source": [
    "git add *"
   ]
  },
  {
   "cell_type": "markdown",
   "metadata": {
    "slideshow": {
     "slide_type": "fragment"
    }
   },
   "source": [
    "then run commands in #7"
   ]
  },
  {
   "cell_type": "markdown",
   "metadata": {
    "slideshow": {
     "slide_type": "slide"
    }
   },
   "source": [
    "## 6. Removing files from a local (cloned) git repository\n",
    "When files are deleted in the cloned repo, we need to tell git to un-track them. So navigate through a terminal to the local repo folder and:"
   ]
  },
  {
   "cell_type": "raw",
   "metadata": {
    "slideshow": {
     "slide_type": "fragment"
    }
   },
   "source": [
    "git add -u"
   ]
  },
  {
   "cell_type": "markdown",
   "metadata": {
    "slideshow": {
     "slide_type": "fragment"
    }
   },
   "source": [
    "then run commands in #7"
   ]
  },
  {
   "cell_type": "markdown",
   "metadata": {
    "slideshow": {
     "slide_type": "slide"
    }
   },
   "source": [
    "## 7. Committing and Pushing files to cloud git repository (Github)\n",
    "If you are like me who does not know how many files were changed, from a terminal, navigate to the local repo folder and follow these two foolprof commands: (\"$message\" is for amessage)"
   ]
  },
  {
   "cell_type": "raw",
   "metadata": {
    "slideshow": {
     "slide_type": "fragment"
    }
   },
   "source": [
    "git commit -am \"$message\""
   ]
  },
  {
   "cell_type": "markdown",
   "metadata": {
    "slideshow": {
     "slide_type": "fragment"
    }
   },
   "source": [
    "then"
   ]
  },
  {
   "cell_type": "raw",
   "metadata": {
    "slideshow": {
     "slide_type": "fragment"
    }
   },
   "source": [
    "git push origin master"
   ]
  },
  {
   "cell_type": "markdown",
   "metadata": {
    "slideshow": {
     "slide_type": "slide"
    }
   },
   "source": [
    "## 8. Pulling files from cloud git repository (Github)\n",
    "If new version of files (or new files were added) are available in the online git repo in GitHub, or when you are working with collaborators in a Github repository (and they did changes to the online repo), from a terminal, navigate to your local repo and type:"
   ]
  },
  {
   "cell_type": "raw",
   "metadata": {
    "slideshow": {
     "slide_type": "fragment"
    }
   },
   "source": [
    "git pull origin master"
   ]
  },
  {
   "cell_type": "markdown",
   "metadata": {
    "slideshow": {
     "slide_type": "slide"
    }
   },
   "source": [
    "## 9. Forcing pulling files from cloud git repository  (Github) and rejecting local files changes (happened in class)\n",
    "If new version of files (or new files were added) are available from GitHub, AND THE  COMMAND FOR #8 DID NOT WORK (ERROR MESSAGE), from a terminal, navigate to the local git repo and type:"
   ]
  },
  {
   "cell_type": "raw",
   "metadata": {
    "slideshow": {
     "slide_type": "fragment"
    }
   },
   "source": [
    "git fetch --all\n",
    "git reset --hard origin/master\n",
    "git pull origin master"
   ]
  },
  {
   "cell_type": "markdown",
   "metadata": {
    "slideshow": {
     "slide_type": "slide"
    }
   },
   "source": [
    "# THAT'S IT! THE END"
   ]
  }
 ],
 "metadata": {
  "celltoolbar": "Slideshow",
  "kernelspec": {
   "display_name": "Python 3",
   "language": "python",
   "name": "python3"
  },
  "language_info": {
   "codemirror_mode": {
    "name": "ipython",
    "version": 3
   },
   "file_extension": ".py",
   "mimetype": "text/x-python",
   "name": "python",
   "nbconvert_exporter": "python",
   "pygments_lexer": "ipython3",
   "version": "3.7.8"
  },
  "latex_envs": {
   "LaTeX_envs_menu_present": true,
   "autoclose": false,
   "autocomplete": true,
   "bibliofile": "biblio.bib",
   "cite_by": "apalike",
   "current_citInitial": 1,
   "eqLabelWithNumbers": true,
   "eqNumInitial": 1,
   "hotkeys": {
    "equation": "Ctrl-E",
    "itemize": "Ctrl-I"
   },
   "labels_anchors": false,
   "latex_user_defs": false,
   "report_style_numbering": false,
   "user_envs_cfg": false
  },
  "varInspector": {
   "cols": {
    "lenName": 16,
    "lenType": 16,
    "lenVar": 40
   },
   "kernels_config": {
    "python": {
     "delete_cmd_postfix": "",
     "delete_cmd_prefix": "del ",
     "library": "var_list.py",
     "varRefreshCmd": "print(var_dic_list())"
    },
    "r": {
     "delete_cmd_postfix": ") ",
     "delete_cmd_prefix": "rm(",
     "library": "var_list.r",
     "varRefreshCmd": "cat(var_dic_list()) "
    }
   },
   "oldHeight": 164.111112,
   "position": {
    "height": "185px",
    "left": "997.222px",
    "right": "20px",
    "top": "77px",
    "width": "350px"
   },
   "types_to_exclude": [
    "module",
    "function",
    "builtin_function_or_method",
    "instance",
    "_Feature"
   ],
   "varInspector_section_display": "block",
   "window_display": true
  }
 },
 "nbformat": 4,
 "nbformat_minor": 4
}
