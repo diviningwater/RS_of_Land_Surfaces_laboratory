{
 "cells": [
  {
   "cell_type": "raw",
   "metadata": {},
   "source": [
    "YOUR NAME HERE: "
   ]
  },
  {
   "cell_type": "markdown",
   "metadata": {},
   "source": [
    "# Lab 3: Spectral indices and transformations"
   ]
  },
  {
   "cell_type": "code",
   "execution_count": 1,
   "metadata": {},
   "outputs": [
    {
     "name": "stdout",
     "output_type": "stream",
     "text": [
      "Updated by Alfonso Torres-Rua,  March 05, 2021\n"
     ]
    }
   ],
   "source": [
    "from datetime import date\n",
    "today = date.today()\n",
    "d2 = today.strftime(\"%B %d, %Y\")\n",
    "print(\"Updated by Alfonso Torres-Rua, \", d2)"
   ]
  },
  {
   "cell_type": "markdown",
   "metadata": {},
   "source": [
    "## Purpose: \n",
    "The purpose of this lab is to give you a tour of spectral indices that can be used to enhance phenomena of interest in remotely sensed images.  You will be introduced to methods for creating vegetation, water, snow, bare and burned area indices.  You will explore the Tasseled-cap and principal components transforms.  At the completion of the lab, you will be able to implement spectral indices and transforms to accentuate the information of interest in your study area.\n",
    "\n",
    "Prerequisites: Lab 3"
   ]
  },
  {
   "cell_type": "markdown",
   "metadata": {},
   "source": [
    "### Spectral indices\n",
    "Spectral indices are based on the fact that reflectance spectra of different land covers are different.  The indices are designed to exploit these differences to accentuate particular land cover types.  Consider the following chart of reflectance spectra for various targets:"
   ]
  },
  {
   "cell_type": "code",
   "execution_count": 2,
   "metadata": {},
   "outputs": [
    {
     "data": {
      "text/html": [
       "<img src='Lab 3 figures/lab 3 fig 1.png', width=500, height=200>\n"
      ],
      "text/plain": [
       "<IPython.core.display.HTML object>"
      ]
     },
     "metadata": {},
     "output_type": "display_data"
    }
   ],
   "source": [
    "%%html\n",
    "<img src='Lab 3 figures/lab 3 fig 1.png', width=500, height=200>"
   ]
  },
  {
   "cell_type": "markdown",
   "metadata": {},
   "source": [
    "Observe that the land covers are separable at one or more wavelengths.  Note, in particular, that vegetation curves (green) have relatively high reflectance in the NIR range, where radiant energy is scattered by cell walls ([Bowker et al. 1985](http://ntrs.nasa.gov/archive/nasa/casi.ntrs.nasa.gov/19850022138.pdf)).  Also note that vegetation has low reflectance in the red range, where radiant energy is [absorbed by chlorophyll](https://en.wikipedia.org/wiki/Chlorophyll#/media/File:Chlorophyll_ab_spectra-en.svg).  These observations motivate the formulation of vegetation indices, for example:"
   ]
  },
  {
   "cell_type": "markdown",
   "metadata": {},
   "source": [
    "### -NDVI.  \n",
    "The Normalized Difference Vegetation Index (NDVI) has a [long history](https://en.wikipedia.org/wiki/Normalized_Difference_Vegetation_Index) in remote sensing.  The typical formulation is\n",
    "\n",
    "NDVI = (NIR - red) / (NIR + red)\n",
    "\n",
    "Where NIR and red refer to reflectance, radiance or DN at the respective wavelength.  Implement indices of this form in Earth Engine with the normalizedDifference() method.  First, get an image of interest by drawing a Point named point, importing the Landsat 8 Collection 1 TOA as landsat8 and sorting the collection by cloud cover metadata:\n"
   ]
  },
  {
   "cell_type": "code",
   "execution_count": 1,
   "metadata": {},
   "outputs": [],
   "source": [
    "# Initializing display and earthengine\n",
    "from IPython.display import Image\n",
    "%matplotlib inline\n",
    "\n",
    "import ee\n",
    "ee.Initialize()"
   ]
  },
  {
   "cell_type": "code",
   "execution_count": 2,
   "metadata": {},
   "outputs": [],
   "source": [
    "# importing geemap for dynamic mapping\n",
    "import geemap"
   ]
  },
  {
   "cell_type": "code",
   "execution_count": 3,
   "metadata": {},
   "outputs": [],
   "source": [
    "# Define a location of interest as a point at Logan UT.\n",
    "\n",
    "latitude=41.735210\n",
    "longitude= -111.834862\n",
    "\n",
    "point = ee.Geometry.Point([longitude, latitude])"
   ]
  },
  {
   "cell_type": "code",
   "execution_count": 4,
   "metadata": {},
   "outputs": [
    {
     "name": "stdout",
     "output_type": "stream",
     "text": [
      "['B1', 'B2', 'B3', 'B4', 'B5', 'B6', 'B7', 'B10', 'B11', 'sr_aerosol', 'pixel_qa', 'radsat_qa']\n"
     ]
    }
   ],
   "source": [
    "landsat8 =ee.ImageCollection(\"LANDSAT/LC08/C01/T1_SR\")\n",
    "\n",
    "image = ee.Image(landsat8\n",
    "    .filterBounds(point)\n",
    "    .filterDate('2015-06-01', '2015-09-01')\n",
    "    .sort('CLOUD_COVER_LAND')\n",
    "    .first())\n",
    "\n",
    "image = image.multiply(0.0001)\n",
    "\n",
    "trueColor = {'bands': ['B4', 'B3', 'B2'], 'min': 0, 'max': 0.5}\n",
    "\n",
    "print(image.bandNames().getInfo())"
   ]
  },
  {
   "cell_type": "code",
   "execution_count": 5,
   "metadata": {},
   "outputs": [
    {
     "data": {
      "application/vnd.jupyter.widget-view+json": {
       "model_id": "9aef677a268e4d72b3ed238c3fc05857",
       "version_major": 2,
       "version_minor": 0
      },
      "text/plain": [
       "Map(center=[40, -100], controls=(WidgetControl(options=['position'], widget=HBox(children=(ToggleButton(value=…"
      ]
     },
     "metadata": {},
     "output_type": "display_data"
    }
   ],
   "source": [
    "Map = geemap.Map() # from ipygee\n",
    "Map"
   ]
  },
  {
   "cell_type": "code",
   "execution_count": 6,
   "metadata": {},
   "outputs": [],
   "source": [
    "# add layer\n",
    "Map.addLayer(image, trueColor, name='Landsat8 Image')\n",
    "# zoom to the image\n",
    "bounds = point.buffer(10000)\n",
    "Map.centerObject(bounds)"
   ]
  },
  {
   "cell_type": "markdown",
   "metadata": {},
   "source": [
    "The NDVI computation is one line:\n"
   ]
  },
  {
   "cell_type": "code",
   "execution_count": 7,
   "metadata": {},
   "outputs": [],
   "source": [
    " ndvi = image.normalizedDifference(['B5', 'B4'])\n"
   ]
  },
  {
   "cell_type": "markdown",
   "metadata": {},
   "source": [
    "Display the NDVI image with a color palette (feel free to make a better one):"
   ]
  },
  {
   "cell_type": "code",
   "execution_count": 8,
   "metadata": {},
   "outputs": [],
   "source": [
    "# vegPalette= ['#0048FB','#FFFFFF','#CE7E45','#FAD163','#74A909','#3A7405','#1A3B03']\n",
    "vegPalette = ['blue','white','orange','yellow','lime', 'green','teal','navy']\n",
    "Map.addLayer(ndvi, {min: -0.2, max: 1.0, 'palette': vegPalette},name = 'NDVI')\n"
   ]
  },
  {
   "cell_type": "markdown",
   "metadata": {},
   "source": [
    "### -EVI.  \n",
    "The Enhanced Vegetation Index (EVI) is designed to minimize saturation and background effects in NDVI ([Huete et al. 2002](https://www.sciencedirect.com/science/article/abs/pii/S0034425702000962).  Since it is not a normalized difference index, compute it with [an expression](https://developers.google.com/earth-engine/image_math#expressions):\n"
   ]
  },
  {
   "cell_type": "code",
   "execution_count": 9,
   "metadata": {},
   "outputs": [],
   "source": [
    "evi = image.expression(\n",
    "    '2.5 * ((NIR - RED) / (NIR + 6 * RED - 7.5 * BLUE + 1))', {\n",
    "      'NIR': image.select('B5'),\n",
    "      'RED': image.select('B4'),\n",
    "      'BLUE': image.select('B2')\n",
    "})\n"
   ]
  },
  {
   "cell_type": "markdown",
   "metadata": {},
   "source": [
    "Observe that bands are referenced with the help of [an object](https://developer.mozilla.org/en-US/docs/Web/JavaScript/Guide/Grammar_and_Types#Object_literals) that is passed as the second argument to image.expression().  Display EVI:"
   ]
  },
  {
   "cell_type": "code",
   "execution_count": 10,
   "metadata": {},
   "outputs": [],
   "source": [
    "Map.addLayer(evi, {min: -0.2, max: 1, 'palette': vegPalette}, 'EVI')"
   ]
  },
  {
   "cell_type": "markdown",
   "metadata": {},
   "source": [
    "Compare EVI to NDVI.  What do you observe?"
   ]
  },
  {
   "cell_type": "markdown",
   "metadata": {},
   "source": [
    "### -NDWI.  \n",
    "The Normalized Difference Water Index (NDWI) was developed by Gao (1996) as an index of vegetation water content:\n",
    "\n",
    "NDWI = (NIR - SWIR) / (NIR + SWIR)\n",
    "\n",
    "Compute NDWI in Earth Engine with:\n"
   ]
  },
  {
   "cell_type": "code",
   "execution_count": 11,
   "metadata": {},
   "outputs": [],
   "source": [
    "ndwi = image.normalizedDifference(['B5', 'B3'])"
   ]
  },
  {
   "cell_type": "markdown",
   "metadata": {},
   "source": [
    "And display:"
   ]
  },
  {
   "cell_type": "code",
   "execution_count": 12,
   "metadata": {},
   "outputs": [],
   "source": [
    "waterPalette = ['blue', 'white']\n",
    "Map.addLayer(ndwi, {min: -1, max: 1, 'palette': waterPalette}, 'NDWI')\n"
   ]
  },
  {
   "cell_type": "code",
   "execution_count": 13,
   "metadata": {},
   "outputs": [],
   "source": [
    "# filtering the data using the NDWI values itself:\n",
    "waterMask =ndwi.lte(0) # selecting only negative values\n",
    "\n",
    "ndwi = ndwi.updateMask(waterMask)\n",
    "Map.addLayer(ndwi, {min: -1, max: 1, 'palette': waterPalette}, 'NDWI masked')\n"
   ]
  },
  {
   "cell_type": "markdown",
   "metadata": {},
   "source": [
    "Note that this is not an exact implementation of NDWI, according to the OLI spectral response, since OLI does not have a band in the right position (1.26 𝛍m)."
   ]
  },
  {
   "cell_type": "markdown",
   "metadata": {},
   "source": [
    "### -NDBSI.  \n",
    "The Normalized Difference Bare Soil Index (NDBSI) aids in the differentiation of no vegetation locations:\n",
    "\n",
    "NDBI = ((SWIR + RED) - (NIR + BLUE)) / ((SWIR + RED) + (NIR + BLUE))\n"
   ]
  },
  {
   "cell_type": "code",
   "execution_count": 14,
   "metadata": {},
   "outputs": [],
   "source": [
    "b6b4 = image.select('B6').add(image.select('B4'))\n",
    "b5b2 = image.select('B5').add(image.select('B2'))\n",
    "NDBSI = b5b2.subtract(b6b4).divide(b5b2.add(b6b4)) #normalized difference bare soil index\n",
    "\n",
    "# barePalette = waterPalette = [ 'blue','white']\n",
    "\n",
    "Map.addLayer(NDBSI, {'min': -1, 'max': 1, 'palette': vegPalette}, 'NDBSI')\n"
   ]
  },
  {
   "cell_type": "code",
   "execution_count": 15,
   "metadata": {},
   "outputs": [],
   "source": [
    "# filtering only bare soil\n",
    "bareMask= NDBSI.lte(0)\n",
    "NDBSI=NDBSI.updateMask(bareMask)\n",
    "Map.addLayer(NDBSI, {'min': -1, 'max': 1, 'palette': vegPalette}, 'NDBSI masked')\n"
   ]
  },
  {
   "cell_type": "markdown",
   "metadata": {},
   "source": [
    "### -NDSI.  \n",
    "The Normalized Difference Snow Index (NDSI) was designed to estimate the amount of a pixel covered in snow ([Riggs et al. 1994](https://ieeexplore.ieee.org/document/399618/)):\n",
    "\n",
    "NDSI = (green - SWIR) / (green + SWIR)\n",
    "\n",
    "First, find a snow covered scene to test the index:\n"
   ]
  },
  {
   "cell_type": "code",
   "execution_count": 16,
   "metadata": {},
   "outputs": [],
   "source": [
    "snowImage = ee.Image(landsat8\n",
    "    .filterBounds(point) #ee.Geometry.Point(-120.0421, 39.1002))\n",
    "    .filterDate('2018-12-15', '2019-02-01')\n",
    "    .sort('CLOUD_COVER_LAND')\n",
    "    .first())\n",
    "snowImage = snowImage.multiply(0.0001)    \n",
    "\n",
    "Map.addLayer(snowImage, trueColor, 'snow image')\n"
   ]
  },
  {
   "cell_type": "markdown",
   "metadata": {},
   "source": [
    "Compute and display NDSI in Earth Engine:"
   ]
  },
  {
   "cell_type": "code",
   "execution_count": 17,
   "metadata": {},
   "outputs": [],
   "source": [
    "ndsi = snowImage.normalizedDifference(['B3', 'B6'])\n",
    "\n",
    "snowPalette = ['red', 'green', 'blue', 'white']\n",
    "Map.addLayer(ndsi, {min: -1, max: 1, 'palette': snowPalette}, 'NDSI')\n",
    "\n",
    "# bounds = point.buffer(100000)\n",
    "# Map.centerObject(bounds)"
   ]
  },
  {
   "cell_type": "code",
   "execution_count": 20,
   "metadata": {},
   "outputs": [],
   "source": [
    "# filtering snow\n",
    "snowMask = ndsi.gte(0)\n",
    "ndsi=ndsi.updateMask(snowMask)\n",
    "Map.addLayer(ndsi, {min: -1, max: 1, 'palette': snowPalette}, 'NDSI masked')\n"
   ]
  },
  {
   "cell_type": "markdown",
   "metadata": {},
   "source": [
    "## Assignment\n",
    "\n",
    "There are two types of indices : broadband and narrowband as shown in this paper: \"Evaluation of Broadband and Narrowband Vegetation Indices for the Identification of Archaeological Crop Marks\". Implement 4 other broadbands vegetation indices  for Logan UT as set up in this notebook? Do you note a difference in response between the NDVI  and EVI vs the ones you implemented in agricultural areas, bare soils, and water? Please explain it in a notebook.\n",
    "\n",
    "Completed the previous task, what you need to do to change it to use Sentinel-2 data? HINT: the \"sort('CLOUD_COVER_LAND')\" should be changed to \"sort('CLOUDY_PIXEL_PERCENTAGE'). Add it to your notebook.\n",
    "\n"
   ]
  },
  {
   "cell_type": "markdown",
   "metadata": {},
   "source": [
    "Explanation: "
   ]
  },
  {
   "cell_type": "code",
   "execution_count": null,
   "metadata": {},
   "outputs": [],
   "source": []
  }
 ],
 "metadata": {
  "kernelspec": {
   "display_name": "Python 3",
   "language": "python",
   "name": "python3"
  },
  "language_info": {
   "codemirror_mode": {
    "name": "ipython",
    "version": 3
   },
   "file_extension": ".py",
   "mimetype": "text/x-python",
   "name": "python",
   "nbconvert_exporter": "python",
   "pygments_lexer": "ipython3",
   "version": "3.7.8"
  },
  "latex_envs": {
   "LaTeX_envs_menu_present": true,
   "autoclose": false,
   "autocomplete": true,
   "bibliofile": "biblio.bib",
   "cite_by": "apalike",
   "current_citInitial": 1,
   "eqLabelWithNumbers": true,
   "eqNumInitial": 1,
   "hotkeys": {
    "equation": "Ctrl-E",
    "itemize": "Ctrl-I"
   },
   "labels_anchors": false,
   "latex_user_defs": false,
   "report_style_numbering": false,
   "user_envs_cfg": false
  }
 },
 "nbformat": 4,
 "nbformat_minor": 4
}
