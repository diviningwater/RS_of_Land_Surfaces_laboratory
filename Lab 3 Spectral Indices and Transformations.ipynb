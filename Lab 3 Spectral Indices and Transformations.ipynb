{
 "cells": [
  {
   "cell_type": "raw",
   "metadata": {},
   "source": [
    "YOUR NAME HERE: "
   ]
  },
  {
   "cell_type": "markdown",
   "metadata": {},
   "source": [
    "# Lab 3: Spectral indices and transformations"
   ]
  },
  {
   "cell_type": "code",
   "execution_count": 1,
   "metadata": {},
   "outputs": [
    {
     "name": "stdout",
     "output_type": "stream",
     "text": [
      "Updated by Alfonso Torres-Rua,  March 06, 2024\n"
     ]
    }
   ],
   "source": [
    "from datetime import date\n",
    "today = date.today()\n",
    "d2 = today.strftime(\"%B %d, %Y\")\n",
    "print(\"Updated by Alfonso Torres-Rua, \", d2)"
   ]
  },
  {
   "cell_type": "markdown",
   "metadata": {},
   "source": [
    "## Purpose: \n",
    "The purpose of this lab is to give you a tour of spectral indices that can be used to enhance phenomena of interest in remotely sensed images.  You will be introduced to methods for creating vegetation, water, snow, bare and burned area indices.  You will explore the Tasseled-cap and principal components transforms.  At the completion of the lab, you will be able to implement spectral indices and transforms to accentuate the information of interest in your study area.\n",
    "\n",
    "Prerequisites: Lab 3"
   ]
  },
  {
   "cell_type": "markdown",
   "metadata": {},
   "source": [
    "### Spectral indices\n",
    "Spectral indices are based on the fact that reflectance spectra of different land covers are different.  The indices are designed to exploit these differences to accentuate particular land cover types.  Consider the following chart of reflectance spectra for various targets:"
   ]
  },
  {
   "cell_type": "code",
   "execution_count": 2,
   "metadata": {},
   "outputs": [
    {
     "data": {
      "text/html": [
       "<img src='Lab 3 figures/lab 3 fig 1.png', width=500, height=200>\n"
      ],
      "text/plain": [
       "<IPython.core.display.HTML object>"
      ]
     },
     "metadata": {},
     "output_type": "display_data"
    }
   ],
   "source": [
    "%%html\n",
    "<img src='Lab 3 figures/lab 3 fig 1.png', width=500, height=200>"
   ]
  },
  {
   "cell_type": "markdown",
   "metadata": {},
   "source": [
    "Observe that the land covers are separable at one or more wavelengths.  Note, in particular, that vegetation curves (green) have relatively high reflectance in the NIR range, where radiant energy is scattered by cell walls ([Bowker et al. 1985](http://ntrs.nasa.gov/archive/nasa/casi.ntrs.nasa.gov/19850022138.pdf)).  Also note that vegetation has low reflectance in the red range, where radiant energy is [absorbed by chlorophyll](https://en.wikipedia.org/wiki/Chlorophyll#/media/File:Chlorophyll_ab_spectra-en.svg).  These observations motivate the formulation of vegetation indices, for example:"
   ]
  },
  {
   "cell_type": "markdown",
   "metadata": {},
   "source": [
    "### -NDVI.  \n",
    "The Normalized Difference Vegetation Index (NDVI) has a [long history](https://en.wikipedia.org/wiki/Normalized_Difference_Vegetation_Index) in remote sensing.  The typical formulation is\n",
    "\n",
    "NDVI = (NIR - red) / (NIR + red)\n",
    "\n",
    "Where NIR and red refer to reflectance, radiance or DN at the respective wavelength.  Implement indices of this form in Earth Engine with the normalizedDifference() method.  First, get an image of interest by drawing a Point named point, importing the Landsat 8 Collection 1 TOA as landsat8 and sorting the collection by cloud cover metadata:\n"
   ]
  },
  {
   "cell_type": "code",
   "execution_count": 3,
   "metadata": {},
   "outputs": [],
   "source": [
    "# Initializing display and earthengine\n",
    "from IPython.display import Image\n",
    "%matplotlib inline\n",
    "\n",
    "import ee\n",
    "ee.Initialize()"
   ]
  },
  {
   "cell_type": "code",
   "execution_count": 4,
   "metadata": {},
   "outputs": [],
   "source": [
    "# importing geemap for dynamic mapping\n",
    "import geemap"
   ]
  },
  {
   "cell_type": "code",
   "execution_count": 5,
   "metadata": {},
   "outputs": [],
   "source": [
    "# Define a location of interest as a point at Logan UT.\n",
    "\n",
    "latitude=41.735210\n",
    "longitude= -111.834862\n",
    "\n",
    "point = ee.Geometry.Point([longitude, latitude])"
   ]
  },
  {
   "cell_type": "code",
   "execution_count": 6,
   "metadata": {},
   "outputs": [
    {
     "name": "stdout",
     "output_type": "stream",
     "text": [
      "['SR_B1', 'SR_B2', 'SR_B3', 'SR_B4', 'SR_B5', 'SR_B6', 'SR_B7']\n"
     ]
    }
   ],
   "source": [
    "landsat8 =ee.ImageCollection(\"LANDSAT/LC08/C02/T1_L2\") #change\n",
    "\n",
    "image = ee.Image(landsat8\n",
    "    .filterBounds(point)\n",
    "    .filterDate('2021-06-01', '2021-09-01')\n",
    "    .sort('CLOUD_COVER_LAND')\n",
    "    .first())\n",
    "\n",
    "image = image.select(['SR_B1', 'SR_B2', 'SR_B3', 'SR_B4', 'SR_B5', 'SR_B6', 'SR_B7'])\n",
    "\n",
    "\n",
    "image = image.multiply(0.0000275).add(-0.2)\n",
    "\n",
    "trueColor = {'bands': ['SR_B4', 'SR_B3', 'SR_B2'], 'min': 0, 'max': 0.3}\n",
    "\n",
    "print(image.bandNames().getInfo())"
   ]
  },
  {
   "cell_type": "code",
   "execution_count": 7,
   "metadata": {},
   "outputs": [
    {
     "data": {
      "application/vnd.jupyter.widget-view+json": {
       "model_id": "70bb2c5720d14b7fa2a07e7dbd843b9e",
       "version_major": 2,
       "version_minor": 0
      },
      "text/plain": [
       "Map(center=[20, 0], controls=(WidgetControl(options=['position', 'transparent_bg'], widget=HBox(children=(Togg…"
      ]
     },
     "execution_count": 7,
     "metadata": {},
     "output_type": "execute_result"
    }
   ],
   "source": [
    "Map = geemap.Map() # from ipygee\n",
    "Map"
   ]
  },
  {
   "cell_type": "code",
   "execution_count": 8,
   "metadata": {},
   "outputs": [],
   "source": [
    "# add layer\n",
    "Map.addLayer(image, trueColor, name='Landsat8 Image')\n",
    "# zoom to the image\n",
    "bounds = point.buffer(10000)\n",
    "Map.centerObject(bounds)"
   ]
  },
  {
   "cell_type": "markdown",
   "metadata": {},
   "source": [
    "The NDVI computation is one line:\n"
   ]
  },
  {
   "cell_type": "code",
   "execution_count": 9,
   "metadata": {},
   "outputs": [],
   "source": [
    " ndvi = image.normalizedDifference(['SR_B5', 'SR_B4'])\n"
   ]
  },
  {
   "cell_type": "markdown",
   "metadata": {},
   "source": [
    "Display the NDVI image with a color palette (feel free to make a better one):"
   ]
  },
  {
   "cell_type": "code",
   "execution_count": 10,
   "metadata": {},
   "outputs": [
    {
     "data": {
      "application/vnd.jupyter.widget-view+json": {
       "model_id": "70bb2c5720d14b7fa2a07e7dbd843b9e",
       "version_major": 2,
       "version_minor": 0
      },
      "text/plain": [
       "Map(bottom=97836.0, center=[41.77131167976407, -111.62109375000001], controls=(WidgetControl(options=['positio…"
      ]
     },
     "execution_count": 10,
     "metadata": {},
     "output_type": "execute_result"
    }
   ],
   "source": [
    "# vegPalette= ['#0048FB','#FFFFFF','#CE7E45','#FAD163','#74A909','#3A7405','#1A3B03']\n",
    "vegPalette = ['white','red','yellow', 'green','blue']\n",
    "Map.addLayer(ndvi, {'min': 0, 'max': 1.0, 'palette': vegPalette},name = 'NDVI')\n",
    "Map"
   ]
  },
  {
   "cell_type": "markdown",
   "metadata": {},
   "source": [
    "### -EVI.  \n",
    "The Enhanced Vegetation Index (EVI) is designed to minimize saturation and background effects in NDVI ([Huete et al. 2002](https://www.sciencedirect.com/science/article/abs/pii/S0034425702000962).  Since it is not a normalized difference index, compute it with [an expression](https://developers.google.com/earth-engine/image_math#expressions):\n"
   ]
  },
  {
   "cell_type": "code",
   "execution_count": 11,
   "metadata": {},
   "outputs": [],
   "source": [
    "evi = image.expression(\n",
    "    '2.5 * ((NIR - RED) / (NIR + 6 * RED - 7.5 * BLUE + 1))', {\n",
    "      'NIR': image.select('SR_B5'),\n",
    "      'RED': image.select('SR_B4'),\n",
    "      'BLUE': image.select('SR_B2')\n",
    "})\n"
   ]
  },
  {
   "cell_type": "markdown",
   "metadata": {},
   "source": [
    "Observe that bands are referenced with the help of [an object](https://developer.mozilla.org/en-US/docs/Web/JavaScript/Guide/Grammar_and_Types#Object_literals) that is passed as the second argument to image.expression().  Display EVI:"
   ]
  },
  {
   "cell_type": "code",
   "execution_count": 12,
   "metadata": {},
   "outputs": [
    {
     "data": {
      "application/vnd.jupyter.widget-view+json": {
       "model_id": "70bb2c5720d14b7fa2a07e7dbd843b9e",
       "version_major": 2,
       "version_minor": 0
      },
      "text/plain": [
       "Map(bottom=97836.0, center=[41.77131167976407, -111.62109375000001], controls=(WidgetControl(options=['positio…"
      ]
     },
     "execution_count": 12,
     "metadata": {},
     "output_type": "execute_result"
    }
   ],
   "source": [
    "Map.addLayer(evi, {'min': 0, 'max': 1, 'palette': vegPalette}, 'EVI')\n",
    "Map"
   ]
  },
  {
   "cell_type": "markdown",
   "metadata": {},
   "source": [
    "Compare EVI to NDVI.  What do you observe?"
   ]
  },
  {
   "cell_type": "markdown",
   "metadata": {},
   "source": [
    "### -NDWI.  \n",
    "The Normalized Difference Water Index (NDWI) was developed by Gao (1996) as an index of vegetation water content:\n",
    "\n",
    "NDWI = (NIR - SWIR) / (NIR + SWIR)\n",
    "\n",
    "Compute NDWI in Earth Engine with:\n"
   ]
  },
  {
   "cell_type": "code",
   "execution_count": 13,
   "metadata": {},
   "outputs": [],
   "source": [
    "ndwi = image.normalizedDifference(['SR_B5', 'SR_B3'])"
   ]
  },
  {
   "cell_type": "markdown",
   "metadata": {},
   "source": [
    "And display:"
   ]
  },
  {
   "cell_type": "code",
   "execution_count": 14,
   "metadata": {},
   "outputs": [
    {
     "data": {
      "application/vnd.jupyter.widget-view+json": {
       "model_id": "70bb2c5720d14b7fa2a07e7dbd843b9e",
       "version_major": 2,
       "version_minor": 0
      },
      "text/plain": [
       "Map(bottom=97836.0, center=[41.77131167976407, -111.62109375000001], controls=(WidgetControl(options=['positio…"
      ]
     },
     "execution_count": 14,
     "metadata": {},
     "output_type": "execute_result"
    }
   ],
   "source": [
    "waterPalette = ['blue', 'white']\n",
    "Map.addLayer(ndwi, {'min': 0, 'max': 1, 'palette': vegPalette}, 'NDWI')\n",
    "Map"
   ]
  },
  {
   "cell_type": "code",
   "execution_count": 15,
   "metadata": {},
   "outputs": [
    {
     "data": {
      "application/vnd.jupyter.widget-view+json": {
       "model_id": "70bb2c5720d14b7fa2a07e7dbd843b9e",
       "version_major": 2,
       "version_minor": 0
      },
      "text/plain": [
       "Map(bottom=97836.0, center=[41.77131167976407, -111.62109375000001], controls=(WidgetControl(options=['positio…"
      ]
     },
     "execution_count": 15,
     "metadata": {},
     "output_type": "execute_result"
    }
   ],
   "source": [
    "# filtering the data using the NDWI values itself:\n",
    "waterMask =ndwi.lte(0) # selecting only negative values\n",
    "\n",
    "ndwi = ndwi.updateMask(waterMask)\n",
    "Map.addLayer(ndwi, {'min': -1, 'max': 1, 'palette': waterPalette}, 'NDWI masked')\n",
    "Map"
   ]
  },
  {
   "cell_type": "markdown",
   "metadata": {},
   "source": [
    "Note that this is not an exact implementation of NDWI, according to the OLI spectral response, since OLI does not have a band in the right position (1.26 𝛍m)."
   ]
  },
  {
   "cell_type": "markdown",
   "metadata": {},
   "source": [
    "### -NDBSI.  \n",
    "The Normalized Difference Bare Soil Index (NDBSI) aids in the differentiation of no vegetation locations:\n",
    "\n",
    "NDBI = ((SWIR + RED) - (NIR + BLUE)) / ((SWIR + RED) + (NIR + BLUE))\n"
   ]
  },
  {
   "cell_type": "code",
   "execution_count": 16,
   "metadata": {},
   "outputs": [
    {
     "data": {
      "application/vnd.jupyter.widget-view+json": {
       "model_id": "70bb2c5720d14b7fa2a07e7dbd843b9e",
       "version_major": 2,
       "version_minor": 0
      },
      "text/plain": [
       "Map(bottom=97836.0, center=[41.77131167976407, -111.62109375000001], controls=(WidgetControl(options=['positio…"
      ]
     },
     "execution_count": 16,
     "metadata": {},
     "output_type": "execute_result"
    }
   ],
   "source": [
    "b6b4 = image.select('SR_B6').add(image.select('SR_B4'))\n",
    "b5b2 = image.select('SR_B5').add(image.select('SR_B2'))\n",
    "NDBSI = b5b2.subtract(b6b4).divide(b5b2.add(b6b4)) #normalized difference bare soil index\n",
    "\n",
    "# barePalette = waterPalette = [ 'blue','white']\n",
    "\n",
    "Map.addLayer(NDBSI, {'min': -1, 'max': 1, 'palette': vegPalette}, 'NDBSI')\n",
    "Map"
   ]
  },
  {
   "cell_type": "code",
   "execution_count": 17,
   "metadata": {},
   "outputs": [
    {
     "data": {
      "application/vnd.jupyter.widget-view+json": {
       "model_id": "70bb2c5720d14b7fa2a07e7dbd843b9e",
       "version_major": 2,
       "version_minor": 0
      },
      "text/plain": [
       "Map(bottom=97836.0, center=[41.77131167976407, -111.62109375000001], controls=(WidgetControl(options=['positio…"
      ]
     },
     "execution_count": 17,
     "metadata": {},
     "output_type": "execute_result"
    }
   ],
   "source": [
    "# filtering only bare soil\n",
    "bareMask= NDBSI.lte(0)\n",
    "NDBSI=NDBSI.updateMask(bareMask)\n",
    "Map.addLayer(NDBSI, {'min': -1, 'max': 1, 'palette': vegPalette}, 'NDBSI masked')\n",
    "Map"
   ]
  },
  {
   "cell_type": "markdown",
   "metadata": {},
   "source": [
    "### -NDSI.  \n",
    "The Normalized Difference Snow Index (NDSI) was designed to estimate the amount of a pixel covered in snow ([Riggs et al. 1994](https://ieeexplore.ieee.org/document/399618/)):\n",
    "\n",
    "NDSI = (green - SWIR) / (green + SWIR)\n",
    "\n",
    "First, find a snow covered scene to test the index:\n"
   ]
  },
  {
   "cell_type": "code",
   "execution_count": 18,
   "metadata": {},
   "outputs": [
    {
     "data": {
      "application/vnd.jupyter.widget-view+json": {
       "model_id": "70bb2c5720d14b7fa2a07e7dbd843b9e",
       "version_major": 2,
       "version_minor": 0
      },
      "text/plain": [
       "Map(bottom=97836.0, center=[41.77131167976407, -111.62109375000001], controls=(WidgetControl(options=['positio…"
      ]
     },
     "execution_count": 18,
     "metadata": {},
     "output_type": "execute_result"
    }
   ],
   "source": [
    "snowImage = ee.Image(landsat8\n",
    "    .filterBounds(point) #ee.Geometry.Point(-120.0421, 39.1002))\n",
    "    .filterDate('2021-12-15', '2022-02-01')\n",
    "    .sort('CLOUD_COVER_LAND')\n",
    "    .first())\n",
    "\n",
    "snowImage = snowImage.select(['SR_B1', 'SR_B2', 'SR_B3', 'SR_B4', 'SR_B5', 'SR_B6', 'SR_B7'])\n",
    "\n",
    "\n",
    "snowImage = snowImage.multiply(0.0000275).add(-0.2)\n",
    "\n",
    "trueColor = {'bands': ['SR_B4', 'SR_B3', 'SR_B2'], 'min': 0, 'max': 1.0}\n",
    "\n",
    "\n",
    "Map.addLayer(snowImage, trueColor, 'snow image')\n",
    "Map"
   ]
  },
  {
   "cell_type": "markdown",
   "metadata": {},
   "source": [
    "Compute and display NDSI in Earth Engine:"
   ]
  },
  {
   "cell_type": "code",
   "execution_count": 19,
   "metadata": {},
   "outputs": [
    {
     "data": {
      "application/vnd.jupyter.widget-view+json": {
       "model_id": "70bb2c5720d14b7fa2a07e7dbd843b9e",
       "version_major": 2,
       "version_minor": 0
      },
      "text/plain": [
       "Map(bottom=97836.0, center=[41.77131167976407, -111.62109375000001], controls=(WidgetControl(options=['positio…"
      ]
     },
     "execution_count": 19,
     "metadata": {},
     "output_type": "execute_result"
    }
   ],
   "source": [
    "ndsi = snowImage.normalizedDifference(['SR_B3', 'SR_B6'])\n",
    "\n",
    "snowPalette = ['red', 'green', 'blue', 'white']\n",
    "Map.addLayer(ndsi, {'min': -1, 'max': 1, 'palette': snowPalette}, 'NDSI')\n",
    "Map\n",
    "# bounds = point.buffer(100000)\n",
    "# Map.centerObject(bounds)"
   ]
  },
  {
   "cell_type": "code",
   "execution_count": 20,
   "metadata": {},
   "outputs": [
    {
     "data": {
      "application/vnd.jupyter.widget-view+json": {
       "model_id": "70bb2c5720d14b7fa2a07e7dbd843b9e",
       "version_major": 2,
       "version_minor": 0
      },
      "text/plain": [
       "Map(bottom=12410.0, center=[42.439674178149446, -110.48400878906251], controls=(WidgetControl(options=['positi…"
      ]
     },
     "execution_count": 20,
     "metadata": {},
     "output_type": "execute_result"
    }
   ],
   "source": [
    "# filtering snow\n",
    "snowMask = ndsi.gte(0)\n",
    "ndsi=ndsi.updateMask(snowMask)\n",
    "Map.addLayer(ndsi, {'min': -1, 'max': 1, 'palette': snowPalette}, 'NDSI masked')\n",
    "Map"
   ]
  },
  {
   "cell_type": "markdown",
   "metadata": {},
   "source": [
    "## Assignment\n",
    "\n",
    "There are two types of indices : broadband and narrowband as shown in this paper: \"Evaluation of Broadband and Narrowband Vegetation Indices for the Identification of Archaeological Crop Marks\". Implement 4 other broadbands vegetation indices  for Logan UT as set up in this notebook Do you note a difference in response between the NDVI  and EVI vs the ones you implemented in agricultural areas, bare soils, and water? Please explain it in a notebook.\n",
    "\n",
    "Completed the previous task, create a second notebook but change it to use Sentinel-2 data for all indexes in the previous notebook. HINT: the \"sort('CLOUD_COVER_LAND')\" should be changed to \"sort('CLOUDY_PIXEL_PERCENTAGE'), sure the same scaling (0.0001), and make sure the bands uses the righ names and Sentinel-2 bands correspond to Landsat8 (spectrally). \n",
    "\n"
   ]
  },
  {
   "cell_type": "markdown",
   "metadata": {},
   "source": [
    "Explanation: "
   ]
  },
  {
   "cell_type": "code",
   "execution_count": null,
   "metadata": {},
   "outputs": [],
   "source": []
  }
 ],
 "metadata": {
  "kernelspec": {
   "display_name": "Python 3 (ipykernel)",
   "language": "python",
   "name": "python3"
  },
  "language_info": {
   "codemirror_mode": {
    "name": "ipython",
    "version": 3
   },
   "file_extension": ".py",
   "mimetype": "text/x-python",
   "name": "python",
   "nbconvert_exporter": "python",
   "pygments_lexer": "ipython3",
   "version": "3.9.7"
  },
  "latex_envs": {
   "LaTeX_envs_menu_present": true,
   "autoclose": false,
   "autocomplete": true,
   "bibliofile": "biblio.bib",
   "cite_by": "apalike",
   "current_citInitial": 1,
   "eqLabelWithNumbers": true,
   "eqNumInitial": 1,
   "hotkeys": {
    "equation": "Ctrl-E",
    "itemize": "Ctrl-I"
   },
   "labels_anchors": false,
   "latex_user_defs": false,
   "report_style_numbering": false,
   "user_envs_cfg": false
  },
  "widgets": {
   "application/vnd.jupyter.widget-state+json": {
    "state": {
     "006f252142a444a1947b77f7e3711a0a": {
      "model_module": "@jupyter-widgets/controls",
      "model_module_version": "2.0.0",
      "model_name": "ToggleButtonStyleModel",
      "state": {
       "description_width": "",
       "font_family": null,
       "font_size": null,
       "font_style": null,
       "font_variant": null,
       "font_weight": null,
       "text_color": null,
       "text_decoration": null
      }
     },
     "00d592f89a5c48ce8be17ed0318eb559": {
      "model_module": "@jupyter-widgets/controls",
      "model_module_version": "2.0.0",
      "model_name": "LinkModel",
      "state": {
       "source": [
        "IPY_MODEL_b073d89940c6411c9d99f61f7f0da278",
        "value"
       ],
       "target": [
        "IPY_MODEL_094ce966747b4f2aa8ce644a1cdf3b4f",
        "visible"
       ]
      }
     },
     "00dc3286a5fe4913a238f83fffa1dde2": {
      "model_module": "@jupyter-widgets/controls",
      "model_module_version": "2.0.0",
      "model_name": "ToggleButtonModel",
      "state": {
       "icon": "gear",
       "layout": "IPY_MODEL_e09991a854a4498897de2c6810cbe302",
       "style": "IPY_MODEL_dacacc0ac2f9412a8f7ac425e46429a8",
       "tooltip": "NDVI"
      }
     },
     "0295493e37e148819e05fe1d591e8a3c": {
      "model_module": "ipytree",
      "model_module_version": "^0.2",
      "model_name": "NodeModel",
      "state": {
       "_id": "848109d1-b01f-4c02-9aea-46defba5a181",
       "_model_module_version": "^0.2",
       "_view_module_version": "^0.2",
       "icon": "file",
       "name": "type: Image"
      }
     },
     "03083e0858ba476daefe6798d1e39541": {
      "model_module": "@jupyter-widgets/controls",
      "model_module_version": "2.0.0",
      "model_name": "ToggleButtonModel",
      "state": {
       "icon": "gear",
       "layout": "IPY_MODEL_7865d5b463614a1bb89b7faf8b37a452",
       "style": "IPY_MODEL_d1d1abe13197404a86a91a74346fb343",
       "tooltip": "NDBSI masked"
      }
     },
     "030d881c87124da3a75c1ab653a94e31": {
      "model_module": "@jupyter-widgets/controls",
      "model_module_version": "2.0.0",
      "model_name": "CheckboxStyleModel",
      "state": {
       "description_width": ""
      }
     },
     "0485dfe1ffa74815ad295e8eea4b7bda": {
      "model_module": "@jupyter-widgets/controls",
      "model_module_version": "2.0.0",
      "model_name": "ToggleButtonModel",
      "state": {
       "button_style": "primary",
       "icon": "eraser",
       "layout": "IPY_MODEL_e1e7f513d4924c5489a617613b946346",
       "style": "IPY_MODEL_cdb40be8e3a5459b97c338a982bce246",
       "tooltip": "Remove all drawn features"
      }
     },
     "048a714dddd64a7bb0a21664ed10ee1d": {
      "model_module": "ipytree",
      "model_module_version": "^0.2",
      "model_name": "NodeModel",
      "state": {
       "_id": "30b74eab-8f1d-4492-9dcb-662700cc6eff",
       "_model_module_version": "^0.2",
       "_view_module_version": "^0.2",
       "icon": "file",
       "name": "2: 341985"
      }
     },
     "04f28af0898a4424a044f16fd283c3e9": {
      "model_module": "@jupyter-widgets/controls",
      "model_module_version": "2.0.0",
      "model_name": "LinkModel",
      "state": {
       "source": [
        "IPY_MODEL_f8f2f945f0a44e6bad90fd3d7c371d50",
        "value"
       ],
       "target": [
        "IPY_MODEL_76f983146efe4f719102356cb1e799db",
        "visible"
       ]
      }
     },
     "051c25d2bfc44299a78f52528d7b5dea": {
      "model_module": "@jupyter-widgets/controls",
      "model_module_version": "2.0.0",
      "model_name": "HBoxModel",
      "state": {
       "children": [
        "IPY_MODEL_6f5e5295027f44a68f9d17bdd953a01d",
        "IPY_MODEL_8d78e8a829274773b1df17d7594fefd2",
        "IPY_MODEL_5c7831a4e9cc4dad80adbc297fcc243d"
       ],
       "layout": "IPY_MODEL_2a40455f72d34b31977d8dbf276cf6fc"
      }
     },
     "052dc156a5c54bf48aa8896c76e5e20d": {
      "model_module": "@jupyter-widgets/base",
      "model_module_version": "2.0.0",
      "model_name": "LayoutModel",
      "state": {
       "height": "28px",
       "width": "72px"
      }
     },
     "05e353997a4f49be8e7ab07278eed30b": {
      "model_module": "ipytree",
      "model_module_version": "^0.2",
      "model_name": "NodeModel",
      "state": {
       "_id": "6f4bd1a2-910c-4d71-b702-969eae15e2a5",
       "_model_module_version": "^0.2",
       "_view_module_version": "^0.2",
       "icon": "file",
       "name": "3: 0"
      }
     },
     "06e931074b3c4b58905b7bee24a36336": {
      "model_module": "ipytree",
      "model_module_version": "^0.2",
      "model_name": "NodeModel",
      "state": {
       "_id": "8370130b-2aae-4b70-9864-51c0cedcc0be",
       "_model_module_version": "^0.2",
       "_view_module_version": "^0.2",
       "name": "NDSI: Image (1 band)",
       "nodes": [
        "IPY_MODEL_71563b07550a49bea99445e6383e6fad"
       ]
      }
     },
     "06ea84714d2441c8bf308569d6322585": {
      "model_module": "ipytree",
      "model_module_version": "^0.2",
      "model_name": "TreeModel",
      "state": {
       "_model_module_version": "^0.2",
       "_view_module_version": "^0.2",
       "layout": "IPY_MODEL_52f5e1bdd1a94d59ab2eeb8a1f372d93",
       "nodes": [
        "IPY_MODEL_de319bcf08d84da38faeab6a9995a84f",
        "IPY_MODEL_5c79fcf2027d418e83fd92a51b34e2e8",
        "IPY_MODEL_d45d6e4aa99945b7a28fc316ee4d78c7"
       ]
      }
     },
     "072b860f5a6e4e8ab655ab6a4443a827": {
      "model_module": "@jupyter-widgets/controls",
      "model_module_version": "2.0.0",
      "model_name": "LabelModel",
      "state": {
       "layout": "IPY_MODEL_4ac0990e4eda42d88ca6d937549a36cf",
       "style": "IPY_MODEL_78e0fa237efd4412bc06725e54af5e75"
      }
     },
     "076f84dd3e63451092dbd5f8f555d688": {
      "model_module": "@jupyter-widgets/controls",
      "model_module_version": "2.0.0",
      "model_name": "ToggleButtonModel",
      "state": {
       "icon": "wrench",
       "layout": "IPY_MODEL_2597ef96f2fd44caa7aa5d82fad02221",
       "style": "IPY_MODEL_006f252142a444a1947b77f7e3711a0a",
       "tooltip": "Toolbar",
       "value": true
      }
     },
     "07b0ebae2034404d85d0016a9bc2fbb9": {
      "model_module": "jupyter-leaflet",
      "model_module_version": "^0.17",
      "model_name": "LeafletZoomControlModel",
      "state": {
       "_model_module_version": "^0.17",
       "_view_module_version": "^0.17",
       "options": [
        "position",
        "zoom_in_text",
        "zoom_in_title",
        "zoom_out_text",
        "zoom_out_title"
       ]
      }
     },
     "080ecc95f6d54a55912fd29a848a5bc8": {
      "model_module": "jupyter-leaflet",
      "model_module_version": "^0.17",
      "model_name": "LeafletWidgetControlModel",
      "state": {
       "_model_module": "jupyter-leaflet",
       "_model_module_version": "^0.17",
       "_view_count": null,
       "_view_module": "jupyter-leaflet",
       "_view_module_version": "^0.17",
       "options": [
        "position",
        "transparent_bg"
       ],
       "position": "topright",
       "widget": "IPY_MODEL_975be7ff707d4524a5c331ae1231fa2f"
      }
     },
     "08796758572140c1a192ea029bdf35e4": {
      "model_module": "@jupyter-widgets/base",
      "model_module_version": "2.0.0",
      "model_name": "LayoutModel",
      "state": {}
     },
     "094ce966747b4f2aa8ce644a1cdf3b4f": {
      "model_module": "jupyter-leaflet",
      "model_module_version": "^0.17",
      "model_name": "LeafletTileLayerModel",
      "state": {
       "_model_module_version": "^0.17",
       "_view_module_version": "^0.17",
       "attribution": "Google Earth Engine",
       "max_zoom": 24,
       "name": "NDSI",
       "options": [
        "attribution",
        "bounds",
        "detect_retina",
        "max_native_zoom",
        "max_zoom",
        "min_native_zoom",
        "min_zoom",
        "no_wrap",
        "tile_size",
        "tms",
        "zoom_offset"
       ],
       "url": "https://earthengine.googleapis.com/v1/projects/earthengine-legacy/maps/dbc540adfeb9f2e327b428fb2ce1e471-bf00627ebb76658e6e2264bcbcbf43a4/tiles/{z}/{x}/{y}"
      }
     },
     "0a346e4e2ccf4c5a968338f2e543a8f6": {
      "model_module": "@jupyter-widgets/controls",
      "model_module_version": "2.0.0",
      "model_name": "HBoxModel",
      "state": {
       "children": [
        "IPY_MODEL_19511e4092bb4e6882ec57d39be14e3f",
        "IPY_MODEL_10b2b9484064424e8402a325b377515e",
        "IPY_MODEL_5e7982f0e76947ee85965ac815208f79"
       ],
       "layout": "IPY_MODEL_dd6e03eda13f4e26b49a8bcc49a45bce"
      }
     },
     "0ac5753bce9346ac884aff5f048a4a91": {
      "model_module": "@jupyter-widgets/controls",
      "model_module_version": "2.0.0",
      "model_name": "HBoxModel",
      "state": {
       "children": [
        "IPY_MODEL_bf4e2b07b0e24f6cb8ca25f07e5ed2d2",
        "IPY_MODEL_2b9afde59aab4a9893bb300b911b9afe",
        "IPY_MODEL_6d9ff2f0cd1742e0a36eba11a06163d6"
       ],
       "layout": "IPY_MODEL_ff24f4b1ed1449c988b30dbf4106aa73"
      }
     },
     "0c0686cc6abb4bedba0318c625c40e1f": {
      "model_module": "@jupyter-widgets/controls",
      "model_module_version": "2.0.0",
      "model_name": "LinkModel",
      "state": {
       "source": [
        "IPY_MODEL_6deb1dae793c46d8b3040a5078cbbf5f",
        "value"
       ],
       "target": [
        "IPY_MODEL_649b0021558d4faca19417ba0a7de02a",
        "visible"
       ]
      }
     },
     "0c2399bd9cf348be8359e880e04389cd": {
      "model_module": "@jupyter-widgets/controls",
      "model_module_version": "2.0.0",
      "model_name": "ToggleButtonStyleModel",
      "state": {
       "description_width": "",
       "font_family": null,
       "font_size": null,
       "font_style": null,
       "font_variant": null,
       "font_weight": null,
       "text_color": null,
       "text_decoration": null
      }
     },
     "0d1a586fc4d943be87d0fe6b966ce54a": {
      "model_module": "@jupyter-widgets/base",
      "model_module_version": "2.0.0",
      "model_name": "LayoutModel",
      "state": {}
     },
     "0d49757e4b934868a3112326203ec055": {
      "model_module": "@jupyter-widgets/controls",
      "model_module_version": "2.0.0",
      "model_name": "CheckboxStyleModel",
      "state": {
       "description_width": ""
      }
     },
     "0db749ec823c4543ba40ef97d71ec029": {
      "model_module": "@jupyter-widgets/base",
      "model_module_version": "2.0.0",
      "model_name": "LayoutModel",
      "state": {
       "height": "auto",
       "padding": "0px 0px 0px 4px",
       "width": "auto"
      }
     },
     "0dfc759335a646cc92a654a4e7210d07": {
      "model_module": "@jupyter-widgets/controls",
      "model_module_version": "2.0.0",
      "model_name": "FloatSliderModel",
      "state": {
       "behavior": "drag-tap",
       "layout": "IPY_MODEL_61686c49e6f44ee0a6b29f60a61d8da9",
       "max": 1,
       "readout": false,
       "step": 0.01,
       "style": "IPY_MODEL_b9a9d2d107a248dd82f40a1701831f02",
       "value": 1
      }
     },
     "0e2a6b6b9b6b40beafac20160387ca6a": {
      "model_module": "@jupyter-widgets/controls",
      "model_module_version": "2.0.0",
      "model_name": "ToggleButtonStyleModel",
      "state": {
       "description_width": "",
       "font_family": null,
       "font_size": null,
       "font_style": null,
       "font_variant": null,
       "font_weight": null,
       "text_color": null,
       "text_decoration": null
      }
     },
     "0e520a71690e4da2a04762a75090f106": {
      "model_module": "ipytree",
      "model_module_version": "^0.2",
      "model_name": "NodeModel",
      "state": {
       "_id": "8d4a37a7-c6ae-4599-86a1-9734bc22b51a",
       "_model_module_version": "^0.2",
       "_view_module_version": "^0.2",
       "name": "Scale (approx. m/px): 113.83468928780805"
      }
     },
     "0e771259d7314882841057ff4d55cae0": {
      "model_module": "@jupyter-widgets/controls",
      "model_module_version": "2.0.0",
      "model_name": "LinkModel",
      "state": {
       "source": [
        "IPY_MODEL_2e731e596a7d4102b7b9d5c5e0435efc",
        "value"
       ],
       "target": [
        "IPY_MODEL_4853eef2d9ec4498a3696de01a4206b4",
        "visible"
       ]
      }
     },
     "0e9f8c2bcd344b58b7bddcdb5a35e365": {
      "model_module": "jupyter-leaflet",
      "model_module_version": "^0.17",
      "model_name": "LeafletTileLayerModel",
      "state": {
       "_model_module_version": "^0.17",
       "_view_module_version": "^0.17",
       "attribution": "&copy; <a href=\"https://www.openstreetmap.org/copyright\">OpenStreetMap</a> contributors",
       "base": true,
       "max_zoom": 19,
       "min_zoom": 1,
       "name": "OpenStreetMap.Mapnik",
       "options": [
        "attribution",
        "bounds",
        "detect_retina",
        "max_native_zoom",
        "max_zoom",
        "min_native_zoom",
        "min_zoom",
        "no_wrap",
        "tile_size",
        "tms",
        "zoom_offset"
       ],
       "url": "https://tile.openstreetmap.org/{z}/{x}/{y}.png"
      }
     },
     "0fd3401ad3ca41368efc2bd5fc1840ed": {
      "model_module": "@jupyter-widgets/controls",
      "model_module_version": "2.0.0",
      "model_name": "DirectionalLinkModel",
      "state": {
       "source": [
        "IPY_MODEL_8123cf5ffb3e4e39a56b4532d7e0621f",
        "value"
       ],
       "target": [
        "IPY_MODEL_76f983146efe4f719102356cb1e799db",
        "opacity"
       ]
      }
     },
     "1082550b1c414c2bb49d6d13d793889c": {
      "model_module": "@jupyter-widgets/controls",
      "model_module_version": "2.0.0",
      "model_name": "HBoxModel",
      "state": {
       "children": [
        "IPY_MODEL_e1d3edb3fd0e4cd282bc0b50ad2b3b88",
        "IPY_MODEL_286bd9d1847b4c2ea08bfaf7fe33cb65"
       ],
       "layout": "IPY_MODEL_40e7001ad4b94eefad4fb05a554730a0"
      }
     },
     "10b2b9484064424e8402a325b377515e": {
      "model_module": "@jupyter-widgets/controls",
      "model_module_version": "2.0.0",
      "model_name": "ToggleButtonModel",
      "state": {
       "icon": "gear",
       "layout": "IPY_MODEL_f297227ccdb34370ae375b4c1764459e",
       "style": "IPY_MODEL_1bde6aceb4f240c1914fd2b4ce1f4902",
       "tooltip": "NDBSI"
      }
     },
     "10b6365c051d4090994e2edcf05417e1": {
      "model_module": "@jupyter-widgets/base",
      "model_module_version": "2.0.0",
      "model_name": "LayoutModel",
      "state": {
       "height": "auto",
       "padding": "0px 0px 0px 4px",
       "width": "auto"
      }
     },
     "10d379fac6db4adea883c87f95fe08e0": {
      "model_module": "@jupyter-widgets/controls",
      "model_module_version": "2.0.0",
      "model_name": "CheckboxStyleModel",
      "state": {
       "description_width": ""
      }
     },
     "112bb450a79541fc999bd051a6197038": {
      "model_module": "@jupyter-widgets/controls",
      "model_module_version": "2.0.0",
      "model_name": "FloatSliderModel",
      "state": {
       "behavior": "drag-tap",
       "layout": "IPY_MODEL_dcddb0709477455bad85881d4c757a6b",
       "max": 1,
       "readout": false,
       "step": 0.01,
       "style": "IPY_MODEL_f53db3d9a04141e2b247d0a357c7295b",
       "value": 1
      }
     },
     "1159bb7cc90044a892291bdc527abc3f": {
      "model_module": "@jupyter-widgets/base",
      "model_module_version": "2.0.0",
      "model_name": "LayoutModel",
      "state": {
       "height": "25px",
       "padding": "0px 0px 0px 5px",
       "width": "25px"
      }
     },
     "116025477eca434cac6e1cc364eb1efe": {
      "model_module": "@jupyter-widgets/controls",
      "model_module_version": "2.0.0",
      "model_name": "HBoxModel",
      "state": {
       "children": [
        "IPY_MODEL_b073d89940c6411c9d99f61f7f0da278",
        "IPY_MODEL_667130e72ece4b618bacd739c66bcc0e",
        "IPY_MODEL_6f00716f82c54996975efbf264b5b796"
       ],
       "layout": "IPY_MODEL_8ffbc6d23d05496baf45527a37845588"
      }
     },
     "11995e937ab94f699b54f25f90712fbe": {
      "model_module": "ipytree",
      "model_module_version": "^0.2",
      "model_name": "NodeModel",
      "state": {
       "_id": "42bce0fb-206c-49fc-a795-dcb40c504b2e",
       "_model_module_version": "^0.2",
       "_view_module_version": "^0.2",
       "icon": "file",
       "name": "1: 7901"
      }
     },
     "11b47029f23744bca5f430d113f9ee91": {
      "model_module": "@jupyter-widgets/base",
      "model_module_version": "2.0.0",
      "model_name": "LayoutModel",
      "state": {
       "height": "28px",
       "padding": "0px 0px 0px 4px",
       "width": "28px"
      }
     },
     "12747a1fd36e4d6897dffdc48ebe31f1": {
      "model_module": "@jupyter-widgets/controls",
      "model_module_version": "2.0.0",
      "model_name": "LinkModel",
      "state": {
       "source": [
        "IPY_MODEL_1fa524b6380b4967a7d9c106593384a9",
        "value"
       ],
       "target": [
        "IPY_MODEL_73f8dcd1ad0b428c88e36701fef0a659",
        "visible"
       ]
      }
     },
     "12c8e64e79784cb79ddabc6ffce6a385": {
      "model_module": "jupyter-leaflet",
      "model_module_version": "^0.17",
      "model_name": "LeafletWidgetControlModel",
      "state": {
       "_model_module": "jupyter-leaflet",
       "_model_module_version": "^0.17",
       "_view_count": null,
       "_view_module": "jupyter-leaflet",
       "_view_module_version": "^0.17",
       "options": [
        "position",
        "transparent_bg"
       ],
       "position": "topright",
       "widget": "IPY_MODEL_bbb9c3c507d34636b6e25ae0e9657474"
      }
     },
     "133c7a2f0c134878b2096d346eec7b2e": {
      "model_module": "@jupyter-widgets/base",
      "model_module_version": "2.0.0",
      "model_name": "LayoutModel",
      "state": {
       "height": "18px",
       "padding": "0px 8px 25px 8px",
       "width": "30ex"
      }
     },
     "1358abac35d64d42b4a6825334e0b5e4": {
      "model_module": "@jupyter-widgets/base",
      "model_module_version": "2.0.0",
      "model_name": "LayoutModel",
      "state": {
       "padding": "0px 8px 0px 8px"
      }
     },
     "13d7b3343fe14df381a9dbe543dc7570": {
      "model_module": "@jupyter-widgets/controls",
      "model_module_version": "2.0.0",
      "model_name": "HTMLStyleModel",
      "state": {
       "description_width": "",
       "font_size": null,
       "text_color": null
      }
     },
     "143a38f464c4460abd1c8268d29514c6": {
      "model_module": "@jupyter-widgets/base",
      "model_module_version": "2.0.0",
      "model_name": "LayoutModel",
      "state": {
       "padding": "0px 8px 0px 8px"
      }
     },
     "14ad4fc53c76437a931de0bb2f9447da": {
      "model_module": "jupyter-leaflet",
      "model_module_version": "^0.17",
      "model_name": "LeafletTileLayerModel",
      "state": {
       "_model_module_version": "^0.17",
       "_view_module_version": "^0.17",
       "attribution": "Google Earth Engine",
       "max_zoom": 24,
       "name": "NDWI",
       "options": [
        "attribution",
        "bounds",
        "detect_retina",
        "max_native_zoom",
        "max_zoom",
        "min_native_zoom",
        "min_zoom",
        "no_wrap",
        "tile_size",
        "tms",
        "zoom_offset"
       ],
       "url": "https://earthengine.googleapis.com/v1/projects/earthengine-legacy/maps/19483cbf4b48c0ba70baf2cc53f4428f-72d800d6bd4b1f1519c82f5f5a38eef3/tiles/{z}/{x}/{y}",
       "visible": false
      }
     },
     "14e74ef881e64c50a88b15652fa56b9d": {
      "model_module": "@jupyter-widgets/controls",
      "model_module_version": "2.0.0",
      "model_name": "ToggleButtonModel",
      "state": {
       "icon": "gear",
       "layout": "IPY_MODEL_b82650a4f33b448f98122228a9ede811",
       "style": "IPY_MODEL_8eeb479f12ba48ce942fda7a1fca279c",
       "tooltip": "NDWI masked"
      }
     },
     "15099bf35419420a8b5dbce0351173ba": {
      "model_module": "ipytree",
      "model_module_version": "^0.2",
      "model_name": "NodeModel",
      "state": {
       "_id": "b2a205c9-bce9-4822-b094-586b04d2922f",
       "_model_module_version": "^0.2",
       "_view_module_version": "^0.2",
       "icon": "file",
       "name": "0: 7791"
      }
     },
     "151c169c0cb44f579325ce664a0c36e6": {
      "model_module": "@jupyter-widgets/controls",
      "model_module_version": "2.0.0",
      "model_name": "ToggleButtonStyleModel",
      "state": {
       "description_width": "",
       "font_family": null,
       "font_size": null,
       "font_style": null,
       "font_variant": null,
       "font_weight": null,
       "text_color": null,
       "text_decoration": null
      }
     },
     "15cbfd76945f406082745997f3ee283d": {
      "model_module": "ipytree",
      "model_module_version": "^0.2",
      "model_name": "NodeModel",
      "state": {
       "_id": "6f4f2222-ff31-4b4f-861c-f35cf7a7071f",
       "_model_module_version": "^0.2",
       "_view_module_version": "^0.2",
       "icon": "file",
       "name": "id: nd"
      }
     },
     "168bf79841f04bf7816dfe3674c2d979": {
      "model_module": "@jupyter-widgets/base",
      "model_module_version": "2.0.0",
      "model_name": "LayoutModel",
      "state": {
       "width": "80px"
      }
     },
     "1718e336e5934f8f90ea2f7ce3ccee2b": {
      "model_module": "ipytree",
      "model_module_version": "^0.2",
      "model_name": "NodeModel",
      "state": {
       "_id": "a6b38d7c-5db9-48d3-8bf7-8fb87475efd9",
       "_model_module_version": "^0.2",
       "_view_module_version": "^0.2",
       "icon": "file",
       "name": "2: 341985"
      }
     },
     "172c0d60b8984daaba923ad7d67caf54": {
      "model_module": "@jupyter-widgets/base",
      "model_module_version": "2.0.0",
      "model_name": "LayoutModel",
      "state": {
       "height": "18px",
       "width": "140px"
      }
     },
     "17bbc429fc2445078442bde609e95239": {
      "model_module": "@jupyter-widgets/base",
      "model_module_version": "2.0.0",
      "model_name": "LayoutModel",
      "state": {
       "height": "28px",
       "padding": "0px 0px 0px 4px",
       "width": "28px"
      }
     },
     "18999aa9936846148a386e111cb3182b": {
      "model_module": "@jupyter-widgets/controls",
      "model_module_version": "2.0.0",
      "model_name": "FloatSliderModel",
      "state": {
       "behavior": "drag-tap",
       "layout": "IPY_MODEL_ba096abfe316454ba09672de2668f820",
       "max": 1,
       "readout": false,
       "step": 0.01,
       "style": "IPY_MODEL_5fe09b03c0f540a99fcdf66da9a63732",
       "value": 1
      }
     },
     "18b1e9de4f554c3ebd8a208def00528e": {
      "model_module": "jupyter-leaflet",
      "model_module_version": "^0.17",
      "model_name": "LeafletMapStyleModel",
      "state": {
       "_model_module_version": "^0.17",
       "cursor": "move"
      }
     },
     "18fd0116e7d2493cba959cdec80b84aa": {
      "model_module": "ipytree",
      "model_module_version": "^0.2",
      "model_name": "NodeModel",
      "state": {
       "_id": "651c66e3-7d64-4b3c-a074-72bcf3899337",
       "_model_module_version": "^0.2",
       "_view_module_version": "^0.2",
       "icon": "file",
       "name": "1: 0"
      }
     },
     "19511e4092bb4e6882ec57d39be14e3f": {
      "model_module": "@jupyter-widgets/controls",
      "model_module_version": "2.0.0",
      "model_name": "CheckboxModel",
      "state": {
       "description": "NDBSI",
       "disabled": false,
       "indent": false,
       "layout": "IPY_MODEL_172c0d60b8984daaba923ad7d67caf54",
       "style": "IPY_MODEL_0d49757e4b934868a3112326203ec055",
       "value": false
      }
     },
     "19ac385b967d4650b0c5a47797493d07": {
      "model_module": "@jupyter-widgets/controls",
      "model_module_version": "2.0.0",
      "model_name": "VBoxModel",
      "state": {
       "children": [
        "IPY_MODEL_619b6048f69a43b8b5b335016575d959",
        "IPY_MODEL_82d393be311243209c173b32268c5ec7"
       ],
       "layout": "IPY_MODEL_08796758572140c1a192ea029bdf35e4"
      }
     },
     "1a67fbc1f7d3466a8689b0cf6649a022": {
      "model_module": "@jupyter-widgets/controls",
      "model_module_version": "2.0.0",
      "model_name": "VBoxModel",
      "state": {
       "children": [
        "IPY_MODEL_9d9c3bb3477f4285b6297f04fabb0d36",
        "IPY_MODEL_e9d2706d2c734de99bca21fdb54f78dc",
        "IPY_MODEL_5cb83870a66c486289d079fe38f5a0ea",
        "IPY_MODEL_437186e64e2441ef8fa03ec8783fe46d",
        "IPY_MODEL_32d1ffd7336c49e79d7523201cb60653",
        "IPY_MODEL_26ec04ff991849fb9a1015d9a1155347",
        "IPY_MODEL_b89ec471cf95438c8ddd73677d28c038",
        "IPY_MODEL_c222035f974c48b498e285fdf874eeb4",
        "IPY_MODEL_a70019b5bad34583a52a5ca0214d9d3a",
        "IPY_MODEL_051c25d2bfc44299a78f52528d7b5dea",
        "IPY_MODEL_116025477eca434cac6e1cc364eb1efe",
        "IPY_MODEL_731bed7f2f324ed093af0bd24ad07d64"
       ],
       "layout": "IPY_MODEL_748792469ea6479ab6b36c4280c2df9f"
      }
     },
     "1b1d85f634e54ba480a6ae6c377f4c00": {
      "model_module": "@jupyter-widgets/controls",
      "model_module_version": "2.0.0",
      "model_name": "ToggleButtonModel",
      "state": {
       "button_style": "primary",
       "icon": "map",
       "layout": "IPY_MODEL_10b6365c051d4090994e2edcf05417e1",
       "style": "IPY_MODEL_94f4f777a83643b9a8298593c4d7584e",
       "tooltip": "Change basemap"
      }
     },
     "1bde6aceb4f240c1914fd2b4ce1f4902": {
      "model_module": "@jupyter-widgets/controls",
      "model_module_version": "2.0.0",
      "model_name": "ToggleButtonStyleModel",
      "state": {
       "description_width": "",
       "font_family": null,
       "font_size": null,
       "font_style": null,
       "font_variant": null,
       "font_weight": null,
       "text_color": null,
       "text_decoration": null
      }
     },
     "1bee7c0208464e03b44cf74aa2c176c0": {
      "model_module": "@jupyter-widgets/controls",
      "model_module_version": "2.0.0",
      "model_name": "CheckboxModel",
      "state": {
       "description": "NDSI",
       "disabled": false,
       "indent": false,
       "layout": "IPY_MODEL_7edc3cdf755d421bac6944c31ece901b",
       "style": "IPY_MODEL_ba2f8f94c169450da2429ae67a1eab28",
       "value": true
      }
     },
     "1c9fe20001f8479a96c8d508246d70dc": {
      "model_module": "@jupyter-widgets/base",
      "model_module_version": "2.0.0",
      "model_name": "LayoutModel",
      "state": {}
     },
     "1cc0ceff5a2e470fb120cae38b11e865": {
      "model_module": "@jupyter-widgets/base",
      "model_module_version": "2.0.0",
      "model_name": "LayoutModel",
      "state": {
       "height": "28px",
       "padding": "0px 0px 0px 4px",
       "width": "28px"
      }
     },
     "1e32f7cb59d74018bac053cc7d6f68cf": {
      "model_module": "@jupyter-widgets/controls",
      "model_module_version": "2.0.0",
      "model_name": "ToggleButtonModel",
      "state": {
       "icon": "gear",
       "layout": "IPY_MODEL_43e0d7016300446e8d4c9272f4f12cce",
       "style": "IPY_MODEL_49c696dec84c4d3ba46c0c1d680029f5",
       "tooltip": "NDBSI"
      }
     },
     "1ea53c900ccc42d885ab6dcfe01e44bb": {
      "model_module": "@jupyter-widgets/base",
      "model_module_version": "2.0.0",
      "model_name": "LayoutModel",
      "state": {
       "width": "80px"
      }
     },
     "1edddf300fc747469a3b955966acef90": {
      "model_module": "@jupyter-widgets/controls",
      "model_module_version": "2.0.0",
      "model_name": "ToggleButtonModel",
      "state": {
       "button_style": "primary",
       "icon": "times",
       "layout": "IPY_MODEL_fdc20d38f9274b259472b3b4eb0ab03c",
       "style": "IPY_MODEL_73148818b89c411bb956db51feba08c9",
       "tooltip": "Close the tool"
      }
     },
     "1f20543c83d94571a84342dbb570ec39": {
      "model_module": "ipytree",
      "model_module_version": "^0.2",
      "model_name": "NodeModel",
      "state": {
       "_id": "fbe256c0-6950-4c9b-8545-0bbbbdc2ea21",
       "_model_module_version": "^0.2",
       "_view_module_version": "^0.2",
       "icon": "file",
       "name": "0: 30"
      }
     },
     "1fa524b6380b4967a7d9c106593384a9": {
      "model_module": "@jupyter-widgets/controls",
      "model_module_version": "2.0.0",
      "model_name": "CheckboxModel",
      "state": {
       "description": "NDWI masked",
       "disabled": false,
       "indent": false,
       "layout": "IPY_MODEL_c596a7067e594bc08a12479c98e9b921",
       "style": "IPY_MODEL_f9bba7e95fed4389a23b2b121c729964",
       "value": false
      }
     },
     "2221a5a5b964472297b9f3829d140ba9": {
      "model_module": "ipytree",
      "model_module_version": "^0.2",
      "model_name": "NodeModel",
      "state": {
       "_id": "2906737e-8766-476c-b9d2-d90f6d0b4a3d",
       "_model_module_version": "^0.2",
       "_view_module_version": "^0.2",
       "icon": "file",
       "name": "type: Image"
      }
     },
     "223fd5ce5b9a4fd0957eb54688f5243c": {
      "model_module": "ipytree",
      "model_module_version": "^0.2",
      "model_name": "NodeModel",
      "state": {
       "_id": "a9be93e0-1234-4fe5-adbd-94acf7b734b2",
       "_model_module_version": "^0.2",
       "_view_module_version": "^0.2",
       "icon": "file",
       "name": "max: 1"
      }
     },
     "2322c7de63c242a0a4278161f08b47fa": {
      "model_module": "@jupyter-widgets/base",
      "model_module_version": "2.0.0",
      "model_name": "LayoutModel",
      "state": {
       "border_bottom": "1px solid black",
       "border_left": "1px solid black",
       "border_right": "1px solid black",
       "border_top": "1px solid black",
       "max_height": "500px",
       "max_width": "300px",
       "overflow": "auto"
      }
     },
     "23255db4064d4c4b96dcce8503553e2d": {
      "model_module": "@jupyter-widgets/controls",
      "model_module_version": "2.0.0",
      "model_name": "DirectionalLinkModel",
      "state": {
       "source": [
        "IPY_MODEL_9966416920514768b3bd35823f14c32a",
        "value"
       ],
       "target": [
        "IPY_MODEL_76f983146efe4f719102356cb1e799db",
        "opacity"
       ]
      }
     },
     "2361b8b215534bfd9475ff629b6e5447": {
      "model_module": "@jupyter-widgets/controls",
      "model_module_version": "2.0.0",
      "model_name": "ToggleButtonStyleModel",
      "state": {
       "description_width": "",
       "font_family": null,
       "font_size": null,
       "font_style": null,
       "font_variant": null,
       "font_weight": null,
       "text_color": null,
       "text_decoration": null
      }
     },
     "236d28d9baf149fc8813ecab8ddab019": {
      "model_module": "@jupyter-widgets/controls",
      "model_module_version": "2.0.0",
      "model_name": "FloatSliderModel",
      "state": {
       "behavior": "drag-tap",
       "layout": "IPY_MODEL_8826d8e47c064fbb8e2c1e8334932734",
       "max": 1,
       "readout": false,
       "step": 0.01,
       "style": "IPY_MODEL_3237b6f15090447a9bff4b00db6fe092",
       "value": 1
      }
     },
     "23d1660be7c44a7da828f4fcdcfa1b18": {
      "model_module": "@jupyter-widgets/controls",
      "model_module_version": "2.0.0",
      "model_name": "ToggleButtonStyleModel",
      "state": {
       "description_width": "",
       "font_family": null,
       "font_size": null,
       "font_style": null,
       "font_variant": null,
       "font_weight": null,
       "text_color": null,
       "text_decoration": null
      }
     },
     "23eca6837ac54439b2ced6b68ff26499": {
      "model_module": "ipytree",
      "model_module_version": "^0.2",
      "model_name": "NodeModel",
      "state": {
       "_id": "ab367704-72a4-4d25-a5de-d5f3e130805f",
       "_model_module_version": "^0.2",
       "_view_module_version": "^0.2",
       "icon": "file",
       "name": "4: -30"
      }
     },
     "24b16ad457f14d9ea8b5badaa42f5fdd": {
      "model_module": "@jupyter-widgets/controls",
      "model_module_version": "2.0.0",
      "model_name": "LinkModel",
      "state": {
       "source": [
        "IPY_MODEL_6449ddcb189b41e585cd7f7e10d69148",
        "value"
       ],
       "target": [
        "IPY_MODEL_60a746ea121f4d7cad688bf6039a6c8c",
        "visible"
       ]
      }
     },
     "25169f83c2304a958c0699aecc3c454c": {
      "model_module": "ipytree",
      "model_module_version": "^0.2",
      "model_name": "NodeModel",
      "state": {
       "_id": "e320556f-1d71-452a-8cbc-df240947774d",
       "_model_module_version": "^0.2",
       "_view_module_version": "^0.2",
       "name": "Zoom Level: 10.0"
      }
     },
     "251ef0505a0244a9b9ef82b9183ba2ba": {
      "model_module": "@jupyter-widgets/controls",
      "model_module_version": "2.0.0",
      "model_name": "FloatSliderModel",
      "state": {
       "behavior": "drag-tap",
       "layout": "IPY_MODEL_1ea53c900ccc42d885ab6dcfe01e44bb",
       "max": 1,
       "readout": false,
       "step": 0.01,
       "style": "IPY_MODEL_d909a960ddc04222ad7d23dc8c559290",
       "value": 1
      }
     },
     "253e2a9c97e14b86bd593f81a9ea6cce": {
      "model_module": "ipytree",
      "model_module_version": "^0.2",
      "model_name": "NodeModel",
      "state": {
       "_id": "ea20a6e7-1ccf-4e06-866c-000cf4a9d43d",
       "_model_module_version": "^0.2",
       "_view_module_version": "^0.2",
       "close_icon": "minus-square",
       "close_icon_style": "info",
       "icon": "archive",
       "name": "Pixels",
       "nodes": [
        "IPY_MODEL_06e931074b3c4b58905b7bee24a36336",
        "IPY_MODEL_6974077dd9fe4d65a28c121491ddab1c"
       ],
       "open_icon": "plus-square",
       "open_icon_style": "success"
      }
     },
     "256b07416c54489f99580d10b95079b9": {
      "model_module": "ipytree",
      "model_module_version": "^0.2",
      "model_name": "NodeModel",
      "state": {
       "_id": "6d40c597-7082-44bf-8d3d-80cc7765f306",
       "_model_module_version": "^0.2",
       "_view_module_version": "^0.2",
       "icon": "file",
       "name": "2: 341985"
      }
     },
     "2597ef96f2fd44caa7aa5d82fad02221": {
      "model_module": "@jupyter-widgets/base",
      "model_module_version": "2.0.0",
      "model_name": "LayoutModel",
      "state": {
       "height": "28px",
       "padding": "0px 0px 0px 4px",
       "width": "28px"
      }
     },
     "267b7fcf713e43b98a96b1c8236c8f5b": {
      "model_module": "@jupyter-widgets/controls",
      "model_module_version": "2.0.0",
      "model_name": "LabelModel",
      "state": {
       "layout": "IPY_MODEL_b9c82f4034384a10a11b453af62dfbf4",
       "style": "IPY_MODEL_bafad583c9c24938b80bb30d37bd321a",
       "value": "Expand   "
      }
     },
     "26c53bac891445aebcc1d32299c42bb5": {
      "model_module": "@jupyter-widgets/controls",
      "model_module_version": "2.0.0",
      "model_name": "ToggleButtonStyleModel",
      "state": {
       "description_width": "",
       "font_family": null,
       "font_size": null,
       "font_style": null,
       "font_variant": null,
       "font_weight": null,
       "text_color": null,
       "text_decoration": null
      }
     },
     "26ec04ff991849fb9a1015d9a1155347": {
      "model_module": "@jupyter-widgets/controls",
      "model_module_version": "2.0.0",
      "model_name": "HBoxModel",
      "state": {
       "children": [
        "IPY_MODEL_ae00c1a9cd424ec19bafdb1e05dafd57",
        "IPY_MODEL_9f554980ca794bd99a1c39ea77e81ae3",
        "IPY_MODEL_251ef0505a0244a9b9ef82b9183ba2ba"
       ],
       "layout": "IPY_MODEL_3addb54463984d319a2ed311b11154ef"
      }
     },
     "272e69980e92403aa542b114924c02a3": {
      "model_module": "@jupyter-widgets/controls",
      "model_module_version": "2.0.0",
      "model_name": "SliderStyleModel",
      "state": {
       "description_width": ""
      }
     },
     "27433ad545d244e4b1f232a2a12a5fd5": {
      "model_module": "ipytree",
      "model_module_version": "^0.2",
      "model_name": "NodeModel",
      "state": {
       "_id": "46bd7b97-277f-41fd-a46f-8e90f65bf94b",
       "_model_module_version": "^0.2",
       "_view_module_version": "^0.2",
       "name": "Latitude: 41.872863875636206"
      }
     },
     "28260e9d698e4599bc2e0a677e9e0a67": {
      "model_module": "@jupyter-widgets/controls",
      "model_module_version": "2.0.0",
      "model_name": "HBoxModel",
      "state": {
       "children": [
        "IPY_MODEL_afd0de8a892f416386837db491545c6c",
        "IPY_MODEL_076f84dd3e63451092dbd5f8f555d688"
       ],
       "layout": "IPY_MODEL_42d1b571b54049939daa6ff944e46e30"
      }
     },
     "286bd9d1847b4c2ea08bfaf7fe33cb65": {
      "model_module": "@jupyter-widgets/controls",
      "model_module_version": "2.0.0",
      "model_name": "ToggleButtonModel",
      "state": {
       "icon": "server",
       "layout": "IPY_MODEL_17bbc429fc2445078442bde609e95239",
       "style": "IPY_MODEL_b44f2d8d2ccb48a1a00456e2f61ff6c2",
       "tooltip": "Layer Manager",
       "value": true
      }
     },
     "28b16e835f744cae9e226945168ed409": {
      "model_module": "ipytree",
      "model_module_version": "^0.2",
      "model_name": "NodeModel",
      "state": {
       "_id": "2a750de1-7322-4f8f-bfa8-99a203cffc97",
       "_model_module_version": "^0.2",
       "_view_module_version": "^0.2",
       "name": "0: \"nd\", float, EPSG:32612, 7791x7901 px",
       "nodes": [
        "IPY_MODEL_15cbfd76945f406082745997f3ee283d",
        "IPY_MODEL_e92461b470c54864ae69ef9a98cc5cd4",
        "IPY_MODEL_c213d591731d4a969ef49b99a0dd3a1a",
        "IPY_MODEL_e05774dd46a2435f8308a0a78bab17f4",
        "IPY_MODEL_c3ae0c4999cf4b8e9bdf3b4c93895a4d"
       ],
       "opened": false
      }
     },
     "28c79397547a45fd96ab50e041346ff8": {
      "model_module": "ipytree",
      "model_module_version": "^0.2",
      "model_name": "NodeModel",
      "state": {
       "_id": "6be8418b-61d9-4330-ae24-d155cbd6b2cc",
       "_model_module_version": "^0.2",
       "_view_module_version": "^0.2",
       "name": "data_type",
       "nodes": [
        "IPY_MODEL_8f1e6ba6890f476e9f5d18a9c15479eb",
        "IPY_MODEL_47d850f376ac482a85a04b7e04d8b90d",
        "IPY_MODEL_45f055bf124f42bebd942e92efe82cad",
        "IPY_MODEL_2c48d58db83c4007ba83d9ebcd21cd2d"
       ],
       "opened": false
      }
     },
     "2960776d330848bf8e6ed2fabcfa11ce": {
      "model_module": "ipytree",
      "model_module_version": "^0.2",
      "model_name": "NodeModel",
      "state": {
       "_id": "4feeb251-c727-478e-919f-e2d9be569465",
       "_model_module_version": "^0.2",
       "_view_module_version": "^0.2",
       "icon": "file",
       "name": "type: PixelType"
      }
     },
     "2963ae4c49174ece83800c500796fd02": {
      "model_module": "ipytree",
      "model_module_version": "^0.2",
      "model_name": "NodeModel",
      "state": {
       "_id": "057aa94b-82e3-4348-8e42-0d5efe26a6d0",
       "_model_module_version": "^0.2",
       "_view_module_version": "^0.2",
       "name": "crs_transform",
       "nodes": [
        "IPY_MODEL_47a51116f546465099711ff4ac945007",
        "IPY_MODEL_452cd0a5355b457e9b7e4443ca43dffe",
        "IPY_MODEL_048a714dddd64a7bb0a21664ed10ee1d",
        "IPY_MODEL_05e353997a4f49be8e7ab07278eed30b",
        "IPY_MODEL_38b44838108c4957ba389808e31c3327",
        "IPY_MODEL_3d804f70ba8c45ab9650c8b29f426b4d"
       ],
       "opened": false
      }
     },
     "29a67eeaff4f40748c97ec259d6660bc": {
      "model_module": "jupyter-leaflet",
      "model_module_version": "^0.17",
      "model_name": "LeafletAttributionControlModel",
      "state": {
       "_model_module_version": "^0.17",
       "_view_module_version": "^0.17",
       "options": [
        "position",
        "prefix"
       ],
       "position": "bottomright",
       "prefix": "ipyleaflet"
      }
     },
     "29d8a0b0482d4f798eae6787e2e3cf90": {
      "model_module": "@jupyter-widgets/base",
      "model_module_version": "2.0.0",
      "model_name": "LayoutModel",
      "state": {
       "height": "18px",
       "width": "140px"
      }
     },
     "2a40455f72d34b31977d8dbf276cf6fc": {
      "model_module": "@jupyter-widgets/base",
      "model_module_version": "2.0.0",
      "model_name": "LayoutModel",
      "state": {
       "padding": "0px 8px 0px 8px"
      }
     },
     "2ab2878d76724f329636706d6959dcdb": {
      "model_module": "@jupyter-widgets/controls",
      "model_module_version": "2.0.0",
      "model_name": "ToggleButtonStyleModel",
      "state": {
       "description_width": "",
       "font_family": null,
       "font_size": null,
       "font_style": null,
       "font_variant": null,
       "font_weight": null,
       "text_color": null,
       "text_decoration": null
      }
     },
     "2b14a3059a9d43609ab7c158686ffd69": {
      "model_module": "ipytree",
      "model_module_version": "^0.2",
      "model_name": "NodeModel",
      "state": {
       "_id": "f76e589d-7cc3-4b5c-9367-bc721fd953a2",
       "_model_module_version": "^0.2",
       "_view_module_version": "^0.2",
       "name": "NDSI masked: Image  (1 bands)",
       "nodes": [
        "IPY_MODEL_0295493e37e148819e05fe1d591e8a3c",
        "IPY_MODEL_87b5f5ad57504175b5c8ee5156643acb",
        "IPY_MODEL_3f522b6f3120496b8153aba9cc73f1b0"
       ],
       "opened": false
      }
     },
     "2b9afde59aab4a9893bb300b911b9afe": {
      "model_module": "@jupyter-widgets/controls",
      "model_module_version": "2.0.0",
      "model_name": "ToggleButtonModel",
      "state": {
       "icon": "gear",
       "layout": "IPY_MODEL_588dfc6b994f4cfab6bfded5b6905d70",
       "style": "IPY_MODEL_23d1660be7c44a7da828f4fcdcfa1b18",
       "tooltip": "NDVI"
      }
     },
     "2c48d58db83c4007ba83d9ebcd21cd2d": {
      "model_module": "ipytree",
      "model_module_version": "^0.2",
      "model_name": "NodeModel",
      "state": {
       "_id": "84912ea5-49b7-4f45-a88e-274b5bc2a0a5",
       "_model_module_version": "^0.2",
       "_view_module_version": "^0.2",
       "icon": "file",
       "name": "max: 1"
      }
     },
     "2c98e507c6184e6b83b87138c286d422": {
      "model_module": "ipytree",
      "model_module_version": "^0.2",
      "model_name": "TreeModel",
      "state": {
       "_model_module_version": "^0.2",
       "_view_module_version": "^0.2",
       "layout": "IPY_MODEL_e22404fa0be1405f8c0f2831d28b1c4e",
       "nodes": [
        "IPY_MODEL_31713f06ee4d4cb0a5d15804a3b3babd",
        "IPY_MODEL_253e2a9c97e14b86bd593f81a9ea6cce",
        "IPY_MODEL_70a2469b3ff441679c7927b52142414b"
       ]
      }
     },
     "2cb92282e2cf41308ba01d09458e5c3a": {
      "model_module": "ipytree",
      "model_module_version": "^0.2",
      "model_name": "NodeModel",
      "state": {
       "_id": "e7ed3004-ff48-45cf-9e86-f2c7500db1cd",
       "_model_module_version": "^0.2",
       "_view_module_version": "^0.2",
       "icon": "file",
       "name": "0: 7791"
      }
     },
     "2cbfec0d995a4a9d8c11720ad312d77a": {
      "model_module": "@jupyter-widgets/controls",
      "model_module_version": "2.0.0",
      "model_name": "CheckboxModel",
      "state": {
       "description": "NDWI masked",
       "disabled": false,
       "indent": false,
       "layout": "IPY_MODEL_3c847dd53a6042f8a8cd416cd17b1948",
       "style": "IPY_MODEL_f1f30ac39c6d4db997dcebdfe9199e01",
       "value": false
      }
     },
     "2d13bef3e46441dfa64600d49e68f44c": {
      "model_module": "ipytree",
      "model_module_version": "^0.2",
      "model_name": "NodeModel",
      "state": {
       "_id": "e74319e9-f193-49fd-9462-cb1abc08dfd3",
       "_model_module_version": "^0.2",
       "_view_module_version": "^0.2",
       "icon": "file",
       "name": "4: -30"
      }
     },
     "2d4e2779d59d41ea920a711aaa468632": {
      "model_module": "@jupyter-widgets/controls",
      "model_module_version": "2.0.0",
      "model_name": "HBoxModel",
      "state": {
       "children": [
        "IPY_MODEL_267b7fcf713e43b98a96b1c8236c8f5b",
        "IPY_MODEL_072b860f5a6e4e8ab655ab6a4443a827",
        "IPY_MODEL_6e314f534551404a8d2b8f0ecdafa581",
        "IPY_MODEL_873f0b72b8dc4ae7b20ce0c8f6d5290f",
        "IPY_MODEL_b2ce8ae793cf4edcad5ace044d0f8b67"
       ],
       "layout": "IPY_MODEL_b9522319909e4dba89252ffaea576436"
      }
     },
     "2d78b6d292164cb89c27d9c99b9b972b": {
      "model_module": "@jupyter-widgets/base",
      "model_module_version": "2.0.0",
      "model_name": "LayoutModel",
      "state": {
       "height": "auto",
       "padding": "0px 0px 0px 4px",
       "width": "auto"
      }
     },
     "2e731e596a7d4102b7b9d5c5e0435efc": {
      "model_module": "@jupyter-widgets/controls",
      "model_module_version": "2.0.0",
      "model_name": "CheckboxModel",
      "state": {
       "description": "EVI",
       "disabled": false,
       "indent": false,
       "layout": "IPY_MODEL_e5dbc12896544fdaba61e5018ac2edc0",
       "style": "IPY_MODEL_c996324dbf4f480ea7c258604a4aaeea",
       "value": false
      }
     },
     "2f47652ce2064f20b2d9d6c7f454f659": {
      "model_module": "@jupyter-widgets/controls",
      "model_module_version": "2.0.0",
      "model_name": "ToggleButtonStyleModel",
      "state": {
       "description_width": "",
       "font_family": null,
       "font_size": null,
       "font_style": null,
       "font_variant": null,
       "font_weight": null,
       "text_color": null,
       "text_decoration": null
      }
     },
     "2f7c24a1c85a4db3b06ff4bd7c898215": {
      "model_module": "@jupyter-widgets/controls",
      "model_module_version": "2.0.0",
      "model_name": "ToggleButtonModel",
      "state": {
       "icon": "gear",
       "layout": "IPY_MODEL_384e0b6aeb29478e8bf7d46a91622313",
       "style": "IPY_MODEL_664ba4ab9f6b4d3d80332b7c7fc93df7",
       "tooltip": "snow image"
      }
     },
     "31713f06ee4d4cb0a5d15804a3b3babd": {
      "model_module": "ipytree",
      "model_module_version": "^0.2",
      "model_name": "NodeModel",
      "state": {
       "_id": "d8ad6307-c236-409a-8c61-e4c7d2e1079d",
       "_model_module_version": "^0.2",
       "_view_module_version": "^0.2",
       "close_icon": "minus-square",
       "close_icon_style": "info",
       "icon": "map",
       "name": "Point (-111.327, 42.062) at 113m/px",
       "nodes": [
        "IPY_MODEL_3cb157a16ccc4e01ad6e232e0f5d9b6d",
        "IPY_MODEL_5dcdbe165e02481c9af59729f931974c",
        "IPY_MODEL_25169f83c2304a958c0699aecc3c454c",
        "IPY_MODEL_6bb6a102e96f407e994c3efab2e33fe9"
       ],
       "open_icon": "plus-square",
       "open_icon_style": "success",
       "opened": false
      }
     },
     "320acbdee7314170b73a29c6a851b86c": {
      "model_module": "@jupyter-widgets/base",
      "model_module_version": "2.0.0",
      "model_name": "LayoutModel",
      "state": {
       "height": "auto",
       "padding": "0px 0px 0px 4px",
       "width": "auto"
      }
     },
     "3216c790904949c2a82e90e731c0618f": {
      "model_module": "@jupyter-widgets/controls",
      "model_module_version": "2.0.0",
      "model_name": "ToggleButtonModel",
      "state": {
       "button_style": "primary",
       "icon": "times",
       "layout": "IPY_MODEL_fc659cbe21de484a9e083a8557c04028",
       "style": "IPY_MODEL_50d7a646c2ba47c4ab938125b7fc3580",
       "tooltip": "Close the tool",
       "value": true
      }
     },
     "3237b6f15090447a9bff4b00db6fe092": {
      "model_module": "@jupyter-widgets/controls",
      "model_module_version": "2.0.0",
      "model_name": "SliderStyleModel",
      "state": {
       "description_width": ""
      }
     },
     "324dbfe8b17d41989db3c57fec867076": {
      "model_module": "@jupyter-widgets/controls",
      "model_module_version": "2.0.0",
      "model_name": "ToggleButtonModel",
      "state": {
       "button_style": "primary",
       "icon": "hand-o-up",
       "layout": "IPY_MODEL_bc778b0a42b64d288cc85a5cd64d1d8b",
       "style": "IPY_MODEL_2361b8b215534bfd9475ff629b6e5447",
       "tooltip": "Collect training samples"
      }
     },
     "32d1ffd7336c49e79d7523201cb60653": {
      "model_module": "@jupyter-widgets/controls",
      "model_module_version": "2.0.0",
      "model_name": "HBoxModel",
      "state": {
       "children": [
        "IPY_MODEL_342e7dd7990d4b0a92b5692895c7a60a",
        "IPY_MODEL_b0f574d341f5448e82b6a5494d46ff32",
        "IPY_MODEL_62d393fe9ec744dd9f40cdcdf7de166d"
       ],
       "layout": "IPY_MODEL_a20ebddfc07c47b09ef1fa163ce4989f"
      }
     },
     "32fa200e18dd43838d796b348cbe3818": {
      "model_module": "@jupyter-widgets/controls",
      "model_module_version": "2.0.0",
      "model_name": "TextStyleModel",
      "state": {
       "description_width": "",
       "font_size": null,
       "text_color": null
      }
     },
     "332c48940cda48aabd64dbbd8ddd594f": {
      "model_module": "@jupyter-widgets/controls",
      "model_module_version": "2.0.0",
      "model_name": "LinkModel",
      "state": {
       "source": [
        "IPY_MODEL_fe2499c1972a468e9cc764e6fa1e1355",
        "value"
       ],
       "target": [
        "IPY_MODEL_8c9b7e5428a145f09aeef75c424974ab",
        "visible"
       ]
      }
     },
     "33a1c99a5b9041dca2bdbfb3b1c2d573": {
      "model_module": "@jupyter-widgets/controls",
      "model_module_version": "2.0.0",
      "model_name": "ToggleButtonModel",
      "state": {
       "button_style": "primary",
       "icon": "random",
       "layout": "IPY_MODEL_fe4879e096e443c7b547f03fbc4f1688",
       "style": "IPY_MODEL_2f47652ce2064f20b2d9d6c7f454f659",
       "tooltip": "Sankey plots"
      }
     },
     "33bbde54b15e48bfb1546eed9193eb75": {
      "model_module": "@jupyter-widgets/base",
      "model_module_version": "2.0.0",
      "model_name": "LayoutModel",
      "state": {
       "width": "80px"
      }
     },
     "3425de557fef41eebefc2c267969d052": {
      "model_module": "@jupyter-widgets/controls",
      "model_module_version": "2.0.0",
      "model_name": "SliderStyleModel",
      "state": {
       "description_width": ""
      }
     },
     "342e7dd7990d4b0a92b5692895c7a60a": {
      "model_module": "@jupyter-widgets/controls",
      "model_module_version": "2.0.0",
      "model_name": "CheckboxModel",
      "state": {
       "description": "EVI",
       "disabled": false,
       "indent": false,
       "layout": "IPY_MODEL_7be4cecb30784049bc09d74d4cdb8622",
       "style": "IPY_MODEL_b236180b64084cc5b9b64d63ba89d99c",
       "value": false
      }
     },
     "3432a1007d984d76bc42eab188d104d8": {
      "model_module": "@jupyter-widgets/base",
      "model_module_version": "2.0.0",
      "model_name": "LayoutModel",
      "state": {
       "height": "18px",
       "width": "140px"
      }
     },
     "347fcdf9a95445fa9176ba8fb53c4ffb": {
      "model_module": "@jupyter-widgets/base",
      "model_module_version": "2.0.0",
      "model_name": "LayoutModel",
      "state": {
       "padding": "0px 8px 0px 8px"
      }
     },
     "35e21242a4634462989cf3ac8036128f": {
      "model_module": "ipytree",
      "model_module_version": "^0.2",
      "model_name": "NodeModel",
      "state": {
       "_id": "6be14bb5-4ecc-4b06-8546-1cd824d67a97",
       "_model_module_version": "^0.2",
       "_view_module_version": "^0.2",
       "icon": "file",
       "name": "3: 0"
      }
     },
     "35e912b4f6d240fcbcdb7030298be423": {
      "model_module": "@jupyter-widgets/controls",
      "model_module_version": "2.0.0",
      "model_name": "ToggleButtonStyleModel",
      "state": {
       "description_width": "",
       "font_family": null,
       "font_size": null,
       "font_style": null,
       "font_variant": null,
       "font_weight": null,
       "text_color": null,
       "text_decoration": null
      }
     },
     "36a49767b74049f99948b7537ddb7f2a": {
      "model_module": "ipytree",
      "model_module_version": "^0.2",
      "model_name": "NodeModel",
      "state": {
       "_id": "cb8d6b24-a2ed-4ec2-bcbf-540bfdf1ed91",
       "_model_module_version": "^0.2",
       "_view_module_version": "^0.2",
       "name": "NDSI: Image  (1 bands)",
       "nodes": [
        "IPY_MODEL_2221a5a5b964472297b9f3829d140ba9",
        "IPY_MODEL_faa4efd75bce49ab9ea43b2b2a2074bd",
        "IPY_MODEL_e0e1fdbabc1a435f9c872eadbdc3bb25"
       ],
       "opened": false
      }
     },
     "373ae8fdca91414d96ba42b5c21a8b7d": {
      "model_module": "jupyter-leaflet",
      "model_module_version": "^0.17",
      "model_name": "LeafletMapStyleModel",
      "state": {
       "_model_module_version": "^0.17",
       "cursor": "wait"
      }
     },
     "374dd5d54fa1483d905e8517b8c7d4f7": {
      "model_module": "@jupyter-widgets/base",
      "model_module_version": "2.0.0",
      "model_name": "LayoutModel",
      "state": {
       "width": "80px"
      }
     },
     "378dcaf2745d48e1ad97751f0db09d02": {
      "model_module": "@jupyter-widgets/base",
      "model_module_version": "2.0.0",
      "model_name": "LayoutModel",
      "state": {}
     },
     "383900cc72c84380b58db1bb6c155e16": {
      "model_module": "@jupyter-widgets/base",
      "model_module_version": "2.0.0",
      "model_name": "LayoutModel",
      "state": {
       "max_width": "57px",
       "min_width": "57px"
      }
     },
     "384aba73507445e1ae834f09fa023fbb": {
      "model_module": "@jupyter-widgets/base",
      "model_module_version": "2.0.0",
      "model_name": "LayoutModel",
      "state": {
       "height": "25px",
       "padding": "0px 0px 0px 5px",
       "width": "25px"
      }
     },
     "384e0b6aeb29478e8bf7d46a91622313": {
      "model_module": "@jupyter-widgets/base",
      "model_module_version": "2.0.0",
      "model_name": "LayoutModel",
      "state": {
       "height": "25px",
       "padding": "0px 0px 0px 5px",
       "width": "25px"
      }
     },
     "38a4abaa406444a898ddfb7ac8b37faa": {
      "model_module": "@jupyter-widgets/base",
      "model_module_version": "2.0.0",
      "model_name": "LayoutModel",
      "state": {}
     },
     "38b44838108c4957ba389808e31c3327": {
      "model_module": "ipytree",
      "model_module_version": "^0.2",
      "model_name": "NodeModel",
      "state": {
       "_id": "01f3e6c4-46dd-4b5d-a01f-0022a66ea875",
       "_model_module_version": "^0.2",
       "_view_module_version": "^0.2",
       "icon": "file",
       "name": "4: -30"
      }
     },
     "38f2eacdf14f4fbab0a2c2ce50f1abbc": {
      "model_module": "@jupyter-widgets/controls",
      "model_module_version": "2.0.0",
      "model_name": "SliderStyleModel",
      "state": {
       "description_width": ""
      }
     },
     "3addb54463984d319a2ed311b11154ef": {
      "model_module": "@jupyter-widgets/base",
      "model_module_version": "2.0.0",
      "model_name": "LayoutModel",
      "state": {
       "padding": "0px 8px 0px 8px"
      }
     },
     "3b6e870f65cd4781916a908bbfe278df": {
      "model_module": "@jupyter-widgets/base",
      "model_module_version": "2.0.0",
      "model_name": "LayoutModel",
      "state": {
       "height": "25px",
       "padding": "0px 0px 0px 5px",
       "width": "25px"
      }
     },
     "3b829eef31894faab550a63a66ca7727": {
      "model_module": "@jupyter-widgets/base",
      "model_module_version": "2.0.0",
      "model_name": "LayoutModel",
      "state": {
       "width": "65px"
      }
     },
     "3bb998df05a84318b9ba4be9e5bf1bbf": {
      "model_module": "@jupyter-widgets/controls",
      "model_module_version": "2.0.0",
      "model_name": "CheckboxModel",
      "state": {
       "description": "snow image",
       "disabled": false,
       "indent": false,
       "layout": "IPY_MODEL_b3c1f1e7ca5f4a108998dd7d0f93be2b",
       "style": "IPY_MODEL_030d881c87124da3a75c1ab653a94e31",
       "value": false
      }
     },
     "3bcb3524c740449cb1330ad4535e55b3": {
      "model_module": "@jupyter-widgets/controls",
      "model_module_version": "2.0.0",
      "model_name": "DirectionalLinkModel",
      "state": {
       "source": [
        "IPY_MODEL_251ef0505a0244a9b9ef82b9183ba2ba",
        "value"
       ],
       "target": [
        "IPY_MODEL_14ad4fc53c76437a931de0bb2f9447da",
        "opacity"
       ]
      }
     },
     "3c5d15399845437f885487d9afb7f1be": {
      "model_module": "@jupyter-widgets/controls",
      "model_module_version": "2.0.0",
      "model_name": "ToggleButtonModel",
      "state": {
       "icon": "gear",
       "layout": "IPY_MODEL_7be7fc56df0742feb806663c7357fa89",
       "style": "IPY_MODEL_b47c5a544af340f19792a9e2bfa9bcd1",
       "tooltip": "NDSI masked"
      }
     },
     "3c847dd53a6042f8a8cd416cd17b1948": {
      "model_module": "@jupyter-widgets/base",
      "model_module_version": "2.0.0",
      "model_name": "LayoutModel",
      "state": {
       "height": "18px",
       "width": "140px"
      }
     },
     "3cb157a16ccc4e01ad6e232e0f5d9b6d": {
      "model_module": "ipytree",
      "model_module_version": "^0.2",
      "model_name": "NodeModel",
      "state": {
       "_id": "25776aa6-581e-4d36-a72c-f01c8891d387",
       "_model_module_version": "^0.2",
       "_view_module_version": "^0.2",
       "name": "Longitude: -111.32744017879341"
      }
     },
     "3d804f70ba8c45ab9650c8b29f426b4d": {
      "model_module": "ipytree",
      "model_module_version": "^0.2",
      "model_name": "NodeModel",
      "state": {
       "_id": "795160a1-9dc3-4bf7-a3d5-1c580bc10633",
       "_model_module_version": "^0.2",
       "_view_module_version": "^0.2",
       "icon": "file",
       "name": "5: 4741215"
      }
     },
     "3e103e3ba2204a5c9166e68cb9c65af6": {
      "model_module": "@jupyter-widgets/controls",
      "model_module_version": "2.0.0",
      "model_name": "HBoxModel",
      "state": {
       "_view_count": 10,
       "children": [
        "IPY_MODEL_e36df7a1a8bd4d73944c11839d56c007"
       ],
       "layout": "IPY_MODEL_6c256479972546a1a96c23f1d3cac4bf"
      }
     },
     "3e7053dc801c4d70b98f0bddd4f58e7c": {
      "model_module": "@jupyter-widgets/base",
      "model_module_version": "2.0.0",
      "model_name": "LayoutModel",
      "state": {
       "height": "18px",
       "padding": "0px 8px 25px 8px",
       "width": "30ex"
      }
     },
     "3ede921d44d049e68f6020b3da2eb8ee": {
      "model_module": "@jupyter-widgets/controls",
      "model_module_version": "2.0.0",
      "model_name": "CheckboxStyleModel",
      "state": {
       "description_width": ""
      }
     },
     "3f522b6f3120496b8153aba9cc73f1b0": {
      "model_module": "ipytree",
      "model_module_version": "^0.2",
      "model_name": "NodeModel",
      "state": {
       "_id": "f243bfe3-6b4d-47c5-94f6-c1756628a7fe",
       "_model_module_version": "^0.2",
       "_view_module_version": "^0.2",
       "name": "properties: Object (0 properties)",
       "opened": false
      }
     },
     "3f72848856e648e49c18b0049666cbac": {
      "model_module": "@jupyter-widgets/controls",
      "model_module_version": "2.0.0",
      "model_name": "HBoxModel",
      "state": {
       "children": [
        "IPY_MODEL_476c5e4399a8432389d8ff4e97ac6c6f",
        "IPY_MODEL_60cc43594517415d88e75ece561ca97c",
        "IPY_MODEL_523a76ff1717490897105cd0b71f26c2"
       ],
       "layout": "IPY_MODEL_347fcdf9a95445fa9176ba8fb53c4ffb"
      }
     },
     "3fa800e274c047d0afb8b9ed77e6178d": {
      "model_module": "@jupyter-widgets/controls",
      "model_module_version": "2.0.0",
      "model_name": "ToggleButtonModel",
      "state": {
       "button_style": "primary",
       "icon": "retweet",
       "layout": "IPY_MODEL_a0fc8c6bca514c3f9b1facbc3d03c990",
       "style": "IPY_MODEL_92db18e7c7124daf88013381771b55e3",
       "tooltip": "Convert Earth Engine JavaScript to Python"
      }
     },
     "4083dd215a3a43ddbdb8c74713d7fc50": {
      "model_module": "@jupyter-widgets/controls",
      "model_module_version": "2.0.0",
      "model_name": "SliderStyleModel",
      "state": {
       "description_width": ""
      }
     },
     "40d501e679b14cb6acdf0c50be29b6bb": {
      "model_module": "@jupyter-widgets/controls",
      "model_module_version": "2.0.0",
      "model_name": "DirectionalLinkModel",
      "state": {
       "source": [
        "IPY_MODEL_7c51bd0e53dd4e9e9e977cb45b91e649",
        "value"
       ],
       "target": [
        "IPY_MODEL_60a746ea121f4d7cad688bf6039a6c8c",
        "opacity"
       ]
      }
     },
     "40e7001ad4b94eefad4fb05a554730a0": {
      "model_module": "@jupyter-widgets/base",
      "model_module_version": "2.0.0",
      "model_name": "LayoutModel",
      "state": {}
     },
     "42d1b571b54049939daa6ff944e46e30": {
      "model_module": "@jupyter-widgets/base",
      "model_module_version": "2.0.0",
      "model_name": "LayoutModel",
      "state": {}
     },
     "42daa88c141c4d0ca7ead3eb2037768b": {
      "model_module": "@jupyter-widgets/controls",
      "model_module_version": "2.0.0",
      "model_name": "DirectionalLinkModel",
      "state": {
       "source": [
        "IPY_MODEL_6d9ff2f0cd1742e0a36eba11a06163d6",
        "value"
       ],
       "target": [
        "IPY_MODEL_b3bb39c7f2ca44869616a3f58b7d688b",
        "opacity"
       ]
      }
     },
     "43149664115c4587ad8d2540dd5acf9d": {
      "model_module": "@jupyter-widgets/base",
      "model_module_version": "2.0.0",
      "model_name": "LayoutModel",
      "state": {
       "border_bottom": "1px solid black",
       "border_left": "1px solid black",
       "border_right": "1px solid black",
       "border_top": "1px solid black",
       "max_height": "500px",
       "max_width": "300px",
       "overflow": "auto"
      }
     },
     "437186e64e2441ef8fa03ec8783fe46d": {
      "model_module": "@jupyter-widgets/controls",
      "model_module_version": "2.0.0",
      "model_name": "HBoxModel",
      "state": {
       "children": [
        "IPY_MODEL_c0ed95a02cd94738ba0a36b5073578f5",
        "IPY_MODEL_00dc3286a5fe4913a238f83fffa1dde2",
        "IPY_MODEL_db0abab27bb94c68b5ad6957d35fc5a3"
       ],
       "layout": "IPY_MODEL_8436b9f1970d457784f1d63065d8b77f"
      }
     },
     "4373564561894d54b0eaabd5bca87c72": {
      "model_module": "@jupyter-widgets/controls",
      "model_module_version": "2.0.0",
      "model_name": "ToggleButtonStyleModel",
      "state": {
       "description_width": "",
       "font_family": null,
       "font_size": null,
       "font_style": null,
       "font_variant": null,
       "font_weight": null,
       "text_color": null,
       "text_decoration": null
      }
     },
     "43a9dd51ff2e44b99b9fc95ca2dea18d": {
      "model_module": "@jupyter-widgets/base",
      "model_module_version": "2.0.0",
      "model_name": "LayoutModel",
      "state": {}
     },
     "43d56488a43248d4b946406bbaeb2dff": {
      "model_module": "ipytree",
      "model_module_version": "^0.2",
      "model_name": "NodeModel",
      "state": {
       "_id": "c0e5c61e-59a0-4128-ba1f-160766ddebfa",
       "_model_module_version": "^0.2",
       "_view_module_version": "^0.2",
       "icon": "file",
       "name": "type: Image"
      }
     },
     "43e0d7016300446e8d4c9272f4f12cce": {
      "model_module": "@jupyter-widgets/base",
      "model_module_version": "2.0.0",
      "model_name": "LayoutModel",
      "state": {
       "height": "25px",
       "padding": "0px 0px 0px 5px",
       "width": "25px"
      }
     },
     "452cd0a5355b457e9b7e4443ca43dffe": {
      "model_module": "ipytree",
      "model_module_version": "^0.2",
      "model_name": "NodeModel",
      "state": {
       "_id": "6ff2b747-dfd1-4064-91bf-767c9c90fb38",
       "_model_module_version": "^0.2",
       "_view_module_version": "^0.2",
       "icon": "file",
       "name": "1: 0"
      }
     },
     "45453a86b6c64e47bf9a10e166857b25": {
      "model_module": "ipytree",
      "model_module_version": "^0.2",
      "model_name": "NodeModel",
      "state": {
       "_id": "62b3d1df-d30c-4671-b266-9dbef3e169be",
       "_model_module_version": "^0.2",
       "_view_module_version": "^0.2",
       "icon": "file",
       "name": "1: 7901"
      }
     },
     "4547e8671d614959a3bcbefd3bd5a5a4": {
      "model_module": "jupyter-leaflet",
      "model_module_version": "^0.17",
      "model_name": "LeafletTileLayerModel",
      "state": {
       "_model_module_version": "^0.17",
       "_view_module_version": "^0.17",
       "attribution": "Google Earth Engine",
       "max_zoom": 24,
       "name": "snow image",
       "options": [
        "attribution",
        "bounds",
        "detect_retina",
        "max_native_zoom",
        "max_zoom",
        "min_native_zoom",
        "min_zoom",
        "no_wrap",
        "tile_size",
        "tms",
        "zoom_offset"
       ],
       "url": "https://earthengine.googleapis.com/v1/projects/earthengine-legacy/maps/2398bcc09b8c8a87ea6700f63910ad17-c179b5009d9038420127b535e4eb8567/tiles/{z}/{x}/{y}",
       "visible": false
      }
     },
     "4572f448156c467aaedf9c1cbca4291f": {
      "model_module": "ipytree",
      "model_module_version": "^0.2",
      "model_name": "NodeModel",
      "state": {
       "_id": "22bbb438-5c67-4474-9777-84fddad44cce",
       "_model_module_version": "^0.2",
       "_view_module_version": "^0.2",
       "icon": "file",
       "name": "1: 0"
      }
     },
     "45e431e7231b419aaa36fa71432ba489": {
      "model_module": "@jupyter-widgets/base",
      "model_module_version": "2.0.0",
      "model_name": "LayoutModel",
      "state": {
       "height": "25px",
       "padding": "0px 0px 0px 5px",
       "width": "25px"
      }
     },
     "45f055bf124f42bebd942e92efe82cad": {
      "model_module": "ipytree",
      "model_module_version": "^0.2",
      "model_name": "NodeModel",
      "state": {
       "_id": "0d8c5ec8-e08e-46a6-bf07-f43f5e352130",
       "_model_module_version": "^0.2",
       "_view_module_version": "^0.2",
       "icon": "file",
       "name": "min: -1"
      }
     },
     "465295955a24455aa7ee02600092d39b": {
      "model_module": "@jupyter-widgets/output",
      "model_module_version": "1.0.0",
      "model_name": "OutputModel",
      "state": {
       "layout": "IPY_MODEL_cd41f5bf73b643cab195f1136ac8ba86",
       "outputs": [
        {
         "data": {
          "application/vnd.jupyter.widget-view+json": {
           "model_id": "2d4e2779d59d41ea920a711aaa468632",
           "version_major": 2,
           "version_minor": 0
          },
          "text/plain": "HBox(children=(Label(value='Expand   ', layout=Layout(padding='0px 0px 0px 4px')), Label(value=''), Checkbox(v…"
         },
         "metadata": {},
         "output_type": "display_data"
        },
        {
         "data": {
          "application/vnd.jupyter.widget-view+json": {
           "model_id": "2c98e507c6184e6b83b87138c286d422",
           "version_major": 2,
           "version_minor": 0
          },
          "text/plain": "Tree(nodes=(Node(close_icon='minus-square', close_icon_style='info', icon='map', name='Point (-111.327, 42.062…"
         },
         "metadata": {},
         "output_type": "display_data"
        }
       ]
      }
     },
     "46d4323184e54ca983e595e514416c91": {
      "model_module": "@jupyter-widgets/controls",
      "model_module_version": "2.0.0",
      "model_name": "ToggleButtonModel",
      "state": {
       "icon": "gear",
       "layout": "IPY_MODEL_674dcc1acaa44d1193342fff62bb3762",
       "style": "IPY_MODEL_cd7005a54ad94c87bfe97729e9ee5835",
       "tooltip": "NDBSI masked"
      }
     },
     "470a4a603509436ba9408cad6bdb5b85": {
      "model_module": "ipytree",
      "model_module_version": "^0.2",
      "model_name": "NodeModel",
      "state": {
       "_id": "acf312b1-6a02-4bc7-bfa7-3aea0682d0da",
       "_model_module_version": "^0.2",
       "_view_module_version": "^0.2",
       "icon": "file",
       "name": "min: -1"
      }
     },
     "47351e59808d47ef96a2a7d99ca7868b": {
      "model_module": "@jupyter-widgets/base",
      "model_module_version": "2.0.0",
      "model_name": "LayoutModel",
      "state": {
       "height": "18px",
       "width": "140px"
      }
     },
     "476c5e4399a8432389d8ff4e97ac6c6f": {
      "model_module": "@jupyter-widgets/controls",
      "model_module_version": "2.0.0",
      "model_name": "CheckboxModel",
      "state": {
       "description": "Google Maps",
       "disabled": false,
       "indent": false,
       "layout": "IPY_MODEL_8a6317ca01e4407fabbb9ead2aa83957",
       "style": "IPY_MODEL_85a17dd1e6024cbf924f77135e9654ed",
       "value": false
      }
     },
     "47a51116f546465099711ff4ac945007": {
      "model_module": "ipytree",
      "model_module_version": "^0.2",
      "model_name": "NodeModel",
      "state": {
       "_id": "71c61e4c-51a8-448c-aa57-bc40a509e1c6",
       "_model_module_version": "^0.2",
       "_view_module_version": "^0.2",
       "icon": "file",
       "name": "0: 30"
      }
     },
     "47d850f376ac482a85a04b7e04d8b90d": {
      "model_module": "ipytree",
      "model_module_version": "^0.2",
      "model_name": "NodeModel",
      "state": {
       "_id": "17bf7f6e-217e-482c-a322-c33c157b1fe2",
       "_model_module_version": "^0.2",
       "_view_module_version": "^0.2",
       "icon": "file",
       "name": "precision: float"
      }
     },
     "4853eef2d9ec4498a3696de01a4206b4": {
      "model_module": "jupyter-leaflet",
      "model_module_version": "^0.17",
      "model_name": "LeafletTileLayerModel",
      "state": {
       "_model_module_version": "^0.17",
       "_view_module_version": "^0.17",
       "attribution": "Google Earth Engine",
       "max_zoom": 24,
       "name": "EVI",
       "options": [
        "attribution",
        "bounds",
        "detect_retina",
        "max_native_zoom",
        "max_zoom",
        "min_native_zoom",
        "min_zoom",
        "no_wrap",
        "tile_size",
        "tms",
        "zoom_offset"
       ],
       "url": "https://earthengine.googleapis.com/v1/projects/earthengine-legacy/maps/c73f68338ddeb974e2145b3eca5c3fd9-a3ac7d3f3d822d0c5cd695af64c73e95/tiles/{z}/{x}/{y}",
       "visible": false
      }
     },
     "48d80bf652254ebfad6116bed2b0947e": {
      "model_module": "@jupyter-widgets/controls",
      "model_module_version": "2.0.0",
      "model_name": "ToggleButtonStyleModel",
      "state": {
       "description_width": "",
       "font_family": null,
       "font_size": null,
       "font_style": null,
       "font_variant": null,
       "font_weight": null,
       "text_color": null,
       "text_decoration": null
      }
     },
     "48de875d3f994bcd8f90ffec2209b4a7": {
      "model_module": "@jupyter-widgets/controls",
      "model_module_version": "2.0.0",
      "model_name": "LinkModel",
      "state": {
       "source": [
        "IPY_MODEL_f09dc185b4fa451b9c54aeb90ede8e9a",
        "value"
       ],
       "target": [
        "IPY_MODEL_76f983146efe4f719102356cb1e799db",
        "visible"
       ]
      }
     },
     "49c696dec84c4d3ba46c0c1d680029f5": {
      "model_module": "@jupyter-widgets/controls",
      "model_module_version": "2.0.0",
      "model_name": "ToggleButtonStyleModel",
      "state": {
       "description_width": "",
       "font_family": null,
       "font_size": null,
       "font_style": null,
       "font_variant": null,
       "font_weight": null,
       "text_color": null,
       "text_decoration": null
      }
     },
     "49ce893ee29f44468c09db86de47eef8": {
      "model_module": "@jupyter-widgets/controls",
      "model_module_version": "2.0.0",
      "model_name": "CheckboxStyleModel",
      "state": {
       "description_width": ""
      }
     },
     "4ac0990e4eda42d88ca6d937549a36cf": {
      "model_module": "@jupyter-widgets/base",
      "model_module_version": "2.0.0",
      "model_name": "LayoutModel",
      "state": {}
     },
     "4b3261113de240b3994c4f0b417f1abb": {
      "model_module": "@jupyter-widgets/base",
      "model_module_version": "2.0.0",
      "model_name": "LayoutModel",
      "state": {
       "height": "25px",
       "padding": "0px 0px 0px 5px",
       "width": "25px"
      }
     },
     "4b331f7c0c5b4fcd8fc04d05cef00a38": {
      "model_module": "@jupyter-widgets/base",
      "model_module_version": "2.0.0",
      "model_name": "LayoutModel",
      "state": {
       "width": "500px"
      }
     },
     "4b3ca34c5923441882de38c575f99ae7": {
      "model_module": "ipytree",
      "model_module_version": "^0.2",
      "model_name": "NodeModel",
      "state": {
       "_id": "7d20d4bf-0ee7-4b8d-81f0-c7929b326e43",
       "_model_module_version": "^0.2",
       "_view_module_version": "^0.2",
       "name": "Longitude: -111.14467368833564"
      }
     },
     "4bdb08adff67458099e9b9eaa4e5cf0d": {
      "model_module": "ipytree",
      "model_module_version": "^0.2",
      "model_name": "NodeModel",
      "state": {
       "_id": "328900f6-67e4-47a1-ac73-a3b29785df2b",
       "_model_module_version": "^0.2",
       "_view_module_version": "^0.2",
       "icon": "file",
       "name": "min: -1"
      }
     },
     "4bfb38a15f2546c498a415ba6bfb0440": {
      "model_module": "@jupyter-widgets/controls",
      "model_module_version": "2.0.0",
      "model_name": "ToggleButtonModel",
      "state": {
       "button_style": "primary",
       "icon": "info-circle",
       "layout": "IPY_MODEL_7f4f7c8ffd9b4d9bbf5cbeaeeddfbcee",
       "style": "IPY_MODEL_0c2399bd9cf348be8359e880e04389cd",
       "tooltip": "Get COG/STAC pixel value"
      }
     },
     "4c197d77504e4078beb1c8e7cb9cb4d3": {
      "model_module": "@jupyter-widgets/controls",
      "model_module_version": "2.0.0",
      "model_name": "VBoxModel",
      "state": {
       "children": [
        "IPY_MODEL_1082550b1c414c2bb49d6d13d793889c",
        "IPY_MODEL_57ce5d95038d40c690e42abe9f877df5"
       ],
       "layout": "IPY_MODEL_38a4abaa406444a898ddfb7ac8b37faa"
      }
     },
     "4c5815c7f0e54eaeae2be572237ee81a": {
      "model_module": "@jupyter-widgets/controls",
      "model_module_version": "2.0.0",
      "model_name": "ToggleButtonStyleModel",
      "state": {
       "description_width": "",
       "font_family": null,
       "font_size": null,
       "font_style": null,
       "font_variant": null,
       "font_weight": null,
       "text_color": null,
       "text_decoration": null
      }
     },
     "4d150c10b16746cd978243e8ef52dbb3": {
      "model_module": "ipytree",
      "model_module_version": "^0.2",
      "model_name": "NodeModel",
      "state": {
       "_id": "383ace5b-55d4-447e-b5d9-b704f474c824",
       "_model_module_version": "^0.2",
       "_view_module_version": "^0.2",
       "icon": "file",
       "name": "crs: EPSG:32612"
      }
     },
     "4d20122c3f6b406eaf60602de8ddb688": {
      "model_module": "@jupyter-widgets/base",
      "model_module_version": "2.0.0",
      "model_name": "LayoutModel",
      "state": {}
     },
     "4d2f522d03144044bfb47d7f23c46212": {
      "model_module": "@jupyter-widgets/base",
      "model_module_version": "2.0.0",
      "model_name": "LayoutModel",
      "state": {
       "width": "80px"
      }
     },
     "4d8e2e1fb4514474b6f63b67b0a87022": {
      "model_module": "@jupyter-widgets/base",
      "model_module_version": "2.0.0",
      "model_name": "LayoutModel",
      "state": {
       "width": "340px"
      }
     },
     "4db88b1ffb4e4c6c8ff8cf5134a0dcf2": {
      "model_module": "ipytree",
      "model_module_version": "^0.2",
      "model_name": "NodeModel",
      "state": {
       "_id": "e4aca57e-909d-4265-92c4-3667948e45d7",
       "_model_module_version": "^0.2",
       "_view_module_version": "^0.2",
       "icon": "file",
       "name": "type: Image"
      }
     },
     "4ece151c110a43c08a6814f29f5e9a9a": {
      "model_module": "@jupyter-widgets/base",
      "model_module_version": "2.0.0",
      "model_name": "LayoutModel",
      "state": {
       "height": "25px",
       "padding": "0px 0px 0px 5px",
       "width": "25px"
      }
     },
     "4eee7bfa57484e798684576087998661": {
      "model_module": "@jupyter-widgets/base",
      "model_module_version": "2.0.0",
      "model_name": "LayoutModel",
      "state": {
       "width": "80px"
      }
     },
     "4f24842bc6d04d27b8d37c4155802324": {
      "model_module": "jupyter-leaflet",
      "model_module_version": "^0.17",
      "model_name": "LeafletDrawControlModel",
      "state": {
       "_model_module_version": "^0.17",
       "_view_module_version": "^0.17",
       "marker": {
        "shapeOptions": {
         "color": "#3388ff"
        }
       },
       "options": [
        "position"
       ],
       "polygon": {
        "shapeOptions": {
         "clickable": true,
         "color": "#3388ff",
         "fill": true,
         "fillColor": null,
         "fillOpacity": 0.2,
         "opacity": 0.5,
         "stroke": true,
         "weight": 4
        }
       },
       "polyline": {
        "shapeOptions": {
         "clickable": true,
         "color": "#3388ff",
         "fill": false,
         "opacity": 0.5,
         "stroke": true,
         "weight": 4
        }
       },
       "rectangle": {
        "shapeOptions": {
         "clickable": true,
         "color": "#3388ff",
         "fill": true,
         "fillColor": null,
         "fillOpacity": 0.2,
         "opacity": 0.5,
         "stroke": true,
         "weight": 4
        }
       }
      }
     },
     "503e06733e0b454cbd32a7e5f995ccb6": {
      "model_module": "@jupyter-widgets/controls",
      "model_module_version": "2.0.0",
      "model_name": "HBoxModel",
      "state": {
       "children": [
        "IPY_MODEL_2e731e596a7d4102b7b9d5c5e0435efc",
        "IPY_MODEL_64d035c5699444779ddf5ce5f5e5ef6a",
        "IPY_MODEL_79aad1018e7941c58fc8045bcd58d20e"
       ],
       "layout": "IPY_MODEL_6b3c42fb0da8426c8a427d6c67ed2e62"
      }
     },
     "50909fa8f81b4bd9821c625456c945fe": {
      "model_module": "@jupyter-widgets/controls",
      "model_module_version": "2.0.0",
      "model_name": "LinkModel",
      "state": {
       "source": [
        "IPY_MODEL_a3cf34a8ab3f455d8b21680231380b61",
        "value"
       ],
       "target": [
        "IPY_MODEL_14ad4fc53c76437a931de0bb2f9447da",
        "visible"
       ]
      }
     },
     "50d7a646c2ba47c4ab938125b7fc3580": {
      "model_module": "@jupyter-widgets/controls",
      "model_module_version": "2.0.0",
      "model_name": "ToggleButtonStyleModel",
      "state": {
       "description_width": "",
       "font_family": null,
       "font_size": null,
       "font_style": null,
       "font_variant": null,
       "font_weight": null,
       "text_color": null,
       "text_decoration": null
      }
     },
     "51ea2ef03aeb49a8ae64a918597aee9a": {
      "model_module": "@jupyter-widgets/base",
      "model_module_version": "2.0.0",
      "model_name": "LayoutModel",
      "state": {
       "width": "70px"
      }
     },
     "523a76ff1717490897105cd0b71f26c2": {
      "model_module": "@jupyter-widgets/controls",
      "model_module_version": "2.0.0",
      "model_name": "FloatSliderModel",
      "state": {
       "behavior": "drag-tap",
       "layout": "IPY_MODEL_f5c27bcb5730407ea1104edb86e0ebf8",
       "max": 1,
       "readout": false,
       "step": 0.01,
       "style": "IPY_MODEL_b918ab6eab5a4182b67b86c7dab45fed",
       "value": 1
      }
     },
     "52f5e1bdd1a94d59ab2eeb8a1f372d93": {
      "model_module": "@jupyter-widgets/base",
      "model_module_version": "2.0.0",
      "model_name": "LayoutModel",
      "state": {}
     },
     "52f9c695e7f2475e81af521668667eee": {
      "model_module": "ipytree",
      "model_module_version": "^0.2",
      "model_name": "NodeModel",
      "state": {
       "_id": "86bd5651-2ae5-456f-b3b9-2f8b2bad9bbc",
       "_model_module_version": "^0.2",
       "_view_module_version": "^0.2",
       "name": "0: \"nd\", float, EPSG:32612, 7791x7901 px",
       "nodes": [
        "IPY_MODEL_7b4b152072d640e3935f39ef92176898",
        "IPY_MODEL_28c79397547a45fd96ab50e041346ff8",
        "IPY_MODEL_5f99cae23196470690b253a478005d4d",
        "IPY_MODEL_4d150c10b16746cd978243e8ef52dbb3",
        "IPY_MODEL_2963ae4c49174ece83800c500796fd02"
       ],
       "opened": false
      }
     },
     "53e7ef5b087c445da4e1bdccdb3cd9c7": {
      "model_module": "ipytree",
      "model_module_version": "^0.2",
      "model_name": "NodeModel",
      "state": {
       "_id": "9e83386b-9873-4c8d-90c4-35904ac6763f",
       "_model_module_version": "^0.2",
       "_view_module_version": "^0.2",
       "icon": "file",
       "name": "precision: float"
      }
     },
     "5425590333524ecf976fd6cae759c7d8": {
      "model_module": "@jupyter-widgets/controls",
      "model_module_version": "2.0.0",
      "model_name": "ToggleButtonModel",
      "state": {
       "button_style": "primary",
       "icon": "adjust",
       "layout": "IPY_MODEL_2d78b6d292164cb89c27d9c99b9b972b",
       "style": "IPY_MODEL_0e2a6b6b9b6b40beafac20160387ca6a",
       "tooltip": "Planet imagery"
      }
     },
     "547a205d6ab844dfacbf42d8160607a8": {
      "model_module": "@jupyter-widgets/controls",
      "model_module_version": "2.0.0",
      "model_name": "LinkModel",
      "state": {
       "source": [
        "IPY_MODEL_bf4e2b07b0e24f6cb8ca25f07e5ed2d2",
        "value"
       ],
       "target": [
        "IPY_MODEL_b3bb39c7f2ca44869616a3f58b7d688b",
        "visible"
       ]
      }
     },
     "5482ba613cf44929a75c833dde54eaeb": {
      "model_module": "@jupyter-widgets/base",
      "model_module_version": "2.0.0",
      "model_name": "LayoutModel",
      "state": {
       "padding": "0px 8px 0px 8px"
      }
     },
     "557917019d05442697f31de3d8ba7a03": {
      "model_module": "@jupyter-widgets/controls",
      "model_module_version": "2.0.0",
      "model_name": "LinkModel",
      "state": {
       "source": [
        "IPY_MODEL_93fc3d928c9b467b8129d9bcf5fe5492",
        "value"
       ],
       "target": [
        "IPY_MODEL_e6d78e3bf9b4445ca985c418a53aa0a1",
        "visible"
       ]
      }
     },
     "55ced07e6f4547c5a0011ab25453e76d": {
      "model_module": "ipytree",
      "model_module_version": "^0.2",
      "model_name": "NodeModel",
      "state": {
       "_id": "7d42de10-802d-442f-90bc-c4a9e68566a0",
       "_model_module_version": "^0.2",
       "_view_module_version": "^0.2",
       "icon": "file",
       "name": "5: 4741215"
      }
     },
     "574f60ab554b49ed99c4b52a5128828b": {
      "model_module": "@jupyter-widgets/controls",
      "model_module_version": "2.0.0",
      "model_name": "ToggleButtonStyleModel",
      "state": {
       "description_width": "",
       "font_family": null,
       "font_size": null,
       "font_style": null,
       "font_variant": null,
       "font_weight": null,
       "text_color": null,
       "text_decoration": null
      }
     },
     "57ce5d95038d40c690e42abe9f877df5": {
      "model_module": "@jupyter-widgets/controls",
      "model_module_version": "2.0.0",
      "model_name": "VBoxModel",
      "state": {
       "children": [
        "IPY_MODEL_9d9c3bb3477f4285b6297f04fabb0d36",
        "IPY_MODEL_e9d2706d2c734de99bca21fdb54f78dc",
        "IPY_MODEL_5cb83870a66c486289d079fe38f5a0ea",
        "IPY_MODEL_437186e64e2441ef8fa03ec8783fe46d",
        "IPY_MODEL_32d1ffd7336c49e79d7523201cb60653",
        "IPY_MODEL_26ec04ff991849fb9a1015d9a1155347",
        "IPY_MODEL_b89ec471cf95438c8ddd73677d28c038",
        "IPY_MODEL_c222035f974c48b498e285fdf874eeb4",
        "IPY_MODEL_a70019b5bad34583a52a5ca0214d9d3a",
        "IPY_MODEL_051c25d2bfc44299a78f52528d7b5dea",
        "IPY_MODEL_116025477eca434cac6e1cc364eb1efe",
        "IPY_MODEL_731bed7f2f324ed093af0bd24ad07d64"
       ],
       "layout": "IPY_MODEL_f9d085d562504aacbafea5bea8d257b8"
      }
     },
     "588dfc6b994f4cfab6bfded5b6905d70": {
      "model_module": "@jupyter-widgets/base",
      "model_module_version": "2.0.0",
      "model_name": "LayoutModel",
      "state": {
       "height": "25px",
       "padding": "0px 0px 0px 5px",
       "width": "25px"
      }
     },
     "588e63e026b24e7c81995410e5ad701a": {
      "model_module": "@jupyter-widgets/base",
      "model_module_version": "2.0.0",
      "model_name": "LayoutModel",
      "state": {
       "width": "80px"
      }
     },
     "596722d1e5f54606bceec7a5a95b136a": {
      "model_module": "@jupyter-widgets/base",
      "model_module_version": "2.0.0",
      "model_name": "LayoutModel",
      "state": {
       "padding": "0px 8px 0px 8px"
      }
     },
     "5ad27c603e3f425894bbcf55d98079b5": {
      "model_module": "@jupyter-widgets/base",
      "model_module_version": "2.0.0",
      "model_name": "LayoutModel",
      "state": {
       "height": "25px",
       "padding": "0px 0px 0px 5px",
       "width": "25px"
      }
     },
     "5c7831a4e9cc4dad80adbc297fcc243d": {
      "model_module": "@jupyter-widgets/controls",
      "model_module_version": "2.0.0",
      "model_name": "FloatSliderModel",
      "state": {
       "behavior": "drag-tap",
       "layout": "IPY_MODEL_e5d7d7417bef4481a08964ca86bd0ba3",
       "max": 1,
       "readout": false,
       "step": 0.01,
       "style": "IPY_MODEL_af3c060bc4ca47539605fab970cd70bd",
       "value": 1
      }
     },
     "5c79fcf2027d418e83fd92a51b34e2e8": {
      "model_module": "ipytree",
      "model_module_version": "^0.2",
      "model_name": "NodeModel",
      "state": {
       "_id": "1152bb85-0613-4dc5-b67b-89fb03659c09",
       "_model_module_version": "^0.2",
       "_view_module_version": "^0.2",
       "close_icon": "minus-square",
       "close_icon_style": "info",
       "icon": "archive",
       "name": "Pixels",
       "nodes": [
        "IPY_MODEL_b24eb8c1e5404a19b21f51e54ace69d7",
        "IPY_MODEL_869451ccf385474fb48f6491fe4a1ca9"
       ],
       "open_icon": "plus-square",
       "open_icon_style": "success"
      }
     },
     "5cb83870a66c486289d079fe38f5a0ea": {
      "model_module": "@jupyter-widgets/controls",
      "model_module_version": "2.0.0",
      "model_name": "HBoxModel",
      "state": {
       "children": [
        "IPY_MODEL_6deb1dae793c46d8b3040a5078cbbf5f",
        "IPY_MODEL_ff3e358d59be40ef92c2501ccc2dae6f",
        "IPY_MODEL_18999aa9936846148a386e111cb3182b"
       ],
       "layout": "IPY_MODEL_1358abac35d64d42b4a6825334e0b5e4"
      }
     },
     "5cc073f4139e414a9f733dd4b4412266": {
      "model_module": "@jupyter-widgets/controls",
      "model_module_version": "2.0.0",
      "model_name": "DirectionalLinkModel",
      "state": {
       "source": [
        "IPY_MODEL_62d393fe9ec744dd9f40cdcdf7de166d",
        "value"
       ],
       "target": [
        "IPY_MODEL_4853eef2d9ec4498a3696de01a4206b4",
        "opacity"
       ]
      }
     },
     "5daf2d0f70c24a6893040e57395ef48c": {
      "model_module": "jupyter-leaflet",
      "model_module_version": "^0.17",
      "model_name": "LeafletMapStyleModel",
      "state": {
       "_model_module_version": "^0.17",
       "cursor": "default"
      }
     },
     "5dcdbe165e02481c9af59729f931974c": {
      "model_module": "ipytree",
      "model_module_version": "^0.2",
      "model_name": "NodeModel",
      "state": {
       "_id": "a104cd45-f306-4e06-8ca4-4bf63160835c",
       "_model_module_version": "^0.2",
       "_view_module_version": "^0.2",
       "name": "Latitude: 42.061763113680634"
      }
     },
     "5de51374c71943d0a0ec9d7c1add6523": {
      "model_module": "ipytree",
      "model_module_version": "^0.2",
      "model_name": "NodeModel",
      "state": {
       "_id": "dd1da49b-ea27-4985-a9a6-9bfd369b13b4",
       "_model_module_version": "^0.2",
       "_view_module_version": "^0.2",
       "icon": "file",
       "name": "id: nd"
      }
     },
     "5e0ef952b5804225876e978e1904fb8c": {
      "model_module": "@jupyter-widgets/controls",
      "model_module_version": "2.0.0",
      "model_name": "HBoxModel",
      "state": {
       "children": [
        "IPY_MODEL_a3cf34a8ab3f455d8b21680231380b61",
        "IPY_MODEL_abe9b8903b5d4e7aa8f4dda56da06d55",
        "IPY_MODEL_d7b2f30d324a4624b72416f788862b5c"
       ],
       "layout": "IPY_MODEL_d0b68b9c847e4c9eba4d10ffdadc49e2"
      }
     },
     "5e200be1beb643c5b2ce76dbada8e945": {
      "model_module": "ipytree",
      "model_module_version": "^0.2",
      "model_name": "NodeModel",
      "state": {
       "_id": "f5a37da2-af72-420f-89c1-3ebf3e6d5765",
       "_model_module_version": "^0.2",
       "_view_module_version": "^0.2",
       "name": "0: \"nd\", float, EPSG:32612, 7791x7901 px",
       "nodes": [
        "IPY_MODEL_dee15232aae146d8a33404345c3ef4a4",
        "IPY_MODEL_87ed3f96053c42f89d61f90236f3f4a8",
        "IPY_MODEL_65ab30879e114a8986e152a8ab175959",
        "IPY_MODEL_c4d8e121c7734578a95ac63cfaac98ea",
        "IPY_MODEL_6b2fdf0d5f5a43cb9ce84a2556c657cb"
       ],
       "opened": false
      }
     },
     "5e7982f0e76947ee85965ac815208f79": {
      "model_module": "@jupyter-widgets/controls",
      "model_module_version": "2.0.0",
      "model_name": "FloatSliderModel",
      "state": {
       "behavior": "drag-tap",
       "layout": "IPY_MODEL_588e63e026b24e7c81995410e5ad701a",
       "max": 1,
       "readout": false,
       "step": 0.01,
       "style": "IPY_MODEL_a790c37eaf40458f806da3643cc6f87d",
       "value": 1
      }
     },
     "5f99cae23196470690b253a478005d4d": {
      "model_module": "ipytree",
      "model_module_version": "^0.2",
      "model_name": "NodeModel",
      "state": {
       "_id": "c8e42e80-7bf2-40ef-a169-e62e112903e4",
       "_model_module_version": "^0.2",
       "_view_module_version": "^0.2",
       "name": "dimensions",
       "nodes": [
        "IPY_MODEL_9f7493a4bd774bbca9a57ee9398d9043",
        "IPY_MODEL_87cde21c4c524a07b6f109398b2a315a"
       ],
       "opened": false
      }
     },
     "5fe09b03c0f540a99fcdf66da9a63732": {
      "model_module": "@jupyter-widgets/controls",
      "model_module_version": "2.0.0",
      "model_name": "SliderStyleModel",
      "state": {
       "description_width": ""
      }
     },
     "604a756d57424ab18d3a7a0d71c01662": {
      "model_module": "@jupyter-widgets/output",
      "model_module_version": "1.0.0",
      "model_name": "OutputModel",
      "state": {
       "layout": "IPY_MODEL_2322c7de63c242a0a4278161f08b47fa",
       "outputs": [
        {
         "data": {
          "application/vnd.jupyter.widget-view+json": {
           "model_id": "2d4e2779d59d41ea920a711aaa468632",
           "version_major": 2,
           "version_minor": 0
          },
          "text/plain": "HBox(children=(Label(value='Expand   ', layout=Layout(padding='0px 0px 0px 4px')), Label(value=''), Checkbox(v…"
         },
         "metadata": {},
         "output_type": "display_data"
        }
       ]
      }
     },
     "60a746ea121f4d7cad688bf6039a6c8c": {
      "model_module": "jupyter-leaflet",
      "model_module_version": "^0.17",
      "model_name": "LeafletTileLayerModel",
      "state": {
       "_model_module_version": "^0.17",
       "_view_module_version": "^0.17",
       "attribution": "Google Earth Engine",
       "max_zoom": 24,
       "name": "NDBSI",
       "options": [
        "attribution",
        "bounds",
        "detect_retina",
        "max_native_zoom",
        "max_zoom",
        "min_native_zoom",
        "min_zoom",
        "no_wrap",
        "tile_size",
        "tms",
        "zoom_offset"
       ],
       "url": "https://earthengine.googleapis.com/v1/projects/earthengine-legacy/maps/755eb540f2bff63da412499e21c166e2-2882825714dd93308c2a03b3ee58c484/tiles/{z}/{x}/{y}",
       "visible": false
      }
     },
     "60cc43594517415d88e75ece561ca97c": {
      "model_module": "@jupyter-widgets/controls",
      "model_module_version": "2.0.0",
      "model_name": "ToggleButtonModel",
      "state": {
       "icon": "gear",
       "layout": "IPY_MODEL_4ece151c110a43c08a6814f29f5e9a9a",
       "style": "IPY_MODEL_84bceb6b1dfe4685b52eb434228b696b",
       "tooltip": "Google Maps"
      }
     },
     "610f4b85bb32452fa081e5e0ccb3d150": {
      "model_module": "@jupyter-widgets/base",
      "model_module_version": "2.0.0",
      "model_name": "LayoutModel",
      "state": {
       "height": "18px",
       "width": "140px"
      }
     },
     "6146aa8114674211a8ac55953f899ad9": {
      "model_module": "@jupyter-widgets/controls",
      "model_module_version": "2.0.0",
      "model_name": "HBoxModel",
      "state": {
       "children": [
        "IPY_MODEL_b154df2b20b6458baee27d5aa5c5569d",
        "IPY_MODEL_03083e0858ba476daefe6798d1e39541",
        "IPY_MODEL_112bb450a79541fc999bd051a6197038"
       ],
       "layout": "IPY_MODEL_a80d5210b24a4854b951b0170e99cdc1"
      }
     },
     "6164cd43de4b4367a57001f6124efd17": {
      "model_module": "@jupyter-widgets/controls",
      "model_module_version": "2.0.0",
      "model_name": "LinkModel",
      "state": {
       "source": [
        "IPY_MODEL_476c5e4399a8432389d8ff4e97ac6c6f",
        "value"
       ],
       "target": [
        "IPY_MODEL_e6d78e3bf9b4445ca985c418a53aa0a1",
        "visible"
       ]
      }
     },
     "61686c49e6f44ee0a6b29f60a61d8da9": {
      "model_module": "@jupyter-widgets/base",
      "model_module_version": "2.0.0",
      "model_name": "LayoutModel",
      "state": {
       "width": "80px"
      }
     },
     "619b6048f69a43b8b5b335016575d959": {
      "model_module": "@jupyter-widgets/controls",
      "model_module_version": "2.0.0",
      "model_name": "ToggleButtonsModel",
      "state": {
       "_options_labels": [
        "name/address",
        "lat-lon",
        "data"
       ],
       "button_style": "",
       "icons": [],
       "index": 0,
       "layout": "IPY_MODEL_378dcaf2745d48e1ad97751f0db09d02",
       "style": "IPY_MODEL_f33ff463629e402d876c5cb55220c19b",
       "tooltips": [
        "Search by place name or address",
        "Search by lat-lon coordinates",
        "Search Earth Engine data catalog"
       ]
      }
     },
     "62d393fe9ec744dd9f40cdcdf7de166d": {
      "model_module": "@jupyter-widgets/controls",
      "model_module_version": "2.0.0",
      "model_name": "FloatSliderModel",
      "state": {
       "behavior": "drag-tap",
       "layout": "IPY_MODEL_168bf79841f04bf7816dfe3674c2d979",
       "max": 1,
       "readout": false,
       "step": 0.01,
       "style": "IPY_MODEL_956ed29dbc0c4a7b8d822d15a5dccb04",
       "value": 1
      }
     },
     "63027473d63345a3b1b8221c1d7204e7": {
      "model_module": "@jupyter-widgets/controls",
      "model_module_version": "2.0.0",
      "model_name": "SliderStyleModel",
      "state": {
       "description_width": ""
      }
     },
     "639f875c74274bd3b349e47f13f08141": {
      "model_module": "@jupyter-widgets/base",
      "model_module_version": "2.0.0",
      "model_name": "LayoutModel",
      "state": {
       "height": "auto",
       "padding": "0px 0px 0px 4px",
       "width": "auto"
      }
     },
     "6449ddcb189b41e585cd7f7e10d69148": {
      "model_module": "@jupyter-widgets/controls",
      "model_module_version": "2.0.0",
      "model_name": "CheckboxModel",
      "state": {
       "description": "NDBSI",
       "disabled": false,
       "indent": false,
       "layout": "IPY_MODEL_91c32cda54034db8869b4750bb1c553b",
       "style": "IPY_MODEL_f3ac6b564fdf44df98ec423368d94265",
       "value": false
      }
     },
     "649b0021558d4faca19417ba0a7de02a": {
      "model_module": "jupyter-leaflet",
      "model_module_version": "^0.17",
      "model_name": "LeafletTileLayerModel",
      "state": {
       "_model_module_version": "^0.17",
       "_view_module_version": "^0.17",
       "attribution": "Google Earth Engine",
       "max_zoom": 24,
       "name": "Landsat8 Image",
       "options": [
        "attribution",
        "bounds",
        "detect_retina",
        "max_native_zoom",
        "max_zoom",
        "min_native_zoom",
        "min_zoom",
        "no_wrap",
        "tile_size",
        "tms",
        "zoom_offset"
       ],
       "url": "https://earthengine.googleapis.com/v1/projects/earthengine-legacy/maps/3f4de90aeb1a361d523c9bb7da5d9f8a-5f9f51b8feaa2b50e9b4d28c01215af5/tiles/{z}/{x}/{y}",
       "visible": false
      }
     },
     "64d035c5699444779ddf5ce5f5e5ef6a": {
      "model_module": "@jupyter-widgets/controls",
      "model_module_version": "2.0.0",
      "model_name": "ToggleButtonModel",
      "state": {
       "icon": "gear",
       "layout": "IPY_MODEL_d7448ffd9ca34391b0a175222b378844",
       "style": "IPY_MODEL_a9d8566e33f94eeabe6de3e7ddf8042a",
       "tooltip": "EVI"
      }
     },
     "65106a396bc24ab3a063c20df77c70a6": {
      "model_module": "@jupyter-widgets/controls",
      "model_module_version": "2.0.0",
      "model_name": "CheckboxStyleModel",
      "state": {
       "description_width": ""
      }
     },
     "65ab30879e114a8986e152a8ab175959": {
      "model_module": "ipytree",
      "model_module_version": "^0.2",
      "model_name": "NodeModel",
      "state": {
       "_id": "9d64eab7-4c42-449b-ace1-cbccb51f0a81",
       "_model_module_version": "^0.2",
       "_view_module_version": "^0.2",
       "name": "dimensions",
       "nodes": [
        "IPY_MODEL_15099bf35419420a8b5dbce0351173ba",
        "IPY_MODEL_45453a86b6c64e47bf9a10e166857b25"
       ],
       "opened": false
      }
     },
     "65e3ac711f9c437eba8e501919a7045c": {
      "model_module": "@jupyter-widgets/controls",
      "model_module_version": "2.0.0",
      "model_name": "ToggleButtonModel",
      "state": {
       "icon": "gear",
       "layout": "IPY_MODEL_c6aa7edc10fe42ff9c032710e1e1e54f",
       "style": "IPY_MODEL_9a34f170ccc34404a2a1d6d901743511",
       "tooltip": "NDWI masked"
      }
     },
     "664ba4ab9f6b4d3d80332b7c7fc93df7": {
      "model_module": "@jupyter-widgets/controls",
      "model_module_version": "2.0.0",
      "model_name": "ToggleButtonStyleModel",
      "state": {
       "description_width": "",
       "font_family": null,
       "font_size": null,
       "font_style": null,
       "font_variant": null,
       "font_weight": null,
       "text_color": null,
       "text_decoration": null
      }
     },
     "667130e72ece4b618bacd739c66bcc0e": {
      "model_module": "@jupyter-widgets/controls",
      "model_module_version": "2.0.0",
      "model_name": "ToggleButtonModel",
      "state": {
       "icon": "gear",
       "layout": "IPY_MODEL_4b3261113de240b3994c4f0b417f1abb",
       "style": "IPY_MODEL_769301a562784e8fa83eac8f3d472990",
       "tooltip": "NDSI"
      }
     },
     "674dcc1acaa44d1193342fff62bb3762": {
      "model_module": "@jupyter-widgets/base",
      "model_module_version": "2.0.0",
      "model_name": "LayoutModel",
      "state": {
       "height": "25px",
       "padding": "0px 0px 0px 5px",
       "width": "25px"
      }
     },
     "68d0cb905cb247cfb29bd39d1332f493": {
      "model_module": "@jupyter-widgets/base",
      "model_module_version": "2.0.0",
      "model_name": "LayoutModel",
      "state": {
       "width": "80px"
      }
     },
     "69251764843244e7ad8d75f2fc573dac": {
      "model_module": "@jupyter-widgets/controls",
      "model_module_version": "2.0.0",
      "model_name": "SliderStyleModel",
      "state": {
       "description_width": ""
      }
     },
     "6974077dd9fe4d65a28c121491ddab1c": {
      "model_module": "ipytree",
      "model_module_version": "^0.2",
      "model_name": "NodeModel",
      "state": {
       "_id": "24d3c9b5-0260-48ab-8b5f-cfb08d6b01d1",
       "_model_module_version": "^0.2",
       "_view_module_version": "^0.2",
       "name": "NDSI masked: Image (1 band)",
       "nodes": [
        "IPY_MODEL_7227b8d930294989a81403e1a30479b8"
       ]
      }
     },
     "69ac08d5d443458a93797e86d4347024": {
      "model_module": "ipytree",
      "model_module_version": "^0.2",
      "model_name": "NodeModel",
      "state": {
       "_id": "af1e3fda-7077-4313-961a-b2a8c4ba9e00",
       "_model_module_version": "^0.2",
       "_view_module_version": "^0.2",
       "name": "data_type",
       "nodes": [
        "IPY_MODEL_9467cbf8e69a49719d27990f67be37ae",
        "IPY_MODEL_d4fb950c5d6042a6b1e92858fac11a85",
        "IPY_MODEL_d5a46da90874462bb4059c2f2ed3b477",
        "IPY_MODEL_69ff62521ac44195b2fdb5b6a2ff3240"
       ],
       "opened": false
      }
     },
     "69c650f51f2d412bbc051547ab0b4739": {
      "model_module": "@jupyter-widgets/base",
      "model_module_version": "2.0.0",
      "model_name": "LayoutModel",
      "state": {
       "width": "80px"
      }
     },
     "69ff62521ac44195b2fdb5b6a2ff3240": {
      "model_module": "ipytree",
      "model_module_version": "^0.2",
      "model_name": "NodeModel",
      "state": {
       "_id": "b03e290e-5eda-431f-9511-60c43b41449f",
       "_model_module_version": "^0.2",
       "_view_module_version": "^0.2",
       "icon": "file",
       "name": "max: 1"
      }
     },
     "6b2fdf0d5f5a43cb9ce84a2556c657cb": {
      "model_module": "ipytree",
      "model_module_version": "^0.2",
      "model_name": "NodeModel",
      "state": {
       "_id": "47c7b8e4-4ee9-44c5-833d-c201d42ac17a",
       "_model_module_version": "^0.2",
       "_view_module_version": "^0.2",
       "name": "crs_transform",
       "nodes": [
        "IPY_MODEL_1f20543c83d94571a84342dbb570ec39",
        "IPY_MODEL_818f3fd76c9f4fee856713e73b6828b2",
        "IPY_MODEL_ef0e7837716d4a42a8a7d156b5c2758b",
        "IPY_MODEL_e99ef26a70fb455a868e3f1be9da162b",
        "IPY_MODEL_f70ed94e6df445e29c8ae558cdc34672",
        "IPY_MODEL_89a2ff6e74154f6597eee9136d6a0845"
       ],
       "opened": false
      }
     },
     "6b3c42fb0da8426c8a427d6c67ed2e62": {
      "model_module": "@jupyter-widgets/base",
      "model_module_version": "2.0.0",
      "model_name": "LayoutModel",
      "state": {
       "padding": "0px 8px 0px 8px"
      }
     },
     "6b4af15b51e94a1897083c3cf337302c": {
      "model_module": "jupyter-leaflet",
      "model_module_version": "^0.17",
      "model_name": "LeafletMapStyleModel",
      "state": {
       "_model_module_version": "^0.17",
       "cursor": "crosshair"
      }
     },
     "6bb6a102e96f407e994c3efab2e33fe9": {
      "model_module": "ipytree",
      "model_module_version": "^0.2",
      "model_name": "NodeModel",
      "state": {
       "_id": "019eefb9-726a-44fc-80cf-51223a0edde8",
       "_model_module_version": "^0.2",
       "_view_module_version": "^0.2",
       "name": "Scale (approx. m/px): 113.83468928780805"
      }
     },
     "6c256479972546a1a96c23f1d3cac4bf": {
      "model_module": "@jupyter-widgets/base",
      "model_module_version": "2.0.0",
      "model_name": "LayoutModel",
      "state": {}
     },
     "6cda89b6bc804e9c88350615f9658d40": {
      "model_module": "@jupyter-widgets/base",
      "model_module_version": "2.0.0",
      "model_name": "LayoutModel",
      "state": {
       "height": "600px"
      }
     },
     "6d121fc6221645259a9fa5f90765a0ba": {
      "model_module": "@jupyter-widgets/controls",
      "model_module_version": "2.0.0",
      "model_name": "SliderStyleModel",
      "state": {
       "description_width": ""
      }
     },
     "6d9ff2f0cd1742e0a36eba11a06163d6": {
      "model_module": "@jupyter-widgets/controls",
      "model_module_version": "2.0.0",
      "model_name": "FloatSliderModel",
      "state": {
       "behavior": "drag-tap",
       "layout": "IPY_MODEL_374dd5d54fa1483d905e8517b8c7d4f7",
       "max": 1,
       "readout": false,
       "step": 0.01,
       "style": "IPY_MODEL_865e071768dd49a397149a551a2aa6f7",
       "value": 1
      }
     },
     "6deb1dae793c46d8b3040a5078cbbf5f": {
      "model_module": "@jupyter-widgets/controls",
      "model_module_version": "2.0.0",
      "model_name": "CheckboxModel",
      "state": {
       "description": "Landsat8 Image",
       "disabled": false,
       "indent": false,
       "layout": "IPY_MODEL_7d31c92c8534457ab54c7c3967fd397b",
       "style": "IPY_MODEL_e5fdfdccfc0c4811808cd7d91093bbe4",
       "value": false
      }
     },
     "6e314f534551404a8d2b8f0ecdafa581": {
      "model_module": "@jupyter-widgets/controls",
      "model_module_version": "2.0.0",
      "model_name": "CheckboxModel",
      "state": {
       "description": "Point",
       "disabled": false,
       "indent": false,
       "layout": "IPY_MODEL_8c2f98adff6548cfbc67cb67e6ab2a21",
       "style": "IPY_MODEL_49ce893ee29f44468c09db86de47eef8",
       "value": false
      }
     },
     "6ee1db30d3d44862bccb7e2daaedc111": {
      "model_module": "jupyter-leaflet",
      "model_module_version": "^0.17",
      "model_name": "LeafletMapStyleModel",
      "state": {
       "_model_module_version": "^0.17",
       "cursor": "crosshair"
      }
     },
     "6f00716f82c54996975efbf264b5b796": {
      "model_module": "@jupyter-widgets/controls",
      "model_module_version": "2.0.0",
      "model_name": "FloatSliderModel",
      "state": {
       "behavior": "drag-tap",
       "layout": "IPY_MODEL_727de95fa700402e9d2a8e9431967ffc",
       "max": 1,
       "readout": false,
       "step": 0.01,
       "style": "IPY_MODEL_dbe606cb6e4d49b1a85927ce30fd9da7",
       "value": 1
      }
     },
     "6f43212304be42799f2d79608e590e35": {
      "model_module": "@jupyter-widgets/base",
      "model_module_version": "2.0.0",
      "model_name": "LayoutModel",
      "state": {}
     },
     "6f588eedb81e43cd8f56483db9ee9527": {
      "model_module": "@jupyter-widgets/base",
      "model_module_version": "2.0.0",
      "model_name": "LayoutModel",
      "state": {
       "height": "auto",
       "padding": "0px 0px 0px 4px",
       "width": "auto"
      }
     },
     "6f5e5295027f44a68f9d17bdd953a01d": {
      "model_module": "@jupyter-widgets/controls",
      "model_module_version": "2.0.0",
      "model_name": "CheckboxModel",
      "state": {
       "description": "snow image",
       "disabled": false,
       "indent": false,
       "layout": "IPY_MODEL_3432a1007d984d76bc42eab188d104d8",
       "style": "IPY_MODEL_bde88cdd96c14554bf0e2cfba82e54a4",
       "value": false
      }
     },
     "6fbfecd6571a43faa33eff7590e340ef": {
      "model_module": "ipytree",
      "model_module_version": "^0.2",
      "model_name": "NodeModel",
      "state": {
       "_id": "4039c494-6c6c-42cd-9955-89fa8413057a",
       "_model_module_version": "^0.2",
       "_view_module_version": "^0.2",
       "name": "bands: List (1 elements)",
       "nodes": [
        "IPY_MODEL_5e200be1beb643c5b2ce76dbada8e945"
       ],
       "opened": false
      }
     },
     "7089f2d4e2484da0aaf3e62e8a30c368": {
      "model_module": "ipytree",
      "model_module_version": "^0.2",
      "model_name": "NodeModel",
      "state": {
       "_id": "d6ce0b2c-8424-4542-82b6-14851e44fec5",
       "_model_module_version": "^0.2",
       "_view_module_version": "^0.2",
       "icon": "file",
       "name": "0: 30"
      }
     },
     "70a2469b3ff441679c7927b52142414b": {
      "model_module": "ipytree",
      "model_module_version": "^0.2",
      "model_name": "NodeModel",
      "state": {
       "_id": "7c54fa13-f936-4b37-8a85-f7072a4c94c6",
       "_model_module_version": "^0.2",
       "_view_module_version": "^0.2",
       "close_icon": "minus-square",
       "close_icon_style": "info",
       "icon": "archive",
       "name": "Objects",
       "nodes": [
        "IPY_MODEL_36a49767b74049f99948b7537ddb7f2a",
        "IPY_MODEL_ef1e3d2529c24f0ebf69b92234f3b5b3"
       ],
       "open_icon": "plus-square",
       "open_icon_style": "success"
      }
     },
     "70bb2c5720d14b7fa2a07e7dbd843b9e": {
      "model_module": "jupyter-leaflet",
      "model_module_version": "^0.17",
      "model_name": "LeafletMapModel",
      "state": {
       "_model_module_version": "^0.17",
       "_view_module_version": "^0.17",
       "bottom": 24760,
       "center": [
        41.45919537950706,
        -111.70074462890625
       ],
       "controls": [
        "IPY_MODEL_dc3982fa47174002aa90e5c186727bae",
        "IPY_MODEL_ac769d242eef40fe821e8470f40757e9",
        "IPY_MODEL_75e36b16e68645be82b1af5d95780508",
        "IPY_MODEL_4f24842bc6d04d27b8d37c4155802324",
        "IPY_MODEL_a2057f3d5a8d453d9bb400f65d040157",
        "IPY_MODEL_ce1e641e940d4fa3a178cd9c9da5677c",
        "IPY_MODEL_12c8e64e79784cb79ddabc6ffce6a385",
        "IPY_MODEL_7f20ab9efbf842b9afd57576a613dd82"
       ],
       "default_style": "IPY_MODEL_5daf2d0f70c24a6893040e57395ef48c",
       "dragging_style": "IPY_MODEL_18b1e9de4f554c3ebd8a208def00528e",
       "east": -109.83701221471534,
       "fullscreen": false,
       "interpolation": "bilinear",
       "layers": [
        "IPY_MODEL_0e9f8c2bcd344b58b7bddcdb5a35e365",
        "IPY_MODEL_e6d78e3bf9b4445ca985c418a53aa0a1",
        "IPY_MODEL_649b0021558d4faca19417ba0a7de02a",
        "IPY_MODEL_b3bb39c7f2ca44869616a3f58b7d688b",
        "IPY_MODEL_4853eef2d9ec4498a3696de01a4206b4",
        "IPY_MODEL_14ad4fc53c76437a931de0bb2f9447da",
        "IPY_MODEL_73f8dcd1ad0b428c88e36701fef0a659",
        "IPY_MODEL_60a746ea121f4d7cad688bf6039a6c8c",
        "IPY_MODEL_8c9b7e5428a145f09aeef75c424974ab",
        "IPY_MODEL_4547e8671d614959a3bcbefd3bd5a5a4",
        "IPY_MODEL_094ce966747b4f2aa8ce644a1cdf3b4f",
        "IPY_MODEL_76f983146efe4f719102356cb1e799db"
       ],
       "layout": "IPY_MODEL_6cda89b6bc804e9c88350615f9658d40",
       "left": 12095,
       "max_zoom": 24,
       "modisdate": "2024-03-05",
       "north": 42.68243539838623,
       "options": [
        "bounce_at_zoom_limits",
        "box_zoom",
        "center",
        "close_popup_on_click",
        "double_click_zoom",
        "dragging",
        "fullscreen",
        "inertia",
        "inertia_deceleration",
        "inertia_max_speed",
        "interpolation",
        "keyboard",
        "keyboard_pan_offset",
        "keyboard_zoom_offset",
        "max_zoom",
        "min_zoom",
        "prefer_canvas",
        "scroll_wheel_zoom",
        "tap",
        "tap_tolerance",
        "touch_zoom",
        "world_copy_jump",
        "zoom",
        "zoom_animation_threshold",
        "zoom_delta",
        "zoom_snap"
       ],
       "prefer_canvas": false,
       "right": 12772.782131934488,
       "scroll_wheel_zoom": true,
       "south": 40.212440718286466,
       "style": "IPY_MODEL_5daf2d0f70c24a6893040e57395ef48c",
       "top": 24160,
       "west": -113.56018066406251,
       "window_url": "https://jupyterhub.cuahsi.org/user/torresrua/lab/tree/courses/RS_of_Land_Surfaces_laboratory/Lab%203%20Spectral%20Indices%20and%20Transformations.ipynb",
       "zoom": 8
      }
     },
     "70bc7b2423a649c6b4f02d93bea11f95": {
      "model_module": "@jupyter-widgets/controls",
      "model_module_version": "2.0.0",
      "model_name": "CheckboxModel",
      "state": {
       "description": "Landsat8 Image",
       "disabled": false,
       "indent": false,
       "layout": "IPY_MODEL_610f4b85bb32452fa081e5e0ccb3d150",
       "style": "IPY_MODEL_cf1da59b37e34f688e4518cc7b97aac4",
       "value": false
      }
     },
     "71563b07550a49bea99445e6383e6fad": {
      "model_module": "ipytree",
      "model_module_version": "^0.2",
      "model_name": "NodeModel",
      "state": {
       "_id": "f8b642ed-25b1-44e6-b3f5-77e5a6e388a3",
       "_model_module_version": "^0.2",
       "_view_module_version": "^0.2",
       "icon": "file",
       "name": "nd: -0.31"
      }
     },
     "71e31ba77c77405690e72c4ce04e06c6": {
      "model_module": "@jupyter-widgets/controls",
      "model_module_version": "2.0.0",
      "model_name": "ToggleButtonModel",
      "state": {
       "icon": "server",
       "layout": "IPY_MODEL_11b47029f23744bca5f430d113f9ee91",
       "style": "IPY_MODEL_782f91b2212746bc927c69deddbc926b",
       "tooltip": "Layer Manager",
       "value": true
      }
     },
     "720b3ca32edc4caa89b92e9f98857836": {
      "model_module": "@jupyter-widgets/controls",
      "model_module_version": "2.0.0",
      "model_name": "ButtonModel",
      "state": {
       "button_style": "primary",
       "description": "import",
       "layout": "IPY_MODEL_383900cc72c84380b58db1bb6c155e16",
       "style": "IPY_MODEL_d2ee4062668a46c7bfabd90cdf548cd4",
       "tooltip": "Click to import the selected asset"
      }
     },
     "72117f8d0e8048a78d52b331c5001d46": {
      "model_module": "@jupyter-widgets/base",
      "model_module_version": "2.0.0",
      "model_name": "LayoutModel",
      "state": {
       "height": "25px",
       "padding": "0px 0px 0px 5px",
       "width": "25px"
      }
     },
     "7227b8d930294989a81403e1a30479b8": {
      "model_module": "ipytree",
      "model_module_version": "^0.2",
      "model_name": "NodeModel",
      "state": {
       "_id": "f19a174b-da8f-47a2-9644-b0637cb36991",
       "_model_module_version": "^0.2",
       "_view_module_version": "^0.2",
       "icon": "file",
       "name": "nd: None"
      }
     },
     "727de95fa700402e9d2a8e9431967ffc": {
      "model_module": "@jupyter-widgets/base",
      "model_module_version": "2.0.0",
      "model_name": "LayoutModel",
      "state": {
       "width": "80px"
      }
     },
     "73148818b89c411bb956db51feba08c9": {
      "model_module": "@jupyter-widgets/controls",
      "model_module_version": "2.0.0",
      "model_name": "ToggleButtonStyleModel",
      "state": {
       "description_width": "",
       "font_family": null,
       "font_size": null,
       "font_style": null,
       "font_variant": null,
       "font_weight": null,
       "text_color": null,
       "text_decoration": null
      }
     },
     "731bed7f2f324ed093af0bd24ad07d64": {
      "model_module": "@jupyter-widgets/controls",
      "model_module_version": "2.0.0",
      "model_name": "HBoxModel",
      "state": {
       "children": [
        "IPY_MODEL_f09dc185b4fa451b9c54aeb90ede8e9a",
        "IPY_MODEL_982047c13c544f609631304488b0a090",
        "IPY_MODEL_8123cf5ffb3e4e39a56b4532d7e0621f"
       ],
       "layout": "IPY_MODEL_596722d1e5f54606bceec7a5a95b136a"
      }
     },
     "7328cef6e02646f1be6495c055e20d3c": {
      "model_module": "@jupyter-widgets/controls",
      "model_module_version": "2.0.0",
      "model_name": "HTMLModel",
      "state": {
       "layout": "IPY_MODEL_aea35d306e194dd6bd629879227d92ee",
       "style": "IPY_MODEL_13d7b3343fe14df381a9dbe543dc7570"
      }
     },
     "73376196aee648ccaa0571d4091e50c3": {
      "model_module": "@jupyter-widgets/controls",
      "model_module_version": "2.0.0",
      "model_name": "CheckboxStyleModel",
      "state": {
       "description_width": ""
      }
     },
     "73f8dcd1ad0b428c88e36701fef0a659": {
      "model_module": "jupyter-leaflet",
      "model_module_version": "^0.17",
      "model_name": "LeafletTileLayerModel",
      "state": {
       "_model_module_version": "^0.17",
       "_view_module_version": "^0.17",
       "attribution": "Google Earth Engine",
       "max_zoom": 24,
       "name": "NDWI masked",
       "options": [
        "attribution",
        "bounds",
        "detect_retina",
        "max_native_zoom",
        "max_zoom",
        "min_native_zoom",
        "min_zoom",
        "no_wrap",
        "tile_size",
        "tms",
        "zoom_offset"
       ],
       "url": "https://earthengine.googleapis.com/v1/projects/earthengine-legacy/maps/ab6d637f1916b5961e2c80ffa0b4e878-2930b7c0b8d06372527e2fe3741f0413/tiles/{z}/{x}/{y}",
       "visible": false
      }
     },
     "7442dbb5eb964bacbf42ddd97e50a6bf": {
      "model_module": "@jupyter-widgets/controls",
      "model_module_version": "2.0.0",
      "model_name": "DirectionalLinkModel",
      "state": {
       "source": [
        "IPY_MODEL_e17c382720cc485ea9f08b21766e3024",
        "value"
       ],
       "target": [
        "IPY_MODEL_73f8dcd1ad0b428c88e36701fef0a659",
        "opacity"
       ]
      }
     },
     "748792469ea6479ab6b36c4280c2df9f": {
      "model_module": "@jupyter-widgets/base",
      "model_module_version": "2.0.0",
      "model_name": "LayoutModel",
      "state": {}
     },
     "75e36b16e68645be82b1af5d95780508": {
      "model_module": "jupyter-leaflet",
      "model_module_version": "^0.17",
      "model_name": "LeafletFullScreenControlModel",
      "state": {
       "_model_module_version": "^0.17",
       "_view_module_version": "^0.17",
       "options": [
        "position"
       ]
      }
     },
     "769301a562784e8fa83eac8f3d472990": {
      "model_module": "@jupyter-widgets/controls",
      "model_module_version": "2.0.0",
      "model_name": "ToggleButtonStyleModel",
      "state": {
       "description_width": "",
       "font_family": null,
       "font_size": null,
       "font_style": null,
       "font_variant": null,
       "font_weight": null,
       "text_color": null,
       "text_decoration": null
      }
     },
     "76e80dc3e6b242d7b4af959c710fd47d": {
      "model_module": "@jupyter-widgets/output",
      "model_module_version": "1.0.0",
      "model_name": "OutputModel",
      "state": {
       "layout": "IPY_MODEL_43149664115c4587ad8d2540dd5acf9d",
       "outputs": [
        {
         "data": {
          "application/vnd.jupyter.widget-view+json": {
           "model_id": "2d4e2779d59d41ea920a711aaa468632",
           "version_major": 2,
           "version_minor": 0
          },
          "text/plain": "HBox(children=(Label(value='Expand   ', layout=Layout(padding='0px 0px 0px 4px')), Label(value=''), Checkbox(v…"
         },
         "metadata": {},
         "output_type": "display_data"
        },
        {
         "data": {
          "application/vnd.jupyter.widget-view+json": {
           "model_id": "06ea84714d2441c8bf308569d6322585",
           "version_major": 2,
           "version_minor": 0
          },
          "text/plain": "Tree(nodes=(Node(close_icon='minus-square', close_icon_style='info', icon='map', name='Point (-111.145, 41.873…"
         },
         "metadata": {},
         "output_type": "display_data"
        }
       ]
      }
     },
     "76f983146efe4f719102356cb1e799db": {
      "model_module": "jupyter-leaflet",
      "model_module_version": "^0.17",
      "model_name": "LeafletTileLayerModel",
      "state": {
       "_model_module_version": "^0.17",
       "_view_module_version": "^0.17",
       "attribution": "Google Earth Engine",
       "max_zoom": 24,
       "name": "NDSI masked",
       "options": [
        "attribution",
        "bounds",
        "detect_retina",
        "max_native_zoom",
        "max_zoom",
        "min_native_zoom",
        "min_zoom",
        "no_wrap",
        "tile_size",
        "tms",
        "zoom_offset"
       ],
       "url": "https://earthengine.googleapis.com/v1/projects/earthengine-legacy/maps/987b4b2338a197bd0274191447e026c3-fb5e6c4575ad3fc91a779bb924ec8375/tiles/{z}/{x}/{y}"
      }
     },
     "782c9c82016e4f5981cd4ecc6bc93160": {
      "model_module": "@jupyter-widgets/base",
      "model_module_version": "2.0.0",
      "model_name": "LayoutModel",
      "state": {
       "height": "18px",
       "width": "140px"
      }
     },
     "782f91b2212746bc927c69deddbc926b": {
      "model_module": "@jupyter-widgets/controls",
      "model_module_version": "2.0.0",
      "model_name": "ToggleButtonStyleModel",
      "state": {
       "description_width": "",
       "font_family": null,
       "font_size": null,
       "font_style": null,
       "font_variant": null,
       "font_weight": null,
       "text_color": null,
       "text_decoration": null
      }
     },
     "784909a8c29f408abea3ee40d4a0dd59": {
      "model_module": "ipytree",
      "model_module_version": "^0.2",
      "model_name": "NodeModel",
      "state": {
       "_id": "f271f19a-a248-483c-9e63-7fbc7174c0cd",
       "_model_module_version": "^0.2",
       "_view_module_version": "^0.2",
       "icon": "file",
       "name": "precision: float"
      }
     },
     "7865d5b463614a1bb89b7faf8b37a452": {
      "model_module": "@jupyter-widgets/base",
      "model_module_version": "2.0.0",
      "model_name": "LayoutModel",
      "state": {
       "height": "25px",
       "padding": "0px 0px 0px 5px",
       "width": "25px"
      }
     },
     "78e0fa237efd4412bc06725e54af5e75": {
      "model_module": "@jupyter-widgets/controls",
      "model_module_version": "2.0.0",
      "model_name": "LabelStyleModel",
      "state": {
       "description_width": "",
       "font_family": null,
       "font_size": null,
       "font_style": null,
       "font_variant": null,
       "font_weight": null,
       "text_color": null,
       "text_decoration": null
      }
     },
     "79aad1018e7941c58fc8045bcd58d20e": {
      "model_module": "@jupyter-widgets/controls",
      "model_module_version": "2.0.0",
      "model_name": "FloatSliderModel",
      "state": {
       "behavior": "drag-tap",
       "layout": "IPY_MODEL_b42237468ddf49bead20788e40d1ceff",
       "max": 1,
       "readout": false,
       "step": 0.01,
       "style": "IPY_MODEL_4083dd215a3a43ddbdb8c74713d7fc50",
       "value": 1
      }
     },
     "7a192d53a3284db1a87a79c7061c3324": {
      "model_module": "@jupyter-widgets/controls",
      "model_module_version": "2.0.0",
      "model_name": "ToggleButtonStyleModel",
      "state": {
       "description_width": "",
       "font_family": null,
       "font_size": null,
       "font_style": null,
       "font_variant": null,
       "font_weight": null,
       "text_color": null,
       "text_decoration": null
      }
     },
     "7b01e20c5922495bbbfb369f6ad5a88b": {
      "model_module": "@jupyter-widgets/controls",
      "model_module_version": "2.0.0",
      "model_name": "HBoxModel",
      "state": {
       "children": [
        "IPY_MODEL_70bc7b2423a649c6b4f02d93bea11f95",
        "IPY_MODEL_e7df62da119646bea1949137bbfc5c3f",
        "IPY_MODEL_b6dafaecc6c54526b64de3fd26fcc8fb"
       ],
       "layout": "IPY_MODEL_9d30c5e81221481aa4262e46d77ee9f8"
      }
     },
     "7b3df3b476664d30a53b7cfcb628e690": {
      "model_module": "ipytree",
      "model_module_version": "^0.2",
      "model_name": "NodeModel",
      "state": {
       "_id": "a6426929-7d0f-4044-9541-715b98242871",
       "_model_module_version": "^0.2",
       "_view_module_version": "^0.2",
       "name": "bands: List (1 elements)",
       "nodes": [
        "IPY_MODEL_fffd2019d3214a3598b23f742a78794f"
       ],
       "opened": false
      }
     },
     "7b4b152072d640e3935f39ef92176898": {
      "model_module": "ipytree",
      "model_module_version": "^0.2",
      "model_name": "NodeModel",
      "state": {
       "_id": "78354c06-70d0-4dc0-89fb-6a8d35429b81",
       "_model_module_version": "^0.2",
       "_view_module_version": "^0.2",
       "icon": "file",
       "name": "id: nd"
      }
     },
     "7b9e3aeb930e4e9e9085e0151ed97bec": {
      "model_module": "@jupyter-widgets/base",
      "model_module_version": "2.0.0",
      "model_name": "LayoutModel",
      "state": {
       "height": "18px",
       "width": "140px"
      }
     },
     "7be4cecb30784049bc09d74d4cdb8622": {
      "model_module": "@jupyter-widgets/base",
      "model_module_version": "2.0.0",
      "model_name": "LayoutModel",
      "state": {
       "height": "18px",
       "width": "140px"
      }
     },
     "7be7fc56df0742feb806663c7357fa89": {
      "model_module": "@jupyter-widgets/base",
      "model_module_version": "2.0.0",
      "model_name": "LayoutModel",
      "state": {
       "height": "25px",
       "padding": "0px 0px 0px 5px",
       "width": "25px"
      }
     },
     "7c107643768a4974b5396c388f8d9466": {
      "model_module": "@jupyter-widgets/controls",
      "model_module_version": "2.0.0",
      "model_name": "CheckboxStyleModel",
      "state": {
       "description_width": ""
      }
     },
     "7c51bd0e53dd4e9e9e977cb45b91e649": {
      "model_module": "@jupyter-widgets/controls",
      "model_module_version": "2.0.0",
      "model_name": "FloatSliderModel",
      "state": {
       "behavior": "drag-tap",
       "layout": "IPY_MODEL_33bbde54b15e48bfb1546eed9193eb75",
       "max": 1,
       "readout": false,
       "step": 0.01,
       "style": "IPY_MODEL_aba20e98d9aa4c1caac50c81d73f5dba",
       "value": 1
      }
     },
     "7cb66981528e4e98bfed6988fadfdb7f": {
      "model_module": "jupyter-leaflet",
      "model_module_version": "^0.17",
      "model_name": "LeafletMapStyleModel",
      "state": {
       "_model_module_version": "^0.17"
      }
     },
     "7d31c92c8534457ab54c7c3967fd397b": {
      "model_module": "@jupyter-widgets/base",
      "model_module_version": "2.0.0",
      "model_name": "LayoutModel",
      "state": {
       "height": "18px",
       "width": "140px"
      }
     },
     "7dfafa30f49f4fb8a190052193c0e93a": {
      "model_module": "@jupyter-widgets/base",
      "model_module_version": "2.0.0",
      "model_name": "LayoutModel",
      "state": {
       "height": "18px",
       "width": "140px"
      }
     },
     "7edc3cdf755d421bac6944c31ece901b": {
      "model_module": "@jupyter-widgets/base",
      "model_module_version": "2.0.0",
      "model_name": "LayoutModel",
      "state": {
       "height": "18px",
       "width": "140px"
      }
     },
     "7f20ab9efbf842b9afd57576a613dd82": {
      "model_module": "jupyter-leaflet",
      "model_module_version": "^0.17",
      "model_name": "LeafletAttributionControlModel",
      "state": {
       "_model_module_version": "^0.17",
       "_view_module_version": "^0.17",
       "options": [
        "position",
        "prefix"
       ],
       "position": "bottomright",
       "prefix": "ipyleaflet"
      }
     },
     "7f4f7c8ffd9b4d9bbf5cbeaeeddfbcee": {
      "model_module": "@jupyter-widgets/base",
      "model_module_version": "2.0.0",
      "model_name": "LayoutModel",
      "state": {
       "height": "auto",
       "padding": "0px 0px 0px 4px",
       "width": "auto"
      }
     },
     "7f545935adc047fa90cd1a55586adc34": {
      "model_module": "@jupyter-widgets/controls",
      "model_module_version": "2.0.0",
      "model_name": "ToggleButtonStyleModel",
      "state": {
       "description_width": "",
       "font_family": null,
       "font_size": null,
       "font_style": null,
       "font_variant": null,
       "font_weight": null,
       "text_color": null,
       "text_decoration": null
      }
     },
     "7fb59b45221d4005bab510ccb54e4dc7": {
      "model_module": "@jupyter-widgets/controls",
      "model_module_version": "2.0.0",
      "model_name": "ToggleButtonModel",
      "state": {
       "button_style": "primary",
       "icon": "info",
       "layout": "IPY_MODEL_975e73345425470e9665d559955510be",
       "style": "IPY_MODEL_9590cc1289254eb7aa660ab5a5bf0445",
       "tooltip": "Inspector"
      }
     },
     "7fc53b4808ab47c693cf5f5bfbb98924": {
      "model_module": "@jupyter-widgets/controls",
      "model_module_version": "2.0.0",
      "model_name": "LinkModel",
      "state": {
       "source": [
        "IPY_MODEL_342e7dd7990d4b0a92b5692895c7a60a",
        "value"
       ],
       "target": [
        "IPY_MODEL_4853eef2d9ec4498a3696de01a4206b4",
        "visible"
       ]
      }
     },
     "804b1d0d213848fabd88bfee5a1f22e6": {
      "model_module": "@jupyter-widgets/controls",
      "model_module_version": "2.0.0",
      "model_name": "SliderStyleModel",
      "state": {
       "description_width": ""
      }
     },
     "8123cf5ffb3e4e39a56b4532d7e0621f": {
      "model_module": "@jupyter-widgets/controls",
      "model_module_version": "2.0.0",
      "model_name": "FloatSliderModel",
      "state": {
       "behavior": "drag-tap",
       "layout": "IPY_MODEL_95574d285f834ea194dd883a3d36a060",
       "max": 1,
       "readout": false,
       "step": 0.01,
       "style": "IPY_MODEL_804b1d0d213848fabd88bfee5a1f22e6",
       "value": 1
      }
     },
     "818f3fd76c9f4fee856713e73b6828b2": {
      "model_module": "ipytree",
      "model_module_version": "^0.2",
      "model_name": "NodeModel",
      "state": {
       "_id": "5acf057a-4913-49b9-923d-441881d86bb3",
       "_model_module_version": "^0.2",
       "_view_module_version": "^0.2",
       "icon": "file",
       "name": "1: 0"
      }
     },
     "82d393be311243209c173b32268c5ec7": {
      "model_module": "@jupyter-widgets/controls",
      "model_module_version": "2.0.0",
      "model_name": "TextModel",
      "state": {
       "layout": "IPY_MODEL_4d8e2e1fb4514474b6f63b67b0a87022",
       "placeholder": "Search by place name or address",
       "style": "IPY_MODEL_32fa200e18dd43838d796b348cbe3818",
       "tooltip": "Search location"
      }
     },
     "836c77b9a2cc4ce18380c60efad53009": {
      "model_module": "@jupyter-widgets/controls",
      "model_module_version": "2.0.0",
      "model_name": "FloatSliderModel",
      "state": {
       "behavior": "drag-tap",
       "layout": "IPY_MODEL_f1baa2a06cfa49538dcaa7e67b402454",
       "max": 1,
       "readout": false,
       "step": 0.01,
       "style": "IPY_MODEL_3425de557fef41eebefc2c267969d052",
       "value": 1
      }
     },
     "83a74e3b4da04aeb96b00ceb913f8bd4": {
      "model_module": "@jupyter-widgets/controls",
      "model_module_version": "2.0.0",
      "model_name": "CheckboxStyleModel",
      "state": {
       "description_width": ""
      }
     },
     "8436b9f1970d457784f1d63065d8b77f": {
      "model_module": "@jupyter-widgets/base",
      "model_module_version": "2.0.0",
      "model_name": "LayoutModel",
      "state": {
       "padding": "0px 8px 0px 8px"
      }
     },
     "847e48f1cf51494abcc55a71a1dfffe4": {
      "model_module": "@jupyter-widgets/controls",
      "model_module_version": "2.0.0",
      "model_name": "ToggleButtonStyleModel",
      "state": {
       "description_width": "",
       "font_family": null,
       "font_size": null,
       "font_style": null,
       "font_variant": null,
       "font_weight": null,
       "text_color": null,
       "text_decoration": null
      }
     },
     "84b2b93829de4466a5d27a0278e79e89": {
      "model_module": "@jupyter-widgets/controls",
      "model_module_version": "2.0.0",
      "model_name": "DirectionalLinkModel",
      "state": {
       "source": [
        "IPY_MODEL_79aad1018e7941c58fc8045bcd58d20e",
        "value"
       ],
       "target": [
        "IPY_MODEL_4853eef2d9ec4498a3696de01a4206b4",
        "opacity"
       ]
      }
     },
     "84bceb6b1dfe4685b52eb434228b696b": {
      "model_module": "@jupyter-widgets/controls",
      "model_module_version": "2.0.0",
      "model_name": "ToggleButtonStyleModel",
      "state": {
       "description_width": "",
       "font_family": null,
       "font_size": null,
       "font_style": null,
       "font_variant": null,
       "font_weight": null,
       "text_color": null,
       "text_decoration": null
      }
     },
     "85a17dd1e6024cbf924f77135e9654ed": {
      "model_module": "@jupyter-widgets/controls",
      "model_module_version": "2.0.0",
      "model_name": "CheckboxStyleModel",
      "state": {
       "description_width": ""
      }
     },
     "865e071768dd49a397149a551a2aa6f7": {
      "model_module": "@jupyter-widgets/controls",
      "model_module_version": "2.0.0",
      "model_name": "SliderStyleModel",
      "state": {
       "description_width": ""
      }
     },
     "8671748f9d6448f1a609127c8b76e8fb": {
      "model_module": "@jupyter-widgets/controls",
      "model_module_version": "2.0.0",
      "model_name": "DropdownModel",
      "state": {
       "index": null,
       "layout": "IPY_MODEL_f082822627ff45dd8246fe52c036e730",
       "style": "IPY_MODEL_adcfe2a873134a21b8374ac7bd4bf1e1"
      }
     },
     "869451ccf385474fb48f6491fe4a1ca9": {
      "model_module": "ipytree",
      "model_module_version": "^0.2",
      "model_name": "NodeModel",
      "state": {
       "_id": "034679de-ae7b-4ade-b450-f60cda393dd3",
       "_model_module_version": "^0.2",
       "_view_module_version": "^0.2",
       "name": "NDSI masked: Image (1 band)",
       "nodes": [
        "IPY_MODEL_f4969bcf577e4a2a91442c433d41715c"
       ]
      }
     },
     "8718f044d0b243b5a0c2a1565e22a090": {
      "model_module": "@jupyter-widgets/controls",
      "model_module_version": "2.0.0",
      "model_name": "DirectionalLinkModel",
      "state": {
       "source": [
        "IPY_MODEL_236d28d9baf149fc8813ecab8ddab019",
        "value"
       ],
       "target": [
        "IPY_MODEL_8c9b7e5428a145f09aeef75c424974ab",
        "opacity"
       ]
      }
     },
     "873f0b72b8dc4ae7b20ce0c8f6d5290f": {
      "model_module": "@jupyter-widgets/controls",
      "model_module_version": "2.0.0",
      "model_name": "CheckboxModel",
      "state": {
       "description": "Pixels",
       "disabled": false,
       "indent": false,
       "layout": "IPY_MODEL_3b829eef31894faab550a63a66ca7727",
       "style": "IPY_MODEL_7c107643768a4974b5396c388f8d9466",
       "value": true
      }
     },
     "87b5f5ad57504175b5c8ee5156643acb": {
      "model_module": "ipytree",
      "model_module_version": "^0.2",
      "model_name": "NodeModel",
      "state": {
       "_id": "893b2fe8-a29a-4178-96d2-5fda1ef5d7e5",
       "_model_module_version": "^0.2",
       "_view_module_version": "^0.2",
       "name": "bands: List (1 elements)",
       "nodes": [
        "IPY_MODEL_52f9c695e7f2475e81af521668667eee"
       ],
       "opened": false
      }
     },
     "87cde21c4c524a07b6f109398b2a315a": {
      "model_module": "ipytree",
      "model_module_version": "^0.2",
      "model_name": "NodeModel",
      "state": {
       "_id": "4040b22a-d971-480a-92af-ff762decc194",
       "_model_module_version": "^0.2",
       "_view_module_version": "^0.2",
       "icon": "file",
       "name": "1: 7901"
      }
     },
     "87ed3f96053c42f89d61f90236f3f4a8": {
      "model_module": "ipytree",
      "model_module_version": "^0.2",
      "model_name": "NodeModel",
      "state": {
       "_id": "0c130e4f-9daa-4bba-bba5-64b775fc90a7",
       "_model_module_version": "^0.2",
       "_view_module_version": "^0.2",
       "name": "data_type",
       "nodes": [
        "IPY_MODEL_2960776d330848bf8e6ed2fabcfa11ce",
        "IPY_MODEL_53e7ef5b087c445da4e1bdccdb3cd9c7",
        "IPY_MODEL_4bdb08adff67458099e9b9eaa4e5cf0d",
        "IPY_MODEL_ba9a775aeb3a4992ab317f4c6907bd0c"
       ],
       "opened": false
      }
     },
     "8826d8e47c064fbb8e2c1e8334932734": {
      "model_module": "@jupyter-widgets/base",
      "model_module_version": "2.0.0",
      "model_name": "LayoutModel",
      "state": {
       "width": "80px"
      }
     },
     "88578b783f404d6ea08188154551916c": {
      "model_module": "@jupyter-widgets/base",
      "model_module_version": "2.0.0",
      "model_name": "LayoutModel",
      "state": {
       "padding": "0px 8px 0px 8px"
      }
     },
     "888fad3f96bb4a729c83839c2cb443f2": {
      "model_module": "@jupyter-widgets/controls",
      "model_module_version": "2.0.0",
      "model_name": "DirectionalLinkModel",
      "state": {
       "source": [
        "IPY_MODEL_b6dafaecc6c54526b64de3fd26fcc8fb",
        "value"
       ],
       "target": [
        "IPY_MODEL_649b0021558d4faca19417ba0a7de02a",
        "opacity"
       ]
      }
     },
     "89a2ff6e74154f6597eee9136d6a0845": {
      "model_module": "ipytree",
      "model_module_version": "^0.2",
      "model_name": "NodeModel",
      "state": {
       "_id": "bfa1291b-2347-486b-a7ae-b45292f54b30",
       "_model_module_version": "^0.2",
       "_view_module_version": "^0.2",
       "icon": "file",
       "name": "5: 4741215"
      }
     },
     "8a131609032e4ba782f34297ed2749fd": {
      "model_module": "@jupyter-widgets/controls",
      "model_module_version": "2.0.0",
      "model_name": "ToggleButtonStyleModel",
      "state": {
       "description_width": "",
       "font_family": null,
       "font_size": null,
       "font_style": null,
       "font_variant": null,
       "font_weight": null,
       "text_color": null,
       "text_decoration": null
      }
     },
     "8a6317ca01e4407fabbb9ead2aa83957": {
      "model_module": "@jupyter-widgets/base",
      "model_module_version": "2.0.0",
      "model_name": "LayoutModel",
      "state": {
       "height": "18px",
       "width": "140px"
      }
     },
     "8c2f98adff6548cfbc67cb67e6ab2a21": {
      "model_module": "@jupyter-widgets/base",
      "model_module_version": "2.0.0",
      "model_name": "LayoutModel",
      "state": {
       "width": "65px"
      }
     },
     "8c824e097c9f4536ab18e5178d169b14": {
      "model_module": "ipytree",
      "model_module_version": "^0.2",
      "model_name": "NodeModel",
      "state": {
       "_id": "578a6130-1ca5-4f55-bf16-c2f8ebab16bc",
       "_model_module_version": "^0.2",
       "_view_module_version": "^0.2",
       "name": "crs_transform",
       "nodes": [
        "IPY_MODEL_7089f2d4e2484da0aaf3e62e8a30c368",
        "IPY_MODEL_4572f448156c467aaedf9c1cbca4291f",
        "IPY_MODEL_1718e336e5934f8f90ea2f7ce3ccee2b",
        "IPY_MODEL_a4d25e65452a4d04bfa1ec2106fc6efa",
        "IPY_MODEL_23eca6837ac54439b2ced6b68ff26499",
        "IPY_MODEL_94d73f6f32644037ad74487f930a766a"
       ],
       "opened": false
      }
     },
     "8c9b7e5428a145f09aeef75c424974ab": {
      "model_module": "jupyter-leaflet",
      "model_module_version": "^0.17",
      "model_name": "LeafletTileLayerModel",
      "state": {
       "_model_module_version": "^0.17",
       "_view_module_version": "^0.17",
       "attribution": "Google Earth Engine",
       "max_zoom": 24,
       "name": "NDBSI masked",
       "options": [
        "attribution",
        "bounds",
        "detect_retina",
        "max_native_zoom",
        "max_zoom",
        "min_native_zoom",
        "min_zoom",
        "no_wrap",
        "tile_size",
        "tms",
        "zoom_offset"
       ],
       "url": "https://earthengine.googleapis.com/v1/projects/earthengine-legacy/maps/11f167f2782f7e6af1130f827bb637a4-8f129ed95ab272a121e5294cd0d07348/tiles/{z}/{x}/{y}",
       "visible": false
      }
     },
     "8d5027a48be345feaa6541b6d7f3ad36": {
      "model_module": "ipyevents",
      "model_module_version": "2.0.2",
      "model_name": "EventModel",
      "state": {
       "_supported_key_events": [
        "keydown",
        "keyup"
       ],
       "_supported_mouse_events": [
        "click",
        "auxclick",
        "dblclick",
        "mouseenter",
        "mouseleave",
        "mousedown",
        "mouseup",
        "mousemove",
        "wheel",
        "contextmenu",
        "dragstart",
        "drag",
        "dragend",
        "dragenter",
        "dragover",
        "dragleave",
        "drop"
       ],
       "_supported_touch_events": [
        "touchstart",
        "touchend",
        "touchmove",
        "touchcancel"
       ],
       "_view_module": "@jupyter-widgets/controls",
       "source": "IPY_MODEL_bbb9c3c507d34636b6e25ae0e9657474",
       "throttle_or_debounce": "",
       "watched_events": [
        "mouseenter",
        "mouseleave"
       ],
       "xy_coordinate_system": ""
      }
     },
     "8d78e8a829274773b1df17d7594fefd2": {
      "model_module": "@jupyter-widgets/controls",
      "model_module_version": "2.0.0",
      "model_name": "ToggleButtonModel",
      "state": {
       "icon": "gear",
       "layout": "IPY_MODEL_fc1c201b9bb04b37b42a20ad1c6cf965",
       "style": "IPY_MODEL_4c5815c7f0e54eaeae2be572237ee81a",
       "tooltip": "snow image"
      }
     },
     "8e4f93c8a8c7490e99053dd14499de9e": {
      "model_module": "@jupyter-widgets/base",
      "model_module_version": "2.0.0",
      "model_name": "LayoutModel",
      "state": {
       "width": "80px"
      }
     },
     "8e6ba08427284bc19e631a692af16df2": {
      "model_module": "@jupyter-widgets/controls",
      "model_module_version": "2.0.0",
      "model_name": "VBoxModel",
      "state": {
       "children": [
        "IPY_MODEL_ac8ca22bada042d9be4778fc55c1770b",
        "IPY_MODEL_1a67fbc1f7d3466a8689b0cf6649a022"
       ],
       "layout": "IPY_MODEL_4d20122c3f6b406eaf60602de8ddb688"
      }
     },
     "8eeb479f12ba48ce942fda7a1fca279c": {
      "model_module": "@jupyter-widgets/controls",
      "model_module_version": "2.0.0",
      "model_name": "ToggleButtonStyleModel",
      "state": {
       "description_width": "",
       "font_family": null,
       "font_size": null,
       "font_style": null,
       "font_variant": null,
       "font_weight": null,
       "text_color": null,
       "text_decoration": null
      }
     },
     "8f1e6ba6890f476e9f5d18a9c15479eb": {
      "model_module": "ipytree",
      "model_module_version": "^0.2",
      "model_name": "NodeModel",
      "state": {
       "_id": "33c9b88b-ed76-4ef7-a0b3-a6b2859e1341",
       "_model_module_version": "^0.2",
       "_view_module_version": "^0.2",
       "icon": "file",
       "name": "type: PixelType"
      }
     },
     "8f42c28383894840aff0105ba9c64d13": {
      "model_module": "@jupyter-widgets/controls",
      "model_module_version": "2.0.0",
      "model_name": "ToggleButtonModel",
      "state": {
       "button_style": "primary",
       "icon": "globe",
       "layout": "IPY_MODEL_0db749ec823c4543ba40ef97d71ec029",
       "style": "IPY_MODEL_26c53bac891445aebcc1d32299c42bb5",
       "tooltip": "Create timelapse"
      }
     },
     "8f9f5a459226456cb94d41f0f5368614": {
      "model_module": "@jupyter-widgets/controls",
      "model_module_version": "2.0.0",
      "model_name": "CheckboxModel",
      "state": {
       "description": "All layers on/off",
       "disabled": false,
       "indent": false,
       "layout": "IPY_MODEL_133c7a2f0c134878b2096d346eec7b2e",
       "style": "IPY_MODEL_3ede921d44d049e68f6020b3da2eb8ee",
       "value": false
      }
     },
     "8ffbc6d23d05496baf45527a37845588": {
      "model_module": "@jupyter-widgets/base",
      "model_module_version": "2.0.0",
      "model_name": "LayoutModel",
      "state": {
       "padding": "0px 8px 0px 8px"
      }
     },
     "91c32cda54034db8869b4750bb1c553b": {
      "model_module": "@jupyter-widgets/base",
      "model_module_version": "2.0.0",
      "model_name": "LayoutModel",
      "state": {
       "height": "18px",
       "width": "140px"
      }
     },
     "92db18e7c7124daf88013381771b55e3": {
      "model_module": "@jupyter-widgets/controls",
      "model_module_version": "2.0.0",
      "model_name": "ToggleButtonStyleModel",
      "state": {
       "description_width": "",
       "font_family": null,
       "font_size": null,
       "font_style": null,
       "font_variant": null,
       "font_weight": null,
       "text_color": null,
       "text_decoration": null
      }
     },
     "92deccd7b1e54254b2d5f736d7c189f7": {
      "model_module": "ipytree",
      "model_module_version": "^0.2",
      "model_name": "NodeModel",
      "state": {
       "_id": "3cd2347d-02fe-4f2f-9a4f-8d29ccee79cd",
       "_model_module_version": "^0.2",
       "_view_module_version": "^0.2",
       "icon": "file",
       "name": "0: 30"
      }
     },
     "93fc3d928c9b467b8129d9bcf5fe5492": {
      "model_module": "@jupyter-widgets/controls",
      "model_module_version": "2.0.0",
      "model_name": "CheckboxModel",
      "state": {
       "description": "Google Maps",
       "disabled": false,
       "indent": false,
       "layout": "IPY_MODEL_7b9e3aeb930e4e9e9085e0151ed97bec",
       "style": "IPY_MODEL_c3cb7467490e476abdb804755aa0c66e",
       "value": false
      }
     },
     "9467cbf8e69a49719d27990f67be37ae": {
      "model_module": "ipytree",
      "model_module_version": "^0.2",
      "model_name": "NodeModel",
      "state": {
       "_id": "77e02211-74e3-459d-996a-ad6ac3e7d202",
       "_model_module_version": "^0.2",
       "_view_module_version": "^0.2",
       "icon": "file",
       "name": "type: PixelType"
      }
     },
     "94d73f6f32644037ad74487f930a766a": {
      "model_module": "ipytree",
      "model_module_version": "^0.2",
      "model_name": "NodeModel",
      "state": {
       "_id": "3ca94ef9-a059-4301-a7a6-5800ab7686f5",
       "_model_module_version": "^0.2",
       "_view_module_version": "^0.2",
       "icon": "file",
       "name": "5: 4741215"
      }
     },
     "94f4f777a83643b9a8298593c4d7584e": {
      "model_module": "@jupyter-widgets/controls",
      "model_module_version": "2.0.0",
      "model_name": "ToggleButtonStyleModel",
      "state": {
       "description_width": "",
       "font_family": null,
       "font_size": null,
       "font_style": null,
       "font_variant": null,
       "font_weight": null,
       "text_color": null,
       "text_decoration": null
      }
     },
     "94f6acec9fe8498d92e32018a2466b90": {
      "model_module": "@jupyter-widgets/base",
      "model_module_version": "2.0.0",
      "model_name": "LayoutModel",
      "state": {
       "width": "80px"
      }
     },
     "95574d285f834ea194dd883a3d36a060": {
      "model_module": "@jupyter-widgets/base",
      "model_module_version": "2.0.0",
      "model_name": "LayoutModel",
      "state": {
       "width": "80px"
      }
     },
     "956ed29dbc0c4a7b8d822d15a5dccb04": {
      "model_module": "@jupyter-widgets/controls",
      "model_module_version": "2.0.0",
      "model_name": "SliderStyleModel",
      "state": {
       "description_width": ""
      }
     },
     "9590cc1289254eb7aa660ab5a5bf0445": {
      "model_module": "@jupyter-widgets/controls",
      "model_module_version": "2.0.0",
      "model_name": "ToggleButtonStyleModel",
      "state": {
       "description_width": "",
       "font_family": null,
       "font_size": null,
       "font_style": null,
       "font_variant": null,
       "font_weight": null,
       "text_color": null,
       "text_decoration": null
      }
     },
     "95940797995e40338ae69fd88bdeeb92": {
      "model_module": "@jupyter-widgets/base",
      "model_module_version": "2.0.0",
      "model_name": "LayoutModel",
      "state": {
       "height": "28px",
       "padding": "0px 0px 0px 4px",
       "width": "28px"
      }
     },
     "95f7c8480e804418a31e8d7bbc1b4ab6": {
      "model_module": "@jupyter-widgets/controls",
      "model_module_version": "2.0.0",
      "model_name": "DirectionalLinkModel",
      "state": {
       "source": [
        "IPY_MODEL_523a76ff1717490897105cd0b71f26c2",
        "value"
       ],
       "target": [
        "IPY_MODEL_e6d78e3bf9b4445ca985c418a53aa0a1",
        "opacity"
       ]
      }
     },
     "9651d57540ed43929f11a4ac4a7e5ec6": {
      "model_module": "@jupyter-widgets/base",
      "model_module_version": "2.0.0",
      "model_name": "LayoutModel",
      "state": {
       "width": "80px"
      }
     },
     "9687694dd7454ff6a54caf1db4aa7545": {
      "model_module": "@jupyter-widgets/controls",
      "model_module_version": "2.0.0",
      "model_name": "VBoxModel",
      "state": {
       "children": [
        "IPY_MODEL_465295955a24455aa7ee02600092d39b"
       ],
       "layout": "IPY_MODEL_6f43212304be42799f2d79608e590e35"
      }
     },
     "96f238c88a27425d8129856ca6c62499": {
      "model_module": "@jupyter-widgets/controls",
      "model_module_version": "2.0.0",
      "model_name": "DirectionalLinkModel",
      "state": {
       "source": [
        "IPY_MODEL_18999aa9936846148a386e111cb3182b",
        "value"
       ],
       "target": [
        "IPY_MODEL_649b0021558d4faca19417ba0a7de02a",
        "opacity"
       ]
      }
     },
     "971953f4dc154a9cbb8d88f600e2ea17": {
      "model_module": "@jupyter-widgets/controls",
      "model_module_version": "2.0.0",
      "model_name": "ToggleButtonStyleModel",
      "state": {
       "description_width": "",
       "font_family": null,
       "font_size": null,
       "font_style": null,
       "font_variant": null,
       "font_weight": null,
       "text_color": null,
       "text_decoration": null
      }
     },
     "9739a63ebad442d7ac04bfe0125b327c": {
      "model_module": "@jupyter-widgets/base",
      "model_module_version": "2.0.0",
      "model_name": "LayoutModel",
      "state": {
       "padding": "0px 8px 0px 8px"
      }
     },
     "975e73345425470e9665d559955510be": {
      "model_module": "@jupyter-widgets/base",
      "model_module_version": "2.0.0",
      "model_name": "LayoutModel",
      "state": {
       "height": "auto",
       "padding": "0px 0px 0px 4px",
       "width": "auto"
      }
     },
     "981bdf03a4684c4f8148e45b593d5807": {
      "model_module": "@jupyter-widgets/controls",
      "model_module_version": "2.0.0",
      "model_name": "DirectionalLinkModel",
      "state": {
       "source": [
        "IPY_MODEL_112bb450a79541fc999bd051a6197038",
        "value"
       ],
       "target": [
        "IPY_MODEL_8c9b7e5428a145f09aeef75c424974ab",
        "opacity"
       ]
      }
     },
     "982047c13c544f609631304488b0a090": {
      "model_module": "@jupyter-widgets/controls",
      "model_module_version": "2.0.0",
      "model_name": "ToggleButtonModel",
      "state": {
       "icon": "gear",
       "layout": "IPY_MODEL_acca46e982dd41e7a3782d3a3a6bbb3c",
       "style": "IPY_MODEL_ad791f8959154cc298c2f4719df16222",
       "tooltip": "NDSI masked"
      }
     },
     "982d2ff7018b468e9c1e959b2d648f3c": {
      "model_module": "@jupyter-widgets/controls",
      "model_module_version": "2.0.0",
      "model_name": "ToggleButtonStyleModel",
      "state": {
       "description_width": "",
       "font_family": null,
       "font_size": null,
       "font_style": null,
       "font_variant": null,
       "font_weight": null,
       "text_color": null,
       "text_decoration": null
      }
     },
     "9966416920514768b3bd35823f14c32a": {
      "model_module": "@jupyter-widgets/controls",
      "model_module_version": "2.0.0",
      "model_name": "FloatSliderModel",
      "state": {
       "behavior": "drag-tap",
       "layout": "IPY_MODEL_69c650f51f2d412bbc051547ab0b4739",
       "max": 1,
       "readout": false,
       "step": 0.01,
       "style": "IPY_MODEL_ace7993ab15847628c7e99d3f99188da",
       "value": 1
      }
     },
     "9a34f170ccc34404a2a1d6d901743511": {
      "model_module": "@jupyter-widgets/controls",
      "model_module_version": "2.0.0",
      "model_name": "ToggleButtonStyleModel",
      "state": {
       "description_width": "",
       "font_family": null,
       "font_size": null,
       "font_style": null,
       "font_variant": null,
       "font_weight": null,
       "text_color": null,
       "text_decoration": null
      }
     },
     "9a5eaf714e5f4526a2935a8707741589": {
      "model_module": "@jupyter-widgets/controls",
      "model_module_version": "2.0.0",
      "model_name": "CheckboxStyleModel",
      "state": {
       "description_width": ""
      }
     },
     "9d30c5e81221481aa4262e46d77ee9f8": {
      "model_module": "@jupyter-widgets/base",
      "model_module_version": "2.0.0",
      "model_name": "LayoutModel",
      "state": {
       "padding": "0px 8px 0px 8px"
      }
     },
     "9d59088c581a4bc5938886f6a034867d": {
      "model_module": "@jupyter-widgets/controls",
      "model_module_version": "2.0.0",
      "model_name": "ToggleButtonModel",
      "state": {
       "button_style": "primary",
       "icon": "plus",
       "layout": "IPY_MODEL_320acbdee7314170b73a29c6a851b86c",
       "style": "IPY_MODEL_35e912b4f6d240fcbcdb7030298be423",
       "tooltip": "Expand toolbar"
      }
     },
     "9d97757793dd4cf99dbf332b1f61fe12": {
      "model_module": "@jupyter-widgets/base",
      "model_module_version": "2.0.0",
      "model_name": "LayoutModel",
      "state": {
       "height": "18px",
       "width": "140px"
      }
     },
     "9d9c3bb3477f4285b6297f04fabb0d36": {
      "model_module": "@jupyter-widgets/controls",
      "model_module_version": "2.0.0",
      "model_name": "CheckboxModel",
      "state": {
       "description": "All layers on/off",
       "disabled": false,
       "indent": false,
       "layout": "IPY_MODEL_3e7053dc801c4d70b98f0bddd4f58e7c",
       "style": "IPY_MODEL_10d379fac6db4adea883c87f95fe08e0",
       "value": false
      }
     },
     "9df3c35d07d74c80bf7ee46f0342a698": {
      "model_module": "@jupyter-widgets/base",
      "model_module_version": "2.0.0",
      "model_name": "LayoutModel",
      "state": {
       "grid_gap": "1px 1px",
       "grid_template_columns": "32px 32px 32px ",
       "grid_template_rows": "32px 32px ",
       "padding": "5px",
       "width": "109px"
      }
     },
     "9eb6fc0e0f6d48d19b22fca2c46229ce": {
      "model_module": "@jupyter-widgets/controls",
      "model_module_version": "2.0.0",
      "model_name": "ToggleButtonModel",
      "state": {
       "button_style": "primary",
       "icon": "bar-chart",
       "layout": "IPY_MODEL_b38ca3d5ebd046edaf0d8b54cf59a82f",
       "style": "IPY_MODEL_574f60ab554b49ed99c4b52a5128828b",
       "tooltip": "Plotting"
      }
     },
     "9f554980ca794bd99a1c39ea77e81ae3": {
      "model_module": "@jupyter-widgets/controls",
      "model_module_version": "2.0.0",
      "model_name": "ToggleButtonModel",
      "state": {
       "icon": "gear",
       "layout": "IPY_MODEL_5ad27c603e3f425894bbcf55d98079b5",
       "style": "IPY_MODEL_48d80bf652254ebfad6116bed2b0947e",
       "tooltip": "NDWI"
      }
     },
     "9f7493a4bd774bbca9a57ee9398d9043": {
      "model_module": "ipytree",
      "model_module_version": "^0.2",
      "model_name": "NodeModel",
      "state": {
       "_id": "6f0538d2-83aa-42e5-94a5-1f7a654d7259",
       "_model_module_version": "^0.2",
       "_view_module_version": "^0.2",
       "icon": "file",
       "name": "0: 7791"
      }
     },
     "a0470071444f4a899be848939a29412b": {
      "model_module": "ipytree",
      "model_module_version": "^0.2",
      "model_name": "NodeModel",
      "state": {
       "_id": "e93c3553-90c4-4c80-9f6f-89301db098ea",
       "_model_module_version": "^0.2",
       "_view_module_version": "^0.2",
       "icon": "file",
       "name": "crs: EPSG:32612"
      }
     },
     "a0ae856cc6d84444b097d5f71f7f88cd": {
      "model_module": "@jupyter-widgets/base",
      "model_module_version": "2.0.0",
      "model_name": "LayoutModel",
      "state": {
       "padding": "0px 8px 0px 8px"
      }
     },
     "a0fc8c6bca514c3f9b1facbc3d03c990": {
      "model_module": "@jupyter-widgets/base",
      "model_module_version": "2.0.0",
      "model_name": "LayoutModel",
      "state": {
       "height": "auto",
       "padding": "0px 0px 0px 4px",
       "width": "auto"
      }
     },
     "a2057f3d5a8d453d9bb400f65d040157": {
      "model_module": "jupyter-leaflet",
      "model_module_version": "^0.17",
      "model_name": "LeafletScaleControlModel",
      "state": {
       "_model_module_version": "^0.17",
       "_view_module_version": "^0.17",
       "imperial": true,
       "max_width": 100,
       "metric": true,
       "options": [
        "imperial",
        "max_width",
        "metric",
        "position",
        "update_when_idle"
       ],
       "position": "bottomleft",
       "update_when_idle": false
      }
     },
     "a20ebddfc07c47b09ef1fa163ce4989f": {
      "model_module": "@jupyter-widgets/base",
      "model_module_version": "2.0.0",
      "model_name": "LayoutModel",
      "state": {
       "padding": "0px 8px 0px 8px"
      }
     },
     "a225e639033944eb90ac7a29d660e98d": {
      "model_module": "@jupyter-widgets/controls",
      "model_module_version": "2.0.0",
      "model_name": "HBoxModel",
      "state": {
       "children": [
        "IPY_MODEL_3bb998df05a84318b9ba4be9e5bf1bbf",
        "IPY_MODEL_2f7c24a1c85a4db3b06ff4bd7c898215",
        "IPY_MODEL_0dfc759335a646cc92a654a4e7210d07"
       ],
       "layout": "IPY_MODEL_f1a268f3a9b445329dad373e9da11c8d"
      }
     },
     "a3cf34a8ab3f455d8b21680231380b61": {
      "model_module": "@jupyter-widgets/controls",
      "model_module_version": "2.0.0",
      "model_name": "CheckboxModel",
      "state": {
       "description": "NDWI",
       "disabled": false,
       "indent": false,
       "layout": "IPY_MODEL_29d8a0b0482d4f798eae6787e2e3cf90",
       "style": "IPY_MODEL_b527b6ecdf634d22a850cca602b139c6",
       "value": false
      }
     },
     "a3f5e4bfc4394deba41aea144edd4829": {
      "model_module": "ipytree",
      "model_module_version": "^0.2",
      "model_name": "NodeModel",
      "state": {
       "_id": "86327654-94e2-44da-9eae-3991d808a0bf",
       "_model_module_version": "^0.2",
       "_view_module_version": "^0.2",
       "icon": "file",
       "name": "type: PixelType"
      }
     },
     "a4d25e65452a4d04bfa1ec2106fc6efa": {
      "model_module": "ipytree",
      "model_module_version": "^0.2",
      "model_name": "NodeModel",
      "state": {
       "_id": "ee91a676-295b-4c18-9aec-b4ba8591e410",
       "_model_module_version": "^0.2",
       "_view_module_version": "^0.2",
       "icon": "file",
       "name": "3: 0"
      }
     },
     "a56e391787a54ad28e157f728a2af16b": {
      "model_module": "@jupyter-widgets/controls",
      "model_module_version": "2.0.0",
      "model_name": "DirectionalLinkModel",
      "state": {
       "source": [
        "IPY_MODEL_836c77b9a2cc4ce18380c60efad53009",
        "value"
       ],
       "target": [
        "IPY_MODEL_73f8dcd1ad0b428c88e36701fef0a659",
        "opacity"
       ]
      }
     },
     "a5c6826c3c6148e68c763a458691b95a": {
      "model_module": "@jupyter-widgets/base",
      "model_module_version": "2.0.0",
      "model_name": "LayoutModel",
      "state": {
       "max_height": "350px",
       "max_width": "340px",
       "overflow": "scroll"
      }
     },
     "a6239054033d4f348f986338719144e8": {
      "model_module": "@jupyter-widgets/controls",
      "model_module_version": "2.0.0",
      "model_name": "DirectionalLinkModel",
      "state": {
       "source": [
        "IPY_MODEL_5c7831a4e9cc4dad80adbc297fcc243d",
        "value"
       ],
       "target": [
        "IPY_MODEL_4547e8671d614959a3bcbefd3bd5a5a4",
        "opacity"
       ]
      }
     },
     "a6e4b8a2d3ed4db894e83e63d94589c4": {
      "model_module": "@jupyter-widgets/controls",
      "model_module_version": "2.0.0",
      "model_name": "CheckboxStyleModel",
      "state": {
       "description_width": ""
      }
     },
     "a6f47cf935404116b0c4b8514f5ac9a1": {
      "model_module": "@jupyter-widgets/controls",
      "model_module_version": "2.0.0",
      "model_name": "FloatSliderModel",
      "state": {
       "behavior": "drag-tap",
       "layout": "IPY_MODEL_4eee7bfa57484e798684576087998661",
       "max": 1,
       "readout": false,
       "step": 0.01,
       "style": "IPY_MODEL_dcd9c093f23144e892a6fbf49a98f259",
       "value": 1
      }
     },
     "a70019b5bad34583a52a5ca0214d9d3a": {
      "model_module": "@jupyter-widgets/controls",
      "model_module_version": "2.0.0",
      "model_name": "HBoxModel",
      "state": {
       "children": [
        "IPY_MODEL_fe2499c1972a468e9cc764e6fa1e1355",
        "IPY_MODEL_46d4323184e54ca983e595e514416c91",
        "IPY_MODEL_236d28d9baf149fc8813ecab8ddab019"
       ],
       "layout": "IPY_MODEL_c4362a8d3f0d44a78b5ac76db7f5c227"
      }
     },
     "a78a092a8cfa452aa17242fc9f8f66b4": {
      "model_module": "@jupyter-widgets/controls",
      "model_module_version": "2.0.0",
      "model_name": "LinkModel",
      "state": {
       "source": [
        "IPY_MODEL_1bee7c0208464e03b44cf74aa2c176c0",
        "value"
       ],
       "target": [
        "IPY_MODEL_094ce966747b4f2aa8ce644a1cdf3b4f",
        "visible"
       ]
      }
     },
     "a790c37eaf40458f806da3643cc6f87d": {
      "model_module": "@jupyter-widgets/controls",
      "model_module_version": "2.0.0",
      "model_name": "SliderStyleModel",
      "state": {
       "description_width": ""
      }
     },
     "a80d5210b24a4854b951b0170e99cdc1": {
      "model_module": "@jupyter-widgets/base",
      "model_module_version": "2.0.0",
      "model_name": "LayoutModel",
      "state": {
       "padding": "0px 8px 0px 8px"
      }
     },
     "a9d8566e33f94eeabe6de3e7ddf8042a": {
      "model_module": "@jupyter-widgets/controls",
      "model_module_version": "2.0.0",
      "model_name": "ToggleButtonStyleModel",
      "state": {
       "description_width": "",
       "font_family": null,
       "font_size": null,
       "font_style": null,
       "font_variant": null,
       "font_weight": null,
       "text_color": null,
       "text_decoration": null
      }
     },
     "aa031c8eb6b3447eb71a7f58cd515dcc": {
      "model_module": "jupyter-leaflet",
      "model_module_version": "^0.17",
      "model_name": "LeafletMapStyleModel",
      "state": {
       "_model_module_version": "^0.17",
       "cursor": "crosshair"
      }
     },
     "aba20e98d9aa4c1caac50c81d73f5dba": {
      "model_module": "@jupyter-widgets/controls",
      "model_module_version": "2.0.0",
      "model_name": "SliderStyleModel",
      "state": {
       "description_width": ""
      }
     },
     "abe9b8903b5d4e7aa8f4dda56da06d55": {
      "model_module": "@jupyter-widgets/controls",
      "model_module_version": "2.0.0",
      "model_name": "ToggleButtonModel",
      "state": {
       "icon": "gear",
       "layout": "IPY_MODEL_384aba73507445e1ae834f09fa023fbb",
       "style": "IPY_MODEL_b723550532394ab5a92245e164351d01",
       "tooltip": "NDWI"
      }
     },
     "ac769d242eef40fe821e8470f40757e9": {
      "model_module": "jupyter-leaflet",
      "model_module_version": "^0.17",
      "model_name": "LeafletZoomControlModel",
      "state": {
       "_model_module_version": "^0.17",
       "_view_module_version": "^0.17",
       "options": [
        "position",
        "zoom_in_text",
        "zoom_in_title",
        "zoom_out_text",
        "zoom_out_title"
       ]
      }
     },
     "ac8ca22bada042d9be4778fc55c1770b": {
      "model_module": "@jupyter-widgets/controls",
      "model_module_version": "2.0.0",
      "model_name": "HBoxModel",
      "state": {
       "children": [
        "IPY_MODEL_1edddf300fc747469a3b955966acef90",
        "IPY_MODEL_71e31ba77c77405690e72c4ce04e06c6"
       ],
       "layout": "IPY_MODEL_0d1a586fc4d943be87d0fe6b966ce54a"
      }
     },
     "acca46e982dd41e7a3782d3a3a6bbb3c": {
      "model_module": "@jupyter-widgets/base",
      "model_module_version": "2.0.0",
      "model_name": "LayoutModel",
      "state": {
       "height": "25px",
       "padding": "0px 0px 0px 5px",
       "width": "25px"
      }
     },
     "ace7993ab15847628c7e99d3f99188da": {
      "model_module": "@jupyter-widgets/controls",
      "model_module_version": "2.0.0",
      "model_name": "SliderStyleModel",
      "state": {
       "description_width": ""
      }
     },
     "ad791f8959154cc298c2f4719df16222": {
      "model_module": "@jupyter-widgets/controls",
      "model_module_version": "2.0.0",
      "model_name": "ToggleButtonStyleModel",
      "state": {
       "description_width": "",
       "font_family": null,
       "font_size": null,
       "font_style": null,
       "font_variant": null,
       "font_weight": null,
       "text_color": null,
       "text_decoration": null
      }
     },
     "adcfe2a873134a21b8374ac7bd4bf1e1": {
      "model_module": "@jupyter-widgets/controls",
      "model_module_version": "2.0.0",
      "model_name": "DescriptionStyleModel",
      "state": {
       "description_width": ""
      }
     },
     "ae00c1a9cd424ec19bafdb1e05dafd57": {
      "model_module": "@jupyter-widgets/controls",
      "model_module_version": "2.0.0",
      "model_name": "CheckboxModel",
      "state": {
       "description": "NDWI",
       "disabled": false,
       "indent": false,
       "layout": "IPY_MODEL_7dfafa30f49f4fb8a190052193c0e93a",
       "style": "IPY_MODEL_73376196aee648ccaa0571d4091e50c3",
       "value": false
      }
     },
     "ae1466001fda48d280b9d0344426ab39": {
      "model_module": "ipytree",
      "model_module_version": "^0.2",
      "model_name": "NodeModel",
      "state": {
       "_id": "9f958b15-38ec-4022-9b1c-fb494b02bf47",
       "_model_module_version": "^0.2",
       "_view_module_version": "^0.2",
       "name": "NDSI: Image  (1 bands)",
       "nodes": [
        "IPY_MODEL_43d56488a43248d4b946406bbaeb2dff",
        "IPY_MODEL_6fbfecd6571a43faa33eff7590e340ef",
        "IPY_MODEL_b9111b13a2a9437887a145125486fba5"
       ],
       "opened": false
      }
     },
     "ae58ac2257fc4947be9d65cb20bf40d2": {
      "model_module": "@jupyter-widgets/controls",
      "model_module_version": "2.0.0",
      "model_name": "DirectionalLinkModel",
      "state": {
       "source": [
        "IPY_MODEL_6f00716f82c54996975efbf264b5b796",
        "value"
       ],
       "target": [
        "IPY_MODEL_094ce966747b4f2aa8ce644a1cdf3b4f",
        "opacity"
       ]
      }
     },
     "aea35d306e194dd6bd629879227d92ee": {
      "model_module": "@jupyter-widgets/base",
      "model_module_version": "2.0.0",
      "model_name": "LayoutModel",
      "state": {}
     },
     "af3c060bc4ca47539605fab970cd70bd": {
      "model_module": "@jupyter-widgets/controls",
      "model_module_version": "2.0.0",
      "model_name": "SliderStyleModel",
      "state": {
       "description_width": ""
      }
     },
     "afc74ca593284a789d51d79e9ff48cc7": {
      "model_module": "@jupyter-widgets/controls",
      "model_module_version": "2.0.0",
      "model_name": "DirectionalLinkModel",
      "state": {
       "source": [
        "IPY_MODEL_a6f47cf935404116b0c4b8514f5ac9a1",
        "value"
       ],
       "target": [
        "IPY_MODEL_094ce966747b4f2aa8ce644a1cdf3b4f",
        "opacity"
       ]
      }
     },
     "afd0de8a892f416386837db491545c6c": {
      "model_module": "@jupyter-widgets/controls",
      "model_module_version": "2.0.0",
      "model_name": "ToggleButtonModel",
      "state": {
       "icon": "server",
       "layout": "IPY_MODEL_052dc156a5c54bf48aa8896c76e5e20d",
       "style": "IPY_MODEL_7f545935adc047fa90cd1a55586adc34",
       "tooltip": "Layers"
      }
     },
     "b017db2d728c4ae2bee895675ec82211": {
      "model_module": "@jupyter-widgets/controls",
      "model_module_version": "2.0.0",
      "model_name": "CheckboxStyleModel",
      "state": {
       "description_width": ""
      }
     },
     "b047740feee146de9a5389cd5b9a6863": {
      "model_module": "@jupyter-widgets/base",
      "model_module_version": "2.0.0",
      "model_name": "LayoutModel",
      "state": {
       "height": "18px",
       "width": "140px"
      }
     },
     "b073d89940c6411c9d99f61f7f0da278": {
      "model_module": "@jupyter-widgets/controls",
      "model_module_version": "2.0.0",
      "model_name": "CheckboxModel",
      "state": {
       "description": "NDSI",
       "disabled": false,
       "indent": false,
       "layout": "IPY_MODEL_782c9c82016e4f5981cd4ecc6bc93160",
       "style": "IPY_MODEL_83a74e3b4da04aeb96b00ceb913f8bd4",
       "value": true
      }
     },
     "b0f574d341f5448e82b6a5494d46ff32": {
      "model_module": "@jupyter-widgets/controls",
      "model_module_version": "2.0.0",
      "model_name": "ToggleButtonModel",
      "state": {
       "icon": "gear",
       "layout": "IPY_MODEL_1159bb7cc90044a892291bdc527abc3f",
       "style": "IPY_MODEL_b5515fdca7fe44629b0c228aa483c591",
       "tooltip": "EVI"
      }
     },
     "b154df2b20b6458baee27d5aa5c5569d": {
      "model_module": "@jupyter-widgets/controls",
      "model_module_version": "2.0.0",
      "model_name": "CheckboxModel",
      "state": {
       "description": "NDBSI masked",
       "disabled": false,
       "indent": false,
       "layout": "IPY_MODEL_d43ee28cac7f4952be9467a3ddb305e4",
       "style": "IPY_MODEL_65106a396bc24ab3a063c20df77c70a6",
       "value": false
      }
     },
     "b236180b64084cc5b9b64d63ba89d99c": {
      "model_module": "@jupyter-widgets/controls",
      "model_module_version": "2.0.0",
      "model_name": "CheckboxStyleModel",
      "state": {
       "description_width": ""
      }
     },
     "b24eb8c1e5404a19b21f51e54ace69d7": {
      "model_module": "ipytree",
      "model_module_version": "^0.2",
      "model_name": "NodeModel",
      "state": {
       "_id": "12beb166-a903-410f-8ad1-a4c1d90edb42",
       "_model_module_version": "^0.2",
       "_view_module_version": "^0.2",
       "name": "NDSI: Image (1 band)",
       "nodes": [
        "IPY_MODEL_e42ea097b0dd4153997d072e56abd0e7"
       ]
      }
     },
     "b2ce8ae793cf4edcad5ace044d0f8b67": {
      "model_module": "@jupyter-widgets/controls",
      "model_module_version": "2.0.0",
      "model_name": "CheckboxModel",
      "state": {
       "description": "Objects",
       "disabled": false,
       "indent": false,
       "layout": "IPY_MODEL_51ea2ef03aeb49a8ae64a918597aee9a",
       "style": "IPY_MODEL_eb4e6209e9d9446fb6b470a4498aa494",
       "value": false
      }
     },
     "b38ca3d5ebd046edaf0d8b54cf59a82f": {
      "model_module": "@jupyter-widgets/base",
      "model_module_version": "2.0.0",
      "model_name": "LayoutModel",
      "state": {
       "height": "auto",
       "padding": "0px 0px 0px 4px",
       "width": "auto"
      }
     },
     "b3bb39c7f2ca44869616a3f58b7d688b": {
      "model_module": "jupyter-leaflet",
      "model_module_version": "^0.17",
      "model_name": "LeafletTileLayerModel",
      "state": {
       "_model_module_version": "^0.17",
       "_view_module_version": "^0.17",
       "attribution": "Google Earth Engine",
       "max_zoom": 24,
       "name": "NDVI",
       "options": [
        "attribution",
        "bounds",
        "detect_retina",
        "max_native_zoom",
        "max_zoom",
        "min_native_zoom",
        "min_zoom",
        "no_wrap",
        "tile_size",
        "tms",
        "zoom_offset"
       ],
       "url": "https://earthengine.googleapis.com/v1/projects/earthengine-legacy/maps/f7aefa215400dad9c3b740377e47fa9b-eba437aaba04c5cece9eb1f8393f78ce/tiles/{z}/{x}/{y}",
       "visible": false
      }
     },
     "b3bf87db22c3471cb7e3f74dcd22f86e": {
      "model_module": "@jupyter-widgets/base",
      "model_module_version": "2.0.0",
      "model_name": "LayoutModel",
      "state": {
       "padding": "0px 8px 0px 8px"
      }
     },
     "b3c1f1e7ca5f4a108998dd7d0f93be2b": {
      "model_module": "@jupyter-widgets/base",
      "model_module_version": "2.0.0",
      "model_name": "LayoutModel",
      "state": {
       "height": "18px",
       "width": "140px"
      }
     },
     "b42237468ddf49bead20788e40d1ceff": {
      "model_module": "@jupyter-widgets/base",
      "model_module_version": "2.0.0",
      "model_name": "LayoutModel",
      "state": {
       "width": "80px"
      }
     },
     "b44f2d8d2ccb48a1a00456e2f61ff6c2": {
      "model_module": "@jupyter-widgets/controls",
      "model_module_version": "2.0.0",
      "model_name": "ToggleButtonStyleModel",
      "state": {
       "description_width": "",
       "font_family": null,
       "font_size": null,
       "font_style": null,
       "font_variant": null,
       "font_weight": null,
       "text_color": null,
       "text_decoration": null
      }
     },
     "b47c5a544af340f19792a9e2bfa9bcd1": {
      "model_module": "@jupyter-widgets/controls",
      "model_module_version": "2.0.0",
      "model_name": "ToggleButtonStyleModel",
      "state": {
       "description_width": "",
       "font_family": null,
       "font_size": null,
       "font_style": null,
       "font_variant": null,
       "font_weight": null,
       "text_color": null,
       "text_decoration": null
      }
     },
     "b527b6ecdf634d22a850cca602b139c6": {
      "model_module": "@jupyter-widgets/controls",
      "model_module_version": "2.0.0",
      "model_name": "CheckboxStyleModel",
      "state": {
       "description_width": ""
      }
     },
     "b5515fdca7fe44629b0c228aa483c591": {
      "model_module": "@jupyter-widgets/controls",
      "model_module_version": "2.0.0",
      "model_name": "ToggleButtonStyleModel",
      "state": {
       "description_width": "",
       "font_family": null,
       "font_size": null,
       "font_style": null,
       "font_variant": null,
       "font_weight": null,
       "text_color": null,
       "text_decoration": null
      }
     },
     "b6dafaecc6c54526b64de3fd26fcc8fb": {
      "model_module": "@jupyter-widgets/controls",
      "model_module_version": "2.0.0",
      "model_name": "FloatSliderModel",
      "state": {
       "behavior": "drag-tap",
       "layout": "IPY_MODEL_4d2f522d03144044bfb47d7f23c46212",
       "max": 1,
       "readout": false,
       "step": 0.01,
       "style": "IPY_MODEL_272e69980e92403aa542b114924c02a3",
       "value": 1
      }
     },
     "b723550532394ab5a92245e164351d01": {
      "model_module": "@jupyter-widgets/controls",
      "model_module_version": "2.0.0",
      "model_name": "ToggleButtonStyleModel",
      "state": {
       "description_width": "",
       "font_family": null,
       "font_size": null,
       "font_style": null,
       "font_variant": null,
       "font_weight": null,
       "text_color": null,
       "text_decoration": null
      }
     },
     "b817d241e5bc459aa38d064cbbc72550": {
      "model_module": "@jupyter-widgets/controls",
      "model_module_version": "2.0.0",
      "model_name": "ToggleButtonModel",
      "state": {
       "icon": "gear",
       "layout": "IPY_MODEL_c1c5ab688e2a4b3d8d6b0fe4c596a2c4",
       "style": "IPY_MODEL_151c169c0cb44f579325ce664a0c36e6",
       "tooltip": "NDSI"
      }
     },
     "b82650a4f33b448f98122228a9ede811": {
      "model_module": "@jupyter-widgets/base",
      "model_module_version": "2.0.0",
      "model_name": "LayoutModel",
      "state": {
       "height": "25px",
       "padding": "0px 0px 0px 5px",
       "width": "25px"
      }
     },
     "b886030f02724dd295a7043cd618fdea": {
      "model_module": "ipytree",
      "model_module_version": "^0.2",
      "model_name": "NodeModel",
      "state": {
       "_id": "07b7d066-f9e8-425e-8408-a8b1471d46f3",
       "_model_module_version": "^0.2",
       "_view_module_version": "^0.2",
       "name": "properties: Object (0 properties)",
       "opened": false
      }
     },
     "b888d51065514c40894136c4ee02fc72": {
      "model_module": "@jupyter-widgets/controls",
      "model_module_version": "2.0.0",
      "model_name": "RadioButtonsModel",
      "state": {
       "index": null,
       "layout": "IPY_MODEL_ca67914dce8a4fd0932c5c8623c365ba",
       "style": "IPY_MODEL_cc4d6ff68608480ab1af8ec40c65c0c8"
      }
     },
     "b89ec471cf95438c8ddd73677d28c038": {
      "model_module": "@jupyter-widgets/controls",
      "model_module_version": "2.0.0",
      "model_name": "HBoxModel",
      "state": {
       "children": [
        "IPY_MODEL_1fa524b6380b4967a7d9c106593384a9",
        "IPY_MODEL_14e74ef881e64c50a88b15652fa56b9d",
        "IPY_MODEL_836c77b9a2cc4ce18380c60efad53009"
       ],
       "layout": "IPY_MODEL_88578b783f404d6ea08188154551916c"
      }
     },
     "b9111b13a2a9437887a145125486fba5": {
      "model_module": "ipytree",
      "model_module_version": "^0.2",
      "model_name": "NodeModel",
      "state": {
       "_id": "02bd209a-ab3e-4279-9728-e8cccb288591",
       "_model_module_version": "^0.2",
       "_view_module_version": "^0.2",
       "name": "properties: Object (0 properties)",
       "opened": false
      }
     },
     "b918ab6eab5a4182b67b86c7dab45fed": {
      "model_module": "@jupyter-widgets/controls",
      "model_module_version": "2.0.0",
      "model_name": "SliderStyleModel",
      "state": {
       "description_width": ""
      }
     },
     "b9522319909e4dba89252ffaea576436": {
      "model_module": "@jupyter-widgets/base",
      "model_module_version": "2.0.0",
      "model_name": "LayoutModel",
      "state": {}
     },
     "b97634c86ab24559905ddb5bc03521e8": {
      "model_module": "ipytree",
      "model_module_version": "^0.2",
      "model_name": "NodeModel",
      "state": {
       "_id": "c7d9a562-801c-4b71-9f37-fa3eb9c40b33",
       "_model_module_version": "^0.2",
       "_view_module_version": "^0.2",
       "name": "Zoom Level: 10.0"
      }
     },
     "b9a9d2d107a248dd82f40a1701831f02": {
      "model_module": "@jupyter-widgets/controls",
      "model_module_version": "2.0.0",
      "model_name": "SliderStyleModel",
      "state": {
       "description_width": ""
      }
     },
     "b9c82f4034384a10a11b453af62dfbf4": {
      "model_module": "@jupyter-widgets/base",
      "model_module_version": "2.0.0",
      "model_name": "LayoutModel",
      "state": {
       "padding": "0px 0px 0px 4px"
      }
     },
     "ba096abfe316454ba09672de2668f820": {
      "model_module": "@jupyter-widgets/base",
      "model_module_version": "2.0.0",
      "model_name": "LayoutModel",
      "state": {
       "width": "80px"
      }
     },
     "ba2f8f94c169450da2429ae67a1eab28": {
      "model_module": "@jupyter-widgets/controls",
      "model_module_version": "2.0.0",
      "model_name": "CheckboxStyleModel",
      "state": {
       "description_width": ""
      }
     },
     "ba9a775aeb3a4992ab317f4c6907bd0c": {
      "model_module": "ipytree",
      "model_module_version": "^0.2",
      "model_name": "NodeModel",
      "state": {
       "_id": "247ab0e2-98d2-4322-b6f8-507db729d977",
       "_model_module_version": "^0.2",
       "_view_module_version": "^0.2",
       "icon": "file",
       "name": "max: 1"
      }
     },
     "bafad583c9c24938b80bb30d37bd321a": {
      "model_module": "@jupyter-widgets/controls",
      "model_module_version": "2.0.0",
      "model_name": "LabelStyleModel",
      "state": {
       "description_width": "",
       "font_family": null,
       "font_size": null,
       "font_style": null,
       "font_variant": null,
       "font_weight": null,
       "text_color": null,
       "text_decoration": null
      }
     },
     "bbb9c3c507d34636b6e25ae0e9657474": {
      "model_module": "@jupyter-widgets/controls",
      "model_module_version": "2.0.0",
      "model_name": "VBoxModel",
      "state": {
       "_view_count": 10,
       "children": [
        "IPY_MODEL_28260e9d698e4599bc2e0a677e9e0a67",
        "IPY_MODEL_fecfdcd8edba4ab694b4a7dde1867519"
       ],
       "layout": "IPY_MODEL_43a9dd51ff2e44b99b9fc95ca2dea18d"
      }
     },
     "bc778b0a42b64d288cc85a5cd64d1d8b": {
      "model_module": "@jupyter-widgets/base",
      "model_module_version": "2.0.0",
      "model_name": "LayoutModel",
      "state": {
       "height": "auto",
       "padding": "0px 0px 0px 4px",
       "width": "auto"
      }
     },
     "bd2ee903b5424f08bbaab2dee82c4cf9": {
      "model_module": "@jupyter-widgets/controls",
      "model_module_version": "2.0.0",
      "model_name": "DirectionalLinkModel",
      "state": {
       "source": [
        "IPY_MODEL_5e7982f0e76947ee85965ac815208f79",
        "value"
       ],
       "target": [
        "IPY_MODEL_60a746ea121f4d7cad688bf6039a6c8c",
        "opacity"
       ]
      }
     },
     "bd72b2b435fc440eb9cab76aa422788a": {
      "model_module": "@jupyter-widgets/controls",
      "model_module_version": "2.0.0",
      "model_name": "FloatSliderModel",
      "state": {
       "behavior": "drag-tap",
       "layout": "IPY_MODEL_94f6acec9fe8498d92e32018a2466b90",
       "max": 1,
       "readout": false,
       "step": 0.01,
       "style": "IPY_MODEL_6d121fc6221645259a9fa5f90765a0ba",
       "value": 1
      }
     },
     "bd9fb8089d7a42f88cef37da456e3f73": {
      "model_module": "@jupyter-widgets/controls",
      "model_module_version": "2.0.0",
      "model_name": "DirectionalLinkModel",
      "state": {
       "source": [
        "IPY_MODEL_0dfc759335a646cc92a654a4e7210d07",
        "value"
       ],
       "target": [
        "IPY_MODEL_4547e8671d614959a3bcbefd3bd5a5a4",
        "opacity"
       ]
      }
     },
     "bde88cdd96c14554bf0e2cfba82e54a4": {
      "model_module": "@jupyter-widgets/controls",
      "model_module_version": "2.0.0",
      "model_name": "CheckboxStyleModel",
      "state": {
       "description_width": ""
      }
     },
     "be8df1ddc10e4559a86a593afade70d9": {
      "model_module": "@jupyter-widgets/controls",
      "model_module_version": "2.0.0",
      "model_name": "LinkModel",
      "state": {
       "source": [
        "IPY_MODEL_6f5e5295027f44a68f9d17bdd953a01d",
        "value"
       ],
       "target": [
        "IPY_MODEL_4547e8671d614959a3bcbefd3bd5a5a4",
        "visible"
       ]
      }
     },
     "bf4e2b07b0e24f6cb8ca25f07e5ed2d2": {
      "model_module": "@jupyter-widgets/controls",
      "model_module_version": "2.0.0",
      "model_name": "CheckboxModel",
      "state": {
       "description": "NDVI",
       "disabled": false,
       "indent": false,
       "layout": "IPY_MODEL_e497cbffb0a84ff485a19ce14b24f366",
       "style": "IPY_MODEL_a6e4b8a2d3ed4db894e83e63d94589c4",
       "value": false
      }
     },
     "bfc0d9b5c96a4ce6b2a3cb9e8bbe409c": {
      "model_module": "@jupyter-widgets/controls",
      "model_module_version": "2.0.0",
      "model_name": "HBoxModel",
      "state": {
       "children": [
        "IPY_MODEL_3216c790904949c2a82e90e731c0618f",
        "IPY_MODEL_c7622b361fb640efac27de5c6aa02c2e"
       ],
       "layout": "IPY_MODEL_c6f7810f0d4846f9be58781096e54671"
      }
     },
     "bfd60edc539a481187d3629efd83b387": {
      "model_module": "@jupyter-widgets/controls",
      "model_module_version": "2.0.0",
      "model_name": "LinkModel",
      "state": {
       "source": [
        "IPY_MODEL_ae00c1a9cd424ec19bafdb1e05dafd57",
        "value"
       ],
       "target": [
        "IPY_MODEL_14ad4fc53c76437a931de0bb2f9447da",
        "visible"
       ]
      }
     },
     "bfed73febe1d4e989185bf76fcfae0e5": {
      "model_module": "@jupyter-widgets/controls",
      "model_module_version": "2.0.0",
      "model_name": "DirectionalLinkModel",
      "state": {
       "source": [
        "IPY_MODEL_bd72b2b435fc440eb9cab76aa422788a",
        "value"
       ],
       "target": [
        "IPY_MODEL_e6d78e3bf9b4445ca985c418a53aa0a1",
        "opacity"
       ]
      }
     },
     "c0c35341f0e746118d5f5b6da4ba3c17": {
      "model_module": "@jupyter-widgets/controls",
      "model_module_version": "2.0.0",
      "model_name": "LinkModel",
      "state": {
       "source": [
        "IPY_MODEL_c0ed95a02cd94738ba0a36b5073578f5",
        "value"
       ],
       "target": [
        "IPY_MODEL_b3bb39c7f2ca44869616a3f58b7d688b",
        "visible"
       ]
      }
     },
     "c0ed95a02cd94738ba0a36b5073578f5": {
      "model_module": "@jupyter-widgets/controls",
      "model_module_version": "2.0.0",
      "model_name": "CheckboxModel",
      "state": {
       "description": "NDVI",
       "disabled": false,
       "indent": false,
       "layout": "IPY_MODEL_b047740feee146de9a5389cd5b9a6863",
       "style": "IPY_MODEL_dfd816c53c8d464d8d358d86c9c96527",
       "value": false
      }
     },
     "c1c5ab688e2a4b3d8d6b0fe4c596a2c4": {
      "model_module": "@jupyter-widgets/base",
      "model_module_version": "2.0.0",
      "model_name": "LayoutModel",
      "state": {
       "height": "25px",
       "padding": "0px 0px 0px 5px",
       "width": "25px"
      }
     },
     "c213d591731d4a969ef49b99a0dd3a1a": {
      "model_module": "ipytree",
      "model_module_version": "^0.2",
      "model_name": "NodeModel",
      "state": {
       "_id": "49318c7f-a678-4075-997c-d6d9d5c9fcd2",
       "_model_module_version": "^0.2",
       "_view_module_version": "^0.2",
       "name": "dimensions",
       "nodes": [
        "IPY_MODEL_dca1f4df50c24b1eb3cada5ace47b32f",
        "IPY_MODEL_11995e937ab94f699b54f25f90712fbe"
       ],
       "opened": false
      }
     },
     "c217309c94f24c65aff891d21c7809ae": {
      "model_module": "@jupyter-widgets/controls",
      "model_module_version": "2.0.0",
      "model_name": "HBoxModel",
      "state": {
       "children": [
        "IPY_MODEL_2cbfec0d995a4a9d8c11720ad312d77a",
        "IPY_MODEL_65e3ac711f9c437eba8e501919a7045c",
        "IPY_MODEL_e17c382720cc485ea9f08b21766e3024"
       ],
       "layout": "IPY_MODEL_a0ae856cc6d84444b097d5f71f7f88cd"
      }
     },
     "c222035f974c48b498e285fdf874eeb4": {
      "model_module": "@jupyter-widgets/controls",
      "model_module_version": "2.0.0",
      "model_name": "HBoxModel",
      "state": {
       "children": [
        "IPY_MODEL_6449ddcb189b41e585cd7f7e10d69148",
        "IPY_MODEL_1e32f7cb59d74018bac053cc7d6f68cf",
        "IPY_MODEL_7c51bd0e53dd4e9e9e977cb45b91e649"
       ],
       "layout": "IPY_MODEL_143a38f464c4460abd1c8268d29514c6"
      }
     },
     "c333a78a9179471caeaccaa9e864ba50": {
      "model_module": "@jupyter-widgets/controls",
      "model_module_version": "2.0.0",
      "model_name": "ToggleButtonModel",
      "state": {
       "button_style": "primary",
       "icon": "gears",
       "layout": "IPY_MODEL_ead8c312d1bd4ef287a9269f41870b49",
       "style": "IPY_MODEL_d7837ebc5de74510af972492aabf07b9",
       "tooltip": "WhiteboxTools for local geoprocessing"
      }
     },
     "c3ae0c4999cf4b8e9bdf3b4c93895a4d": {
      "model_module": "ipytree",
      "model_module_version": "^0.2",
      "model_name": "NodeModel",
      "state": {
       "_id": "47e4111e-c40f-4caa-b3ae-86f820cacc60",
       "_model_module_version": "^0.2",
       "_view_module_version": "^0.2",
       "name": "crs_transform",
       "nodes": [
        "IPY_MODEL_92deccd7b1e54254b2d5f736d7c189f7",
        "IPY_MODEL_18fd0116e7d2493cba959cdec80b84aa",
        "IPY_MODEL_256b07416c54489f99580d10b95079b9",
        "IPY_MODEL_35e21242a4634462989cf3ac8036128f",
        "IPY_MODEL_2d13bef3e46441dfa64600d49e68f44c",
        "IPY_MODEL_55ced07e6f4547c5a0011ab25453e76d"
       ],
       "opened": false
      }
     },
     "c3cb7467490e476abdb804755aa0c66e": {
      "model_module": "@jupyter-widgets/controls",
      "model_module_version": "2.0.0",
      "model_name": "CheckboxStyleModel",
      "state": {
       "description_width": ""
      }
     },
     "c428c9f707f84215a4fcf6dc9e98e96a": {
      "model_module": "@jupyter-widgets/controls",
      "model_module_version": "2.0.0",
      "model_name": "ToggleButtonModel",
      "state": {
       "icon": "gear",
       "layout": "IPY_MODEL_3b6e870f65cd4781916a908bbfe278df",
       "style": "IPY_MODEL_7a192d53a3284db1a87a79c7061c3324",
       "tooltip": "Google Maps"
      }
     },
     "c4362a8d3f0d44a78b5ac76db7f5c227": {
      "model_module": "@jupyter-widgets/base",
      "model_module_version": "2.0.0",
      "model_name": "LayoutModel",
      "state": {
       "padding": "0px 8px 0px 8px"
      }
     },
     "c4c52f20bdf64dd8a3dd482549886ad9": {
      "model_module": "@jupyter-widgets/base",
      "model_module_version": "2.0.0",
      "model_name": "LayoutModel",
      "state": {
       "height": "auto",
       "padding": "0px 0px 0px 4px",
       "width": "auto"
      }
     },
     "c4d8e121c7734578a95ac63cfaac98ea": {
      "model_module": "ipytree",
      "model_module_version": "^0.2",
      "model_name": "NodeModel",
      "state": {
       "_id": "57957d21-3ca9-49fc-a607-0f833f9f34af",
       "_model_module_version": "^0.2",
       "_view_module_version": "^0.2",
       "icon": "file",
       "name": "crs: EPSG:32612"
      }
     },
     "c596a7067e594bc08a12479c98e9b921": {
      "model_module": "@jupyter-widgets/base",
      "model_module_version": "2.0.0",
      "model_name": "LayoutModel",
      "state": {
       "height": "18px",
       "width": "140px"
      }
     },
     "c6a85c3ce22d43a5b5074e2025be4734": {
      "model_module": "@jupyter-widgets/controls",
      "model_module_version": "2.0.0",
      "model_name": "GridBoxModel",
      "state": {
       "children": [
        "IPY_MODEL_7fb59b45221d4005bab510ccb54e4dc7",
        "IPY_MODEL_9eb6fc0e0f6d48d19b22fca2c46229ce",
        "IPY_MODEL_8f42c28383894840aff0105ba9c64d13",
        "IPY_MODEL_1b1d85f634e54ba480a6ae6c377f4c00",
        "IPY_MODEL_3fa800e274c047d0afb8b9ed77e6178d",
        "IPY_MODEL_9d59088c581a4bc5938886f6a034867d"
       ],
       "layout": "IPY_MODEL_9df3c35d07d74c80bf7ee46f0342a698"
      }
     },
     "c6aa7edc10fe42ff9c032710e1e1e54f": {
      "model_module": "@jupyter-widgets/base",
      "model_module_version": "2.0.0",
      "model_name": "LayoutModel",
      "state": {
       "height": "25px",
       "padding": "0px 0px 0px 5px",
       "width": "25px"
      }
     },
     "c6f7810f0d4846f9be58781096e54671": {
      "model_module": "@jupyter-widgets/base",
      "model_module_version": "2.0.0",
      "model_name": "LayoutModel",
      "state": {}
     },
     "c7622b361fb640efac27de5c6aa02c2e": {
      "model_module": "@jupyter-widgets/controls",
      "model_module_version": "2.0.0",
      "model_name": "ToggleButtonModel",
      "state": {
       "icon": "info",
       "layout": "IPY_MODEL_95940797995e40338ae69fd88bdeeb92",
       "style": "IPY_MODEL_da1d7c7331fd48b5b24851c3b12318fd",
       "tooltip": "Inspector"
      }
     },
     "c79a662bbbe3450782f2c876d4ce5743": {
      "model_module": "@jupyter-widgets/controls",
      "model_module_version": "2.0.0",
      "model_name": "HBoxModel",
      "state": {
       "children": [
        "IPY_MODEL_720b3ca32edc4caa89b92e9f98857836",
        "IPY_MODEL_8671748f9d6448f1a609127c8b76e8fb"
       ],
       "layout": "IPY_MODEL_1c9fe20001f8479a96c8d508246d70dc"
      }
     },
     "c7aeb158dd654edab1a5f8d1caaed0bb": {
      "model_module": "@jupyter-widgets/controls",
      "model_module_version": "2.0.0",
      "model_name": "HBoxModel",
      "state": {
       "children": [
        "IPY_MODEL_f8f2f945f0a44e6bad90fd3d7c371d50",
        "IPY_MODEL_3c5d15399845437f885487d9afb7f1be",
        "IPY_MODEL_9966416920514768b3bd35823f14c32a"
       ],
       "layout": "IPY_MODEL_5482ba613cf44929a75c833dde54eaeb"
      }
     },
     "c849de5564d34d748370df89518f91f7": {
      "model_module": "@jupyter-widgets/controls",
      "model_module_version": "2.0.0",
      "model_name": "LinkModel",
      "state": {
       "source": [
        "IPY_MODEL_2cbfec0d995a4a9d8c11720ad312d77a",
        "value"
       ],
       "target": [
        "IPY_MODEL_73f8dcd1ad0b428c88e36701fef0a659",
        "visible"
       ]
      }
     },
     "c90c34b473cf461893afbe7130f19fdd": {
      "model_module": "@jupyter-widgets/controls",
      "model_module_version": "2.0.0",
      "model_name": "CheckboxStyleModel",
      "state": {
       "description_width": ""
      }
     },
     "c996324dbf4f480ea7c258604a4aaeea": {
      "model_module": "@jupyter-widgets/controls",
      "model_module_version": "2.0.0",
      "model_name": "CheckboxStyleModel",
      "state": {
       "description_width": ""
      }
     },
     "c9d9ebcad989451c811aac680b6f71e4": {
      "model_module": "jupyter-leaflet",
      "model_module_version": "^0.17",
      "model_name": "LeafletMapStyleModel",
      "state": {
       "_model_module_version": "^0.17"
      }
     },
     "ca67914dce8a4fd0932c5c8623c365ba": {
      "model_module": "@jupyter-widgets/base",
      "model_module_version": "2.0.0",
      "model_name": "LayoutModel",
      "state": {}
     },
     "cb555378c2cb43e3ab861a7cd4527609": {
      "model_module": "@jupyter-widgets/controls",
      "model_module_version": "2.0.0",
      "model_name": "LinkModel",
      "state": {
       "source": [
        "IPY_MODEL_19511e4092bb4e6882ec57d39be14e3f",
        "value"
       ],
       "target": [
        "IPY_MODEL_60a746ea121f4d7cad688bf6039a6c8c",
        "visible"
       ]
      }
     },
     "cc4d6ff68608480ab1af8ec40c65c0c8": {
      "model_module": "@jupyter-widgets/controls",
      "model_module_version": "2.0.0",
      "model_name": "DescriptionStyleModel",
      "state": {
       "description_width": ""
      }
     },
     "cd41f5bf73b643cab195f1136ac8ba86": {
      "model_module": "@jupyter-widgets/base",
      "model_module_version": "2.0.0",
      "model_name": "LayoutModel",
      "state": {
       "border_bottom": "1px solid black",
       "border_left": "1px solid black",
       "border_right": "1px solid black",
       "border_top": "1px solid black",
       "max_height": "500px",
       "max_width": "300px",
       "overflow": "auto"
      }
     },
     "cd7005a54ad94c87bfe97729e9ee5835": {
      "model_module": "@jupyter-widgets/controls",
      "model_module_version": "2.0.0",
      "model_name": "ToggleButtonStyleModel",
      "state": {
       "description_width": "",
       "font_family": null,
       "font_size": null,
       "font_style": null,
       "font_variant": null,
       "font_weight": null,
       "text_color": null,
       "text_decoration": null
      }
     },
     "cdb40be8e3a5459b97c338a982bce246": {
      "model_module": "@jupyter-widgets/controls",
      "model_module_version": "2.0.0",
      "model_name": "ToggleButtonStyleModel",
      "state": {
       "description_width": "",
       "font_family": null,
       "font_size": null,
       "font_style": null,
       "font_variant": null,
       "font_weight": null,
       "text_color": null,
       "text_decoration": null
      }
     },
     "ce1e641e940d4fa3a178cd9c9da5677c": {
      "model_module": "jupyter-leaflet",
      "model_module_version": "^0.17",
      "model_name": "LeafletMeasureControlModel",
      "state": {
       "_model_module_version": "^0.17",
       "_view_module_version": "^0.17",
       "active_color": "orange",
       "options": [
        "active_color",
        "capture_z_index",
        "completed_color",
        "popup_options",
        "position",
        "primary_area_unit",
        "primary_length_unit",
        "secondary_area_unit",
        "secondary_length_unit"
       ],
       "position": "bottomleft",
       "primary_length_unit": "kilometers",
       "secondary_area_unit": null,
       "secondary_length_unit": null
      }
     },
     "ce29447876ac492dbc62eca243d77de1": {
      "model_module": "jupyter-leaflet",
      "model_module_version": "^0.17",
      "model_name": "LeafletMapStyleModel",
      "state": {
       "_model_module_version": "^0.17",
       "cursor": "default"
      }
     },
     "cf1da59b37e34f688e4518cc7b97aac4": {
      "model_module": "@jupyter-widgets/controls",
      "model_module_version": "2.0.0",
      "model_name": "CheckboxStyleModel",
      "state": {
       "description_width": ""
      }
     },
     "cfa9f652fbb14ab9a6429158a897d274": {
      "model_module": "ipyevents",
      "model_module_version": "2.0.2",
      "model_name": "EventModel",
      "state": {
       "_supported_key_events": [
        "keydown",
        "keyup"
       ],
       "_supported_mouse_events": [
        "click",
        "auxclick",
        "dblclick",
        "mouseenter",
        "mouseleave",
        "mousedown",
        "mouseup",
        "mousemove",
        "wheel",
        "contextmenu",
        "dragstart",
        "drag",
        "dragend",
        "dragenter",
        "dragover",
        "dragleave",
        "drop"
       ],
       "_supported_touch_events": [
        "touchstart",
        "touchend",
        "touchmove",
        "touchcancel"
       ],
       "_view_module": "@jupyter-widgets/controls",
       "source": "IPY_MODEL_3e103e3ba2204a5c9166e68cb9c65af6",
       "throttle_or_debounce": "",
       "watched_events": [
        "mouseenter",
        "mouseleave"
       ],
       "xy_coordinate_system": ""
      }
     },
     "d0b68b9c847e4c9eba4d10ffdadc49e2": {
      "model_module": "@jupyter-widgets/base",
      "model_module_version": "2.0.0",
      "model_name": "LayoutModel",
      "state": {
       "padding": "0px 8px 0px 8px"
      }
     },
     "d1d1abe13197404a86a91a74346fb343": {
      "model_module": "@jupyter-widgets/controls",
      "model_module_version": "2.0.0",
      "model_name": "ToggleButtonStyleModel",
      "state": {
       "description_width": "",
       "font_family": null,
       "font_size": null,
       "font_style": null,
       "font_variant": null,
       "font_weight": null,
       "text_color": null,
       "text_decoration": null
      }
     },
     "d20ae1b7c2ea429c8a3f2d7f6b44982f": {
      "model_module": "@jupyter-widgets/output",
      "model_module_version": "1.0.0",
      "model_name": "OutputModel",
      "state": {
       "layout": "IPY_MODEL_a5c6826c3c6148e68c763a458691b95a"
      }
     },
     "d2ee4062668a46c7bfabd90cdf548cd4": {
      "model_module": "@jupyter-widgets/controls",
      "model_module_version": "2.0.0",
      "model_name": "ButtonStyleModel",
      "state": {
       "font_family": null,
       "font_size": null,
       "font_style": null,
       "font_variant": null,
       "font_weight": null,
       "text_color": null,
       "text_decoration": null
      }
     },
     "d43b68624dd74d4ba516711a863d051d": {
      "model_module": "@jupyter-widgets/controls",
      "model_module_version": "2.0.0",
      "model_name": "LinkModel",
      "state": {
       "source": [
        "IPY_MODEL_b154df2b20b6458baee27d5aa5c5569d",
        "value"
       ],
       "target": [
        "IPY_MODEL_8c9b7e5428a145f09aeef75c424974ab",
        "visible"
       ]
      }
     },
     "d43ee28cac7f4952be9467a3ddb305e4": {
      "model_module": "@jupyter-widgets/base",
      "model_module_version": "2.0.0",
      "model_name": "LayoutModel",
      "state": {
       "height": "18px",
       "width": "140px"
      }
     },
     "d45d6e4aa99945b7a28fc316ee4d78c7": {
      "model_module": "ipytree",
      "model_module_version": "^0.2",
      "model_name": "NodeModel",
      "state": {
       "_id": "616a7bce-1938-4910-aeb9-7ded60498063",
       "_model_module_version": "^0.2",
       "_view_module_version": "^0.2",
       "close_icon": "minus-square",
       "close_icon_style": "info",
       "icon": "archive",
       "name": "Objects",
       "nodes": [
        "IPY_MODEL_ae1466001fda48d280b9d0344426ab39",
        "IPY_MODEL_2b14a3059a9d43609ab7c158686ffd69"
       ],
       "open_icon": "plus-square",
       "open_icon_style": "success"
      }
     },
     "d4fb950c5d6042a6b1e92858fac11a85": {
      "model_module": "ipytree",
      "model_module_version": "^0.2",
      "model_name": "NodeModel",
      "state": {
       "_id": "274de6bb-196c-4b6d-ad7b-a5058ab6b879",
       "_model_module_version": "^0.2",
       "_view_module_version": "^0.2",
       "icon": "file",
       "name": "precision: float"
      }
     },
     "d502242619c74e1d984181f446fe3f2c": {
      "model_module": "@jupyter-widgets/controls",
      "model_module_version": "2.0.0",
      "model_name": "ToggleButtonModel",
      "state": {
       "button_style": "primary",
       "icon": "fast-forward",
       "layout": "IPY_MODEL_6f588eedb81e43cd8f56483db9ee9527",
       "style": "IPY_MODEL_4373564561894d54b0eaabd5bca87c72",
       "tooltip": "Activate timeslider"
      }
     },
     "d54f9f2b8cf845cbb1386671129aed11": {
      "model_module": "@jupyter-widgets/controls",
      "model_module_version": "2.0.0",
      "model_name": "ToggleButtonModel",
      "state": {
       "button_style": "primary",
       "icon": "folder-open",
       "layout": "IPY_MODEL_c4c52f20bdf64dd8a3dd482549886ad9",
       "style": "IPY_MODEL_971953f4dc154a9cbb8d88f600e2ea17",
       "tooltip": "Open local vector/raster data"
      }
     },
     "d5a46da90874462bb4059c2f2ed3b477": {
      "model_module": "ipytree",
      "model_module_version": "^0.2",
      "model_name": "NodeModel",
      "state": {
       "_id": "438c2339-79d4-49c8-989b-cd7274df1b39",
       "_model_module_version": "^0.2",
       "_view_module_version": "^0.2",
       "icon": "file",
       "name": "min: -1"
      }
     },
     "d7448ffd9ca34391b0a175222b378844": {
      "model_module": "@jupyter-widgets/base",
      "model_module_version": "2.0.0",
      "model_name": "LayoutModel",
      "state": {
       "height": "25px",
       "padding": "0px 0px 0px 5px",
       "width": "25px"
      }
     },
     "d75454492bf6485ba1e004ba520066ff": {
      "model_module": "jupyter-leaflet",
      "model_module_version": "^0.17",
      "model_name": "LeafletMapStyleModel",
      "state": {
       "_model_module_version": "^0.17",
       "cursor": "wait"
      }
     },
     "d7837ebc5de74510af972492aabf07b9": {
      "model_module": "@jupyter-widgets/controls",
      "model_module_version": "2.0.0",
      "model_name": "ToggleButtonStyleModel",
      "state": {
       "description_width": "",
       "font_family": null,
       "font_size": null,
       "font_style": null,
       "font_variant": null,
       "font_weight": null,
       "text_color": null,
       "text_decoration": null
      }
     },
     "d7b2f30d324a4624b72416f788862b5c": {
      "model_module": "@jupyter-widgets/controls",
      "model_module_version": "2.0.0",
      "model_name": "FloatSliderModel",
      "state": {
       "behavior": "drag-tap",
       "layout": "IPY_MODEL_8e4f93c8a8c7490e99053dd14499de9e",
       "max": 1,
       "readout": false,
       "step": 0.01,
       "style": "IPY_MODEL_63027473d63345a3b1b8221c1d7204e7",
       "value": 1
      }
     },
     "d909a960ddc04222ad7d23dc8c559290": {
      "model_module": "@jupyter-widgets/controls",
      "model_module_version": "2.0.0",
      "model_name": "SliderStyleModel",
      "state": {
       "description_width": ""
      }
     },
     "da1d7c7331fd48b5b24851c3b12318fd": {
      "model_module": "@jupyter-widgets/controls",
      "model_module_version": "2.0.0",
      "model_name": "ToggleButtonStyleModel",
      "state": {
       "description_width": "",
       "font_family": null,
       "font_size": null,
       "font_style": null,
       "font_variant": null,
       "font_weight": null,
       "text_color": null,
       "text_decoration": null
      }
     },
     "dacacc0ac2f9412a8f7ac425e46429a8": {
      "model_module": "@jupyter-widgets/controls",
      "model_module_version": "2.0.0",
      "model_name": "ToggleButtonStyleModel",
      "state": {
       "description_width": "",
       "font_family": null,
       "font_size": null,
       "font_style": null,
       "font_variant": null,
       "font_weight": null,
       "text_color": null,
       "text_decoration": null
      }
     },
     "db0abab27bb94c68b5ad6957d35fc5a3": {
      "model_module": "@jupyter-widgets/controls",
      "model_module_version": "2.0.0",
      "model_name": "FloatSliderModel",
      "state": {
       "behavior": "drag-tap",
       "layout": "IPY_MODEL_9651d57540ed43929f11a4ac4a7e5ec6",
       "max": 1,
       "readout": false,
       "step": 0.01,
       "style": "IPY_MODEL_69251764843244e7ad8d75f2fc573dac",
       "value": 1
      }
     },
     "dbe606cb6e4d49b1a85927ce30fd9da7": {
      "model_module": "@jupyter-widgets/controls",
      "model_module_version": "2.0.0",
      "model_name": "SliderStyleModel",
      "state": {
       "description_width": ""
      }
     },
     "dc339c5a9ef1409489d81144bc1f1cde": {
      "model_module": "@jupyter-widgets/controls",
      "model_module_version": "2.0.0",
      "model_name": "ToggleButtonModel",
      "state": {
       "button_style": "primary",
       "icon": "line-chart",
       "layout": "IPY_MODEL_639f875c74274bd3b349e47f13f08141",
       "style": "IPY_MODEL_f0046914bfd847d6b95b15056c559471",
       "tooltip": "Creating and plotting transects"
      }
     },
     "dc3982fa47174002aa90e5c186727bae": {
      "model_module": "jupyter-leaflet",
      "model_module_version": "^0.17",
      "model_name": "LeafletWidgetControlModel",
      "state": {
       "_model_module": "jupyter-leaflet",
       "_model_module_version": "^0.17",
       "_view_count": null,
       "_view_module": "jupyter-leaflet",
       "_view_module_version": "^0.17",
       "options": [
        "position",
        "transparent_bg"
       ],
       "position": "topleft",
       "widget": "IPY_MODEL_3e103e3ba2204a5c9166e68cb9c65af6"
      }
     },
     "dca1f4df50c24b1eb3cada5ace47b32f": {
      "model_module": "ipytree",
      "model_module_version": "^0.2",
      "model_name": "NodeModel",
      "state": {
       "_id": "f6dd28bf-1f48-428e-8593-57156d823405",
       "_model_module_version": "^0.2",
       "_view_module_version": "^0.2",
       "icon": "file",
       "name": "0: 7791"
      }
     },
     "dcd9c093f23144e892a6fbf49a98f259": {
      "model_module": "@jupyter-widgets/controls",
      "model_module_version": "2.0.0",
      "model_name": "SliderStyleModel",
      "state": {
       "description_width": ""
      }
     },
     "dcddb0709477455bad85881d4c757a6b": {
      "model_module": "@jupyter-widgets/base",
      "model_module_version": "2.0.0",
      "model_name": "LayoutModel",
      "state": {
       "width": "80px"
      }
     },
     "dd6e03eda13f4e26b49a8bcc49a45bce": {
      "model_module": "@jupyter-widgets/base",
      "model_module_version": "2.0.0",
      "model_name": "LayoutModel",
      "state": {
       "padding": "0px 8px 0px 8px"
      }
     },
     "de319bcf08d84da38faeab6a9995a84f": {
      "model_module": "ipytree",
      "model_module_version": "^0.2",
      "model_name": "NodeModel",
      "state": {
       "_id": "5526896f-764b-4a52-9caa-27a74c5f1199",
       "_model_module_version": "^0.2",
       "_view_module_version": "^0.2",
       "close_icon": "minus-square",
       "close_icon_style": "info",
       "icon": "map",
       "name": "Point (-111.145, 41.873) at 113m/px",
       "nodes": [
        "IPY_MODEL_4b3ca34c5923441882de38c575f99ae7",
        "IPY_MODEL_27433ad545d244e4b1f232a2a12a5fd5",
        "IPY_MODEL_b97634c86ab24559905ddb5bc03521e8",
        "IPY_MODEL_0e520a71690e4da2a04762a75090f106"
       ],
       "open_icon": "plus-square",
       "open_icon_style": "success",
       "opened": false
      }
     },
     "dee15232aae146d8a33404345c3ef4a4": {
      "model_module": "ipytree",
      "model_module_version": "^0.2",
      "model_name": "NodeModel",
      "state": {
       "_id": "974774b3-9bb6-489e-b11c-2cdc0e8830ec",
       "_model_module_version": "^0.2",
       "_view_module_version": "^0.2",
       "icon": "file",
       "name": "id: nd"
      }
     },
     "dfa8c7a1ee8e4e74a5cc337430de249f": {
      "model_module": "@jupyter-widgets/controls",
      "model_module_version": "2.0.0",
      "model_name": "DirectionalLinkModel",
      "state": {
       "source": [
        "IPY_MODEL_d7b2f30d324a4624b72416f788862b5c",
        "value"
       ],
       "target": [
        "IPY_MODEL_14ad4fc53c76437a931de0bb2f9447da",
        "opacity"
       ]
      }
     },
     "dfd816c53c8d464d8d358d86c9c96527": {
      "model_module": "@jupyter-widgets/controls",
      "model_module_version": "2.0.0",
      "model_name": "CheckboxStyleModel",
      "state": {
       "description_width": ""
      }
     },
     "e05774dd46a2435f8308a0a78bab17f4": {
      "model_module": "ipytree",
      "model_module_version": "^0.2",
      "model_name": "NodeModel",
      "state": {
       "_id": "181ff98c-772f-4f49-aba0-6c021ca386c8",
       "_model_module_version": "^0.2",
       "_view_module_version": "^0.2",
       "icon": "file",
       "name": "crs: EPSG:32612"
      }
     },
     "e09991a854a4498897de2c6810cbe302": {
      "model_module": "@jupyter-widgets/base",
      "model_module_version": "2.0.0",
      "model_name": "LayoutModel",
      "state": {
       "height": "25px",
       "padding": "0px 0px 0px 5px",
       "width": "25px"
      }
     },
     "e0e1fdbabc1a435f9c872eadbdc3bb25": {
      "model_module": "ipytree",
      "model_module_version": "^0.2",
      "model_name": "NodeModel",
      "state": {
       "_id": "889bf418-b947-4d7c-b81f-3a8a78c2961f",
       "_model_module_version": "^0.2",
       "_view_module_version": "^0.2",
       "name": "properties: Object (0 properties)",
       "opened": false
      }
     },
     "e17c382720cc485ea9f08b21766e3024": {
      "model_module": "@jupyter-widgets/controls",
      "model_module_version": "2.0.0",
      "model_name": "FloatSliderModel",
      "state": {
       "behavior": "drag-tap",
       "layout": "IPY_MODEL_68d0cb905cb247cfb29bd39d1332f493",
       "max": 1,
       "readout": false,
       "step": 0.01,
       "style": "IPY_MODEL_38f2eacdf14f4fbab0a2c2ce50f1abbc",
       "value": 1
      }
     },
     "e1d3edb3fd0e4cd282bc0b50ad2b3b88": {
      "model_module": "@jupyter-widgets/controls",
      "model_module_version": "2.0.0",
      "model_name": "ToggleButtonModel",
      "state": {
       "button_style": "primary",
       "icon": "times",
       "layout": "IPY_MODEL_1cc0ceff5a2e470fb120cae38b11e865",
       "style": "IPY_MODEL_847e48f1cf51494abcc55a71a1dfffe4",
       "tooltip": "Close the tool"
      }
     },
     "e1e7f513d4924c5489a617613b946346": {
      "model_module": "@jupyter-widgets/base",
      "model_module_version": "2.0.0",
      "model_name": "LayoutModel",
      "state": {
       "height": "auto",
       "padding": "0px 0px 0px 4px",
       "width": "auto"
      }
     },
     "e22404fa0be1405f8c0f2831d28b1c4e": {
      "model_module": "@jupyter-widgets/base",
      "model_module_version": "2.0.0",
      "model_name": "LayoutModel",
      "state": {}
     },
     "e36df7a1a8bd4d73944c11839d56c007": {
      "model_module": "@jupyter-widgets/controls",
      "model_module_version": "2.0.0",
      "model_name": "ToggleButtonModel",
      "state": {
       "icon": "globe",
       "layout": "IPY_MODEL_f4f45684c13f47c9a49e75e33d6233b1",
       "style": "IPY_MODEL_982d2ff7018b468e9c1e959b2d648f3c",
       "tooltip": "Search location/data"
      }
     },
     "e42ea097b0dd4153997d072e56abd0e7": {
      "model_module": "ipytree",
      "model_module_version": "^0.2",
      "model_name": "NodeModel",
      "state": {
       "_id": "e9f81cb4-f15e-4ff3-958b-5c7cf5810846",
       "_model_module_version": "^0.2",
       "_view_module_version": "^0.2",
       "icon": "file",
       "name": "nd: 0.77"
      }
     },
     "e497cbffb0a84ff485a19ce14b24f366": {
      "model_module": "@jupyter-widgets/base",
      "model_module_version": "2.0.0",
      "model_name": "LayoutModel",
      "state": {
       "height": "18px",
       "width": "140px"
      }
     },
     "e5d7d7417bef4481a08964ca86bd0ba3": {
      "model_module": "@jupyter-widgets/base",
      "model_module_version": "2.0.0",
      "model_name": "LayoutModel",
      "state": {
       "width": "80px"
      }
     },
     "e5dbc12896544fdaba61e5018ac2edc0": {
      "model_module": "@jupyter-widgets/base",
      "model_module_version": "2.0.0",
      "model_name": "LayoutModel",
      "state": {
       "height": "18px",
       "width": "140px"
      }
     },
     "e5fdfdccfc0c4811808cd7d91093bbe4": {
      "model_module": "@jupyter-widgets/controls",
      "model_module_version": "2.0.0",
      "model_name": "CheckboxStyleModel",
      "state": {
       "description_width": ""
      }
     },
     "e6d78e3bf9b4445ca985c418a53aa0a1": {
      "model_module": "jupyter-leaflet",
      "model_module_version": "^0.17",
      "model_name": "LeafletTileLayerModel",
      "state": {
       "_model_module_version": "^0.17",
       "_view_module_version": "^0.17",
       "attribution": "Google",
       "max_zoom": 24,
       "name": "Google Maps",
       "options": [
        "attribution",
        "bounds",
        "detect_retina",
        "max_native_zoom",
        "max_zoom",
        "min_native_zoom",
        "min_zoom",
        "no_wrap",
        "tile_size",
        "tms",
        "zoom_offset"
       ],
       "url": "https://mt1.google.com/vt/lyrs=m&x={x}&y={y}&z={z}",
       "visible": false
      }
     },
     "e700430954a1450fb2b608d1d7a60a3e": {
      "model_module": "@jupyter-widgets/controls",
      "model_module_version": "2.0.0",
      "model_name": "LinkModel",
      "state": {
       "source": [
        "IPY_MODEL_3bb998df05a84318b9ba4be9e5bf1bbf",
        "value"
       ],
       "target": [
        "IPY_MODEL_4547e8671d614959a3bcbefd3bd5a5a4",
        "visible"
       ]
      }
     },
     "e7df62da119646bea1949137bbfc5c3f": {
      "model_module": "@jupyter-widgets/controls",
      "model_module_version": "2.0.0",
      "model_name": "ToggleButtonModel",
      "state": {
       "icon": "gear",
       "layout": "IPY_MODEL_45e431e7231b419aaa36fa71432ba489",
       "style": "IPY_MODEL_2ab2878d76724f329636706d6959dcdb",
       "tooltip": "Landsat8 Image"
      }
     },
     "e92461b470c54864ae69ef9a98cc5cd4": {
      "model_module": "ipytree",
      "model_module_version": "^0.2",
      "model_name": "NodeModel",
      "state": {
       "_id": "5488e0f5-ef07-4464-bcf2-c03592b4249c",
       "_model_module_version": "^0.2",
       "_view_module_version": "^0.2",
       "name": "data_type",
       "nodes": [
        "IPY_MODEL_a3f5e4bfc4394deba41aea144edd4829",
        "IPY_MODEL_784909a8c29f408abea3ee40d4a0dd59",
        "IPY_MODEL_470a4a603509436ba9408cad6bdb5b85",
        "IPY_MODEL_223fd5ce5b9a4fd0957eb54688f5243c"
       ],
       "opened": false
      }
     },
     "e99ef26a70fb455a868e3f1be9da162b": {
      "model_module": "ipytree",
      "model_module_version": "^0.2",
      "model_name": "NodeModel",
      "state": {
       "_id": "b84b1bf3-7b39-452a-b84f-6ecb12d1855c",
       "_model_module_version": "^0.2",
       "_view_module_version": "^0.2",
       "icon": "file",
       "name": "3: 0"
      }
     },
     "e9d2706d2c734de99bca21fdb54f78dc": {
      "model_module": "@jupyter-widgets/controls",
      "model_module_version": "2.0.0",
      "model_name": "HBoxModel",
      "state": {
       "children": [
        "IPY_MODEL_93fc3d928c9b467b8129d9bcf5fe5492",
        "IPY_MODEL_c428c9f707f84215a4fcf6dc9e98e96a",
        "IPY_MODEL_bd72b2b435fc440eb9cab76aa422788a"
       ],
       "layout": "IPY_MODEL_9739a63ebad442d7ac04bfe0125b327c"
      }
     },
     "ead1c83030304448a157e1dcfddb2d76": {
      "model_module": "@jupyter-widgets/controls",
      "model_module_version": "2.0.0",
      "model_name": "LinkModel",
      "state": {
       "source": [
        "IPY_MODEL_70bc7b2423a649c6b4f02d93bea11f95",
        "value"
       ],
       "target": [
        "IPY_MODEL_649b0021558d4faca19417ba0a7de02a",
        "visible"
       ]
      }
     },
     "ead8c312d1bd4ef287a9269f41870b49": {
      "model_module": "@jupyter-widgets/base",
      "model_module_version": "2.0.0",
      "model_name": "LayoutModel",
      "state": {
       "height": "auto",
       "padding": "0px 0px 0px 4px",
       "width": "auto"
      }
     },
     "eb4e6209e9d9446fb6b470a4498aa494": {
      "model_module": "@jupyter-widgets/controls",
      "model_module_version": "2.0.0",
      "model_name": "CheckboxStyleModel",
      "state": {
       "description_width": ""
      }
     },
     "eed555c5c4914d8aaf3e2a7823a0d7f8": {
      "model_module": "@jupyter-widgets/base",
      "model_module_version": "2.0.0",
      "model_name": "LayoutModel",
      "state": {}
     },
     "ef0e7837716d4a42a8a7d156b5c2758b": {
      "model_module": "ipytree",
      "model_module_version": "^0.2",
      "model_name": "NodeModel",
      "state": {
       "_id": "01b28e92-d604-4b31-a388-e051cbc99c8e",
       "_model_module_version": "^0.2",
       "_view_module_version": "^0.2",
       "icon": "file",
       "name": "2: 341985"
      }
     },
     "ef1e3d2529c24f0ebf69b92234f3b5b3": {
      "model_module": "ipytree",
      "model_module_version": "^0.2",
      "model_name": "NodeModel",
      "state": {
       "_id": "3919dcd4-ef3a-4230-a162-44b7528d867a",
       "_model_module_version": "^0.2",
       "_view_module_version": "^0.2",
       "name": "NDSI masked: Image  (1 bands)",
       "nodes": [
        "IPY_MODEL_4db88b1ffb4e4c6c8ff8cf5134a0dcf2",
        "IPY_MODEL_7b3df3b476664d30a53b7cfcb628e690",
        "IPY_MODEL_b886030f02724dd295a7043cd618fdea"
       ],
       "opened": false
      }
     },
     "efbb253ce3704cfe9cda0d6687fdea86": {
      "model_module": "@jupyter-widgets/base",
      "model_module_version": "2.0.0",
      "model_name": "LayoutModel",
      "state": {}
     },
     "f0046914bfd847d6b95b15056c559471": {
      "model_module": "@jupyter-widgets/controls",
      "model_module_version": "2.0.0",
      "model_name": "ToggleButtonStyleModel",
      "state": {
       "description_width": "",
       "font_family": null,
       "font_size": null,
       "font_style": null,
       "font_variant": null,
       "font_weight": null,
       "text_color": null,
       "text_decoration": null
      }
     },
     "f082822627ff45dd8246fe52c036e730": {
      "model_module": "@jupyter-widgets/base",
      "model_module_version": "2.0.0",
      "model_name": "LayoutModel",
      "state": {
       "max_width": "279px",
       "min_width": "279px"
      }
     },
     "f09dc185b4fa451b9c54aeb90ede8e9a": {
      "model_module": "@jupyter-widgets/controls",
      "model_module_version": "2.0.0",
      "model_name": "CheckboxModel",
      "state": {
       "description": "NDSI masked",
       "disabled": false,
       "indent": false,
       "layout": "IPY_MODEL_9d97757793dd4cf99dbf332b1f61fe12",
       "style": "IPY_MODEL_b017db2d728c4ae2bee895675ec82211",
       "value": true
      }
     },
     "f1a268f3a9b445329dad373e9da11c8d": {
      "model_module": "@jupyter-widgets/base",
      "model_module_version": "2.0.0",
      "model_name": "LayoutModel",
      "state": {
       "padding": "0px 8px 0px 8px"
      }
     },
     "f1baa2a06cfa49538dcaa7e67b402454": {
      "model_module": "@jupyter-widgets/base",
      "model_module_version": "2.0.0",
      "model_name": "LayoutModel",
      "state": {
       "width": "80px"
      }
     },
     "f1f30ac39c6d4db997dcebdfe9199e01": {
      "model_module": "@jupyter-widgets/controls",
      "model_module_version": "2.0.0",
      "model_name": "CheckboxStyleModel",
      "state": {
       "description_width": ""
      }
     },
     "f297227ccdb34370ae375b4c1764459e": {
      "model_module": "@jupyter-widgets/base",
      "model_module_version": "2.0.0",
      "model_name": "LayoutModel",
      "state": {
       "height": "25px",
       "padding": "0px 0px 0px 5px",
       "width": "25px"
      }
     },
     "f33ff463629e402d876c5cb55220c19b": {
      "model_module": "@jupyter-widgets/controls",
      "model_module_version": "2.0.0",
      "model_name": "ToggleButtonsStyleModel",
      "state": {
       "button_width": "110px",
       "description_width": ""
      }
     },
     "f3ac6b564fdf44df98ec423368d94265": {
      "model_module": "@jupyter-widgets/controls",
      "model_module_version": "2.0.0",
      "model_name": "CheckboxStyleModel",
      "state": {
       "description_width": ""
      }
     },
     "f3bc5560a4b04611ab1bfa1fa2440550": {
      "model_module": "@jupyter-widgets/controls",
      "model_module_version": "2.0.0",
      "model_name": "DirectionalLinkModel",
      "state": {
       "source": [
        "IPY_MODEL_db0abab27bb94c68b5ad6957d35fc5a3",
        "value"
       ],
       "target": [
        "IPY_MODEL_b3bb39c7f2ca44869616a3f58b7d688b",
        "opacity"
       ]
      }
     },
     "f4969bcf577e4a2a91442c433d41715c": {
      "model_module": "ipytree",
      "model_module_version": "^0.2",
      "model_name": "NodeModel",
      "state": {
       "_id": "331f22c6-63dc-4213-af97-902e8a4e271b",
       "_model_module_version": "^0.2",
       "_view_module_version": "^0.2",
       "icon": "file",
       "name": "nd: 0.77"
      }
     },
     "f4f45684c13f47c9a49e75e33d6233b1": {
      "model_module": "@jupyter-widgets/base",
      "model_module_version": "2.0.0",
      "model_name": "LayoutModel",
      "state": {
       "height": "28px",
       "padding": "0px 0px 0px 4px",
       "width": "28px"
      }
     },
     "f53db3d9a04141e2b247d0a357c7295b": {
      "model_module": "@jupyter-widgets/controls",
      "model_module_version": "2.0.0",
      "model_name": "SliderStyleModel",
      "state": {
       "description_width": ""
      }
     },
     "f5c27bcb5730407ea1104edb86e0ebf8": {
      "model_module": "@jupyter-widgets/base",
      "model_module_version": "2.0.0",
      "model_name": "LayoutModel",
      "state": {
       "width": "80px"
      }
     },
     "f626842606254af2843a8bb5d913f2c0": {
      "model_module": "@jupyter-widgets/base",
      "model_module_version": "2.0.0",
      "model_name": "LayoutModel",
      "state": {
       "height": "18px",
       "width": "140px"
      }
     },
     "f67dbb2519b44a9a88ae2d17d220fbd8": {
      "model_module": "@jupyter-widgets/controls",
      "model_module_version": "2.0.0",
      "model_name": "HBoxModel",
      "state": {
       "children": [
        "IPY_MODEL_1bee7c0208464e03b44cf74aa2c176c0",
        "IPY_MODEL_b817d241e5bc459aa38d064cbbc72550",
        "IPY_MODEL_a6f47cf935404116b0c4b8514f5ac9a1"
       ],
       "layout": "IPY_MODEL_b3bf87db22c3471cb7e3f74dcd22f86e"
      }
     },
     "f70ed94e6df445e29c8ae558cdc34672": {
      "model_module": "ipytree",
      "model_module_version": "^0.2",
      "model_name": "NodeModel",
      "state": {
       "_id": "482eaa83-19ab-459b-abc2-78ff7eb5bad5",
       "_model_module_version": "^0.2",
       "_view_module_version": "^0.2",
       "icon": "file",
       "name": "4: -30"
      }
     },
     "f7118857459f4822ae6cf9c155e500f3": {
      "model_module": "ipytree",
      "model_module_version": "^0.2",
      "model_name": "NodeModel",
      "state": {
       "_id": "0f2eba22-9487-4fc6-abd7-8ecefb60529c",
       "_model_module_version": "^0.2",
       "_view_module_version": "^0.2",
       "name": "dimensions",
       "nodes": [
        "IPY_MODEL_2cb92282e2cf41308ba01d09458e5c3a",
        "IPY_MODEL_fe18aa825cdc4bb2b9c7a50ca049eeb4"
       ],
       "opened": false
      }
     },
     "f8f2f945f0a44e6bad90fd3d7c371d50": {
      "model_module": "@jupyter-widgets/controls",
      "model_module_version": "2.0.0",
      "model_name": "CheckboxModel",
      "state": {
       "description": "NDSI masked",
       "disabled": false,
       "indent": false,
       "layout": "IPY_MODEL_47351e59808d47ef96a2a7d99ca7868b",
       "style": "IPY_MODEL_9a5eaf714e5f4526a2935a8707741589",
       "value": true
      }
     },
     "f9bba7e95fed4389a23b2b121c729964": {
      "model_module": "@jupyter-widgets/controls",
      "model_module_version": "2.0.0",
      "model_name": "CheckboxStyleModel",
      "state": {
       "description_width": ""
      }
     },
     "f9d085d562504aacbafea5bea8d257b8": {
      "model_module": "@jupyter-widgets/base",
      "model_module_version": "2.0.0",
      "model_name": "LayoutModel",
      "state": {}
     },
     "faa4efd75bce49ab9ea43b2b2a2074bd": {
      "model_module": "ipytree",
      "model_module_version": "^0.2",
      "model_name": "NodeModel",
      "state": {
       "_id": "c4b23c1d-9063-4a77-8995-a4be4f67c57d",
       "_model_module_version": "^0.2",
       "_view_module_version": "^0.2",
       "name": "bands: List (1 elements)",
       "nodes": [
        "IPY_MODEL_28b16e835f744cae9e226945168ed409"
       ],
       "opened": false
      }
     },
     "fc1c201b9bb04b37b42a20ad1c6cf965": {
      "model_module": "@jupyter-widgets/base",
      "model_module_version": "2.0.0",
      "model_name": "LayoutModel",
      "state": {
       "height": "25px",
       "padding": "0px 0px 0px 5px",
       "width": "25px"
      }
     },
     "fc659cbe21de484a9e083a8557c04028": {
      "model_module": "@jupyter-widgets/base",
      "model_module_version": "2.0.0",
      "model_name": "LayoutModel",
      "state": {
       "height": "28px",
       "padding": "0px 0px 0px 4px",
       "width": "28px"
      }
     },
     "fdc20d38f9274b259472b3b4eb0ab03c": {
      "model_module": "@jupyter-widgets/base",
      "model_module_version": "2.0.0",
      "model_name": "LayoutModel",
      "state": {
       "height": "28px",
       "padding": "0px 0px 0px 4px",
       "width": "28px"
      }
     },
     "fe18aa825cdc4bb2b9c7a50ca049eeb4": {
      "model_module": "ipytree",
      "model_module_version": "^0.2",
      "model_name": "NodeModel",
      "state": {
       "_id": "b2df769e-eca9-477e-b734-e078659fc20d",
       "_model_module_version": "^0.2",
       "_view_module_version": "^0.2",
       "icon": "file",
       "name": "1: 7901"
      }
     },
     "fe2499c1972a468e9cc764e6fa1e1355": {
      "model_module": "@jupyter-widgets/controls",
      "model_module_version": "2.0.0",
      "model_name": "CheckboxModel",
      "state": {
       "description": "NDBSI masked",
       "disabled": false,
       "indent": false,
       "layout": "IPY_MODEL_f626842606254af2843a8bb5d913f2c0",
       "style": "IPY_MODEL_c90c34b473cf461893afbe7130f19fdd",
       "value": false
      }
     },
     "fe4879e096e443c7b547f03fbc4f1688": {
      "model_module": "@jupyter-widgets/base",
      "model_module_version": "2.0.0",
      "model_name": "LayoutModel",
      "state": {
       "height": "auto",
       "padding": "0px 0px 0px 4px",
       "width": "auto"
      }
     },
     "fecfdcd8edba4ab694b4a7dde1867519": {
      "model_module": "@jupyter-widgets/controls",
      "model_module_version": "2.0.0",
      "model_name": "VBoxModel",
      "state": {
       "children": [
        "IPY_MODEL_c6a85c3ce22d43a5b5074e2025be4734"
       ],
       "layout": "IPY_MODEL_eed555c5c4914d8aaf3e2a7823a0d7f8"
      }
     },
     "ff24f4b1ed1449c988b30dbf4106aa73": {
      "model_module": "@jupyter-widgets/base",
      "model_module_version": "2.0.0",
      "model_name": "LayoutModel",
      "state": {
       "padding": "0px 8px 0px 8px"
      }
     },
     "ff3e358d59be40ef92c2501ccc2dae6f": {
      "model_module": "@jupyter-widgets/controls",
      "model_module_version": "2.0.0",
      "model_name": "ToggleButtonModel",
      "state": {
       "icon": "gear",
       "layout": "IPY_MODEL_72117f8d0e8048a78d52b331c5001d46",
       "style": "IPY_MODEL_8a131609032e4ba782f34297ed2749fd",
       "tooltip": "Landsat8 Image"
      }
     },
     "fffd2019d3214a3598b23f742a78794f": {
      "model_module": "ipytree",
      "model_module_version": "^0.2",
      "model_name": "NodeModel",
      "state": {
       "_id": "79392c2c-f284-4c8c-aa6e-930ff799ddfb",
       "_model_module_version": "^0.2",
       "_view_module_version": "^0.2",
       "name": "0: \"nd\", float, EPSG:32612, 7791x7901 px",
       "nodes": [
        "IPY_MODEL_5de51374c71943d0a0ec9d7c1add6523",
        "IPY_MODEL_69ac08d5d443458a93797e86d4347024",
        "IPY_MODEL_f7118857459f4822ae6cf9c155e500f3",
        "IPY_MODEL_a0470071444f4a899be848939a29412b",
        "IPY_MODEL_8c824e097c9f4536ab18e5178d169b14"
       ],
       "opened": false
      }
     }
    },
    "version_major": 2,
    "version_minor": 0
   }
  }
 },
 "nbformat": 4,
 "nbformat_minor": 4
}
