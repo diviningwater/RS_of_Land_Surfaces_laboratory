{
 "cells": [
  {
   "cell_type": "raw",
   "metadata": {},
   "source": [
    "YOUR NAME HERE:"
   ]
  },
  {
   "cell_type": "markdown",
   "metadata": {},
   "source": [
    "# Lab 2: Characteristics of remotely sensed data"
   ]
  },
  {
   "cell_type": "code",
   "execution_count": 1,
   "metadata": {},
   "outputs": [
    {
     "name": "stdout",
     "output_type": "stream",
     "text": [
      "Updated by Alfonso Torres-Rua,  January 14, 2022\n"
     ]
    }
   ],
   "source": [
    "from datetime import date\n",
    "today = date.today()\n",
    "d2 = today.strftime(\"%B %d, %Y\")\n",
    "print(\"Updated by Alfonso Torres-Rua, \", d2)"
   ]
  },
  {
   "cell_type": "markdown",
   "metadata": {},
   "source": [
    "## **Purpose:**\n",
    "The purpose of this lab is to demonstrate concepts of spatial, spectral, temporal and radiometric resolution.  You will be introduced to image data from several sensors aboard various platforms.  At the completion of the lab, you will be able to understand the difference between remotely sensed datasets based on sensor characteristics and how to choose an appropriate remotely sensed dataset based on these concepts.  \n",
    "\n",
    "**Prerequisites:** Lab 1"
   ]
  },
  {
   "cell_type": "markdown",
   "metadata": {},
   "source": [
    "## 1. Temporal Resolution\n",
    "\n",
    "Every satellite is different from each other, spectrally, radiometrically, and temporally. This is due to multiple reasons such as access to technology, monetary resources, application targets, mission duration, and others. See these videos for two satellites:"
   ]
  },
  {
   "cell_type": "markdown",
   "metadata": {},
   "source": [
    "- Landsat orbit:\n",
    "https://svs.gsfc.nasa.gov//vis/a010000/a011400/a011481/G2014-016_LDCM_orbit_MASTER_ipod_lg.m4v"
   ]
  },
  {
   "cell_type": "markdown",
   "metadata": {},
   "source": [
    "- MODIS orbit: https://svs.gsfc.nasa.gov//vis/a000000/a003300/a003348/aquacomp720.mp4"
   ]
  },
  {
   "cell_type": "markdown",
   "metadata": {},
   "source": [
    "## 2. Spatial resolution\n",
    "\n",
    "In the present context, spatial resolution means pixel size.  In practice, spatial resolution depends on the projection of the sensor's instantaneous field of view (IFOV) on the ground and how a set of radiometric measurements are resampled into a regular grid.  To see the difference in spatial resolution resulting from different sensors, visualize data at different scales from different sensors."
   ]
  },
  {
   "cell_type": "code",
   "execution_count": 1,
   "metadata": {},
   "outputs": [
    {
     "data": {
      "application/vnd.jupyter.widget-view+json": {
       "model_id": "78278a1130174a968ac566ca9d726fae",
       "version_major": 2,
       "version_minor": 0
      },
      "text/plain": [
       "Map(center=[20, 0], controls=(WidgetControl(options=['position', 'transparent_bg'], widget=HBox(children=(Togg…"
      ]
     },
     "metadata": {},
     "output_type": "display_data"
    }
   ],
   "source": [
    "import ee\n",
    "ee.Initialize()\n",
    "\n",
    "import geemap\n",
    "\n",
    "Map = geemap.Map() \n",
    "Map"
   ]
  },
  {
   "cell_type": "markdown",
   "metadata": {},
   "source": [
    "### - MODIS.  \n",
    "There are two Moderate Resolution Imaging Spectro-Radiometers ([MODIS](http://modis.gsfc.nasa.gov/)) aboard the [Terra](http://terra.nasa.gov/) and [Aqua](http://aqua.nasa.gov/) satellites.  Different MODIS [bands](http://modis.gsfc.nasa.gov/about/specifications.php) produce data at different spatial resolutions.  For the visible bands, the lowest common resolution is 500 meters (red and NIR are 250 meters).  "
   ]
  },
  {
   "cell_type": "markdown",
   "metadata": {},
   "source": [
    "Search for 'MYD09GA' in the [Google EarthEngine datasets](https://developers.google.com/earth-engine/datasets/catalog/) and retrieve (copy) the path to 'MYD09GA.006 Aqua Surface Reflectance Daily Global 1km and 500m'.  Name the import myd09. ([Complete list of MODIS land products](https://lpdaac.usgs.gov/dataset_discovery/modis/modis_products_table).  Note that Terra MODIS datasets start with 'MOD' and MODIS Aqua datasets start with 'MYD')."
   ]
  },
  {
   "cell_type": "code",
   "execution_count": 2,
   "metadata": {},
   "outputs": [],
   "source": [
    "myd09 = ee.ImageCollection(\"MODIS/006/MYD09GA\")\n",
    "\n",
    "\n",
    "latitude =37.77862975352838\n",
    "longitude = -122.22365888039644\n",
    "sfoPoint = ee.Geometry.Point([longitude, latitude]);\n",
    "\n"
   ]
  },
  {
   "cell_type": "markdown",
   "metadata": {},
   "source": [
    "To display a false-color MODIS image, select an image acquired by the Aqua MODIS sensor and display it for SFO:"
   ]
  },
  {
   "cell_type": "code",
   "execution_count": 3,
   "metadata": {},
   "outputs": [
    {
     "name": "stdout",
     "output_type": "stream",
     "text": [
      "['num_observations_1km', 'state_1km', 'SensorZenith', 'SensorAzimuth', 'Range', 'SolarZenith', 'SolarAzimuth', 'gflags', 'orbit_pnt', 'granule_pnt', 'num_observations_500m', 'sur_refl_b01', 'sur_refl_b02', 'sur_refl_b03', 'sur_refl_b04', 'sur_refl_b05', 'sur_refl_b06', 'sur_refl_b07', 'QC_500m', 'obscov_500m', 'iobs_res', 'q_scan']\n"
     ]
    }
   ],
   "source": [
    "# Get a surface reflectance image from the MODIS MYD09GA collection.\n",
    "modisImage = ee.Image(myd09.filterDate('2020-07-06').first());\n",
    "\n",
    "modisImage = modisImage.multiply(0.0001)\n",
    "# Print the image band names to the console.\n",
    "band_names = modisImage.bandNames()\n",
    "print(band_names.getInfo())"
   ]
  },
  {
   "cell_type": "markdown",
   "metadata": {},
   "source": [
    "These names are described also here: [modis bands](https://modis.gsfc.nasa.gov/about/specifications.php)"
   ]
  },
  {
   "cell_type": "code",
   "execution_count": 6,
   "metadata": {},
   "outputs": [
    {
     "data": {
      "application/vnd.jupyter.widget-view+json": {
       "model_id": "78278a1130174a968ac566ca9d726fae",
       "version_major": 2,
       "version_minor": 0
      },
      "text/plain": [
       "Map(bottom=13002.0, center=[37.45741810262938, -121.31652832031251], controls=(WidgetControl(options=['positio…"
      ]
     },
     "metadata": {},
     "output_type": "display_data"
    }
   ],
   "source": [
    "# Use these MODIS bands for red, green, blue, respectively.\n",
    "modisBands = ['sur_refl_b01', 'sur_refl_b04', 'sur_refl_b03'];\n",
    "\n",
    "#// Add the image to the map.\n",
    "# url = modisImage.getThumbURL({'dimensions': 700,'bands':modisBands,'min': 0, 'max': 3000,'region':area_to_display})\n",
    "# # print(url)\n",
    "# Image(url=url)\n",
    "\n",
    "# add layer\n",
    "Map.addLayer(modisImage, {'bands':modisBands,'min': 0, 'max':0.3}, name='MODIS Image')\n",
    "Map"
   ]
  },
  {
   "cell_type": "markdown",
   "metadata": {},
   "source": [
    "Note the size of pixels with respect to objects on the ground.  Print the size of the pixels (in meters) with:\n"
   ]
  },
  {
   "cell_type": "code",
   "execution_count": 7,
   "metadata": {},
   "outputs": [
    {
     "name": "stdout",
     "output_type": "stream",
     "text": [
      "MODIS scale: 463.31271652770823\n"
     ]
    }
   ],
   "source": [
    "# Get the scale of the data from the first band's projection:\n",
    "modisScale = modisImage.select('sur_refl_b01').projection().nominalScale();\n",
    "\n",
    "print('MODIS scale:', modisScale.getInfo());\n"
   ]
  },
  {
   "cell_type": "code",
   "execution_count": 7,
   "metadata": {},
   "outputs": [],
   "source": [
    "# add layer SensorZenith\n",
    "# Map.addLayer(modisImage, {'bands':'SensorZenith','min': 0, 'max': 0.3}, name='MODIS SensorZenith')"
   ]
  },
  {
   "cell_type": "markdown",
   "metadata": {},
   "source": [
    "It's also worth noting that these MYD09 data are surface reflectance scaled by 10000 (not TOA reflectance), meaning that clever NASA scientists have done a fancy atmospheric correction for you!\n"
   ]
  },
  {
   "cell_type": "markdown",
   "metadata": {},
   "source": [
    "## - Landsat MSS.  \n",
    "\n",
    "Multi-spectral scanners (MSS) were flown aboard Landsats 1-5.  MSS data have a spatial resolution of 60 meters.\n",
    "Search for 'landsat 5 mss' and import the result called 'USGS Landsat 5 MSS Collection 1 Tier 2 Raw Scenes'.  Name the import mss.\n",
    "\n",
    "To visualize MSS data over SFO, for a relatively less cloudy image, use:\n"
   ]
  },
  {
   "cell_type": "code",
   "execution_count": 8,
   "metadata": {},
   "outputs": [
    {
     "name": "stdout",
     "output_type": "stream",
     "text": [
      "['B1', 'B2', 'B3', 'B4', 'BQA']\n"
     ]
    }
   ],
   "source": [
    "# Filter MSS imagery by location, date and cloudiness.\n",
    "mss= ee.ImageCollection(\"LANDSAT/LM05/C01/T2\")\n",
    "\n",
    "mssImage = ee.Image(mss\n",
    "    .filterBounds(sfoPoint)\n",
    "    .sort('CLOUD_COVER')\n",
    "#Get the least cloudy image.\n",
    "    .first());\n",
    "\n",
    "# Print the image band names to the console.\n",
    "band_names = mssImage.bandNames()\n",
    "print(band_names.getInfo())\n",
    "# Display the MSS image as a color-IR composite.\n"
   ]
  },
  {
   "cell_type": "code",
   "execution_count": 9,
   "metadata": {},
   "outputs": [
    {
     "data": {
      "application/vnd.jupyter.widget-view+json": {
       "model_id": "78278a1130174a968ac566ca9d726fae",
       "version_major": 2,
       "version_minor": 0
      },
      "text/plain": [
       "Map(bottom=26335.000045776367, center=[34.655803698214655, 6.693136050115936], controls=(WidgetControl(options…"
      ]
     },
     "metadata": {},
     "output_type": "display_data"
    }
   ],
   "source": [
    "# Use these MODIS bands for red, green, blue, respectively.\n",
    "mssBands = ['B4', 'B2', 'B1'];\n",
    "\n",
    "Map.addLayer(mssImage, {'bands':mssBands,'min': 0, 'max': 200}, name='LandsatMSS Image')\n",
    "Map\n",
    "# bounds = sfoPoint.buffer(70000)\n",
    "# Map.centerObject(bounds)"
   ]
  },
  {
   "cell_type": "markdown",
   "metadata": {},
   "source": [
    "Check the scale (in meters) as previously:"
   ]
  },
  {
   "cell_type": "code",
   "execution_count": 10,
   "metadata": {},
   "outputs": [
    {
     "name": "stdout",
     "output_type": "stream",
     "text": [
      "MSS scale: 60\n"
     ]
    }
   ],
   "source": [
    "# Get the scale of the MSS data from its projection:\n",
    "mssScale = mssImage.select('B1').projection().nominalScale();\n",
    "\n",
    "print('MSS scale:', mssScale.getInfo());\n"
   ]
  },
  {
   "cell_type": "markdown",
   "metadata": {},
   "source": [
    "## -TM.  \n",
    "\n",
    "The Thematic Mapper ([TM](http://landsat.gsfc.nasa.gov/?p=3229)) was flown aboard Landsats 4-5.  (It was succeeded by the Enhanced Thematic Mapper ([ETM+](http://landsat.gsfc.nasa.gov/?p=3225)) aboard Landsat 7 and the Operational Land Imager ([OLI](http://landsat.gsfc.nasa.gov/?p=5447)) / Thermal Infrared Sensor ([TIRS](http://landsat.gsfc.nasa.gov/?p=5474)) sensors aboard Landsat 8.)  TM data have a spatial resolution of 30 meters.\n",
    "\n",
    "1. Search for 'landsat 5 toa' and import the first result (which should be 'USGS Landsat 5 TM Collection 1 Tier 1 TOA Reflectance'.  Name the import tm.\n",
    "\n",
    "2. Visualize MSS data over SFO, for approximately the same area as the MSS image, use  image.geometry():\n"
   ]
  },
  {
   "cell_type": "code",
   "execution_count": 11,
   "metadata": {},
   "outputs": [
    {
     "name": "stdout",
     "output_type": "stream",
     "text": [
      "['B1', 'B2', 'B3', 'B4', 'B5', 'B6', 'B7', 'BQA']\n"
     ]
    }
   ],
   "source": [
    "tm= ee.ImageCollection(\"LANDSAT/LT05/C01/T1_TOA\")\n",
    "\n",
    "# // Filter TM imagery by location, date and cloudiness.\n",
    "tmImage = ee.Image(tm\n",
    "    .filterBounds(sfoPoint) # I could have used sfopoint too. every image has a boundary geometry\n",
    "    .filterDate('2011-05-01', '2011-10-01')\n",
    "    .sort('CLOUD_COVER') # not all satellites have this property, check the properties table\n",
    "    .first());\n",
    "\n",
    "# Print the image band names to the console.\n",
    "band_names = tmImage.bandNames()\n",
    "print(band_names.getInfo())"
   ]
  },
  {
   "cell_type": "code",
   "execution_count": 12,
   "metadata": {},
   "outputs": [
    {
     "data": {
      "application/vnd.jupyter.widget-view+json": {
       "model_id": "78278a1130174a968ac566ca9d726fae",
       "version_major": 2,
       "version_minor": 0
      },
      "text/plain": [
       "Map(bottom=203062.0, center=[37.71315858834301, -121.28597259521486], controls=(WidgetControl(options=['positi…"
      ]
     },
     "metadata": {},
     "output_type": "display_data"
    }
   ],
   "source": [
    "# // Display the TM image as a color-IR composite.\n",
    "tmBands=  ['B4', 'B3', 'B2']\n",
    "\n",
    "Map.addLayer(tmImage, {'bands':tmBands,'min': 0, 'max': 0.4}, name='Landsat TM Image')\n",
    "Map\n",
    "# bounds = sfoPoint.buffer(70000)\n",
    "# Map.centerObject(bounds)"
   ]
  },
  {
   "cell_type": "markdown",
   "metadata": {},
   "source": [
    "Check the scale (in meters) as previously:"
   ]
  },
  {
   "cell_type": "code",
   "execution_count": 13,
   "metadata": {},
   "outputs": [
    {
     "name": "stdout",
     "output_type": "stream",
     "text": [
      "TM scale: 30\n"
     ]
    }
   ],
   "source": [
    "# // Get the scale of the TM data from its projection:\n",
    "tmScale = tmImage.select('B1').projection().nominalScale();\n",
    "print('TM scale:', tmScale.getInfo());\n"
   ]
  },
  {
   "cell_type": "code",
   "execution_count": 14,
   "metadata": {},
   "outputs": [],
   "source": [
    "## - Sentinel 2 "
   ]
  },
  {
   "cell_type": "markdown",
   "metadata": {},
   "source": [
    "## -NAIP.  \n",
    "The National Agriculture Imagery Program ([NAIP](http://www.fsa.usda.gov/programs-and-services/aerial-photography/imagery-programs/naip-imagery/)) is an effort to acquire imagery over the continental US on a 3-year rotation using airborne sensors.  The imagery have a spatial resolution of 1-2 meters.  \n",
    "\n",
    "1. Search for 'naip' and import the first result (which should be 'NAIP: National Agriculture Imagery Program'.  Name the import naip.\n",
    "\n",
    "2. Since NAIP imagery is distributed as quarters of Digital Ortho Quads (DOQs) at irregular cadence, load everything from the most recent year in the acquisition cycle (2012) over the study area and mosaic() it:\n"
   ]
  },
  {
   "cell_type": "code",
   "execution_count": 14,
   "metadata": {},
   "outputs": [
    {
     "name": "stdout",
     "output_type": "stream",
     "text": [
      "['R', 'G', 'B', 'N']\n"
     ]
    }
   ],
   "source": [
    "naip = ee.ImageCollection(\"USDA/NAIP/DOQQ\")\n",
    "\n",
    "# // Get NAIP images for the study period and region of interest.\n",
    "naipImages = naip.filterDate('2012-01-01', '2012-12-31').filterBounds(sfoPoint);\n",
    "\n",
    "# // Mosaic adjacent images into a single image.\n",
    "naipImage = naipImages.mosaic();\n",
    "\n",
    "# Print the image band names to the console.\n",
    "band_names = naipImage.bandNames()\n",
    "print(band_names.getInfo())\n"
   ]
  },
  {
   "cell_type": "code",
   "execution_count": 15,
   "metadata": {},
   "outputs": [
    {
     "data": {
      "application/vnd.jupyter.widget-view+json": {
       "model_id": "78278a1130174a968ac566ca9d726fae",
       "version_major": 2,
       "version_minor": 0
      },
      "text/plain": [
       "Map(bottom=101700.0, center=[37.69265019143796, -122.06163588918156], controls=(WidgetControl(options=['positi…"
      ]
     },
     "metadata": {},
     "output_type": "display_data"
    }
   ],
   "source": [
    "# // Display the NAIP mosaic as a color-IR composite.\n",
    "nBands=  ['N', 'R', 'G']\n",
    "\n",
    "Map.addLayer(naipImage, {'bands':nBands,'min': 0, 'max': 255}, name='NAIP Image')\n",
    "Map\n",
    "# bounds = sfoPoint.buffer(70000)\n",
    "# Map.centerObject(bounds)"
   ]
  },
  {
   "cell_type": "code",
   "execution_count": 17,
   "metadata": {},
   "outputs": [
    {
     "name": "stdout",
     "output_type": "stream",
     "text": [
      "NAIP scale: 1\n"
     ]
    }
   ],
   "source": [
    "# // Get the NAIP resolution from the first image in the mosaic.\n",
    "naipScale = ee.Image(naipImages.first()).projection().nominalScale();\n",
    "print('NAIP scale:', naipScale.getInfo());\n"
   ]
  },
  {
   "cell_type": "markdown",
   "metadata": {},
   "source": [
    "## Assignment\n",
    "1. What are the necessary changes to this notebook, to perform the same steps for Cache Valley? Produce a notebook.\n",
    "\n",
    "2. There are more satellites and data sources available to you. To your Logan notebook add the following satellites completing the same steps we did for each of the imagery sources in this notebook.\n",
    "\n",
    "The imagery sources to add are:\n",
    "\n",
    "ASTER: ee.ImageCollection(\"ASTER/AST_L1T_003\"), hint: request 2019 april to october season\n",
    "https://developers.google.com/earth-engine/datasets/catalog/ASTER_AST_L1T_003\n",
    "\n",
    "Sentinel-2: ee.ImageCollection('COPERNICUS/S2')\n",
    "https://developers.google.com/earth-engine/datasets/catalog/COPERNICUS_S2\n",
    "\n",
    "Sentinel-3: ee.ImageCollection(\"COPERNICUS/S3/OLCI\") hint: this satellite behaves like MODIS\n",
    "https://developers.google.com/earth-engine/datasets/catalog/COPERNICUS_S3_OLCI\n",
    "\n",
    "PROBA-V: ee.ImageCollection(\"VITO/PROBAV/C1/S1_TOC_100M\") hint: request 2019 gorwing season\n",
    "https://developers.google.com/earth-engine/datasets/catalog/VITO_PROBAV_C1_S1_TOC_100M\n",
    "\n",
    "VIIRS: ee.ImageCollection(\"NOAA/VIIRS/001/VNP09GA\") hint: this satellite behaves like MODIS\n",
    "https://developers.google.com/earth-engine/datasets/catalog/NOAA_VIIRS_001_VNP09GA\n",
    "\n",
    "BONUS: HYPERSPECTRAL SENSOR\n",
    "EO-1 Hyperion Hyperspectral Imager: ee.ImageCollection(\"EO1/HYPERION\") \n",
    "hint: this satellite has 220 bands, choose between 2001 and 2017 to get an image for Cache Valley\n",
    "https://developers.google.com/earth-engine/datasets/catalog/EO1_HYPERION\n",
    "\n",
    "\n",
    "Happy coding!"
   ]
  },
  {
   "cell_type": "code",
   "execution_count": null,
   "metadata": {},
   "outputs": [],
   "source": []
  }
 ],
 "metadata": {
  "kernelspec": {
   "display_name": "Python 3 (ipykernel)",
   "language": "python",
   "name": "python3"
  },
  "language_info": {
   "codemirror_mode": {
    "name": "ipython",
    "version": 3
   },
   "file_extension": ".py",
   "mimetype": "text/x-python",
   "name": "python",
   "nbconvert_exporter": "python",
   "pygments_lexer": "ipython3",
   "version": "3.9.7"
  },
  "latex_envs": {
   "LaTeX_envs_menu_present": true,
   "autoclose": false,
   "autocomplete": true,
   "bibliofile": "biblio.bib",
   "cite_by": "apalike",
   "current_citInitial": 1,
   "eqLabelWithNumbers": true,
   "eqNumInitial": 1,
   "hotkeys": {
    "equation": "Ctrl-E",
    "itemize": "Ctrl-I"
   },
   "labels_anchors": false,
   "latex_user_defs": false,
   "report_style_numbering": false,
   "user_envs_cfg": false
  }
 },
 "nbformat": 4,
 "nbformat_minor": 4
}
