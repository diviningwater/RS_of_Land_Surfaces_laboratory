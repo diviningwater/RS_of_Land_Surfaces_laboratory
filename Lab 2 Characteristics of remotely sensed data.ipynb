{
 "cells": [
  {
   "cell_type": "raw",
   "metadata": {},
   "source": [
    "YOUR NAME HERE:"
   ]
  },
  {
   "cell_type": "markdown",
   "metadata": {},
   "source": [
    "# Lab 2: Characteristics of remotely sensed data"
   ]
  },
  {
   "cell_type": "code",
   "execution_count": 17,
   "metadata": {},
   "outputs": [
    {
     "name": "stdout",
     "output_type": "stream",
     "text": [
      "Updated by Alfonso Torres-Rua,  February 20, 2024\n"
     ]
    }
   ],
   "source": [
    "from datetime import date\n",
    "today = date.today()\n",
    "d2 = today.strftime(\"%B %d, %Y\")\n",
    "print(\"Updated by Alfonso Torres-Rua, \", d2)"
   ]
  },
  {
   "cell_type": "markdown",
   "metadata": {},
   "source": [
    "## **Purpose:**\n",
    "The purpose of this lab is to demonstrate concepts of spatial, spectral, temporal and radiometric resolution.  You will be introduced to image data from several sensors aboard various platforms.  At the completion of the lab, you will be able to understand the difference between remotely sensed datasets based on sensor characteristics and how to choose an appropriate remotely sensed dataset based on these concepts.  \n",
    "\n",
    "**Prerequisites:** Lab 1"
   ]
  },
  {
   "cell_type": "markdown",
   "metadata": {},
   "source": [
    "## 1. Temporal Resolution\n",
    "\n",
    "Every satellite is different from each other, spectrally, radiometrically, and temporally. This is due to multiple reasons such as access to technology, monetary resources, application targets, mission duration, and others. See these videos for two satellites:"
   ]
  },
  {
   "cell_type": "markdown",
   "metadata": {},
   "source": [
    "- Landsat orbit:\n",
    "https://svs.gsfc.nasa.gov//vis/a010000/a011400/a011481/G2014-016_LDCM_orbit_MASTER_ipod_lg.m4v"
   ]
  },
  {
   "cell_type": "markdown",
   "metadata": {},
   "source": [
    "- MODIS orbit: https://svs.gsfc.nasa.gov//vis/a000000/a003300/a003348/aquacomp720.mp4"
   ]
  },
  {
   "cell_type": "markdown",
   "metadata": {},
   "source": [
    "## 2. Spatial resolution\n",
    "\n",
    "In the present context, spatial resolution means pixel size.  In practice, spatial resolution depends on the projection of the sensor's instantaneous field of view (IFOV) on the ground and how a set of radiometric measurements are resampled into a regular grid.  To see the difference in spatial resolution resulting from different sensors, visualize data at different scales from different sensors."
   ]
  },
  {
   "cell_type": "code",
   "execution_count": 18,
   "metadata": {},
   "outputs": [
    {
     "data": {
      "application/vnd.jupyter.widget-view+json": {
       "model_id": "de8302cdcb5d40ad9a313218ab5a24b1",
       "version_major": 2,
       "version_minor": 0
      },
      "text/plain": [
       "Map(center=[20, 0], controls=(WidgetControl(options=['position', 'transparent_bg'], widget=HBox(children=(Togg…"
      ]
     },
     "execution_count": 18,
     "metadata": {},
     "output_type": "execute_result"
    }
   ],
   "source": [
    "import ee\n",
    "ee.Initialize()\n",
    "\n",
    "import geemap\n",
    "\n",
    "Map = geemap.Map() \n",
    "Map"
   ]
  },
  {
   "cell_type": "markdown",
   "metadata": {},
   "source": [
    "### - MODIS.  \n",
    "There are two Moderate Resolution Imaging Spectro-Radiometers ([MODIS](http://modis.gsfc.nasa.gov/)) aboard the [Terra](http://terra.nasa.gov/) and [Aqua](http://aqua.nasa.gov/) satellites.  Different MODIS [bands](http://modis.gsfc.nasa.gov/about/specifications.php) produce data at different spatial resolutions.  For the visible bands, the lowest common resolution is 500 meters (red and NIR are 250 meters).  "
   ]
  },
  {
   "cell_type": "markdown",
   "metadata": {},
   "source": [
    "Search for 'MYD09GA' in the [Google EarthEngine datasets](https://developers.google.com/earth-engine/datasets/catalog/) and retrieve (copy) the path to 'MYD09GA.006 Aqua Surface Reflectance Daily Global 1km and 500m'.  Name the import myd09. ([Complete list of MODIS land products](https://lpdaac.usgs.gov/dataset_discovery/modis/modis_products_table).  Note that Terra MODIS datasets start with 'MOD' and MODIS Aqua datasets start with 'MYD')."
   ]
  },
  {
   "cell_type": "code",
   "execution_count": 19,
   "metadata": {},
   "outputs": [],
   "source": [
    "myd09 = ee.ImageCollection(\"MODIS/061/MCD43A4\")\n",
    "\n",
    "\n",
    "latitude =37.77862975352838\n",
    "longitude = -122.22365888039644\n",
    "sfoPoint = ee.Geometry.Point([longitude, latitude]);\n",
    "\n"
   ]
  },
  {
   "cell_type": "markdown",
   "metadata": {},
   "source": [
    "To display a false-color MODIS image, select an image acquired by the Aqua MODIS sensor and display it for SFO:"
   ]
  },
  {
   "cell_type": "code",
   "execution_count": 20,
   "metadata": {},
   "outputs": [
    {
     "name": "stdout",
     "output_type": "stream",
     "text": [
      "['Nadir_Reflectance_Band1', 'Nadir_Reflectance_Band2', 'Nadir_Reflectance_Band3', 'Nadir_Reflectance_Band4', 'Nadir_Reflectance_Band5', 'Nadir_Reflectance_Band6', 'Nadir_Reflectance_Band7', 'BRDF_Albedo_Band_Mandatory_Quality_Band1', 'BRDF_Albedo_Band_Mandatory_Quality_Band2', 'BRDF_Albedo_Band_Mandatory_Quality_Band3', 'BRDF_Albedo_Band_Mandatory_Quality_Band4', 'BRDF_Albedo_Band_Mandatory_Quality_Band5', 'BRDF_Albedo_Band_Mandatory_Quality_Band6', 'BRDF_Albedo_Band_Mandatory_Quality_Band7']\n"
     ]
    }
   ],
   "source": [
    "# Get a surface reflectance image from the MODIS MYD09GA collection.\n",
    "modisImage = ee.Image(myd09.filterDate('2023-08-05').first());\n",
    "\n",
    "modisImage = modisImage.multiply(0.0001)\n",
    "# Print the image band names to the console.\n",
    "band_names = modisImage.bandNames()\n",
    "print(band_names.getInfo())"
   ]
  },
  {
   "cell_type": "code",
   "execution_count": 22,
   "metadata": {},
   "outputs": [
    {
     "data": {
      "application/vnd.jupyter.widget-view+json": {
       "model_id": "de8302cdcb5d40ad9a313218ab5a24b1",
       "version_major": 2,
       "version_minor": 0
      },
      "text/plain": [
       "Map(bottom=754.0, center=[20, 0], controls=(WidgetControl(options=['position', 'transparent_bg'], widget=HBox(…"
      ]
     },
     "execution_count": 22,
     "metadata": {},
     "output_type": "execute_result"
    }
   ],
   "source": [
    "# Use these MODIS bands for red, green, blue, respectively.\n",
    "modisBands = ['Nadir_Reflectance_Band1', 'Nadir_Reflectance_Band4', 'Nadir_Reflectance_Band3'];\n",
    "\n",
    "#// Add the image to the map.\n",
    "# url = modisImage.getThumbURL({'dimensions': 700,'bands':modisBands,'min': 0, 'max': 3000,'region':area_to_display})\n",
    "# # print(url)\n",
    "# Image(url=url)\n",
    "\n",
    "# add layer\n",
    "Map.addLayer(modisImage, {'bands':modisBands,'min': 0, 'max':0.4}, name='MODIS Image')\n",
    "Map"
   ]
  },
  {
   "cell_type": "markdown",
   "metadata": {},
   "source": [
    "These names are described also here: [modis bands](https://modis.gsfc.nasa.gov/about/specifications.php)"
   ]
  },
  {
   "cell_type": "markdown",
   "metadata": {},
   "source": [
    "Note the size of pixels with respect to objects on the ground.  Print the size of the pixels (in meters) with:\n"
   ]
  },
  {
   "cell_type": "code",
   "execution_count": 23,
   "metadata": {},
   "outputs": [
    {
     "name": "stdout",
     "output_type": "stream",
     "text": [
      "MODIS scale: 463.31271652791656\n"
     ]
    }
   ],
   "source": [
    "# Get the scale of the data from the first band's projection:\n",
    "modisScale = modisImage.select('Nadir_Reflectance_Band4').projection().nominalScale();\n",
    "\n",
    "print('MODIS scale:', modisScale.getInfo());\n"
   ]
  },
  {
   "cell_type": "code",
   "execution_count": 24,
   "metadata": {},
   "outputs": [],
   "source": [
    "# add layer SensorZenith\n",
    "# Map.addLayer(modisImage, {'bands':'SensorZenith','min': 0, 'max': 0.3}, name='MODIS SensorZenith')"
   ]
  },
  {
   "cell_type": "markdown",
   "metadata": {},
   "source": [
    "It's also worth noting that these MYD09 data are surface reflectance scaled by 10000 (not TOA reflectance), meaning that clever NASA scientists have done a fancy atmospheric correction for you!\n"
   ]
  },
  {
   "cell_type": "markdown",
   "metadata": {},
   "source": [
    "## - Landsat MSS.  \n",
    "\n",
    "Multi-spectral scanners (MSS) were flown aboard Landsats 1-5.  MSS data have a spatial resolution of 60 meters.\n",
    "Search for 'landsat 5 mss' and import the result called 'USGS Landsat 5 MSS Collection 1 Tier 2 Raw Scenes'.  Name the import mss.\n",
    "\n",
    "To visualize MSS data over SFO, for a relatively less cloudy image, use:\n"
   ]
  },
  {
   "cell_type": "code",
   "execution_count": 25,
   "metadata": {},
   "outputs": [
    {
     "name": "stdout",
     "output_type": "stream",
     "text": [
      "['B4', 'B5', 'B6', 'B7', 'QA_PIXEL', 'QA_RADSAT']\n"
     ]
    }
   ],
   "source": [
    "# Filter MSS imagery by location, date and cloudiness.\n",
    "mss= ee.ImageCollection(\"LANDSAT/LM01/C02/T1\")\n",
    "\n",
    "mssImage = ee.Image(mss\n",
    "    .filterBounds(sfoPoint)\n",
    "    .sort('CLOUD_COVER')\n",
    "#Get the least cloudy image.\n",
    "    .first());\n",
    "\n",
    "\n",
    "\n",
    "\n",
    "# Print the image band names to the console.\n",
    "band_names = mssImage.bandNames()\n",
    "print(band_names.getInfo())\n",
    "# Display the MSS image as a color-IR composite.\n"
   ]
  },
  {
   "cell_type": "code",
   "execution_count": 26,
   "metadata": {},
   "outputs": [
    {
     "data": {
      "application/vnd.jupyter.widget-view+json": {
       "model_id": "de8302cdcb5d40ad9a313218ab5a24b1",
       "version_major": 2,
       "version_minor": 0
      },
      "text/plain": [
       "Map(bottom=17798.0, center=[-12.146745814539685, -56.8048095703125], controls=(WidgetControl(options=['positio…"
      ]
     },
     "execution_count": 26,
     "metadata": {},
     "output_type": "execute_result"
    }
   ],
   "source": [
    "# Use these MODIS bands for red, green, blue, respectively.\n",
    "mssBands = ['B6', 'B5', 'B4'];\n",
    "\n",
    "Map.addLayer(mssImage, {'bands':mssBands,'min': 0, 'max': 70}, name='LandsatMSS Image')\n",
    "Map\n",
    "# bounds = sfoPoint.buffer(70000)\n",
    "# Map.centerObject(bounds)"
   ]
  },
  {
   "cell_type": "markdown",
   "metadata": {},
   "source": [
    "Check the scale (in meters) as previously:"
   ]
  },
  {
   "cell_type": "code",
   "execution_count": 27,
   "metadata": {},
   "outputs": [
    {
     "name": "stdout",
     "output_type": "stream",
     "text": [
      "MSS scale: 60\n"
     ]
    }
   ],
   "source": [
    "# Get the scale of the MSS data from its projection:\n",
    "mssScale = mssImage.select('B5').projection().nominalScale();\n",
    "\n",
    "print('MSS scale:', mssScale.getInfo());\n"
   ]
  },
  {
   "cell_type": "markdown",
   "metadata": {},
   "source": [
    "## -TM.  \n",
    "\n",
    "The Thematic Mapper ([TM](http://landsat.gsfc.nasa.gov/?p=3229)) was flown aboard Landsats 4-5.  (It was succeeded by the Enhanced Thematic Mapper ([ETM+](http://landsat.gsfc.nasa.gov/?p=3225)) aboard Landsat 7 and the Operational Land Imager ([OLI](http://landsat.gsfc.nasa.gov/?p=5447)) / Thermal Infrared Sensor ([TIRS](http://landsat.gsfc.nasa.gov/?p=5474)) sensors aboard Landsat 8.)  TM data have a spatial resolution of 30 meters.\n",
    "\n",
    "1. Search for 'landsat 5 toa' and import the first result (which should be 'USGS Landsat 5 TM Collection 1 Tier 1 TOA Reflectance'.  Name the import tm.\n",
    "\n",
    "2. Visualize MSS data over SFO, for approximately the same area as the MSS image, use  image.geometry():\n"
   ]
  },
  {
   "cell_type": "code",
   "execution_count": 28,
   "metadata": {},
   "outputs": [
    {
     "name": "stdout",
     "output_type": "stream",
     "text": [
      "['SR_B1', 'SR_B2', 'SR_B3', 'SR_B4', 'SR_B5', 'SR_B7', 'SR_ATMOS_OPACITY', 'SR_CLOUD_QA', 'ST_B6', 'ST_ATRAN', 'ST_CDIST', 'ST_DRAD', 'ST_EMIS', 'ST_EMSD', 'ST_QA', 'ST_TRAD', 'ST_URAD', 'QA_PIXEL', 'QA_RADSAT']\n"
     ]
    }
   ],
   "source": [
    "tm= ee.ImageCollection(\"LANDSAT/LT05/C02/T1_L2\")\n",
    "\n",
    "# // Filter TM imagery by location, date and cloudiness.\n",
    "tmImage = ee.Image(tm\n",
    "    .filterBounds(sfoPoint) # I could have used sfopoint too. every image has a boundary geometry\n",
    "    .filterDate('2011-06-01', '2011-07-01')\n",
    "    .sort('CLOUD_COVER') # not all satellites have this property, check the properties table\n",
    "    .first());\n",
    "\n",
    "tmImage = tmImage.multiply(2.75e-05).add(-0.2)\n",
    "\n",
    "\n",
    "# Print the image band names to the console.\n",
    "band_names = tmImage.bandNames()\n",
    "print(band_names.getInfo())"
   ]
  },
  {
   "cell_type": "code",
   "execution_count": 29,
   "metadata": {},
   "outputs": [
    {
     "data": {
      "application/vnd.jupyter.widget-view+json": {
       "model_id": "de8302cdcb5d40ad9a313218ab5a24b1",
       "version_major": 2,
       "version_minor": 0
      },
      "text/plain": [
       "Map(bottom=25695.0, center=[37.496652341233364, -123.13751220703126], controls=(WidgetControl(options=['positi…"
      ]
     },
     "execution_count": 29,
     "metadata": {},
     "output_type": "execute_result"
    }
   ],
   "source": [
    "# // Display the TM image as a color-IR composite.\n",
    "tmBands=  ['SR_B3', 'SR_B2', 'SR_B1']\n",
    "\n",
    "Map.addLayer(tmImage, {'bands':tmBands,'min': 0, 'max': 0.4}, name='Landsat TM Image')\n",
    "Map\n",
    "# bounds = sfoPoint.buffer(70000)\n",
    "# Map.centerObject(bounds)"
   ]
  },
  {
   "cell_type": "markdown",
   "metadata": {},
   "source": [
    "Check the scale (in meters) as previously:"
   ]
  },
  {
   "cell_type": "code",
   "execution_count": 30,
   "metadata": {},
   "outputs": [
    {
     "name": "stdout",
     "output_type": "stream",
     "text": [
      "TM scale: 30\n"
     ]
    }
   ],
   "source": [
    "# // Get the scale of the TM data from its projection:\n",
    "tmScale = tmImage.select('SR_B1').projection().nominalScale();\n",
    "print('TM scale:', tmScale.getInfo());\n"
   ]
  },
  {
   "cell_type": "code",
   "execution_count": 13,
   "metadata": {},
   "outputs": [],
   "source": [
    "## - Sentinel 2 "
   ]
  },
  {
   "cell_type": "markdown",
   "metadata": {},
   "source": [
    "## -NAIP.  \n",
    "The National Agriculture Imagery Program ([NAIP](http://www.fsa.usda.gov/programs-and-services/aerial-photography/imagery-programs/naip-imagery/)) is an effort to acquire imagery over the continental US on a 3-year rotation using airborne sensors.  The imagery have a spatial resolution of 1-2 meters.  \n",
    "\n",
    "1. Search for 'naip' and import the first result (which should be 'NAIP: National Agriculture Imagery Program'.  Name the import naip.\n",
    "\n",
    "2. Since NAIP imagery is distributed as quarters of Digital Ortho Quads (DOQs) at irregular cadence, load everything from the most recent year in the acquisition cycle (2012) over the study area and mosaic() it:\n"
   ]
  },
  {
   "cell_type": "code",
   "execution_count": 33,
   "metadata": {},
   "outputs": [
    {
     "name": "stdout",
     "output_type": "stream",
     "text": [
      "['R', 'G', 'B', 'N']\n"
     ]
    }
   ],
   "source": [
    "naip = ee.ImageCollection(\"USDA/NAIP/DOQQ\")\n",
    "\n",
    "# // Get NAIP images for the study period and region of interest.\n",
    "naipImages = naip.filterDate('2019-01-01', '2023-12-31').filterBounds(sfoPoint);\n",
    "\n",
    "# // Mosaic adjacent images into a single image.\n",
    "naipImage = naipImages.mosaic();\n",
    "\n",
    "# Print the image band names to the console.\n",
    "band_names = naipImage.bandNames()\n",
    "print(band_names.getInfo())\n"
   ]
  },
  {
   "cell_type": "code",
   "execution_count": 34,
   "metadata": {},
   "outputs": [
    {
     "data": {
      "application/vnd.jupyter.widget-view+json": {
       "model_id": "de8302cdcb5d40ad9a313218ab5a24b1",
       "version_major": 2,
       "version_minor": 0
      },
      "text/plain": [
       "Map(bottom=1621000.0, center=[37.80788523279169, -122.27641582489015], controls=(WidgetControl(options=['posit…"
      ]
     },
     "execution_count": 34,
     "metadata": {},
     "output_type": "execute_result"
    }
   ],
   "source": [
    "# // Display the NAIP mosaic as a color-IR composite.\n",
    "nBands=  ['R', 'G', 'B']\n",
    "\n",
    "Map.addLayer(naipImage, {'bands':nBands,'min': 0, 'max': 255}, name='NAIP Image')\n",
    "Map\n",
    "# bounds = sfoPoint.buffer(70000)\n",
    "# Map.centerObject(bounds)"
   ]
  },
  {
   "cell_type": "code",
   "execution_count": 35,
   "metadata": {},
   "outputs": [
    {
     "name": "stdout",
     "output_type": "stream",
     "text": [
      "NAIP scale: 0.6\n"
     ]
    }
   ],
   "source": [
    "# // Get the NAIP resolution from the first image in the mosaic.\n",
    "naipScale = ee.Image(naipImages.first()).projection().nominalScale();\n",
    "print('NAIP scale:', naipScale.getInfo());\n"
   ]
  },
  {
   "cell_type": "markdown",
   "metadata": {},
   "source": [
    "## Assignment\n",
    "1. What are the necessary changes to this notebook, to perform the same steps for Cache Valley? Produce a notebook.\n",
    "\n",
    "2. There are more satellites and data sources available to you. To your Logan notebook add the following satellites completing the same steps we did for each of the imagery sources in this notebook.\n",
    "\n",
    "The imagery sources to add are:\n",
    "\n",
    "ASTER: ee.ImageCollection(\"ASTER/AST_L1T_003\"), hint: request 2019 april to october season\n",
    "https://developers.google.com/earth-engine/datasets/catalog/ASTER_AST_L1T_003\n",
    "\n",
    "Sentinel-2: ee.ImageCollection('COPERNICUS/S2')\n",
    "https://developers.google.com/earth-engine/datasets/catalog/COPERNICUS_S2\n",
    "\n",
    "Sentinel-3: ee.ImageCollection(\"COPERNICUS/S3/OLCI\") hint: this satellite behaves like MODIS\n",
    "https://developers.google.com/earth-engine/datasets/catalog/COPERNICUS_S3_OLCI\n",
    "\n",
    "PROBA-V: ee.ImageCollection(\"VITO/PROBAV/C1/S1_TOC_100M\") hint: request 2019 gorwing season\n",
    "https://developers.google.com/earth-engine/datasets/catalog/VITO_PROBAV_C1_S1_TOC_100M\n",
    "\n",
    "VIIRS: ee.ImageCollection(\"NOAA/VIIRS/001/VNP09GA\") hint: this satellite behaves like MODIS\n",
    "https://developers.google.com/earth-engine/datasets/catalog/NOAA_VIIRS_001_VNP09GA\n",
    "\n",
    "BONUS: HYPERSPECTRAL SENSOR\n",
    "EO-1 Hyperion Hyperspectral Imager: ee.ImageCollection(\"EO1/HYPERION\") \n",
    "hint: this satellite has 220 bands, choose between 2001 and 2017 to get an image for Cache Valley\n",
    "https://developers.google.com/earth-engine/datasets/catalog/EO1_HYPERION\n",
    "\n",
    "\n",
    "Happy coding!"
   ]
  },
  {
   "cell_type": "code",
   "execution_count": null,
   "metadata": {},
   "outputs": [],
   "source": []
  }
 ],
 "metadata": {
  "kernelspec": {
   "display_name": "Python 3 (ipykernel)",
   "language": "python",
   "name": "python3"
  },
  "language_info": {
   "codemirror_mode": {
    "name": "ipython",
    "version": 3
   },
   "file_extension": ".py",
   "mimetype": "text/x-python",
   "name": "python",
   "nbconvert_exporter": "python",
   "pygments_lexer": "ipython3",
   "version": "3.9.7"
  },
  "latex_envs": {
   "LaTeX_envs_menu_present": true,
   "autoclose": false,
   "autocomplete": true,
   "bibliofile": "biblio.bib",
   "cite_by": "apalike",
   "current_citInitial": 1,
   "eqLabelWithNumbers": true,
   "eqNumInitial": 1,
   "hotkeys": {
    "equation": "Ctrl-E",
    "itemize": "Ctrl-I"
   },
   "labels_anchors": false,
   "latex_user_defs": false,
   "report_style_numbering": false,
   "user_envs_cfg": false
  },
  "widgets": {
   "application/vnd.jupyter.widget-state+json": {
    "state": {
     "0083c47f6e6b4d82af00431e5bb362fa": {
      "model_module": "@jupyter-widgets/controls",
      "model_module_version": "2.0.0",
      "model_name": "CheckboxModel",
      "state": {
       "description": "LandsatMSS Image",
       "disabled": false,
       "indent": false,
       "layout": "IPY_MODEL_5ebb3346514943b9a10c92cd1e9d4a0c",
       "style": "IPY_MODEL_9a296b60ede348aa9f98043b6de71f6f",
       "value": true
      }
     },
     "00d1c4ce490546c4b45ff5eb45cafaec": {
      "model_module": "@jupyter-widgets/controls",
      "model_module_version": "2.0.0",
      "model_name": "ToggleButtonStyleModel",
      "state": {
       "description_width": "",
       "font_family": null,
       "font_size": null,
       "font_style": null,
       "font_variant": null,
       "font_weight": null,
       "text_color": null,
       "text_decoration": null
      }
     },
     "0180ccfe8cd9452aa07b61526f0a64ec": {
      "model_module": "@jupyter-widgets/controls",
      "model_module_version": "2.0.0",
      "model_name": "CheckboxModel",
      "state": {
       "description": "Landsat TM Image",
       "disabled": false,
       "indent": false,
       "layout": "IPY_MODEL_9eb40ff6cc2943f78cc133da5ab373fb",
       "style": "IPY_MODEL_93c79e7722424490ba98c217ef98cc4a",
       "value": true
      }
     },
     "01cf4ea3202e4e4a91b8e746dbcf19d8": {
      "model_module": "@jupyter-widgets/controls",
      "model_module_version": "2.0.0",
      "model_name": "LinkModel",
      "state": {
       "source": [
        "IPY_MODEL_8556724ffb724187b4f49bf160383b7c",
        "value"
       ],
       "target": [
        "IPY_MODEL_02ae87f908f043a8bdb2843f4b4ead32",
        "visible"
       ]
      }
     },
     "02113b92158246a4b06ba2275df8f0e4": {
      "model_module": "@jupyter-widgets/controls",
      "model_module_version": "2.0.0",
      "model_name": "ToggleButtonStyleModel",
      "state": {
       "description_width": "",
       "font_family": null,
       "font_size": null,
       "font_style": null,
       "font_variant": null,
       "font_weight": null,
       "text_color": null,
       "text_decoration": null
      }
     },
     "02ae87f908f043a8bdb2843f4b4ead32": {
      "model_module": "jupyter-leaflet",
      "model_module_version": "^0.17",
      "model_name": "LeafletTileLayerModel",
      "state": {
       "_model_module_version": "^0.17",
       "_view_module_version": "^0.17",
       "attribution": "Google Earth Engine",
       "max_zoom": 24,
       "name": "LandsatMSS Image",
       "options": [
        "attribution",
        "bounds",
        "detect_retina",
        "max_native_zoom",
        "max_zoom",
        "min_native_zoom",
        "min_zoom",
        "no_wrap",
        "tile_size",
        "tms",
        "zoom_offset"
       ],
       "url": "https://earthengine.googleapis.com/v1/projects/earthengine-legacy/maps/8742d38c17164c73fb977ace4e800b80-8b02baaa7ecc287b9d370c87994b5d8a/tiles/{z}/{x}/{y}"
      }
     },
     "02c433eea27d4efd96697c3814872d9a": {
      "model_module": "@jupyter-widgets/controls",
      "model_module_version": "2.0.0",
      "model_name": "ButtonStyleModel",
      "state": {
       "font_family": null,
       "font_size": null,
       "font_style": null,
       "font_variant": null,
       "font_weight": null,
       "text_color": null,
       "text_decoration": null
      }
     },
     "02f94d8c6ef64f3880d86d589456fa55": {
      "model_module": "@jupyter-widgets/controls",
      "model_module_version": "2.0.0",
      "model_name": "TextStyleModel",
      "state": {
       "description_width": "",
       "font_size": null,
       "text_color": null
      }
     },
     "03c08634b9fb4a0883a759e56d273e1d": {
      "model_module": "@jupyter-widgets/base",
      "model_module_version": "2.0.0",
      "model_name": "LayoutModel",
      "state": {
       "height": "auto",
       "padding": "0px 0px 0px 4px",
       "width": "auto"
      }
     },
     "03e954626f244ba493767050c9c72fb1": {
      "model_module": "@jupyter-widgets/controls",
      "model_module_version": "2.0.0",
      "model_name": "CheckboxModel",
      "state": {
       "description": "MODIS Image",
       "disabled": false,
       "indent": false,
       "layout": "IPY_MODEL_4ccad87899024ce49b9272ec14e852ca",
       "style": "IPY_MODEL_ed6a40f4bf444ddabfecd6a8a9e9a62c",
       "value": false
      }
     },
     "04e16db422d74475a1161e4688767f59": {
      "model_module": "@jupyter-widgets/controls",
      "model_module_version": "2.0.0",
      "model_name": "ToggleButtonStyleModel",
      "state": {
       "description_width": "",
       "font_family": null,
       "font_size": null,
       "font_style": null,
       "font_variant": null,
       "font_weight": null,
       "text_color": null,
       "text_decoration": null
      }
     },
     "059745bf5052497eaa4102926eefa0cf": {
      "model_module": "@jupyter-widgets/controls",
      "model_module_version": "2.0.0",
      "model_name": "ToggleButtonStyleModel",
      "state": {
       "description_width": "",
       "font_family": null,
       "font_size": null,
       "font_style": null,
       "font_variant": null,
       "font_weight": null,
       "text_color": null,
       "text_decoration": null
      }
     },
     "060befd0c502448eb8f9cabeee7ff99b": {
      "model_module": "@jupyter-widgets/controls",
      "model_module_version": "2.0.0",
      "model_name": "HTMLStyleModel",
      "state": {
       "description_width": "",
       "font_size": null,
       "text_color": null
      }
     },
     "062581d4fd294ddebde234d327765c8a": {
      "model_module": "@jupyter-widgets/controls",
      "model_module_version": "2.0.0",
      "model_name": "HBoxModel",
      "state": {
       "children": [
        "IPY_MODEL_83dc97b579254997b5c35651d4563d66",
        "IPY_MODEL_721fe6d9f74444c7bad66223f6966156"
       ],
       "layout": "IPY_MODEL_6fc765c12de44e78a41d751b0c3ea3f1"
      }
     },
     "06e941e70a264974ba6dfc9dc3b9f9fd": {
      "model_module": "@jupyter-widgets/base",
      "model_module_version": "2.0.0",
      "model_name": "LayoutModel",
      "state": {}
     },
     "0750538e09b04979b20e9e0a40f48b2e": {
      "model_module": "@jupyter-widgets/base",
      "model_module_version": "2.0.0",
      "model_name": "LayoutModel",
      "state": {}
     },
     "08f550558fab45b39c25f14f2c6d459a": {
      "model_module": "@jupyter-widgets/controls",
      "model_module_version": "2.0.0",
      "model_name": "SliderStyleModel",
      "state": {
       "description_width": ""
      }
     },
     "09771e9aad6c4f44a8681d363e744bf2": {
      "model_module": "@jupyter-widgets/controls",
      "model_module_version": "2.0.0",
      "model_name": "ToggleButtonModel",
      "state": {
       "button_style": "primary",
       "icon": "bar-chart",
       "layout": "IPY_MODEL_798a505e7c624f429008a419acf833cf",
       "style": "IPY_MODEL_abadf9e703514aa7826d784ea46e60fc",
       "tooltip": "Plotting"
      }
     },
     "09e707e5af5f4fdb96cf9b4d93a62d1b": {
      "model_module": "@jupyter-widgets/controls",
      "model_module_version": "2.0.0",
      "model_name": "ToggleButtonModel",
      "state": {
       "icon": "gear",
       "layout": "IPY_MODEL_0fee89bf53cd4e098e5dd646b56949a0",
       "style": "IPY_MODEL_54ef891d58fc4243b52e55c79388a6a9",
       "tooltip": "NAIP Image"
      }
     },
     "0a7fdfad65074ae484c54c4bd267fcd9": {
      "model_module": "@jupyter-widgets/base",
      "model_module_version": "2.0.0",
      "model_name": "LayoutModel",
      "state": {}
     },
     "0a950fb33e954447b515cdf1bec9074e": {
      "model_module": "@jupyter-widgets/controls",
      "model_module_version": "2.0.0",
      "model_name": "VBoxModel",
      "state": {
       "children": [
        "IPY_MODEL_5b88d7cca5684330a9e66e2d53ab152e"
       ],
       "layout": "IPY_MODEL_4b005a8f19fc42a892142dfdf482193e"
      }
     },
     "0aa5abe511a540f4bde7cf6ef0dc9c7e": {
      "model_module": "@jupyter-widgets/base",
      "model_module_version": "2.0.0",
      "model_name": "LayoutModel",
      "state": {
       "height": "auto",
       "padding": "0px 0px 0px 4px",
       "width": "auto"
      }
     },
     "0b3e3a3b921e4fb0b795c9ec99ad3691": {
      "model_module": "@jupyter-widgets/base",
      "model_module_version": "2.0.0",
      "model_name": "LayoutModel",
      "state": {}
     },
     "0bf897993fbd4378bdc94111584a3f26": {
      "model_module": "@jupyter-widgets/controls",
      "model_module_version": "2.0.0",
      "model_name": "HBoxModel",
      "state": {
       "children": [
        "IPY_MODEL_a949ee559de6419cb9fab8cdf8449014",
        "IPY_MODEL_e3d448a1a7e448dbb70f7b90b7d2743c",
        "IPY_MODEL_0fc01d5cd20b462985ababb99bca98f7"
       ],
       "layout": "IPY_MODEL_343ae3c171dd4f96b5e2ad5993941e01"
      }
     },
     "0c401d7ee39c4ef5b799f36e7f0ff13b": {
      "model_module": "@jupyter-widgets/controls",
      "model_module_version": "2.0.0",
      "model_name": "ToggleButtonModel",
      "state": {
       "icon": "gear",
       "layout": "IPY_MODEL_adeeeea561de43fd87bcc7a00229a3d6",
       "style": "IPY_MODEL_40c8b345635f4f08b185d9cda521746a",
       "tooltip": "Google Maps"
      }
     },
     "0c7fbd50977d4194888392c87a0983d9": {
      "model_module": "@jupyter-widgets/base",
      "model_module_version": "2.0.0",
      "model_name": "LayoutModel",
      "state": {}
     },
     "0cffad7674744ace95a559fd38dd65d2": {
      "model_module": "@jupyter-widgets/controls",
      "model_module_version": "2.0.0",
      "model_name": "LinkModel",
      "state": {
       "source": [
        "IPY_MODEL_f2ee1eed320046b0a952fa6b6492c309",
        "value"
       ],
       "target": [
        "IPY_MODEL_d05ba91d02d340ea9c6d1806e89cb460",
        "visible"
       ]
      }
     },
     "0d44976fb19440ab8918189f4ee8b2f0": {
      "model_module": "@jupyter-widgets/controls",
      "model_module_version": "2.0.0",
      "model_name": "FloatSliderModel",
      "state": {
       "behavior": "drag-tap",
       "layout": "IPY_MODEL_b523c4e68c84451fb62270bb70396c69",
       "max": 1,
       "readout": false,
       "step": 0.01,
       "style": "IPY_MODEL_f7c0a6c671584725833c7bb742bdebb9",
       "value": 1
      }
     },
     "0d98089078034325a40e804ed00ff8d1": {
      "model_module": "@jupyter-widgets/controls",
      "model_module_version": "2.0.0",
      "model_name": "DropdownModel",
      "state": {
       "index": null,
       "layout": "IPY_MODEL_29a09ba37e6c417997e7b12708f4ac0c",
       "style": "IPY_MODEL_83991bf48c8a49db9bbaf92008f5d7d9"
      }
     },
     "0e5e43ed2edf465ab8e230ea1fdcf8e4": {
      "model_module": "@jupyter-widgets/base",
      "model_module_version": "2.0.0",
      "model_name": "LayoutModel",
      "state": {
       "padding": "0px 8px 0px 8px"
      }
     },
     "0ea8e30822984e8a9469c5b8b7bc3f4e": {
      "model_module": "@jupyter-widgets/base",
      "model_module_version": "2.0.0",
      "model_name": "LayoutModel",
      "state": {
       "height": "auto",
       "padding": "0px 0px 0px 4px",
       "width": "auto"
      }
     },
     "0eeef3346db74c0e95e0f11fa289e83f": {
      "model_module": "@jupyter-widgets/base",
      "model_module_version": "2.0.0",
      "model_name": "LayoutModel",
      "state": {
       "height": "25px",
       "padding": "0px 0px 0px 5px",
       "width": "25px"
      }
     },
     "0eeefaec231f4e9c970d9a0ba6722ac4": {
      "model_module": "@jupyter-widgets/controls",
      "model_module_version": "2.0.0",
      "model_name": "DescriptionStyleModel",
      "state": {
       "description_width": ""
      }
     },
     "0f99136d96e44c3d801eb755c731e81c": {
      "model_module": "@jupyter-widgets/controls",
      "model_module_version": "2.0.0",
      "model_name": "DirectionalLinkModel",
      "state": {
       "source": [
        "IPY_MODEL_82b00a1452204c668e19dde90a923860",
        "value"
       ],
       "target": [
        "IPY_MODEL_1f382b8f39f347e4af7bee1282fc5789",
        "opacity"
       ]
      }
     },
     "0fc01d5cd20b462985ababb99bca98f7": {
      "model_module": "@jupyter-widgets/controls",
      "model_module_version": "2.0.0",
      "model_name": "FloatSliderModel",
      "state": {
       "behavior": "drag-tap",
       "layout": "IPY_MODEL_71531e51206840958c3a699e1d40392b",
       "max": 1,
       "readout": false,
       "step": 0.01,
       "style": "IPY_MODEL_d0e500a7f1d84f1f93649f0353a290fb",
       "value": 1
      }
     },
     "0fee89bf53cd4e098e5dd646b56949a0": {
      "model_module": "@jupyter-widgets/base",
      "model_module_version": "2.0.0",
      "model_name": "LayoutModel",
      "state": {
       "height": "25px",
       "padding": "0px 0px 0px 5px",
       "width": "25px"
      }
     },
     "106025b8da5a43e6b0e25b7920c56755": {
      "model_module": "@jupyter-widgets/controls",
      "model_module_version": "2.0.0",
      "model_name": "SliderStyleModel",
      "state": {
       "description_width": ""
      }
     },
     "106fe98f217f47e2ac2f9cc3ea3ffac4": {
      "model_module": "@jupyter-widgets/base",
      "model_module_version": "2.0.0",
      "model_name": "LayoutModel",
      "state": {
       "padding": "0px 8px 0px 8px"
      }
     },
     "110a07d3ed334e24beea1918ef3f3fec": {
      "model_module": "@jupyter-widgets/controls",
      "model_module_version": "2.0.0",
      "model_name": "FloatSliderModel",
      "state": {
       "behavior": "drag-tap",
       "layout": "IPY_MODEL_f4936c6928f843d5821d519049c7adfe",
       "max": 1,
       "readout": false,
       "step": 0.01,
       "style": "IPY_MODEL_27aec45e493e4e1cbb008c4a875633f8",
       "value": 1
      }
     },
     "11316d0e66134ddfbbf755f478457474": {
      "model_module": "@jupyter-widgets/base",
      "model_module_version": "2.0.0",
      "model_name": "LayoutModel",
      "state": {
       "height": "25px",
       "padding": "0px 0px 0px 5px",
       "width": "25px"
      }
     },
     "115a1b6c87fc4a33af1157267832b67e": {
      "model_module": "@jupyter-widgets/controls",
      "model_module_version": "2.0.0",
      "model_name": "HBoxModel",
      "state": {
       "_view_count": 5,
       "children": [
        "IPY_MODEL_2201f2bb425a429ab818527e5e5f5362"
       ],
       "layout": "IPY_MODEL_2a1a9e2a6f604fb5908be0daecc5e52d"
      }
     },
     "11e39dd6a9194bccbe60f0f601262022": {
      "model_module": "jupyter-leaflet",
      "model_module_version": "^0.17",
      "model_name": "LeafletZoomControlModel",
      "state": {
       "_model_module_version": "^0.17",
       "_view_module_version": "^0.17",
       "options": [
        "position",
        "zoom_in_text",
        "zoom_in_title",
        "zoom_out_text",
        "zoom_out_title"
       ]
      }
     },
     "11f47a633dcf4b2f8bc9773ad2fc8319": {
      "model_module": "@jupyter-widgets/base",
      "model_module_version": "2.0.0",
      "model_name": "LayoutModel",
      "state": {}
     },
     "132bd549b9754cac9dbed22259f683c0": {
      "model_module": "@jupyter-widgets/controls",
      "model_module_version": "2.0.0",
      "model_name": "HBoxModel",
      "state": {
       "children": [
        "IPY_MODEL_c338495864bb4fccbadebbe12d6fe32a",
        "IPY_MODEL_46d5b46e52ea40a1982ea536215eda16",
        "IPY_MODEL_b8c0d06f382c4f93be2592988616f52e"
       ],
       "layout": "IPY_MODEL_a61e7da5728446b68fa1e73307a0ed12"
      }
     },
     "137a1f1493f04ac6a2e021f33ec6801e": {
      "model_module": "@jupyter-widgets/controls",
      "model_module_version": "2.0.0",
      "model_name": "ToggleButtonStyleModel",
      "state": {
       "description_width": "",
       "font_family": null,
       "font_size": null,
       "font_style": null,
       "font_variant": null,
       "font_weight": null,
       "text_color": null,
       "text_decoration": null
      }
     },
     "13b908af4eb1446986f16c1d370c6237": {
      "model_module": "jupyter-leaflet",
      "model_module_version": "^0.17",
      "model_name": "LeafletDrawControlModel",
      "state": {
       "_model_module_version": "^0.17",
       "_view_module_version": "^0.17",
       "marker": {
        "shapeOptions": {
         "color": "#3388ff"
        }
       },
       "options": [
        "position"
       ],
       "polygon": {
        "shapeOptions": {
         "clickable": true,
         "color": "#3388ff",
         "fill": true,
         "fillColor": null,
         "fillOpacity": 0.2,
         "opacity": 0.5,
         "stroke": true,
         "weight": 4
        }
       },
       "polyline": {
        "shapeOptions": {
         "clickable": true,
         "color": "#3388ff",
         "fill": false,
         "opacity": 0.5,
         "stroke": true,
         "weight": 4
        }
       },
       "rectangle": {
        "shapeOptions": {
         "clickable": true,
         "color": "#3388ff",
         "fill": true,
         "fillColor": null,
         "fillOpacity": 0.2,
         "opacity": 0.5,
         "stroke": true,
         "weight": 4
        }
       }
      }
     },
     "13d35787a2f14ec0b6797bc0ecea1601": {
      "model_module": "@jupyter-widgets/controls",
      "model_module_version": "2.0.0",
      "model_name": "ToggleButtonStyleModel",
      "state": {
       "description_width": "",
       "font_family": null,
       "font_size": null,
       "font_style": null,
       "font_variant": null,
       "font_weight": null,
       "text_color": null,
       "text_decoration": null
      }
     },
     "13d8a44dece040dcbbc9ac0046a7676a": {
      "model_module": "@jupyter-widgets/base",
      "model_module_version": "2.0.0",
      "model_name": "LayoutModel",
      "state": {
       "height": "auto",
       "padding": "0px 0px 0px 4px",
       "width": "auto"
      }
     },
     "14211991d9944d4baaf6184f9b1fbfa4": {
      "model_module": "@jupyter-widgets/controls",
      "model_module_version": "2.0.0",
      "model_name": "VBoxModel",
      "state": {
       "children": [
        "IPY_MODEL_5c01a80c2b4a4f429f066d9e8af3221e",
        "IPY_MODEL_aa354767472a4bc8bf83c1746efc598c"
       ],
       "layout": "IPY_MODEL_0b3e3a3b921e4fb0b795c9ec99ad3691"
      }
     },
     "144a52a298c54c3d97a25bc5aae08560": {
      "model_module": "@jupyter-widgets/controls",
      "model_module_version": "2.0.0",
      "model_name": "DirectionalLinkModel",
      "state": {
       "source": [
        "IPY_MODEL_b8c0d06f382c4f93be2592988616f52e",
        "value"
       ],
       "target": [
        "IPY_MODEL_1f382b8f39f347e4af7bee1282fc5789",
        "opacity"
       ]
      }
     },
     "145240b3a8164156a1e6244c94373f4e": {
      "model_module": "@jupyter-widgets/controls",
      "model_module_version": "2.0.0",
      "model_name": "ToggleButtonStyleModel",
      "state": {
       "description_width": "",
       "font_family": null,
       "font_size": null,
       "font_style": null,
       "font_variant": null,
       "font_weight": null,
       "text_color": null,
       "text_decoration": null
      }
     },
     "146a60bd53a24364bbb515655176a8d1": {
      "model_module": "@jupyter-widgets/controls",
      "model_module_version": "2.0.0",
      "model_name": "CheckboxModel",
      "state": {
       "description": "All layers on/off",
       "disabled": false,
       "indent": false,
       "layout": "IPY_MODEL_86ddf5f0ad484858945743133a5510d3",
       "style": "IPY_MODEL_19ddacf3a4cf4957b798384b912458db",
       "value": false
      }
     },
     "14c6135ae8f74e8b967137b42b01d94f": {
      "model_module": "@jupyter-widgets/controls",
      "model_module_version": "2.0.0",
      "model_name": "ToggleButtonModel",
      "state": {
       "button_style": "primary",
       "icon": "map",
       "layout": "IPY_MODEL_40de208cf6324b4093226b5108019743",
       "style": "IPY_MODEL_5af99d1c31e4428eac497cc57fec8d8a",
       "tooltip": "Change basemap"
      }
     },
     "14d12cecebf9474285131d07d34b375a": {
      "model_module": "@jupyter-widgets/base",
      "model_module_version": "2.0.0",
      "model_name": "LayoutModel",
      "state": {
       "height": "18px",
       "width": "140px"
      }
     },
     "152b661e9d1a4219abfe88eb44b813e1": {
      "model_module": "@jupyter-widgets/base",
      "model_module_version": "2.0.0",
      "model_name": "LayoutModel",
      "state": {
       "height": "28px",
       "padding": "0px 0px 0px 4px",
       "width": "28px"
      }
     },
     "162b84524d514bc1aca2eebdf2120b9e": {
      "model_module": "@jupyter-widgets/controls",
      "model_module_version": "2.0.0",
      "model_name": "LinkModel",
      "state": {
       "source": [
        "IPY_MODEL_6c6ee0aa2a334f6b9a7d3ea8d5a61675",
        "value"
       ],
       "target": [
        "IPY_MODEL_02ae87f908f043a8bdb2843f4b4ead32",
        "visible"
       ]
      }
     },
     "170deb8f0d3d46e89af177bcd8c6cdf7": {
      "model_module": "@jupyter-widgets/base",
      "model_module_version": "2.0.0",
      "model_name": "LayoutModel",
      "state": {
       "height": "28px",
       "padding": "0px 0px 0px 4px",
       "width": "28px"
      }
     },
     "17ba637638da4bd086234bf0f27b55fa": {
      "model_module": "@jupyter-widgets/controls",
      "model_module_version": "2.0.0",
      "model_name": "ToggleButtonModel",
      "state": {
       "button_style": "primary",
       "icon": "eraser",
       "layout": "IPY_MODEL_99f56d4998b7481faa554b42ade89578",
       "style": "IPY_MODEL_c96c0ab4e1c34fc393a9109fbbebb086",
       "tooltip": "Remove all drawn features"
      }
     },
     "17c7648bb22c4553ab7f7aa771e27456": {
      "model_module": "jupyter-leaflet",
      "model_module_version": "^0.17",
      "model_name": "LeafletWidgetControlModel",
      "state": {
       "_model_module": "jupyter-leaflet",
       "_model_module_version": "^0.17",
       "_view_count": null,
       "_view_module": "jupyter-leaflet",
       "_view_module_version": "^0.17",
       "options": [
        "position",
        "transparent_bg"
       ],
       "position": "topright",
       "widget": "IPY_MODEL_6998c2f043ab418cbee3e0848577dfea"
      }
     },
     "17e37513117a4b3084232af23246fba8": {
      "model_module": "@jupyter-widgets/base",
      "model_module_version": "2.0.0",
      "model_name": "LayoutModel",
      "state": {
       "width": "80px"
      }
     },
     "18049252c4224de08bbd8fc7cd04f8a8": {
      "model_module": "@jupyter-widgets/controls",
      "model_module_version": "2.0.0",
      "model_name": "FloatSliderModel",
      "state": {
       "behavior": "drag-tap",
       "layout": "IPY_MODEL_5197c4ce09854c92a728acdb9c9ccfe5",
       "max": 1,
       "readout": false,
       "step": 0.01,
       "style": "IPY_MODEL_7132ddb9bc534f5782d4960f2c282b2d",
       "value": 1
      }
     },
     "1851e8b2880e4929841f5d80d5880546": {
      "model_module": "@jupyter-widgets/base",
      "model_module_version": "2.0.0",
      "model_name": "LayoutModel",
      "state": {
       "grid_gap": "1px 1px",
       "grid_template_columns": "32px 32px 32px ",
       "grid_template_rows": "32px 32px ",
       "padding": "5px",
       "width": "109px"
      }
     },
     "18a36ac1b8f948c58c4bd0a26ddf5c61": {
      "model_module": "@jupyter-widgets/controls",
      "model_module_version": "2.0.0",
      "model_name": "CheckboxModel",
      "state": {
       "description": "LandsatMSS Image",
       "disabled": false,
       "indent": false,
       "layout": "IPY_MODEL_905678fcad2d42ee844e9685bd8fd6e7",
       "style": "IPY_MODEL_4edc16741ae44406b858a7f39301e061",
       "value": true
      }
     },
     "18fabeb2d05f47c2933f1e7e9bb55fc4": {
      "model_module": "@jupyter-widgets/controls",
      "model_module_version": "2.0.0",
      "model_name": "ToggleButtonModel",
      "state": {
       "icon": "gear",
       "layout": "IPY_MODEL_e2b1934c2d134b7a8982dfa216f2c9a2",
       "style": "IPY_MODEL_c22026ffd5ed47d982a360e654a269ab",
       "tooltip": "Google Maps"
      }
     },
     "1903bc407bdb4d5aa3da2b915994e4e0": {
      "model_module": "@jupyter-widgets/controls",
      "model_module_version": "2.0.0",
      "model_name": "SliderStyleModel",
      "state": {
       "description_width": ""
      }
     },
     "194ac9f43f1e42c6a28d19cbd03d619a": {
      "model_module": "@jupyter-widgets/controls",
      "model_module_version": "2.0.0",
      "model_name": "HBoxModel",
      "state": {
       "children": [
        "IPY_MODEL_4e169b150b7a4580857938fd6f28e145",
        "IPY_MODEL_f740cfda6b674154b7809ee38172666d"
       ],
       "layout": "IPY_MODEL_23b57c58c73b4afeb0d09aa51c4a8a1b"
      }
     },
     "1977dc47d9fd4b1087fa35618c5afae8": {
      "model_module": "jupyter-leaflet",
      "model_module_version": "^0.17",
      "model_name": "LeafletScaleControlModel",
      "state": {
       "_model_module_version": "^0.17",
       "_view_module_version": "^0.17",
       "imperial": true,
       "max_width": 100,
       "metric": true,
       "options": [
        "imperial",
        "max_width",
        "metric",
        "position",
        "update_when_idle"
       ],
       "position": "bottomleft",
       "update_when_idle": false
      }
     },
     "19ddacf3a4cf4957b798384b912458db": {
      "model_module": "@jupyter-widgets/controls",
      "model_module_version": "2.0.0",
      "model_name": "CheckboxStyleModel",
      "state": {
       "description_width": ""
      }
     },
     "1a68e35d44f84d55880ca9ee93280c95": {
      "model_module": "@jupyter-widgets/controls",
      "model_module_version": "2.0.0",
      "model_name": "CheckboxStyleModel",
      "state": {
       "description_width": ""
      }
     },
     "1a8b59a143044a19983a54ad4a605254": {
      "model_module": "@jupyter-widgets/controls",
      "model_module_version": "2.0.0",
      "model_name": "DirectionalLinkModel",
      "state": {
       "source": [
        "IPY_MODEL_110a07d3ed334e24beea1918ef3f3fec",
        "value"
       ],
       "target": [
        "IPY_MODEL_1f382b8f39f347e4af7bee1282fc5789",
        "opacity"
       ]
      }
     },
     "1b545952984147adb944e7dd536d7505": {
      "model_module": "@jupyter-widgets/base",
      "model_module_version": "2.0.0",
      "model_name": "LayoutModel",
      "state": {
       "height": "28px",
       "padding": "0px 0px 0px 4px",
       "width": "28px"
      }
     },
     "1b63944b6a88405ba719fbb9f4d76342": {
      "model_module": "@jupyter-widgets/controls",
      "model_module_version": "2.0.0",
      "model_name": "HBoxModel",
      "state": {
       "children": [
        "IPY_MODEL_f2ee1eed320046b0a952fa6b6492c309",
        "IPY_MODEL_580b093ffb1f45b88d7ad22b773a1445",
        "IPY_MODEL_ba24237a0eba4b7a93d9f99e7a74cdaf"
       ],
       "layout": "IPY_MODEL_eb33ef6e3c0b47ce864dfa66848d94ee"
      }
     },
     "1b94f61ae1f541e093dc5dde8a25695d": {
      "model_module": "@jupyter-widgets/controls",
      "model_module_version": "2.0.0",
      "model_name": "ToggleButtonModel",
      "state": {
       "button_style": "primary",
       "icon": "random",
       "layout": "IPY_MODEL_e33b2500f1f34b79ab006fd54ec4d20e",
       "style": "IPY_MODEL_04e16db422d74475a1161e4688767f59",
       "tooltip": "Sankey plots"
      }
     },
     "1bd9fce4367743c3a653b8b01daa83ec": {
      "model_module": "@jupyter-widgets/controls",
      "model_module_version": "2.0.0",
      "model_name": "ToggleButtonStyleModel",
      "state": {
       "description_width": "",
       "font_family": null,
       "font_size": null,
       "font_style": null,
       "font_variant": null,
       "font_weight": null,
       "text_color": null,
       "text_decoration": null
      }
     },
     "1c78dfa4f781495e982a772559c0d86f": {
      "model_module": "@jupyter-widgets/base",
      "model_module_version": "2.0.0",
      "model_name": "LayoutModel",
      "state": {
       "height": "auto",
       "padding": "0px 0px 0px 4px",
       "width": "auto"
      }
     },
     "1cf278de74624501856ebc8796d1928f": {
      "model_module": "@jupyter-widgets/controls",
      "model_module_version": "2.0.0",
      "model_name": "ToggleButtonModel",
      "state": {
       "icon": "gear",
       "layout": "IPY_MODEL_e6bf9cb440c74488b78787eb635343d4",
       "style": "IPY_MODEL_697b5e4cfeb34dad8aada84706567bb7",
       "tooltip": "LandsatMSS Image"
      }
     },
     "1dd3b29f5dbd4a60bc505974f0c83dd9": {
      "model_module": "@jupyter-widgets/controls",
      "model_module_version": "2.0.0",
      "model_name": "DirectionalLinkModel",
      "state": {
       "source": [
        "IPY_MODEL_18049252c4224de08bbd8fc7cd04f8a8",
        "value"
       ],
       "target": [
        "IPY_MODEL_02ae87f908f043a8bdb2843f4b4ead32",
        "opacity"
       ]
      }
     },
     "1df4f5d531f04eae940f59d6de5f0783": {
      "model_module": "@jupyter-widgets/base",
      "model_module_version": "2.0.0",
      "model_name": "LayoutModel",
      "state": {
       "height": "auto",
       "padding": "0px 0px 0px 4px",
       "width": "auto"
      }
     },
     "1f2095709d044450951845d96e1971dc": {
      "model_module": "@jupyter-widgets/base",
      "model_module_version": "2.0.0",
      "model_name": "LayoutModel",
      "state": {
       "height": "auto",
       "padding": "0px 0px 0px 4px",
       "width": "auto"
      }
     },
     "1f382b8f39f347e4af7bee1282fc5789": {
      "model_module": "jupyter-leaflet",
      "model_module_version": "^0.17",
      "model_name": "LeafletTileLayerModel",
      "state": {
       "_model_module_version": "^0.17",
       "_view_module_version": "^0.17",
       "attribution": "Google",
       "max_zoom": 24,
       "name": "Google Maps",
       "options": [
        "attribution",
        "bounds",
        "detect_retina",
        "max_native_zoom",
        "max_zoom",
        "min_native_zoom",
        "min_zoom",
        "no_wrap",
        "tile_size",
        "tms",
        "zoom_offset"
       ],
       "url": "https://mt1.google.com/vt/lyrs=m&x={x}&y={y}&z={z}"
      }
     },
     "1f7cb1f0b9044d779fd943212b2607b0": {
      "model_module": "jupyter-leaflet",
      "model_module_version": "^0.17",
      "model_name": "LeafletMapStyleModel",
      "state": {
       "_model_module_version": "^0.17"
      }
     },
     "1f876621aef94eceb98addfde94f7660": {
      "model_module": "jupyter-leaflet",
      "model_module_version": "^0.17",
      "model_name": "LeafletMeasureControlModel",
      "state": {
       "_model_module_version": "^0.17",
       "_view_module_version": "^0.17",
       "active_color": "orange",
       "options": [
        "active_color",
        "capture_z_index",
        "completed_color",
        "popup_options",
        "position",
        "primary_area_unit",
        "primary_length_unit",
        "secondary_area_unit",
        "secondary_length_unit"
       ],
       "position": "bottomleft",
       "primary_length_unit": "kilometers",
       "secondary_area_unit": null,
       "secondary_length_unit": null
      }
     },
     "20f5ac6384044c6295c06de922a1fed3": {
      "model_module": "@jupyter-widgets/controls",
      "model_module_version": "2.0.0",
      "model_name": "HBoxModel",
      "state": {
       "children": [
        "IPY_MODEL_6c6ee0aa2a334f6b9a7d3ea8d5a61675",
        "IPY_MODEL_1cf278de74624501856ebc8796d1928f",
        "IPY_MODEL_18049252c4224de08bbd8fc7cd04f8a8"
       ],
       "layout": "IPY_MODEL_7f114079a4ae4294a0a4f371bd9f679f"
      }
     },
     "2141f4189c834d1b86a10d26d88cb985": {
      "model_module": "@jupyter-widgets/base",
      "model_module_version": "2.0.0",
      "model_name": "LayoutModel",
      "state": {}
     },
     "2143acd71f1e49eb8436765e5a337c0a": {
      "model_module": "@jupyter-widgets/controls",
      "model_module_version": "2.0.0",
      "model_name": "CheckboxModel",
      "state": {
       "description": "Landsat TM Image",
       "disabled": false,
       "indent": false,
       "layout": "IPY_MODEL_ffd6d0a0ae6f47a1913b3d20776a295f",
       "style": "IPY_MODEL_7c92cb5f14ce46cf847aab4f189b0dc7",
       "value": true
      }
     },
     "2161a7249d82470698ac6c26b4e0d8e6": {
      "model_module": "@jupyter-widgets/controls",
      "model_module_version": "2.0.0",
      "model_name": "DirectionalLinkModel",
      "state": {
       "source": [
        "IPY_MODEL_f56523d158e84848bc386959e2801c3f",
        "value"
       ],
       "target": [
        "IPY_MODEL_9b784d9ba5524d46875c49c35e9e5018",
        "opacity"
       ]
      }
     },
     "21771b58d8bd4f3fbbcd974e1fc1df7a": {
      "model_module": "@jupyter-widgets/base",
      "model_module_version": "2.0.0",
      "model_name": "LayoutModel",
      "state": {
       "height": "25px",
       "padding": "0px 0px 0px 5px",
       "width": "25px"
      }
     },
     "2182b9b498e7404ea6f3c8d4e17c1362": {
      "model_module": "@jupyter-widgets/base",
      "model_module_version": "2.0.0",
      "model_name": "LayoutModel",
      "state": {
       "height": "auto",
       "padding": "0px 0px 0px 4px",
       "width": "auto"
      }
     },
     "21be1bf2e1a44983aae3bdd643455966": {
      "model_module": "@jupyter-widgets/base",
      "model_module_version": "2.0.0",
      "model_name": "LayoutModel",
      "state": {
       "width": "80px"
      }
     },
     "21e16abebde54c84aed7468c0ac45981": {
      "model_module": "@jupyter-widgets/controls",
      "model_module_version": "2.0.0",
      "model_name": "CheckboxStyleModel",
      "state": {
       "description_width": ""
      }
     },
     "21f4e54b9a5542e293465f030d2ef4aa": {
      "model_module": "@jupyter-widgets/controls",
      "model_module_version": "2.0.0",
      "model_name": "ToggleButtonStyleModel",
      "state": {
       "description_width": "",
       "font_family": null,
       "font_size": null,
       "font_style": null,
       "font_variant": null,
       "font_weight": null,
       "text_color": null,
       "text_decoration": null
      }
     },
     "2201f2bb425a429ab818527e5e5f5362": {
      "model_module": "@jupyter-widgets/controls",
      "model_module_version": "2.0.0",
      "model_name": "ToggleButtonModel",
      "state": {
       "icon": "globe",
       "layout": "IPY_MODEL_86bbdd0ce69940c8a0e76f3afa0cbf81",
       "style": "IPY_MODEL_df7fa06f6aab4b0e95887da4d1d129b7",
       "tooltip": "Search location/data"
      }
     },
     "2292ed89d8a7487290b6870cf5a1674b": {
      "model_module": "@jupyter-widgets/base",
      "model_module_version": "2.0.0",
      "model_name": "LayoutModel",
      "state": {
       "padding": "0px 8px 0px 8px"
      }
     },
     "2294f8dc4f41421e85ef49e5174e1229": {
      "model_module": "@jupyter-widgets/controls",
      "model_module_version": "2.0.0",
      "model_name": "DirectionalLinkModel",
      "state": {
       "source": [
        "IPY_MODEL_0d44976fb19440ab8918189f4ee8b2f0",
        "value"
       ],
       "target": [
        "IPY_MODEL_02ae87f908f043a8bdb2843f4b4ead32",
        "opacity"
       ]
      }
     },
     "232fd19257c94b2bb6ff7b029eefa6e4": {
      "model_module": "@jupyter-widgets/controls",
      "model_module_version": "2.0.0",
      "model_name": "VBoxModel",
      "state": {
       "children": [
        "IPY_MODEL_5db80b252dad4d76a74721147bbac141",
        "IPY_MODEL_b45f3ce67da84dd79536e3e7c9ed1767",
        "IPY_MODEL_1b63944b6a88405ba719fbb9f4d76342",
        "IPY_MODEL_b9271dafb65a4d719ebf52756fd62030",
        "IPY_MODEL_ce6873bc20f44a3cb631ed37a8f34106",
        "IPY_MODEL_97acb150da05438bb1fc0f6822afd09d"
       ],
       "layout": "IPY_MODEL_0750538e09b04979b20e9e0a40f48b2e"
      }
     },
     "233745f66d2f41189f7d69192061e245": {
      "model_module": "@jupyter-widgets/controls",
      "model_module_version": "2.0.0",
      "model_name": "LinkModel",
      "state": {
       "source": [
        "IPY_MODEL_af1fcca608c94e278dbe417011a90fe7",
        "value"
       ],
       "target": [
        "IPY_MODEL_9b784d9ba5524d46875c49c35e9e5018",
        "visible"
       ]
      }
     },
     "23b57c58c73b4afeb0d09aa51c4a8a1b": {
      "model_module": "@jupyter-widgets/base",
      "model_module_version": "2.0.0",
      "model_name": "LayoutModel",
      "state": {}
     },
     "242fd744be3a48afb71022595d4160ab": {
      "model_module": "@jupyter-widgets/base",
      "model_module_version": "2.0.0",
      "model_name": "LayoutModel",
      "state": {
       "height": "18px",
       "width": "140px"
      }
     },
     "244d587dd5804124ba639370f4bc5cce": {
      "model_module": "@jupyter-widgets/controls",
      "model_module_version": "2.0.0",
      "model_name": "RadioButtonsModel",
      "state": {
       "index": null,
       "layout": "IPY_MODEL_f0164f0df3d84b419e8ec9571549d799",
       "style": "IPY_MODEL_0eeefaec231f4e9c970d9a0ba6722ac4"
      }
     },
     "25080325d0ba4044afc4e2311e1e5ee6": {
      "model_module": "jupyter-leaflet",
      "model_module_version": "^0.17",
      "model_name": "LeafletFullScreenControlModel",
      "state": {
       "_model_module_version": "^0.17",
       "_view_module_version": "^0.17",
       "options": [
        "position"
       ]
      }
     },
     "253cec97389b4bd894b7befff65770e0": {
      "model_module": "@jupyter-widgets/controls",
      "model_module_version": "2.0.0",
      "model_name": "ToggleButtonModel",
      "state": {
       "icon": "wrench",
       "layout": "IPY_MODEL_e30b29f8564f42b68351d85d69b9f303",
       "style": "IPY_MODEL_f8f2d583c7cb47018881e38d8b473968",
       "tooltip": "Toolbar"
      }
     },
     "259e278977d84c2393795522643d5d61": {
      "model_module": "@jupyter-widgets/base",
      "model_module_version": "2.0.0",
      "model_name": "LayoutModel",
      "state": {
       "padding": "0px 8px 0px 8px"
      }
     },
     "25b684acef574a6ca9b8adf3314f3060": {
      "model_module": "@jupyter-widgets/controls",
      "model_module_version": "2.0.0",
      "model_name": "CheckboxStyleModel",
      "state": {
       "description_width": ""
      }
     },
     "272fc03f4330490289fdef6306d8d3a9": {
      "model_module": "@jupyter-widgets/controls",
      "model_module_version": "2.0.0",
      "model_name": "VBoxModel",
      "state": {
       "children": [
        "IPY_MODEL_6eb327906a4c4ba89a395e1e3948ec8a",
        "IPY_MODEL_767ca8fa8c5140ae8144dc0e06d93f76"
       ],
       "layout": "IPY_MODEL_29d2e57ca4d84bf2b3750bade80c21a6"
      }
     },
     "2778762efd744984af4dfa6c92fe8094": {
      "model_module": "@jupyter-widgets/base",
      "model_module_version": "2.0.0",
      "model_name": "LayoutModel",
      "state": {
       "width": "80px"
      }
     },
     "27aec45e493e4e1cbb008c4a875633f8": {
      "model_module": "@jupyter-widgets/controls",
      "model_module_version": "2.0.0",
      "model_name": "SliderStyleModel",
      "state": {
       "description_width": ""
      }
     },
     "285eecfcbc45433188d0dc9efda0d6a4": {
      "model_module": "@jupyter-widgets/base",
      "model_module_version": "2.0.0",
      "model_name": "LayoutModel",
      "state": {
       "height": "18px",
       "width": "140px"
      }
     },
     "2904cf699bcb445ba38d8343a08f3af0": {
      "model_module": "@jupyter-widgets/base",
      "model_module_version": "2.0.0",
      "model_name": "LayoutModel",
      "state": {
       "padding": "0px 8px 0px 8px"
      }
     },
     "292dd4d433124eddb9e4e27296f5fd72": {
      "model_module": "@jupyter-widgets/controls",
      "model_module_version": "2.0.0",
      "model_name": "ToggleButtonStyleModel",
      "state": {
       "description_width": "",
       "font_family": null,
       "font_size": null,
       "font_style": null,
       "font_variant": null,
       "font_weight": null,
       "text_color": null,
       "text_decoration": null
      }
     },
     "294f40b711e14a32bb644dc1dda78fc3": {
      "model_module": "ipyevents",
      "model_module_version": "2.0.2",
      "model_name": "EventModel",
      "state": {
       "_supported_key_events": [
        "keydown",
        "keyup"
       ],
       "_supported_mouse_events": [
        "click",
        "auxclick",
        "dblclick",
        "mouseenter",
        "mouseleave",
        "mousedown",
        "mouseup",
        "mousemove",
        "wheel",
        "contextmenu",
        "dragstart",
        "drag",
        "dragend",
        "dragenter",
        "dragover",
        "dragleave",
        "drop"
       ],
       "_supported_touch_events": [
        "touchstart",
        "touchend",
        "touchmove",
        "touchcancel"
       ],
       "_view_module": "@jupyter-widgets/controls",
       "source": "IPY_MODEL_aa9deb775b9f4861af66da95cae28c85",
       "throttle_or_debounce": "",
       "watched_events": [
        "mouseenter",
        "mouseleave"
       ],
       "xy_coordinate_system": ""
      }
     },
     "29818215b7724d72a54ce02dd1a9fd0d": {
      "model_module": "@jupyter-widgets/base",
      "model_module_version": "2.0.0",
      "model_name": "LayoutModel",
      "state": {
       "max_height": "350px",
       "max_width": "340px",
       "overflow": "scroll"
      }
     },
     "29a09ba37e6c417997e7b12708f4ac0c": {
      "model_module": "@jupyter-widgets/base",
      "model_module_version": "2.0.0",
      "model_name": "LayoutModel",
      "state": {
       "max_width": "279px",
       "min_width": "279px"
      }
     },
     "29bdfd62e8c041fa9af9137be9fa683b": {
      "model_module": "@jupyter-widgets/controls",
      "model_module_version": "2.0.0",
      "model_name": "DropdownModel",
      "state": {
       "index": null,
       "layout": "IPY_MODEL_b17565a4fc5047699f8a06cd168e96fe",
       "style": "IPY_MODEL_5252c3c71cf645ecb6881dd7967d7193"
      }
     },
     "29d2e57ca4d84bf2b3750bade80c21a6": {
      "model_module": "@jupyter-widgets/base",
      "model_module_version": "2.0.0",
      "model_name": "LayoutModel",
      "state": {}
     },
     "2a1802f23b9b4e91a1182946e0eb629a": {
      "model_module": "@jupyter-widgets/controls",
      "model_module_version": "2.0.0",
      "model_name": "CheckboxStyleModel",
      "state": {
       "description_width": ""
      }
     },
     "2a1a9e2a6f604fb5908be0daecc5e52d": {
      "model_module": "@jupyter-widgets/base",
      "model_module_version": "2.0.0",
      "model_name": "LayoutModel",
      "state": {}
     },
     "2dac3c7f006f4cd4a934fea174aa3426": {
      "model_module": "@jupyter-widgets/controls",
      "model_module_version": "2.0.0",
      "model_name": "LinkModel",
      "state": {
       "source": [
        "IPY_MODEL_34fc01532b0549ae83315f2f0d7fbf6c",
        "value"
       ],
       "target": [
        "IPY_MODEL_1f382b8f39f347e4af7bee1282fc5789",
        "visible"
       ]
      }
     },
     "2e58d2c15e0344db8492b7b81072a8da": {
      "model_module": "@jupyter-widgets/controls",
      "model_module_version": "2.0.0",
      "model_name": "ToggleButtonStyleModel",
      "state": {
       "description_width": "",
       "font_family": null,
       "font_size": null,
       "font_style": null,
       "font_variant": null,
       "font_weight": null,
       "text_color": null,
       "text_decoration": null
      }
     },
     "2f0d57533fa84f7592ce9189084901c8": {
      "model_module": "jupyter-leaflet",
      "model_module_version": "^0.17",
      "model_name": "LeafletTileLayerModel",
      "state": {
       "_model_module_version": "^0.17",
       "_view_module_version": "^0.17",
       "attribution": "Google Earth Engine",
       "max_zoom": 24,
       "name": "NAIP Image",
       "options": [
        "attribution",
        "bounds",
        "detect_retina",
        "max_native_zoom",
        "max_zoom",
        "min_native_zoom",
        "min_zoom",
        "no_wrap",
        "tile_size",
        "tms",
        "zoom_offset"
       ],
       "url": "https://earthengine.googleapis.com/v1/projects/earthengine-legacy/maps/63ba0f942d1690f3f200113203a2f615-7b997ce661cbcb6475ecc801d1d359fc/tiles/{z}/{x}/{y}"
      }
     },
     "2f643c4dab774ebd9bac8c63e8bf582f": {
      "model_module": "@jupyter-widgets/base",
      "model_module_version": "2.0.0",
      "model_name": "LayoutModel",
      "state": {
       "height": "25px",
       "padding": "0px 0px 0px 5px",
       "width": "25px"
      }
     },
     "2fa72fd961d4433b9181fe1870b83b19": {
      "model_module": "@jupyter-widgets/controls",
      "model_module_version": "2.0.0",
      "model_name": "FloatSliderModel",
      "state": {
       "behavior": "drag-tap",
       "layout": "IPY_MODEL_2778762efd744984af4dfa6c92fe8094",
       "max": 1,
       "readout": false,
       "step": 0.01,
       "style": "IPY_MODEL_edbdda7a97b3462294ed06600c0af71b",
       "value": 1
      }
     },
     "2fd32c67bb424a34a9fb63e56bb29888": {
      "model_module": "@jupyter-widgets/base",
      "model_module_version": "2.0.0",
      "model_name": "LayoutModel",
      "state": {
       "width": "80px"
      }
     },
     "30ca1d66b75c4ad19884c7724b09300b": {
      "model_module": "@jupyter-widgets/controls",
      "model_module_version": "2.0.0",
      "model_name": "LinkModel",
      "state": {
       "source": [
        "IPY_MODEL_a949ee559de6419cb9fab8cdf8449014",
        "value"
       ],
       "target": [
        "IPY_MODEL_d05ba91d02d340ea9c6d1806e89cb460",
        "visible"
       ]
      }
     },
     "30fa73080f494a09bd4f58a4aa6d7253": {
      "model_module": "@jupyter-widgets/controls",
      "model_module_version": "2.0.0",
      "model_name": "ToggleButtonStyleModel",
      "state": {
       "description_width": "",
       "font_family": null,
       "font_size": null,
       "font_style": null,
       "font_variant": null,
       "font_weight": null,
       "text_color": null,
       "text_decoration": null
      }
     },
     "317d2f09a3784965956e355ccb45b651": {
      "model_module": "@jupyter-widgets/controls",
      "model_module_version": "2.0.0",
      "model_name": "FloatSliderModel",
      "state": {
       "behavior": "drag-tap",
       "layout": "IPY_MODEL_a662561e0c5549e387a02b0869693f04",
       "max": 1,
       "readout": false,
       "step": 0.01,
       "style": "IPY_MODEL_08f550558fab45b39c25f14f2c6d459a",
       "value": 1
      }
     },
     "3246d0e6b3184feab5e9fbe4e0abf0a0": {
      "model_module": "@jupyter-widgets/controls",
      "model_module_version": "2.0.0",
      "model_name": "ToggleButtonStyleModel",
      "state": {
       "description_width": "",
       "font_family": null,
       "font_size": null,
       "font_style": null,
       "font_variant": null,
       "font_weight": null,
       "text_color": null,
       "text_decoration": null
      }
     },
     "32b6837a26c74784802478ba07263fc9": {
      "model_module": "@jupyter-widgets/controls",
      "model_module_version": "2.0.0",
      "model_name": "ToggleButtonStyleModel",
      "state": {
       "description_width": "",
       "font_family": null,
       "font_size": null,
       "font_style": null,
       "font_variant": null,
       "font_weight": null,
       "text_color": null,
       "text_decoration": null
      }
     },
     "33550ae1e986428f89310d441bc7c2ce": {
      "model_module": "@jupyter-widgets/controls",
      "model_module_version": "2.0.0",
      "model_name": "ToggleButtonStyleModel",
      "state": {
       "description_width": "",
       "font_family": null,
       "font_size": null,
       "font_style": null,
       "font_variant": null,
       "font_weight": null,
       "text_color": null,
       "text_decoration": null
      }
     },
     "33840fbd61134a94a2499a6a1f24b133": {
      "model_module": "@jupyter-widgets/controls",
      "model_module_version": "2.0.0",
      "model_name": "ToggleButtonModel",
      "state": {
       "button_style": "primary",
       "icon": "times",
       "layout": "IPY_MODEL_6aba153ae1484a50b9168d49d79684ea",
       "style": "IPY_MODEL_32b6837a26c74784802478ba07263fc9",
       "tooltip": "Close the tool"
      }
     },
     "33c2adda968a48d99e0fbc2a0d54d8fe": {
      "model_module": "@jupyter-widgets/controls",
      "model_module_version": "2.0.0",
      "model_name": "CheckboxStyleModel",
      "state": {
       "description_width": ""
      }
     },
     "343ae3c171dd4f96b5e2ad5993941e01": {
      "model_module": "@jupyter-widgets/base",
      "model_module_version": "2.0.0",
      "model_name": "LayoutModel",
      "state": {
       "padding": "0px 8px 0px 8px"
      }
     },
     "343eb43335bb457dbfe01479bd7bc7be": {
      "model_module": "@jupyter-widgets/base",
      "model_module_version": "2.0.0",
      "model_name": "LayoutModel",
      "state": {
       "height": "18px",
       "width": "140px"
      }
     },
     "34ac48258c794490823a22d2d9fa8460": {
      "model_module": "@jupyter-widgets/controls",
      "model_module_version": "2.0.0",
      "model_name": "ToggleButtonStyleModel",
      "state": {
       "description_width": "",
       "font_family": null,
       "font_size": null,
       "font_style": null,
       "font_variant": null,
       "font_weight": null,
       "text_color": null,
       "text_decoration": null
      }
     },
     "34b8acd9acf7408eab5d8c3bb749d7d6": {
      "model_module": "jupyter-leaflet",
      "model_module_version": "^0.17",
      "model_name": "LeafletWidgetControlModel",
      "state": {
       "_model_module": "jupyter-leaflet",
       "_model_module_version": "^0.17",
       "_view_count": null,
       "_view_module": "jupyter-leaflet",
       "_view_module_version": "^0.17",
       "options": [
        "position",
        "transparent_bg"
       ],
       "position": "topleft",
       "widget": "IPY_MODEL_3f92de19cf684c1e9d682e9f9a9997ac"
      }
     },
     "34fc01532b0549ae83315f2f0d7fbf6c": {
      "model_module": "@jupyter-widgets/controls",
      "model_module_version": "2.0.0",
      "model_name": "CheckboxModel",
      "state": {
       "description": "Google Maps",
       "disabled": false,
       "indent": false,
       "layout": "IPY_MODEL_9571cf2374224d27857ac540dd57f562",
       "style": "IPY_MODEL_42f5685f71f84ab5b751b5680e2d5348",
       "value": true
      }
     },
     "3510f03926d44b6ba0c74d6e662c9fc3": {
      "model_module": "jupyter-leaflet",
      "model_module_version": "^0.17",
      "model_name": "LeafletTileLayerModel",
      "state": {
       "_model_module_version": "^0.17",
       "_view_module_version": "^0.17",
       "attribution": "Google Earth Engine",
       "max_zoom": 24,
       "name": "Landsat TM Image",
       "options": [
        "attribution",
        "bounds",
        "detect_retina",
        "max_native_zoom",
        "max_zoom",
        "min_native_zoom",
        "min_zoom",
        "no_wrap",
        "tile_size",
        "tms",
        "zoom_offset"
       ],
       "url": "https://earthengine.googleapis.com/v1/projects/earthengine-legacy/maps/a8fcc1f67d3571a0b8ec8d9d9dd1c819-682da25cfb849f6636d3c03e70048627/tiles/{z}/{x}/{y}"
      }
     },
     "3577eee88b0f4a2981e691ef2c5e083e": {
      "model_module": "@jupyter-widgets/base",
      "model_module_version": "2.0.0",
      "model_name": "LayoutModel",
      "state": {
       "width": "500px"
      }
     },
     "3718dfa35a994169b950568b37473180": {
      "model_module": "@jupyter-widgets/controls",
      "model_module_version": "2.0.0",
      "model_name": "LinkModel",
      "state": {
       "source": [
        "IPY_MODEL_c3561cf801db475784fa5bd45499280b",
        "value"
       ],
       "target": [
        "IPY_MODEL_1f382b8f39f347e4af7bee1282fc5789",
        "visible"
       ]
      }
     },
     "3827c2999f4f43638e3dbba3b5e10d8b": {
      "model_module": "@jupyter-widgets/base",
      "model_module_version": "2.0.0",
      "model_name": "LayoutModel",
      "state": {
       "height": "18px",
       "width": "140px"
      }
     },
     "386b135e8e7d4878adcd4e0292797c65": {
      "model_module": "@jupyter-widgets/controls",
      "model_module_version": "2.0.0",
      "model_name": "ToggleButtonModel",
      "state": {
       "button_style": "primary",
       "icon": "random",
       "layout": "IPY_MODEL_5ac2926d2f2747d2bab21f5e7eaa0bbc",
       "style": "IPY_MODEL_5251bfbefdfa4ec184c5d228013a8898",
       "tooltip": "Sankey plots"
      }
     },
     "388cc5c37a64499ab41a39d1ff617b37": {
      "model_module": "@jupyter-widgets/controls",
      "model_module_version": "2.0.0",
      "model_name": "ToggleButtonStyleModel",
      "state": {
       "description_width": "",
       "font_family": null,
       "font_size": null,
       "font_style": null,
       "font_variant": null,
       "font_weight": null,
       "text_color": null,
       "text_decoration": null
      }
     },
     "3893d7c3aa95491a8c35ba6e359c0645": {
      "model_module": "@jupyter-widgets/base",
      "model_module_version": "2.0.0",
      "model_name": "LayoutModel",
      "state": {
       "width": "80px"
      }
     },
     "38991a5a40044108836a0a0537be8031": {
      "model_module": "@jupyter-widgets/controls",
      "model_module_version": "2.0.0",
      "model_name": "FloatSliderModel",
      "state": {
       "behavior": "drag-tap",
       "layout": "IPY_MODEL_c84f17c7154948068875daa82f954bcc",
       "max": 1,
       "readout": false,
       "step": 0.01,
       "style": "IPY_MODEL_f476cdfed00b4f02b5d744fe1bcb3e6e",
       "value": 1
      }
     },
     "3953ce7ca4b04749b736b9944315e078": {
      "model_module": "@jupyter-widgets/base",
      "model_module_version": "2.0.0",
      "model_name": "LayoutModel",
      "state": {
       "height": "auto",
       "padding": "0px 0px 0px 4px",
       "width": "auto"
      }
     },
     "3959970e4d174392ba2eef27625dfa5e": {
      "model_module": "@jupyter-widgets/controls",
      "model_module_version": "2.0.0",
      "model_name": "VBoxModel",
      "state": {
       "children": [
        "IPY_MODEL_622d53dc499e4c9b8fd32cef5d0e6cb4",
        "IPY_MODEL_7d7616a9f456414a9aa603c4ad9d4b8f",
        "IPY_MODEL_0bf897993fbd4378bdc94111584a3f26",
        "IPY_MODEL_20f5ac6384044c6295c06de922a1fed3",
        "IPY_MODEL_f754b0ca780c47f3aa5c76caa020b85e"
       ],
       "layout": "IPY_MODEL_2141f4189c834d1b86a10d26d88cb985"
      }
     },
     "3a31b9ce1a65451bb4db154ccf989401": {
      "model_module": "jupyter-leaflet",
      "model_module_version": "^0.17",
      "model_name": "LeafletAttributionControlModel",
      "state": {
       "_model_module_version": "^0.17",
       "_view_module_version": "^0.17",
       "options": [
        "position",
        "prefix"
       ],
       "position": "bottomright",
       "prefix": "ipyleaflet"
      }
     },
     "3a7ef109acf24188af10d3e8c759497e": {
      "model_module": "@jupyter-widgets/base",
      "model_module_version": "2.0.0",
      "model_name": "LayoutModel",
      "state": {
       "width": "80px"
      }
     },
     "3b67cd04e54c41249e8d8722207c9854": {
      "model_module": "@jupyter-widgets/base",
      "model_module_version": "2.0.0",
      "model_name": "LayoutModel",
      "state": {
       "height": "18px",
       "width": "140px"
      }
     },
     "3b6bfef2dec54d4e9ef581330634374c": {
      "model_module": "jupyter-leaflet",
      "model_module_version": "^0.17",
      "model_name": "LeafletAttributionControlModel",
      "state": {
       "_model_module_version": "^0.17",
       "_view_module_version": "^0.17",
       "options": [
        "position",
        "prefix"
       ],
       "position": "bottomright",
       "prefix": "ipyleaflet"
      }
     },
     "3c13280c4dac44d69b985ba76e6dc78c": {
      "model_module": "@jupyter-widgets/controls",
      "model_module_version": "2.0.0",
      "model_name": "HBoxModel",
      "state": {
       "children": [
        "IPY_MODEL_18a36ac1b8f948c58c4bd0a26ddf5c61",
        "IPY_MODEL_f8b112fd54c946929865518864e94a5f",
        "IPY_MODEL_2fa72fd961d4433b9181fe1870b83b19"
       ],
       "layout": "IPY_MODEL_cc470f12e0f64b5686290dd090195c74"
      }
     },
     "3f92de19cf684c1e9d682e9f9a9997ac": {
      "model_module": "@jupyter-widgets/controls",
      "model_module_version": "2.0.0",
      "model_name": "HBoxModel",
      "state": {
       "_view_count": 6,
       "children": [
        "IPY_MODEL_8622e48825aa4e7fb97e47b1d879ed4b"
       ],
       "layout": "IPY_MODEL_bc435b45e79b4ba3810d5b21cc28b33a"
      }
     },
     "401f6302b84742699e802c49b7742d60": {
      "model_module": "@jupyter-widgets/controls",
      "model_module_version": "2.0.0",
      "model_name": "ToggleButtonStyleModel",
      "state": {
       "description_width": "",
       "font_family": null,
       "font_size": null,
       "font_style": null,
       "font_variant": null,
       "font_weight": null,
       "text_color": null,
       "text_decoration": null
      }
     },
     "40281b4a49c345a28f5bc5539b9ad629": {
      "model_module": "@jupyter-widgets/controls",
      "model_module_version": "2.0.0",
      "model_name": "ToggleButtonStyleModel",
      "state": {
       "description_width": "",
       "font_family": null,
       "font_size": null,
       "font_style": null,
       "font_variant": null,
       "font_weight": null,
       "text_color": null,
       "text_decoration": null
      }
     },
     "40c8b345635f4f08b185d9cda521746a": {
      "model_module": "@jupyter-widgets/controls",
      "model_module_version": "2.0.0",
      "model_name": "ToggleButtonStyleModel",
      "state": {
       "description_width": "",
       "font_family": null,
       "font_size": null,
       "font_style": null,
       "font_variant": null,
       "font_weight": null,
       "text_color": null,
       "text_decoration": null
      }
     },
     "40de208cf6324b4093226b5108019743": {
      "model_module": "@jupyter-widgets/base",
      "model_module_version": "2.0.0",
      "model_name": "LayoutModel",
      "state": {
       "height": "auto",
       "padding": "0px 0px 0px 4px",
       "width": "auto"
      }
     },
     "411791cd897d45ecba4d420c4df9a180": {
      "model_module": "@jupyter-widgets/controls",
      "model_module_version": "2.0.0",
      "model_name": "ToggleButtonModel",
      "state": {
       "button_style": "primary",
       "icon": "retweet",
       "layout": "IPY_MODEL_2182b9b498e7404ea6f3c8d4e17c1362",
       "style": "IPY_MODEL_7f67ab225f9340f9ad0e421054a973b4",
       "tooltip": "Convert Earth Engine JavaScript to Python"
      }
     },
     "425e8e4bce9446cdae6ab10a5e7b5337": {
      "model_module": "@jupyter-widgets/base",
      "model_module_version": "2.0.0",
      "model_name": "LayoutModel",
      "state": {
       "height": "auto",
       "padding": "0px 0px 0px 4px",
       "width": "auto"
      }
     },
     "427800ed906e47b59790c4388f037d2e": {
      "model_module": "@jupyter-widgets/controls",
      "model_module_version": "2.0.0",
      "model_name": "ToggleButtonStyleModel",
      "state": {
       "description_width": "",
       "font_family": null,
       "font_size": null,
       "font_style": null,
       "font_variant": null,
       "font_weight": null,
       "text_color": null,
       "text_decoration": null
      }
     },
     "42eb515f90d846dd9dd72bc4b7f013a0": {
      "model_module": "@jupyter-widgets/controls",
      "model_module_version": "2.0.0",
      "model_name": "ToggleButtonStyleModel",
      "state": {
       "description_width": "",
       "font_family": null,
       "font_size": null,
       "font_style": null,
       "font_variant": null,
       "font_weight": null,
       "text_color": null,
       "text_decoration": null
      }
     },
     "42f5685f71f84ab5b751b5680e2d5348": {
      "model_module": "@jupyter-widgets/controls",
      "model_module_version": "2.0.0",
      "model_name": "CheckboxStyleModel",
      "state": {
       "description_width": ""
      }
     },
     "43e5a8a2a5f54faa9936ca28498cb3bc": {
      "model_module": "@jupyter-widgets/base",
      "model_module_version": "2.0.0",
      "model_name": "LayoutModel",
      "state": {
       "height": "auto",
       "padding": "0px 0px 0px 4px",
       "width": "auto"
      }
     },
     "43f84a30261a4f87b14665a0088d134e": {
      "model_module": "@jupyter-widgets/controls",
      "model_module_version": "2.0.0",
      "model_name": "SliderStyleModel",
      "state": {
       "description_width": ""
      }
     },
     "441f0e09c0a4483aad64e17c27741850": {
      "model_module": "@jupyter-widgets/controls",
      "model_module_version": "2.0.0",
      "model_name": "HBoxModel",
      "state": {
       "children": [
        "IPY_MODEL_e5c410951a524f0f9ac95c63a61e68ea",
        "IPY_MODEL_0d98089078034325a40e804ed00ff8d1"
       ],
       "layout": "IPY_MODEL_5a99d7c0559b4c0089f5706a748bfb49"
      }
     },
     "443a1c63820b49cdb98cee4894433e69": {
      "model_module": "@jupyter-widgets/base",
      "model_module_version": "2.0.0",
      "model_name": "LayoutModel",
      "state": {
       "height": "auto",
       "padding": "0px 0px 0px 4px",
       "width": "auto"
      }
     },
     "44868e0e9fe44d5d8b7d05147cbf3d44": {
      "model_module": "@jupyter-widgets/controls",
      "model_module_version": "2.0.0",
      "model_name": "ToggleButtonStyleModel",
      "state": {
       "description_width": "",
       "font_family": null,
       "font_size": null,
       "font_style": null,
       "font_variant": null,
       "font_weight": null,
       "text_color": null,
       "text_decoration": null
      }
     },
     "44d4773fcc8b4063b081c54c27d80c03": {
      "model_module": "@jupyter-widgets/base",
      "model_module_version": "2.0.0",
      "model_name": "LayoutModel",
      "state": {
       "padding": "0px 8px 0px 8px"
      }
     },
     "4626776f3b994dccad1b0288e8b4bf8c": {
      "model_module": "@jupyter-widgets/controls",
      "model_module_version": "2.0.0",
      "model_name": "DirectionalLinkModel",
      "state": {
       "source": [
        "IPY_MODEL_b30875e2e62b4be4ade1283986f958a2",
        "value"
       ],
       "target": [
        "IPY_MODEL_3510f03926d44b6ba0c74d6e662c9fc3",
        "opacity"
       ]
      }
     },
     "4636d8513ef94c948db94f060ffa9371": {
      "model_module": "@jupyter-widgets/controls",
      "model_module_version": "2.0.0",
      "model_name": "HBoxModel",
      "state": {
       "children": [
        "IPY_MODEL_52ba3b054b98480f904876211bfae9dd",
        "IPY_MODEL_9d7e958bd23c4f69a2e8acbae4edf2a8",
        "IPY_MODEL_974951ead9124877894cc9c2719fe7c3"
       ],
       "layout": "IPY_MODEL_2904cf699bcb445ba38d8343a08f3af0"
      }
     },
     "46c412cefd9b4016befca24956c73c0a": {
      "model_module": "@jupyter-widgets/base",
      "model_module_version": "2.0.0",
      "model_name": "LayoutModel",
      "state": {
       "width": "80px"
      }
     },
     "46cadd22a8344a02b3a5e9ad9df9adb8": {
      "model_module": "@jupyter-widgets/base",
      "model_module_version": "2.0.0",
      "model_name": "LayoutModel",
      "state": {
       "height": "18px",
       "width": "140px"
      }
     },
     "46d5b46e52ea40a1982ea536215eda16": {
      "model_module": "@jupyter-widgets/controls",
      "model_module_version": "2.0.0",
      "model_name": "ToggleButtonModel",
      "state": {
       "icon": "gear",
       "layout": "IPY_MODEL_6e87daa7b4174c99aa338515133ae7d6",
       "style": "IPY_MODEL_40281b4a49c345a28f5bc5539b9ad629",
       "tooltip": "Google Maps"
      }
     },
     "47cbfce34f2f4b0ba16e776fbdab9a18": {
      "model_module": "@jupyter-widgets/controls",
      "model_module_version": "2.0.0",
      "model_name": "ToggleButtonModel",
      "state": {
       "button_style": "primary",
       "icon": "plus",
       "layout": "IPY_MODEL_443a1c63820b49cdb98cee4894433e69",
       "style": "IPY_MODEL_878e5e89e1514bf992d33b4b637ab7cd",
       "tooltip": "Expand toolbar"
      }
     },
     "48c641d21b2e4bf8b7a96cb6b091c8f4": {
      "model_module": "@jupyter-widgets/controls",
      "model_module_version": "2.0.0",
      "model_name": "CheckboxStyleModel",
      "state": {
       "description_width": ""
      }
     },
     "48d9f0665f8b4ee893dbb3ce686d8ffb": {
      "model_module": "@jupyter-widgets/controls",
      "model_module_version": "2.0.0",
      "model_name": "FloatSliderModel",
      "state": {
       "behavior": "drag-tap",
       "layout": "IPY_MODEL_9e17b493dfff4f599e9661736f9e6c8f",
       "max": 1,
       "readout": false,
       "step": 0.01,
       "style": "IPY_MODEL_dc40f06f85814834b7126bf0a99c8a7d",
       "value": 1
      }
     },
     "493b3d15974b4d4fb4eac2021e9a3fb0": {
      "model_module": "@jupyter-widgets/controls",
      "model_module_version": "2.0.0",
      "model_name": "DirectionalLinkModel",
      "state": {
       "source": [
        "IPY_MODEL_317d2f09a3784965956e355ccb45b651",
        "value"
       ],
       "target": [
        "IPY_MODEL_1f382b8f39f347e4af7bee1282fc5789",
        "opacity"
       ]
      }
     },
     "49b133d9109a432a8ef9cb913d641dc4": {
      "model_module": "@jupyter-widgets/base",
      "model_module_version": "2.0.0",
      "model_name": "LayoutModel",
      "state": {
       "height": "auto",
       "padding": "0px 0px 0px 4px",
       "width": "auto"
      }
     },
     "49b9f8ce861a48cdba3022303d8a8662": {
      "model_module": "@jupyter-widgets/controls",
      "model_module_version": "2.0.0",
      "model_name": "HBoxModel",
      "state": {
       "children": [
        "IPY_MODEL_af1fcca608c94e278dbe417011a90fe7",
        "IPY_MODEL_09e707e5af5f4fdb96cf9b4d93a62d1b",
        "IPY_MODEL_f56523d158e84848bc386959e2801c3f"
       ],
       "layout": "IPY_MODEL_b096dd2b285342b8844b565d903618d9"
      }
     },
     "4b005a8f19fc42a892142dfdf482193e": {
      "model_module": "@jupyter-widgets/base",
      "model_module_version": "2.0.0",
      "model_name": "LayoutModel",
      "state": {}
     },
     "4c0c3b7ed0814016abfca3545260047f": {
      "model_module": "@jupyter-widgets/controls",
      "model_module_version": "2.0.0",
      "model_name": "CheckboxStyleModel",
      "state": {
       "description_width": ""
      }
     },
     "4ccad87899024ce49b9272ec14e852ca": {
      "model_module": "@jupyter-widgets/base",
      "model_module_version": "2.0.0",
      "model_name": "LayoutModel",
      "state": {
       "height": "18px",
       "width": "140px"
      }
     },
     "4d67ee6bb30d42bd9d02d4330b11a53b": {
      "model_module": "@jupyter-widgets/controls",
      "model_module_version": "2.0.0",
      "model_name": "ToggleButtonModel",
      "state": {
       "button_style": "primary",
       "icon": "adjust",
       "layout": "IPY_MODEL_721ea49e68cb4ff2a465bb1982caac53",
       "style": "IPY_MODEL_732b90bdc6484dc68e1ab45fed149eca",
       "tooltip": "Planet imagery"
      }
     },
     "4d6d7de9f6f64486839c05a04c12c58b": {
      "model_module": "@jupyter-widgets/base",
      "model_module_version": "2.0.0",
      "model_name": "LayoutModel",
      "state": {
       "max_height": "350px",
       "max_width": "340px",
       "overflow": "scroll"
      }
     },
     "4e169b150b7a4580857938fd6f28e145": {
      "model_module": "@jupyter-widgets/controls",
      "model_module_version": "2.0.0",
      "model_name": "ToggleButtonModel",
      "state": {
       "button_style": "primary",
       "icon": "times",
       "layout": "IPY_MODEL_fbe4abace37e4a43bce21044656d4861",
       "style": "IPY_MODEL_21f4e54b9a5542e293465f030d2ef4aa",
       "tooltip": "Close the tool"
      }
     },
     "4e954ea1b71746aca7c27be915464ab2": {
      "model_module": "@jupyter-widgets/base",
      "model_module_version": "2.0.0",
      "model_name": "LayoutModel",
      "state": {
       "height": "25px",
       "padding": "0px 0px 0px 5px",
       "width": "25px"
      }
     },
     "4edc16741ae44406b858a7f39301e061": {
      "model_module": "@jupyter-widgets/controls",
      "model_module_version": "2.0.0",
      "model_name": "CheckboxStyleModel",
      "state": {
       "description_width": ""
      }
     },
     "4f6fe6ad4517487f885bfd88f71efee0": {
      "model_module": "@jupyter-widgets/controls",
      "model_module_version": "2.0.0",
      "model_name": "HBoxModel",
      "state": {
       "children": [
        "IPY_MODEL_c3561cf801db475784fa5bd45499280b",
        "IPY_MODEL_f89e52e681bf45d78f32b7a25a38b318",
        "IPY_MODEL_110a07d3ed334e24beea1918ef3f3fec"
       ],
       "layout": "IPY_MODEL_afbf974d5b054b48986e18b0cb988c04"
      }
     },
     "5009a939b3cd462e874cc92b55f60a79": {
      "model_module": "@jupyter-widgets/controls",
      "model_module_version": "2.0.0",
      "model_name": "LinkModel",
      "state": {
       "source": [
        "IPY_MODEL_984e8399910242a4b53e4355e0837a29",
        "value"
       ],
       "target": [
        "IPY_MODEL_9b784d9ba5524d46875c49c35e9e5018",
        "visible"
       ]
      }
     },
     "50cb0409a0354f9c8dcc18d0576e6afc": {
      "model_module": "@jupyter-widgets/controls",
      "model_module_version": "2.0.0",
      "model_name": "HTMLModel",
      "state": {
       "layout": "IPY_MODEL_0a7fdfad65074ae484c54c4bd267fcd9",
       "style": "IPY_MODEL_ecee8ccac2fc476289754b1848f50f73"
      }
     },
     "50f259bd76ce4b7fa4ad93358dcfa422": {
      "model_module": "@jupyter-widgets/base",
      "model_module_version": "2.0.0",
      "model_name": "LayoutModel",
      "state": {
       "height": "28px",
       "padding": "0px 0px 0px 4px",
       "width": "28px"
      }
     },
     "50f3f1b22a294c19aed215b6b8e005aa": {
      "model_module": "jupyter-leaflet",
      "model_module_version": "^0.17",
      "model_name": "LeafletMapStyleModel",
      "state": {
       "_model_module_version": "^0.17"
      }
     },
     "51177424ecd34023b5265dcf2c5fae3c": {
      "model_module": "@jupyter-widgets/controls",
      "model_module_version": "2.0.0",
      "model_name": "ToggleButtonModel",
      "state": {
       "icon": "server",
       "layout": "IPY_MODEL_79d964ebc9c442a38548e2aa5aa0ffda",
       "style": "IPY_MODEL_73f837cd2b62443fbabd6660550907e1",
       "tooltip": "Layer Manager",
       "value": true
      }
     },
     "514590d0ac6d482a9016e80ba1dc3ed7": {
      "model_module": "@jupyter-widgets/controls",
      "model_module_version": "2.0.0",
      "model_name": "ToggleButtonsStyleModel",
      "state": {
       "button_width": "110px",
       "description_width": ""
      }
     },
     "514999363aa0422ea5844ceb6500422c": {
      "model_module": "@jupyter-widgets/base",
      "model_module_version": "2.0.0",
      "model_name": "LayoutModel",
      "state": {
       "max_width": "57px",
       "min_width": "57px"
      }
     },
     "515905bd87db4be782b3d9c7162434ba": {
      "model_module": "@jupyter-widgets/controls",
      "model_module_version": "2.0.0",
      "model_name": "FloatSliderModel",
      "state": {
       "behavior": "drag-tap",
       "layout": "IPY_MODEL_857ac59ee1024b7492ba908c42cd6b54",
       "max": 1,
       "readout": false,
       "step": 0.01,
       "style": "IPY_MODEL_7629a1719f7c48b2aef692ddf64fb9e9",
       "value": 1
      }
     },
     "5197c4ce09854c92a728acdb9c9ccfe5": {
      "model_module": "@jupyter-widgets/base",
      "model_module_version": "2.0.0",
      "model_name": "LayoutModel",
      "state": {
       "width": "80px"
      }
     },
     "5251bfbefdfa4ec184c5d228013a8898": {
      "model_module": "@jupyter-widgets/controls",
      "model_module_version": "2.0.0",
      "model_name": "ToggleButtonStyleModel",
      "state": {
       "description_width": "",
       "font_family": null,
       "font_size": null,
       "font_style": null,
       "font_variant": null,
       "font_weight": null,
       "text_color": null,
       "text_decoration": null
      }
     },
     "5252c3c71cf645ecb6881dd7967d7193": {
      "model_module": "@jupyter-widgets/controls",
      "model_module_version": "2.0.0",
      "model_name": "DescriptionStyleModel",
      "state": {
       "description_width": ""
      }
     },
     "52a464d328ae491ab59477cef818e509": {
      "model_module": "@jupyter-widgets/controls",
      "model_module_version": "2.0.0",
      "model_name": "VBoxModel",
      "state": {
       "children": [
        "IPY_MODEL_6e512e8903734f2ea594bd1b9660ef1e",
        "IPY_MODEL_4f6fe6ad4517487f885bfd88f71efee0",
        "IPY_MODEL_80e7c117071547fd8140bf92d8f24a91",
        "IPY_MODEL_3c13280c4dac44d69b985ba76e6dc78c",
        "IPY_MODEL_4636d8513ef94c948db94f060ffa9371"
       ],
       "layout": "IPY_MODEL_06e941e70a264974ba6dfc9dc3b9f9fd"
      }
     },
     "52ba3b054b98480f904876211bfae9dd": {
      "model_module": "@jupyter-widgets/controls",
      "model_module_version": "2.0.0",
      "model_name": "CheckboxModel",
      "state": {
       "description": "Landsat TM Image",
       "disabled": false,
       "indent": false,
       "layout": "IPY_MODEL_285eecfcbc45433188d0dc9efda0d6a4",
       "style": "IPY_MODEL_d63cc2c841ac41b9921caf3f721c78d8",
       "value": true
      }
     },
     "52efea42a5c54fd696f8466b01de9b74": {
      "model_module": "@jupyter-widgets/base",
      "model_module_version": "2.0.0",
      "model_name": "LayoutModel",
      "state": {}
     },
     "5358a3c7fefd4b9b956eae9bb17662b8": {
      "model_module": "jupyter-leaflet",
      "model_module_version": "^0.17",
      "model_name": "LeafletAttributionControlModel",
      "state": {
       "_model_module_version": "^0.17",
       "_view_module_version": "^0.17",
       "options": [
        "position",
        "prefix"
       ],
       "position": "bottomright",
       "prefix": "ipyleaflet"
      }
     },
     "537fb2ed6d804f699496a62504d209a4": {
      "model_module": "@jupyter-widgets/base",
      "model_module_version": "2.0.0",
      "model_name": "LayoutModel",
      "state": {
       "height": "25px",
       "padding": "0px 0px 0px 5px",
       "width": "25px"
      }
     },
     "5384333715de4271b58736008b7c7b53": {
      "model_module": "@jupyter-widgets/controls",
      "model_module_version": "2.0.0",
      "model_name": "CheckboxStyleModel",
      "state": {
       "description_width": ""
      }
     },
     "54394d509cef49d28ac22bc3ec1d74e1": {
      "model_module": "@jupyter-widgets/controls",
      "model_module_version": "2.0.0",
      "model_name": "ToggleButtonStyleModel",
      "state": {
       "description_width": "",
       "font_family": null,
       "font_size": null,
       "font_style": null,
       "font_variant": null,
       "font_weight": null,
       "text_color": null,
       "text_decoration": null
      }
     },
     "5448455d2eee40cb98b928a562cc1a63": {
      "model_module": "jupyter-leaflet",
      "model_module_version": "^0.17",
      "model_name": "LeafletWidgetControlModel",
      "state": {
       "_model_module": "jupyter-leaflet",
       "_model_module_version": "^0.17",
       "_view_count": null,
       "_view_module": "jupyter-leaflet",
       "_view_module_version": "^0.17",
       "options": [
        "position",
        "transparent_bg"
       ],
       "position": "topright",
       "widget": "IPY_MODEL_aa9deb775b9f4861af66da95cae28c85"
      }
     },
     "546bd4be660249cd918a9ae0cd113e91": {
      "model_module": "@jupyter-widgets/base",
      "model_module_version": "2.0.0",
      "model_name": "LayoutModel",
      "state": {
       "height": "18px",
       "width": "140px"
      }
     },
     "54eb2755abdc497ebf7008b5538fa2e7": {
      "model_module": "@jupyter-widgets/base",
      "model_module_version": "2.0.0",
      "model_name": "LayoutModel",
      "state": {
       "grid_gap": "1px 1px",
       "grid_template_columns": "32px 32px 32px ",
       "grid_template_rows": "32px 32px ",
       "padding": "5px",
       "width": "109px"
      }
     },
     "54ef891d58fc4243b52e55c79388a6a9": {
      "model_module": "@jupyter-widgets/controls",
      "model_module_version": "2.0.0",
      "model_name": "ToggleButtonStyleModel",
      "state": {
       "description_width": "",
       "font_family": null,
       "font_size": null,
       "font_style": null,
       "font_variant": null,
       "font_weight": null,
       "text_color": null,
       "text_decoration": null
      }
     },
     "580237c3a17e4b549ca3a8653b652407": {
      "model_module": "@jupyter-widgets/controls",
      "model_module_version": "2.0.0",
      "model_name": "ToggleButtonModel",
      "state": {
       "icon": "gear",
       "layout": "IPY_MODEL_cb8613c909c84f748f9d6f26b5f4cb48",
       "style": "IPY_MODEL_94545e79ec87406791b4497484ba76de",
       "tooltip": "Google Maps"
      }
     },
     "5803f2df29de488c80084c2acf8a3f60": {
      "model_module": "@jupyter-widgets/controls",
      "model_module_version": "2.0.0",
      "model_name": "ToggleButtonModel",
      "state": {
       "icon": "server",
       "layout": "IPY_MODEL_b9128922f73946a39ec89e12d7cdd9cc",
       "style": "IPY_MODEL_f2a05f6a5f1d4c958510de19eebb73d4",
       "tooltip": "Layers"
      }
     },
     "580b093ffb1f45b88d7ad22b773a1445": {
      "model_module": "@jupyter-widgets/controls",
      "model_module_version": "2.0.0",
      "model_name": "ToggleButtonModel",
      "state": {
       "icon": "gear",
       "layout": "IPY_MODEL_4e954ea1b71746aca7c27be915464ab2",
       "style": "IPY_MODEL_fd0130f6dcd34c5385196b2f4697a814",
       "tooltip": "MODIS Image"
      }
     },
     "58b707b13ab34b548ce6796cb1675cf2": {
      "model_module": "@jupyter-widgets/controls",
      "model_module_version": "2.0.0",
      "model_name": "LinkModel",
      "state": {
       "source": [
        "IPY_MODEL_d9385acf4b4942d9bc45dfdca87f75a1",
        "value"
       ],
       "target": [
        "IPY_MODEL_1f382b8f39f347e4af7bee1282fc5789",
        "visible"
       ]
      }
     },
     "591bdef5642147c1a1707457f10e21d8": {
      "model_module": "@jupyter-widgets/base",
      "model_module_version": "2.0.0",
      "model_name": "LayoutModel",
      "state": {
       "height": "auto",
       "padding": "0px 0px 0px 4px",
       "width": "auto"
      }
     },
     "5a99d7c0559b4c0089f5706a748bfb49": {
      "model_module": "@jupyter-widgets/base",
      "model_module_version": "2.0.0",
      "model_name": "LayoutModel",
      "state": {}
     },
     "5ac2926d2f2747d2bab21f5e7eaa0bbc": {
      "model_module": "@jupyter-widgets/base",
      "model_module_version": "2.0.0",
      "model_name": "LayoutModel",
      "state": {
       "height": "auto",
       "padding": "0px 0px 0px 4px",
       "width": "auto"
      }
     },
     "5af99d1c31e4428eac497cc57fec8d8a": {
      "model_module": "@jupyter-widgets/controls",
      "model_module_version": "2.0.0",
      "model_name": "ToggleButtonStyleModel",
      "state": {
       "description_width": "",
       "font_family": null,
       "font_size": null,
       "font_style": null,
       "font_variant": null,
       "font_weight": null,
       "text_color": null,
       "text_decoration": null
      }
     },
     "5b34994be2e843598e8f56e4ae5066cd": {
      "model_module": "@jupyter-widgets/controls",
      "model_module_version": "2.0.0",
      "model_name": "ToggleButtonModel",
      "state": {
       "button_style": "primary",
       "icon": "fast-forward",
       "layout": "IPY_MODEL_89c5cf3b895f4bd284b58454632378a2",
       "style": "IPY_MODEL_7b9f7c93265a46f59417296998d63636",
       "tooltip": "Activate timeslider"
      }
     },
     "5b88d7cca5684330a9e66e2d53ab152e": {
      "model_module": "@jupyter-widgets/controls",
      "model_module_version": "2.0.0",
      "model_name": "GridBoxModel",
      "state": {
       "children": [
        "IPY_MODEL_ecb50b91611c4be4b175fbf9be67a9f8",
        "IPY_MODEL_c5b886054cbb4459a9e70d5caa306374",
        "IPY_MODEL_a2b89ea84acb4ea8bde1b899b416be68",
        "IPY_MODEL_cf6d6a020fa7424a8b9db647df149e23",
        "IPY_MODEL_947ca61cf1644f2e97f7a1aaf6f53ba7",
        "IPY_MODEL_88e38ccd8cee4d9fb071681899df8329"
       ],
       "layout": "IPY_MODEL_54eb2755abdc497ebf7008b5538fa2e7"
      }
     },
     "5b8e71f8ba0442dba0ad8a3a0cfbccc5": {
      "model_module": "@jupyter-widgets/controls",
      "model_module_version": "2.0.0",
      "model_name": "ToggleButtonModel",
      "state": {
       "icon": "gear",
       "layout": "IPY_MODEL_e5fb5443d669486b93397f59b5a83433",
       "style": "IPY_MODEL_13d35787a2f14ec0b6797bc0ecea1601",
       "tooltip": "NAIP Image"
      }
     },
     "5c01a80c2b4a4f429f066d9e8af3221e": {
      "model_module": "@jupyter-widgets/controls",
      "model_module_version": "2.0.0",
      "model_name": "ToggleButtonsModel",
      "state": {
       "_options_labels": [
        "name/address",
        "lat-lon",
        "data"
       ],
       "button_style": "",
       "icons": [],
       "index": 0,
       "layout": "IPY_MODEL_a307f6c400e042f78b86c8499db6da8d",
       "style": "IPY_MODEL_6634ef6e775747ba9d11b135594bd532",
       "tooltips": [
        "Search by place name or address",
        "Search by lat-lon coordinates",
        "Search Earth Engine data catalog"
       ]
      }
     },
     "5d16cc04df62429eaed1ea20403c00a5": {
      "model_module": "@jupyter-widgets/controls",
      "model_module_version": "2.0.0",
      "model_name": "LinkModel",
      "state": {
       "source": [
        "IPY_MODEL_f3b7e5864d50428988eb629c8f4702f8",
        "value"
       ],
       "target": [
        "IPY_MODEL_d05ba91d02d340ea9c6d1806e89cb460",
        "visible"
       ]
      }
     },
     "5db6f0a5f970442682f603f10f30d0c0": {
      "model_module": "ipyevents",
      "model_module_version": "2.0.2",
      "model_name": "EventModel",
      "state": {
       "_supported_key_events": [
        "keydown",
        "keyup"
       ],
       "_supported_mouse_events": [
        "click",
        "auxclick",
        "dblclick",
        "mouseenter",
        "mouseleave",
        "mousedown",
        "mouseup",
        "mousemove",
        "wheel",
        "contextmenu",
        "dragstart",
        "drag",
        "dragend",
        "dragenter",
        "dragover",
        "dragleave",
        "drop"
       ],
       "_supported_touch_events": [
        "touchstart",
        "touchend",
        "touchmove",
        "touchcancel"
       ],
       "_view_module": "@jupyter-widgets/controls",
       "source": "IPY_MODEL_115a1b6c87fc4a33af1157267832b67e",
       "throttle_or_debounce": "",
       "watched_events": [
        "mouseenter",
        "mouseleave"
       ],
       "xy_coordinate_system": ""
      }
     },
     "5db80b252dad4d76a74721147bbac141": {
      "model_module": "@jupyter-widgets/controls",
      "model_module_version": "2.0.0",
      "model_name": "CheckboxModel",
      "state": {
       "description": "All layers on/off",
       "disabled": false,
       "indent": false,
       "layout": "IPY_MODEL_7fa271e9334b4926ba1d9f2662580125",
       "style": "IPY_MODEL_77e537423fd644ef9cecb70c70c067db",
       "value": false
      }
     },
     "5debb7cb3ad44e308ccf29c2a6b2ce70": {
      "model_module": "jupyter-leaflet",
      "model_module_version": "^0.17",
      "model_name": "LeafletTileLayerModel",
      "state": {
       "_model_module_version": "^0.17",
       "_view_module_version": "^0.17",
       "attribution": "Google Earth Engine",
       "max_zoom": 24,
       "name": "LandsatMSS Image",
       "options": [
        "attribution",
        "bounds",
        "detect_retina",
        "max_native_zoom",
        "max_zoom",
        "min_native_zoom",
        "min_zoom",
        "no_wrap",
        "tile_size",
        "tms",
        "zoom_offset"
       ],
       "url": "https://earthengine.googleapis.com/v1/projects/earthengine-legacy/maps/a69944c7d8e10e32f44b55815a60e172-3b099e54a083fa64a17c003c787f1941/tiles/{z}/{x}/{y}"
      }
     },
     "5e2b4ed0bf2844fd922a81b2dfe950d3": {
      "model_module": "@jupyter-widgets/controls",
      "model_module_version": "2.0.0",
      "model_name": "HBoxModel",
      "state": {
       "children": [
        "IPY_MODEL_0083c47f6e6b4d82af00431e5bb362fa",
        "IPY_MODEL_8640ead8562940e48a750006395d8c93",
        "IPY_MODEL_0d44976fb19440ab8918189f4ee8b2f0"
       ],
       "layout": "IPY_MODEL_106fe98f217f47e2ac2f9cc3ea3ffac4"
      }
     },
     "5ebb3346514943b9a10c92cd1e9d4a0c": {
      "model_module": "@jupyter-widgets/base",
      "model_module_version": "2.0.0",
      "model_name": "LayoutModel",
      "state": {
       "height": "18px",
       "width": "140px"
      }
     },
     "5f079174ba414d94a48ef8d95a238934": {
      "model_module": "@jupyter-widgets/base",
      "model_module_version": "2.0.0",
      "model_name": "LayoutModel",
      "state": {
       "height": "18px",
       "width": "140px"
      }
     },
     "5fda0eb50e3f403fbb14ce2ddab2b35f": {
      "model_module": "@jupyter-widgets/base",
      "model_module_version": "2.0.0",
      "model_name": "LayoutModel",
      "state": {
       "height": "28px",
       "padding": "0px 0px 0px 4px",
       "width": "28px"
      }
     },
     "606bc7a6eaa44ed19889be7c90a924f4": {
      "model_module": "@jupyter-widgets/base",
      "model_module_version": "2.0.0",
      "model_name": "LayoutModel",
      "state": {
       "height": "25px",
       "padding": "0px 0px 0px 5px",
       "width": "25px"
      }
     },
     "61245e9c0ace4c31b304b3f8c6f15421": {
      "model_module": "@jupyter-widgets/controls",
      "model_module_version": "2.0.0",
      "model_name": "HBoxModel",
      "state": {
       "children": [
        "IPY_MODEL_5803f2df29de488c80084c2acf8a3f60",
        "IPY_MODEL_253cec97389b4bd894b7befff65770e0"
       ],
       "layout": "IPY_MODEL_ffc4bfb8480f4c55b31d3470e4deebf3"
      }
     },
     "615d1c054209417189ed8996da3a06f3": {
      "model_module": "@jupyter-widgets/base",
      "model_module_version": "2.0.0",
      "model_name": "LayoutModel",
      "state": {
       "height": "auto",
       "padding": "0px 0px 0px 4px",
       "width": "auto"
      }
     },
     "622d53dc499e4c9b8fd32cef5d0e6cb4": {
      "model_module": "@jupyter-widgets/controls",
      "model_module_version": "2.0.0",
      "model_name": "CheckboxModel",
      "state": {
       "description": "All layers on/off",
       "disabled": false,
       "indent": false,
       "layout": "IPY_MODEL_fe4a75c35bfb4be3976240bed6a8bfc0",
       "style": "IPY_MODEL_aac41555276741368716a3774520c01e",
       "value": false
      }
     },
     "62bdcf02f0f34168b9b63bde363f368a": {
      "model_module": "jupyter-leaflet",
      "model_module_version": "^0.17",
      "model_name": "LeafletTileLayerModel",
      "state": {
       "_model_module_version": "^0.17",
       "_view_module_version": "^0.17",
       "attribution": "&copy; <a href=\"https://www.openstreetmap.org/copyright\">OpenStreetMap</a> contributors",
       "base": true,
       "max_zoom": 19,
       "min_zoom": 1,
       "name": "OpenStreetMap.Mapnik",
       "options": [
        "attribution",
        "bounds",
        "detect_retina",
        "max_native_zoom",
        "max_zoom",
        "min_native_zoom",
        "min_zoom",
        "no_wrap",
        "tile_size",
        "tms",
        "zoom_offset"
       ],
       "url": "https://tile.openstreetmap.org/{z}/{x}/{y}.png"
      }
     },
     "62dcb8b167cd4d28aea089b0ac3d2ae1": {
      "model_module": "@jupyter-widgets/base",
      "model_module_version": "2.0.0",
      "model_name": "LayoutModel",
      "state": {}
     },
     "64e2471d7d7a45ac8e98af8173b99ca5": {
      "model_module": "@jupyter-widgets/controls",
      "model_module_version": "2.0.0",
      "model_name": "LinkModel",
      "state": {
       "source": [
        "IPY_MODEL_c338495864bb4fccbadebbe12d6fe32a",
        "value"
       ],
       "target": [
        "IPY_MODEL_1f382b8f39f347e4af7bee1282fc5789",
        "visible"
       ]
      }
     },
     "65d042dddc3a44c588166678ed8c7e1d": {
      "model_module": "@jupyter-widgets/controls",
      "model_module_version": "2.0.0",
      "model_name": "ToggleButtonStyleModel",
      "state": {
       "description_width": "",
       "font_family": null,
       "font_size": null,
       "font_style": null,
       "font_variant": null,
       "font_weight": null,
       "text_color": null,
       "text_decoration": null
      }
     },
     "65e754e44149460bb8755c06b5766431": {
      "model_module": "@jupyter-widgets/controls",
      "model_module_version": "2.0.0",
      "model_name": "ToggleButtonModel",
      "state": {
       "icon": "gear",
       "layout": "IPY_MODEL_954512765f70444da8271f97c8617830",
       "style": "IPY_MODEL_137a1f1493f04ac6a2e021f33ec6801e",
       "tooltip": "MODIS Image"
      }
     },
     "6634ef6e775747ba9d11b135594bd532": {
      "model_module": "@jupyter-widgets/controls",
      "model_module_version": "2.0.0",
      "model_name": "ToggleButtonsStyleModel",
      "state": {
       "button_width": "110px",
       "description_width": ""
      }
     },
     "667a85cff8f24961b795c08d9fd3e519": {
      "model_module": "@jupyter-widgets/controls",
      "model_module_version": "2.0.0",
      "model_name": "VBoxModel",
      "state": {
       "children": [
        "IPY_MODEL_c0a5e6b1130b4adca89857d44e0893f9"
       ],
       "layout": "IPY_MODEL_c3a282bbf902413e8920451951ea81ea"
      }
     },
     "66a27bb82a7d4e2ab8b8f5c7da5d6204": {
      "model_module": "@jupyter-widgets/base",
      "model_module_version": "2.0.0",
      "model_name": "LayoutModel",
      "state": {
       "height": "18px",
       "padding": "0px 8px 25px 8px",
       "width": "30ex"
      }
     },
     "6758715eaf6242c0a9dd3727bc4d6797": {
      "model_module": "@jupyter-widgets/controls",
      "model_module_version": "2.0.0",
      "model_name": "DirectionalLinkModel",
      "state": {
       "source": [
        "IPY_MODEL_dcf334208ce04412b0c8fa4c3cb83e2a",
        "value"
       ],
       "target": [
        "IPY_MODEL_3510f03926d44b6ba0c74d6e662c9fc3",
        "opacity"
       ]
      }
     },
     "68255219abf446498c7900281eb82168": {
      "model_module": "@jupyter-widgets/controls",
      "model_module_version": "2.0.0",
      "model_name": "DirectionalLinkModel",
      "state": {
       "source": [
        "IPY_MODEL_2fa72fd961d4433b9181fe1870b83b19",
        "value"
       ],
       "target": [
        "IPY_MODEL_02ae87f908f043a8bdb2843f4b4ead32",
        "opacity"
       ]
      }
     },
     "68a8d9d222364d2f95cf5c31cc8e4387": {
      "model_module": "@jupyter-widgets/base",
      "model_module_version": "2.0.0",
      "model_name": "LayoutModel",
      "state": {
       "width": "80px"
      }
     },
     "695d23c319a74ffa83f0cae8b9dbddbe": {
      "model_module": "@jupyter-widgets/base",
      "model_module_version": "2.0.0",
      "model_name": "LayoutModel",
      "state": {
       "height": "28px",
       "padding": "0px 0px 0px 4px",
       "width": "28px"
      }
     },
     "697b5e4cfeb34dad8aada84706567bb7": {
      "model_module": "@jupyter-widgets/controls",
      "model_module_version": "2.0.0",
      "model_name": "ToggleButtonStyleModel",
      "state": {
       "description_width": "",
       "font_family": null,
       "font_size": null,
       "font_style": null,
       "font_variant": null,
       "font_weight": null,
       "text_color": null,
       "text_decoration": null
      }
     },
     "698ed7d8f43848239b5f8f104dc57ae5": {
      "model_module": "@jupyter-widgets/controls",
      "model_module_version": "2.0.0",
      "model_name": "HBoxModel",
      "state": {
       "children": [
        "IPY_MODEL_c5f148c73964429bacab848cbd1a900a",
        "IPY_MODEL_e85e19a4702e4e1a9e1140e41188497e",
        "IPY_MODEL_93900e1d153e4f50bdebce95801a295b"
       ],
       "layout": "IPY_MODEL_96b0f0fe95f648418a0513b82bc872e3"
      }
     },
     "6998c2f043ab418cbee3e0848577dfea": {
      "model_module": "@jupyter-widgets/controls",
      "model_module_version": "2.0.0",
      "model_name": "VBoxModel",
      "state": {
       "_view_count": 6,
       "children": [
        "IPY_MODEL_e6a983c740704dddba76f4de2198bcb8"
       ],
       "layout": "IPY_MODEL_978181346f214b798a4c48fc855228f5"
      }
     },
     "69c46068149d499d90aaebf181151778": {
      "model_module": "@jupyter-widgets/base",
      "model_module_version": "2.0.0",
      "model_name": "LayoutModel",
      "state": {
       "width": "340px"
      }
     },
     "6aba153ae1484a50b9168d49d79684ea": {
      "model_module": "@jupyter-widgets/base",
      "model_module_version": "2.0.0",
      "model_name": "LayoutModel",
      "state": {
       "height": "28px",
       "padding": "0px 0px 0px 4px",
       "width": "28px"
      }
     },
     "6b99b5a43cd44dde964238c120e18180": {
      "model_module": "@jupyter-widgets/controls",
      "model_module_version": "2.0.0",
      "model_name": "SliderStyleModel",
      "state": {
       "description_width": ""
      }
     },
     "6bbe67f432544b4b8d6022b74a13f1e0": {
      "model_module": "@jupyter-widgets/controls",
      "model_module_version": "2.0.0",
      "model_name": "HBoxModel",
      "state": {
       "children": [
        "IPY_MODEL_f3b7e5864d50428988eb629c8f4702f8",
        "IPY_MODEL_a951ddc28fc14e40bbb1d11c9adc5c71",
        "IPY_MODEL_38991a5a40044108836a0a0537be8031"
       ],
       "layout": "IPY_MODEL_44d4773fcc8b4063b081c54c27d80c03"
      }
     },
     "6c0064e1c6834cd182c9ab7f681c3d3c": {
      "model_module": "@jupyter-widgets/controls",
      "model_module_version": "2.0.0",
      "model_name": "HBoxModel",
      "state": {
       "children": [
        "IPY_MODEL_d9385acf4b4942d9bc45dfdca87f75a1",
        "IPY_MODEL_18fabeb2d05f47c2933f1e7e9bb55fc4",
        "IPY_MODEL_317d2f09a3784965956e355ccb45b651"
       ],
       "layout": "IPY_MODEL_8fe63ca55a1f4f36a6b94f503ab1887f"
      }
     },
     "6c6ee0aa2a334f6b9a7d3ea8d5a61675": {
      "model_module": "@jupyter-widgets/controls",
      "model_module_version": "2.0.0",
      "model_name": "CheckboxModel",
      "state": {
       "description": "LandsatMSS Image",
       "disabled": false,
       "indent": false,
       "layout": "IPY_MODEL_9f6f0baed8484a8292d5ffe4f34f02cf",
       "style": "IPY_MODEL_33c2adda968a48d99e0fbc2a0d54d8fe",
       "value": true
      }
     },
     "6d4d82821722464e976b9e2cac088a4b": {
      "model_module": "@jupyter-widgets/controls",
      "model_module_version": "2.0.0",
      "model_name": "LinkModel",
      "state": {
       "source": [
        "IPY_MODEL_0083c47f6e6b4d82af00431e5bb362fa",
        "value"
       ],
       "target": [
        "IPY_MODEL_02ae87f908f043a8bdb2843f4b4ead32",
        "visible"
       ]
      }
     },
     "6defb4b4963545b38263ab09afe8441e": {
      "model_module": "@jupyter-widgets/base",
      "model_module_version": "2.0.0",
      "model_name": "LayoutModel",
      "state": {
       "width": "80px"
      }
     },
     "6e512e8903734f2ea594bd1b9660ef1e": {
      "model_module": "@jupyter-widgets/controls",
      "model_module_version": "2.0.0",
      "model_name": "CheckboxModel",
      "state": {
       "description": "All layers on/off",
       "disabled": false,
       "indent": false,
       "layout": "IPY_MODEL_98eb5ec42dad4abbbc8432d15d04e996",
       "style": "IPY_MODEL_5384333715de4271b58736008b7c7b53",
       "value": false
      }
     },
     "6e87daa7b4174c99aa338515133ae7d6": {
      "model_module": "@jupyter-widgets/base",
      "model_module_version": "2.0.0",
      "model_name": "LayoutModel",
      "state": {
       "height": "25px",
       "padding": "0px 0px 0px 5px",
       "width": "25px"
      }
     },
     "6eb327906a4c4ba89a395e1e3948ec8a": {
      "model_module": "@jupyter-widgets/controls",
      "model_module_version": "2.0.0",
      "model_name": "HBoxModel",
      "state": {
       "children": [
        "IPY_MODEL_b13d3ea3384b4f969ed4f1cf65393f34",
        "IPY_MODEL_51177424ecd34023b5265dcf2c5fae3c"
       ],
       "layout": "IPY_MODEL_d48dd3bf7f9f4effadfcfcb2beaaf159"
      }
     },
     "6f33a40a24954ec6a841b5db53930052": {
      "model_module": "@jupyter-widgets/controls",
      "model_module_version": "2.0.0",
      "model_name": "SliderStyleModel",
      "state": {
       "description_width": ""
      }
     },
     "6fc765c12de44e78a41d751b0c3ea3f1": {
      "model_module": "@jupyter-widgets/base",
      "model_module_version": "2.0.0",
      "model_name": "LayoutModel",
      "state": {}
     },
     "713111b970d8438bb6d20982b1045dee": {
      "model_module": "@jupyter-widgets/base",
      "model_module_version": "2.0.0",
      "model_name": "LayoutModel",
      "state": {}
     },
     "7132ddb9bc534f5782d4960f2c282b2d": {
      "model_module": "@jupyter-widgets/controls",
      "model_module_version": "2.0.0",
      "model_name": "SliderStyleModel",
      "state": {
       "description_width": ""
      }
     },
     "71531e51206840958c3a699e1d40392b": {
      "model_module": "@jupyter-widgets/base",
      "model_module_version": "2.0.0",
      "model_name": "LayoutModel",
      "state": {
       "width": "80px"
      }
     },
     "721ea49e68cb4ff2a465bb1982caac53": {
      "model_module": "@jupyter-widgets/base",
      "model_module_version": "2.0.0",
      "model_name": "LayoutModel",
      "state": {
       "height": "auto",
       "padding": "0px 0px 0px 4px",
       "width": "auto"
      }
     },
     "721fe6d9f74444c7bad66223f6966156": {
      "model_module": "@jupyter-widgets/controls",
      "model_module_version": "2.0.0",
      "model_name": "ToggleButtonModel",
      "state": {
       "icon": "server",
       "layout": "IPY_MODEL_ceb5cc13fe9f43f0a7d55a6e5af0777d",
       "style": "IPY_MODEL_b5dba8af2dc0440faed4044b62e3863f",
       "tooltip": "Layer Manager",
       "value": true
      }
     },
     "732b90bdc6484dc68e1ab45fed149eca": {
      "model_module": "@jupyter-widgets/controls",
      "model_module_version": "2.0.0",
      "model_name": "ToggleButtonStyleModel",
      "state": {
       "description_width": "",
       "font_family": null,
       "font_size": null,
       "font_style": null,
       "font_variant": null,
       "font_weight": null,
       "text_color": null,
       "text_decoration": null
      }
     },
     "734baca6d32245ab9e743a548320f658": {
      "model_module": "@jupyter-widgets/controls",
      "model_module_version": "2.0.0",
      "model_name": "ToggleButtonModel",
      "state": {
       "button_style": "primary",
       "icon": "folder-open",
       "layout": "IPY_MODEL_1c78dfa4f781495e982a772559c0d86f",
       "style": "IPY_MODEL_f91094acc68443a7a726be3922587c93",
       "tooltip": "Open local vector/raster data"
      }
     },
     "73f837cd2b62443fbabd6660550907e1": {
      "model_module": "@jupyter-widgets/controls",
      "model_module_version": "2.0.0",
      "model_name": "ToggleButtonStyleModel",
      "state": {
       "description_width": "",
       "font_family": null,
       "font_size": null,
       "font_style": null,
       "font_variant": null,
       "font_weight": null,
       "text_color": null,
       "text_decoration": null
      }
     },
     "74eab58b53464144a51d110285250f1b": {
      "model_module": "ipyevents",
      "model_module_version": "2.0.2",
      "model_name": "EventModel",
      "state": {
       "_supported_key_events": [
        "keydown",
        "keyup"
       ],
       "_supported_mouse_events": [
        "click",
        "auxclick",
        "dblclick",
        "mouseenter",
        "mouseleave",
        "mousedown",
        "mouseup",
        "mousemove",
        "wheel",
        "contextmenu",
        "dragstart",
        "drag",
        "dragend",
        "dragenter",
        "dragover",
        "dragleave",
        "drop"
       ],
       "_supported_touch_events": [
        "touchstart",
        "touchend",
        "touchmove",
        "touchcancel"
       ],
       "_view_module": "@jupyter-widgets/controls",
       "source": "IPY_MODEL_6998c2f043ab418cbee3e0848577dfea",
       "throttle_or_debounce": "",
       "watched_events": [
        "mouseenter",
        "mouseleave"
       ],
       "xy_coordinate_system": ""
      }
     },
     "75a9909f3d854af0a59617d34e620463": {
      "model_module": "@jupyter-widgets/controls",
      "model_module_version": "2.0.0",
      "model_name": "CheckboxStyleModel",
      "state": {
       "description_width": ""
      }
     },
     "75c41aa1b5044f1f8b4b0b7dd507b343": {
      "model_module": "@jupyter-widgets/controls",
      "model_module_version": "2.0.0",
      "model_name": "ButtonModel",
      "state": {
       "button_style": "primary",
       "description": "import",
       "layout": "IPY_MODEL_514999363aa0422ea5844ceb6500422c",
       "style": "IPY_MODEL_02c433eea27d4efd96697c3814872d9a",
       "tooltip": "Click to import the selected asset"
      }
     },
     "7629a1719f7c48b2aef692ddf64fb9e9": {
      "model_module": "@jupyter-widgets/controls",
      "model_module_version": "2.0.0",
      "model_name": "SliderStyleModel",
      "state": {
       "description_width": ""
      }
     },
     "767ca8fa8c5140ae8144dc0e06d93f76": {
      "model_module": "@jupyter-widgets/controls",
      "model_module_version": "2.0.0",
      "model_name": "VBoxModel",
      "state": {
       "children": [
        "IPY_MODEL_146a60bd53a24364bbb515655176a8d1",
        "IPY_MODEL_132bd549b9754cac9dbed22259f683c0",
        "IPY_MODEL_c63f8cb429064af1aabe5a6de42618c7",
        "IPY_MODEL_5e2b4ed0bf2844fd922a81b2dfe950d3",
        "IPY_MODEL_b6b9cd9aa0e143a4bb20ae0735272162",
        "IPY_MODEL_49b9f8ce861a48cdba3022303d8a8662"
       ],
       "layout": "IPY_MODEL_bc0e6b789f484cab88ed7d9cd6d09d4d"
      }
     },
     "769ba3fd3df0441a891a4ca763c74cbb": {
      "model_module": "@jupyter-widgets/base",
      "model_module_version": "2.0.0",
      "model_name": "LayoutModel",
      "state": {
       "height": "auto",
       "padding": "0px 0px 0px 4px",
       "width": "auto"
      }
     },
     "77e537423fd644ef9cecb70c70c067db": {
      "model_module": "@jupyter-widgets/controls",
      "model_module_version": "2.0.0",
      "model_name": "CheckboxStyleModel",
      "state": {
       "description_width": ""
      }
     },
     "797eb085c9ef4e798736e52041fc6df8": {
      "model_module": "@jupyter-widgets/controls",
      "model_module_version": "2.0.0",
      "model_name": "LinkModel",
      "state": {
       "source": [
        "IPY_MODEL_c9d88e8f66164cba9c7566d6e59e4d98",
        "value"
       ],
       "target": [
        "IPY_MODEL_3510f03926d44b6ba0c74d6e662c9fc3",
        "visible"
       ]
      }
     },
     "798a505e7c624f429008a419acf833cf": {
      "model_module": "@jupyter-widgets/base",
      "model_module_version": "2.0.0",
      "model_name": "LayoutModel",
      "state": {
       "height": "auto",
       "padding": "0px 0px 0px 4px",
       "width": "auto"
      }
     },
     "79d964ebc9c442a38548e2aa5aa0ffda": {
      "model_module": "@jupyter-widgets/base",
      "model_module_version": "2.0.0",
      "model_name": "LayoutModel",
      "state": {
       "height": "28px",
       "padding": "0px 0px 0px 4px",
       "width": "28px"
      }
     },
     "79fd1af72da04c84881cdfe538f7dadd": {
      "model_module": "@jupyter-widgets/controls",
      "model_module_version": "2.0.0",
      "model_name": "FloatSliderModel",
      "state": {
       "behavior": "drag-tap",
       "layout": "IPY_MODEL_68a8d9d222364d2f95cf5c31cc8e4387",
       "max": 1,
       "readout": false,
       "step": 0.01,
       "style": "IPY_MODEL_7b047e8f933f4e7b972293dfbbdd250d",
       "value": 1
      }
     },
     "7b047e8f933f4e7b972293dfbbdd250d": {
      "model_module": "@jupyter-widgets/controls",
      "model_module_version": "2.0.0",
      "model_name": "SliderStyleModel",
      "state": {
       "description_width": ""
      }
     },
     "7b9f7c93265a46f59417296998d63636": {
      "model_module": "@jupyter-widgets/controls",
      "model_module_version": "2.0.0",
      "model_name": "ToggleButtonStyleModel",
      "state": {
       "description_width": "",
       "font_family": null,
       "font_size": null,
       "font_style": null,
       "font_variant": null,
       "font_weight": null,
       "text_color": null,
       "text_decoration": null
      }
     },
     "7c92cb5f14ce46cf847aab4f189b0dc7": {
      "model_module": "@jupyter-widgets/controls",
      "model_module_version": "2.0.0",
      "model_name": "CheckboxStyleModel",
      "state": {
       "description_width": ""
      }
     },
     "7ccfdbd70dd142ffbeea81e2508f3ea9": {
      "model_module": "@jupyter-widgets/controls",
      "model_module_version": "2.0.0",
      "model_name": "VBoxModel",
      "state": {
       "children": [
        "IPY_MODEL_82832c54cc284ec2bfa02519e6018fc6",
        "IPY_MODEL_3959970e4d174392ba2eef27625dfa5e"
       ],
       "layout": "IPY_MODEL_9de13e35875c4c1b9db4fcdc25210226"
      }
     },
     "7d7616a9f456414a9aa603c4ad9d4b8f": {
      "model_module": "@jupyter-widgets/controls",
      "model_module_version": "2.0.0",
      "model_name": "HBoxModel",
      "state": {
       "children": [
        "IPY_MODEL_34fc01532b0549ae83315f2f0d7fbf6c",
        "IPY_MODEL_580237c3a17e4b549ca3a8653b652407",
        "IPY_MODEL_800a291c40f04636a0343c3270b42a74"
       ],
       "layout": "IPY_MODEL_9fa61a0196e54be8ae93b25a2b9c9ee7"
      }
     },
     "7d830450c00a40059c36c67e9758a019": {
      "model_module": "@jupyter-widgets/base",
      "model_module_version": "2.0.0",
      "model_name": "LayoutModel",
      "state": {
       "width": "80px"
      }
     },
     "7ee78ae265d942908122467e12700a5a": {
      "model_module": "@jupyter-widgets/base",
      "model_module_version": "2.0.0",
      "model_name": "LayoutModel",
      "state": {
       "height": "auto",
       "padding": "0px 0px 0px 4px",
       "width": "auto"
      }
     },
     "7f114079a4ae4294a0a4f371bd9f679f": {
      "model_module": "@jupyter-widgets/base",
      "model_module_version": "2.0.0",
      "model_name": "LayoutModel",
      "state": {
       "padding": "0px 8px 0px 8px"
      }
     },
     "7f67ab225f9340f9ad0e421054a973b4": {
      "model_module": "@jupyter-widgets/controls",
      "model_module_version": "2.0.0",
      "model_name": "ToggleButtonStyleModel",
      "state": {
       "description_width": "",
       "font_family": null,
       "font_size": null,
       "font_style": null,
       "font_variant": null,
       "font_weight": null,
       "text_color": null,
       "text_decoration": null
      }
     },
     "7f872843d7834377bfb78056a20aed3e": {
      "model_module": "@jupyter-widgets/controls",
      "model_module_version": "2.0.0",
      "model_name": "SliderStyleModel",
      "state": {
       "description_width": ""
      }
     },
     "7fa271e9334b4926ba1d9f2662580125": {
      "model_module": "@jupyter-widgets/base",
      "model_module_version": "2.0.0",
      "model_name": "LayoutModel",
      "state": {
       "height": "18px",
       "padding": "0px 8px 25px 8px",
       "width": "30ex"
      }
     },
     "800a291c40f04636a0343c3270b42a74": {
      "model_module": "@jupyter-widgets/controls",
      "model_module_version": "2.0.0",
      "model_name": "FloatSliderModel",
      "state": {
       "behavior": "drag-tap",
       "layout": "IPY_MODEL_6defb4b4963545b38263ab09afe8441e",
       "max": 1,
       "readout": false,
       "step": 0.01,
       "style": "IPY_MODEL_7f872843d7834377bfb78056a20aed3e",
       "value": 1
      }
     },
     "802ff5398ab846e4995de363b262a244": {
      "model_module": "@jupyter-widgets/controls",
      "model_module_version": "2.0.0",
      "model_name": "FloatSliderModel",
      "state": {
       "behavior": "drag-tap",
       "layout": "IPY_MODEL_cdf470be90074a91bb84918da149ec8c",
       "max": 1,
       "readout": false,
       "step": 0.01,
       "style": "IPY_MODEL_c1b6ed6e1d3f40709cb0df84f8a145e9",
       "value": 1
      }
     },
     "8071598644a145c890ce002d50e9c23c": {
      "model_module": "ipyevents",
      "model_module_version": "2.0.2",
      "model_name": "EventModel",
      "state": {
       "_supported_key_events": [
        "keydown",
        "keyup"
       ],
       "_supported_mouse_events": [
        "click",
        "auxclick",
        "dblclick",
        "mouseenter",
        "mouseleave",
        "mousedown",
        "mouseup",
        "mousemove",
        "wheel",
        "contextmenu",
        "dragstart",
        "drag",
        "dragend",
        "dragenter",
        "dragover",
        "dragleave",
        "drop"
       ],
       "_supported_touch_events": [
        "touchstart",
        "touchend",
        "touchmove",
        "touchcancel"
       ],
       "_view_module": "@jupyter-widgets/controls",
       "source": "IPY_MODEL_3f92de19cf684c1e9d682e9f9a9997ac",
       "throttle_or_debounce": "",
       "watched_events": [
        "mouseenter",
        "mouseleave"
       ],
       "xy_coordinate_system": ""
      }
     },
     "80e7c117071547fd8140bf92d8f24a91": {
      "model_module": "@jupyter-widgets/controls",
      "model_module_version": "2.0.0",
      "model_name": "HBoxModel",
      "state": {
       "children": [
        "IPY_MODEL_cea0674a97c9419f94bea41e2b4d22aa",
        "IPY_MODEL_65e754e44149460bb8755c06b5766431",
        "IPY_MODEL_48d9f0665f8b4ee893dbb3ce686d8ffb"
       ],
       "layout": "IPY_MODEL_cbe363caee04474f9351a63b7abb6113"
      }
     },
     "817ab584238a451ab38f6b3beb67d263": {
      "model_module": "@jupyter-widgets/controls",
      "model_module_version": "2.0.0",
      "model_name": "LinkModel",
      "state": {
       "source": [
        "IPY_MODEL_c5f148c73964429bacab848cbd1a900a",
        "value"
       ],
       "target": [
        "IPY_MODEL_02ae87f908f043a8bdb2843f4b4ead32",
        "visible"
       ]
      }
     },
     "81948bc5c3194b8c846c376561c4642b": {
      "model_module": "@jupyter-widgets/base",
      "model_module_version": "2.0.0",
      "model_name": "LayoutModel",
      "state": {
       "height": "18px",
       "width": "140px"
      }
     },
     "819bbf3265374ef8b842064fb23abf67": {
      "model_module": "@jupyter-widgets/controls",
      "model_module_version": "2.0.0",
      "model_name": "CheckboxStyleModel",
      "state": {
       "description_width": ""
      }
     },
     "82832c54cc284ec2bfa02519e6018fc6": {
      "model_module": "@jupyter-widgets/controls",
      "model_module_version": "2.0.0",
      "model_name": "HBoxModel",
      "state": {
       "children": [
        "IPY_MODEL_e1e92602d5c644b2a56bff3575ccb865",
        "IPY_MODEL_d4984bd5186b44529ad4feb947467ca9"
       ],
       "layout": "IPY_MODEL_713111b970d8438bb6d20982b1045dee"
      }
     },
     "82b00a1452204c668e19dde90a923860": {
      "model_module": "@jupyter-widgets/controls",
      "model_module_version": "2.0.0",
      "model_name": "FloatSliderModel",
      "state": {
       "behavior": "drag-tap",
       "layout": "IPY_MODEL_7d830450c00a40059c36c67e9758a019",
       "max": 1,
       "readout": false,
       "step": 0.01,
       "style": "IPY_MODEL_43f84a30261a4f87b14665a0088d134e",
       "value": 1
      }
     },
     "8322312e33954a01aa79a323e719f401": {
      "model_module": "@jupyter-widgets/controls",
      "model_module_version": "2.0.0",
      "model_name": "TextStyleModel",
      "state": {
       "description_width": "",
       "font_size": null,
       "text_color": null
      }
     },
     "83612a5d7b844c3ea333ba183d0fdde4": {
      "model_module": "@jupyter-widgets/controls",
      "model_module_version": "2.0.0",
      "model_name": "DirectionalLinkModel",
      "state": {
       "source": [
        "IPY_MODEL_515905bd87db4be782b3d9c7162434ba",
        "value"
       ],
       "target": [
        "IPY_MODEL_d05ba91d02d340ea9c6d1806e89cb460",
        "opacity"
       ]
      }
     },
     "83991bf48c8a49db9bbaf92008f5d7d9": {
      "model_module": "@jupyter-widgets/controls",
      "model_module_version": "2.0.0",
      "model_name": "DescriptionStyleModel",
      "state": {
       "description_width": ""
      }
     },
     "83dc97b579254997b5c35651d4563d66": {
      "model_module": "@jupyter-widgets/controls",
      "model_module_version": "2.0.0",
      "model_name": "ToggleButtonModel",
      "state": {
       "button_style": "primary",
       "icon": "times",
       "layout": "IPY_MODEL_170deb8f0d3d46e89af177bcd8c6cdf7",
       "style": "IPY_MODEL_e51126c307ad4a998d4c01d60737a727",
       "tooltip": "Close the tool"
      }
     },
     "8556724ffb724187b4f49bf160383b7c": {
      "model_module": "@jupyter-widgets/controls",
      "model_module_version": "2.0.0",
      "model_name": "CheckboxModel",
      "state": {
       "description": "LandsatMSS Image",
       "disabled": false,
       "indent": false,
       "layout": "IPY_MODEL_99f828161b8d4b8b89f0f83feac0bd94",
       "style": "IPY_MODEL_21e16abebde54c84aed7468c0ac45981",
       "value": true
      }
     },
     "857ac59ee1024b7492ba908c42cd6b54": {
      "model_module": "@jupyter-widgets/base",
      "model_module_version": "2.0.0",
      "model_name": "LayoutModel",
      "state": {
       "width": "80px"
      }
     },
     "8622e48825aa4e7fb97e47b1d879ed4b": {
      "model_module": "@jupyter-widgets/controls",
      "model_module_version": "2.0.0",
      "model_name": "ToggleButtonModel",
      "state": {
       "icon": "globe",
       "layout": "IPY_MODEL_695d23c319a74ffa83f0cae8b9dbddbe",
       "style": "IPY_MODEL_d6c6c3c728c443968c6b69a4934e3fd2",
       "tooltip": "Search location/data"
      }
     },
     "8640ead8562940e48a750006395d8c93": {
      "model_module": "@jupyter-widgets/controls",
      "model_module_version": "2.0.0",
      "model_name": "ToggleButtonModel",
      "state": {
       "icon": "gear",
       "layout": "IPY_MODEL_a300de6a27b441938bfccbbc260271d5",
       "style": "IPY_MODEL_02113b92158246a4b06ba2275df8f0e4",
       "tooltip": "LandsatMSS Image"
      }
     },
     "86bbdd0ce69940c8a0e76f3afa0cbf81": {
      "model_module": "@jupyter-widgets/base",
      "model_module_version": "2.0.0",
      "model_name": "LayoutModel",
      "state": {
       "height": "28px",
       "padding": "0px 0px 0px 4px",
       "width": "28px"
      }
     },
     "86ddf5f0ad484858945743133a5510d3": {
      "model_module": "@jupyter-widgets/base",
      "model_module_version": "2.0.0",
      "model_name": "LayoutModel",
      "state": {
       "height": "18px",
       "padding": "0px 8px 25px 8px",
       "width": "30ex"
      }
     },
     "878e5e89e1514bf992d33b4b637ab7cd": {
      "model_module": "@jupyter-widgets/controls",
      "model_module_version": "2.0.0",
      "model_name": "ToggleButtonStyleModel",
      "state": {
       "description_width": "",
       "font_family": null,
       "font_size": null,
       "font_style": null,
       "font_variant": null,
       "font_weight": null,
       "text_color": null,
       "text_decoration": null
      }
     },
     "88ae03bef76647d5ab09ea46eafed4a9": {
      "model_module": "@jupyter-widgets/controls",
      "model_module_version": "2.0.0",
      "model_name": "CheckboxStyleModel",
      "state": {
       "description_width": ""
      }
     },
     "88c2de1fa6d64ce29671ef68c237f7a7": {
      "model_module": "@jupyter-widgets/controls",
      "model_module_version": "2.0.0",
      "model_name": "CheckboxStyleModel",
      "state": {
       "description_width": ""
      }
     },
     "88e38ccd8cee4d9fb071681899df8329": {
      "model_module": "@jupyter-widgets/controls",
      "model_module_version": "2.0.0",
      "model_name": "ToggleButtonModel",
      "state": {
       "button_style": "primary",
       "icon": "plus",
       "layout": "IPY_MODEL_3953ce7ca4b04749b736b9944315e078",
       "style": "IPY_MODEL_baf0230b0f0a4af29c89038dc16e22fd",
       "tooltip": "Expand toolbar"
      }
     },
     "89c5cf3b895f4bd284b58454632378a2": {
      "model_module": "@jupyter-widgets/base",
      "model_module_version": "2.0.0",
      "model_name": "LayoutModel",
      "state": {
       "height": "auto",
       "padding": "0px 0px 0px 4px",
       "width": "auto"
      }
     },
     "8af74d1a199f4b0395b091097f402602": {
      "model_module": "@jupyter-widgets/controls",
      "model_module_version": "2.0.0",
      "model_name": "DirectionalLinkModel",
      "state": {
       "source": [
        "IPY_MODEL_0fc01d5cd20b462985ababb99bca98f7",
        "value"
       ],
       "target": [
        "IPY_MODEL_d05ba91d02d340ea9c6d1806e89cb460",
        "opacity"
       ]
      }
     },
     "8b622139064a4c8ebafc6fcce76c9cb0": {
      "model_module": "@jupyter-widgets/base",
      "model_module_version": "2.0.0",
      "model_name": "LayoutModel",
      "state": {
       "height": "600px"
      }
     },
     "8b6daa77621d46f79002ea7ffad6152b": {
      "model_module": "@jupyter-widgets/controls",
      "model_module_version": "2.0.0",
      "model_name": "ToggleButtonModel",
      "state": {
       "button_style": "primary",
       "icon": "gears",
       "layout": "IPY_MODEL_ad32b72a4258427f8ed665df958a7213",
       "style": "IPY_MODEL_fda6dd95a2d84c95b8614cca8771fb2c",
       "tooltip": "WhiteboxTools for local geoprocessing"
      }
     },
     "8d4b58bc92b4422ebca6582cbf24ae55": {
      "model_module": "@jupyter-widgets/base",
      "model_module_version": "2.0.0",
      "model_name": "LayoutModel",
      "state": {
       "height": "18px",
       "width": "140px"
      }
     },
     "8df924d64bbf4579ade495e03c77b7dc": {
      "model_module": "jupyter-leaflet",
      "model_module_version": "^0.17",
      "model_name": "LeafletAttributionControlModel",
      "state": {
       "_model_module_version": "^0.17",
       "_view_module_version": "^0.17",
       "options": [
        "position",
        "prefix"
       ],
       "position": "bottomright",
       "prefix": "ipyleaflet"
      }
     },
     "8f5096fbeb5a4048a3453fa5c61fe582": {
      "model_module": "@jupyter-widgets/base",
      "model_module_version": "2.0.0",
      "model_name": "LayoutModel",
      "state": {
       "width": "80px"
      }
     },
     "8fc2956275434931bd90fdc813cb0789": {
      "model_module": "jupyter-leaflet",
      "model_module_version": "^0.17",
      "model_name": "LeafletMapStyleModel",
      "state": {
       "_model_module_version": "^0.17",
       "cursor": "move"
      }
     },
     "8fe63ca55a1f4f36a6b94f503ab1887f": {
      "model_module": "@jupyter-widgets/base",
      "model_module_version": "2.0.0",
      "model_name": "LayoutModel",
      "state": {
       "padding": "0px 8px 0px 8px"
      }
     },
     "903b571bb94a4e7b810c791259a3c76d": {
      "model_module": "@jupyter-widgets/controls",
      "model_module_version": "2.0.0",
      "model_name": "ToggleButtonModel",
      "state": {
       "icon": "gear",
       "layout": "IPY_MODEL_21771b58d8bd4f3fbbcd974e1fc1df7a",
       "style": "IPY_MODEL_059745bf5052497eaa4102926eefa0cf",
       "tooltip": "Landsat TM Image"
      }
     },
     "905678fcad2d42ee844e9685bd8fd6e7": {
      "model_module": "@jupyter-widgets/base",
      "model_module_version": "2.0.0",
      "model_name": "LayoutModel",
      "state": {
       "height": "18px",
       "width": "140px"
      }
     },
     "926dc6ecb4d749d697ba6cde9488cfab": {
      "model_module": "@jupyter-widgets/controls",
      "model_module_version": "2.0.0",
      "model_name": "DirectionalLinkModel",
      "state": {
       "source": [
        "IPY_MODEL_802ff5398ab846e4995de363b262a244",
        "value"
       ],
       "target": [
        "IPY_MODEL_9b784d9ba5524d46875c49c35e9e5018",
        "opacity"
       ]
      }
     },
     "929e3fb68ea246709ef8078981cc3c39": {
      "model_module": "jupyter-leaflet",
      "model_module_version": "^0.17",
      "model_name": "LeafletWidgetControlModel",
      "state": {
       "_model_module": "jupyter-leaflet",
       "_model_module_version": "^0.17",
       "_view_count": null,
       "_view_module": "jupyter-leaflet",
       "_view_module_version": "^0.17",
       "options": [
        "position",
        "transparent_bg"
       ],
       "position": "topleft",
       "widget": "IPY_MODEL_115a1b6c87fc4a33af1157267832b67e"
      }
     },
     "93900e1d153e4f50bdebce95801a295b": {
      "model_module": "@jupyter-widgets/controls",
      "model_module_version": "2.0.0",
      "model_name": "FloatSliderModel",
      "state": {
       "behavior": "drag-tap",
       "layout": "IPY_MODEL_21be1bf2e1a44983aae3bdd643455966",
       "max": 1,
       "readout": false,
       "step": 0.01,
       "style": "IPY_MODEL_6f33a40a24954ec6a841b5db53930052",
       "value": 1
      }
     },
     "93c79e7722424490ba98c217ef98cc4a": {
      "model_module": "@jupyter-widgets/controls",
      "model_module_version": "2.0.0",
      "model_name": "CheckboxStyleModel",
      "state": {
       "description_width": ""
      }
     },
     "94392a5ee8894b8fb8e3f3e03d56eefb": {
      "model_module": "@jupyter-widgets/base",
      "model_module_version": "2.0.0",
      "model_name": "LayoutModel",
      "state": {
       "height": "auto",
       "padding": "0px 0px 0px 4px",
       "width": "auto"
      }
     },
     "94545e79ec87406791b4497484ba76de": {
      "model_module": "@jupyter-widgets/controls",
      "model_module_version": "2.0.0",
      "model_name": "ToggleButtonStyleModel",
      "state": {
       "description_width": "",
       "font_family": null,
       "font_size": null,
       "font_style": null,
       "font_variant": null,
       "font_weight": null,
       "text_color": null,
       "text_decoration": null
      }
     },
     "946229bc321644c7927ae0e5d7b5ae9b": {
      "model_module": "@jupyter-widgets/base",
      "model_module_version": "2.0.0",
      "model_name": "LayoutModel",
      "state": {
       "height": "25px",
       "padding": "0px 0px 0px 5px",
       "width": "25px"
      }
     },
     "947646c193e548c7b2cd54fe6f545548": {
      "model_module": "@jupyter-widgets/controls",
      "model_module_version": "2.0.0",
      "model_name": "ToggleButtonStyleModel",
      "state": {
       "description_width": "",
       "font_family": null,
       "font_size": null,
       "font_style": null,
       "font_variant": null,
       "font_weight": null,
       "text_color": null,
       "text_decoration": null
      }
     },
     "947ca61cf1644f2e97f7a1aaf6f53ba7": {
      "model_module": "@jupyter-widgets/controls",
      "model_module_version": "2.0.0",
      "model_name": "ToggleButtonModel",
      "state": {
       "button_style": "primary",
       "icon": "retweet",
       "layout": "IPY_MODEL_1f2095709d044450951845d96e1971dc",
       "style": "IPY_MODEL_e8322f4c6bb5434cb989b8bff109c9cf",
       "tooltip": "Convert Earth Engine JavaScript to Python"
      }
     },
     "94905c6d5acb459ca8106425b4ef7387": {
      "model_module": "jupyter-leaflet",
      "model_module_version": "^0.17",
      "model_name": "LeafletTileLayerModel",
      "state": {
       "_model_module_version": "^0.17",
       "_view_module_version": "^0.17",
       "attribution": "Google Earth Engine",
       "max_zoom": 24,
       "name": "Landsat TM Image",
       "options": [
        "attribution",
        "bounds",
        "detect_retina",
        "max_native_zoom",
        "max_zoom",
        "min_native_zoom",
        "min_zoom",
        "no_wrap",
        "tile_size",
        "tms",
        "zoom_offset"
       ],
       "url": "https://earthengine.googleapis.com/v1/projects/earthengine-legacy/maps/0be12c66ee12d53e376a6764f60676cd-7404c9db707f20e9318ecff05ac357b7/tiles/{z}/{x}/{y}"
      }
     },
     "954512765f70444da8271f97c8617830": {
      "model_module": "@jupyter-widgets/base",
      "model_module_version": "2.0.0",
      "model_name": "LayoutModel",
      "state": {
       "height": "25px",
       "padding": "0px 0px 0px 5px",
       "width": "25px"
      }
     },
     "9571cf2374224d27857ac540dd57f562": {
      "model_module": "@jupyter-widgets/base",
      "model_module_version": "2.0.0",
      "model_name": "LayoutModel",
      "state": {
       "height": "18px",
       "width": "140px"
      }
     },
     "964f7f615e044a2b83a3cb8661ce43c4": {
      "model_module": "@jupyter-widgets/controls",
      "model_module_version": "2.0.0",
      "model_name": "DirectionalLinkModel",
      "state": {
       "source": [
        "IPY_MODEL_974951ead9124877894cc9c2719fe7c3",
        "value"
       ],
       "target": [
        "IPY_MODEL_3510f03926d44b6ba0c74d6e662c9fc3",
        "opacity"
       ]
      }
     },
     "96b0f0fe95f648418a0513b82bc872e3": {
      "model_module": "@jupyter-widgets/base",
      "model_module_version": "2.0.0",
      "model_name": "LayoutModel",
      "state": {
       "padding": "0px 8px 0px 8px"
      }
     },
     "9712565e1c634b8a82c96027c8c8a797": {
      "model_module": "@jupyter-widgets/controls",
      "model_module_version": "2.0.0",
      "model_name": "ButtonStyleModel",
      "state": {
       "font_family": null,
       "font_size": null,
       "font_style": null,
       "font_variant": null,
       "font_weight": null,
       "text_color": null,
       "text_decoration": null
      }
     },
     "9748a75bd8074c86906309a1d94f9cd2": {
      "model_module": "@jupyter-widgets/controls",
      "model_module_version": "2.0.0",
      "model_name": "LinkModel",
      "state": {
       "source": [
        "IPY_MODEL_cea0674a97c9419f94bea41e2b4d22aa",
        "value"
       ],
       "target": [
        "IPY_MODEL_d05ba91d02d340ea9c6d1806e89cb460",
        "visible"
       ]
      }
     },
     "974951ead9124877894cc9c2719fe7c3": {
      "model_module": "@jupyter-widgets/controls",
      "model_module_version": "2.0.0",
      "model_name": "FloatSliderModel",
      "state": {
       "behavior": "drag-tap",
       "layout": "IPY_MODEL_3893d7c3aa95491a8c35ba6e359c0645",
       "max": 1,
       "readout": false,
       "step": 0.01,
       "style": "IPY_MODEL_c6d4ec5c2377484f983456bea6e9ed7f",
       "value": 1
      }
     },
     "978181346f214b798a4c48fc855228f5": {
      "model_module": "@jupyter-widgets/base",
      "model_module_version": "2.0.0",
      "model_name": "LayoutModel",
      "state": {}
     },
     "978e4c8b71184dcd946fc5cec4c6ce57": {
      "model_module": "@jupyter-widgets/output",
      "model_module_version": "1.0.0",
      "model_name": "OutputModel",
      "state": {
       "layout": "IPY_MODEL_29818215b7724d72a54ce02dd1a9fd0d"
      }
     },
     "97941c4c4aca4110bb795274c68a6b5f": {
      "model_module": "@jupyter-widgets/output",
      "model_module_version": "1.0.0",
      "model_name": "OutputModel",
      "state": {
       "layout": "IPY_MODEL_4d6d7de9f6f64486839c05a04c12c58b"
      }
     },
     "97acb150da05438bb1fc0f6822afd09d": {
      "model_module": "@jupyter-widgets/controls",
      "model_module_version": "2.0.0",
      "model_name": "HBoxModel",
      "state": {
       "children": [
        "IPY_MODEL_984e8399910242a4b53e4355e0837a29",
        "IPY_MODEL_5b8e71f8ba0442dba0ad8a3a0cfbccc5",
        "IPY_MODEL_802ff5398ab846e4995de363b262a244"
       ],
       "layout": "IPY_MODEL_b0c85e648b7644b1ac766b697a4d05eb"
      }
     },
     "984e8399910242a4b53e4355e0837a29": {
      "model_module": "@jupyter-widgets/controls",
      "model_module_version": "2.0.0",
      "model_name": "CheckboxModel",
      "state": {
       "description": "NAIP Image",
       "disabled": false,
       "indent": false,
       "layout": "IPY_MODEL_8d4b58bc92b4422ebca6582cbf24ae55",
       "style": "IPY_MODEL_25b684acef574a6ca9b8adf3314f3060",
       "value": true
      }
     },
     "98eb5ec42dad4abbbc8432d15d04e996": {
      "model_module": "@jupyter-widgets/base",
      "model_module_version": "2.0.0",
      "model_name": "LayoutModel",
      "state": {
       "height": "18px",
       "padding": "0px 8px 25px 8px",
       "width": "30ex"
      }
     },
     "99aca30a79944f2cb4f869558acf8094": {
      "model_module": "@jupyter-widgets/controls",
      "model_module_version": "2.0.0",
      "model_name": "ToggleButtonModel",
      "state": {
       "button_style": "primary",
       "icon": "hand-o-up",
       "layout": "IPY_MODEL_c72a0c9430684eaca8fb53629514560a",
       "style": "IPY_MODEL_aac70c1c8d3447fa9bd375dfbc24faf6",
       "tooltip": "Collect training samples"
      }
     },
     "99f56d4998b7481faa554b42ade89578": {
      "model_module": "@jupyter-widgets/base",
      "model_module_version": "2.0.0",
      "model_name": "LayoutModel",
      "state": {
       "height": "auto",
       "padding": "0px 0px 0px 4px",
       "width": "auto"
      }
     },
     "99f828161b8d4b8b89f0f83feac0bd94": {
      "model_module": "@jupyter-widgets/base",
      "model_module_version": "2.0.0",
      "model_name": "LayoutModel",
      "state": {
       "height": "18px",
       "width": "140px"
      }
     },
     "9a296b60ede348aa9f98043b6de71f6f": {
      "model_module": "@jupyter-widgets/controls",
      "model_module_version": "2.0.0",
      "model_name": "CheckboxStyleModel",
      "state": {
       "description_width": ""
      }
     },
     "9a5c04b967304dabb6976b847bf49bef": {
      "model_module": "@jupyter-widgets/base",
      "model_module_version": "2.0.0",
      "model_name": "LayoutModel",
      "state": {
       "height": "auto",
       "padding": "0px 0px 0px 4px",
       "width": "auto"
      }
     },
     "9b3ba6dc1f6d4425b2f407f196fc51a6": {
      "model_module": "@jupyter-widgets/controls",
      "model_module_version": "2.0.0",
      "model_name": "LinkModel",
      "state": {
       "source": [
        "IPY_MODEL_d3265acded3845d2b293695e4fd9c268",
        "value"
       ],
       "target": [
        "IPY_MODEL_1f382b8f39f347e4af7bee1282fc5789",
        "visible"
       ]
      }
     },
     "9b784d9ba5524d46875c49c35e9e5018": {
      "model_module": "jupyter-leaflet",
      "model_module_version": "^0.17",
      "model_name": "LeafletTileLayerModel",
      "state": {
       "_model_module_version": "^0.17",
       "_view_module_version": "^0.17",
       "attribution": "Google Earth Engine",
       "max_zoom": 24,
       "name": "NAIP Image",
       "options": [
        "attribution",
        "bounds",
        "detect_retina",
        "max_native_zoom",
        "max_zoom",
        "min_native_zoom",
        "min_zoom",
        "no_wrap",
        "tile_size",
        "tms",
        "zoom_offset"
       ],
       "url": "https://earthengine.googleapis.com/v1/projects/earthengine-legacy/maps/5e52fb0f7b2406f7c2a206b669771b44-f9fc1965bf913311689c106fc2db59e3/tiles/{z}/{x}/{y}"
      }
     },
     "9c38c76c162d4340a6878b687c28b85f": {
      "model_module": "@jupyter-widgets/controls",
      "model_module_version": "2.0.0",
      "model_name": "ToggleButtonModel",
      "state": {
       "icon": "gear",
       "layout": "IPY_MODEL_946229bc321644c7927ae0e5d7b5ae9b",
       "style": "IPY_MODEL_1bd9fce4367743c3a653b8b01daa83ec",
       "tooltip": "MODIS Image"
      }
     },
     "9d10739c77304ff19599cf9967baa626": {
      "model_module": "jupyter-leaflet",
      "model_module_version": "^0.17",
      "model_name": "LeafletMapStyleModel",
      "state": {
       "_model_module_version": "^0.17",
       "cursor": "move"
      }
     },
     "9d234fe70d064da1ada4512416b3b8fc": {
      "model_module": "@jupyter-widgets/controls",
      "model_module_version": "2.0.0",
      "model_name": "ToggleButtonModel",
      "state": {
       "icon": "gear",
       "layout": "IPY_MODEL_d4b3ee92d2d54099a088c193958ec41a",
       "style": "IPY_MODEL_3246d0e6b3184feab5e9fbe4e0abf0a0",
       "tooltip": "LandsatMSS Image"
      }
     },
     "9d7e958bd23c4f69a2e8acbae4edf2a8": {
      "model_module": "@jupyter-widgets/controls",
      "model_module_version": "2.0.0",
      "model_name": "ToggleButtonModel",
      "state": {
       "icon": "gear",
       "layout": "IPY_MODEL_c395e8d0674641199ee85d71d27c8024",
       "style": "IPY_MODEL_44868e0e9fe44d5d8b7d05147cbf3d44",
       "tooltip": "Landsat TM Image"
      }
     },
     "9de13e35875c4c1b9db4fcdc25210226": {
      "model_module": "@jupyter-widgets/base",
      "model_module_version": "2.0.0",
      "model_name": "LayoutModel",
      "state": {}
     },
     "9e17b493dfff4f599e9661736f9e6c8f": {
      "model_module": "@jupyter-widgets/base",
      "model_module_version": "2.0.0",
      "model_name": "LayoutModel",
      "state": {
       "width": "80px"
      }
     },
     "9e2cdd3b12e84c88898258d90f7924fa": {
      "model_module": "jupyter-leaflet",
      "model_module_version": "^0.17",
      "model_name": "LeafletMapStyleModel",
      "state": {
       "_model_module_version": "^0.17"
      }
     },
     "9e39487a600a41c1b8385384097545d9": {
      "model_module": "@jupyter-widgets/controls",
      "model_module_version": "2.0.0",
      "model_name": "VBoxModel",
      "state": {
       "children": [
        "IPY_MODEL_f67ab5bb021f4c26bebbf10b2b5bab88",
        "IPY_MODEL_f409db8a39874dc49cf7314055f6c93c"
       ],
       "layout": "IPY_MODEL_62dcb8b167cd4d28aea089b0ac3d2ae1"
      }
     },
     "9eb40ff6cc2943f78cc133da5ab373fb": {
      "model_module": "@jupyter-widgets/base",
      "model_module_version": "2.0.0",
      "model_name": "LayoutModel",
      "state": {
       "height": "18px",
       "width": "140px"
      }
     },
     "9ed5f0ea84ab4270a24a2493bbedf012": {
      "model_module": "@jupyter-widgets/base",
      "model_module_version": "2.0.0",
      "model_name": "LayoutModel",
      "state": {
       "max_width": "57px",
       "min_width": "57px"
      }
     },
     "9ed9a31c76da4c459e6376909035a209": {
      "model_module": "@jupyter-widgets/controls",
      "model_module_version": "2.0.0",
      "model_name": "ToggleButtonStyleModel",
      "state": {
       "description_width": "",
       "font_family": null,
       "font_size": null,
       "font_style": null,
       "font_variant": null,
       "font_weight": null,
       "text_color": null,
       "text_decoration": null
      }
     },
     "9f6f0baed8484a8292d5ffe4f34f02cf": {
      "model_module": "@jupyter-widgets/base",
      "model_module_version": "2.0.0",
      "model_name": "LayoutModel",
      "state": {
       "height": "18px",
       "width": "140px"
      }
     },
     "9fa61a0196e54be8ae93b25a2b9c9ee7": {
      "model_module": "@jupyter-widgets/base",
      "model_module_version": "2.0.0",
      "model_name": "LayoutModel",
      "state": {
       "padding": "0px 8px 0px 8px"
      }
     },
     "9ff8904f33a54a768322920a9daa7fcf": {
      "model_module": "@jupyter-widgets/controls",
      "model_module_version": "2.0.0",
      "model_name": "ToggleButtonStyleModel",
      "state": {
       "description_width": "",
       "font_family": null,
       "font_size": null,
       "font_style": null,
       "font_variant": null,
       "font_weight": null,
       "text_color": null,
       "text_decoration": null
      }
     },
     "a08a746782b74e94975f079f029f82ed": {
      "model_module": "@jupyter-widgets/controls",
      "model_module_version": "2.0.0",
      "model_name": "HBoxModel",
      "state": {
       "children": [
        "IPY_MODEL_75c41aa1b5044f1f8b4b0b7dd507b343",
        "IPY_MODEL_29bdfd62e8c041fa9af9137be9fa683b"
       ],
       "layout": "IPY_MODEL_b20ee102c9d74f96ad52fc15af8e3fef"
      }
     },
     "a1087ba5da0f46b2aa3c3b771350a370": {
      "model_module": "@jupyter-widgets/controls",
      "model_module_version": "2.0.0",
      "model_name": "ToggleButtonStyleModel",
      "state": {
       "description_width": "",
       "font_family": null,
       "font_size": null,
       "font_style": null,
       "font_variant": null,
       "font_weight": null,
       "text_color": null,
       "text_decoration": null
      }
     },
     "a2572f33237949efaace8a7668259b9a": {
      "model_module": "@jupyter-widgets/controls",
      "model_module_version": "2.0.0",
      "model_name": "CheckboxStyleModel",
      "state": {
       "description_width": ""
      }
     },
     "a26bb0274e44404895e90d14b0f84e06": {
      "model_module": "jupyter-leaflet",
      "model_module_version": "^0.17",
      "model_name": "LeafletMapModel",
      "state": {
       "_model_module_version": "^0.17",
       "_view_module_version": "^0.17",
       "bottom": 754,
       "center": [
        19.973348786110613,
        0
       ],
       "controls": [
        "IPY_MODEL_929e3fb68ea246709ef8078981cc3c39",
        "IPY_MODEL_d792b64621c14939af386897a9d910f9",
        "IPY_MODEL_25080325d0ba4044afc4e2311e1e5ee6",
        "IPY_MODEL_f0fa899c58144faa94afe83fc03c4624",
        "IPY_MODEL_1977dc47d9fd4b1087fa35618c5afae8",
        "IPY_MODEL_e3217a33703d488393f8297c6fa04e6c",
        "IPY_MODEL_5448455d2eee40cb98b928a562cc1a63",
        "IPY_MODEL_5358a3c7fefd4b9b956eae9bb17662b8"
       ],
       "default_style": "IPY_MODEL_c382f120f23a4d70b3827cb9cf9e633d",
       "dragging_style": "IPY_MODEL_8fc2956275434931bd90fdc813cb0789",
       "east": 125.85937500000001,
       "fullscreen": false,
       "interpolation": "bilinear",
       "layers": [
        "IPY_MODEL_62bdcf02f0f34168b9b63bde363f368a",
        "IPY_MODEL_bfae8cbf6cf349d4b84ad446b510cf15",
        "IPY_MODEL_b5b324eb48794e19acb908abd1ed2d0e",
        "IPY_MODEL_5debb7cb3ad44e308ccf29c2a6b2ce70",
        "IPY_MODEL_94905c6d5acb459ca8106425b4ef7387",
        "IPY_MODEL_2f0d57533fa84f7592ce9189084901c8"
       ],
       "layout": "IPY_MODEL_8b622139064a4c8ebafc6fcce76c9cb0",
       "left": 153,
       "max_zoom": 24,
       "modisdate": "2024-02-19",
       "north": 77.31251993823143,
       "options": [
        "bounce_at_zoom_limits",
        "box_zoom",
        "center",
        "close_popup_on_click",
        "double_click_zoom",
        "dragging",
        "fullscreen",
        "inertia",
        "inertia_deceleration",
        "inertia_max_speed",
        "interpolation",
        "keyboard",
        "keyboard_pan_offset",
        "keyboard_zoom_offset",
        "max_zoom",
        "min_zoom",
        "prefer_canvas",
        "scroll_wheel_zoom",
        "tap",
        "tap_tolerance",
        "touch_zoom",
        "world_copy_jump",
        "zoom",
        "zoom_animation_threshold",
        "zoom_delta",
        "zoom_snap"
       ],
       "prefer_canvas": false,
       "right": 870,
       "scroll_wheel_zoom": true,
       "south": -64.47279382008165,
       "style": "IPY_MODEL_c382f120f23a4d70b3827cb9cf9e633d",
       "top": 154,
       "west": -126.21093750000001,
       "window_url": "https://jupyterhub.cuahsi.org/user/torresrua/lab/tree/courses/RS_of_Land_Surfaces_laboratory/Lab%202%20Characteristics%20of%20remotely%20sensed%20data.ipynb",
       "zoom": 2
      }
     },
     "a2b89ea84acb4ea8bde1b899b416be68": {
      "model_module": "@jupyter-widgets/controls",
      "model_module_version": "2.0.0",
      "model_name": "ToggleButtonModel",
      "state": {
       "button_style": "primary",
       "icon": "globe",
       "layout": "IPY_MODEL_425e8e4bce9446cdae6ab10a5e7b5337",
       "style": "IPY_MODEL_9ed9a31c76da4c459e6376909035a209",
       "tooltip": "Create timelapse"
      }
     },
     "a300de6a27b441938bfccbbc260271d5": {
      "model_module": "@jupyter-widgets/base",
      "model_module_version": "2.0.0",
      "model_name": "LayoutModel",
      "state": {
       "height": "25px",
       "padding": "0px 0px 0px 5px",
       "width": "25px"
      }
     },
     "a307f6c400e042f78b86c8499db6da8d": {
      "model_module": "@jupyter-widgets/base",
      "model_module_version": "2.0.0",
      "model_name": "LayoutModel",
      "state": {}
     },
     "a49ef0bf717e41669dd95d52ba3e05c1": {
      "model_module": "@jupyter-widgets/controls",
      "model_module_version": "2.0.0",
      "model_name": "ToggleButtonStyleModel",
      "state": {
       "description_width": "",
       "font_family": null,
       "font_size": null,
       "font_style": null,
       "font_variant": null,
       "font_weight": null,
       "text_color": null,
       "text_decoration": null
      }
     },
     "a61e7da5728446b68fa1e73307a0ed12": {
      "model_module": "@jupyter-widgets/base",
      "model_module_version": "2.0.0",
      "model_name": "LayoutModel",
      "state": {
       "padding": "0px 8px 0px 8px"
      }
     },
     "a662561e0c5549e387a02b0869693f04": {
      "model_module": "@jupyter-widgets/base",
      "model_module_version": "2.0.0",
      "model_name": "LayoutModel",
      "state": {
       "width": "80px"
      }
     },
     "a71721fc51b54e20b6a305514ea7812c": {
      "model_module": "@jupyter-widgets/controls",
      "model_module_version": "2.0.0",
      "model_name": "DirectionalLinkModel",
      "state": {
       "source": [
        "IPY_MODEL_38991a5a40044108836a0a0537be8031",
        "value"
       ],
       "target": [
        "IPY_MODEL_d05ba91d02d340ea9c6d1806e89cb460",
        "opacity"
       ]
      }
     },
     "a949ee559de6419cb9fab8cdf8449014": {
      "model_module": "@jupyter-widgets/controls",
      "model_module_version": "2.0.0",
      "model_name": "CheckboxModel",
      "state": {
       "description": "MODIS Image",
       "disabled": false,
       "indent": false,
       "layout": "IPY_MODEL_3b67cd04e54c41249e8d8722207c9854",
       "style": "IPY_MODEL_88c2de1fa6d64ce29671ef68c237f7a7",
       "value": false
      }
     },
     "a951ddc28fc14e40bbb1d11c9adc5c71": {
      "model_module": "@jupyter-widgets/controls",
      "model_module_version": "2.0.0",
      "model_name": "ToggleButtonModel",
      "state": {
       "icon": "gear",
       "layout": "IPY_MODEL_0eeef3346db74c0e95e0f11fa289e83f",
       "style": "IPY_MODEL_f8c2e55a151d4c4aa240c450a24d913b",
       "tooltip": "MODIS Image"
      }
     },
     "aa354767472a4bc8bf83c1746efc598c": {
      "model_module": "@jupyter-widgets/controls",
      "model_module_version": "2.0.0",
      "model_name": "TextModel",
      "state": {
       "layout": "IPY_MODEL_69c46068149d499d90aaebf181151778",
       "placeholder": "Search by place name or address",
       "style": "IPY_MODEL_02f94d8c6ef64f3880d86d589456fa55",
       "tooltip": "Search location"
      }
     },
     "aa9deb775b9f4861af66da95cae28c85": {
      "model_module": "@jupyter-widgets/controls",
      "model_module_version": "2.0.0",
      "model_name": "VBoxModel",
      "state": {
       "_view_count": 5,
       "children": [
        "IPY_MODEL_253cec97389b4bd894b7befff65770e0"
       ],
       "layout": "IPY_MODEL_b9c8671fe9e242208795855384dcde08"
      }
     },
     "aac41555276741368716a3774520c01e": {
      "model_module": "@jupyter-widgets/controls",
      "model_module_version": "2.0.0",
      "model_name": "CheckboxStyleModel",
      "state": {
       "description_width": ""
      }
     },
     "aac70c1c8d3447fa9bd375dfbc24faf6": {
      "model_module": "@jupyter-widgets/controls",
      "model_module_version": "2.0.0",
      "model_name": "ToggleButtonStyleModel",
      "state": {
       "description_width": "",
       "font_family": null,
       "font_size": null,
       "font_style": null,
       "font_variant": null,
       "font_weight": null,
       "text_color": null,
       "text_decoration": null
      }
     },
     "aae2ee6e524d4ab9a0270f86f71d2c6f": {
      "model_module": "@jupyter-widgets/controls",
      "model_module_version": "2.0.0",
      "model_name": "VBoxModel",
      "state": {
       "children": [
        "IPY_MODEL_062581d4fd294ddebde234d327765c8a",
        "IPY_MODEL_232fd19257c94b2bb6ff7b029eefa6e4"
       ],
       "layout": "IPY_MODEL_bccc641a2d3d4e2aa056042292282934"
      }
     },
     "ab0f69c248794046a294f9db235717b9": {
      "model_module": "@jupyter-widgets/controls",
      "model_module_version": "2.0.0",
      "model_name": "ToggleButtonModel",
      "state": {
       "icon": "server",
       "layout": "IPY_MODEL_f87da8a1bd51452ead8cf3fefcd54a2e",
       "style": "IPY_MODEL_33550ae1e986428f89310d441bc7c2ce",
       "tooltip": "Layers"
      }
     },
     "ab6f8057e3e340eb997999bb8c2bdce9": {
      "model_module": "@jupyter-widgets/base",
      "model_module_version": "2.0.0",
      "model_name": "LayoutModel",
      "state": {}
     },
     "abadf9e703514aa7826d784ea46e60fc": {
      "model_module": "@jupyter-widgets/controls",
      "model_module_version": "2.0.0",
      "model_name": "ToggleButtonStyleModel",
      "state": {
       "description_width": "",
       "font_family": null,
       "font_size": null,
       "font_style": null,
       "font_variant": null,
       "font_weight": null,
       "text_color": null,
       "text_decoration": null
      }
     },
     "abbd4c2dd7734afbb58682b384349c08": {
      "model_module": "@jupyter-widgets/base",
      "model_module_version": "2.0.0",
      "model_name": "LayoutModel",
      "state": {
       "width": "80px"
      }
     },
     "acb840ea39ac482e9f865a1f142bc1f8": {
      "model_module": "@jupyter-widgets/base",
      "model_module_version": "2.0.0",
      "model_name": "LayoutModel",
      "state": {
       "height": "18px",
       "width": "140px"
      }
     },
     "ad32b72a4258427f8ed665df958a7213": {
      "model_module": "@jupyter-widgets/base",
      "model_module_version": "2.0.0",
      "model_name": "LayoutModel",
      "state": {
       "height": "auto",
       "padding": "0px 0px 0px 4px",
       "width": "auto"
      }
     },
     "ad6ae88026e1469d976a6f79bf69f78a": {
      "model_module": "@jupyter-widgets/controls",
      "model_module_version": "2.0.0",
      "model_name": "DirectionalLinkModel",
      "state": {
       "source": [
        "IPY_MODEL_800a291c40f04636a0343c3270b42a74",
        "value"
       ],
       "target": [
        "IPY_MODEL_1f382b8f39f347e4af7bee1282fc5789",
        "opacity"
       ]
      }
     },
     "adeeeea561de43fd87bcc7a00229a3d6": {
      "model_module": "@jupyter-widgets/base",
      "model_module_version": "2.0.0",
      "model_name": "LayoutModel",
      "state": {
       "height": "25px",
       "padding": "0px 0px 0px 5px",
       "width": "25px"
      }
     },
     "af1fcca608c94e278dbe417011a90fe7": {
      "model_module": "@jupyter-widgets/controls",
      "model_module_version": "2.0.0",
      "model_name": "CheckboxModel",
      "state": {
       "description": "NAIP Image",
       "disabled": false,
       "indent": false,
       "layout": "IPY_MODEL_343eb43335bb457dbfe01479bd7bc7be",
       "style": "IPY_MODEL_75a9909f3d854af0a59617d34e620463",
       "value": true
      }
     },
     "afbf974d5b054b48986e18b0cb988c04": {
      "model_module": "@jupyter-widgets/base",
      "model_module_version": "2.0.0",
      "model_name": "LayoutModel",
      "state": {
       "padding": "0px 8px 0px 8px"
      }
     },
     "b096dd2b285342b8844b565d903618d9": {
      "model_module": "@jupyter-widgets/base",
      "model_module_version": "2.0.0",
      "model_name": "LayoutModel",
      "state": {
       "padding": "0px 8px 0px 8px"
      }
     },
     "b0b2e3edfbb84e1faeb2c5e5139b96db": {
      "model_module": "@jupyter-widgets/base",
      "model_module_version": "2.0.0",
      "model_name": "LayoutModel",
      "state": {
       "height": "25px",
       "padding": "0px 0px 0px 5px",
       "width": "25px"
      }
     },
     "b0c85e648b7644b1ac766b697a4d05eb": {
      "model_module": "@jupyter-widgets/base",
      "model_module_version": "2.0.0",
      "model_name": "LayoutModel",
      "state": {
       "padding": "0px 8px 0px 8px"
      }
     },
     "b13d3ea3384b4f969ed4f1cf65393f34": {
      "model_module": "@jupyter-widgets/controls",
      "model_module_version": "2.0.0",
      "model_name": "ToggleButtonModel",
      "state": {
       "button_style": "primary",
       "icon": "times",
       "layout": "IPY_MODEL_d4111302ee634fcf89e1cf25a499d227",
       "style": "IPY_MODEL_c6909fdbf4cf4c7290ea24a95812bddd",
       "tooltip": "Close the tool"
      }
     },
     "b17565a4fc5047699f8a06cd168e96fe": {
      "model_module": "@jupyter-widgets/base",
      "model_module_version": "2.0.0",
      "model_name": "LayoutModel",
      "state": {
       "max_width": "279px",
       "min_width": "279px"
      }
     },
     "b20ee102c9d74f96ad52fc15af8e3fef": {
      "model_module": "@jupyter-widgets/base",
      "model_module_version": "2.0.0",
      "model_name": "LayoutModel",
      "state": {}
     },
     "b2f9b34471624d63a2339773555e5d17": {
      "model_module": "@jupyter-widgets/controls",
      "model_module_version": "2.0.0",
      "model_name": "DirectionalLinkModel",
      "state": {
       "source": [
        "IPY_MODEL_ba24237a0eba4b7a93d9f99e7a74cdaf",
        "value"
       ],
       "target": [
        "IPY_MODEL_d05ba91d02d340ea9c6d1806e89cb460",
        "opacity"
       ]
      }
     },
     "b30875e2e62b4be4ade1283986f958a2": {
      "model_module": "@jupyter-widgets/controls",
      "model_module_version": "2.0.0",
      "model_name": "FloatSliderModel",
      "state": {
       "behavior": "drag-tap",
       "layout": "IPY_MODEL_8f5096fbeb5a4048a3453fa5c61fe582",
       "max": 1,
       "readout": false,
       "step": 0.01,
       "style": "IPY_MODEL_106025b8da5a43e6b0e25b7920c56755",
       "value": 1
      }
     },
     "b4294ac0e17842b7a29486e865ef95b0": {
      "model_module": "jupyter-leaflet",
      "model_module_version": "^0.17",
      "model_name": "LeafletTileLayerModel",
      "state": {
       "_model_module_version": "^0.17",
       "_view_module_version": "^0.17",
       "attribution": "Google Earth Engine",
       "max_zoom": 24,
       "name": "MODIS Image",
       "options": [
        "attribution",
        "bounds",
        "detect_retina",
        "max_native_zoom",
        "max_zoom",
        "min_native_zoom",
        "min_zoom",
        "no_wrap",
        "tile_size",
        "tms",
        "zoom_offset"
       ],
       "url": "https://earthengine.googleapis.com/v1/projects/earthengine-legacy/maps/1d1ae7e2358f3ef4dce03f7cbdff0b44-a00178579f08ecb8c4ade78edc3aac45/tiles/{z}/{x}/{y}"
      }
     },
     "b45f3ce67da84dd79536e3e7c9ed1767": {
      "model_module": "@jupyter-widgets/controls",
      "model_module_version": "2.0.0",
      "model_name": "HBoxModel",
      "state": {
       "children": [
        "IPY_MODEL_d3265acded3845d2b293695e4fd9c268",
        "IPY_MODEL_0c401d7ee39c4ef5b799f36e7f0ff13b",
        "IPY_MODEL_82b00a1452204c668e19dde90a923860"
       ],
       "layout": "IPY_MODEL_d9c791e685f34a5ebf0ce369df793779"
      }
     },
     "b51b7fc1f9c1440d8c4b714aae414d41": {
      "model_module": "@jupyter-widgets/controls",
      "model_module_version": "2.0.0",
      "model_name": "SliderStyleModel",
      "state": {
       "description_width": ""
      }
     },
     "b523c4e68c84451fb62270bb70396c69": {
      "model_module": "@jupyter-widgets/base",
      "model_module_version": "2.0.0",
      "model_name": "LayoutModel",
      "state": {
       "width": "80px"
      }
     },
     "b54d414dce3d4a76aa33d48b9cc52f0f": {
      "model_module": "@jupyter-widgets/base",
      "model_module_version": "2.0.0",
      "model_name": "LayoutModel",
      "state": {
       "height": "auto",
       "padding": "0px 0px 0px 4px",
       "width": "auto"
      }
     },
     "b5b324eb48794e19acb908abd1ed2d0e": {
      "model_module": "jupyter-leaflet",
      "model_module_version": "^0.17",
      "model_name": "LeafletTileLayerModel",
      "state": {
       "_model_module_version": "^0.17",
       "_view_module_version": "^0.17",
       "attribution": "Google Earth Engine",
       "max_zoom": 24,
       "name": "MODIS Image",
       "options": [
        "attribution",
        "bounds",
        "detect_retina",
        "max_native_zoom",
        "max_zoom",
        "min_native_zoom",
        "min_zoom",
        "no_wrap",
        "tile_size",
        "tms",
        "zoom_offset"
       ],
       "url": "https://earthengine.googleapis.com/v1/projects/earthengine-legacy/maps/1ba729944697d04e8cbe40f848dfcc6d-d850a2dc82a222c421442dc483380af3/tiles/{z}/{x}/{y}"
      }
     },
     "b5dba8af2dc0440faed4044b62e3863f": {
      "model_module": "@jupyter-widgets/controls",
      "model_module_version": "2.0.0",
      "model_name": "ToggleButtonStyleModel",
      "state": {
       "description_width": "",
       "font_family": null,
       "font_size": null,
       "font_style": null,
       "font_variant": null,
       "font_weight": null,
       "text_color": null,
       "text_decoration": null
      }
     },
     "b6b9cd9aa0e143a4bb20ae0735272162": {
      "model_module": "@jupyter-widgets/controls",
      "model_module_version": "2.0.0",
      "model_name": "HBoxModel",
      "state": {
       "children": [
        "IPY_MODEL_2143acd71f1e49eb8436765e5a337c0a",
        "IPY_MODEL_c60d0da60baf4a26bc549788dd160fac",
        "IPY_MODEL_b30875e2e62b4be4ade1283986f958a2"
       ],
       "layout": "IPY_MODEL_f2137150d1db4f18841c4c5ec14b8e0c"
      }
     },
     "b70974def9e04c3686ff4babf9c5841d": {
      "model_module": "@jupyter-widgets/controls",
      "model_module_version": "2.0.0",
      "model_name": "ToggleButtonStyleModel",
      "state": {
       "description_width": "",
       "font_family": null,
       "font_size": null,
       "font_style": null,
       "font_variant": null,
       "font_weight": null,
       "text_color": null,
       "text_decoration": null
      }
     },
     "b72540f54729448d8d0011bb4ef74198": {
      "model_module": "@jupyter-widgets/controls",
      "model_module_version": "2.0.0",
      "model_name": "DescriptionStyleModel",
      "state": {
       "description_width": ""
      }
     },
     "b738c0bc185a4e8b8e4ce03afa07672b": {
      "model_module": "@jupyter-widgets/controls",
      "model_module_version": "2.0.0",
      "model_name": "ToggleButtonModel",
      "state": {
       "button_style": "primary",
       "icon": "adjust",
       "layout": "IPY_MODEL_49b133d9109a432a8ef9cb913d641dc4",
       "style": "IPY_MODEL_401f6302b84742699e802c49b7742d60",
       "tooltip": "Planet imagery"
      }
     },
     "b7768ff473df4e058cabc23f4d3ed827": {
      "model_module": "@jupyter-widgets/controls",
      "model_module_version": "2.0.0",
      "model_name": "ToggleButtonModel",
      "state": {
       "button_style": "primary",
       "icon": "line-chart",
       "layout": "IPY_MODEL_591bdef5642147c1a1707457f10e21d8",
       "style": "IPY_MODEL_30fa73080f494a09bd4f58a4aa6d7253",
       "tooltip": "Creating and plotting transects"
      }
     },
     "b7d8d5bec7e440b0bf9c02f598ffe411": {
      "model_module": "@jupyter-widgets/base",
      "model_module_version": "2.0.0",
      "model_name": "LayoutModel",
      "state": {
       "width": "340px"
      }
     },
     "b84f7ee942954df497864debef9c2005": {
      "model_module": "@jupyter-widgets/controls",
      "model_module_version": "2.0.0",
      "model_name": "ToggleButtonStyleModel",
      "state": {
       "description_width": "",
       "font_family": null,
       "font_size": null,
       "font_style": null,
       "font_variant": null,
       "font_weight": null,
       "text_color": null,
       "text_decoration": null
      }
     },
     "b8c0d06f382c4f93be2592988616f52e": {
      "model_module": "@jupyter-widgets/controls",
      "model_module_version": "2.0.0",
      "model_name": "FloatSliderModel",
      "state": {
       "behavior": "drag-tap",
       "layout": "IPY_MODEL_3a7ef109acf24188af10d3e8c759497e",
       "max": 1,
       "readout": false,
       "step": 0.01,
       "style": "IPY_MODEL_dd8c1e98544048a7b11dfc43b9fad124",
       "value": 1
      }
     },
     "b9128922f73946a39ec89e12d7cdd9cc": {
      "model_module": "@jupyter-widgets/base",
      "model_module_version": "2.0.0",
      "model_name": "LayoutModel",
      "state": {
       "height": "28px",
       "width": "72px"
      }
     },
     "b9271dafb65a4d719ebf52756fd62030": {
      "model_module": "@jupyter-widgets/controls",
      "model_module_version": "2.0.0",
      "model_name": "HBoxModel",
      "state": {
       "children": [
        "IPY_MODEL_8556724ffb724187b4f49bf160383b7c",
        "IPY_MODEL_9d234fe70d064da1ada4512416b3b8fc",
        "IPY_MODEL_79fd1af72da04c84881cdfe538f7dadd"
       ],
       "layout": "IPY_MODEL_259e278977d84c2393795522643d5d61"
      }
     },
     "b9c8671fe9e242208795855384dcde08": {
      "model_module": "@jupyter-widgets/base",
      "model_module_version": "2.0.0",
      "model_name": "LayoutModel",
      "state": {}
     },
     "b9fbf51d420f4a87885a0fef00bf8a86": {
      "model_module": "@jupyter-widgets/controls",
      "model_module_version": "2.0.0",
      "model_name": "CheckboxStyleModel",
      "state": {
       "description_width": ""
      }
     },
     "ba24237a0eba4b7a93d9f99e7a74cdaf": {
      "model_module": "@jupyter-widgets/controls",
      "model_module_version": "2.0.0",
      "model_name": "FloatSliderModel",
      "state": {
       "behavior": "drag-tap",
       "layout": "IPY_MODEL_17e37513117a4b3084232af23246fba8",
       "max": 1,
       "readout": false,
       "step": 0.01,
       "style": "IPY_MODEL_d410e89ee97d4d43a58f8e3470c50ecc",
       "value": 1
      }
     },
     "baf0230b0f0a4af29c89038dc16e22fd": {
      "model_module": "@jupyter-widgets/controls",
      "model_module_version": "2.0.0",
      "model_name": "ToggleButtonStyleModel",
      "state": {
       "description_width": "",
       "font_family": null,
       "font_size": null,
       "font_style": null,
       "font_variant": null,
       "font_weight": null,
       "text_color": null,
       "text_decoration": null
      }
     },
     "bc0e6b789f484cab88ed7d9cd6d09d4d": {
      "model_module": "@jupyter-widgets/base",
      "model_module_version": "2.0.0",
      "model_name": "LayoutModel",
      "state": {}
     },
     "bc435b45e79b4ba3810d5b21cc28b33a": {
      "model_module": "@jupyter-widgets/base",
      "model_module_version": "2.0.0",
      "model_name": "LayoutModel",
      "state": {}
     },
     "bccc641a2d3d4e2aa056042292282934": {
      "model_module": "@jupyter-widgets/base",
      "model_module_version": "2.0.0",
      "model_name": "LayoutModel",
      "state": {}
     },
     "bd8cc9bd4f184448952f322cc6c04d27": {
      "model_module": "@jupyter-widgets/controls",
      "model_module_version": "2.0.0",
      "model_name": "ToggleButtonModel",
      "state": {
       "button_style": "primary",
       "icon": "info-circle",
       "layout": "IPY_MODEL_d792d01c140f4b289005816041053683",
       "style": "IPY_MODEL_a1087ba5da0f46b2aa3c3b771350a370",
       "tooltip": "Get COG/STAC pixel value"
      }
     },
     "bdb6418d6b244e5fa2ba590fbae3bc78": {
      "model_module": "@jupyter-widgets/base",
      "model_module_version": "2.0.0",
      "model_name": "LayoutModel",
      "state": {
       "height": "25px",
       "padding": "0px 0px 0px 5px",
       "width": "25px"
      }
     },
     "bfa821063df54a2cb090369fe5573f38": {
      "model_module": "@jupyter-widgets/controls",
      "model_module_version": "2.0.0",
      "model_name": "ToggleButtonStyleModel",
      "state": {
       "description_width": "",
       "font_family": null,
       "font_size": null,
       "font_style": null,
       "font_variant": null,
       "font_weight": null,
       "text_color": null,
       "text_decoration": null
      }
     },
     "bfae8cbf6cf349d4b84ad446b510cf15": {
      "model_module": "jupyter-leaflet",
      "model_module_version": "^0.17",
      "model_name": "LeafletTileLayerModel",
      "state": {
       "_model_module_version": "^0.17",
       "_view_module_version": "^0.17",
       "attribution": "Google",
       "max_zoom": 24,
       "name": "Google Maps",
       "options": [
        "attribution",
        "bounds",
        "detect_retina",
        "max_native_zoom",
        "max_zoom",
        "min_native_zoom",
        "min_zoom",
        "no_wrap",
        "tile_size",
        "tms",
        "zoom_offset"
       ],
       "url": "https://mt1.google.com/vt/lyrs=m&x={x}&y={y}&z={z}"
      }
     },
     "c0a5e6b1130b4adca89857d44e0893f9": {
      "model_module": "@jupyter-widgets/controls",
      "model_module_version": "2.0.0",
      "model_name": "GridBoxModel",
      "state": {
       "children": [
        "IPY_MODEL_ed25c7d9d3b14fe59b3b324ec819ef67",
        "IPY_MODEL_09771e9aad6c4f44a8681d363e744bf2",
        "IPY_MODEL_dd6f61c31e894469a06b62785967797f",
        "IPY_MODEL_14c6135ae8f74e8b967137b42b01d94f",
        "IPY_MODEL_411791cd897d45ecba4d420c4df9a180",
        "IPY_MODEL_47cbfce34f2f4b0ba16e776fbdab9a18"
       ],
       "layout": "IPY_MODEL_1851e8b2880e4929841f5d80d5880546"
      }
     },
     "c1b6ed6e1d3f40709cb0df84f8a145e9": {
      "model_module": "@jupyter-widgets/controls",
      "model_module_version": "2.0.0",
      "model_name": "SliderStyleModel",
      "state": {
       "description_width": ""
      }
     },
     "c22026ffd5ed47d982a360e654a269ab": {
      "model_module": "@jupyter-widgets/controls",
      "model_module_version": "2.0.0",
      "model_name": "ToggleButtonStyleModel",
      "state": {
       "description_width": "",
       "font_family": null,
       "font_size": null,
       "font_style": null,
       "font_variant": null,
       "font_weight": null,
       "text_color": null,
       "text_decoration": null
      }
     },
     "c22a04f8ba554b578dc05c7564935043": {
      "model_module": "@jupyter-widgets/controls",
      "model_module_version": "2.0.0",
      "model_name": "DirectionalLinkModel",
      "state": {
       "source": [
        "IPY_MODEL_79fd1af72da04c84881cdfe538f7dadd",
        "value"
       ],
       "target": [
        "IPY_MODEL_02ae87f908f043a8bdb2843f4b4ead32",
        "opacity"
       ]
      }
     },
     "c27c76431b7c4522bb3784cee1ac6a07": {
      "model_module": "jupyter-leaflet",
      "model_module_version": "^0.17",
      "model_name": "LeafletZoomControlModel",
      "state": {
       "_model_module_version": "^0.17",
       "_view_module_version": "^0.17",
       "options": [
        "position",
        "zoom_in_text",
        "zoom_in_title",
        "zoom_out_text",
        "zoom_out_title"
       ]
      }
     },
     "c338495864bb4fccbadebbe12d6fe32a": {
      "model_module": "@jupyter-widgets/controls",
      "model_module_version": "2.0.0",
      "model_name": "CheckboxModel",
      "state": {
       "description": "Google Maps",
       "disabled": false,
       "indent": false,
       "layout": "IPY_MODEL_5f079174ba414d94a48ef8d95a238934",
       "style": "IPY_MODEL_1a68e35d44f84d55880ca9ee93280c95",
       "value": true
      }
     },
     "c3561cf801db475784fa5bd45499280b": {
      "model_module": "@jupyter-widgets/controls",
      "model_module_version": "2.0.0",
      "model_name": "CheckboxModel",
      "state": {
       "description": "Google Maps",
       "disabled": false,
       "indent": false,
       "layout": "IPY_MODEL_242fd744be3a48afb71022595d4160ab",
       "style": "IPY_MODEL_819bbf3265374ef8b842064fb23abf67",
       "value": true
      }
     },
     "c382f120f23a4d70b3827cb9cf9e633d": {
      "model_module": "jupyter-leaflet",
      "model_module_version": "^0.17",
      "model_name": "LeafletMapStyleModel",
      "state": {
       "_model_module_version": "^0.17"
      }
     },
     "c395e8d0674641199ee85d71d27c8024": {
      "model_module": "@jupyter-widgets/base",
      "model_module_version": "2.0.0",
      "model_name": "LayoutModel",
      "state": {
       "height": "25px",
       "padding": "0px 0px 0px 5px",
       "width": "25px"
      }
     },
     "c3a282bbf902413e8920451951ea81ea": {
      "model_module": "@jupyter-widgets/base",
      "model_module_version": "2.0.0",
      "model_name": "LayoutModel",
      "state": {}
     },
     "c46006bf5ecf48739d55d25f6f39e5f3": {
      "model_module": "@jupyter-widgets/controls",
      "model_module_version": "2.0.0",
      "model_name": "LinkModel",
      "state": {
       "source": [
        "IPY_MODEL_2143acd71f1e49eb8436765e5a337c0a",
        "value"
       ],
       "target": [
        "IPY_MODEL_3510f03926d44b6ba0c74d6e662c9fc3",
        "visible"
       ]
      }
     },
     "c5919953c0f840b7ad0dea44a9496746": {
      "model_module": "@jupyter-widgets/controls",
      "model_module_version": "2.0.0",
      "model_name": "ToggleButtonModel",
      "state": {
       "button_style": "primary",
       "icon": "info-circle",
       "layout": "IPY_MODEL_03c08634b9fb4a0883a759e56d273e1d",
       "style": "IPY_MODEL_34ac48258c794490823a22d2d9fa8460",
       "tooltip": "Get COG/STAC pixel value"
      }
     },
     "c5b5a4ff512f4d35a6aa369871deedb6": {
      "model_module": "jupyter-leaflet",
      "model_module_version": "^0.17",
      "model_name": "LeafletScaleControlModel",
      "state": {
       "_model_module_version": "^0.17",
       "_view_module_version": "^0.17",
       "imperial": true,
       "max_width": 100,
       "metric": true,
       "options": [
        "imperial",
        "max_width",
        "metric",
        "position",
        "update_when_idle"
       ],
       "position": "bottomleft",
       "update_when_idle": false
      }
     },
     "c5b886054cbb4459a9e70d5caa306374": {
      "model_module": "@jupyter-widgets/controls",
      "model_module_version": "2.0.0",
      "model_name": "ToggleButtonModel",
      "state": {
       "button_style": "primary",
       "icon": "bar-chart",
       "layout": "IPY_MODEL_769ba3fd3df0441a891a4ca763c74cbb",
       "style": "IPY_MODEL_a49ef0bf717e41669dd95d52ba3e05c1",
       "tooltip": "Plotting"
      }
     },
     "c5f148c73964429bacab848cbd1a900a": {
      "model_module": "@jupyter-widgets/controls",
      "model_module_version": "2.0.0",
      "model_name": "CheckboxModel",
      "state": {
       "description": "LandsatMSS Image",
       "disabled": false,
       "indent": false,
       "layout": "IPY_MODEL_14d12cecebf9474285131d07d34b375a",
       "style": "IPY_MODEL_b9fbf51d420f4a87885a0fef00bf8a86",
       "value": true
      }
     },
     "c60d0da60baf4a26bc549788dd160fac": {
      "model_module": "@jupyter-widgets/controls",
      "model_module_version": "2.0.0",
      "model_name": "ToggleButtonModel",
      "state": {
       "icon": "gear",
       "layout": "IPY_MODEL_2f643c4dab774ebd9bac8c63e8bf582f",
       "style": "IPY_MODEL_54394d509cef49d28ac22bc3ec1d74e1",
       "tooltip": "Landsat TM Image"
      }
     },
     "c63f8cb429064af1aabe5a6de42618c7": {
      "model_module": "@jupyter-widgets/controls",
      "model_module_version": "2.0.0",
      "model_name": "HBoxModel",
      "state": {
       "children": [
        "IPY_MODEL_03e954626f244ba493767050c9c72fb1",
        "IPY_MODEL_9c38c76c162d4340a6878b687c28b85f",
        "IPY_MODEL_515905bd87db4be782b3d9c7162434ba"
       ],
       "layout": "IPY_MODEL_de4b46d0d9954c1fabef11d602a597ce"
      }
     },
     "c6909fdbf4cf4c7290ea24a95812bddd": {
      "model_module": "@jupyter-widgets/controls",
      "model_module_version": "2.0.0",
      "model_name": "ToggleButtonStyleModel",
      "state": {
       "description_width": "",
       "font_family": null,
       "font_size": null,
       "font_style": null,
       "font_variant": null,
       "font_weight": null,
       "text_color": null,
       "text_decoration": null
      }
     },
     "c6d4ec5c2377484f983456bea6e9ed7f": {
      "model_module": "@jupyter-widgets/controls",
      "model_module_version": "2.0.0",
      "model_name": "SliderStyleModel",
      "state": {
       "description_width": ""
      }
     },
     "c71bb89dfb3d427a80c8a6bdccab9ee2": {
      "model_module": "@jupyter-widgets/base",
      "model_module_version": "2.0.0",
      "model_name": "LayoutModel",
      "state": {}
     },
     "c72a0c9430684eaca8fb53629514560a": {
      "model_module": "@jupyter-widgets/base",
      "model_module_version": "2.0.0",
      "model_name": "LayoutModel",
      "state": {
       "height": "auto",
       "padding": "0px 0px 0px 4px",
       "width": "auto"
      }
     },
     "c7845684f5554ff7adab3cbc2ae9c08b": {
      "model_module": "@jupyter-widgets/controls",
      "model_module_version": "2.0.0",
      "model_name": "ToggleButtonModel",
      "state": {
       "button_style": "primary",
       "icon": "eraser",
       "layout": "IPY_MODEL_b54d414dce3d4a76aa33d48b9cc52f0f",
       "style": "IPY_MODEL_65d042dddc3a44c588166678ed8c7e1d",
       "tooltip": "Remove all drawn features"
      }
     },
     "c84f17c7154948068875daa82f954bcc": {
      "model_module": "@jupyter-widgets/base",
      "model_module_version": "2.0.0",
      "model_name": "LayoutModel",
      "state": {
       "width": "80px"
      }
     },
     "c87ab29f21654157b0a8d645719c2235": {
      "model_module": "jupyter-leaflet",
      "model_module_version": "^0.17",
      "model_name": "LeafletTileLayerModel",
      "state": {
       "_model_module_version": "^0.17",
       "_view_module_version": "^0.17",
       "attribution": "&copy; <a href=\"https://www.openstreetmap.org/copyright\">OpenStreetMap</a> contributors",
       "base": true,
       "max_zoom": 19,
       "min_zoom": 1,
       "name": "OpenStreetMap.Mapnik",
       "options": [
        "attribution",
        "bounds",
        "detect_retina",
        "max_native_zoom",
        "max_zoom",
        "min_native_zoom",
        "min_zoom",
        "no_wrap",
        "tile_size",
        "tms",
        "zoom_offset"
       ],
       "url": "https://tile.openstreetmap.org/{z}/{x}/{y}.png"
      }
     },
     "c90c325dc8f44ba9bcbbabdf7f24d4c4": {
      "model_module": "@jupyter-widgets/controls",
      "model_module_version": "2.0.0",
      "model_name": "LinkModel",
      "state": {
       "source": [
        "IPY_MODEL_0180ccfe8cd9452aa07b61526f0a64ec",
        "value"
       ],
       "target": [
        "IPY_MODEL_3510f03926d44b6ba0c74d6e662c9fc3",
        "visible"
       ]
      }
     },
     "c96c0ab4e1c34fc393a9109fbbebb086": {
      "model_module": "@jupyter-widgets/controls",
      "model_module_version": "2.0.0",
      "model_name": "ToggleButtonStyleModel",
      "state": {
       "description_width": "",
       "font_family": null,
       "font_size": null,
       "font_style": null,
       "font_variant": null,
       "font_weight": null,
       "text_color": null,
       "text_decoration": null
      }
     },
     "c9d88e8f66164cba9c7566d6e59e4d98": {
      "model_module": "@jupyter-widgets/controls",
      "model_module_version": "2.0.0",
      "model_name": "CheckboxModel",
      "state": {
       "description": "Landsat TM Image",
       "disabled": false,
       "indent": false,
       "layout": "IPY_MODEL_3827c2999f4f43638e3dbba3b5e10d8b",
       "style": "IPY_MODEL_4c0c3b7ed0814016abfca3545260047f",
       "value": true
      }
     },
     "caf46aca008f45229c0d06a9d068eee8": {
      "model_module": "@jupyter-widgets/controls",
      "model_module_version": "2.0.0",
      "model_name": "DirectionalLinkModel",
      "state": {
       "source": [
        "IPY_MODEL_48d9f0665f8b4ee893dbb3ce686d8ffb",
        "value"
       ],
       "target": [
        "IPY_MODEL_d05ba91d02d340ea9c6d1806e89cb460",
        "opacity"
       ]
      }
     },
     "cb8613c909c84f748f9d6f26b5f4cb48": {
      "model_module": "@jupyter-widgets/base",
      "model_module_version": "2.0.0",
      "model_name": "LayoutModel",
      "state": {
       "height": "25px",
       "padding": "0px 0px 0px 5px",
       "width": "25px"
      }
     },
     "cbe363caee04474f9351a63b7abb6113": {
      "model_module": "@jupyter-widgets/base",
      "model_module_version": "2.0.0",
      "model_name": "LayoutModel",
      "state": {
       "padding": "0px 8px 0px 8px"
      }
     },
     "cc470f12e0f64b5686290dd090195c74": {
      "model_module": "@jupyter-widgets/base",
      "model_module_version": "2.0.0",
      "model_name": "LayoutModel",
      "state": {
       "padding": "0px 8px 0px 8px"
      }
     },
     "cdf470be90074a91bb84918da149ec8c": {
      "model_module": "@jupyter-widgets/base",
      "model_module_version": "2.0.0",
      "model_name": "LayoutModel",
      "state": {
       "width": "80px"
      }
     },
     "ce6873bc20f44a3cb631ed37a8f34106": {
      "model_module": "@jupyter-widgets/controls",
      "model_module_version": "2.0.0",
      "model_name": "HBoxModel",
      "state": {
       "children": [
        "IPY_MODEL_c9d88e8f66164cba9c7566d6e59e4d98",
        "IPY_MODEL_903b571bb94a4e7b810c791259a3c76d",
        "IPY_MODEL_dcf334208ce04412b0c8fa4c3cb83e2a"
       ],
       "layout": "IPY_MODEL_0e5e43ed2edf465ab8e230ea1fdcf8e4"
      }
     },
     "cea0674a97c9419f94bea41e2b4d22aa": {
      "model_module": "@jupyter-widgets/controls",
      "model_module_version": "2.0.0",
      "model_name": "CheckboxModel",
      "state": {
       "description": "MODIS Image",
       "disabled": false,
       "indent": false,
       "layout": "IPY_MODEL_d6c3cd66f72f423eb697ba6c25c07b7b",
       "style": "IPY_MODEL_e4c39e93169145489fd7a5ef91e39ead",
       "value": false
      }
     },
     "ceb5cc13fe9f43f0a7d55a6e5af0777d": {
      "model_module": "@jupyter-widgets/base",
      "model_module_version": "2.0.0",
      "model_name": "LayoutModel",
      "state": {
       "height": "28px",
       "padding": "0px 0px 0px 4px",
       "width": "28px"
      }
     },
     "cf6d6a020fa7424a8b9db647df149e23": {
      "model_module": "@jupyter-widgets/controls",
      "model_module_version": "2.0.0",
      "model_name": "ToggleButtonModel",
      "state": {
       "button_style": "primary",
       "icon": "map",
       "layout": "IPY_MODEL_0aa5abe511a540f4bde7cf6ef0dc9c7e",
       "style": "IPY_MODEL_d193fdf0086342bcb945944c7690fadc",
       "tooltip": "Change basemap"
      }
     },
     "d05ba91d02d340ea9c6d1806e89cb460": {
      "model_module": "jupyter-leaflet",
      "model_module_version": "^0.17",
      "model_name": "LeafletTileLayerModel",
      "state": {
       "_model_module_version": "^0.17",
       "_view_module_version": "^0.17",
       "attribution": "Google Earth Engine",
       "max_zoom": 24,
       "name": "MODIS Image",
       "options": [
        "attribution",
        "bounds",
        "detect_retina",
        "max_native_zoom",
        "max_zoom",
        "min_native_zoom",
        "min_zoom",
        "no_wrap",
        "tile_size",
        "tms",
        "zoom_offset"
       ],
       "url": "https://earthengine.googleapis.com/v1/projects/earthengine-legacy/maps/d601743e7842cb04c029c165f9c16307-ae8d15693f4bc986ce57fa7e3c13f930/tiles/{z}/{x}/{y}",
       "visible": false
      }
     },
     "d0e500a7f1d84f1f93649f0353a290fb": {
      "model_module": "@jupyter-widgets/controls",
      "model_module_version": "2.0.0",
      "model_name": "SliderStyleModel",
      "state": {
       "description_width": ""
      }
     },
     "d193fdf0086342bcb945944c7690fadc": {
      "model_module": "@jupyter-widgets/controls",
      "model_module_version": "2.0.0",
      "model_name": "ToggleButtonStyleModel",
      "state": {
       "description_width": "",
       "font_family": null,
       "font_size": null,
       "font_style": null,
       "font_variant": null,
       "font_weight": null,
       "text_color": null,
       "text_decoration": null
      }
     },
     "d2f0b38979fe4ae991d4b98971b2132b": {
      "model_module": "@jupyter-widgets/controls",
      "model_module_version": "2.0.0",
      "model_name": "ToggleButtonModel",
      "state": {
       "icon": "server",
       "layout": "IPY_MODEL_5fda0eb50e3f403fbb14ce2ddab2b35f",
       "style": "IPY_MODEL_bfa821063df54a2cb090369fe5573f38",
       "tooltip": "Layer Manager",
       "value": true
      }
     },
     "d3265acded3845d2b293695e4fd9c268": {
      "model_module": "@jupyter-widgets/controls",
      "model_module_version": "2.0.0",
      "model_name": "CheckboxModel",
      "state": {
       "description": "Google Maps",
       "disabled": false,
       "indent": false,
       "layout": "IPY_MODEL_acb840ea39ac482e9f865a1f142bc1f8",
       "style": "IPY_MODEL_48c641d21b2e4bf8b7a96cb6b091c8f4",
       "value": true
      }
     },
     "d3a1e6e8f2144d84a49b06941afb0051": {
      "model_module": "jupyter-leaflet",
      "model_module_version": "^0.17",
      "model_name": "LeafletZoomControlModel",
      "state": {
       "_model_module_version": "^0.17",
       "_view_module_version": "^0.17",
       "options": [
        "position",
        "zoom_in_text",
        "zoom_in_title",
        "zoom_out_text",
        "zoom_out_title"
       ]
      }
     },
     "d410e89ee97d4d43a58f8e3470c50ecc": {
      "model_module": "@jupyter-widgets/controls",
      "model_module_version": "2.0.0",
      "model_name": "SliderStyleModel",
      "state": {
       "description_width": ""
      }
     },
     "d4111302ee634fcf89e1cf25a499d227": {
      "model_module": "@jupyter-widgets/base",
      "model_module_version": "2.0.0",
      "model_name": "LayoutModel",
      "state": {
       "height": "28px",
       "padding": "0px 0px 0px 4px",
       "width": "28px"
      }
     },
     "d48dd3bf7f9f4effadfcfcb2beaaf159": {
      "model_module": "@jupyter-widgets/base",
      "model_module_version": "2.0.0",
      "model_name": "LayoutModel",
      "state": {}
     },
     "d4984bd5186b44529ad4feb947467ca9": {
      "model_module": "@jupyter-widgets/controls",
      "model_module_version": "2.0.0",
      "model_name": "ToggleButtonModel",
      "state": {
       "icon": "server",
       "layout": "IPY_MODEL_50f259bd76ce4b7fa4ad93358dcfa422",
       "style": "IPY_MODEL_388cc5c37a64499ab41a39d1ff617b37",
       "tooltip": "Layer Manager",
       "value": true
      }
     },
     "d4b3ee92d2d54099a088c193958ec41a": {
      "model_module": "@jupyter-widgets/base",
      "model_module_version": "2.0.0",
      "model_name": "LayoutModel",
      "state": {
       "height": "25px",
       "padding": "0px 0px 0px 5px",
       "width": "25px"
      }
     },
     "d59e351c610a4d038a69432b5a3de370": {
      "model_module": "@jupyter-widgets/base",
      "model_module_version": "2.0.0",
      "model_name": "LayoutModel",
      "state": {
       "height": "600px"
      }
     },
     "d63cc2c841ac41b9921caf3f721c78d8": {
      "model_module": "@jupyter-widgets/controls",
      "model_module_version": "2.0.0",
      "model_name": "CheckboxStyleModel",
      "state": {
       "description_width": ""
      }
     },
     "d6c3cd66f72f423eb697ba6c25c07b7b": {
      "model_module": "@jupyter-widgets/base",
      "model_module_version": "2.0.0",
      "model_name": "LayoutModel",
      "state": {
       "height": "18px",
       "width": "140px"
      }
     },
     "d6c6c3c728c443968c6b69a4934e3fd2": {
      "model_module": "@jupyter-widgets/controls",
      "model_module_version": "2.0.0",
      "model_name": "ToggleButtonStyleModel",
      "state": {
       "description_width": "",
       "font_family": null,
       "font_size": null,
       "font_style": null,
       "font_variant": null,
       "font_weight": null,
       "text_color": null,
       "text_decoration": null
      }
     },
     "d792b64621c14939af386897a9d910f9": {
      "model_module": "jupyter-leaflet",
      "model_module_version": "^0.17",
      "model_name": "LeafletZoomControlModel",
      "state": {
       "_model_module_version": "^0.17",
       "_view_module_version": "^0.17",
       "options": [
        "position",
        "zoom_in_text",
        "zoom_in_title",
        "zoom_out_text",
        "zoom_out_title"
       ]
      }
     },
     "d792d01c140f4b289005816041053683": {
      "model_module": "@jupyter-widgets/base",
      "model_module_version": "2.0.0",
      "model_name": "LayoutModel",
      "state": {
       "height": "auto",
       "padding": "0px 0px 0px 4px",
       "width": "auto"
      }
     },
     "d7afc4e93a53467e968b5e5f0e962348": {
      "model_module": "@jupyter-widgets/controls",
      "model_module_version": "2.0.0",
      "model_name": "HBoxModel",
      "state": {
       "children": [
        "IPY_MODEL_ab0f69c248794046a294f9db235717b9",
        "IPY_MODEL_e6a983c740704dddba76f4de2198bcb8"
       ],
       "layout": "IPY_MODEL_11f47a633dcf4b2f8bc9773ad2fc8319"
      }
     },
     "d80a028466464af3ac7ddfc3b41e613e": {
      "model_module": "@jupyter-widgets/controls",
      "model_module_version": "2.0.0",
      "model_name": "LinkModel",
      "state": {
       "source": [
        "IPY_MODEL_03e954626f244ba493767050c9c72fb1",
        "value"
       ],
       "target": [
        "IPY_MODEL_d05ba91d02d340ea9c6d1806e89cb460",
        "visible"
       ]
      }
     },
     "d8afc91d2f254646a03722d492e9b473": {
      "model_module": "@jupyter-widgets/controls",
      "model_module_version": "2.0.0",
      "model_name": "FloatSliderModel",
      "state": {
       "behavior": "drag-tap",
       "layout": "IPY_MODEL_abbd4c2dd7734afbb58682b384349c08",
       "max": 1,
       "readout": false,
       "step": 0.01,
       "style": "IPY_MODEL_6b99b5a43cd44dde964238c120e18180",
       "value": 1
      }
     },
     "d9385acf4b4942d9bc45dfdca87f75a1": {
      "model_module": "@jupyter-widgets/controls",
      "model_module_version": "2.0.0",
      "model_name": "CheckboxModel",
      "state": {
       "description": "Google Maps",
       "disabled": false,
       "indent": false,
       "layout": "IPY_MODEL_81948bc5c3194b8c846c376561c4642b",
       "style": "IPY_MODEL_88ae03bef76647d5ab09ea46eafed4a9",
       "value": true
      }
     },
     "d9c791e685f34a5ebf0ce369df793779": {
      "model_module": "@jupyter-widgets/base",
      "model_module_version": "2.0.0",
      "model_name": "LayoutModel",
      "state": {
       "padding": "0px 8px 0px 8px"
      }
     },
     "da1300e6e9ea42f9b9782e437c2e4820": {
      "model_module": "@jupyter-widgets/controls",
      "model_module_version": "2.0.0",
      "model_name": "ToggleButtonStyleModel",
      "state": {
       "description_width": "",
       "font_family": null,
       "font_size": null,
       "font_style": null,
       "font_variant": null,
       "font_weight": null,
       "text_color": null,
       "text_decoration": null
      }
     },
     "daf9251bec3b40599bf47ec59ce13f45": {
      "model_module": "@jupyter-widgets/controls",
      "model_module_version": "2.0.0",
      "model_name": "DirectionalLinkModel",
      "state": {
       "source": [
        "IPY_MODEL_93900e1d153e4f50bdebce95801a295b",
        "value"
       ],
       "target": [
        "IPY_MODEL_02ae87f908f043a8bdb2843f4b4ead32",
        "opacity"
       ]
      }
     },
     "dc40f06f85814834b7126bf0a99c8a7d": {
      "model_module": "@jupyter-widgets/controls",
      "model_module_version": "2.0.0",
      "model_name": "SliderStyleModel",
      "state": {
       "description_width": ""
      }
     },
     "dc55e7a6372f420e8eef7f67465ba8bf": {
      "model_module": "@jupyter-widgets/controls",
      "model_module_version": "2.0.0",
      "model_name": "VBoxModel",
      "state": {
       "children": [
        "IPY_MODEL_146a60bd53a24364bbb515655176a8d1",
        "IPY_MODEL_132bd549b9754cac9dbed22259f683c0",
        "IPY_MODEL_c63f8cb429064af1aabe5a6de42618c7",
        "IPY_MODEL_5e2b4ed0bf2844fd922a81b2dfe950d3",
        "IPY_MODEL_b6b9cd9aa0e143a4bb20ae0735272162",
        "IPY_MODEL_49b9f8ce861a48cdba3022303d8a8662"
       ],
       "layout": "IPY_MODEL_df3dbed32fc84ed0af6090af74833174"
      }
     },
     "dcf334208ce04412b0c8fa4c3cb83e2a": {
      "model_module": "@jupyter-widgets/controls",
      "model_module_version": "2.0.0",
      "model_name": "FloatSliderModel",
      "state": {
       "behavior": "drag-tap",
       "layout": "IPY_MODEL_2fd32c67bb424a34a9fb63e56bb29888",
       "max": 1,
       "readout": false,
       "step": 0.01,
       "style": "IPY_MODEL_b51b7fc1f9c1440d8c4b714aae414d41",
       "value": 1
      }
     },
     "dd6f61c31e894469a06b62785967797f": {
      "model_module": "@jupyter-widgets/controls",
      "model_module_version": "2.0.0",
      "model_name": "ToggleButtonModel",
      "state": {
       "button_style": "primary",
       "icon": "globe",
       "layout": "IPY_MODEL_1df4f5d531f04eae940f59d6de5f0783",
       "style": "IPY_MODEL_42eb515f90d846dd9dd72bc4b7f013a0",
       "tooltip": "Create timelapse"
      }
     },
     "dd77529a8d204147966602094a912eb9": {
      "model_module": "@jupyter-widgets/controls",
      "model_module_version": "2.0.0",
      "model_name": "ToggleButtonModel",
      "state": {
       "icon": "gear",
       "layout": "IPY_MODEL_606bc7a6eaa44ed19889be7c90a924f4",
       "style": "IPY_MODEL_e896c025653241cea5df7adad7673cec",
       "tooltip": "Landsat TM Image"
      }
     },
     "dd8c1e98544048a7b11dfc43b9fad124": {
      "model_module": "@jupyter-widgets/controls",
      "model_module_version": "2.0.0",
      "model_name": "SliderStyleModel",
      "state": {
       "description_width": ""
      }
     },
     "dd9b054f7855420c9b4193e528de02f9": {
      "model_module": "jupyter-leaflet",
      "model_module_version": "^0.17",
      "model_name": "LeafletFullScreenControlModel",
      "state": {
       "_model_module_version": "^0.17",
       "_view_module_version": "^0.17",
       "options": [
        "position"
       ]
      }
     },
     "ddc63ee79c1b4648a457421db08c5e0a": {
      "model_module": "@jupyter-widgets/base",
      "model_module_version": "2.0.0",
      "model_name": "LayoutModel",
      "state": {}
     },
     "de4b46d0d9954c1fabef11d602a597ce": {
      "model_module": "@jupyter-widgets/base",
      "model_module_version": "2.0.0",
      "model_name": "LayoutModel",
      "state": {
       "padding": "0px 8px 0px 8px"
      }
     },
     "de8302cdcb5d40ad9a313218ab5a24b1": {
      "model_module": "jupyter-leaflet",
      "model_module_version": "^0.17",
      "model_name": "LeafletMapModel",
      "state": {
       "_model_module_version": "^0.17",
       "_view_module_version": "^0.17",
       "bottom": 25938603,
       "center": [
        37.77777467035604,
        -122.22182482481004
       ],
       "controls": [
        "IPY_MODEL_34b8acd9acf7408eab5d8c3bb749d7d6",
        "IPY_MODEL_d3a1e6e8f2144d84a49b06941afb0051",
        "IPY_MODEL_dd9b054f7855420c9b4193e528de02f9",
        "IPY_MODEL_13b908af4eb1446986f16c1d370c6237",
        "IPY_MODEL_c5b5a4ff512f4d35a6aa369871deedb6",
        "IPY_MODEL_1f876621aef94eceb98addfde94f7660",
        "IPY_MODEL_17c7648bb22c4553ab7f7aa771e27456",
        "IPY_MODEL_3a31b9ce1a65451bb4db154ccf989401"
       ],
       "default_style": "IPY_MODEL_50f3f1b22a294c19aed215b6b8e005aa",
       "dragging_style": "IPY_MODEL_9d10739c77304ff19599cf9967baa626",
       "east": -122.21990168094636,
       "fullscreen": false,
       "interpolation": "bilinear",
       "layers": [
        "IPY_MODEL_c87ab29f21654157b0a8d645719c2235",
        "IPY_MODEL_1f382b8f39f347e4af7bee1282fc5789",
        "IPY_MODEL_d05ba91d02d340ea9c6d1806e89cb460",
        "IPY_MODEL_02ae87f908f043a8bdb2843f4b4ead32",
        "IPY_MODEL_3510f03926d44b6ba0c74d6e662c9fc3",
        "IPY_MODEL_9b784d9ba5524d46875c49c35e9e5018"
       ],
       "layout": "IPY_MODEL_d59e351c610a4d038a69432b5a3de370",
       "left": 10770274,
       "max_zoom": 24,
       "modisdate": "2024-02-19",
       "north": 37.779046658472055,
       "options": [
        "bounce_at_zoom_limits",
        "box_zoom",
        "center",
        "close_popup_on_click",
        "double_click_zoom",
        "dragging",
        "fullscreen",
        "inertia",
        "inertia_deceleration",
        "inertia_max_speed",
        "interpolation",
        "keyboard",
        "keyboard_pan_offset",
        "keyboard_zoom_offset",
        "max_zoom",
        "min_zoom",
        "prefer_canvas",
        "scroll_wheel_zoom",
        "tap",
        "tap_tolerance",
        "touch_zoom",
        "world_copy_jump",
        "zoom",
        "zoom_animation_threshold",
        "zoom_delta",
        "zoom_snap"
       ],
       "prefer_canvas": false,
       "right": 10770991,
       "scroll_wheel_zoom": true,
       "south": 37.776502660353025,
       "style": "IPY_MODEL_50f3f1b22a294c19aed215b6b8e005aa",
       "top": 25938003,
       "west": -122.22374796867372,
       "window_url": "https://jupyterhub.cuahsi.org/user/torresrua/lab/tree/courses/RS_of_Land_Surfaces_laboratory/Lab%202%20Characteristics%20of%20remotely%20sensed%20data.ipynb",
       "zoom": 18
      }
     },
     "de9c5c5052fa49f99eb3d4d35b3afd9b": {
      "model_module": "@jupyter-widgets/controls",
      "model_module_version": "2.0.0",
      "model_name": "ToggleButtonModel",
      "state": {
       "button_style": "primary",
       "icon": "line-chart",
       "layout": "IPY_MODEL_615d1c054209417189ed8996da3a06f3",
       "style": "IPY_MODEL_ff07f826cc39474db929338857c221ca",
       "tooltip": "Creating and plotting transects"
      }
     },
     "ded69ab180d94cf1917e851b0b944d65": {
      "model_module": "@jupyter-widgets/controls",
      "model_module_version": "2.0.0",
      "model_name": "HTMLModel",
      "state": {
       "layout": "IPY_MODEL_ab6f8057e3e340eb997999bb8c2bdce9",
       "style": "IPY_MODEL_060befd0c502448eb8f9cabeee7ff99b"
      }
     },
     "dee43ff02fd84de0b3a3f6ae62093764": {
      "model_module": "@jupyter-widgets/controls",
      "model_module_version": "2.0.0",
      "model_name": "CheckboxStyleModel",
      "state": {
       "description_width": ""
      }
     },
     "df3dbed32fc84ed0af6090af74833174": {
      "model_module": "@jupyter-widgets/base",
      "model_module_version": "2.0.0",
      "model_name": "LayoutModel",
      "state": {}
     },
     "df7fa06f6aab4b0e95887da4d1d129b7": {
      "model_module": "@jupyter-widgets/controls",
      "model_module_version": "2.0.0",
      "model_name": "ToggleButtonStyleModel",
      "state": {
       "description_width": "",
       "font_family": null,
       "font_size": null,
       "font_style": null,
       "font_variant": null,
       "font_weight": null,
       "text_color": null,
       "text_decoration": null
      }
     },
     "dff760a4980e42d0aacc072b42c9ec47": {
      "model_module": "@jupyter-widgets/controls",
      "model_module_version": "2.0.0",
      "model_name": "ToggleButtonStyleModel",
      "state": {
       "description_width": "",
       "font_family": null,
       "font_size": null,
       "font_style": null,
       "font_variant": null,
       "font_weight": null,
       "text_color": null,
       "text_decoration": null
      }
     },
     "e032908a8bb74bd5aced648f86ca356a": {
      "model_module": "@jupyter-widgets/controls",
      "model_module_version": "2.0.0",
      "model_name": "LinkModel",
      "state": {
       "source": [
        "IPY_MODEL_52ba3b054b98480f904876211bfae9dd",
        "value"
       ],
       "target": [
        "IPY_MODEL_3510f03926d44b6ba0c74d6e662c9fc3",
        "visible"
       ]
      }
     },
     "e1e92602d5c644b2a56bff3575ccb865": {
      "model_module": "@jupyter-widgets/controls",
      "model_module_version": "2.0.0",
      "model_name": "ToggleButtonModel",
      "state": {
       "button_style": "primary",
       "icon": "times",
       "layout": "IPY_MODEL_152b661e9d1a4219abfe88eb44b813e1",
       "style": "IPY_MODEL_947646c193e548c7b2cd54fe6f545548",
       "tooltip": "Close the tool"
      }
     },
     "e2b1934c2d134b7a8982dfa216f2c9a2": {
      "model_module": "@jupyter-widgets/base",
      "model_module_version": "2.0.0",
      "model_name": "LayoutModel",
      "state": {
       "height": "25px",
       "padding": "0px 0px 0px 5px",
       "width": "25px"
      }
     },
     "e30b29f8564f42b68351d85d69b9f303": {
      "model_module": "@jupyter-widgets/base",
      "model_module_version": "2.0.0",
      "model_name": "LayoutModel",
      "state": {
       "height": "28px",
       "padding": "0px 0px 0px 4px",
       "width": "28px"
      }
     },
     "e3217a33703d488393f8297c6fa04e6c": {
      "model_module": "jupyter-leaflet",
      "model_module_version": "^0.17",
      "model_name": "LeafletMeasureControlModel",
      "state": {
       "_model_module_version": "^0.17",
       "_view_module_version": "^0.17",
       "active_color": "orange",
       "options": [
        "active_color",
        "capture_z_index",
        "completed_color",
        "popup_options",
        "position",
        "primary_area_unit",
        "primary_length_unit",
        "secondary_area_unit",
        "secondary_length_unit"
       ],
       "position": "bottomleft",
       "primary_length_unit": "kilometers",
       "secondary_area_unit": null,
       "secondary_length_unit": null
      }
     },
     "e33b2500f1f34b79ab006fd54ec4d20e": {
      "model_module": "@jupyter-widgets/base",
      "model_module_version": "2.0.0",
      "model_name": "LayoutModel",
      "state": {
       "height": "auto",
       "padding": "0px 0px 0px 4px",
       "width": "auto"
      }
     },
     "e39f0b1fa54e498bb8a7e147efad56cd": {
      "model_module": "@jupyter-widgets/controls",
      "model_module_version": "2.0.0",
      "model_name": "ToggleButtonModel",
      "state": {
       "button_style": "primary",
       "icon": "fast-forward",
       "layout": "IPY_MODEL_7ee78ae265d942908122467e12700a5a",
       "style": "IPY_MODEL_ebf7357aa62245dfb67b374fa5f90dd3",
       "tooltip": "Activate timeslider"
      }
     },
     "e3d448a1a7e448dbb70f7b90b7d2743c": {
      "model_module": "@jupyter-widgets/controls",
      "model_module_version": "2.0.0",
      "model_name": "ToggleButtonModel",
      "state": {
       "icon": "gear",
       "layout": "IPY_MODEL_537fb2ed6d804f699496a62504d209a4",
       "style": "IPY_MODEL_b84f7ee942954df497864debef9c2005",
       "tooltip": "MODIS Image"
      }
     },
     "e4c39e93169145489fd7a5ef91e39ead": {
      "model_module": "@jupyter-widgets/controls",
      "model_module_version": "2.0.0",
      "model_name": "CheckboxStyleModel",
      "state": {
       "description_width": ""
      }
     },
     "e51126c307ad4a998d4c01d60737a727": {
      "model_module": "@jupyter-widgets/controls",
      "model_module_version": "2.0.0",
      "model_name": "ToggleButtonStyleModel",
      "state": {
       "description_width": "",
       "font_family": null,
       "font_size": null,
       "font_style": null,
       "font_variant": null,
       "font_weight": null,
       "text_color": null,
       "text_decoration": null
      }
     },
     "e5b519f164c9484ba7d8355262735071": {
      "model_module": "@jupyter-widgets/controls",
      "model_module_version": "2.0.0",
      "model_name": "VBoxModel",
      "state": {
       "children": [
        "IPY_MODEL_194ac9f43f1e42c6a28d19cbd03d619a",
        "IPY_MODEL_dc55e7a6372f420e8eef7f67465ba8bf"
       ],
       "layout": "IPY_MODEL_ddc63ee79c1b4648a457421db08c5e0a"
      }
     },
     "e5c410951a524f0f9ac95c63a61e68ea": {
      "model_module": "@jupyter-widgets/controls",
      "model_module_version": "2.0.0",
      "model_name": "ButtonModel",
      "state": {
       "button_style": "primary",
       "description": "import",
       "layout": "IPY_MODEL_9ed5f0ea84ab4270a24a2493bbedf012",
       "style": "IPY_MODEL_9712565e1c634b8a82c96027c8c8a797",
       "tooltip": "Click to import the selected asset"
      }
     },
     "e5fb5443d669486b93397f59b5a83433": {
      "model_module": "@jupyter-widgets/base",
      "model_module_version": "2.0.0",
      "model_name": "LayoutModel",
      "state": {
       "height": "25px",
       "padding": "0px 0px 0px 5px",
       "width": "25px"
      }
     },
     "e6a983c740704dddba76f4de2198bcb8": {
      "model_module": "@jupyter-widgets/controls",
      "model_module_version": "2.0.0",
      "model_name": "ToggleButtonModel",
      "state": {
       "icon": "wrench",
       "layout": "IPY_MODEL_f34e346d8733440485de6316612302e3",
       "style": "IPY_MODEL_00d1c4ce490546c4b45ff5eb45cafaec",
       "tooltip": "Toolbar"
      }
     },
     "e6bf9cb440c74488b78787eb635343d4": {
      "model_module": "@jupyter-widgets/base",
      "model_module_version": "2.0.0",
      "model_name": "LayoutModel",
      "state": {
       "height": "25px",
       "padding": "0px 0px 0px 5px",
       "width": "25px"
      }
     },
     "e6fe750a621b42acb4b38183282e585c": {
      "model_module": "@jupyter-widgets/controls",
      "model_module_version": "2.0.0",
      "model_name": "ToggleButtonModel",
      "state": {
       "button_style": "primary",
       "icon": "folder-open",
       "layout": "IPY_MODEL_13d8a44dece040dcbbc9ac0046a7676a",
       "style": "IPY_MODEL_2e58d2c15e0344db8492b7b81072a8da",
       "tooltip": "Open local vector/raster data"
      }
     },
     "e8322f4c6bb5434cb989b8bff109c9cf": {
      "model_module": "@jupyter-widgets/controls",
      "model_module_version": "2.0.0",
      "model_name": "ToggleButtonStyleModel",
      "state": {
       "description_width": "",
       "font_family": null,
       "font_size": null,
       "font_style": null,
       "font_variant": null,
       "font_weight": null,
       "text_color": null,
       "text_decoration": null
      }
     },
     "e85e19a4702e4e1a9e1140e41188497e": {
      "model_module": "@jupyter-widgets/controls",
      "model_module_version": "2.0.0",
      "model_name": "ToggleButtonModel",
      "state": {
       "icon": "gear",
       "layout": "IPY_MODEL_11316d0e66134ddfbbf755f478457474",
       "style": "IPY_MODEL_9ff8904f33a54a768322920a9daa7fcf",
       "tooltip": "LandsatMSS Image"
      }
     },
     "e896c025653241cea5df7adad7673cec": {
      "model_module": "@jupyter-widgets/controls",
      "model_module_version": "2.0.0",
      "model_name": "ToggleButtonStyleModel",
      "state": {
       "description_width": "",
       "font_family": null,
       "font_size": null,
       "font_style": null,
       "font_variant": null,
       "font_weight": null,
       "text_color": null,
       "text_decoration": null
      }
     },
     "e8a4d25afb0841298cdc292c8149bf6b": {
      "model_module": "@jupyter-widgets/controls",
      "model_module_version": "2.0.0",
      "model_name": "CheckboxModel",
      "state": {
       "description": "All layers on/off",
       "disabled": false,
       "indent": false,
       "layout": "IPY_MODEL_66a27bb82a7d4e2ab8b8f5c7da5d6204",
       "style": "IPY_MODEL_a2572f33237949efaace8a7668259b9a",
       "value": false
      }
     },
     "e90b19218ccc467eb5b9f1c0501f9b55": {
      "model_module": "@jupyter-widgets/controls",
      "model_module_version": "2.0.0",
      "model_name": "ToggleButtonModel",
      "state": {
       "button_style": "primary",
       "icon": "hand-o-up",
       "layout": "IPY_MODEL_94392a5ee8894b8fb8e3f3e03d56eefb",
       "style": "IPY_MODEL_f2c3f05c71de455c85a1819ef0015220",
       "tooltip": "Collect training samples"
      }
     },
     "eb33ef6e3c0b47ce864dfa66848d94ee": {
      "model_module": "@jupyter-widgets/base",
      "model_module_version": "2.0.0",
      "model_name": "LayoutModel",
      "state": {
       "padding": "0px 8px 0px 8px"
      }
     },
     "ebb32490b9284c3c8c880e20c052a47a": {
      "model_module": "@jupyter-widgets/base",
      "model_module_version": "2.0.0",
      "model_name": "LayoutModel",
      "state": {}
     },
     "ebf7357aa62245dfb67b374fa5f90dd3": {
      "model_module": "@jupyter-widgets/controls",
      "model_module_version": "2.0.0",
      "model_name": "ToggleButtonStyleModel",
      "state": {
       "description_width": "",
       "font_family": null,
       "font_size": null,
       "font_style": null,
       "font_variant": null,
       "font_weight": null,
       "text_color": null,
       "text_decoration": null
      }
     },
     "ecb50b91611c4be4b175fbf9be67a9f8": {
      "model_module": "@jupyter-widgets/controls",
      "model_module_version": "2.0.0",
      "model_name": "ToggleButtonModel",
      "state": {
       "button_style": "primary",
       "icon": "info",
       "layout": "IPY_MODEL_43e5a8a2a5f54faa9936ca28498cb3bc",
       "style": "IPY_MODEL_292dd4d433124eddb9e4e27296f5fd72",
       "tooltip": "Inspector"
      }
     },
     "ecee8ccac2fc476289754b1848f50f73": {
      "model_module": "@jupyter-widgets/controls",
      "model_module_version": "2.0.0",
      "model_name": "HTMLStyleModel",
      "state": {
       "description_width": "",
       "font_size": null,
       "text_color": null
      }
     },
     "ed25c7d9d3b14fe59b3b324ec819ef67": {
      "model_module": "@jupyter-widgets/controls",
      "model_module_version": "2.0.0",
      "model_name": "ToggleButtonModel",
      "state": {
       "button_style": "primary",
       "icon": "info",
       "layout": "IPY_MODEL_0ea8e30822984e8a9469c5b8b7bc3f4e",
       "style": "IPY_MODEL_b70974def9e04c3686ff4babf9c5841d",
       "tooltip": "Inspector"
      }
     },
     "ed6a40f4bf444ddabfecd6a8a9e9a62c": {
      "model_module": "@jupyter-widgets/controls",
      "model_module_version": "2.0.0",
      "model_name": "CheckboxStyleModel",
      "state": {
       "description_width": ""
      }
     },
     "edbdda7a97b3462294ed06600c0af71b": {
      "model_module": "@jupyter-widgets/controls",
      "model_module_version": "2.0.0",
      "model_name": "SliderStyleModel",
      "state": {
       "description_width": ""
      }
     },
     "f0164f0df3d84b419e8ec9571549d799": {
      "model_module": "@jupyter-widgets/base",
      "model_module_version": "2.0.0",
      "model_name": "LayoutModel",
      "state": {}
     },
     "f0bc684d751f4d8e8658b281b5c6dde0": {
      "model_module": "@jupyter-widgets/controls",
      "model_module_version": "2.0.0",
      "model_name": "ToggleButtonModel",
      "state": {
       "button_style": "primary",
       "icon": "gears",
       "layout": "IPY_MODEL_9a5c04b967304dabb6976b847bf49bef",
       "style": "IPY_MODEL_145240b3a8164156a1e6244c94373f4e",
       "tooltip": "WhiteboxTools for local geoprocessing"
      }
     },
     "f0fa899c58144faa94afe83fc03c4624": {
      "model_module": "jupyter-leaflet",
      "model_module_version": "^0.17",
      "model_name": "LeafletDrawControlModel",
      "state": {
       "_model_module_version": "^0.17",
       "_view_module_version": "^0.17",
       "marker": {
        "shapeOptions": {
         "color": "#3388ff"
        }
       },
       "options": [
        "position"
       ],
       "polygon": {
        "shapeOptions": {
         "clickable": true,
         "color": "#3388ff",
         "fill": true,
         "fillColor": null,
         "fillOpacity": 0.2,
         "opacity": 0.5,
         "stroke": true,
         "weight": 4
        }
       },
       "polyline": {
        "shapeOptions": {
         "clickable": true,
         "color": "#3388ff",
         "fill": false,
         "opacity": 0.5,
         "stroke": true,
         "weight": 4
        }
       },
       "rectangle": {
        "shapeOptions": {
         "clickable": true,
         "color": "#3388ff",
         "fill": true,
         "fillColor": null,
         "fillOpacity": 0.2,
         "opacity": 0.5,
         "stroke": true,
         "weight": 4
        }
       }
      }
     },
     "f2137150d1db4f18841c4c5ec14b8e0c": {
      "model_module": "@jupyter-widgets/base",
      "model_module_version": "2.0.0",
      "model_name": "LayoutModel",
      "state": {
       "padding": "0px 8px 0px 8px"
      }
     },
     "f2a05f6a5f1d4c958510de19eebb73d4": {
      "model_module": "@jupyter-widgets/controls",
      "model_module_version": "2.0.0",
      "model_name": "ToggleButtonStyleModel",
      "state": {
       "description_width": "",
       "font_family": null,
       "font_size": null,
       "font_style": null,
       "font_variant": null,
       "font_weight": null,
       "text_color": null,
       "text_decoration": null
      }
     },
     "f2c3f05c71de455c85a1819ef0015220": {
      "model_module": "@jupyter-widgets/controls",
      "model_module_version": "2.0.0",
      "model_name": "ToggleButtonStyleModel",
      "state": {
       "description_width": "",
       "font_family": null,
       "font_size": null,
       "font_style": null,
       "font_variant": null,
       "font_weight": null,
       "text_color": null,
       "text_decoration": null
      }
     },
     "f2ee1eed320046b0a952fa6b6492c309": {
      "model_module": "@jupyter-widgets/controls",
      "model_module_version": "2.0.0",
      "model_name": "CheckboxModel",
      "state": {
       "description": "MODIS Image",
       "disabled": false,
       "indent": false,
       "layout": "IPY_MODEL_46cadd22a8344a02b3a5e9ad9df9adb8",
       "style": "IPY_MODEL_dee43ff02fd84de0b3a3f6ae62093764",
       "value": false
      }
     },
     "f2ffa3c3b9fa48f391d2880cadba58bd": {
      "model_module": "@jupyter-widgets/controls",
      "model_module_version": "2.0.0",
      "model_name": "HBoxModel",
      "state": {
       "children": [
        "IPY_MODEL_33840fbd61134a94a2499a6a1f24b133",
        "IPY_MODEL_d2f0b38979fe4ae991d4b98971b2132b"
       ],
       "layout": "IPY_MODEL_0c7fbd50977d4194888392c87a0983d9"
      }
     },
     "f34e346d8733440485de6316612302e3": {
      "model_module": "@jupyter-widgets/base",
      "model_module_version": "2.0.0",
      "model_name": "LayoutModel",
      "state": {
       "height": "28px",
       "padding": "0px 0px 0px 4px",
       "width": "28px"
      }
     },
     "f3b7e5864d50428988eb629c8f4702f8": {
      "model_module": "@jupyter-widgets/controls",
      "model_module_version": "2.0.0",
      "model_name": "CheckboxModel",
      "state": {
       "description": "MODIS Image",
       "disabled": false,
       "indent": false,
       "layout": "IPY_MODEL_546bd4be660249cd918a9ae0cd113e91",
       "style": "IPY_MODEL_2a1802f23b9b4e91a1182946e0eb629a",
       "value": false
      }
     },
     "f3df9b9b539643baa5354a5c9c835452": {
      "model_module": "@jupyter-widgets/controls",
      "model_module_version": "2.0.0",
      "model_name": "RadioButtonsModel",
      "state": {
       "index": null,
       "layout": "IPY_MODEL_c71bb89dfb3d427a80c8a6bdccab9ee2",
       "style": "IPY_MODEL_b72540f54729448d8d0011bb4ef74198"
      }
     },
     "f409db8a39874dc49cf7314055f6c93c": {
      "model_module": "@jupyter-widgets/controls",
      "model_module_version": "2.0.0",
      "model_name": "TextModel",
      "state": {
       "layout": "IPY_MODEL_b7d8d5bec7e440b0bf9c02f598ffe411",
       "placeholder": "Search by place name or address",
       "style": "IPY_MODEL_8322312e33954a01aa79a323e719f401",
       "tooltip": "Search location"
      }
     },
     "f476cdfed00b4f02b5d744fe1bcb3e6e": {
      "model_module": "@jupyter-widgets/controls",
      "model_module_version": "2.0.0",
      "model_name": "SliderStyleModel",
      "state": {
       "description_width": ""
      }
     },
     "f4936c6928f843d5821d519049c7adfe": {
      "model_module": "@jupyter-widgets/base",
      "model_module_version": "2.0.0",
      "model_name": "LayoutModel",
      "state": {
       "width": "80px"
      }
     },
     "f56523d158e84848bc386959e2801c3f": {
      "model_module": "@jupyter-widgets/controls",
      "model_module_version": "2.0.0",
      "model_name": "FloatSliderModel",
      "state": {
       "behavior": "drag-tap",
       "layout": "IPY_MODEL_46c412cefd9b4016befca24956c73c0a",
       "max": 1,
       "readout": false,
       "step": 0.01,
       "style": "IPY_MODEL_1903bc407bdb4d5aa3da2b915994e4e0",
       "value": 1
      }
     },
     "f6132ecd48934561bd5de2d97232d322": {
      "model_module": "@jupyter-widgets/controls",
      "model_module_version": "2.0.0",
      "model_name": "LinkModel",
      "state": {
       "source": [
        "IPY_MODEL_18a36ac1b8f948c58c4bd0a26ddf5c61",
        "value"
       ],
       "target": [
        "IPY_MODEL_02ae87f908f043a8bdb2843f4b4ead32",
        "visible"
       ]
      }
     },
     "f67ab5bb021f4c26bebbf10b2b5bab88": {
      "model_module": "@jupyter-widgets/controls",
      "model_module_version": "2.0.0",
      "model_name": "ToggleButtonsModel",
      "state": {
       "_options_labels": [
        "name/address",
        "lat-lon",
        "data"
       ],
       "button_style": "",
       "icons": [],
       "index": 0,
       "layout": "IPY_MODEL_ebb32490b9284c3c8c880e20c052a47a",
       "style": "IPY_MODEL_514590d0ac6d482a9016e80ba1dc3ed7",
       "tooltips": [
        "Search by place name or address",
        "Search by lat-lon coordinates",
        "Search Earth Engine data catalog"
       ]
      }
     },
     "f740cfda6b674154b7809ee38172666d": {
      "model_module": "@jupyter-widgets/controls",
      "model_module_version": "2.0.0",
      "model_name": "ToggleButtonModel",
      "state": {
       "icon": "server",
       "layout": "IPY_MODEL_1b545952984147adb944e7dd536d7505",
       "style": "IPY_MODEL_da1300e6e9ea42f9b9782e437c2e4820",
       "tooltip": "Layer Manager",
       "value": true
      }
     },
     "f754b0ca780c47f3aa5c76caa020b85e": {
      "model_module": "@jupyter-widgets/controls",
      "model_module_version": "2.0.0",
      "model_name": "HBoxModel",
      "state": {
       "children": [
        "IPY_MODEL_0180ccfe8cd9452aa07b61526f0a64ec",
        "IPY_MODEL_dd77529a8d204147966602094a912eb9",
        "IPY_MODEL_d8afc91d2f254646a03722d492e9b473"
       ],
       "layout": "IPY_MODEL_2292ed89d8a7487290b6870cf5a1674b"
      }
     },
     "f7c0a6c671584725833c7bb742bdebb9": {
      "model_module": "@jupyter-widgets/controls",
      "model_module_version": "2.0.0",
      "model_name": "SliderStyleModel",
      "state": {
       "description_width": ""
      }
     },
     "f87da8a1bd51452ead8cf3fefcd54a2e": {
      "model_module": "@jupyter-widgets/base",
      "model_module_version": "2.0.0",
      "model_name": "LayoutModel",
      "state": {
       "height": "28px",
       "width": "72px"
      }
     },
     "f89e52e681bf45d78f32b7a25a38b318": {
      "model_module": "@jupyter-widgets/controls",
      "model_module_version": "2.0.0",
      "model_name": "ToggleButtonModel",
      "state": {
       "icon": "gear",
       "layout": "IPY_MODEL_b0b2e3edfbb84e1faeb2c5e5139b96db",
       "style": "IPY_MODEL_dff760a4980e42d0aacc072b42c9ec47",
       "tooltip": "Google Maps"
      }
     },
     "f8b112fd54c946929865518864e94a5f": {
      "model_module": "@jupyter-widgets/controls",
      "model_module_version": "2.0.0",
      "model_name": "ToggleButtonModel",
      "state": {
       "icon": "gear",
       "layout": "IPY_MODEL_bdb6418d6b244e5fa2ba590fbae3bc78",
       "style": "IPY_MODEL_427800ed906e47b59790c4388f037d2e",
       "tooltip": "LandsatMSS Image"
      }
     },
     "f8c2e55a151d4c4aa240c450a24d913b": {
      "model_module": "@jupyter-widgets/controls",
      "model_module_version": "2.0.0",
      "model_name": "ToggleButtonStyleModel",
      "state": {
       "description_width": "",
       "font_family": null,
       "font_size": null,
       "font_style": null,
       "font_variant": null,
       "font_weight": null,
       "text_color": null,
       "text_decoration": null
      }
     },
     "f8f2d583c7cb47018881e38d8b473968": {
      "model_module": "@jupyter-widgets/controls",
      "model_module_version": "2.0.0",
      "model_name": "ToggleButtonStyleModel",
      "state": {
       "description_width": "",
       "font_family": null,
       "font_size": null,
       "font_style": null,
       "font_variant": null,
       "font_weight": null,
       "text_color": null,
       "text_decoration": null
      }
     },
     "f91094acc68443a7a726be3922587c93": {
      "model_module": "@jupyter-widgets/controls",
      "model_module_version": "2.0.0",
      "model_name": "ToggleButtonStyleModel",
      "state": {
       "description_width": "",
       "font_family": null,
       "font_size": null,
       "font_style": null,
       "font_variant": null,
       "font_weight": null,
       "text_color": null,
       "text_decoration": null
      }
     },
     "face98923c284b578bb52b636594d0f9": {
      "model_module": "@jupyter-widgets/controls",
      "model_module_version": "2.0.0",
      "model_name": "DirectionalLinkModel",
      "state": {
       "source": [
        "IPY_MODEL_d8afc91d2f254646a03722d492e9b473",
        "value"
       ],
       "target": [
        "IPY_MODEL_3510f03926d44b6ba0c74d6e662c9fc3",
        "opacity"
       ]
      }
     },
     "fbe4abace37e4a43bce21044656d4861": {
      "model_module": "@jupyter-widgets/base",
      "model_module_version": "2.0.0",
      "model_name": "LayoutModel",
      "state": {
       "height": "28px",
       "padding": "0px 0px 0px 4px",
       "width": "28px"
      }
     },
     "fd0130f6dcd34c5385196b2f4697a814": {
      "model_module": "@jupyter-widgets/controls",
      "model_module_version": "2.0.0",
      "model_name": "ToggleButtonStyleModel",
      "state": {
       "description_width": "",
       "font_family": null,
       "font_size": null,
       "font_style": null,
       "font_variant": null,
       "font_weight": null,
       "text_color": null,
       "text_decoration": null
      }
     },
     "fda6dd95a2d84c95b8614cca8771fb2c": {
      "model_module": "@jupyter-widgets/controls",
      "model_module_version": "2.0.0",
      "model_name": "ToggleButtonStyleModel",
      "state": {
       "description_width": "",
       "font_family": null,
       "font_size": null,
       "font_style": null,
       "font_variant": null,
       "font_weight": null,
       "text_color": null,
       "text_decoration": null
      }
     },
     "fdf0b7937362490a9331250d37e90611": {
      "model_module": "@jupyter-widgets/controls",
      "model_module_version": "2.0.0",
      "model_name": "VBoxModel",
      "state": {
       "children": [
        "IPY_MODEL_f2ffa3c3b9fa48f391d2880cadba58bd",
        "IPY_MODEL_52a464d328ae491ab59477cef818e509"
       ],
       "layout": "IPY_MODEL_52efea42a5c54fd696f8466b01de9b74"
      }
     },
     "fe4a75c35bfb4be3976240bed6a8bfc0": {
      "model_module": "@jupyter-widgets/base",
      "model_module_version": "2.0.0",
      "model_name": "LayoutModel",
      "state": {
       "height": "18px",
       "padding": "0px 8px 25px 8px",
       "width": "30ex"
      }
     },
     "ff07f826cc39474db929338857c221ca": {
      "model_module": "@jupyter-widgets/controls",
      "model_module_version": "2.0.0",
      "model_name": "ToggleButtonStyleModel",
      "state": {
       "description_width": "",
       "font_family": null,
       "font_size": null,
       "font_style": null,
       "font_variant": null,
       "font_weight": null,
       "text_color": null,
       "text_decoration": null
      }
     },
     "ffc4bfb8480f4c55b31d3470e4deebf3": {
      "model_module": "@jupyter-widgets/base",
      "model_module_version": "2.0.0",
      "model_name": "LayoutModel",
      "state": {}
     },
     "ffd6d0a0ae6f47a1913b3d20776a295f": {
      "model_module": "@jupyter-widgets/base",
      "model_module_version": "2.0.0",
      "model_name": "LayoutModel",
      "state": {
       "height": "18px",
       "width": "140px"
      }
     }
    },
    "version_major": 2,
    "version_minor": 0
   }
  }
 },
 "nbformat": 4,
 "nbformat_minor": 4
}
