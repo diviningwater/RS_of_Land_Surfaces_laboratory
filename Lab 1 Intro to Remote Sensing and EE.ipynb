{
 "cells": [
  {
   "cell_type": "raw",
   "metadata": {},
   "source": [
    "YOUR NAME HERE: "
   ]
  },
  {
   "cell_type": "markdown",
   "metadata": {},
   "source": [
    "# Lab 1: Intro to Remote Sensing and EE\n",
    "\n",
    "**Purpose**: The purpose of this lab is to enable you to search, find and visualize remotely sensed imagery in Google Earth Engine.  At completion, you should be able to load imagery with the units of interest (radiance or reflectance, for example), make true color and false color composites and identify land cover types based on spectral characteristics.\n",
    "\n",
    "**Prerequisites**: If you are new to Python or programming, Review the [Earth Engine Code Editor doc and the Get Started guide](https://developers.google.com/earth-engine).\n",
    "\n",
    "\n"
   ]
  },
  {
   "cell_type": "markdown",
   "metadata": {},
   "source": [
    "**Searching (and finding) Landsat imagery**\n",
    "\n",
    "Landsat is a NASA program that has launched a sequence of Earth observation satellites, named Landsat 1, 2,... etc.  Note that the Landsat program has resulted in the longest continuous observation of the Earth's surface.  In this exercise, you will load a Landsat scene over your area of interest, inspect the units and make a plot of radiance.   Specifically, use imagery from the Landsat 8, the most recent of the sequence of Landsat satellites.  To inspect a Landsat 8 image (also called a scene) in your region of interest (ROI), define your ROI as a point, filter the image collection to get a scene with few clouds, display some information about the image in the console."
   ]
  },
  {
   "cell_type": "code",
   "execution_count": 25,
   "metadata": {},
   "outputs": [],
   "source": [
    "# # Initializing display and earthengine\n",
    "# from IPython.display import Image\n",
    "# %matplotlib inline\n",
    "\n",
    "import ee\n",
    "ee.Initialize()\n",
    "\n",
    "import geemap\n",
    "import geemap.colormaps as cm"
   ]
  },
  {
   "cell_type": "markdown",
   "metadata": {},
   "source": [
    "a) Let's find coordinates of a site of your interest using the https://www.latlong.net/ website"
   ]
  },
  {
   "cell_type": "code",
   "execution_count": 26,
   "metadata": {},
   "outputs": [],
   "source": [
    "latitude = 37.549805\n",
    "longitude= 45.078629"
   ]
  },
  {
   "cell_type": "markdown",
   "metadata": {},
   "source": [
    "b) Use the EarthEngine geometry tools to make a point in a location of your interest.  \n",
    "Name the resultant import 'point'"
   ]
  },
  {
   "cell_type": "code",
   "execution_count": 27,
   "metadata": {},
   "outputs": [],
   "source": [
    "point = ee.Geometry.Point([longitude, latitude])"
   ]
  },
  {
   "cell_type": "markdown",
   "metadata": {},
   "source": [
    "c) Search for 'Landsat Surface Corrected' here: https://developers.google.com/earth-engine/datasets/catalog/ and get the handle name (e.g. ee.ImageCollection(\"XXXXX/XXXX/XXXX\"). Name the import 'landsat'.\n"
   ]
  },
  {
   "cell_type": "code",
   "execution_count": 28,
   "metadata": {},
   "outputs": [],
   "source": [
    "landsat = ee.ImageCollection(\"LANDSAT/LC09/C02/T1_L2\")"
   ]
  },
  {
   "cell_type": "markdown",
   "metadata": {},
   "source": [
    "All the properties of an satellite is also in the datasets catalog"
   ]
  },
  {
   "cell_type": "code",
   "execution_count": 29,
   "metadata": {},
   "outputs": [],
   "source": [
    "# Note that we need to cast the result of first() to Image.\n",
    "image = ee.Image(landsat\n",
    "\n",
    "#    // Filter to get only images in the specified range.This range can be larger\n",
    "    .filterDate('2022-07-01', '2022-07-31')  # choose a period of no snow\n",
    "\n",
    "#    // Filter to get only images at the location of the point.This can be a polygon too.\n",
    "    .filterBounds(point)\n",
    "\n",
    "#    // Get the first image out of this collection.\n",
    "    .first()) #so the less cloudy image\n",
    "\n"
   ]
  },
  {
   "cell_type": "markdown",
   "metadata": {},
   "source": [
    "The variable \"image\" now stores a reference to an object of type ee.Image. "
   ]
  },
  {
   "cell_type": "code",
   "execution_count": 30,
   "metadata": {},
   "outputs": [
    {
     "name": "stdout",
     "output_type": "stream",
     "text": [
      "['SR_B1', 'SR_B2', 'SR_B3', 'SR_B4', 'SR_B5', 'SR_B6', 'SR_B7', 'SR_QA_AEROSOL', 'ST_B10', 'ST_ATRAN', 'ST_CDIST', 'ST_DRAD', 'ST_EMIS', 'ST_EMSD', 'ST_QA', 'ST_TRAD', 'ST_URAD', 'QA_PIXEL', 'QA_RADSAT']\n"
     ]
    }
   ],
   "source": [
    "# Print the image band names to the console. Check in GEE website what wavebands these results indicate.\n",
    "band_names = image.bandNames()\n",
    "print(band_names.getInfo())"
   ]
  },
  {
   "cell_type": "markdown",
   "metadata": {},
   "source": [
    "In Landsat Surface Products these bands are also described in the dataset website:\n"
   ]
  },
  {
   "cell_type": "code",
   "execution_count": 31,
   "metadata": {},
   "outputs": [],
   "source": [
    "# select only reflectance bands\n",
    "image = image.select(['SR_B1', 'SR_B2', 'SR_B3', 'SR_B4', 'SR_B5', 'SR_B6', 'SR_B7'])\n",
    "# The image requires scaling .\n",
    "image = image.multiply(2.75e-05).add(-0.2)"
   ]
  },
  {
   "cell_type": "markdown",
   "metadata": {},
   "source": [
    " Display the image by printing it to the console:"
   ]
  },
  {
   "cell_type": "code",
   "execution_count": 32,
   "metadata": {},
   "outputs": [
    {
     "data": {
      "application/vnd.jupyter.widget-view+json": {
       "model_id": "d2b11e85a991415b80613ce1b1b7d21a",
       "version_major": 2,
       "version_minor": 0
      },
      "text/plain": [
       "Map(center=[37.549805, 45.078629], controls=(WidgetControl(options=['position', 'transparent_bg'], widget=HBox…"
      ]
     },
     "metadata": {},
     "output_type": "display_data"
    }
   ],
   "source": [
    "#// Add the image to the map, using the visualization parameters.\n",
    "Map = geemap.Map(center=(latitude, longitude), zoom=8)\n",
    "Map"
   ]
  },
  {
   "cell_type": "code",
   "execution_count": 33,
   "metadata": {},
   "outputs": [
    {
     "data": {
      "application/vnd.jupyter.widget-view+json": {
       "model_id": "d2b11e85a991415b80613ce1b1b7d21a",
       "version_major": 2,
       "version_minor": 0
      },
      "text/plain": [
       "Map(center=[37.549805, 45.078629], controls=(WidgetControl(options=['position', 'transparent_bg'], widget=HBox…"
      ]
     },
     "metadata": {},
     "output_type": "display_data"
    }
   ],
   "source": [
    "# // Center the map and display the image.\n",
    "#Map.setCenter(-122.1899, 37.5010, 10); # San Francisco Bay\n",
    "Map.addLayer(image, {'bands': ['SR_B4', 'SR_B3', 'SR_B2']}, name='Landsat')\n",
    "Map\n"
   ]
  },
  {
   "cell_type": "markdown",
   "metadata": {},
   "source": [
    "The image is grey because we have not told EarthEngine the min and max values to use. Here is how we define these two characteristics:"
   ]
  },
  {
   "cell_type": "code",
   "execution_count": 34,
   "metadata": {},
   "outputs": [],
   "source": [
    "#// Define visualization parameters in a dictionary.\n",
    "# No radiation is represented by zero (min value), and in RGB the average max value is 0.2\n",
    "trueColor = {\n",
    "  'bands': ['SR_B4', 'SR_B3', 'SR_B2'],\n",
    "  'min': 0,\n",
    "  'max': 0.3,\n",
    "}"
   ]
  },
  {
   "cell_type": "code",
   "execution_count": 35,
   "metadata": {},
   "outputs": [
    {
     "data": {
      "application/vnd.jupyter.widget-view+json": {
       "model_id": "d2b11e85a991415b80613ce1b1b7d21a",
       "version_major": 2,
       "version_minor": 0
      },
      "text/plain": [
       "Map(center=[37.549805, 45.078629], controls=(WidgetControl(options=['position', 'transparent_bg'], widget=HBox…"
      ]
     },
     "metadata": {},
     "output_type": "display_data"
    }
   ],
   "source": [
    "#// Add the image to the map, using the visualization parameters.\n",
    "Map.addLayer(image, trueColor, name='Landsat stretched')\n",
    "Map"
   ]
  },
  {
   "cell_type": "code",
   "execution_count": 36,
   "metadata": {},
   "outputs": [],
   "source": [
    "#// Define false-color visualization parameters.# No radiation is represented by zero (min value), \n",
    "# for Infrared the average max value is 0.6\n",
    "\n",
    "falseColor = {\n",
    "  'bands': ['SR_B5', 'SR_B4', 'SR_B3'],\n",
    "  'min': 0,\n",
    "  'max': 0.5\n",
    "}"
   ]
  },
  {
   "cell_type": "code",
   "execution_count": 37,
   "metadata": {
    "tags": []
   },
   "outputs": [
    {
     "data": {
      "application/vnd.jupyter.widget-view+json": {
       "model_id": "d2b11e85a991415b80613ce1b1b7d21a",
       "version_major": 2,
       "version_minor": 0
      },
      "text/plain": [
       "Map(center=[37.549805, 45.078629], controls=(WidgetControl(options=['position', 'transparent_bg'], widget=HBox…"
      ]
     },
     "metadata": {},
     "output_type": "display_data"
    }
   ],
   "source": [
    "#// Add the image to the map, using the visualization parameters.\n",
    "Map.addLayer(image, falseColor, name='Landsat false color')\n",
    "Map"
   ]
  },
  {
   "cell_type": "markdown",
   "metadata": {},
   "source": [
    "### Visualizing Landsat imagery\n",
    "\n",
    "Recall that Landsat measures radiance in multiple spectral bands.  A common way to visualize images is to set the red band to display in red, the green band to display in green and the blue band to display in blue.  This means trying to match the spectral response of the instrument to the spectral response of the photoreceptors in the human eye.  It's not a perfect match.  Despite that, a visualization done in this manner is called a true-color image.  When the display bands don't match human visual perception, the resultant visualization is called a false-color composite.  \n"
   ]
  },
  {
   "cell_type": "markdown",
   "metadata": {},
   "source": [
    "Let's get the spectral response values for any point in the image"
   ]
  },
  {
   "cell_type": "code",
   "execution_count": 38,
   "metadata": {},
   "outputs": [],
   "source": [
    "#// Hardcode a point .\n",
    "point_in_image = ee.Geometry.Point([45.225, 37.92])\n",
    "\n",
    "#// Define reflective bands as bands B1-B7.  \n",
    "reflectiveBands = ['SR_B1', 'SR_B2', 'SR_B3', 'SR_B4', 'SR_B5', 'SR_B6', 'SR_B7']\n",
    "\n",
    "\n",
    "#// See http://landsat.usgs.gov/band_designations_landsat_satellites.php\n",
    "wavelengths = [0.44, 0.48, 0.56, 0.65, 0.86, 1.61, 2.2];\n",
    "\n",
    "#// Select only the reflectance bands of interest.\n",
    "reflectanceImage = image.select(reflectiveBands);"
   ]
  },
  {
   "cell_type": "code",
   "execution_count": 39,
   "metadata": {},
   "outputs": [],
   "source": [
    "# Sample for values at the point.\n",
    "scale = 30 # pixel size of image\n",
    "\n",
    "result = reflectanceImage.reduceRegion(ee.Reducer.mean(), point_in_image, scale)\n",
    "value_info = result.getInfo()"
   ]
  },
  {
   "cell_type": "code",
   "execution_count": 40,
   "metadata": {},
   "outputs": [
    {
     "data": {
      "text/html": [
       "<div>\n",
       "<style scoped>\n",
       "    .dataframe tbody tr th:only-of-type {\n",
       "        vertical-align: middle;\n",
       "    }\n",
       "\n",
       "    .dataframe tbody tr th {\n",
       "        vertical-align: top;\n",
       "    }\n",
       "\n",
       "    .dataframe thead th {\n",
       "        text-align: right;\n",
       "    }\n",
       "</style>\n",
       "<table border=\"1\" class=\"dataframe\">\n",
       "  <thead>\n",
       "    <tr style=\"text-align: right;\">\n",
       "      <th></th>\n",
       "      <th>Band</th>\n",
       "      <th>Reflectance</th>\n",
       "      <th>Wavelength</th>\n",
       "    </tr>\n",
       "  </thead>\n",
       "  <tbody>\n",
       "    <tr>\n",
       "      <th>0</th>\n",
       "      <td>SR_B1</td>\n",
       "      <td>0.107917</td>\n",
       "      <td>0.44</td>\n",
       "    </tr>\n",
       "    <tr>\n",
       "      <th>1</th>\n",
       "      <td>SR_B2</td>\n",
       "      <td>0.137865</td>\n",
       "      <td>0.48</td>\n",
       "    </tr>\n",
       "    <tr>\n",
       "      <th>2</th>\n",
       "      <td>SR_B3</td>\n",
       "      <td>0.237305</td>\n",
       "      <td>0.56</td>\n",
       "    </tr>\n",
       "    <tr>\n",
       "      <th>3</th>\n",
       "      <td>SR_B4</td>\n",
       "      <td>0.223830</td>\n",
       "      <td>0.65</td>\n",
       "    </tr>\n",
       "    <tr>\n",
       "      <th>4</th>\n",
       "      <td>SR_B5</td>\n",
       "      <td>0.014747</td>\n",
       "      <td>0.86</td>\n",
       "    </tr>\n",
       "    <tr>\n",
       "      <th>5</th>\n",
       "      <td>SR_B6</td>\n",
       "      <td>0.006937</td>\n",
       "      <td>1.61</td>\n",
       "    </tr>\n",
       "    <tr>\n",
       "      <th>6</th>\n",
       "      <td>SR_B7</td>\n",
       "      <td>0.006937</td>\n",
       "      <td>2.20</td>\n",
       "    </tr>\n",
       "  </tbody>\n",
       "</table>\n",
       "</div>"
      ],
      "text/plain": [
       "    Band  Reflectance  Wavelength\n",
       "0  SR_B1     0.107917        0.44\n",
       "1  SR_B2     0.137865        0.48\n",
       "2  SR_B3     0.237305        0.56\n",
       "3  SR_B4     0.223830        0.65\n",
       "4  SR_B5     0.014747        0.86\n",
       "5  SR_B6     0.006937        1.61\n",
       "6  SR_B7     0.006937        2.20"
      ]
     },
     "execution_count": 40,
     "metadata": {},
     "output_type": "execute_result"
    }
   ],
   "source": [
    "import pandas as pd\n",
    "df =pd.DataFrame(list(value_info.items()),columns=['Band','Reflectance'])\n",
    "# # sort bands\n",
    "df.sort_values('Band', inplace=True) \n",
    "# # add wavelenth data to frame\n",
    "df = df.assign(Wavelength=wavelengths)\n",
    "df"
   ]
  },
  {
   "cell_type": "code",
   "execution_count": 41,
   "metadata": {},
   "outputs": [
    {
     "data": {
      "image/png": "[encoded data removed]",
      "text/plain": [
       "<Figure size 432x288 with 1 Axes>"
      ]
     },
     "metadata": {
      "needs_background": "light"
     },
     "output_type": "display_data"
    }
   ],
   "source": [
    "ax =df.plot.line(x='Wavelength', \n",
    "             y='Reflectance',\n",
    "             title= 'Landsat surface spectrum in selected point'\n",
    "             )\n",
    "ax.grid()"
   ]
  },
  {
   "cell_type": "markdown",
   "metadata": {},
   "source": [
    "How to donwload the image?\n",
    "\n",
    "Google Earth Engine allows dowload of a certain quantity of bytes. This means that it can be less area if the image has multiples bands, or larger areas if the image has a single band. Let's implement a pice of code to download a prt of the image.\n",
    "\n",
    "First, let's define an area with four coordinates:"
   ]
  },
  {
   "cell_type": "code",
   "execution_count": 42,
   "metadata": {},
   "outputs": [],
   "source": [
    "geom = ee.Geometry.Polygon(\n",
    "        [\n",
    "            [\n",
    "                [44.988, 37.699],\n",
    "                [45.309, 37.699],\n",
    "                [45.309, 37.584],\n",
    "                [44.988, 37.563],\n",
    "            ]\n",
    "        ]\n",
    ")\n",
    "\n",
    "feature = ee.Feature(geom, {})\n",
    "\n",
    "roi = feature.geometry()"
   ]
  },
  {
   "cell_type": "code",
   "execution_count": 43,
   "metadata": {},
   "outputs": [],
   "source": [
    "import os\n",
    "out_dir = os.path.join(os.path.expanduser('~'), 'Downloads')\n",
    "filename = os.path.join(out_dir, 'landsat_example.tif')"
   ]
  },
  {
   "cell_type": "code",
   "execution_count": 44,
   "metadata": {},
   "outputs": [
    {
     "name": "stdout",
     "output_type": "stream",
     "text": [
      "Generating URL ...\n",
      "Downloading data from https://earthengine.googleapis.com/v1alpha/projects/earthengine-legacy/thumbnails/a77fb1ccdcf17f2a2b6825e61e73133d-14366ca7b5d44cd528de80b2f2ac5dd7:getPixels\n",
      "Please wait ...\n",
      "Data downloaded to /home/jovyan/data/Downloads/landsat_example.tif\n"
     ]
    }
   ],
   "source": [
    "image = image.clip(roi).unmask()\n",
    "geemap.ee_export_image(\n",
    "    image, filename=filename, scale=60, region=roi, file_per_band=False\n",
    ")"
   ]
  },
  {
   "cell_type": "code",
   "execution_count": null,
   "metadata": {},
   "outputs": [],
   "source": []
  }
 ],
 "metadata": {
  "kernelspec": {
   "display_name": "Python 3 (ipykernel)",
   "language": "python",
   "name": "python3"
  },
  "language_info": {
   "codemirror_mode": {
    "name": "ipython",
    "version": 3
   },
   "file_extension": ".py",
   "mimetype": "text/x-python",
   "name": "python",
   "nbconvert_exporter": "python",
   "pygments_lexer": "ipython3",
   "version": "3.9.7"
  },
  "latex_envs": {
   "LaTeX_envs_menu_present": true,
   "autoclose": false,
   "autocomplete": true,
   "bibliofile": "biblio.bib",
   "cite_by": "apalike",
   "current_citInitial": 1,
   "eqLabelWithNumbers": true,
   "eqNumInitial": 1,
   "hotkeys": {
    "equation": "Ctrl-E",
    "itemize": "Ctrl-I"
   },
   "labels_anchors": false,
   "latex_user_defs": false,
   "report_style_numbering": false,
   "user_envs_cfg": false
  },
  "varInspector": {
   "cols": {
    "lenName": 16,
    "lenType": 16,
    "lenVar": 40
   },
   "kernels_config": {
    "python": {
     "delete_cmd_postfix": "",
     "delete_cmd_prefix": "del ",
     "library": "var_list.py",
     "varRefreshCmd": "print(var_dic_list())"
    },
    "r": {
     "delete_cmd_postfix": ") ",
     "delete_cmd_prefix": "rm(",
     "library": "var_list.r",
     "varRefreshCmd": "cat(var_dic_list()) "
    }
   },
   "types_to_exclude": [
    "module",
    "function",
    "builtin_function_or_method",
    "instance",
    "_Feature"
   ],
   "window_display": false
  },
  "widgets": {
   "application/vnd.jupyter.widget-state+json": {
    "state": {},
    "version_major": 2,
    "version_minor": 0
   }
  }
 },
 "nbformat": 4,
 "nbformat_minor": 4
}
