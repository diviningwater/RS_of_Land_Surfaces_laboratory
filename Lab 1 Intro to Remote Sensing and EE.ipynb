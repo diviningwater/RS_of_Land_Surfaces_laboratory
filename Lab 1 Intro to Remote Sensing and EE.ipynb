{
 "cells": [
  {
   "cell_type": "raw",
   "metadata": {},
   "source": [
    "YOUR NAME HERE: "
   ]
  },
  {
   "cell_type": "markdown",
   "metadata": {},
   "source": [
    "# Lab 1: Intro to Remote Sensing and EE\n",
    "\n",
    "**Purpose**: The purpose of this lab is to enable you to search, find and visualize remotely sensed imagery in Google Earth Engine.  At completion, you should be able to load imagery with the units of interest (radiance or reflectance, for example), make true color and false color composites and identify land cover types based on spectral characteristics.\n",
    "\n",
    "**Prerequisites**: If you are new to Python or programming, Review the [Earth Engine Code Editor doc and the Get Started guide](https://developers.google.com/earth-engine).\n",
    "\n",
    "\n"
   ]
  },
  {
   "cell_type": "code",
   "execution_count": 1,
   "metadata": {},
   "outputs": [
    {
     "name": "stdout",
     "output_type": "stream",
     "text": [
      "Updated by Alfonso Torres-Rua,  January 21, 2022\n"
     ]
    }
   ],
   "source": [
    "from datetime import date\n",
    "today = date.today()\n",
    "d2 = today.strftime(\"%B %d, %Y\")\n",
    "print(\"Updated by Alfonso Torres-Rua, \", d2)"
   ]
  },
  {
   "cell_type": "markdown",
   "metadata": {},
   "source": [
    "**Searching (and finding) Landsat imagery**\n",
    "\n",
    "Landsat is a NASA program that has launched a sequence of Earth observation satellites, named Landsat 1, 2,... etc.  Note that the Landsat program has resulted in the longest continuous observation of the Earth's surface.  In this exercise, you will load a Landsat scene over your area of interest, inspect the units and make a plot of radiance.   Specifically, use imagery from the Landsat 8, the most recent of the sequence of Landsat satellites.  To inspect a Landsat 8 image (also called a scene) in your region of interest (ROI), define your ROI as a point, filter the image collection to get a scene with few clouds, display some information about the image in the console."
   ]
  },
  {
   "cell_type": "code",
   "execution_count": 2,
   "metadata": {},
   "outputs": [],
   "source": [
    "# # Initializing display and earthengine\n",
    "# from IPython.display import Image\n",
    "# %matplotlib inline\n",
    "\n",
    "import ee\n",
    "ee.Initialize()\n",
    "\n",
    "import geemap"
   ]
  },
  {
   "cell_type": "markdown",
   "metadata": {},
   "source": [
    "a) Let's find San Francisco, CA coordinates using the https://www.latlong.net/ website"
   ]
  },
  {
   "cell_type": "code",
   "execution_count": 3,
   "metadata": {},
   "outputs": [],
   "source": [
    "latitude = 37.7790262\n",
    "longitude=-122.4199061"
   ]
  },
  {
   "cell_type": "markdown",
   "metadata": {},
   "source": [
    "b) Use the EarthEngine geometry tools to make a point in San Francisco.  \n",
    "Name the resultant import 'point'"
   ]
  },
  {
   "cell_type": "code",
   "execution_count": 4,
   "metadata": {},
   "outputs": [],
   "source": [
    "point = ee.Geometry.Point([longitude, latitude])"
   ]
  },
  {
   "cell_type": "markdown",
   "metadata": {},
   "source": [
    "c) Search for 'Landsat 8 Surface Corrected' here: https://developers.google.com/earth-engine/datasets/catalog/ and get the handle name (e.g. ee.ImageCollection(\"LANDSAT/LC08/C01/T1_SR\"). Name the import 'landsat'.\n"
   ]
  },
  {
   "cell_type": "code",
   "execution_count": 5,
   "metadata": {},
   "outputs": [],
   "source": [
    "landsat = ee.ImageCollection(\"LANDSAT/LC08/C01/T1_SR\")"
   ]
  },
  {
   "cell_type": "markdown",
   "metadata": {},
   "source": [
    "d) Filter the ImageCollection by date and location, sort by a image property called 'CLOUD_COVER' and get the first image out of this sorted collection:\n",
    "\n",
    "All the properties of an satellite is also in the datasets catalog"
   ]
  },
  {
   "cell_type": "code",
   "execution_count": 6,
   "metadata": {},
   "outputs": [
    {
     "data": {
      "text/html": [
       "<img src='Lab 1 figures/figure1.png', width=700, height=200>\n"
      ],
      "text/plain": [
       "<IPython.core.display.HTML object>"
      ]
     },
     "metadata": {},
     "output_type": "display_data"
    }
   ],
   "source": [
    "%%html\n",
    "<img src='Lab 1 figures/figure1.png', width=700, height=200>"
   ]
  },
  {
   "cell_type": "code",
   "execution_count": 7,
   "metadata": {},
   "outputs": [
    {
     "name": "stdout",
     "output_type": "stream",
     "text": [
      "Julian date:  267\n",
      "Year:  2019\n"
     ]
    }
   ],
   "source": [
    "# Note that we need to cast the result of first() to Image.\n",
    "image = ee.Image(landsat\n",
    "\n",
    "#    // Filter to get only images in the specified range.This range can be larger\n",
    "    .filterDate('2019-05-01', '2019-09-30')  # choose a period of no snow\n",
    "\n",
    "#    // Filter to get only images at the location of the point.This can be a polygon too.\n",
    "    .filterBounds(point)\n",
    "\n",
    "#    // Sort the collection by a metadata property.\n",
    "    .sort('CLOUD_COVER_LAND')\n",
    "\n",
    "#    // Get the first image out of this collection.\n",
    "    .first()) #so the less cloudy image\n",
    "\n",
    "# Get the timestamp and convert it to a date.\n",
    "julian_date = ee.Date(image.get('system:time_start')).format('DD').getInfo();\n",
    "year = ee.Date(image.get('system:time_start')).format('Y').getInfo();\n",
    "\n",
    "print('Julian date: ', julian_date); # ee.Date\n",
    "print('Year: ', year)\n",
    "\n",
    "# What properties of this satellite are available?\n",
    "# properties = image.propertyNames();\n",
    "# print(properties.getInfo())"
   ]
  },
  {
   "cell_type": "markdown",
   "metadata": {},
   "source": [
    "The variable \"image\" now stores a reference to an object of type ee.Image. "
   ]
  },
  {
   "cell_type": "code",
   "execution_count": 8,
   "metadata": {},
   "outputs": [
    {
     "name": "stdout",
     "output_type": "stream",
     "text": [
      "['B1', 'B2', 'B3', 'B4', 'B5', 'B6', 'B7', 'B10', 'B11', 'sr_aerosol', 'pixel_qa', 'radsat_qa']\n"
     ]
    }
   ],
   "source": [
    "# Print the image band names to the console. Check in GEE website what wavebands these results indicate.\n",
    "band_names = image.bandNames()\n",
    "print(band_names.getInfo())"
   ]
  },
  {
   "cell_type": "markdown",
   "metadata": {},
   "source": [
    "In Landsat 8 Surface Products these bands are also described in the dataset website:\n"
   ]
  },
  {
   "cell_type": "code",
   "execution_count": 9,
   "metadata": {},
   "outputs": [
    {
     "data": {
      "text/html": [
       "<img src='Lab 1 figures/figure2.png', width=700, height=200>\n"
      ],
      "text/plain": [
       "<IPython.core.display.HTML object>"
      ]
     },
     "metadata": {},
     "output_type": "display_data"
    }
   ],
   "source": [
    "%%html\n",
    "<img src='Lab 1 figures/figure2.png', width=700, height=200>"
   ]
  },
  {
   "cell_type": "code",
   "execution_count": 10,
   "metadata": {},
   "outputs": [],
   "source": [
    "# select only reflectance bands\n",
    "image = image.select(['B1', 'B2', 'B3', 'B4', 'B5', 'B6', 'B7'])\n",
    "# The image requires the scale = 0.0001 as shown above.\n",
    "image = image.multiply(0.0001)"
   ]
  },
  {
   "cell_type": "markdown",
   "metadata": {},
   "source": [
    " Display the image by printing it to the console:"
   ]
  },
  {
   "cell_type": "code",
   "execution_count": 11,
   "metadata": {},
   "outputs": [
    {
     "data": {
      "application/vnd.jupyter.widget-view+json": {
       "model_id": "95671064e49942ecbc8038ccca5e4b89",
       "version_major": 2,
       "version_minor": 0
      },
      "text/plain": [
       "Map(center=[40, -100], controls=(WidgetControl(options=['position', 'transparent_bg'], widget=HBox(children=(T…"
      ]
     },
     "metadata": {},
     "output_type": "display_data"
    }
   ],
   "source": [
    "#// Add the image to the map, using the visualization parameters.\n",
    "Map = geemap.Map(center=(40, -100), zoom=4)\n",
    "Map"
   ]
  },
  {
   "cell_type": "code",
   "execution_count": 14,
   "metadata": {},
   "outputs": [
    {
     "data": {
      "application/vnd.jupyter.widget-view+json": {
       "model_id": "95671064e49942ecbc8038ccca5e4b89",
       "version_major": 2,
       "version_minor": 0
      },
      "text/plain": [
       "Map(bottom=101876.0, center=[37.501, -122.1899], controls=(WidgetControl(options=['position', 'transparent_bg'…"
      ]
     },
     "metadata": {},
     "output_type": "display_data"
    }
   ],
   "source": [
    "# // Center the map and display the image.\n",
    "Map.setCenter(-122.1899, 37.5010, 10); # San Francisco Bay\n",
    "Map.addLayer(image, {'bands': ['B4', 'B3', 'B2']}, name='Landsat')\n",
    "Map\n"
   ]
  },
  {
   "cell_type": "markdown",
   "metadata": {},
   "source": [
    "The image is grey because we have not told EarthEngine the min and max values to use. Here is how we define these two characteristics:"
   ]
  },
  {
   "cell_type": "code",
   "execution_count": 15,
   "metadata": {},
   "outputs": [],
   "source": [
    "#// Define visualization parameters in a dictionary.\n",
    "# No radiation is represented by zero (min value), and in RGB the average max value is 0.2\n",
    "trueColor = {\n",
    "  'dimensions': 500,  \n",
    "  'bands': ['B4', 'B3', 'B2'],\n",
    "  'min': 0,\n",
    "  'max': 0.2,\n",
    "}"
   ]
  },
  {
   "cell_type": "code",
   "execution_count": 16,
   "metadata": {},
   "outputs": [
    {
     "data": {
      "application/vnd.jupyter.widget-view+json": {
       "model_id": "95671064e49942ecbc8038ccca5e4b89",
       "version_major": 2,
       "version_minor": 0
      },
      "text/plain": [
       "Map(bottom=25694.0, center=[37.501, -122.1899], controls=(WidgetControl(options=['position', 'transparent_bg']…"
      ]
     },
     "metadata": {},
     "output_type": "display_data"
    }
   ],
   "source": [
    "#// Add the image to the map, using the visualization parameters.\n",
    "Map.addLayer(image, trueColor, name='Landsat stretched')\n",
    "Map"
   ]
  },
  {
   "cell_type": "code",
   "execution_count": 17,
   "metadata": {},
   "outputs": [],
   "source": [
    "#// Define false-color visualization parameters.# No radiation is represented by zero (min value), \n",
    "# for Infrared the average max value is 0.6\n",
    "\n",
    "falseColor = {\n",
    "  'dimensions': 500,\n",
    "  'bands': ['B5', 'B4', 'B3'],\n",
    "  'min': 0,\n",
    "  'max': 0.5\n",
    "}"
   ]
  },
  {
   "cell_type": "code",
   "execution_count": 18,
   "metadata": {},
   "outputs": [
    {
     "data": {
      "application/vnd.jupyter.widget-view+json": {
       "model_id": "95671064e49942ecbc8038ccca5e4b89",
       "version_major": 2,
       "version_minor": 0
      },
      "text/plain": [
       "Map(bottom=25694.0, center=[37.501, -122.1899], controls=(WidgetControl(options=['position', 'transparent_bg']…"
      ]
     },
     "metadata": {},
     "output_type": "display_data"
    }
   ],
   "source": [
    "#// Add the image to the map, using the visualization parameters.\n",
    "Map.addLayer(image, falseColor, name='Landsat false color')\n",
    "Map"
   ]
  },
  {
   "cell_type": "markdown",
   "metadata": {},
   "source": [
    "### Visualizing Landsat imagery\n",
    "\n",
    "Recall that Landsat 8 measures radiance in multiple spectral bands.  A common way to visualize images is to set the red band to display in red, the green band to display in green and the blue band to display in blue.  This means trying to match the spectral response of the instrument to the spectral response of the photoreceptors in the human eye.  It's not a perfect match.  Despite that, a visualization done in this manner is called a true-color image.  When the display bands don't match human visual perception, the resultant visualization is called a false-color composite.  In this exercise, you will make several different visualizations of the scene you found in exercise 1.  \n",
    "\n",
    "Add the image found in exercise 1 to the map display with the following code:\n"
   ]
  },
  {
   "cell_type": "code",
   "execution_count": 19,
   "metadata": {},
   "outputs": [],
   "source": [
    "#// Hardcode a point in Golden Gate Park.\n",
    "ggPark = ee.Geometry.Point([-122.4860, 37.7692])\n",
    "\n",
    "#// Define reflective bands as bands B1-B7.  \n",
    "reflectiveBands = ['B1', 'B2', 'B3', 'B4', 'B5', 'B6', 'B7']\n",
    "\n",
    "\n",
    "#// See http://landsat.usgs.gov/band_designations_landsat_satellites.php\n",
    "wavelengths = [0.44, 0.48, 0.56, 0.65, 0.86, 1.61, 2.2];\n",
    "\n",
    "#// Select only the reflectance bands of interest.\n",
    "reflectanceImage = image.select(reflectiveBands);"
   ]
  },
  {
   "cell_type": "code",
   "execution_count": 20,
   "metadata": {},
   "outputs": [],
   "source": [
    "# Sample for values at the point.\n",
    "scale = 30 # pixel size of image\n",
    "\n",
    "result = reflectanceImage.reduceRegion(ee.Reducer.mean(), ggPark, scale)\n",
    "value_info = result.getInfo()"
   ]
  },
  {
   "cell_type": "code",
   "execution_count": 21,
   "metadata": {},
   "outputs": [
    {
     "data": {
      "text/html": [
       "<div>\n",
       "<style scoped>\n",
       "    .dataframe tbody tr th:only-of-type {\n",
       "        vertical-align: middle;\n",
       "    }\n",
       "\n",
       "    .dataframe tbody tr th {\n",
       "        vertical-align: top;\n",
       "    }\n",
       "\n",
       "    .dataframe thead th {\n",
       "        text-align: right;\n",
       "    }\n",
       "</style>\n",
       "<table border=\"1\" class=\"dataframe\">\n",
       "  <thead>\n",
       "    <tr style=\"text-align: right;\">\n",
       "      <th></th>\n",
       "      <th>Band</th>\n",
       "      <th>Reflectance</th>\n",
       "      <th>Wavelength</th>\n",
       "    </tr>\n",
       "  </thead>\n",
       "  <tbody>\n",
       "    <tr>\n",
       "      <th>0</th>\n",
       "      <td>B1</td>\n",
       "      <td>0.0265</td>\n",
       "      <td>0.44</td>\n",
       "    </tr>\n",
       "    <tr>\n",
       "      <th>1</th>\n",
       "      <td>B2</td>\n",
       "      <td>0.0291</td>\n",
       "      <td>0.48</td>\n",
       "    </tr>\n",
       "    <tr>\n",
       "      <th>2</th>\n",
       "      <td>B3</td>\n",
       "      <td>0.0552</td>\n",
       "      <td>0.56</td>\n",
       "    </tr>\n",
       "    <tr>\n",
       "      <th>3</th>\n",
       "      <td>B4</td>\n",
       "      <td>0.0321</td>\n",
       "      <td>0.65</td>\n",
       "    </tr>\n",
       "    <tr>\n",
       "      <th>4</th>\n",
       "      <td>B5</td>\n",
       "      <td>0.4265</td>\n",
       "      <td>0.86</td>\n",
       "    </tr>\n",
       "    <tr>\n",
       "      <th>5</th>\n",
       "      <td>B6</td>\n",
       "      <td>0.2275</td>\n",
       "      <td>1.61</td>\n",
       "    </tr>\n",
       "    <tr>\n",
       "      <th>6</th>\n",
       "      <td>B7</td>\n",
       "      <td>0.1088</td>\n",
       "      <td>2.20</td>\n",
       "    </tr>\n",
       "  </tbody>\n",
       "</table>\n",
       "</div>"
      ],
      "text/plain": [
       "  Band  Reflectance  Wavelength\n",
       "0   B1       0.0265        0.44\n",
       "1   B2       0.0291        0.48\n",
       "2   B3       0.0552        0.56\n",
       "3   B4       0.0321        0.65\n",
       "4   B5       0.4265        0.86\n",
       "5   B6       0.2275        1.61\n",
       "6   B7       0.1088        2.20"
      ]
     },
     "execution_count": 21,
     "metadata": {},
     "output_type": "execute_result"
    }
   ],
   "source": [
    "import pandas as pd\n",
    "df =pd.DataFrame(list(value_info.items()),columns=['Band','Reflectance'])\n",
    "# # sort bands\n",
    "df.sort_values('Band', inplace=True) \n",
    "# # add wavelenth data to frame\n",
    "df = df.assign(Wavelength=wavelengths)\n",
    "df"
   ]
  },
  {
   "cell_type": "code",
   "execution_count": 21,
   "metadata": {},
   "outputs": [
    {
     "data": {
      "image/png": "[encoded data removed]",
      "text/plain": [
       "<Figure size 432x288 with 1 Axes>"
      ]
     },
     "metadata": {
      "needs_background": "light"
     },
     "output_type": "display_data"
    }
   ],
   "source": [
    "ax =df.plot.line(x='Wavelength', \n",
    "             y='Reflectance',\n",
    "             title= 'Landsat 8 Surface spectrum in Golden Gate Park'\n",
    "             )\n",
    "ax.grid()"
   ]
  },
  {
   "cell_type": "markdown",
   "metadata": {},
   "source": [
    "## Assignment\n",
    "1. What are the necessary changes to this notebook, to perform the same steps for Utah State University's QUAD? Produce a notebook.\n",
    "\n",
    "2. Are the Landsat 8 spectrum in Golden Gate Park and the QUAD the same? What are the reasons for the difference?\n",
    "\n",
    "3. Add to your USU Quad analysis, the following band combinations as presented in the first table of this link [https://www.esri.com/arcgis-blog/products/product/imagery/band-combinations-for-landsat-8/](https://www.esri.com/arcgis-blog/products/product/imagery/band-combinations-for-landsat-8/) What are the differences of each combination against the ones shown in this notebook? Here is another link just for reference [https://gisgeography.com/landsat-8-bands-combinations/](https://gisgeography.com/landsat-8-bands-combinations/)\n",
    "\n",
    "PS: If you look into table 2 of the first link, you will see how the numeration of bands of Landsat 7 aligns with Landsat 8.\n",
    "\n",
    "Happy coding!"
   ]
  },
  {
   "cell_type": "code",
   "execution_count": null,
   "metadata": {},
   "outputs": [],
   "source": []
  }
 ],
 "metadata": {
  "kernelspec": {
   "display_name": "Python 3 (ipykernel)",
   "language": "python",
   "name": "python3"
  },
  "language_info": {
   "codemirror_mode": {
    "name": "ipython",
    "version": 3
   },
   "file_extension": ".py",
   "mimetype": "text/x-python",
   "name": "python",
   "nbconvert_exporter": "python",
   "pygments_lexer": "ipython3",
   "version": "3.9.7"
  },
  "latex_envs": {
   "LaTeX_envs_menu_present": true,
   "autoclose": false,
   "autocomplete": true,
   "bibliofile": "biblio.bib",
   "cite_by": "apalike",
   "current_citInitial": 1,
   "eqLabelWithNumbers": true,
   "eqNumInitial": 1,
   "hotkeys": {
    "equation": "Ctrl-E",
    "itemize": "Ctrl-I"
   },
   "labels_anchors": false,
   "latex_user_defs": false,
   "report_style_numbering": false,
   "user_envs_cfg": false
  },
  "varInspector": {
   "cols": {
    "lenName": 16,
    "lenType": 16,
    "lenVar": 40
   },
   "kernels_config": {
    "python": {
     "delete_cmd_postfix": "",
     "delete_cmd_prefix": "del ",
     "library": "var_list.py",
     "varRefreshCmd": "print(var_dic_list())"
    },
    "r": {
     "delete_cmd_postfix": ") ",
     "delete_cmd_prefix": "rm(",
     "library": "var_list.r",
     "varRefreshCmd": "cat(var_dic_list()) "
    }
   },
   "types_to_exclude": [
    "module",
    "function",
    "builtin_function_or_method",
    "instance",
    "_Feature"
   ],
   "window_display": false
  }
 },
 "nbformat": 4,
 "nbformat_minor": 4
}
