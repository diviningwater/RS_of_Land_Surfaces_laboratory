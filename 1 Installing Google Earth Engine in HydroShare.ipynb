{
 "cells": [
  {
   "cell_type": "markdown",
   "id": "ebe8af2d-6875-4d45-be81-88610554a40f",
   "metadata": {},
   "source": [
    "Hi User! \n",
    "\n",
    "Follow the steps below to create a permanent Python environment within JupyterHub with the GEE module.\n",
    "\n",
    "Note that this is a one-time job, and the conda environment (called gee) will persist even if you leave JupyterHub and return later. Here are the steps I took to successfully run the geemap package within CUAHSI's JupyterHub:\n",
    "\n",
    "Click in the terminal icon in the Laucher tab\n",
    "\n",
    "In the terminal, pass the commands below one by one:\n",
    "\n",
    "conda create -n gee python=3.10\n",
    "\n",
    "conda activate gee\n",
    "\n",
    "conda install -n base mamba -c conda-forge\n",
    "\n",
    "mamba install geemap -c conda-forge\n",
    "\n",
    "mamba install geopandas localtileserver -c conda-forge\n",
    "\n",
    "conda install ipykernel\n",
    "\n",
    "python -m ipykernel install --user --name=gee\n",
    "\n",
    "If you click on the Launcher button, you see the environment is added, and you can import the library. \n",
    "\n"
   ]
  },
  {
   "cell_type": "code",
   "execution_count": null,
   "id": "8e0d2524-f99a-462b-8fbe-59b42f8c40cd",
   "metadata": {},
   "outputs": [],
   "source": []
  }
 ],
 "metadata": {
  "kernelspec": {
   "display_name": "Python [conda env:gee]",
   "language": "python",
   "name": "conda-env-gee-py"
  },
  "language_info": {
   "codemirror_mode": {
    "name": "ipython",
    "version": 3
   },
   "file_extension": ".py",
   "mimetype": "text/x-python",
   "name": "python",
   "nbconvert_exporter": "python",
   "pygments_lexer": "ipython3",
   "version": "3.10.13"
  },
  "widgets": {
   "application/vnd.jupyter.widget-state+json": {
    "state": {},
    "version_major": 2,
    "version_minor": 0
   }
  }
 },
 "nbformat": 4,
 "nbformat_minor": 5
}
