{
 "cells": [
  {
   "cell_type": "markdown",
   "metadata": {},
   "source": [
    "<a href=\"https://colab.research.google.com/github/davemlz/eemont/blob/master/tutorials/014-Time-Series-By-Regions-Pandas.ipynb\" target=\"_parent\"><img src=\"https://colab.research.google.com/assets/colab-badge.svg\" alt=\"Open In Colab\"/></a>"
   ]
  },
  {
   "cell_type": "markdown",
   "metadata": {
    "id": "jZEthLln92Ep"
   },
   "source": [
    "# Time Series By Regions (with Conversion to Pandas and Visualization with Seaborn) using EEMONT, GEETOOLS and GEEMAP"
   ]
  },
  {
   "cell_type": "markdown",
   "metadata": {
    "id": "dNa470OZ8Oec"
   },
   "source": [
    "- GitHub Repo: [https://github.com/davemlz/eemont](https://github.com/davemlz/eemont)\n",
    "- PyPI link: [https://pypi.org/project/eemont/](https://pypi.org/project/eemont/)\n",
    "- Documentation: [https://eemont.readthedocs.io/en/0.1.8/index.html](https://eemont.readthedocs.io/en/0.1.8/index.html)\n",
    "- More tutorials: [https://github.com/davemlz/eemont/tree/master/tutorials](https://github.com/davemlz/eemont/tree/master/tutorials)"
   ]
  },
  {
   "cell_type": "markdown",
   "metadata": {
    "id": "CD7h0hbi92Er"
   },
   "source": [
    "## Let's start!"
   ]
  },
  {
   "cell_type": "markdown",
   "metadata": {
    "id": "E0rc6Cya92Es"
   },
   "source": [
    "NOTE: before running this notebook, pass the following commands to a Python terminal. (File, New, Terminal)"
   ]
  },
  {
   "cell_type": "raw",
   "metadata": {
    "id": "NYzyvKtk92Es"
   },
   "source": [
    "pip install eemont\n",
    "pip install geetools\n",
    "pip install -U geemap\n"
   ]
  },
  {
   "cell_type": "markdown",
   "metadata": {
    "id": "x3Rm3qt_92Et"
   },
   "source": [
    "Return to this notebook and Import the required packges."
   ]
  },
  {
   "cell_type": "code",
   "execution_count": 11,
   "metadata": {
    "id": "H0C9S_Hh92Et"
   },
   "outputs": [],
   "source": [
    "import ee, eemont, geemap\n",
    "import pandas as pd\n",
    "import numpy as np\n",
    "import seaborn as sns\n",
    "from matplotlib import pyplot as plt\n",
    "\n",
    "# import geetools for cloud /sadow discrimination\n",
    "from geetools import ui, cloud_mask\n"
   ]
  },
  {
   "cell_type": "markdown",
   "metadata": {
    "id": "k1sdX2p592Eu"
   },
   "source": [
    "Authenticate and Initialize Earth Engine and geemap."
   ]
  },
  {
   "cell_type": "code",
   "execution_count": 12,
   "metadata": {
    "id": "7QDXqVwy8Oef"
   },
   "outputs": [
    {
     "data": {
      "application/vnd.jupyter.widget-view+json": {
       "model_id": "7fd9812e5ea04c648eba2c1a3ee12147",
       "version_major": 2,
       "version_minor": 0
      },
      "text/plain": [
       "Map(center=[20, 0], controls=(WidgetControl(options=['position', 'transparent_bg'], widget=HBox(children=(Togg…"
      ]
     },
     "metadata": {},
     "output_type": "display_data"
    }
   ],
   "source": [
    "Map = geemap.Map()\n",
    "Map.add_basemap('Esri Satellite')\n",
    "Map\n"
   ]
  },
  {
   "cell_type": "markdown",
   "metadata": {},
   "source": [
    "Let's use some center-pivot crops in Utah:"
   ]
  },
  {
   "cell_type": "code",
   "execution_count": 13,
   "metadata": {},
   "outputs": [],
   "source": [
    "pivot0=ee.Geometry.Point([-117.0856069587170, 36.1797210294753]).buffer(10) #the number in buffer is the radius for the center pivot\n",
    "pivot1=ee.Geometry.Point([-117.0884979609400,36.1734460014849]).buffer(10)\n",
    "pivot2=ee.Geometry.Point([-117.0888227596870,36.1736295651644]).buffer(10)\n",
    "pivot3=ee.Geometry.Point([-117.0874020000000,36.1736690000000]).buffer(10)\n",
    "\n",
    "Map.addLayer(pivot0,{},'pine0')\n",
    "Map.addLayer(pivot1,{},'pine1')\n",
    "Map.addLayer(pivot2,{},'pine2')\n",
    "Map.addLayer(pivot3,{},'pine3')\n",
    "\n",
    "Map.centerObject(pivot0,12)\n"
   ]
  },
  {
   "cell_type": "markdown",
   "metadata": {},
   "source": [
    "Let's combine the different center pivot features into a Feature Collection"
   ]
  },
  {
   "cell_type": "code",
   "execution_count": 14,
   "metadata": {},
   "outputs": [],
   "source": [
    "pivots = ee.FeatureCollection([\n",
    "    ee.Feature(pivot0,{'pine':0}),\n",
    "    ee.Feature(pivot1,{'pine':1}),\n",
    "    ee.Feature(pivot2,{'pine':2}),\n",
    "    ee.Feature(pivot3,{'pine':3})\n",
    "])"
   ]
  },
  {
   "cell_type": "markdown",
   "metadata": {},
   "source": [
    "Let's pre-process and process our image collection; LANDSAT 8"
   ]
  },
  {
   "cell_type": "code",
   "execution_count": 15,
   "metadata": {},
   "outputs": [],
   "source": [
    "L8 = ee.ImageCollection('LANDSAT/LC08/C01/T1_SR').filterBounds(pivots).filter(ee.Filter.date('2018-01-01', '2020-12-01'))\n"
   ]
  },
  {
   "cell_type": "code",
   "execution_count": 16,
   "metadata": {},
   "outputs": [],
   "source": [
    "# CLOUD MASKING IN EE PYTHON NOT QUITE EASY. USING THE GEETOOLS custom functions https://github.com/gee-community/gee_tools \n",
    "\n",
    "# this function only for Landsat 8 Surface Corrected single image\n",
    "mask_l8SR_all = cloud_mask.landsatSR() #this function masks clouds, snow, shadows\n",
    "\n",
    "# mask_l8SR_cloud = cloud_mask.landsatSR(['cloud'])\n",
    "# mask_l8SR_shadow = cloud_mask.landsatSR(['shadow'])\n",
    "# mask_l8SR_snow = cloud_mask.landsatSR(['snow'])"
   ]
  },
  {
   "cell_type": "code",
   "execution_count": 17,
   "metadata": {},
   "outputs": [],
   "source": [
    "# creating a function for masking the entire ImmageCollection\n",
    "def maskL8sr(image):\n",
    "    cld_free=mask_l8SR_all(image)\n",
    "    return cld_free"
   ]
  },
  {
   "cell_type": "markdown",
   "metadata": {},
   "source": [
    "NOTE check eemont repository for examples of maskCLouds, scale, and application of vegetation indexes. https://eemont.readthedocs.io/en/latest/guide/spectralIndices.html"
   ]
  },
  {
   "cell_type": "code",
   "execution_count": 18,
   "metadata": {},
   "outputs": [],
   "source": [
    "L8 = L8.map(maskL8sr).scale().index(['kNDVI','NDVI','SAVI'])"
   ]
  },
  {
   "cell_type": "markdown",
   "metadata": {},
   "source": [
    "Let's check which bands are available."
   ]
  },
  {
   "cell_type": "code",
   "execution_count": 19,
   "metadata": {},
   "outputs": [
    {
     "data": {
      "text/plain": [
       "['B1',\n",
       " 'B2',\n",
       " 'B3',\n",
       " 'B4',\n",
       " 'B5',\n",
       " 'B6',\n",
       " 'B7',\n",
       " 'B10',\n",
       " 'B11',\n",
       " 'sr_aerosol',\n",
       " 'pixel_qa',\n",
       " 'radsat_qa']"
      ]
     },
     "execution_count": 19,
     "metadata": {},
     "output_type": "execute_result"
    }
   ],
   "source": [
    "L8.first().bandNames().getInfo()"
   ]
  },
  {
   "cell_type": "markdown",
   "metadata": {},
   "source": [
    "## Time Lapse of the Satellite data"
   ]
  },
  {
   "cell_type": "markdown",
   "metadata": {},
   "source": [
    "Using Geemap example 72"
   ]
  },
  {
   "cell_type": "code",
   "execution_count": 10,
   "metadata": {},
   "outputs": [
    {
     "ename": "EEException",
     "evalue": "Collection.first: Error in map(ID=LC08_040035_20200407):\nImage.select: Pattern 'NDVI' did not match any bands.",
     "output_type": "error",
     "traceback": [
      "\u001b[0;31m---------------------------------------------------------------------------\u001b[0m",
      "\u001b[0;31mHttpError\u001b[0m                                 Traceback (most recent call last)",
      "\u001b[0;32m/opt/conda/lib/python3.9/site-packages/ee/data.py\u001b[0m in \u001b[0;36m_execute_cloud_call\u001b[0;34m(call, num_retries)\u001b[0m\n\u001b[1;32m    337\u001b[0m   \u001b[0;32mtry\u001b[0m\u001b[0;34m:\u001b[0m\u001b[0;34m\u001b[0m\u001b[0;34m\u001b[0m\u001b[0m\n\u001b[0;32m--> 338\u001b[0;31m     \u001b[0;32mreturn\u001b[0m \u001b[0mcall\u001b[0m\u001b[0;34m.\u001b[0m\u001b[0mexecute\u001b[0m\u001b[0;34m(\u001b[0m\u001b[0mnum_retries\u001b[0m\u001b[0;34m=\u001b[0m\u001b[0mnum_retries\u001b[0m\u001b[0;34m)\u001b[0m\u001b[0;34m\u001b[0m\u001b[0;34m\u001b[0m\u001b[0m\n\u001b[0m\u001b[1;32m    339\u001b[0m   \u001b[0;32mexcept\u001b[0m \u001b[0mgoogleapiclient\u001b[0m\u001b[0;34m.\u001b[0m\u001b[0merrors\u001b[0m\u001b[0;34m.\u001b[0m\u001b[0mHttpError\u001b[0m \u001b[0;32mas\u001b[0m \u001b[0me\u001b[0m\u001b[0;34m:\u001b[0m\u001b[0;34m\u001b[0m\u001b[0;34m\u001b[0m\u001b[0m\n",
      "\u001b[0;32m/opt/conda/lib/python3.9/site-packages/googleapiclient/_helpers.py\u001b[0m in \u001b[0;36mpositional_wrapper\u001b[0;34m(*args, **kwargs)\u001b[0m\n\u001b[1;32m    133\u001b[0m                     \u001b[0mlogger\u001b[0m\u001b[0;34m.\u001b[0m\u001b[0mwarning\u001b[0m\u001b[0;34m(\u001b[0m\u001b[0mmessage\u001b[0m\u001b[0;34m)\u001b[0m\u001b[0;34m\u001b[0m\u001b[0;34m\u001b[0m\u001b[0m\n\u001b[0;32m--> 134\u001b[0;31m             \u001b[0;32mreturn\u001b[0m \u001b[0mwrapped\u001b[0m\u001b[0;34m(\u001b[0m\u001b[0;34m*\u001b[0m\u001b[0margs\u001b[0m\u001b[0;34m,\u001b[0m \u001b[0;34m**\u001b[0m\u001b[0mkwargs\u001b[0m\u001b[0;34m)\u001b[0m\u001b[0;34m\u001b[0m\u001b[0;34m\u001b[0m\u001b[0m\n\u001b[0m\u001b[1;32m    135\u001b[0m \u001b[0;34m\u001b[0m\u001b[0m\n",
      "\u001b[0;32m/opt/conda/lib/python3.9/site-packages/googleapiclient/http.py\u001b[0m in \u001b[0;36mexecute\u001b[0;34m(self, http, num_retries)\u001b[0m\n\u001b[1;32m    914\u001b[0m         \u001b[0;32mif\u001b[0m \u001b[0mresp\u001b[0m\u001b[0;34m.\u001b[0m\u001b[0mstatus\u001b[0m \u001b[0;34m>=\u001b[0m \u001b[0;36m300\u001b[0m\u001b[0;34m:\u001b[0m\u001b[0;34m\u001b[0m\u001b[0;34m\u001b[0m\u001b[0m\n\u001b[0;32m--> 915\u001b[0;31m             \u001b[0;32mraise\u001b[0m \u001b[0mHttpError\u001b[0m\u001b[0;34m(\u001b[0m\u001b[0mresp\u001b[0m\u001b[0;34m,\u001b[0m \u001b[0mcontent\u001b[0m\u001b[0;34m,\u001b[0m \u001b[0muri\u001b[0m\u001b[0;34m=\u001b[0m\u001b[0mself\u001b[0m\u001b[0;34m.\u001b[0m\u001b[0muri\u001b[0m\u001b[0;34m)\u001b[0m\u001b[0;34m\u001b[0m\u001b[0;34m\u001b[0m\u001b[0m\n\u001b[0m\u001b[1;32m    916\u001b[0m         \u001b[0;32mreturn\u001b[0m \u001b[0mself\u001b[0m\u001b[0;34m.\u001b[0m\u001b[0mpostproc\u001b[0m\u001b[0;34m(\u001b[0m\u001b[0mresp\u001b[0m\u001b[0;34m,\u001b[0m \u001b[0mcontent\u001b[0m\u001b[0;34m)\u001b[0m\u001b[0;34m\u001b[0m\u001b[0;34m\u001b[0m\u001b[0m\n",
      "\u001b[0;31mHttpError\u001b[0m: <HttpError 400 when requesting https://earthengine.googleapis.com/v1alpha/projects/earthengine-legacy/maps?fields=name&alt=json returned \"Collection.first: Error in map(ID=LC08_040035_20200407):\nImage.select: Pattern 'NDVI' did not match any bands.\". Details: \"Collection.first: Error in map(ID=LC08_040035_20200407):\nImage.select: Pattern 'NDVI' did not match any bands.\">",
      "\nDuring handling of the above exception, another exception occurred:\n",
      "\u001b[0;31mEEException\u001b[0m                               Traceback (most recent call last)",
      "\u001b[0;32m/tmp/ipykernel_86/2793364259.py\u001b[0m in \u001b[0;36m<module>\u001b[0;34m\u001b[0m\n\u001b[1;32m     13\u001b[0m \u001b[0mfirst_image\u001b[0m \u001b[0;34m=\u001b[0m \u001b[0mcollection\u001b[0m\u001b[0;34m.\u001b[0m\u001b[0mfirst\u001b[0m\u001b[0;34m(\u001b[0m\u001b[0;34m)\u001b[0m\u001b[0;34m\u001b[0m\u001b[0;34m\u001b[0m\u001b[0m\n\u001b[1;32m     14\u001b[0m \u001b[0;34m\u001b[0m\u001b[0m\n\u001b[0;32m---> 15\u001b[0;31m \u001b[0mMap\u001b[0m\u001b[0;34m.\u001b[0m\u001b[0maddLayer\u001b[0m\u001b[0;34m(\u001b[0m\u001b[0mfirst_image\u001b[0m\u001b[0;34m,\u001b[0m \u001b[0mvis_params\u001b[0m\u001b[0;34m,\u001b[0m \u001b[0;34m\"First image\"\u001b[0m\u001b[0;34m)\u001b[0m\u001b[0;34m\u001b[0m\u001b[0;34m\u001b[0m\u001b[0m\n\u001b[0m\u001b[1;32m     16\u001b[0m \u001b[0;31m# Map.setCenter(-7.03125, 31.0529339857, 2)\u001b[0m\u001b[0;34m\u001b[0m\u001b[0;34m\u001b[0m\u001b[0m\n\u001b[1;32m     17\u001b[0m \u001b[0mMap\u001b[0m\u001b[0;34m\u001b[0m\u001b[0;34m\u001b[0m\u001b[0m\n",
      "\u001b[0;32m/opt/conda/lib/python3.9/site-packages/geemap/geemap.py\u001b[0m in \u001b[0;36madd_ee_layer\u001b[0;34m(self, ee_object, vis_params, name, shown, opacity)\u001b[0m\n\u001b[1;32m   1407\u001b[0m                 \u001b[0;32mraise\u001b[0m \u001b[0mException\u001b[0m\u001b[0;34m(\u001b[0m\u001b[0me\u001b[0m\u001b[0;34m)\u001b[0m\u001b[0;34m\u001b[0m\u001b[0;34m\u001b[0m\u001b[0m\n\u001b[1;32m   1408\u001b[0m \u001b[0;34m\u001b[0m\u001b[0m\n\u001b[0;32m-> 1409\u001b[0;31m         \u001b[0mmap_id_dict\u001b[0m \u001b[0;34m=\u001b[0m \u001b[0mee\u001b[0m\u001b[0;34m.\u001b[0m\u001b[0mImage\u001b[0m\u001b[0;34m(\u001b[0m\u001b[0mimage\u001b[0m\u001b[0;34m)\u001b[0m\u001b[0;34m.\u001b[0m\u001b[0mgetMapId\u001b[0m\u001b[0;34m(\u001b[0m\u001b[0mvis_params\u001b[0m\u001b[0;34m)\u001b[0m\u001b[0;34m\u001b[0m\u001b[0;34m\u001b[0m\u001b[0m\n\u001b[0m\u001b[1;32m   1410\u001b[0m         tile_layer = ipyleaflet.TileLayer(\n\u001b[1;32m   1411\u001b[0m             \u001b[0murl\u001b[0m\u001b[0;34m=\u001b[0m\u001b[0mmap_id_dict\u001b[0m\u001b[0;34m[\u001b[0m\u001b[0;34m\"tile_fetcher\"\u001b[0m\u001b[0;34m]\u001b[0m\u001b[0;34m.\u001b[0m\u001b[0murl_format\u001b[0m\u001b[0;34m,\u001b[0m\u001b[0;34m\u001b[0m\u001b[0;34m\u001b[0m\u001b[0m\n",
      "\u001b[0;32m/opt/conda/lib/python3.9/site-packages/ee/image.py\u001b[0m in \u001b[0;36mgetMapId\u001b[0;34m(self, vis_params)\u001b[0m\n\u001b[1;32m    128\u001b[0m     \u001b[0mvis_image\u001b[0m\u001b[0;34m,\u001b[0m \u001b[0mrequest\u001b[0m \u001b[0;34m=\u001b[0m \u001b[0mself\u001b[0m\u001b[0;34m.\u001b[0m\u001b[0m_apply_visualization\u001b[0m\u001b[0;34m(\u001b[0m\u001b[0mvis_params\u001b[0m\u001b[0;34m)\u001b[0m\u001b[0;34m\u001b[0m\u001b[0;34m\u001b[0m\u001b[0m\n\u001b[1;32m    129\u001b[0m     \u001b[0mrequest\u001b[0m\u001b[0;34m[\u001b[0m\u001b[0;34m'image'\u001b[0m\u001b[0;34m]\u001b[0m \u001b[0;34m=\u001b[0m \u001b[0mvis_image\u001b[0m\u001b[0;34m\u001b[0m\u001b[0;34m\u001b[0m\u001b[0m\n\u001b[0;32m--> 130\u001b[0;31m     \u001b[0mresponse\u001b[0m \u001b[0;34m=\u001b[0m \u001b[0mdata\u001b[0m\u001b[0;34m.\u001b[0m\u001b[0mgetMapId\u001b[0m\u001b[0;34m(\u001b[0m\u001b[0mrequest\u001b[0m\u001b[0;34m)\u001b[0m\u001b[0;34m\u001b[0m\u001b[0;34m\u001b[0m\u001b[0m\n\u001b[0m\u001b[1;32m    131\u001b[0m     \u001b[0mresponse\u001b[0m\u001b[0;34m[\u001b[0m\u001b[0;34m'image'\u001b[0m\u001b[0;34m]\u001b[0m \u001b[0;34m=\u001b[0m \u001b[0mself\u001b[0m\u001b[0;34m\u001b[0m\u001b[0;34m\u001b[0m\u001b[0m\n\u001b[1;32m    132\u001b[0m     \u001b[0;32mreturn\u001b[0m \u001b[0mresponse\u001b[0m\u001b[0;34m\u001b[0m\u001b[0;34m\u001b[0m\u001b[0m\n",
      "\u001b[0;32m/opt/conda/lib/python3.9/site-packages/ee/data.py\u001b[0m in \u001b[0;36mgetMapId\u001b[0;34m(params)\u001b[0m\n\u001b[1;32m    575\u001b[0m   \u001b[0;31m# Make it return only the name field, as otherwise it echoes the entire\u001b[0m\u001b[0;34m\u001b[0m\u001b[0;34m\u001b[0m\u001b[0m\n\u001b[1;32m    576\u001b[0m   \u001b[0;31m# request, which might be large.\u001b[0m\u001b[0;34m\u001b[0m\u001b[0;34m\u001b[0m\u001b[0m\n\u001b[0;32m--> 577\u001b[0;31m   result = _execute_cloud_call(\n\u001b[0m\u001b[1;32m    578\u001b[0m       _get_cloud_api_resource().projects().maps().create(\n\u001b[1;32m    579\u001b[0m           parent=_get_projects_path(), fields='name', body=request))\n",
      "\u001b[0;32m/opt/conda/lib/python3.9/site-packages/ee/data.py\u001b[0m in \u001b[0;36m_execute_cloud_call\u001b[0;34m(call, num_retries)\u001b[0m\n\u001b[1;32m    338\u001b[0m     \u001b[0;32mreturn\u001b[0m \u001b[0mcall\u001b[0m\u001b[0;34m.\u001b[0m\u001b[0mexecute\u001b[0m\u001b[0;34m(\u001b[0m\u001b[0mnum_retries\u001b[0m\u001b[0;34m=\u001b[0m\u001b[0mnum_retries\u001b[0m\u001b[0;34m)\u001b[0m\u001b[0;34m\u001b[0m\u001b[0;34m\u001b[0m\u001b[0m\n\u001b[1;32m    339\u001b[0m   \u001b[0;32mexcept\u001b[0m \u001b[0mgoogleapiclient\u001b[0m\u001b[0;34m.\u001b[0m\u001b[0merrors\u001b[0m\u001b[0;34m.\u001b[0m\u001b[0mHttpError\u001b[0m \u001b[0;32mas\u001b[0m \u001b[0me\u001b[0m\u001b[0;34m:\u001b[0m\u001b[0;34m\u001b[0m\u001b[0;34m\u001b[0m\u001b[0m\n\u001b[0;32m--> 340\u001b[0;31m     \u001b[0;32mraise\u001b[0m \u001b[0m_translate_cloud_exception\u001b[0m\u001b[0;34m(\u001b[0m\u001b[0me\u001b[0m\u001b[0;34m)\u001b[0m\u001b[0;34m\u001b[0m\u001b[0;34m\u001b[0m\u001b[0m\n\u001b[0m\u001b[1;32m    341\u001b[0m \u001b[0;34m\u001b[0m\u001b[0m\n\u001b[1;32m    342\u001b[0m \u001b[0;34m\u001b[0m\u001b[0m\n",
      "\u001b[0;31mEEException\u001b[0m: Collection.first: Error in map(ID=LC08_040035_20200407):\nImage.select: Pattern 'NDVI' did not match any bands."
     ]
    }
   ],
   "source": [
    "collection = L8.select(\"NDVI\").filter(ee.Filter.date('2020-04-01', '2020-12-01')).sort('system:time_start')\n",
    "\n",
    "vis_params = {\n",
    "  'min': 0.0,\n",
    "  'max': 1.0,\n",
    "  'palette': [\n",
    "    'FFFFFF', 'CE7E45', 'DF923D', 'F1B555', 'FCD163', '99B718', '74A901',\n",
    "    '66A000', '529400', '3E8601', '207401', '056201', '004C00', '023B01',\n",
    "    '012E01', '011D01', '011301'\n",
    "  ],\n",
    "}\n",
    "\n",
    "first_image = collection.first()\n",
    "\n",
    "Map.addLayer(first_image, vis_params, \"First image\")\n",
    "# Map.setCenter(-7.03125, 31.0529339857, 2)\n",
    "Map"
   ]
  },
  {
   "cell_type": "code",
   "execution_count": 14,
   "metadata": {},
   "outputs": [],
   "source": [
    "# image = collection.toBands()\n",
    "# Map.addLayer(image, {}, \"Time series\", False)"
   ]
  },
  {
   "cell_type": "code",
   "execution_count": 36,
   "metadata": {},
   "outputs": [],
   "source": [
    "labels = collection.aggregate_array(\"system:index\").getInfo()\n",
    "Map.add_time_slider(collection, vis_params, labels=labels, time_interval=1)"
   ]
  },
  {
   "cell_type": "markdown",
   "metadata": {},
   "source": [
    "## Time Series By Regions"
   ]
  },
  {
   "cell_type": "markdown",
   "metadata": {},
   "source": [
    "Let's get the L8 time series for our buffer. Checklist:\n",
    "\n",
    "- Image Collection: The Landsat 8 collection.\n",
    "- Bands to use for the time series: GNDVI and EVI.\n",
    "- Feature Collection: Our center-pivot crops.\n",
    "- Statistics to compute: Mean and Median.\n",
    "- Scale: 30 m."
   ]
  },
  {
   "cell_type": "code",
   "execution_count": 16,
   "metadata": {},
   "outputs": [],
   "source": [
    "ts = L8.getTimeSeriesByRegions(collection = pivots,\n",
    "                               bands = ['kNDVI','NDVI','SAVI'],\n",
    "                               reducer = [ee.Reducer.mean()],\n",
    "                               scale = 30)"
   ]
  },
  {
   "cell_type": "markdown",
   "metadata": {},
   "source": [
    "## Conversion to Pandas"
   ]
  },
  {
   "cell_type": "markdown",
   "metadata": {},
   "source": [
    "The time series is retrieved as a feature collection. To convert it to a pandas dataframe we'll use `geemap` (This may take a little bit):"
   ]
  },
  {
   "cell_type": "code",
   "execution_count": 17,
   "metadata": {},
   "outputs": [],
   "source": [
    "tsPandas = geemap.ee_to_pandas(ts)"
   ]
  },
  {
   "cell_type": "markdown",
   "metadata": {},
   "source": [
    "Let's check our pandas data frame:"
   ]
  },
  {
   "cell_type": "code",
   "execution_count": 18,
   "metadata": {},
   "outputs": [
    {
     "data": {
      "text/html": [
       "<div>\n",
       "<style scoped>\n",
       "    .dataframe tbody tr th:only-of-type {\n",
       "        vertical-align: middle;\n",
       "    }\n",
       "\n",
       "    .dataframe tbody tr th {\n",
       "        vertical-align: top;\n",
       "    }\n",
       "\n",
       "    .dataframe thead th {\n",
       "        text-align: right;\n",
       "    }\n",
       "</style>\n",
       "<table border=\"1\" class=\"dataframe\">\n",
       "  <thead>\n",
       "    <tr style=\"text-align: right;\">\n",
       "      <th></th>\n",
       "      <th>NDVI</th>\n",
       "      <th>SAVI</th>\n",
       "      <th>date</th>\n",
       "      <th>kNDVI</th>\n",
       "      <th>pine</th>\n",
       "      <th>reducer</th>\n",
       "    </tr>\n",
       "  </thead>\n",
       "  <tbody>\n",
       "    <tr>\n",
       "      <th>0</th>\n",
       "      <td>-9999.000000</td>\n",
       "      <td>-9999.000000</td>\n",
       "      <td>2018-01-12T18:21:49</td>\n",
       "      <td>-9999.000000</td>\n",
       "      <td>0</td>\n",
       "      <td>mean</td>\n",
       "    </tr>\n",
       "    <tr>\n",
       "      <th>1</th>\n",
       "      <td>-9999.000000</td>\n",
       "      <td>-9999.000000</td>\n",
       "      <td>2018-01-12T18:21:49</td>\n",
       "      <td>-9999.000000</td>\n",
       "      <td>1</td>\n",
       "      <td>mean</td>\n",
       "    </tr>\n",
       "    <tr>\n",
       "      <th>2</th>\n",
       "      <td>0.002846</td>\n",
       "      <td>0.000851</td>\n",
       "      <td>2018-01-12T18:21:49</td>\n",
       "      <td>0.000008</td>\n",
       "      <td>2</td>\n",
       "      <td>mean</td>\n",
       "    </tr>\n",
       "    <tr>\n",
       "      <th>3</th>\n",
       "      <td>-9999.000000</td>\n",
       "      <td>-9999.000000</td>\n",
       "      <td>2018-01-12T18:21:49</td>\n",
       "      <td>-9999.000000</td>\n",
       "      <td>3</td>\n",
       "      <td>mean</td>\n",
       "    </tr>\n",
       "    <tr>\n",
       "      <th>4</th>\n",
       "      <td>-9999.000000</td>\n",
       "      <td>-9999.000000</td>\n",
       "      <td>2018-01-28T18:21:40</td>\n",
       "      <td>-9999.000000</td>\n",
       "      <td>0</td>\n",
       "      <td>mean</td>\n",
       "    </tr>\n",
       "    <tr>\n",
       "      <th>...</th>\n",
       "      <td>...</td>\n",
       "      <td>...</td>\n",
       "      <td>...</td>\n",
       "      <td>...</td>\n",
       "      <td>...</td>\n",
       "      <td>...</td>\n",
       "    </tr>\n",
       "    <tr>\n",
       "      <th>515</th>\n",
       "      <td>0.183735</td>\n",
       "      <td>0.078960</td>\n",
       "      <td>2020-10-23T18:28:16</td>\n",
       "      <td>0.033812</td>\n",
       "      <td>3</td>\n",
       "      <td>mean</td>\n",
       "    </tr>\n",
       "    <tr>\n",
       "      <th>516</th>\n",
       "      <td>0.348131</td>\n",
       "      <td>0.054901</td>\n",
       "      <td>2020-11-24T18:28:16</td>\n",
       "      <td>0.120605</td>\n",
       "      <td>0</td>\n",
       "      <td>mean</td>\n",
       "    </tr>\n",
       "    <tr>\n",
       "      <th>517</th>\n",
       "      <td>0.176436</td>\n",
       "      <td>0.072240</td>\n",
       "      <td>2020-11-24T18:28:16</td>\n",
       "      <td>0.031179</td>\n",
       "      <td>1</td>\n",
       "      <td>mean</td>\n",
       "    </tr>\n",
       "    <tr>\n",
       "      <th>518</th>\n",
       "      <td>0.279577</td>\n",
       "      <td>0.055575</td>\n",
       "      <td>2020-11-24T18:28:16</td>\n",
       "      <td>0.082124</td>\n",
       "      <td>2</td>\n",
       "      <td>mean</td>\n",
       "    </tr>\n",
       "    <tr>\n",
       "      <th>519</th>\n",
       "      <td>0.190022</td>\n",
       "      <td>0.079712</td>\n",
       "      <td>2020-11-24T18:28:16</td>\n",
       "      <td>0.036177</td>\n",
       "      <td>3</td>\n",
       "      <td>mean</td>\n",
       "    </tr>\n",
       "  </tbody>\n",
       "</table>\n",
       "<p>520 rows × 6 columns</p>\n",
       "</div>"
      ],
      "text/plain": [
       "            NDVI         SAVI                 date        kNDVI  pine reducer\n",
       "0   -9999.000000 -9999.000000  2018-01-12T18:21:49 -9999.000000     0    mean\n",
       "1   -9999.000000 -9999.000000  2018-01-12T18:21:49 -9999.000000     1    mean\n",
       "2       0.002846     0.000851  2018-01-12T18:21:49     0.000008     2    mean\n",
       "3   -9999.000000 -9999.000000  2018-01-12T18:21:49 -9999.000000     3    mean\n",
       "4   -9999.000000 -9999.000000  2018-01-28T18:21:40 -9999.000000     0    mean\n",
       "..           ...          ...                  ...          ...   ...     ...\n",
       "515     0.183735     0.078960  2020-10-23T18:28:16     0.033812     3    mean\n",
       "516     0.348131     0.054901  2020-11-24T18:28:16     0.120605     0    mean\n",
       "517     0.176436     0.072240  2020-11-24T18:28:16     0.031179     1    mean\n",
       "518     0.279577     0.055575  2020-11-24T18:28:16     0.082124     2    mean\n",
       "519     0.190022     0.079712  2020-11-24T18:28:16     0.036177     3    mean\n",
       "\n",
       "[520 rows x 6 columns]"
      ]
     },
     "execution_count": 18,
     "metadata": {},
     "output_type": "execute_result"
    }
   ],
   "source": [
    "tsPandas"
   ]
  },
  {
   "cell_type": "markdown",
   "metadata": {},
   "source": [
    "What can we see here?\n",
    "\n",
    "- The values for each band (GNDVI and EVI) are in separated columns.\n",
    "- There are some -9999 values in the GNDVI and EVI columns. These values represent the NA values (e.g. Clouds or shadows). The -9999 can be changed by modifying the `naValue` parameter in the `getTimeSeriesByRegion` method (e.g. `naValue = -10000`).\n",
    "- Multiple reducers can be used. In the output dataframe they are specified by a single column named `reducer`: mean, median.\n",
    "- The date is a string that needs to be converted to a date data type.\n",
    "- The attributes of the original feature collection are attached to the data frame: `pivot`.\n",
    "\n",
    "Given this, let's curate our data frame!"
   ]
  },
  {
   "cell_type": "markdown",
   "metadata": {},
   "source": [
    "First, let's get rid of the -9999 value:"
   ]
  },
  {
   "cell_type": "code",
   "execution_count": 19,
   "metadata": {},
   "outputs": [],
   "source": [
    "tsPandas[tsPandas == -9999] = np.nan"
   ]
  },
  {
   "cell_type": "markdown",
   "metadata": {},
   "source": [
    "And now, let's convert the date to a date data type:"
   ]
  },
  {
   "cell_type": "code",
   "execution_count": 20,
   "metadata": {},
   "outputs": [],
   "source": [
    "tsPandas['date'] = pd.to_datetime(tsPandas['date'],infer_datetime_format = True)"
   ]
  },
  {
   "cell_type": "markdown",
   "metadata": {},
   "source": [
    "We can also gather the GNDVI and EVI columns into a single column to make the data frame more 'tidy-er' (This is optional):"
   ]
  },
  {
   "cell_type": "code",
   "execution_count": 21,
   "metadata": {},
   "outputs": [],
   "source": [
    "tsPandas = pd.melt(tsPandas,\n",
    "                   id_vars = ['reducer','date','pine'],\n",
    "                   value_vars = ['NDVI','SAVI'],\n",
    "                   var_name = 'Index',\n",
    "                   value_name = 'Value')"
   ]
  },
  {
   "cell_type": "markdown",
   "metadata": {},
   "source": [
    "Let's check our curated data frame:"
   ]
  },
  {
   "cell_type": "code",
   "execution_count": 22,
   "metadata": {},
   "outputs": [
    {
     "data": {
      "text/html": [
       "<div>\n",
       "<style scoped>\n",
       "    .dataframe tbody tr th:only-of-type {\n",
       "        vertical-align: middle;\n",
       "    }\n",
       "\n",
       "    .dataframe tbody tr th {\n",
       "        vertical-align: top;\n",
       "    }\n",
       "\n",
       "    .dataframe thead th {\n",
       "        text-align: right;\n",
       "    }\n",
       "</style>\n",
       "<table border=\"1\" class=\"dataframe\">\n",
       "  <thead>\n",
       "    <tr style=\"text-align: right;\">\n",
       "      <th></th>\n",
       "      <th>reducer</th>\n",
       "      <th>date</th>\n",
       "      <th>pine</th>\n",
       "      <th>Index</th>\n",
       "      <th>Value</th>\n",
       "    </tr>\n",
       "  </thead>\n",
       "  <tbody>\n",
       "    <tr>\n",
       "      <th>0</th>\n",
       "      <td>mean</td>\n",
       "      <td>2018-01-12 18:21:49</td>\n",
       "      <td>0.0</td>\n",
       "      <td>NDVI</td>\n",
       "      <td>NaN</td>\n",
       "    </tr>\n",
       "    <tr>\n",
       "      <th>1</th>\n",
       "      <td>mean</td>\n",
       "      <td>2018-01-12 18:21:49</td>\n",
       "      <td>1.0</td>\n",
       "      <td>NDVI</td>\n",
       "      <td>NaN</td>\n",
       "    </tr>\n",
       "    <tr>\n",
       "      <th>2</th>\n",
       "      <td>mean</td>\n",
       "      <td>2018-01-12 18:21:49</td>\n",
       "      <td>2.0</td>\n",
       "      <td>NDVI</td>\n",
       "      <td>0.002846</td>\n",
       "    </tr>\n",
       "    <tr>\n",
       "      <th>3</th>\n",
       "      <td>mean</td>\n",
       "      <td>2018-01-12 18:21:49</td>\n",
       "      <td>3.0</td>\n",
       "      <td>NDVI</td>\n",
       "      <td>NaN</td>\n",
       "    </tr>\n",
       "    <tr>\n",
       "      <th>4</th>\n",
       "      <td>mean</td>\n",
       "      <td>2018-01-28 18:21:40</td>\n",
       "      <td>0.0</td>\n",
       "      <td>NDVI</td>\n",
       "      <td>NaN</td>\n",
       "    </tr>\n",
       "    <tr>\n",
       "      <th>...</th>\n",
       "      <td>...</td>\n",
       "      <td>...</td>\n",
       "      <td>...</td>\n",
       "      <td>...</td>\n",
       "      <td>...</td>\n",
       "    </tr>\n",
       "    <tr>\n",
       "      <th>1035</th>\n",
       "      <td>mean</td>\n",
       "      <td>2020-10-23 18:28:16</td>\n",
       "      <td>3.0</td>\n",
       "      <td>SAVI</td>\n",
       "      <td>0.078960</td>\n",
       "    </tr>\n",
       "    <tr>\n",
       "      <th>1036</th>\n",
       "      <td>mean</td>\n",
       "      <td>2020-11-24 18:28:16</td>\n",
       "      <td>0.0</td>\n",
       "      <td>SAVI</td>\n",
       "      <td>0.054901</td>\n",
       "    </tr>\n",
       "    <tr>\n",
       "      <th>1037</th>\n",
       "      <td>mean</td>\n",
       "      <td>2020-11-24 18:28:16</td>\n",
       "      <td>1.0</td>\n",
       "      <td>SAVI</td>\n",
       "      <td>0.072240</td>\n",
       "    </tr>\n",
       "    <tr>\n",
       "      <th>1038</th>\n",
       "      <td>mean</td>\n",
       "      <td>2020-11-24 18:28:16</td>\n",
       "      <td>2.0</td>\n",
       "      <td>SAVI</td>\n",
       "      <td>0.055575</td>\n",
       "    </tr>\n",
       "    <tr>\n",
       "      <th>1039</th>\n",
       "      <td>mean</td>\n",
       "      <td>2020-11-24 18:28:16</td>\n",
       "      <td>3.0</td>\n",
       "      <td>SAVI</td>\n",
       "      <td>0.079712</td>\n",
       "    </tr>\n",
       "  </tbody>\n",
       "</table>\n",
       "<p>1040 rows × 5 columns</p>\n",
       "</div>"
      ],
      "text/plain": [
       "     reducer                date  pine Index     Value\n",
       "0       mean 2018-01-12 18:21:49   0.0  NDVI       NaN\n",
       "1       mean 2018-01-12 18:21:49   1.0  NDVI       NaN\n",
       "2       mean 2018-01-12 18:21:49   2.0  NDVI  0.002846\n",
       "3       mean 2018-01-12 18:21:49   3.0  NDVI       NaN\n",
       "4       mean 2018-01-28 18:21:40   0.0  NDVI       NaN\n",
       "...      ...                 ...   ...   ...       ...\n",
       "1035    mean 2020-10-23 18:28:16   3.0  SAVI  0.078960\n",
       "1036    mean 2020-11-24 18:28:16   0.0  SAVI  0.054901\n",
       "1037    mean 2020-11-24 18:28:16   1.0  SAVI  0.072240\n",
       "1038    mean 2020-11-24 18:28:16   2.0  SAVI  0.055575\n",
       "1039    mean 2020-11-24 18:28:16   3.0  SAVI  0.079712\n",
       "\n",
       "[1040 rows x 5 columns]"
      ]
     },
     "execution_count": 22,
     "metadata": {},
     "output_type": "execute_result"
    }
   ],
   "source": [
    "# tsPandas[tsPandas['Value'] > 1] = np.nan\n",
    "tsPandas[tsPandas['Value'] < 0] = np.nan\n",
    "\n",
    "tsPandas"
   ]
  },
  {
   "cell_type": "markdown",
   "metadata": {},
   "source": [
    "## Visualization"
   ]
  },
  {
   "cell_type": "markdown",
   "metadata": {},
   "source": [
    "Now, let's visualize our time series using `seaborn`:"
   ]
  },
  {
   "cell_type": "code",
   "execution_count": 23,
   "metadata": {},
   "outputs": [
    {
     "data": {
      "text/plain": [
       "<seaborn.axisgrid.FacetGrid at 0x7fe1d7f97110>"
      ]
     },
     "execution_count": 23,
     "metadata": {},
     "output_type": "execute_result"
    },
    {
     "data": {
      "image/png": "[encoded data removed]",
      "text/plain": [
       "<Figure size 938.5x864 with 4 Axes>"
      ]
     },
     "metadata": {
      "needs_background": "light"
     },
     "output_type": "display_data"
    }
   ],
   "source": [
    "g = sns.FacetGrid(tsPandas,row = 'pine',height = 3,aspect = 4)\n",
    "g.map_dataframe(sns.lineplot,x = 'date',y = 'Value',hue = 'Index',style = 'reducer')\n",
    "g.add_legend()"
   ]
  },
  {
   "cell_type": "markdown",
   "metadata": {},
   "source": [
    "Let's do the same, but now for radiometric temperature (two bands, B10 and B11)."
   ]
  },
  {
   "cell_type": "code",
   "execution_count": 24,
   "metadata": {},
   "outputs": [],
   "source": [
    "ts = L8.getTimeSeriesByRegions(collection = pivots,\n",
    "                               bands = ['B10','B11'],\n",
    "                               reducer = [ee.Reducer.mean(),ee.Reducer.median()],\n",
    "                               scale = 30)"
   ]
  },
  {
   "cell_type": "code",
   "execution_count": 25,
   "metadata": {},
   "outputs": [],
   "source": [
    "tsPandas2 = geemap.ee_to_pandas(ts)"
   ]
  },
  {
   "cell_type": "code",
   "execution_count": 26,
   "metadata": {},
   "outputs": [
    {
     "data": {
      "text/html": [
       "<div>\n",
       "<style scoped>\n",
       "    .dataframe tbody tr th:only-of-type {\n",
       "        vertical-align: middle;\n",
       "    }\n",
       "\n",
       "    .dataframe tbody tr th {\n",
       "        vertical-align: top;\n",
       "    }\n",
       "\n",
       "    .dataframe thead th {\n",
       "        text-align: right;\n",
       "    }\n",
       "</style>\n",
       "<table border=\"1\" class=\"dataframe\">\n",
       "  <thead>\n",
       "    <tr style=\"text-align: right;\">\n",
       "      <th></th>\n",
       "      <th>B10</th>\n",
       "      <th>B11</th>\n",
       "      <th>date</th>\n",
       "      <th>pine</th>\n",
       "      <th>reducer</th>\n",
       "    </tr>\n",
       "  </thead>\n",
       "  <tbody>\n",
       "    <tr>\n",
       "      <th>0</th>\n",
       "      <td>-9999.0</td>\n",
       "      <td>-9999.0</td>\n",
       "      <td>2018-01-12T18:21:49</td>\n",
       "      <td>0</td>\n",
       "      <td>mean</td>\n",
       "    </tr>\n",
       "    <tr>\n",
       "      <th>1</th>\n",
       "      <td>-9999.0</td>\n",
       "      <td>-9999.0</td>\n",
       "      <td>2018-01-12T18:21:49</td>\n",
       "      <td>1</td>\n",
       "      <td>mean</td>\n",
       "    </tr>\n",
       "    <tr>\n",
       "      <th>2</th>\n",
       "      <td>268.1</td>\n",
       "      <td>268.3</td>\n",
       "      <td>2018-01-12T18:21:49</td>\n",
       "      <td>2</td>\n",
       "      <td>mean</td>\n",
       "    </tr>\n",
       "    <tr>\n",
       "      <th>3</th>\n",
       "      <td>-9999.0</td>\n",
       "      <td>-9999.0</td>\n",
       "      <td>2018-01-12T18:21:49</td>\n",
       "      <td>3</td>\n",
       "      <td>mean</td>\n",
       "    </tr>\n",
       "    <tr>\n",
       "      <th>4</th>\n",
       "      <td>-9999.0</td>\n",
       "      <td>-9999.0</td>\n",
       "      <td>2018-01-28T18:21:40</td>\n",
       "      <td>0</td>\n",
       "      <td>mean</td>\n",
       "    </tr>\n",
       "    <tr>\n",
       "      <th>...</th>\n",
       "      <td>...</td>\n",
       "      <td>...</td>\n",
       "      <td>...</td>\n",
       "      <td>...</td>\n",
       "      <td>...</td>\n",
       "    </tr>\n",
       "    <tr>\n",
       "      <th>1035</th>\n",
       "      <td>295.0</td>\n",
       "      <td>295.2</td>\n",
       "      <td>2020-10-23T18:28:16</td>\n",
       "      <td>3</td>\n",
       "      <td>median</td>\n",
       "    </tr>\n",
       "    <tr>\n",
       "      <th>1036</th>\n",
       "      <td>275.1</td>\n",
       "      <td>276.2</td>\n",
       "      <td>2020-11-24T18:28:16</td>\n",
       "      <td>0</td>\n",
       "      <td>median</td>\n",
       "    </tr>\n",
       "    <tr>\n",
       "      <th>1037</th>\n",
       "      <td>276.3</td>\n",
       "      <td>276.3</td>\n",
       "      <td>2020-11-24T18:28:16</td>\n",
       "      <td>1</td>\n",
       "      <td>median</td>\n",
       "    </tr>\n",
       "    <tr>\n",
       "      <th>1038</th>\n",
       "      <td>274.1</td>\n",
       "      <td>275.1</td>\n",
       "      <td>2020-11-24T18:28:16</td>\n",
       "      <td>2</td>\n",
       "      <td>median</td>\n",
       "    </tr>\n",
       "    <tr>\n",
       "      <th>1039</th>\n",
       "      <td>281.1</td>\n",
       "      <td>281.6</td>\n",
       "      <td>2020-11-24T18:28:16</td>\n",
       "      <td>3</td>\n",
       "      <td>median</td>\n",
       "    </tr>\n",
       "  </tbody>\n",
       "</table>\n",
       "<p>1040 rows × 5 columns</p>\n",
       "</div>"
      ],
      "text/plain": [
       "         B10     B11                 date  pine reducer\n",
       "0    -9999.0 -9999.0  2018-01-12T18:21:49     0    mean\n",
       "1    -9999.0 -9999.0  2018-01-12T18:21:49     1    mean\n",
       "2      268.1   268.3  2018-01-12T18:21:49     2    mean\n",
       "3    -9999.0 -9999.0  2018-01-12T18:21:49     3    mean\n",
       "4    -9999.0 -9999.0  2018-01-28T18:21:40     0    mean\n",
       "...      ...     ...                  ...   ...     ...\n",
       "1035   295.0   295.2  2020-10-23T18:28:16     3  median\n",
       "1036   275.1   276.2  2020-11-24T18:28:16     0  median\n",
       "1037   276.3   276.3  2020-11-24T18:28:16     1  median\n",
       "1038   274.1   275.1  2020-11-24T18:28:16     2  median\n",
       "1039   281.1   281.6  2020-11-24T18:28:16     3  median\n",
       "\n",
       "[1040 rows x 5 columns]"
      ]
     },
     "execution_count": 26,
     "metadata": {},
     "output_type": "execute_result"
    }
   ],
   "source": [
    "tsPandas2"
   ]
  },
  {
   "cell_type": "code",
   "execution_count": 27,
   "metadata": {},
   "outputs": [],
   "source": [
    "tsPandas2[tsPandas2 == -9999] = np.nan\n",
    "\n",
    "tsPandas2['date'] = pd.to_datetime(tsPandas2['date'],infer_datetime_format = True)"
   ]
  },
  {
   "cell_type": "code",
   "execution_count": 28,
   "metadata": {},
   "outputs": [],
   "source": [
    "tsPandas2 = pd.melt(tsPandas2,\n",
    "                   id_vars = ['reducer','date','pine'],\n",
    "                   value_vars = ['B10','B11'],\n",
    "                   var_name = 'Index',\n",
    "                   value_name = 'Value')"
   ]
  },
  {
   "cell_type": "code",
   "execution_count": 29,
   "metadata": {},
   "outputs": [
    {
     "data": {
      "text/html": [
       "<div>\n",
       "<style scoped>\n",
       "    .dataframe tbody tr th:only-of-type {\n",
       "        vertical-align: middle;\n",
       "    }\n",
       "\n",
       "    .dataframe tbody tr th {\n",
       "        vertical-align: top;\n",
       "    }\n",
       "\n",
       "    .dataframe thead th {\n",
       "        text-align: right;\n",
       "    }\n",
       "</style>\n",
       "<table border=\"1\" class=\"dataframe\">\n",
       "  <thead>\n",
       "    <tr style=\"text-align: right;\">\n",
       "      <th></th>\n",
       "      <th>reducer</th>\n",
       "      <th>date</th>\n",
       "      <th>pine</th>\n",
       "      <th>Index</th>\n",
       "      <th>Value</th>\n",
       "    </tr>\n",
       "  </thead>\n",
       "  <tbody>\n",
       "    <tr>\n",
       "      <th>0</th>\n",
       "      <td>mean</td>\n",
       "      <td>2018-01-12 18:21:49</td>\n",
       "      <td>0</td>\n",
       "      <td>B10</td>\n",
       "      <td>NaN</td>\n",
       "    </tr>\n",
       "    <tr>\n",
       "      <th>1</th>\n",
       "      <td>mean</td>\n",
       "      <td>2018-01-12 18:21:49</td>\n",
       "      <td>1</td>\n",
       "      <td>B10</td>\n",
       "      <td>NaN</td>\n",
       "    </tr>\n",
       "    <tr>\n",
       "      <th>2</th>\n",
       "      <td>mean</td>\n",
       "      <td>2018-01-12 18:21:49</td>\n",
       "      <td>2</td>\n",
       "      <td>B10</td>\n",
       "      <td>268.1</td>\n",
       "    </tr>\n",
       "    <tr>\n",
       "      <th>3</th>\n",
       "      <td>mean</td>\n",
       "      <td>2018-01-12 18:21:49</td>\n",
       "      <td>3</td>\n",
       "      <td>B10</td>\n",
       "      <td>NaN</td>\n",
       "    </tr>\n",
       "    <tr>\n",
       "      <th>4</th>\n",
       "      <td>mean</td>\n",
       "      <td>2018-01-28 18:21:40</td>\n",
       "      <td>0</td>\n",
       "      <td>B10</td>\n",
       "      <td>NaN</td>\n",
       "    </tr>\n",
       "    <tr>\n",
       "      <th>...</th>\n",
       "      <td>...</td>\n",
       "      <td>...</td>\n",
       "      <td>...</td>\n",
       "      <td>...</td>\n",
       "      <td>...</td>\n",
       "    </tr>\n",
       "    <tr>\n",
       "      <th>2075</th>\n",
       "      <td>median</td>\n",
       "      <td>2020-10-23 18:28:16</td>\n",
       "      <td>3</td>\n",
       "      <td>B11</td>\n",
       "      <td>295.2</td>\n",
       "    </tr>\n",
       "    <tr>\n",
       "      <th>2076</th>\n",
       "      <td>median</td>\n",
       "      <td>2020-11-24 18:28:16</td>\n",
       "      <td>0</td>\n",
       "      <td>B11</td>\n",
       "      <td>276.2</td>\n",
       "    </tr>\n",
       "    <tr>\n",
       "      <th>2077</th>\n",
       "      <td>median</td>\n",
       "      <td>2020-11-24 18:28:16</td>\n",
       "      <td>1</td>\n",
       "      <td>B11</td>\n",
       "      <td>276.3</td>\n",
       "    </tr>\n",
       "    <tr>\n",
       "      <th>2078</th>\n",
       "      <td>median</td>\n",
       "      <td>2020-11-24 18:28:16</td>\n",
       "      <td>2</td>\n",
       "      <td>B11</td>\n",
       "      <td>275.1</td>\n",
       "    </tr>\n",
       "    <tr>\n",
       "      <th>2079</th>\n",
       "      <td>median</td>\n",
       "      <td>2020-11-24 18:28:16</td>\n",
       "      <td>3</td>\n",
       "      <td>B11</td>\n",
       "      <td>281.6</td>\n",
       "    </tr>\n",
       "  </tbody>\n",
       "</table>\n",
       "<p>2080 rows × 5 columns</p>\n",
       "</div>"
      ],
      "text/plain": [
       "     reducer                date  pine Index  Value\n",
       "0       mean 2018-01-12 18:21:49     0   B10    NaN\n",
       "1       mean 2018-01-12 18:21:49     1   B10    NaN\n",
       "2       mean 2018-01-12 18:21:49     2   B10  268.1\n",
       "3       mean 2018-01-12 18:21:49     3   B10    NaN\n",
       "4       mean 2018-01-28 18:21:40     0   B10    NaN\n",
       "...      ...                 ...   ...   ...    ...\n",
       "2075  median 2020-10-23 18:28:16     3   B11  295.2\n",
       "2076  median 2020-11-24 18:28:16     0   B11  276.2\n",
       "2077  median 2020-11-24 18:28:16     1   B11  276.3\n",
       "2078  median 2020-11-24 18:28:16     2   B11  275.1\n",
       "2079  median 2020-11-24 18:28:16     3   B11  281.6\n",
       "\n",
       "[2080 rows x 5 columns]"
      ]
     },
     "execution_count": 29,
     "metadata": {},
     "output_type": "execute_result"
    }
   ],
   "source": [
    "tsPandas2"
   ]
  },
  {
   "cell_type": "markdown",
   "metadata": {},
   "source": [
    "Visualization"
   ]
  },
  {
   "cell_type": "code",
   "execution_count": 30,
   "metadata": {},
   "outputs": [
    {
     "data": {
      "text/plain": [
       "<seaborn.axisgrid.FacetGrid at 0x7fe1ced8a210>"
      ]
     },
     "execution_count": 30,
     "metadata": {},
     "output_type": "execute_result"
    },
    {
     "data": {
      "image/png": "[encoded data removed]",
      "text/plain": [
       "<Figure size 938.5x864 with 4 Axes>"
      ]
     },
     "metadata": {
      "needs_background": "light"
     },
     "output_type": "display_data"
    }
   ],
   "source": [
    "g = sns.FacetGrid(tsPandas2,row = 'pine',height = 3,aspect = 4)\n",
    "g.map_dataframe(sns.lineplot,x = 'date',y = 'Value',hue = 'Index',style = 'reducer')\n",
    "g.add_legend()"
   ]
  },
  {
   "cell_type": "markdown",
   "metadata": {},
   "source": [
    "Is there any relationship between NDVI and temperature?"
   ]
  },
  {
   "cell_type": "code",
   "execution_count": 31,
   "metadata": {},
   "outputs": [
    {
     "data": {
      "text/html": [
       "<div>\n",
       "<style scoped>\n",
       "    .dataframe tbody tr th:only-of-type {\n",
       "        vertical-align: middle;\n",
       "    }\n",
       "\n",
       "    .dataframe tbody tr th {\n",
       "        vertical-align: top;\n",
       "    }\n",
       "\n",
       "    .dataframe thead th {\n",
       "        text-align: right;\n",
       "    }\n",
       "</style>\n",
       "<table border=\"1\" class=\"dataframe\">\n",
       "  <thead>\n",
       "    <tr style=\"text-align: right;\">\n",
       "      <th></th>\n",
       "      <th>reducer</th>\n",
       "      <th>date</th>\n",
       "      <th>pine</th>\n",
       "      <th>Index_x</th>\n",
       "      <th>Value_x</th>\n",
       "      <th>Index_y</th>\n",
       "      <th>Value_y</th>\n",
       "    </tr>\n",
       "  </thead>\n",
       "  <tbody>\n",
       "    <tr>\n",
       "      <th>0</th>\n",
       "      <td>mean</td>\n",
       "      <td>2018-01-12 18:21:49</td>\n",
       "      <td>0.0</td>\n",
       "      <td>NDVI</td>\n",
       "      <td>NaN</td>\n",
       "      <td>B10</td>\n",
       "      <td>NaN</td>\n",
       "    </tr>\n",
       "    <tr>\n",
       "      <th>1</th>\n",
       "      <td>mean</td>\n",
       "      <td>2018-01-12 18:21:49</td>\n",
       "      <td>0.0</td>\n",
       "      <td>NDVI</td>\n",
       "      <td>NaN</td>\n",
       "      <td>B11</td>\n",
       "      <td>NaN</td>\n",
       "    </tr>\n",
       "    <tr>\n",
       "      <th>2</th>\n",
       "      <td>mean</td>\n",
       "      <td>2018-01-12 18:21:49</td>\n",
       "      <td>0.0</td>\n",
       "      <td>SAVI</td>\n",
       "      <td>NaN</td>\n",
       "      <td>B10</td>\n",
       "      <td>NaN</td>\n",
       "    </tr>\n",
       "    <tr>\n",
       "      <th>3</th>\n",
       "      <td>mean</td>\n",
       "      <td>2018-01-12 18:21:49</td>\n",
       "      <td>0.0</td>\n",
       "      <td>SAVI</td>\n",
       "      <td>NaN</td>\n",
       "      <td>B11</td>\n",
       "      <td>NaN</td>\n",
       "    </tr>\n",
       "    <tr>\n",
       "      <th>4</th>\n",
       "      <td>mean</td>\n",
       "      <td>2018-01-12 18:21:49</td>\n",
       "      <td>1.0</td>\n",
       "      <td>NDVI</td>\n",
       "      <td>NaN</td>\n",
       "      <td>B10</td>\n",
       "      <td>NaN</td>\n",
       "    </tr>\n",
       "    <tr>\n",
       "      <th>...</th>\n",
       "      <td>...</td>\n",
       "      <td>...</td>\n",
       "      <td>...</td>\n",
       "      <td>...</td>\n",
       "      <td>...</td>\n",
       "      <td>...</td>\n",
       "      <td>...</td>\n",
       "    </tr>\n",
       "    <tr>\n",
       "      <th>2063</th>\n",
       "      <td>mean</td>\n",
       "      <td>2020-11-24 18:28:16</td>\n",
       "      <td>2.0</td>\n",
       "      <td>SAVI</td>\n",
       "      <td>0.055575</td>\n",
       "      <td>B11</td>\n",
       "      <td>275.297674</td>\n",
       "    </tr>\n",
       "    <tr>\n",
       "      <th>2064</th>\n",
       "      <td>mean</td>\n",
       "      <td>2020-11-24 18:28:16</td>\n",
       "      <td>3.0</td>\n",
       "      <td>NDVI</td>\n",
       "      <td>0.190022</td>\n",
       "      <td>B10</td>\n",
       "      <td>281.129213</td>\n",
       "    </tr>\n",
       "    <tr>\n",
       "      <th>2065</th>\n",
       "      <td>mean</td>\n",
       "      <td>2020-11-24 18:28:16</td>\n",
       "      <td>3.0</td>\n",
       "      <td>NDVI</td>\n",
       "      <td>0.190022</td>\n",
       "      <td>B11</td>\n",
       "      <td>281.844944</td>\n",
       "    </tr>\n",
       "    <tr>\n",
       "      <th>2066</th>\n",
       "      <td>mean</td>\n",
       "      <td>2020-11-24 18:28:16</td>\n",
       "      <td>3.0</td>\n",
       "      <td>SAVI</td>\n",
       "      <td>0.079712</td>\n",
       "      <td>B10</td>\n",
       "      <td>281.129213</td>\n",
       "    </tr>\n",
       "    <tr>\n",
       "      <th>2067</th>\n",
       "      <td>mean</td>\n",
       "      <td>2020-11-24 18:28:16</td>\n",
       "      <td>3.0</td>\n",
       "      <td>SAVI</td>\n",
       "      <td>0.079712</td>\n",
       "      <td>B11</td>\n",
       "      <td>281.844944</td>\n",
       "    </tr>\n",
       "  </tbody>\n",
       "</table>\n",
       "<p>2068 rows × 7 columns</p>\n",
       "</div>"
      ],
      "text/plain": [
       "     reducer                date  pine Index_x   Value_x Index_y     Value_y\n",
       "0       mean 2018-01-12 18:21:49   0.0    NDVI       NaN     B10         NaN\n",
       "1       mean 2018-01-12 18:21:49   0.0    NDVI       NaN     B11         NaN\n",
       "2       mean 2018-01-12 18:21:49   0.0    SAVI       NaN     B10         NaN\n",
       "3       mean 2018-01-12 18:21:49   0.0    SAVI       NaN     B11         NaN\n",
       "4       mean 2018-01-12 18:21:49   1.0    NDVI       NaN     B10         NaN\n",
       "...      ...                 ...   ...     ...       ...     ...         ...\n",
       "2063    mean 2020-11-24 18:28:16   2.0    SAVI  0.055575     B11  275.297674\n",
       "2064    mean 2020-11-24 18:28:16   3.0    NDVI  0.190022     B10  281.129213\n",
       "2065    mean 2020-11-24 18:28:16   3.0    NDVI  0.190022     B11  281.844944\n",
       "2066    mean 2020-11-24 18:28:16   3.0    SAVI  0.079712     B10  281.129213\n",
       "2067    mean 2020-11-24 18:28:16   3.0    SAVI  0.079712     B11  281.844944\n",
       "\n",
       "[2068 rows x 7 columns]"
      ]
     },
     "execution_count": 31,
     "metadata": {},
     "output_type": "execute_result"
    }
   ],
   "source": [
    "dfinal = tsPandas.merge(tsPandas2, on=['date','reducer','pine'])\n",
    "dfinal"
   ]
  },
  {
   "cell_type": "code",
   "execution_count": 32,
   "metadata": {},
   "outputs": [
    {
     "data": {
      "text/html": [
       "<div>\n",
       "<style scoped>\n",
       "    .dataframe tbody tr th:only-of-type {\n",
       "        vertical-align: middle;\n",
       "    }\n",
       "\n",
       "    .dataframe tbody tr th {\n",
       "        vertical-align: top;\n",
       "    }\n",
       "\n",
       "    .dataframe thead th {\n",
       "        text-align: right;\n",
       "    }\n",
       "</style>\n",
       "<table border=\"1\" class=\"dataframe\">\n",
       "  <thead>\n",
       "    <tr style=\"text-align: right;\">\n",
       "      <th></th>\n",
       "      <th>reducer</th>\n",
       "      <th>date</th>\n",
       "      <th>pine</th>\n",
       "      <th>Index_x</th>\n",
       "      <th>Value_x</th>\n",
       "      <th>Index_y</th>\n",
       "      <th>Value_y</th>\n",
       "    </tr>\n",
       "  </thead>\n",
       "  <tbody>\n",
       "    <tr>\n",
       "      <th>0</th>\n",
       "      <td>mean</td>\n",
       "      <td>2018-01-12 18:21:49</td>\n",
       "      <td>0.0</td>\n",
       "      <td>NDVI</td>\n",
       "      <td>NaN</td>\n",
       "      <td>B10</td>\n",
       "      <td>NaN</td>\n",
       "    </tr>\n",
       "    <tr>\n",
       "      <th>16</th>\n",
       "      <td>mean</td>\n",
       "      <td>2018-01-28 18:21:40</td>\n",
       "      <td>0.0</td>\n",
       "      <td>NDVI</td>\n",
       "      <td>NaN</td>\n",
       "      <td>B10</td>\n",
       "      <td>NaN</td>\n",
       "    </tr>\n",
       "    <tr>\n",
       "      <th>32</th>\n",
       "      <td>mean</td>\n",
       "      <td>2018-02-13 18:21:34</td>\n",
       "      <td>0.0</td>\n",
       "      <td>NDVI</td>\n",
       "      <td>NaN</td>\n",
       "      <td>B10</td>\n",
       "      <td>NaN</td>\n",
       "    </tr>\n",
       "    <tr>\n",
       "      <th>48</th>\n",
       "      <td>mean</td>\n",
       "      <td>2018-03-01 18:21:27</td>\n",
       "      <td>0.0</td>\n",
       "      <td>NDVI</td>\n",
       "      <td>NaN</td>\n",
       "      <td>B10</td>\n",
       "      <td>NaN</td>\n",
       "    </tr>\n",
       "    <tr>\n",
       "      <th>64</th>\n",
       "      <td>mean</td>\n",
       "      <td>2018-03-17 18:21:18</td>\n",
       "      <td>0.0</td>\n",
       "      <td>NDVI</td>\n",
       "      <td>NaN</td>\n",
       "      <td>B10</td>\n",
       "      <td>NaN</td>\n",
       "    </tr>\n",
       "    <tr>\n",
       "      <th>...</th>\n",
       "      <td>...</td>\n",
       "      <td>...</td>\n",
       "      <td>...</td>\n",
       "      <td>...</td>\n",
       "      <td>...</td>\n",
       "      <td>...</td>\n",
       "      <td>...</td>\n",
       "    </tr>\n",
       "    <tr>\n",
       "      <th>1988</th>\n",
       "      <td>mean</td>\n",
       "      <td>2020-09-05 18:28:07</td>\n",
       "      <td>0.0</td>\n",
       "      <td>NDVI</td>\n",
       "      <td>0.266129</td>\n",
       "      <td>B10</td>\n",
       "      <td>301.9</td>\n",
       "    </tr>\n",
       "    <tr>\n",
       "      <th>2004</th>\n",
       "      <td>mean</td>\n",
       "      <td>2020-09-21 18:28:12</td>\n",
       "      <td>0.0</td>\n",
       "      <td>NDVI</td>\n",
       "      <td>0.223644</td>\n",
       "      <td>B10</td>\n",
       "      <td>295.8</td>\n",
       "    </tr>\n",
       "    <tr>\n",
       "      <th>2020</th>\n",
       "      <td>mean</td>\n",
       "      <td>2020-10-07 18:28:15</td>\n",
       "      <td>0.0</td>\n",
       "      <td>NDVI</td>\n",
       "      <td>0.297987</td>\n",
       "      <td>B10</td>\n",
       "      <td>293.5</td>\n",
       "    </tr>\n",
       "    <tr>\n",
       "      <th>2036</th>\n",
       "      <td>mean</td>\n",
       "      <td>2020-10-23 18:28:16</td>\n",
       "      <td>0.0</td>\n",
       "      <td>NDVI</td>\n",
       "      <td>0.327759</td>\n",
       "      <td>B10</td>\n",
       "      <td>289.1</td>\n",
       "    </tr>\n",
       "    <tr>\n",
       "      <th>2052</th>\n",
       "      <td>mean</td>\n",
       "      <td>2020-11-24 18:28:16</td>\n",
       "      <td>0.0</td>\n",
       "      <td>NDVI</td>\n",
       "      <td>0.348131</td>\n",
       "      <td>B10</td>\n",
       "      <td>275.1</td>\n",
       "    </tr>\n",
       "  </tbody>\n",
       "</table>\n",
       "<p>130 rows × 7 columns</p>\n",
       "</div>"
      ],
      "text/plain": [
       "     reducer                date  pine Index_x   Value_x Index_y  Value_y\n",
       "0       mean 2018-01-12 18:21:49   0.0    NDVI       NaN     B10      NaN\n",
       "16      mean 2018-01-28 18:21:40   0.0    NDVI       NaN     B10      NaN\n",
       "32      mean 2018-02-13 18:21:34   0.0    NDVI       NaN     B10      NaN\n",
       "48      mean 2018-03-01 18:21:27   0.0    NDVI       NaN     B10      NaN\n",
       "64      mean 2018-03-17 18:21:18   0.0    NDVI       NaN     B10      NaN\n",
       "...      ...                 ...   ...     ...       ...     ...      ...\n",
       "1988    mean 2020-09-05 18:28:07   0.0    NDVI  0.266129     B10    301.9\n",
       "2004    mean 2020-09-21 18:28:12   0.0    NDVI  0.223644     B10    295.8\n",
       "2020    mean 2020-10-07 18:28:15   0.0    NDVI  0.297987     B10    293.5\n",
       "2036    mean 2020-10-23 18:28:16   0.0    NDVI  0.327759     B10    289.1\n",
       "2052    mean 2020-11-24 18:28:16   0.0    NDVI  0.348131     B10    275.1\n",
       "\n",
       "[130 rows x 7 columns]"
      ]
     },
     "execution_count": 32,
     "metadata": {},
     "output_type": "execute_result"
    }
   ],
   "source": [
    "select_color = dfinal.loc[(dfinal['Index_x'] == 'NDVI') & (dfinal['Index_y'] == 'B10') & (dfinal['pine'] == 0)& (dfinal['reducer'] == 'mean')]\n",
    "select_color"
   ]
  },
  {
   "cell_type": "code",
   "execution_count": 33,
   "metadata": {},
   "outputs": [
    {
     "data": {
      "text/plain": [
       "<AxesSubplot:title={'center':'Pine 0'}, xlabel='Value_y', ylabel='Value_x'>"
      ]
     },
     "execution_count": 33,
     "metadata": {},
     "output_type": "execute_result"
    },
    {
     "data": {
      "image/png": "[encoded data removed]",
      "text/plain": [
       "<Figure size 432x288 with 1 Axes>"
      ]
     },
     "metadata": {
      "needs_background": "light"
     },
     "output_type": "display_data"
    }
   ],
   "source": [
    "select_color.plot(kind='scatter',x=\"Value_y\",y=\"Value_x\",title=\"Pine 0\",xlim=(270,320),ylim=(0,1))"
   ]
  },
  {
   "cell_type": "code",
   "execution_count": 34,
   "metadata": {},
   "outputs": [
    {
     "data": {
      "text/plain": [
       "<AxesSubplot:title={'center':'Pine 1'}, xlabel='Value_y', ylabel='Value_x'>"
      ]
     },
     "execution_count": 34,
     "metadata": {},
     "output_type": "execute_result"
    },
    {
     "data": {
      "image/png": "[encoded data removed]",
      "text/plain": [
       "<Figure size 432x288 with 1 Axes>"
      ]
     },
     "metadata": {
      "needs_background": "light"
     },
     "output_type": "display_data"
    }
   ],
   "source": [
    "select_color = dfinal.loc[(dfinal['Index_x'] == 'NDVI') & (dfinal['Index_y'] == 'B10') & (dfinal['pine'] == 1)& (dfinal['reducer'] == 'mean')]\n",
    "select_color.plot(kind='scatter',x=\"Value_y\",y=\"Value_x\",title=\"Pine 1\",xlim=(270,320),ylim=(0,1))"
   ]
  },
  {
   "cell_type": "code",
   "execution_count": 35,
   "metadata": {},
   "outputs": [
    {
     "data": {
      "text/plain": [
       "<AxesSubplot:title={'center':'Pine 2'}, xlabel='Value_y', ylabel='Value_x'>"
      ]
     },
     "execution_count": 35,
     "metadata": {},
     "output_type": "execute_result"
    },
    {
     "data": {
      "image/png": "[encoded data removed]",
      "text/plain": [
       "<Figure size 432x288 with 1 Axes>"
      ]
     },
     "metadata": {
      "needs_background": "light"
     },
     "output_type": "display_data"
    }
   ],
   "source": [
    "select_color = dfinal.loc[(dfinal['Index_x'] == 'NDVI') & (dfinal['Index_y'] == 'B10') & (dfinal['pine'] == 2)& (dfinal['reducer'] == 'mean')]\n",
    "select_color.plot(kind='scatter',x=\"Value_y\",y=\"Value_x\",title=\"Pine 2\",xlim=(270,320),ylim=(0,1),xlabel='B10',ylabel='NDVI')"
   ]
  },
  {
   "cell_type": "markdown",
   "metadata": {},
   "source": [
    "## Assignment:\n",
    "    \n",
    "Create two notebooks, and in each notebook, change the center pivot locations, for the first one, select 3 center pivots around \"El Amal, Markaz Abo El Matamier, Beheira\" (Egypt) and the second notebook select 3 center pivots around  \"Seminole, Texas\". Please, discuss the time series variability in vegetation indices and temperatures between the two notebooks. What could be reasons for the found differences?\n",
    "\n",
    "Happy Coding!\n"
   ]
  },
  {
   "cell_type": "code",
   "execution_count": null,
   "metadata": {},
   "outputs": [],
   "source": []
  }
 ],
 "metadata": {
  "kernelspec": {
   "display_name": "Python 3 (ipykernel)",
   "language": "python",
   "name": "python3"
  },
  "language_info": {
   "codemirror_mode": {
    "name": "ipython",
    "version": 3
   },
   "file_extension": ".py",
   "mimetype": "text/x-python",
   "name": "python",
   "nbconvert_exporter": "python",
   "pygments_lexer": "ipython3",
   "version": "3.9.7"
  },
  "widgets": {
   "application/vnd.jupyter.widget-state+json": {
    "state": {
     "00f31448b4d747579c7ca68e792718bc": {
      "model_module": "@jupyter-widgets/controls",
      "model_module_version": "1.5.0",
      "model_name": "ToggleButtonModel",
      "state": {
       "icon": "globe",
       "layout": "IPY_MODEL_6987ed76bd3343cc804087e8d3b9c07c",
       "style": "IPY_MODEL_ea862a1c656947129811daea12074b68",
       "tooltip": "Search location/data"
      }
     },
     "0115e89a0b464133bca2fcb8f7663b25": {
      "model_module": "jupyter-leaflet",
      "model_module_version": "^0.15.0",
      "model_name": "LeafletMapStyleModel",
      "state": {
       "_model_module_version": "^0.15.0"
      }
     },
     "02bd6cb22b234b2a8b1d2771e078349b": {
      "model_module": "@jupyter-widgets/base",
      "model_module_version": "1.2.0",
      "model_name": "LayoutModel",
      "state": {
       "grid_gap": "1px 1px",
       "grid_template_columns": "32px 32px 32px ",
       "grid_template_rows": "32px 32px 32px 32px 32px 32px ",
       "padding": "5px",
       "width": "109px"
      }
     },
     "03462e0fce1c43249739a47bae928d89": {
      "model_module": "@jupyter-widgets/base",
      "model_module_version": "1.2.0",
      "model_name": "LayoutModel",
      "state": {
       "height": "auto",
       "padding": "0px 0px 0px 4px",
       "width": "auto"
      }
     },
     "03de5d1705854e2db131e5f0aa241ca4": {
      "model_module": "jupyter-leaflet",
      "model_module_version": "^0.15.0",
      "model_name": "LeafletTileLayerModel",
      "state": {
       "_model_module_version": "^0.15.0",
       "_view_module_version": "^0.15.0",
       "attribution": "Map data: (C) OpenStreetMap contributors | Map style: (C) waymarkedtrails.org (CC-BY-SA)",
       "max_native_zoom": 18,
       "min_native_zoom": 0,
       "name": "WaymarkedTrails.hiking",
       "options": [
        "attribution",
        "detect_retina",
        "max_native_zoom",
        "max_zoom",
        "min_native_zoom",
        "min_zoom",
        "no_wrap",
        "tile_size",
        "tms"
       ],
       "url": "https://tile.waymarkedtrails.org/hiking/{z}/{x}/{y}.png"
      }
     },
     "04e8de1afcd04f39816f3bf7246d09bf": {
      "model_module": "@jupyter-widgets/controls",
      "model_module_version": "1.5.0",
      "model_name": "ToggleButtonModel",
      "state": {
       "button_style": "primary",
       "icon": "hand-o-up",
       "layout": "IPY_MODEL_8210733ec3e94093885633d7089202b6",
       "style": "IPY_MODEL_aea4e6812ebe42a8b54613d07f2d8283",
       "tooltip": "Collect training samples"
      }
     },
     "04f2e05544e449e9a4733bcc295df976": {
      "model_module": "jupyter-leaflet",
      "model_module_version": "^0.15.0",
      "model_name": "LeafletTileLayerModel",
      "state": {
       "_model_module_version": "^0.15.0",
       "_view_module_version": "^0.15.0",
       "attribution": "&copy; <a href=\"https://www.openstreetmap.org/copyright\">OpenStreetMap</a> contributors",
       "base": true,
       "max_native_zoom": 18,
       "max_zoom": 19,
       "min_native_zoom": 0,
       "min_zoom": 1,
       "name": "OpenStreetMap.Mapnik",
       "options": [
        "attribution",
        "detect_retina",
        "max_native_zoom",
        "max_zoom",
        "min_native_zoom",
        "min_zoom",
        "no_wrap",
        "tile_size",
        "tms"
       ],
       "url": "https://a.tile.openstreetmap.org/{z}/{x}/{y}.png"
      }
     },
     "052af4d1b18a405b97cc1936f809f358": {
      "model_module": "@jupyter-widgets/controls",
      "model_module_version": "1.5.0",
      "model_name": "DescriptionStyleModel",
      "state": {
       "description_width": ""
      }
     },
     "0583c9e116484f26b994a6c9eb2f621c": {
      "model_module": "@jupyter-widgets/base",
      "model_module_version": "1.2.0",
      "model_name": "LayoutModel",
      "state": {}
     },
     "0600612ff0b34daa9a4454bb8996530d": {
      "model_module": "jupyter-leaflet",
      "model_module_version": "^0.15.0",
      "model_name": "LeafletTileLayerModel",
      "state": {
       "_model_module_version": "^0.15.0",
       "_view_module_version": "^0.15.0",
       "attribution": "(C) OpenStreetMap contributors (C) CARTO",
       "max_native_zoom": 18,
       "max_zoom": 20,
       "min_native_zoom": 0,
       "name": "CartoDB.DarkMatter",
       "options": [
        "attribution",
        "detect_retina",
        "max_native_zoom",
        "max_zoom",
        "min_native_zoom",
        "min_zoom",
        "no_wrap",
        "tile_size",
        "tms"
       ],
       "url": "https://a.basemaps.cartocdn.com/dark_all/{z}/{x}/{y}.png"
      }
     },
     "07219545f53b4990826bb43d712bb1fe": {
      "model_module": "@here/map-widget-for-jupyter",
      "model_module_version": "^1.1.3",
      "model_name": "DefaultLayersModel",
      "state": {
       "_model_module": "@here/map-widget-for-jupyter",
       "_model_module_version": "^1.1.3",
       "_view_count": null,
       "_view_module": "@here/map-widget-for-jupyter",
       "_view_module_version": "^1.1.3",
       "layer_name": "raster.satellite.xbase",
       "ppi": null
      }
     },
     "075f783db9eb4eb8b1bc6f0817019559": {
      "model_module": "@jupyter-widgets/controls",
      "model_module_version": "1.5.0",
      "model_name": "ButtonModel",
      "state": {
       "description": "Cancel",
       "layout": "IPY_MODEL_9d5b0cf6a4ad4194911090f8be8a130f",
       "style": "IPY_MODEL_b9662100b29b4fe8974341b2d556df43"
      }
     },
     "091205966e534536a0c1ab5b227ceb7a": {
      "model_module": "jupyter-leaflet",
      "model_module_version": "^0.15.0",
      "model_name": "LeafletWMSLayerModel",
      "state": {
       "_model_module_version": "^0.15.0",
       "_view_module_version": "^0.15.0",
       "attribution": "FWS",
       "crs": {
        "custom": false,
        "name": "EPSG3857"
       },
       "format": "image/png",
       "layers": "0",
       "max_native_zoom": 18,
       "min_native_zoom": 0,
       "name": "FWS NWI Wetlands Raster",
       "options": [
        "attribution",
        "detect_retina",
        "format",
        "layers",
        "max_native_zoom",
        "max_zoom",
        "min_native_zoom",
        "min_zoom",
        "no_wrap",
        "styles",
        "tile_size",
        "tms",
        "transparent",
        "uppercase"
       ],
       "transparent": true,
       "url": "https://www.fws.gov/wetlands/arcgis/services/Wetlands_Raster/ImageServer/WMSServer?"
      }
     },
     "0946411438cf4d86a58a53d1b89f5821": {
      "model_module": "jupyter-leaflet",
      "model_module_version": "^0.15.0",
      "model_name": "LeafletTileLayerModel",
      "state": {
       "_model_module_version": "^0.15.0",
       "_view_module_version": "^0.15.0",
       "attribution": "Google Earth Engine",
       "max_native_zoom": 18,
       "max_zoom": 24,
       "min_native_zoom": 0,
       "name": "pine2",
       "options": [
        "attribution",
        "detect_retina",
        "max_native_zoom",
        "max_zoom",
        "min_native_zoom",
        "min_zoom",
        "no_wrap",
        "tile_size",
        "tms"
       ],
       "url": "https://earthengine.googleapis.com/v1alpha/projects/earthengine-legacy/maps/6621c0175c88466814c6ae3037a163e3-906b515cfc74c89b8931d7cee3524caf/tiles/{z}/{x}/{y}"
      }
     },
     "0991e502e82a4f12af2d01e070eca03b": {
      "model_module": "@jupyter-widgets/controls",
      "model_module_version": "1.5.0",
      "model_name": "RadioButtonsModel",
      "state": {
       "index": null,
       "layout": "IPY_MODEL_4ff36ad3c6104c82ad704e82333a098f",
       "style": "IPY_MODEL_9e777428f7dd43e9980da2c134111d69"
      }
     },
     "0aa351644b904d3c86b57537d765e0f5": {
      "model_module": "jupyter-leaflet",
      "model_module_version": "^0.15.0",
      "model_name": "LeafletAwesomeIconModel",
      "state": {
       "_model_module_version": "^0.15.0",
       "_view_module_version": "^0.15.0",
       "icon_color": "darkgreen",
       "marker_color": "green",
       "name": "check"
      }
     },
     "0af134c7a1e94534bb0f7bb228f54065": {
      "model_module": "@jupyter-widgets/controls",
      "model_module_version": "1.5.0",
      "model_name": "ToggleButtonModel",
      "state": {
       "button_style": "primary",
       "icon": "line-chart",
       "layout": "IPY_MODEL_161b7a53e2754f138c058038f362516c",
       "style": "IPY_MODEL_e175c891332a42359b82f658e0cf146e",
       "tooltip": "Creating and plotting transects"
      }
     },
     "0b972ab6c3e3442290a2ebe46d1e3d7c": {
      "model_module": "jupyter-leaflet",
      "model_module_version": "^0.15.0",
      "model_name": "LeafletMapStyleModel",
      "state": {
       "_model_module_version": "^0.15.0"
      }
     },
     "0bc62a416de949e789312a9328f24306": {
      "model_module": "jupyter-leaflet",
      "model_module_version": "^0.15.0",
      "model_name": "LeafletTileLayerModel",
      "state": {
       "_model_module_version": "^0.15.0",
       "_view_module_version": "^0.15.0",
       "attribution": "Tiles (C) Esri -- Source: Esri, DeLorme, NAVTEQ, USGS, Intermap, iPC, NRCAN, Esri Japan, METI, Esri China (Hong Kong), Esri (Thailand), TomTom, 2012",
       "max_native_zoom": 18,
       "max_zoom": 22,
       "min_native_zoom": 0,
       "name": "Esri.WorldStreetMap",
       "options": [
        "attribution",
        "detect_retina",
        "max_native_zoom",
        "max_zoom",
        "min_native_zoom",
        "min_zoom",
        "no_wrap",
        "tile_size",
        "tms"
       ],
       "url": "https://server.arcgisonline.com/ArcGIS/rest/services/World_Street_Map/MapServer/tile/{z}/{y}/{x}"
      }
     },
     "0c6bfbcd58704112ad60554c7a4d248b": {
      "model_module": "@jupyter-widgets/base",
      "model_module_version": "1.2.0",
      "model_name": "LayoutModel",
      "state": {
       "height": "auto",
       "padding": "0px 0px 0px 4px",
       "width": "auto"
      }
     },
     "0cd6e3c6cbb24e71a6cbc6dbb6d2ff00": {
      "model_module": "jupyter-leaflet",
      "model_module_version": "^0.15.0",
      "model_name": "LeafletWMSLayerModel",
      "state": {
       "_model_module_version": "^0.15.0",
       "_view_module_version": "^0.15.0",
       "attribution": "MRLC",
       "crs": {
        "custom": false,
        "name": "EPSG3857"
       },
       "format": "image/png",
       "layers": "NLCD_2008_Land_Cover_L48",
       "max_native_zoom": 18,
       "min_native_zoom": 0,
       "name": "NLCD 2008 CONUS Land Cover",
       "options": [
        "attribution",
        "detect_retina",
        "format",
        "layers",
        "max_native_zoom",
        "max_zoom",
        "min_native_zoom",
        "min_zoom",
        "no_wrap",
        "styles",
        "tile_size",
        "tms",
        "transparent",
        "uppercase"
       ],
       "transparent": true,
       "url": "https://www.mrlc.gov/geoserver/mrlc_display/NLCD_2008_Land_Cover_L48/wms?"
      }
     },
     "0d1027c04fcc4cbd8c39c08273118994": {
      "model_module": "jupyter-leaflet",
      "model_module_version": "^0.15.0",
      "model_name": "LeafletTileLayerModel",
      "state": {
       "_model_module_version": "^0.15.0",
       "_view_module_version": "^0.15.0",
       "attribution": "Map data: (C) OpenStreetMap contributors & ODbL, (C) www.opensnowmap.org CC-BY-SA",
       "max_native_zoom": 18,
       "min_native_zoom": 0,
       "name": "OpenSnowMap.pistes",
       "options": [
        "attribution",
        "detect_retina",
        "max_native_zoom",
        "max_zoom",
        "min_native_zoom",
        "min_zoom",
        "no_wrap",
        "tile_size",
        "tms"
       ],
       "url": "https://tiles.opensnowmap.org/pistes/{z}/{x}/{y}.png"
      }
     },
     "0d9a60a429134cb79be12e3ad8a8e154": {
      "model_module": "@jupyter-widgets/controls",
      "model_module_version": "1.5.0",
      "model_name": "ToggleButtonsModel",
      "state": {
       "_options_labels": [
        "HTML",
        "PNG",
        "JPG"
       ],
       "button_style": "",
       "icons": [],
       "index": 0,
       "layout": "IPY_MODEL_9d25542b728041c8885513ecc77d692d",
       "style": "IPY_MODEL_ce37965efd364d74b9718a92412b33f3",
       "tooltips": [
        "Save the map as an HTML file",
        "Take a screenshot and save as a PNG file",
        "Take a screenshot and save as a JPG file"
       ]
      }
     },
     "0dd1fefd8f0e407fa87462f123a61baa": {
      "model_module": "jupyter-leaflet",
      "model_module_version": "^0.15.0",
      "model_name": "LeafletTileLayerModel",
      "state": {
       "_model_module_version": "^0.15.0",
       "_view_module_version": "^0.15.0",
       "attribution": "Datenquelle: basemap.at",
       "max_native_zoom": 18,
       "max_zoom": 19,
       "min_native_zoom": 0,
       "name": "BasemapAT.surface",
       "options": [
        "attribution",
        "detect_retina",
        "max_native_zoom",
        "max_zoom",
        "min_native_zoom",
        "min_zoom",
        "no_wrap",
        "tile_size",
        "tms"
       ],
       "url": "https://maps.wien.gv.at/basemap/bmapoberflaeche/grau/google3857/{z}/{y}/{x}.jpeg"
      }
     },
     "0e7754ce551a431e88eb727afb3a4cd0": {
      "model_module": "@jupyter-widgets/controls",
      "model_module_version": "1.5.0",
      "model_name": "ToggleButtonModel",
      "state": {
       "icon": "globe",
       "layout": "IPY_MODEL_37b305f8789d43209e722d3a2d006a8e",
       "style": "IPY_MODEL_1c003ce13b484e879c4c55b796c9d55a",
       "tooltip": "Search location/data"
      }
     },
     "0ea6630556df40fa8ab7f373a0f61004": {
      "model_module": "jupyter-leaflet",
      "model_module_version": "^0.15.0",
      "model_name": "LeafletFullScreenControlModel",
      "state": {
       "_model_module_version": "^0.15.0",
       "_view_module_version": "^0.15.0",
       "options": [
        "position"
       ]
      }
     },
     "0eb3fde63878405d934764f8f96fd3bf": {
      "model_module": "jupyter-leaflet",
      "model_module_version": "^0.15.0",
      "model_name": "LeafletTileLayerModel",
      "state": {
       "_model_module_version": "^0.15.0",
       "_view_module_version": "^0.15.0",
       "attribution": "Map data: (C) OpenStreetMap contributors | Map style: (C) waymarkedtrails.org (CC-BY-SA)",
       "max_native_zoom": 18,
       "min_native_zoom": 0,
       "name": "WaymarkedTrails.cycling",
       "options": [
        "attribution",
        "detect_retina",
        "max_native_zoom",
        "max_zoom",
        "min_native_zoom",
        "min_zoom",
        "no_wrap",
        "tile_size",
        "tms"
       ],
       "url": "https://tile.waymarkedtrails.org/cycling/{z}/{x}/{y}.png"
      }
     },
     "0f16f637d0b5493db069645ea9184a3a": {
      "model_module": "jupyter-leaflet",
      "model_module_version": "^0.15.0",
      "model_name": "LeafletTileLayerModel",
      "state": {
       "_model_module_version": "^0.15.0",
       "_view_module_version": "^0.15.0",
       "attribution": "(C) OpenStreetMap contributors",
       "max_native_zoom": 18,
       "min_native_zoom": 0,
       "name": "OpenStreetMap.DE",
       "options": [
        "attribution",
        "detect_retina",
        "max_native_zoom",
        "max_zoom",
        "min_native_zoom",
        "min_zoom",
        "no_wrap",
        "tile_size",
        "tms"
       ],
       "url": "https://a.tile.openstreetmap.de/tiles/osmde/{z}/{x}/{y}.png"
      }
     },
     "0f24c28a2ba14998bf5e2ac002543149": {
      "model_module": "@jupyter-widgets/controls",
      "model_module_version": "1.5.0",
      "model_name": "ButtonStyleModel",
      "state": {}
     },
     "0fdecef529f24ba58b6d8fe8a2d9a274": {
      "model_module": "@jupyter-widgets/controls",
      "model_module_version": "1.5.0",
      "model_name": "VBoxModel",
      "state": {
       "_view_count": 1,
       "children": [
        "IPY_MODEL_e19097b5010d4ff59d3e1b2f69ff8b68"
       ],
       "layout": "IPY_MODEL_c1ec5d1019264877b79b08aa8ca6bcb7"
      }
     },
     "0fe98b6dbe054514b6897e6453295c86": {
      "model_module": "@jupyter-widgets/base",
      "model_module_version": "1.2.0",
      "model_name": "LayoutModel",
      "state": {
       "height": "auto",
       "padding": "0px 0px 0px 4px",
       "width": "auto"
      }
     },
     "10a00d1d51704913b83b158ad4ae1525": {
      "model_module": "@jupyter-widgets/controls",
      "model_module_version": "1.5.0",
      "model_name": "DescriptionStyleModel",
      "state": {
       "description_width": ""
      }
     },
     "10cee8f237474ecc9f9f9c18f3026530": {
      "model_module": "jupyter-leaflet",
      "model_module_version": "^0.15.0",
      "model_name": "LeafletDrawControlModel",
      "state": {
       "_model_module_version": "^0.15.0",
       "_view_module_version": "^0.15.0",
       "circle": {
        "shapeOptions": {
         "color": "#3388ff"
        }
       },
       "marker": {
        "shapeOptions": {
         "color": "#3388ff"
        }
       },
       "options": [
        "position"
       ],
       "rectangle": {
        "shapeOptions": {
         "color": "#3388ff"
        }
       }
      }
     },
     "125a5b96cfa542a0ae694116aaddf0f5": {
      "model_module": "jupyter-leaflet",
      "model_module_version": "^0.15.0",
      "model_name": "LeafletMarkerClusterModel",
      "state": {
       "_model_module_version": "^0.15.0",
       "_view_module_version": "^0.15.0",
       "disable_clustering_at_zoom": 18,
       "max_cluster_radius": 80,
       "name": "Marker Cluster",
       "options": [
        "disable_clustering_at_zoom",
        "max_cluster_radius"
       ]
      }
     },
     "13ae0a9de14344b5a16464a0102e0255": {
      "model_module": "jupyter-leaflet",
      "model_module_version": "^0.15.0",
      "model_name": "LeafletTileLayerModel",
      "state": {
       "_model_module_version": "^0.15.0",
       "_view_module_version": "^0.15.0",
       "attribution": "Map tiles by Stamen Design, CC BY 3.0 -- Map data (C) OpenStreetMap contributors",
       "max_native_zoom": 18,
       "max_zoom": 20,
       "min_native_zoom": 0,
       "name": "Stamen.TonerLabels",
       "options": [
        "attribution",
        "detect_retina",
        "max_native_zoom",
        "max_zoom",
        "min_native_zoom",
        "min_zoom",
        "no_wrap",
        "tile_size",
        "tms"
       ],
       "url": "https://stamen-tiles-a.a.ssl.fastly.net/toner-labels/{z}/{x}/{y}.png"
      }
     },
     "1486fc69a05a44a382c37232a26f9dfb": {
      "model_module": "jupyter-leaflet",
      "model_module_version": "^0.15.0",
      "model_name": "LeafletTileLayerModel",
      "state": {
       "_model_module_version": "^0.15.0",
       "_view_module_version": "^0.15.0",
       "attribution": "(C) OpenStreetMap contributors",
       "max_native_zoom": 18,
       "max_zoom": 15,
       "min_native_zoom": 0,
       "name": "HikeBike.HillShading",
       "options": [
        "attribution",
        "detect_retina",
        "max_native_zoom",
        "max_zoom",
        "min_native_zoom",
        "min_zoom",
        "no_wrap",
        "tile_size",
        "tms"
       ],
       "url": "https://tiles.wmflabs.org/hillshading/{z}/{x}/{y}.png"
      }
     },
     "151c85131e9e428f9ee933dad8555ade": {
      "model_module": "@here/map-widget-for-jupyter",
      "model_module_version": "^1.1.3",
      "model_name": "DefaultLayersModel",
      "state": {
       "_model_module": "@here/map-widget-for-jupyter",
       "_model_module_version": "^1.1.3",
       "_view_count": null,
       "_view_module": "@here/map-widget-for-jupyter",
       "_view_module_version": "^1.1.3",
       "layer_name": "vector.normal.truck",
       "ppi": null
      }
     },
     "15562853359c4c8ab92c3eef7c45feae": {
      "model_module": "jupyter-leaflet",
      "model_module_version": "^0.15.0",
      "model_name": "LeafletTileLayerModel",
      "state": {
       "_model_module_version": "^0.15.0",
       "_view_module_version": "^0.15.0",
       "attribution": "Map tiles by <a href=\"https://labs.strava.com/heatmap\">Strava 2021</a>",
       "max_native_zoom": 18,
       "max_zoom": 15,
       "min_native_zoom": 0,
       "name": "Strava.Water",
       "options": [
        "attribution",
        "detect_retina",
        "max_native_zoom",
        "max_zoom",
        "min_native_zoom",
        "min_zoom",
        "no_wrap",
        "tile_size",
        "tms"
       ],
       "url": "https://heatmap-external-a.strava.com/tiles/water/blue/{z}/{x}/{y}.png"
      }
     },
     "159e70719a5845d89e2caea18d111d63": {
      "model_module": "@jupyter-widgets/base",
      "model_module_version": "1.2.0",
      "model_name": "LayoutModel",
      "state": {
       "margin": "0 0 0 1em"
      }
     },
     "161b7a53e2754f138c058038f362516c": {
      "model_module": "@jupyter-widgets/base",
      "model_module_version": "1.2.0",
      "model_name": "LayoutModel",
      "state": {
       "height": "auto",
       "padding": "0px 0px 0px 4px",
       "width": "auto"
      }
     },
     "16ae5461398a42988a471d551c7b9e81": {
      "model_module": "@jupyter-widgets/controls",
      "model_module_version": "1.5.0",
      "model_name": "DescriptionStyleModel",
      "state": {
       "description_width": ""
      }
     },
     "171c05bc55454f8794b0d916a09f46d2": {
      "model_module": "@jupyter-widgets/base",
      "model_module_version": "1.2.0",
      "model_name": "LayoutModel",
      "state": {
       "height": "auto",
       "padding": "0px 0px 0px 4px",
       "width": "auto"
      }
     },
     "171cddd1b8c641d3afe7db46c4e1aab3": {
      "model_module": "@jupyter-widgets/base",
      "model_module_version": "1.2.0",
      "model_name": "LayoutModel",
      "state": {}
     },
     "175ce84aad924abc934073f51530e843": {
      "model_module": "@jupyter-widgets/base",
      "model_module_version": "1.2.0",
      "model_name": "LayoutModel",
      "state": {
       "height": "auto",
       "padding": "0px 0px 0px 4px",
       "width": "auto"
      }
     },
     "17c7fa85e3d24039a37c8024c6553b3c": {
      "model_module": "jupyter-leaflet",
      "model_module_version": "^0.15.0",
      "model_name": "LeafletTileLayerModel",
      "state": {
       "_model_module_version": "^0.15.0",
       "_view_module_version": "^0.15.0",
       "attribution": "© swisstopo",
       "max_native_zoom": 18,
       "max_zoom": 19,
       "min_native_zoom": 0,
       "name": "SwissFederalGeoportal.SWISSIMAGE",
       "options": [
        "attribution",
        "detect_retina",
        "max_native_zoom",
        "max_zoom",
        "min_native_zoom",
        "min_zoom",
        "no_wrap",
        "tile_size",
        "tms"
       ],
       "url": "https://wmts.geo.admin.ch/1.0.0/ch.swisstopo.swissimage/default/current/3857/{z}/{x}/{y}.jpeg"
      }
     },
     "185a267ca6244078a6bef8fcbcf28ab0": {
      "model_module": "@jupyter-widgets/base",
      "model_module_version": "1.2.0",
      "model_name": "LayoutModel",
      "state": {
       "height": "auto",
       "padding": "0px 0px 0px 4px",
       "width": "auto"
      }
     },
     "188d918b1d864e31a6db75480a8f1f88": {
      "model_module": "@jupyter-widgets/controls",
      "model_module_version": "1.5.0",
      "model_name": "DescriptionStyleModel",
      "state": {
       "description_width": ""
      }
     },
     "190dc7847b804bfb952afee0a373e94c": {
      "model_module": "@jupyter-widgets/controls",
      "model_module_version": "1.5.0",
      "model_name": "DescriptionStyleModel",
      "state": {
       "description_width": ""
      }
     },
     "1a968824bf124d3183e93d4cd9ed30e7": {
      "model_module": "@jupyter-widgets/controls",
      "model_module_version": "1.5.0",
      "model_name": "ToggleButtonModel",
      "state": {
       "button_style": "primary",
       "icon": "retweet",
       "layout": "IPY_MODEL_8c9023287f1a4007bbfc669f2997e6c2",
       "style": "IPY_MODEL_c712bc68b48945a093848b2a55c64d4f",
       "tooltip": "Convert Earth Engine JavaScript to Python"
      }
     },
     "1ba2c37de73d43f6a29688d612abf58e": {
      "model_module": "@jupyter-widgets/base",
      "model_module_version": "1.2.0",
      "model_name": "LayoutModel",
      "state": {
       "border": "1px solid black"
      }
     },
     "1bd4689e7f704b159e19525cb0adcddb": {
      "model_module": "jupyter-leaflet",
      "model_module_version": "^0.15.0",
      "model_name": "LeafletTileLayerModel",
      "state": {
       "_model_module_version": "^0.15.0",
       "_view_module_version": "^0.15.0",
       "attribution": "Imagery provided by services from the Global Imagery Browse Services (GIBS), operated by the NASA/GSFC/Earth Science Data and Information System (<a href=\"https://earthdata.nasa.gov\">ESDIS</a>) with funding provided by NASA/HQ.",
       "max_native_zoom": 18,
       "max_zoom": 8,
       "min_native_zoom": 0,
       "name": "NASAGIBS.BlueMarble",
       "options": [
        "attribution",
        "detect_retina",
        "max_native_zoom",
        "max_zoom",
        "min_native_zoom",
        "min_zoom",
        "no_wrap",
        "tile_size",
        "tms"
       ],
       "url": "https://gibs.earthdata.nasa.gov/wmts/epsg3857/best/BlueMarble_NextGeneration/default/EPSG3857_500m/{z}/{y}/{x}.jpeg"
      }
     },
     "1bdd831e5d6b413e9b8f778ecba2ddaf": {
      "model_module": "jupyter-leaflet",
      "model_module_version": "^0.15.0",
      "model_name": "LeafletTileLayerModel",
      "state": {
       "_model_module_version": "^0.15.0",
       "_view_module_version": "^0.15.0",
       "attribution": "(C) Stadia Maps, (C) OpenMapTiles (C) OpenStreetMap contributors",
       "max_native_zoom": 18,
       "max_zoom": 20,
       "min_native_zoom": 0,
       "name": "Stadia.AlidadeSmoothDark",
       "options": [
        "attribution",
        "detect_retina",
        "max_native_zoom",
        "max_zoom",
        "min_native_zoom",
        "min_zoom",
        "no_wrap",
        "tile_size",
        "tms"
       ],
       "url": "https://tiles.stadiamaps.com/tiles/alidade_smooth_dark/{z}/{x}/{y}.png"
      }
     },
     "1bf2233a49b54c38b78ea9f9335541e0": {
      "model_module": "@here/map-widget-for-jupyter",
      "model_module_version": "^1.1.3",
      "model_name": "DefaultLayersModel",
      "state": {
       "_model_module": "@here/map-widget-for-jupyter",
       "_model_module_version": "^1.1.3",
       "_view_count": null,
       "_view_module": "@here/map-widget-for-jupyter",
       "_view_module_version": "^1.1.3",
       "layer_name": "raster.normal.labels",
       "ppi": null
      }
     },
     "1c003ce13b484e879c4c55b796c9d55a": {
      "model_module": "@jupyter-widgets/controls",
      "model_module_version": "1.5.0",
      "model_name": "DescriptionStyleModel",
      "state": {
       "description_width": ""
      }
     },
     "1c708e26524e44cea68d5de14e0e6b8c": {
      "model_module": "@jupyter-widgets/output",
      "model_module_version": "1.0.0",
      "model_name": "OutputModel",
      "state": {
       "layout": "IPY_MODEL_3c93be21651f4b2398aa14460cfd323c"
      }
     },
     "1cc145eba1784f9ba5686546ad1fbf3d": {
      "model_module": "jupyter-leaflet",
      "model_module_version": "^0.15.0",
      "model_name": "LeafletTileLayerModel",
      "state": {
       "_model_module_version": "^0.15.0",
       "_view_module_version": "^0.15.0",
       "attribution": "Map tiles by Stamen Design, CC BY 3.0 -- Map data (C) OpenStreetMap contributors",
       "max_native_zoom": 18,
       "min_native_zoom": 0,
       "name": "Stamen.TerrainLabels",
       "options": [
        "attribution",
        "detect_retina",
        "max_native_zoom",
        "max_zoom",
        "min_native_zoom",
        "min_zoom",
        "no_wrap",
        "tile_size",
        "tms"
       ],
       "url": "https://stamen-tiles-a.a.ssl.fastly.net/terrain-labels/{z}/{x}/{y}.png"
      }
     },
     "1ce3bad53f6e4ebbbb274f4111718117": {
      "model_module": "@jupyter-widgets/controls",
      "model_module_version": "1.5.0",
      "model_name": "ToggleButtonModel",
      "state": {
       "button_style": "primary",
       "icon": "globe",
       "layout": "IPY_MODEL_171c05bc55454f8794b0d916a09f46d2",
       "style": "IPY_MODEL_1fe8afc9aac74593acf0c12c9ade62d8",
       "tooltip": "Create timelapse"
      }
     },
     "1cfb85df4af548dba4cba4604e883e1f": {
      "model_module": "jupyter-leaflet",
      "model_module_version": "^0.15.0",
      "model_name": "LeafletTileLayerModel",
      "state": {
       "_model_module_version": "^0.15.0",
       "_view_module_version": "^0.15.0",
       "attribution": "Map tiles by <a href=\"https://labs.strava.com/heatmap\">Strava 2021</a>",
       "max_native_zoom": 18,
       "max_zoom": 15,
       "min_native_zoom": 0,
       "name": "Strava.All",
       "options": [
        "attribution",
        "detect_retina",
        "max_native_zoom",
        "max_zoom",
        "min_native_zoom",
        "min_zoom",
        "no_wrap",
        "tile_size",
        "tms"
       ],
       "url": "https://heatmap-external-a.strava.com/tiles/all/hot/{z}/{x}/{y}.png"
      }
     },
     "1d34a15a939e4fcc9e9423e217b565ad": {
      "model_module": "@jupyter-widgets/base",
      "model_module_version": "1.2.0",
      "model_name": "LayoutModel",
      "state": {}
     },
     "1dd8e39848174493ba8ea52b58830e1f": {
      "model_module": "jupyter-leaflet",
      "model_module_version": "^0.15.0",
      "model_name": "LeafletWMSLayerModel",
      "state": {
       "_model_module_version": "^0.15.0",
       "_view_module_version": "^0.15.0",
       "attribution": "MRLC",
       "crs": {
        "custom": false,
        "name": "EPSG3857"
       },
       "format": "image/png",
       "layers": "NLCD_2011_Land_Cover_L48",
       "max_native_zoom": 18,
       "min_native_zoom": 0,
       "name": "NLCD 2011 CONUS Land Cover",
       "options": [
        "attribution",
        "detect_retina",
        "format",
        "layers",
        "max_native_zoom",
        "max_zoom",
        "min_native_zoom",
        "min_zoom",
        "no_wrap",
        "styles",
        "tile_size",
        "tms",
        "transparent",
        "uppercase"
       ],
       "transparent": true,
       "url": "https://www.mrlc.gov/geoserver/mrlc_display/NLCD_2011_Land_Cover_L48/wms?"
      }
     },
     "1dff7da63430433083991d1753af7a82": {
      "model_module": "@jupyter-widgets/output",
      "model_module_version": "1.0.0",
      "model_name": "OutputModel",
      "state": {
       "layout": "IPY_MODEL_5b8a912bd1934260a2ffd42176c8afc4"
      }
     },
     "1eda8aa07c89481cb0bf4fb6662e70ea": {
      "model_module": "@jupyter-widgets/base",
      "model_module_version": "1.2.0",
      "model_name": "LayoutModel",
      "state": {
       "grid_area": "pathlist",
       "width": "auto"
      }
     },
     "1f583588b3ad4894a7e6a962090daefe": {
      "model_module": "@jupyter-widgets/base",
      "model_module_version": "1.2.0",
      "model_name": "LayoutModel",
      "state": {}
     },
     "1fe8afc9aac74593acf0c12c9ade62d8": {
      "model_module": "@jupyter-widgets/controls",
      "model_module_version": "1.5.0",
      "model_name": "DescriptionStyleModel",
      "state": {
       "description_width": ""
      }
     },
     "1ff6a94106bb4101a58e54d87acce8e1": {
      "model_module": "jupyter-leaflet",
      "model_module_version": "^0.15.0",
      "model_name": "LeafletSearchControlModel",
      "state": {
       "_model_module_version": "^0.15.0",
       "_view_module_version": "^0.15.0",
       "marker": "IPY_MODEL_ae75584b2b7c44f9b9ac981f39cc9e7c",
       "options": [
        "animate_location",
        "auto_collapse",
        "auto_type",
        "found_style",
        "jsonp_param",
        "position",
        "property_loc",
        "property_name",
        "url",
        "zoom"
       ],
       "url": "https://nominatim.openstreetmap.org/search?format=json&q={s}",
       "zoom": 5
      }
     },
     "202559c6c2d64e8293645022fdbee224": {
      "model_module": "@jupyter-widgets/base",
      "model_module_version": "1.2.0",
      "model_name": "LayoutModel",
      "state": {}
     },
     "2119a20314bf4cf9ba97198acae1dae8": {
      "model_module": "@jupyter-widgets/controls",
      "model_module_version": "1.5.0",
      "model_name": "ToggleButtonModel",
      "state": {
       "button_style": "primary",
       "icon": "random",
       "layout": "IPY_MODEL_ddfd083bb862445082ca0c0160faf848",
       "style": "IPY_MODEL_7442fd72406f407bb224fa1d9eff0732",
       "tooltip": "Sankey plots"
      }
     },
     "218ca48ca85d435d92f851d9118777b3": {
      "model_module": "@jupyter-widgets/controls",
      "model_module_version": "1.5.0",
      "model_name": "ToggleButtonsStyleModel",
      "state": {
       "button_width": "",
       "description_width": ""
      }
     },
     "2270ac0e07a2456f9a444a914f48540e": {
      "model_module": "@jupyter-widgets/controls",
      "model_module_version": "1.5.0",
      "model_name": "ToggleButtonsModel",
      "state": {
       "_options_labels": [
        "OK",
        "Cancel"
       ],
       "button_style": "primary",
       "icons": [],
       "index": null,
       "layout": "IPY_MODEL_202559c6c2d64e8293645022fdbee224",
       "style": "IPY_MODEL_218ca48ca85d435d92f851d9118777b3",
       "tooltips": [
        "OK",
        "Cancel"
       ]
      }
     },
     "233eb96a28fa4d2dbbcf647bf7b54e8f": {
      "model_module": "jupyter-leaflet",
      "model_module_version": "^0.15.0",
      "model_name": "LeafletTileLayerModel",
      "state": {
       "_model_module_version": "^0.15.0",
       "_view_module_version": "^0.15.0",
       "attribution": "(C) OpenStreetMap contributors",
       "max_native_zoom": 18,
       "min_native_zoom": 0,
       "name": "OpenStreetMap.BlackAndWhite",
       "options": [
        "attribution",
        "detect_retina",
        "max_native_zoom",
        "max_zoom",
        "min_native_zoom",
        "min_zoom",
        "no_wrap",
        "tile_size",
        "tms"
       ],
       "url": "http://a.tiles.wmflabs.org/bw-mapnik/{z}/{x}/{y}.png"
      }
     },
     "239ccc3c8f9444e297875694884b0f50": {
      "model_module": "@jupyter-widgets/controls",
      "model_module_version": "1.5.0",
      "model_name": "DescriptionStyleModel",
      "state": {
       "description_width": ""
      }
     },
     "241ea3b9231f432193713b0984d89dff": {
      "model_module": "@jupyter-widgets/controls",
      "model_module_version": "1.5.0",
      "model_name": "ToggleButtonModel",
      "state": {
       "button_style": "primary",
       "icon": "question",
       "layout": "IPY_MODEL_5205e290bd8445c5b2fe1dafc631cfde",
       "style": "IPY_MODEL_5ce021866d344312bd1bfd106b2aed49",
       "tooltip": "Get help"
      }
     },
     "246ca9593989458a9672437a88b7f5bc": {
      "model_module": "jupyter-leaflet",
      "model_module_version": "^0.15.0",
      "model_name": "LeafletTileLayerModel",
      "state": {
       "_model_module_version": "^0.15.0",
       "_view_module_version": "^0.15.0",
       "attribution": "Kaartgegevens (C) Kadaster",
       "max_native_zoom": 18,
       "max_zoom": 19,
       "min_native_zoom": 0,
       "name": "nlmaps.luchtfoto",
       "options": [
        "attribution",
        "detect_retina",
        "max_native_zoom",
        "max_zoom",
        "min_native_zoom",
        "min_zoom",
        "no_wrap",
        "tile_size",
        "tms"
       ],
       "url": "https://service.pdok.nl/hwh/luchtfotorgb/wmts/v1_0/Actueel_ortho25/EPSG:3857/{z}/{x}/{y}.jpeg"
      }
     },
     "24a5e372570144139af5488fb3ad2573": {
      "model_module": "jupyter-leaflet",
      "model_module_version": "^0.15.0",
      "model_name": "LeafletTileLayerModel",
      "state": {
       "_model_module_version": "^0.15.0",
       "_view_module_version": "^0.15.0",
       "attribution": "© swisstopo",
       "max_native_zoom": 18,
       "min_native_zoom": 0,
       "name": "SwissFederalGeoportal.NationalMapGrey",
       "options": [
        "attribution",
        "detect_retina",
        "max_native_zoom",
        "max_zoom",
        "min_native_zoom",
        "min_zoom",
        "no_wrap",
        "tile_size",
        "tms"
       ],
       "url": "https://wmts.geo.admin.ch/1.0.0/ch.swisstopo.pixelkarte-grau/default/current/3857/{z}/{x}/{y}.jpeg"
      }
     },
     "24b33fd52baa41ce803b43eb62d76dce": {
      "model_module": "jupyter-leaflet",
      "model_module_version": "^0.15.0",
      "model_name": "LeafletAttributionControlModel",
      "state": {
       "_model_module_version": "^0.15.0",
       "_view_module_version": "^0.15.0",
       "options": [
        "position",
        "prefix"
       ],
       "position": "bottomright",
       "prefix": "ipyleaflet"
      }
     },
     "24c9681d81864946beb1859bb9f6b1ed": {
      "model_module": "@jupyter-widgets/base",
      "model_module_version": "1.2.0",
      "model_name": "LayoutModel",
      "state": {
       "height": "600px"
      }
     },
     "24ce0a78b2674d26b9ebf810046b0246": {
      "model_module": "jupyter-leaflet",
      "model_module_version": "^0.15.0",
      "model_name": "LeafletTileLayerModel",
      "state": {
       "_model_module_version": "^0.15.0",
       "_view_module_version": "^0.15.0",
       "attribution": "Datenquelle: basemap.at",
       "max_native_zoom": 18,
       "max_zoom": 20,
       "min_native_zoom": 0,
       "name": "BasemapAT.orthofoto",
       "options": [
        "attribution",
        "detect_retina",
        "max_native_zoom",
        "max_zoom",
        "min_native_zoom",
        "min_zoom",
        "no_wrap",
        "tile_size",
        "tms"
       ],
       "url": "https://maps.wien.gv.at/basemap/bmaporthofoto30cm/normal/google3857/{z}/{y}/{x}.jpeg"
      }
     },
     "25b0e0367d2540fcb647f384bfa705d0": {
      "model_module": "@jupyter-widgets/controls",
      "model_module_version": "1.5.0",
      "model_name": "ToggleButtonModel",
      "state": {
       "button_style": "primary",
       "icon": "map",
       "layout": "IPY_MODEL_a718becc8a824e7b8d41eb28e2df2ad5",
       "style": "IPY_MODEL_a105cfb19c4343b7b138b9a6bc5cc02b",
       "tooltip": "Change basemap"
      }
     },
     "25b54a4d623641eb83f3fa4e0f83657b": {
      "model_module": "@jupyter-widgets/base",
      "model_module_version": "1.2.0",
      "model_name": "LayoutModel",
      "state": {
       "grid_area": "dircontent",
       "width": "auto"
      }
     },
     "270a01fb90334815b3558127599b0d0e": {
      "model_module": "@jupyter-widgets/controls",
      "model_module_version": "1.5.0",
      "model_name": "DescriptionStyleModel",
      "state": {
       "description_width": ""
      }
     },
     "278e60b5d36e4e49bba9bf21d98068a7": {
      "model_module": "jupyter-leaflet",
      "model_module_version": "^0.15.0",
      "model_name": "LeafletMapStyleModel",
      "state": {
       "_model_module_version": "^0.15.0",
       "cursor": "move"
      }
     },
     "28053d5896294bfe930fa41b5dafb920": {
      "model_module": "jupyter-leaflet",
      "model_module_version": "^0.15.0",
      "model_name": "LeafletTileLayerModel",
      "state": {
       "_model_module_version": "^0.15.0",
       "_view_module_version": "^0.15.0",
       "attribution": "(C) OpenStreetMap contributors & USGS",
       "max_native_zoom": 18,
       "max_zoom": 22,
       "min_native_zoom": 0,
       "name": "MtbMap",
       "options": [
        "attribution",
        "detect_retina",
        "max_native_zoom",
        "max_zoom",
        "min_native_zoom",
        "min_zoom",
        "no_wrap",
        "tile_size",
        "tms"
       ],
       "url": "http://tile.mtbmap.cz/mtbmap_tiles/{z}/{x}/{y}.png"
      }
     },
     "282f9a28b3ef442fb2664b0d797a97be": {
      "model_module": "@jupyter-widgets/controls",
      "model_module_version": "1.5.0",
      "model_name": "DescriptionStyleModel",
      "state": {
       "description_width": ""
      }
     },
     "28c126c55f2542bf930382ae3a19c5a4": {
      "model_module": "jupyter-leaflet",
      "model_module_version": "^0.15.0",
      "model_name": "LeafletTileLayerModel",
      "state": {
       "_model_module_version": "^0.15.0",
       "_view_module_version": "^0.15.0",
       "attribution": "openAIP Data (CC-BY-NC-SA)",
       "max_native_zoom": 18,
       "max_zoom": 14,
       "min_native_zoom": 0,
       "name": "OpenAIP",
       "options": [
        "attribution",
        "detect_retina",
        "max_native_zoom",
        "max_zoom",
        "min_native_zoom",
        "min_zoom",
        "no_wrap",
        "tile_size",
        "tms"
       ],
       "url": "https://1.tile.maps.openaip.net/geowebcache/service/tms/1.0.0/openaip_basemap@EPSG%3A900913@png/{z}/{x}/{y}.png"
      }
     },
     "297b97b35c4f436cac2c1190dad4bd69": {
      "model_module": "@jupyter-widgets/base",
      "model_module_version": "1.2.0",
      "model_name": "LayoutModel",
      "state": {
       "margin": "0 0 0 1em"
      }
     },
     "29c740519bea492b9430507161c7c6f4": {
      "model_module": "@jupyter-widgets/controls",
      "model_module_version": "1.5.0",
      "model_name": "DescriptionStyleModel",
      "state": {
       "description_width": ""
      }
     },
     "29e41a68b3c647d8ba3317eb4c2ffb45": {
      "model_module": "@jupyter-widgets/controls",
      "model_module_version": "1.5.0",
      "model_name": "VBoxModel",
      "state": {
       "_view_count": 2,
       "children": [
        "IPY_MODEL_d0f5a39338b6456f97be6e22cc31a18c"
       ],
       "layout": "IPY_MODEL_f4c6ff10abf34dd0ad07bb9c9a183a3c"
      }
     },
     "29e4a547314d4a189395cb5d485b1203": {
      "model_module": "jupyter-leaflet",
      "model_module_version": "^0.15.0",
      "model_name": "LeafletTileLayerModel",
      "state": {
       "_model_module_version": "^0.15.0",
       "_view_module_version": "^0.15.0",
       "attribution": "![](https://docs.onemap.sg/maps/images/oneMap64-01.png) New OneMap | Map data (C) contributors, Singapore Land Authority",
       "max_native_zoom": 18,
       "min_native_zoom": 0,
       "name": "OneMapSG.Grey",
       "options": [
        "attribution",
        "detect_retina",
        "max_native_zoom",
        "max_zoom",
        "min_native_zoom",
        "min_zoom",
        "no_wrap",
        "tile_size",
        "tms"
       ],
       "url": "https://maps-a.onemap.sg/v3/Grey/{z}/{x}/{y}.png"
      }
     },
     "2b5036bfe9664ab28c674f8607586ffb": {
      "model_module": "jupyter-leaflet",
      "model_module_version": "^0.15.0",
      "model_name": "LeafletTileLayerModel",
      "state": {
       "_model_module_version": "^0.15.0",
       "_view_module_version": "^0.15.0",
       "attribution": "Google Earth Engine",
       "max_native_zoom": 18,
       "max_zoom": 24,
       "min_native_zoom": 0,
       "name": "pine3",
       "options": [
        "attribution",
        "detect_retina",
        "max_native_zoom",
        "max_zoom",
        "min_native_zoom",
        "min_zoom",
        "no_wrap",
        "tile_size",
        "tms"
       ],
       "url": "https://earthengine.googleapis.com/v1alpha/projects/earthengine-legacy/maps/765d29040cb5b3522c370b8c5455c4ee-3eea3a277787df1ba01c816db18a90c3/tiles/{z}/{x}/{y}"
      }
     },
     "2d07f5c3e3e344878123fa36fb7f598d": {
      "model_module": "jupyter-leaflet",
      "model_module_version": "^0.15.0",
      "model_name": "LeafletTileLayerModel",
      "state": {
       "_model_module_version": "^0.15.0",
       "_view_module_version": "^0.15.0",
       "attribution": "© swisstopo",
       "max_native_zoom": 18,
       "min_native_zoom": 0,
       "name": "SwissFederalGeoportal.NationalMapColor",
       "options": [
        "attribution",
        "detect_retina",
        "max_native_zoom",
        "max_zoom",
        "min_native_zoom",
        "min_zoom",
        "no_wrap",
        "tile_size",
        "tms"
       ],
       "url": "https://wmts.geo.admin.ch/1.0.0/ch.swisstopo.pixelkarte-farbe/default/current/3857/{z}/{x}/{y}.jpeg"
      }
     },
     "2d43776da900428e95956c20a14eccc1": {
      "model_module": "jupyter-leaflet",
      "model_module_version": "^0.15.0",
      "model_name": "LeafletTileLayerModel",
      "state": {
       "_model_module_version": "^0.15.0",
       "_view_module_version": "^0.15.0",
       "attribution": "Map tiles by Stamen Design, CC BY 3.0 -- Map data (C) OpenStreetMap contributors",
       "max_native_zoom": 18,
       "max_zoom": 20,
       "min_native_zoom": 0,
       "name": "Stamen.Toner",
       "options": [
        "attribution",
        "detect_retina",
        "max_native_zoom",
        "max_zoom",
        "min_native_zoom",
        "min_zoom",
        "no_wrap",
        "tile_size",
        "tms"
       ],
       "url": "https://stamen-tiles-a.a.ssl.fastly.net/toner/{z}/{x}/{y}.png"
      }
     },
     "2d6958bb730143559bbcce4da436536f": {
      "model_module": "jupyter-leaflet",
      "model_module_version": "^0.15.0",
      "model_name": "LeafletTileLayerModel",
      "state": {
       "_model_module_version": "^0.15.0",
       "_view_module_version": "^0.15.0",
       "attribution": "Imagery provided by services from the Global Imagery Browse Services (GIBS), operated by the NASA/GSFC/Earth Science Data and Information System (<a href=\"https://earthdata.nasa.gov\">ESDIS</a>) with funding provided by NASA/HQ.",
       "max_native_zoom": 18,
       "max_zoom": 9,
       "min_native_zoom": 0,
       "name": "NASAGIBS.ModisTerraBands721CR",
       "options": [
        "attribution",
        "detect_retina",
        "max_native_zoom",
        "max_zoom",
        "min_native_zoom",
        "min_zoom",
        "no_wrap",
        "tile_size",
        "tms"
       ],
       "url": "https://gibs.earthdata.nasa.gov/wmts/epsg3857/best/MODIS_Terra_CorrectedReflectance_Bands721/default//GoogleMapsCompatible_Level9/{z}/{y}/{x}.jpg"
      }
     },
     "2eb4de08689542238fff1147040db0c7": {
      "model_module": "@jupyter-widgets/controls",
      "model_module_version": "1.5.0",
      "model_name": "HBoxModel",
      "state": {
       "_view_count": 2,
       "children": [
        "IPY_MODEL_00f31448b4d747579c7ca68e792718bc"
       ],
       "layout": "IPY_MODEL_32daa75eeda14b16be644ef19475a81d"
      }
     },
     "2eea806b72e341d2819ffdaa45d65060": {
      "model_module": "jupyter-leaflet",
      "model_module_version": "^0.15.0",
      "model_name": "LeafletTileLayerModel",
      "state": {
       "_model_module_version": "^0.15.0",
       "_view_module_version": "^0.15.0",
       "attribution": "(C) Stadia Maps, (C) OpenMapTiles (C) OpenStreetMap contributors",
       "max_native_zoom": 18,
       "max_zoom": 20,
       "min_native_zoom": 0,
       "name": "Stadia.Outdoors",
       "options": [
        "attribution",
        "detect_retina",
        "max_native_zoom",
        "max_zoom",
        "min_native_zoom",
        "min_zoom",
        "no_wrap",
        "tile_size",
        "tms"
       ],
       "url": "https://tiles.stadiamaps.com/tiles/outdoors/{z}/{x}/{y}.png"
      }
     },
     "30c4d24937164a909112bdc4b6f417f9": {
      "model_module": "jupyter-leaflet",
      "model_module_version": "^0.15.0",
      "model_name": "LeafletTileLayerModel",
      "state": {
       "_model_module_version": "^0.15.0",
       "_view_module_version": "^0.15.0",
       "attribution": "Map tiles by Stamen Design, CC BY 3.0 -- Map data (C) OpenStreetMap contributors",
       "max_native_zoom": 18,
       "min_native_zoom": 0,
       "name": "Stamen.TerrainBackground",
       "options": [
        "attribution",
        "detect_retina",
        "max_native_zoom",
        "max_zoom",
        "min_native_zoom",
        "min_zoom",
        "no_wrap",
        "tile_size",
        "tms"
       ],
       "url": "https://stamen-tiles-a.a.ssl.fastly.net/terrain-background/{z}/{x}/{y}.png"
      }
     },
     "3111441deadd47b3a3189964e6f0a402": {
      "model_module": "@jupyter-widgets/controls",
      "model_module_version": "1.5.0",
      "model_name": "GridBoxModel",
      "state": {
       "children": [
        "IPY_MODEL_d967a7faf07c46ad838aa9b501ae4a0c",
        "IPY_MODEL_d10bd530fa5742e49f692161eabcc716",
        "IPY_MODEL_61b84c5f720948ec8624d19c43419b3d"
       ],
       "layout": "IPY_MODEL_aac57995277e40b68c60baae1f4d5f50"
      }
     },
     "316ada1e77b249c099ac2a169430dea8": {
      "model_module": "jupyter-leaflet",
      "model_module_version": "^0.15.0",
      "model_name": "LeafletWMSLayerModel",
      "state": {
       "_model_module_version": "^0.15.0",
       "_view_module_version": "^0.15.0",
       "attribution": "USGS",
       "crs": {
        "custom": false,
        "name": "EPSG3857"
       },
       "format": "image/png",
       "layers": "0",
       "max_native_zoom": 18,
       "min_native_zoom": 0,
       "name": "USGS NAIP Imagery",
       "options": [
        "attribution",
        "detect_retina",
        "format",
        "layers",
        "max_native_zoom",
        "max_zoom",
        "min_native_zoom",
        "min_zoom",
        "no_wrap",
        "styles",
        "tile_size",
        "tms",
        "transparent",
        "uppercase"
       ],
       "transparent": true,
       "url": "https://services.nationalmap.gov/arcgis/services/USGSNAIPImagery/ImageServer/WMSServer?"
      }
     },
     "32daa75eeda14b16be644ef19475a81d": {
      "model_module": "@jupyter-widgets/base",
      "model_module_version": "1.2.0",
      "model_name": "LayoutModel",
      "state": {}
     },
     "333f1a690ccb458c913fe4437a9a54f2": {
      "model_module": "@jupyter-widgets/base",
      "model_module_version": "1.2.0",
      "model_name": "LayoutModel",
      "state": {}
     },
     "33f2be826ac4478e9917de675877f9ef": {
      "model_module": "jupyter-leaflet",
      "model_module_version": "^0.15.0",
      "model_name": "LeafletTileLayerModel",
      "state": {
       "_model_module_version": "^0.15.0",
       "_view_module_version": "^0.15.0",
       "attribution": "Kaartgegevens (C) Kadaster",
       "max_native_zoom": 18,
       "max_zoom": 19,
       "min_native_zoom": 0,
       "name": "nlmaps.water",
       "options": [
        "attribution",
        "detect_retina",
        "max_native_zoom",
        "max_zoom",
        "min_native_zoom",
        "min_zoom",
        "no_wrap",
        "tile_size",
        "tms"
       ],
       "url": "https://service.pdok.nl/brt/achtergrondkaart/wmts/v2_0/water/EPSG:3857/{z}/{x}/{y}.png"
      }
     },
     "34acb8534ba54a1686ec2b968f2edfcd": {
      "model_module": "jupyter-leaflet",
      "model_module_version": "^0.15.0",
      "model_name": "LeafletTileLayerModel",
      "state": {
       "_model_module_version": "^0.15.0",
       "_view_module_version": "^0.15.0",
       "attribution": "Tiles (C) Esri -- Source: Esri, i-cubed, USDA, USGS, AEX, GeoEye, Getmapping, Aerogrid, IGN, IGP, UPR-EGP, and the GIS User Community",
       "max_native_zoom": 18,
       "max_zoom": 22,
       "min_native_zoom": 0,
       "name": "Esri.WorldImagery",
       "options": [
        "attribution",
        "detect_retina",
        "max_native_zoom",
        "max_zoom",
        "min_native_zoom",
        "min_zoom",
        "no_wrap",
        "tile_size",
        "tms"
       ],
       "url": "https://server.arcgisonline.com/ArcGIS/rest/services/World_Imagery/MapServer/tile/{z}/{y}/{x}"
      }
     },
     "3716b122e03448ac91d4c682669e903a": {
      "model_module": "jupyter-leaflet",
      "model_module_version": "^0.15.0",
      "model_name": "LeafletTileLayerModel",
      "state": {
       "_model_module_version": "^0.15.0",
       "_view_module_version": "^0.15.0",
       "attribution": "Google Earth Engine",
       "max_native_zoom": 18,
       "max_zoom": 24,
       "min_native_zoom": 0,
       "name": "pine3",
       "options": [
        "attribution",
        "detect_retina",
        "max_native_zoom",
        "max_zoom",
        "min_native_zoom",
        "min_zoom",
        "no_wrap",
        "tile_size",
        "tms"
       ],
       "url": "https://earthengine.googleapis.com/v1alpha/projects/earthengine-legacy/maps/765d29040cb5b3522c370b8c5455c4ee-93096c583535e549e2cb219b69a0a7fb/tiles/{z}/{x}/{y}"
      }
     },
     "3795247b84774dd6a82d64a2da6a3c43": {
      "model_module": "@jupyter-widgets/base",
      "model_module_version": "1.2.0",
      "model_name": "LayoutModel",
      "state": {
       "height": "600px"
      }
     },
     "37b298ec88c04e36801c77a700193a28": {
      "model_module": "@jupyter-widgets/base",
      "model_module_version": "1.2.0",
      "model_name": "LayoutModel",
      "state": {}
     },
     "37b305f8789d43209e722d3a2d006a8e": {
      "model_module": "@jupyter-widgets/base",
      "model_module_version": "1.2.0",
      "model_name": "LayoutModel",
      "state": {
       "height": "28px",
       "padding": "0px 0px 0px 4px",
       "width": "28px"
      }
     },
     "392954a76c2f4561bd2ad216d795c9f7": {
      "model_module": "jupyter-leaflet",
      "model_module_version": "^0.15.0",
      "model_name": "LeafletTileLayerModel",
      "state": {
       "_model_module_version": "^0.15.0",
       "_view_module_version": "^0.15.0",
       "attribution": "&copy; <a href=\"http://www.gaode.com/\">Gaode.com</a>",
       "max_native_zoom": 18,
       "max_zoom": 19,
       "min_native_zoom": 0,
       "name": "Gaode.Normal",
       "options": [
        "attribution",
        "detect_retina",
        "max_native_zoom",
        "max_zoom",
        "min_native_zoom",
        "min_zoom",
        "no_wrap",
        "tile_size",
        "tms"
       ],
       "url": "http://webrd01.is.autonavi.com/appmaptile?lang=zh_cn&size=1&scale=1&style=7&x={x}&y={y}&z={z}"
      }
     },
     "3c028d3a29fa4cfb9ca3b0bca0b8a028": {
      "model_module": "jupyter-leaflet",
      "model_module_version": "^0.15.0",
      "model_name": "LeafletTileLayerModel",
      "state": {
       "_model_module_version": "^0.15.0",
       "_view_module_version": "^0.15.0",
       "attribution": "Justice Map",
       "max_native_zoom": 18,
       "max_zoom": 22,
       "min_native_zoom": 0,
       "name": "JusticeMap.black",
       "options": [
        "attribution",
        "detect_retina",
        "max_native_zoom",
        "max_zoom",
        "min_native_zoom",
        "min_zoom",
        "no_wrap",
        "tile_size",
        "tms"
       ],
       "url": "https://www.justicemap.org/tile/county/black/{z}/{x}/{y}.png"
      }
     },
     "3c28d06b05234d0ba71f6a8adafbd3a4": {
      "model_module": "@jupyter-widgets/base",
      "model_module_version": "1.2.0",
      "model_name": "LayoutModel",
      "state": {}
     },
     "3c93be21651f4b2398aa14460cfd323c": {
      "model_module": "@jupyter-widgets/base",
      "model_module_version": "1.2.0",
      "model_name": "LayoutModel",
      "state": {
       "max_height": "250px",
       "max_width": "340px",
       "overflow": "scroll"
      }
     },
     "3e852467c97f41fb83da6b78124c6f8f": {
      "model_module": "@jupyter-widgets/controls",
      "model_module_version": "1.5.0",
      "model_name": "BoxModel",
      "state": {
       "children": [
        "IPY_MODEL_faf7d5717b9d468eb84f6b020257d220"
       ],
       "layout": "IPY_MODEL_6eec5ea7f40b4154b4ec35b9d119f28d"
      }
     },
     "3ea9797ddaff495dbb03ddf85f7a356e": {
      "model_module": "jupyter-leaflet",
      "model_module_version": "^0.15.0",
      "model_name": "LeafletTileLayerModel",
      "state": {
       "_model_module_version": "^0.15.0",
       "_view_module_version": "^0.15.0",
       "attribution": "CyclOSM | Map data: (C) OpenStreetMap contributors",
       "max_native_zoom": 18,
       "max_zoom": 20,
       "min_native_zoom": 0,
       "name": "CyclOSM",
       "options": [
        "attribution",
        "detect_retina",
        "max_native_zoom",
        "max_zoom",
        "min_native_zoom",
        "min_zoom",
        "no_wrap",
        "tile_size",
        "tms"
       ],
       "url": "https://a.tile-cyclosm.openstreetmap.fr/cyclosm/{z}/{x}/{y}.png"
      }
     },
     "3f870ea439fa4eeb92a5257bf0739a19": {
      "model_module": "jupyter-leaflet",
      "model_module_version": "^0.15.0",
      "model_name": "LeafletDrawControlModel",
      "state": {
       "_model_module_version": "^0.15.0",
       "_view_module_version": "^0.15.0",
       "circle": {
        "shapeOptions": {
         "color": "#3388ff"
        }
       },
       "marker": {
        "shapeOptions": {
         "color": "#3388ff"
        }
       },
       "options": [
        "position"
       ],
       "rectangle": {
        "shapeOptions": {
         "color": "#3388ff"
        }
       }
      }
     },
     "41342eb7ed154276ad681516a53ef9cc": {
      "model_module": "jupyter-leaflet",
      "model_module_version": "^0.15.0",
      "model_name": "LeafletTileLayerModel",
      "state": {
       "_model_module_version": "^0.15.0",
       "_view_module_version": "^0.15.0",
       "attribution": "(C) Stadia Maps, (C) OpenMapTiles (C) OpenStreetMap contributors",
       "max_native_zoom": 18,
       "max_zoom": 20,
       "min_native_zoom": 0,
       "name": "Stadia.AlidadeSmooth",
       "options": [
        "attribution",
        "detect_retina",
        "max_native_zoom",
        "max_zoom",
        "min_native_zoom",
        "min_zoom",
        "no_wrap",
        "tile_size",
        "tms"
       ],
       "url": "https://tiles.stadiamaps.com/tiles/alidade_smooth/{z}/{x}/{y}.png"
      }
     },
     "423ca940182442f991b38b7d26251f66": {
      "model_module": "@jupyter-widgets/base",
      "model_module_version": "1.2.0",
      "model_name": "LayoutModel",
      "state": {
       "height": "28px",
       "padding": "0px 0px 0px 4px",
       "width": "28px"
      }
     },
     "425d0fd7ebbb47ce8c72b43d7b8c4873": {
      "model_module": "jupyter-leaflet",
      "model_module_version": "^0.15.0",
      "model_name": "LeafletTileLayerModel",
      "state": {
       "_model_module_version": "^0.15.0",
       "_view_module_version": "^0.15.0",
       "attribution": "Google",
       "max_native_zoom": 18,
       "max_zoom": 22,
       "min_native_zoom": 0,
       "name": "Google Maps",
       "options": [
        "attribution",
        "detect_retina",
        "max_native_zoom",
        "max_zoom",
        "min_native_zoom",
        "min_zoom",
        "no_wrap",
        "tile_size",
        "tms"
       ],
       "url": "https://mt1.google.com/vt/lyrs=m&x={x}&y={y}&z={z}"
      }
     },
     "42bbdcf0cda5466c98593eeb76ff8cbf": {
      "model_module": "jupyter-leaflet",
      "model_module_version": "^0.15.0",
      "model_name": "LeafletTileLayerModel",
      "state": {
       "_model_module_version": "^0.15.0",
       "_view_module_version": "^0.15.0",
       "attribution": "Datenquelle: basemap.at",
       "max_native_zoom": 18,
       "max_zoom": 19,
       "min_native_zoom": 0,
       "name": "BasemapAT.grau",
       "options": [
        "attribution",
        "detect_retina",
        "max_native_zoom",
        "max_zoom",
        "min_native_zoom",
        "min_zoom",
        "no_wrap",
        "tile_size",
        "tms"
       ],
       "url": "https://maps.wien.gv.at/basemap/bmapgrau/normal/google3857/{z}/{y}/{x}.png"
      }
     },
     "4366f96973874e889d823611fd006783": {
      "model_module": "jupyter-leaflet",
      "model_module_version": "^0.15.0",
      "model_name": "LeafletAwesomeIconModel",
      "state": {
       "_model_module_version": "^0.15.0",
       "_view_module_version": "^0.15.0",
       "icon_color": "darkgreen",
       "marker_color": "green",
       "name": "check"
      }
     },
     "43c7e7a4fb1742e6bec7c9ff5a0523bb": {
      "model_module": "jupyter-leaflet",
      "model_module_version": "^0.15.0",
      "model_name": "LeafletSearchControlModel",
      "state": {
       "_model_module_version": "^0.15.0",
       "_view_module_version": "^0.15.0",
       "marker": "IPY_MODEL_7dff39a6d8b940a69d397b29c3fd8d02",
       "options": [
        "animate_location",
        "auto_collapse",
        "auto_type",
        "found_style",
        "jsonp_param",
        "position",
        "property_loc",
        "property_name",
        "url",
        "zoom"
       ],
       "url": "https://nominatim.openstreetmap.org/search?format=json&q={s}",
       "zoom": 5
      }
     },
     "4575f2f269044db2847bb256a7f076fe": {
      "model_module": "@jupyter-widgets/controls",
      "model_module_version": "1.5.0",
      "model_name": "DescriptionStyleModel",
      "state": {
       "description_width": ""
      }
     },
     "457c151af8be41a28f2040c00ec370be": {
      "model_module": "jupyter-leaflet",
      "model_module_version": "^0.15.0",
      "model_name": "LeafletTileLayerModel",
      "state": {
       "_model_module_version": "^0.15.0",
       "_view_module_version": "^0.15.0",
       "attribution": "Imagery provided by services from the Global Imagery Browse Services (GIBS), operated by the NASA/GSFC/Earth Science Data and Information System (ESDIS) with funding provided by NASA/HQ.",
       "max_native_zoom": 18,
       "max_zoom": 8,
       "min_native_zoom": 0,
       "name": "NASAGIBS.ModisTerraSnowCover",
       "options": [
        "attribution",
        "detect_retina",
        "max_native_zoom",
        "max_zoom",
        "min_native_zoom",
        "min_zoom",
        "no_wrap",
        "tile_size",
        "tms"
       ],
       "url": "https://map1.vis.earthdata.nasa.gov/wmts-webmerc/MODIS_Terra_NDSI_Snow_Cover/default//GoogleMapsCompatible_Level8/{z}/{y}/{x}.png"
      }
     },
     "4657f663df514d08a8ae6bfcf72fa8df": {
      "model_module": "@jupyter-widgets/base",
      "model_module_version": "1.2.0",
      "model_name": "LayoutModel",
      "state": {
       "max_width": "279px",
       "min_width": "279px"
      }
     },
     "4667900d849c45a59ea0f1a420821c68": {
      "model_module": "@jupyter-widgets/controls",
      "model_module_version": "1.5.0",
      "model_name": "DescriptionStyleModel",
      "state": {
       "description_width": ""
      }
     },
     "48f208e30e5649939f06f3a5cd6d5395": {
      "model_module": "@jupyter-widgets/controls",
      "model_module_version": "1.5.0",
      "model_name": "GridBoxModel",
      "state": {
       "children": [
        "IPY_MODEL_a7d458f085074d8e9030aec2ea3b6137",
        "IPY_MODEL_d10c97c6530b4156845c9f109054e999",
        "IPY_MODEL_d6aa2a87c40c4f4fba2e273dbc103287",
        "IPY_MODEL_5aeae2599f0f4ed196371d40afacc5f5",
        "IPY_MODEL_9aef9c045fea4bafafb03ed32c8d4728",
        "IPY_MODEL_1a968824bf124d3183e93d4cd9ed30e7",
        "IPY_MODEL_efe8edcab5554805985ee341e099cb40",
        "IPY_MODEL_b1b78aacc83846ae8bfde9edca98299d",
        "IPY_MODEL_25b0e0367d2540fcb647f384bfa705d0",
        "IPY_MODEL_1ce3bad53f6e4ebbbb274f4111718117",
        "IPY_MODEL_8f59373c7ee540dcbc9e83fea894dfe7",
        "IPY_MODEL_dfd1bf6b003a49bb9718010bf0f2e339",
        "IPY_MODEL_676ed118875741978bcca1a7ab843aa0",
        "IPY_MODEL_e3c99164de8648289558bd76b3d73ac7",
        "IPY_MODEL_b091fa6a73014719a9d7e07cec20cc7d",
        "IPY_MODEL_4dc6f40cffca4b658a723d70dd9f91d8",
        "IPY_MODEL_e6d20f155f044ad2ad404d19328f9150",
        "IPY_MODEL_b4080598e2d34ec0b33a89c70cd6dc92"
       ],
       "layout": "IPY_MODEL_cd28da9bc88f42ec9738638549f32965"
      }
     },
     "499f3cf11cd8404eb63c8b153a66ace9": {
      "model_module": "jupyter-leaflet",
      "model_module_version": "^0.15.0",
      "model_name": "LeafletTileLayerModel",
      "state": {
       "_model_module_version": "^0.15.0",
       "_view_module_version": "^0.15.0",
       "attribution": "(C) OpenStreetMap France | (C) OpenStreetMap contributors",
       "max_native_zoom": 18,
       "max_zoom": 20,
       "min_native_zoom": 0,
       "name": "OpenStreetMap.France",
       "options": [
        "attribution",
        "detect_retina",
        "max_native_zoom",
        "max_zoom",
        "min_native_zoom",
        "min_zoom",
        "no_wrap",
        "tile_size",
        "tms"
       ],
       "url": "https://a.tile.openstreetmap.fr/osmfr/{z}/{x}/{y}.png"
      }
     },
     "49c993d4960446879708e0c31c75f3c6": {
      "model_module": "@jupyter-widgets/base",
      "model_module_version": "1.2.0",
      "model_name": "LayoutModel",
      "state": {
       "width": "340px"
      }
     },
     "49cd94aa9f7044c59a88dfe036723df7": {
      "model_module": "jupyter-leaflet",
      "model_module_version": "^0.15.0",
      "model_name": "LeafletTileLayerModel",
      "state": {
       "_model_module_version": "^0.15.0",
       "_view_module_version": "^0.15.0",
       "attribution": "Datenquelle: basemap.at",
       "max_native_zoom": 18,
       "max_zoom": 19,
       "min_native_zoom": 0,
       "name": "BasemapAT.highdpi",
       "options": [
        "attribution",
        "detect_retina",
        "max_native_zoom",
        "max_zoom",
        "min_native_zoom",
        "min_zoom",
        "no_wrap",
        "tile_size",
        "tms"
       ],
       "url": "https://maps.wien.gv.at/basemap/bmaphidpi/normal/google3857/{z}/{y}/{x}.jpeg"
      }
     },
     "4a8176be55d44f5780143feae37b8db5": {
      "model_module": "jupyter-leaflet",
      "model_module_version": "^0.15.0",
      "model_name": "LeafletWidgetControlModel",
      "state": {
       "_model_module": "jupyter-leaflet",
       "_model_module_version": "^0.15.0",
       "_view_count": null,
       "_view_module": "jupyter-leaflet",
       "_view_module_version": "^0.15.0",
       "options": [
        "position",
        "transparent_bg"
       ],
       "position": "topright",
       "widget": "IPY_MODEL_8a671c715daa4779b5c6cbc7926948d5"
      }
     },
     "4bbcb80952534bf3a4f97c4eb66cf333": {
      "model_module": "@jupyter-widgets/controls",
      "model_module_version": "1.5.0",
      "model_name": "TextModel",
      "state": {
       "layout": "IPY_MODEL_49c993d4960446879708e0c31c75f3c6",
       "placeholder": "Search by place name or address",
       "style": "IPY_MODEL_db33b3f3e569478f87a3825ac914b32b"
      }
     },
     "4c273c5350154d78a73049abadb3102f": {
      "model_module": "jupyter-leaflet",
      "model_module_version": "^0.15.0",
      "model_name": "LeafletTileLayerModel",
      "state": {
       "_model_module_version": "^0.15.0",
       "_view_module_version": "^0.15.0",
       "attribution": "OpenStreetMap",
       "max_native_zoom": 18,
       "max_zoom": 22,
       "min_native_zoom": 0,
       "name": "OpenStreetMap",
       "options": [
        "attribution",
        "detect_retina",
        "max_native_zoom",
        "max_zoom",
        "min_native_zoom",
        "min_zoom",
        "no_wrap",
        "tile_size",
        "tms"
       ]
      }
     },
     "4cb2dff40c6f4eb595c6fd480b4aa476": {
      "model_module": "jupyter-leaflet",
      "model_module_version": "^0.15.0",
      "model_name": "LeafletTileLayerModel",
      "state": {
       "_model_module_version": "^0.15.0",
       "_view_module_version": "^0.15.0",
       "attribution": "Map tiles by Stamen Design, CC BY 3.0 -- Map data (C) OpenStreetMap contributors",
       "max_native_zoom": 18,
       "max_zoom": 20,
       "min_native_zoom": 0,
       "name": "Stamen.TonerHybrid",
       "options": [
        "attribution",
        "detect_retina",
        "max_native_zoom",
        "max_zoom",
        "min_native_zoom",
        "min_zoom",
        "no_wrap",
        "tile_size",
        "tms"
       ],
       "url": "https://stamen-tiles-a.a.ssl.fastly.net/toner-hybrid/{z}/{x}/{y}.png"
      }
     },
     "4cbedc7b41bb4b2482532b30b6d2b67e": {
      "model_module": "@jupyter-widgets/controls",
      "model_module_version": "1.5.0",
      "model_name": "TextModel",
      "state": {
       "layout": "IPY_MODEL_5fafc7cb2b374559845daacd00ff9299",
       "placeholder": "output filename",
       "style": "IPY_MODEL_b7fb5d9e2b3a4d05a56cf4df22c39a28",
       "value": "my_map.html"
      }
     },
     "4cc6e13ef18048e389ba5d5f7ea17585": {
      "model_module": "jupyter-leaflet",
      "model_module_version": "^0.15.0",
      "model_name": "LeafletTileLayerModel",
      "state": {
       "_model_module_version": "^0.15.0",
       "_view_module_version": "^0.15.0",
       "attribution": "Tiles courtesy of OpenStreetMap Sweden -- Map data (C) OpenStreetMap contributors",
       "max_native_zoom": 18,
       "max_zoom": 20,
       "min_native_zoom": 0,
       "name": "Hydda.RoadsAndLabels",
       "options": [
        "attribution",
        "detect_retina",
        "max_native_zoom",
        "max_zoom",
        "min_native_zoom",
        "min_zoom",
        "no_wrap",
        "tile_size",
        "tms"
       ],
       "url": "https://a.tile.openstreetmap.se/hydda/roads_and_labels/{z}/{x}/{y}.png"
      }
     },
     "4cd49dd9687f4d5eab1dec0b77251bcd": {
      "model_module": "@jupyter-widgets/controls",
      "model_module_version": "1.5.0",
      "model_name": "ButtonStyleModel",
      "state": {}
     },
     "4dc6f40cffca4b658a723d70dd9f91d8": {
      "model_module": "@jupyter-widgets/controls",
      "model_module_version": "1.5.0",
      "model_name": "ToggleButtonModel",
      "state": {
       "button_style": "primary",
       "icon": "info-circle",
       "layout": "IPY_MODEL_809b9b9724b844b482ec8821a60f3a2a",
       "style": "IPY_MODEL_ad16aecbf9ee4c2a8edbd36330db11e1",
       "tooltip": "Get COG/STAC pixel value"
      }
     },
     "4ddb2e6169774a7ea80585ccceadbe97": {
      "model_module": "@jupyter-widgets/controls",
      "model_module_version": "1.5.0",
      "model_name": "ToggleButtonModel",
      "state": {
       "button_style": "primary",
       "icon": "adjust",
       "layout": "IPY_MODEL_811a22f16c464dee84d24b97ba9cedef",
       "style": "IPY_MODEL_b370063b10ae4e61a2e73d2ffa56c518",
       "tooltip": "Planet imagery"
      }
     },
     "4e687ae0ea764971b278e74ab53b2d07": {
      "model_module": "jupyter-leaflet",
      "model_module_version": "^0.15.0",
      "model_name": "LeafletTileLayerModel",
      "state": {
       "_model_module_version": "^0.15.0",
       "_view_module_version": "^0.15.0",
       "attribution": "(C) Stadia Maps, (C) OpenMapTiles (C) OpenStreetMap contributors",
       "max_native_zoom": 18,
       "max_zoom": 20,
       "min_native_zoom": 0,
       "name": "Stadia.OSMBright",
       "options": [
        "attribution",
        "detect_retina",
        "max_native_zoom",
        "max_zoom",
        "min_native_zoom",
        "min_zoom",
        "no_wrap",
        "tile_size",
        "tms"
       ],
       "url": "https://tiles.stadiamaps.com/tiles/osm_bright/{z}/{x}/{y}.png"
      }
     },
     "4ea2987c8ddf4ca592a86e9874390305": {
      "model_module": "@jupyter-widgets/controls",
      "model_module_version": "1.5.0",
      "model_name": "ToggleButtonsStyleModel",
      "state": {
       "button_width": "110px",
       "description_width": ""
      }
     },
     "4ff36ad3c6104c82ad704e82333a098f": {
      "model_module": "@jupyter-widgets/base",
      "model_module_version": "1.2.0",
      "model_name": "LayoutModel",
      "state": {}
     },
     "511d6611a1754cd8ab4f4f48075e2b36": {
      "model_module": "jupyter-leaflet",
      "model_module_version": "^0.15.0",
      "model_name": "LeafletTileLayerModel",
      "state": {
       "_model_module_version": "^0.15.0",
       "_view_module_version": "^0.15.0",
       "attribution": "Tiles courtesy of the U.S. Geological Survey",
       "max_native_zoom": 18,
       "max_zoom": 20,
       "min_native_zoom": 0,
       "name": "USGS.USImagery",
       "options": [
        "attribution",
        "detect_retina",
        "max_native_zoom",
        "max_zoom",
        "min_native_zoom",
        "min_zoom",
        "no_wrap",
        "tile_size",
        "tms"
       ],
       "url": "https://basemap.nationalmap.gov/arcgis/rest/services/USGSImageryOnly/MapServer/tile/{z}/{y}/{x}"
      }
     },
     "519e94f1f97e4306b8a1c0740415067c": {
      "model_module": "@jupyter-widgets/controls",
      "model_module_version": "1.5.0",
      "model_name": "VBoxModel",
      "state": {
       "children": [
        "IPY_MODEL_837d450df2154a91bbfc33c9ea0a81d5",
        "IPY_MODEL_4bbcb80952534bf3a4f97c4eb66cf333"
       ],
       "layout": "IPY_MODEL_61bd4fcfc0ad4b138aabb24345bdc4b5"
      }
     },
     "51d642b449c04f10a02f11324246c0a5": {
      "model_module": "jupyter-leaflet",
      "model_module_version": "^0.15.0",
      "model_name": "LeafletAttributionControlModel",
      "state": {
       "_model_module_version": "^0.15.0",
       "_view_module_version": "^0.15.0",
       "options": [
        "position",
        "prefix"
       ],
       "position": "bottomright",
       "prefix": "ipyleaflet"
      }
     },
     "5205e290bd8445c5b2fe1dafc631cfde": {
      "model_module": "@jupyter-widgets/base",
      "model_module_version": "1.2.0",
      "model_name": "LayoutModel",
      "state": {
       "height": "auto",
       "padding": "0px 0px 0px 4px",
       "width": "auto"
      }
     },
     "525e9ae1faf44f209c07468e744f1ff9": {
      "model_module": "@jupyter-widgets/controls",
      "model_module_version": "1.5.0",
      "model_name": "DescriptionStyleModel",
      "state": {
       "description_width": ""
      }
     },
     "52691da6fa2549ea8a53e43027b4fecb": {
      "model_module": "@jupyter-widgets/base",
      "model_module_version": "1.2.0",
      "model_name": "LayoutModel",
      "state": {
       "max_height": "250px",
       "max_width": "340px",
       "overflow": "scroll"
      }
     },
     "52a82508914c45f1bbd2da6bfc503854": {
      "model_module": "jupyter-leaflet",
      "model_module_version": "^0.15.0",
      "model_name": "LeafletTileLayerModel",
      "state": {
       "_model_module_version": "^0.15.0",
       "_view_module_version": "^0.15.0",
       "attribution": "Map data: (C) OpenStreetMap contributors | Map style: (C) waymarkedtrails.org (CC-BY-SA)",
       "max_native_zoom": 18,
       "min_native_zoom": 0,
       "name": "WaymarkedTrails.slopes",
       "options": [
        "attribution",
        "detect_retina",
        "max_native_zoom",
        "max_zoom",
        "min_native_zoom",
        "min_zoom",
        "no_wrap",
        "tile_size",
        "tms"
       ],
       "url": "https://tile.waymarkedtrails.org/slopes/{z}/{x}/{y}.png"
      }
     },
     "52b77938a1a042c6a3aa34d16c2a9f4e": {
      "model_module": "jupyter-leaflet",
      "model_module_version": "^0.15.0",
      "model_name": "LeafletTileLayerModel",
      "state": {
       "_model_module_version": "^0.15.0",
       "_view_module_version": "^0.15.0",
       "attribution": "Tiles courtesy of OpenStreetMap Sweden -- Map data (C) OpenStreetMap contributors",
       "max_native_zoom": 18,
       "max_zoom": 20,
       "min_native_zoom": 0,
       "name": "Hydda.Full",
       "options": [
        "attribution",
        "detect_retina",
        "max_native_zoom",
        "max_zoom",
        "min_native_zoom",
        "min_zoom",
        "no_wrap",
        "tile_size",
        "tms"
       ],
       "url": "https://a.tile.openstreetmap.se/hydda/full/{z}/{x}/{y}.png"
      }
     },
     "52fa5606587148448e2ec30f71013080": {
      "model_module": "jupyter-leaflet",
      "model_module_version": "^0.15.0",
      "model_name": "LeafletScaleControlModel",
      "state": {
       "_model_module_version": "^0.15.0",
       "_view_module_version": "^0.15.0",
       "imperial": true,
       "max_width": 100,
       "metric": true,
       "options": [
        "imperial",
        "max_width",
        "metric",
        "position",
        "update_when_idle"
       ],
       "position": "bottomleft",
       "update_when_idle": false
      }
     },
     "5391f978b538445b88989f6ab66ede22": {
      "model_module": "@jupyter-widgets/controls",
      "model_module_version": "1.5.0",
      "model_name": "DescriptionStyleModel",
      "state": {
       "description_width": ""
      }
     },
     "5410e543db4f49ffbe71e708cc750f17": {
      "model_module": "jupyter-leaflet",
      "model_module_version": "^0.15.0",
      "model_name": "LeafletTileLayerModel",
      "state": {
       "_model_module_version": "^0.15.0",
       "_view_module_version": "^0.15.0",
       "attribution": "Map tiles by Stamen Design, CC BY 3.0 -- Map data (C) OpenStreetMap contributors",
       "max_native_zoom": 18,
       "max_zoom": 20,
       "min_native_zoom": 0,
       "name": "Stamen.TonerLines",
       "options": [
        "attribution",
        "detect_retina",
        "max_native_zoom",
        "max_zoom",
        "min_native_zoom",
        "min_zoom",
        "no_wrap",
        "tile_size",
        "tms"
       ],
       "url": "https://stamen-tiles-a.a.ssl.fastly.net/toner-lines/{z}/{x}/{y}.png"
      }
     },
     "547d50d271f3415691fbffe3a85a16ee": {
      "model_module": "@jupyter-widgets/controls",
      "model_module_version": "1.5.0",
      "model_name": "ToggleButtonModel",
      "state": {
       "button_style": "primary",
       "icon": "info",
       "layout": "IPY_MODEL_84625b3a2d6748398567495482c645a5",
       "style": "IPY_MODEL_4667900d849c45a59ea0f1a420821c68",
       "tooltip": "Inspector"
      }
     },
     "54c1727ea29c439da8ae45b097435c7d": {
      "model_module": "@jupyter-widgets/controls",
      "model_module_version": "1.5.0",
      "model_name": "DescriptionStyleModel",
      "state": {
       "description_width": ""
      }
     },
     "54f8341c4b4a469a84daa77eb8cf54c1": {
      "model_module": "jupyter-leaflet",
      "model_module_version": "^0.15.0",
      "model_name": "LeafletTileLayerModel",
      "state": {
       "_model_module_version": "^0.15.0",
       "_view_module_version": "^0.15.0",
       "attribution": "National Library of Scotland Historic Maps",
       "max_native_zoom": 18,
       "min_native_zoom": 0,
       "name": "NLS",
       "options": [
        "attribution",
        "detect_retina",
        "max_native_zoom",
        "max_zoom",
        "min_native_zoom",
        "min_zoom",
        "no_wrap",
        "tile_size",
        "tms"
       ],
       "url": "https://nls-0.tileserver.com/nls/{z}/{x}/{y}.jpg"
      }
     },
     "55782c3bcc904292a3824da7e1a458a7": {
      "model_module": "@jupyter-widgets/output",
      "model_module_version": "1.0.0",
      "model_name": "OutputModel",
      "state": {
       "layout": "IPY_MODEL_52691da6fa2549ea8a53e43027b4fecb"
      }
     },
     "56013382896345069b311b9a1cf43833": {
      "model_module": "@here/map-widget-for-jupyter",
      "model_module_version": "^1.1.3",
      "model_name": "DefaultLayersModel",
      "state": {
       "_model_module": "@here/map-widget-for-jupyter",
       "_model_module_version": "^1.1.3",
       "_view_count": null,
       "_view_module": "@here/map-widget-for-jupyter",
       "_view_module_version": "^1.1.3",
       "ppi": null
      }
     },
     "58c2f7dd848d4ed7a22ee3a38e88afae": {
      "model_module": "@jupyter-widgets/base",
      "model_module_version": "1.2.0",
      "model_name": "LayoutModel",
      "state": {}
     },
     "591d62fe6f044ee6bbf7de54265eb679": {
      "model_module": "jupyter-leaflet",
      "model_module_version": "^0.15.0",
      "model_name": "LeafletWidgetControlModel",
      "state": {
       "_model_module": "jupyter-leaflet",
       "_model_module_version": "^0.15.0",
       "_view_count": null,
       "_view_module": "jupyter-leaflet",
       "_view_module_version": "^0.15.0",
       "options": [
        "position",
        "transparent_bg"
       ],
       "position": "topright",
       "widget": "IPY_MODEL_d4cb5257cd1d4b8190da2e5b069d28c8"
      }
     },
     "595f80c6425141a7813b93e2ec7c3050": {
      "model_module": "@jupyter-widgets/base",
      "model_module_version": "1.2.0",
      "model_name": "LayoutModel",
      "state": {
       "height": "auto",
       "padding": "0px 0px 0px 4px",
       "width": "auto"
      }
     },
     "5a425bdaaba149adb25df1d455995fff": {
      "model_module": "jupyter-leaflet",
      "model_module_version": "^0.15.0",
      "model_name": "LeafletWidgetControlModel",
      "state": {
       "_model_module": "jupyter-leaflet",
       "_model_module_version": "^0.15.0",
       "_view_count": null,
       "_view_module": "jupyter-leaflet",
       "_view_module_version": "^0.15.0",
       "options": [
        "position",
        "transparent_bg"
       ],
       "position": "topleft",
       "widget": "IPY_MODEL_2eb4de08689542238fff1147040db0c7"
      }
     },
     "5aeae2599f0f4ed196371d40afacc5f5": {
      "model_module": "@jupyter-widgets/controls",
      "model_module_version": "1.5.0",
      "model_name": "ToggleButtonModel",
      "state": {
       "button_style": "primary",
       "icon": "eraser",
       "layout": "IPY_MODEL_742f2e5a53a04964a9cc02fdd8ad7a90",
       "style": "IPY_MODEL_9aa4d1589ac341e8a79fbd7549ba9c7c",
       "tooltip": "Remove all drawn features"
      }
     },
     "5b1920634b264c0b973b2cf110d39963": {
      "model_module": "ipyevents",
      "model_module_version": "2.0.1",
      "model_name": "EventModel",
      "state": {
       "_supported_key_events": [
        "keydown",
        "keyup"
       ],
       "_supported_mouse_events": [
        "click",
        "auxclick",
        "dblclick",
        "mouseenter",
        "mouseleave",
        "mousedown",
        "mouseup",
        "mousemove",
        "wheel",
        "contextmenu",
        "dragstart",
        "drag",
        "dragend",
        "dragenter",
        "dragover",
        "dragleave",
        "drop"
       ],
       "_supported_touch_events": [
        "touchstart",
        "touchend",
        "touchmove",
        "touchcancel"
       ],
       "_view_module": "@jupyter-widgets/controls",
       "_view_module_version": "1.5.0",
       "source": "IPY_MODEL_29e41a68b3c647d8ba3317eb4c2ffb45",
       "throttle_or_debounce": "",
       "watched_events": [
        "mouseenter",
        "mouseleave"
       ],
       "xy_coordinate_system": ""
      }
     },
     "5b59c3fbc69f47bc87411938e3eaf647": {
      "model_module": "@jupyter-widgets/controls",
      "model_module_version": "1.5.0",
      "model_name": "HTMLModel",
      "state": {
       "layout": "IPY_MODEL_bf97a9473499491f9ec5ec79b35dcae7",
       "style": "IPY_MODEL_052af4d1b18a405b97cc1936f809f358"
      }
     },
     "5b85fe601b034c4aac1eb675ef8de3de": {
      "model_module": "@jupyter-widgets/controls",
      "model_module_version": "1.5.0",
      "model_name": "DescriptionStyleModel",
      "state": {
       "description_width": ""
      }
     },
     "5b8a912bd1934260a2ffd42176c8afc4": {
      "model_module": "@jupyter-widgets/base",
      "model_module_version": "1.2.0",
      "model_name": "LayoutModel",
      "state": {
       "border": "1px solid black"
      }
     },
     "5bd77655eba24f2684e1d581f1fb601f": {
      "model_module": "jupyter-leaflet",
      "model_module_version": "^0.15.0",
      "model_name": "LeafletTileLayerModel",
      "state": {
       "_model_module_version": "^0.15.0",
       "_view_module_version": "^0.15.0",
       "attribution": "Imagery provided by services from the Global Imagery Browse Services (GIBS), operated by the NASA/GSFC/Earth Science Data and Information System (ESDIS) with funding provided by NASA/HQ.",
       "max_native_zoom": 18,
       "max_zoom": 7,
       "min_native_zoom": 0,
       "name": "NASAGIBS.ModisTerraChlorophyll",
       "options": [
        "attribution",
        "detect_retina",
        "max_native_zoom",
        "max_zoom",
        "min_native_zoom",
        "min_zoom",
        "no_wrap",
        "tile_size",
        "tms"
       ],
       "url": "https://map1.vis.earthdata.nasa.gov/wmts-webmerc/MODIS_Terra_Chlorophyll_A/default//GoogleMapsCompatible_Level7/{z}/{y}/{x}.png"
      }
     },
     "5ca297128a0846418927ebafd65d11f6": {
      "model_module": "jupyter-leaflet",
      "model_module_version": "^0.15.0",
      "model_name": "LeafletTileLayerModel",
      "state": {
       "_model_module_version": "^0.15.0",
       "_view_module_version": "^0.15.0",
       "attribution": "Imagery provided by services from the Global Imagery Browse Services (GIBS), operated by the NASA/GSFC/Earth Science Data and Information System (ESDIS) with funding provided by NASA/HQ.",
       "max_native_zoom": 18,
       "max_zoom": 7,
       "min_native_zoom": 0,
       "name": "NASAGIBS.ModisTerraLSTDay",
       "options": [
        "attribution",
        "detect_retina",
        "max_native_zoom",
        "max_zoom",
        "min_native_zoom",
        "min_zoom",
        "no_wrap",
        "tile_size",
        "tms"
       ],
       "url": "https://map1.vis.earthdata.nasa.gov/wmts-webmerc/MODIS_Terra_Land_Surface_Temp_Day/default//GoogleMapsCompatible_Level7/{z}/{y}/{x}.png"
      }
     },
     "5cd078cabe974e6bb60f417afff05e89": {
      "model_module": "@jupyter-widgets/base",
      "model_module_version": "1.2.0",
      "model_name": "LayoutModel",
      "state": {}
     },
     "5ce021866d344312bd1bfd106b2aed49": {
      "model_module": "@jupyter-widgets/controls",
      "model_module_version": "1.5.0",
      "model_name": "DescriptionStyleModel",
      "state": {
       "description_width": ""
      }
     },
     "5d843cd505434c209d558bc47702cf5f": {
      "model_module": "jupyter-leaflet",
      "model_module_version": "^0.15.0",
      "model_name": "LeafletTileLayerModel",
      "state": {
       "_model_module_version": "^0.15.0",
       "_view_module_version": "^0.15.0",
       "attribution": "(C) OpenStreetMap contributors, vizualization CC-By-SA 2.0 Freemap.sk",
       "max_native_zoom": 18,
       "max_zoom": 16,
       "min_native_zoom": 0,
       "name": "FreeMapSK",
       "options": [
        "attribution",
        "detect_retina",
        "max_native_zoom",
        "max_zoom",
        "min_native_zoom",
        "min_zoom",
        "no_wrap",
        "tile_size",
        "tms"
       ],
       "url": "https://a.freemap.sk/T/{z}/{x}/{y}.jpeg"
      }
     },
     "5fa8a6441e33473d88d089136eb3eada": {
      "model_module": "jupyter-leaflet",
      "model_module_version": "^0.15.0",
      "model_name": "LeafletTileLayerModel",
      "state": {
       "_model_module_version": "^0.15.0",
       "_view_module_version": "^0.15.0",
       "attribution": "Map tiles by <a href=\"https://labs.strava.com/heatmap\">Strava 2021</a>",
       "max_native_zoom": 18,
       "max_zoom": 15,
       "min_native_zoom": 0,
       "name": "Strava.Run",
       "options": [
        "attribution",
        "detect_retina",
        "max_native_zoom",
        "max_zoom",
        "min_native_zoom",
        "min_zoom",
        "no_wrap",
        "tile_size",
        "tms"
       ],
       "url": "https://heatmap-external-a.strava.com/tiles/run/bluered/{z}/{x}/{y}.png"
      }
     },
     "5fafc7cb2b374559845daacd00ff9299": {
      "model_module": "@jupyter-widgets/base",
      "model_module_version": "1.2.0",
      "model_name": "LayoutModel",
      "state": {
       "grid_area": "filename",
       "width": "auto"
      }
     },
     "5fc0d08d9de5469591aa79a97f45d81b": {
      "model_module": "jupyter-leaflet",
      "model_module_version": "^0.15.0",
      "model_name": "LeafletTileLayerModel",
      "state": {
       "_model_module_version": "^0.15.0",
       "_view_module_version": "^0.15.0",
       "attribution": "Map tiles by Stamen Design, CC BY 3.0 -- Map data (C) OpenStreetMap contributors",
       "max_native_zoom": 18,
       "max_zoom": 16,
       "min_native_zoom": 0,
       "name": "Stamen.Watercolor",
       "options": [
        "attribution",
        "detect_retina",
        "max_native_zoom",
        "max_zoom",
        "min_native_zoom",
        "min_zoom",
        "no_wrap",
        "tile_size",
        "tms"
       ],
       "url": "https://stamen-tiles-a.a.ssl.fastly.net/watercolor/{z}/{x}/{y}.jpg"
      }
     },
     "609cdcc31bba4ae688d379fa4d451da7": {
      "model_module": "jupyter-leaflet",
      "model_module_version": "^0.15.0",
      "model_name": "LeafletTileLayerModel",
      "state": {
       "_model_module_version": "^0.15.0",
       "_view_module_version": "^0.15.0",
       "attribution": "(C) OpenStreetMap contributors (C) CARTO",
       "max_native_zoom": 18,
       "max_zoom": 20,
       "min_native_zoom": 0,
       "name": "CartoDB.VoyagerLabelsUnder",
       "options": [
        "attribution",
        "detect_retina",
        "max_native_zoom",
        "max_zoom",
        "min_native_zoom",
        "min_zoom",
        "no_wrap",
        "tile_size",
        "tms"
       ],
       "url": "https://a.basemaps.cartocdn.com/rastertiles/voyager_labels_under/{z}/{x}/{y}.png"
      }
     },
     "6135d2e90dba402f8c2d6b1b9257bd3a": {
      "model_module": "jupyter-leaflet",
      "model_module_version": "^0.15.0",
      "model_name": "LeafletWidgetControlModel",
      "state": {
       "_model_module": "jupyter-leaflet",
       "_model_module_version": "^0.15.0",
       "_view_count": null,
       "_view_module": "jupyter-leaflet",
       "_view_module_version": "^0.15.0",
       "options": [
        "position",
        "transparent_bg"
       ],
       "position": "topright",
       "widget": "IPY_MODEL_1dff7da63430433083991d1753af7a82"
      }
     },
     "613816241d1c476897c9e29d13a8ada9": {
      "model_module": "@jupyter-widgets/base",
      "model_module_version": "1.2.0",
      "model_name": "LayoutModel",
      "state": {}
     },
     "618a3a489064455aa4cbcdf8cefa324e": {
      "model_module": "@jupyter-widgets/controls",
      "model_module_version": "1.5.0",
      "model_name": "ButtonModel",
      "state": {
       "button_style": "primary",
       "description": "import",
       "layout": "IPY_MODEL_cc148447c3cd4ac78f4436607ca1de91",
       "style": "IPY_MODEL_ad516a7b4ef249f8aef3c9f7d993b622",
       "tooltip": "Click to import the selected asset"
      }
     },
     "61b84c5f720948ec8624d19c43419b3d": {
      "model_module": "@jupyter-widgets/controls",
      "model_module_version": "1.5.0",
      "model_name": "SelectModel",
      "state": {
       "_options_labels": [
        "📁 ..",
        "📁 0 Git commands",
        "📁 2020 Term Projects",
        "📁 Lab 1 figures",
        "📁 Lab 3 figures",
        "📁 asset_upload",
        "0 Git commands for HydroShare.ipynb",
        "0 Git commands for HydroShare.pdf",
        "1 Installing Google Earth Engine in HydroShare.ipynb",
        "Google Drive installation in HydroShare DEPRECATED.ipynb",
        "LICENSE",
        "Lab 0 Getting to know EarthEngine (Part 1).ipynb",
        "Lab 0 Getting to know EarthEngine (Part 2).ipynb",
        "Lab 0 Getting to know EarthEngine (Part 3).ipynb",
        "Lab 0 Getting to know EarthEngine (Part 4).ipynb",
        "Lab 1 Intro to Remote Sensing and EE.ipynb",
        "Lab 2 Characteristics of remotely sensed data.ipynb",
        "Lab 3 Spectral Indices and Transformations.ipynb",
        "Lab 4 Supervised regression.ipynb",
        "Lab 4 Supervised regression_2021.ipynb",
        "Lab 5 Supervised classification.ipynb",
        "Lab 5 Supervised classification_2021.ipynb",
        "Lab 6 Time Series.ipynb",
        "Lab 6 Time-Series_2021-Copy1.ipynb",
        "Lab 6 Time-Series_2021.ipynb",
        "Lab 7 Drone Crop Analysis.ipynb",
        "README.md",
        "Using Earth Engine in HydroShare DEPRECATED.ipynb",
        "old Lab 3 Spectral Indices and Transformations.ipynb"
       ],
       "index": null,
       "layout": "IPY_MODEL_25b54a4d623641eb83f3fa4e0f83657b",
       "rows": 8,
       "style": "IPY_MODEL_fcdd868e37964c2cb1320e8828fa9da0"
      }
     },
     "61bd4fcfc0ad4b138aabb24345bdc4b5": {
      "model_module": "@jupyter-widgets/base",
      "model_module_version": "1.2.0",
      "model_name": "LayoutModel",
      "state": {}
     },
     "6208014a48db4bef985354c05a227612": {
      "model_module": "jupyter-leaflet",
      "model_module_version": "^0.15.0",
      "model_name": "LeafletTileLayerModel",
      "state": {
       "_model_module_version": "^0.15.0",
       "_view_module_version": "^0.15.0",
       "attribution": "Tiles (C) Esri -- Source: Esri",
       "max_native_zoom": 18,
       "max_zoom": 13,
       "min_native_zoom": 0,
       "name": "Esri.WorldShadedRelief",
       "options": [
        "attribution",
        "detect_retina",
        "max_native_zoom",
        "max_zoom",
        "min_native_zoom",
        "min_zoom",
        "no_wrap",
        "tile_size",
        "tms"
       ],
       "url": "https://server.arcgisonline.com/ArcGIS/rest/services/World_Shaded_Relief/MapServer/tile/{z}/{y}/{x}"
      }
     },
     "628e281a2a344499b8646b0a3b6e34eb": {
      "model_module": "@jupyter-widgets/controls",
      "model_module_version": "1.5.0",
      "model_name": "DropdownModel",
      "state": {
       "index": null,
       "layout": "IPY_MODEL_4657f663df514d08a8ae6bfcf72fa8df",
       "style": "IPY_MODEL_282f9a28b3ef442fb2664b0d797a97be"
      }
     },
     "62cab0fbfe7f4dddab85e0e4c505e2c0": {
      "model_module": "jupyter-leaflet",
      "model_module_version": "^0.15.0",
      "model_name": "LeafletTileLayerModel",
      "state": {
       "_model_module_version": "^0.15.0",
       "_view_module_version": "^0.15.0",
       "attribution": "Map tiles by Stamen Design, CC BY 3.0 -- Map data (C) OpenStreetMap contributors",
       "max_native_zoom": 18,
       "max_zoom": 20,
       "min_native_zoom": 0,
       "name": "Stamen.TonerLite",
       "options": [
        "attribution",
        "detect_retina",
        "max_native_zoom",
        "max_zoom",
        "min_native_zoom",
        "min_zoom",
        "no_wrap",
        "tile_size",
        "tms"
       ],
       "url": "https://stamen-tiles-a.a.ssl.fastly.net/toner-lite/{z}/{x}/{y}.png"
      }
     },
     "6308b322a63546c88ed7a8f39603fb95": {
      "model_module": "jupyter-leaflet",
      "model_module_version": "^0.15.0",
      "model_name": "LeafletTileLayerModel",
      "state": {
       "_model_module_version": "^0.15.0",
       "_view_module_version": "^0.15.0",
       "attribution": "Imagery provided by services from the Global Imagery Browse Services (GIBS), operated by the NASA/GSFC/Earth Science Data and Information System (<a href=\"https://earthdata.nasa.gov\">ESDIS</a>) with funding provided by NASA/HQ.",
       "max_native_zoom": 18,
       "max_zoom": 5,
       "min_native_zoom": 0,
       "name": "NASAGIBS.BlueMarble3031",
       "options": [
        "attribution",
        "detect_retina",
        "max_native_zoom",
        "max_zoom",
        "min_native_zoom",
        "min_zoom",
        "no_wrap",
        "tile_size",
        "tms"
       ],
       "url": "https://gibs.earthdata.nasa.gov/wmts/epsg3031/best/BlueMarble_NextGeneration/default/EPSG3031_500m/{z}/{y}/{x}.jpeg"
      }
     },
     "6344a63fd00c48b8bb14bd091cdab133": {
      "model_module": "@jupyter-widgets/controls",
      "model_module_version": "1.5.0",
      "model_name": "ButtonStyleModel",
      "state": {}
     },
     "6418e0ba926242999cb3824e36879962": {
      "model_module": "jupyter-leaflet",
      "model_module_version": "^0.15.0",
      "model_name": "LeafletTileLayerModel",
      "state": {
       "_model_module_version": "^0.15.0",
       "_view_module_version": "^0.15.0",
       "attribution": "Geoportail France",
       "max_native_zoom": 18,
       "max_zoom": 20,
       "min_native_zoom": 0,
       "name": "GeoportailFrance.parcels",
       "options": [
        "attribution",
        "detect_retina",
        "max_native_zoom",
        "max_zoom",
        "min_native_zoom",
        "min_zoom",
        "no_wrap",
        "tile_size",
        "tms"
       ],
       "url": "https://wxs.ign.fr/choisirgeoportail/geoportail/wmts?REQUEST=GetTile&SERVICE=WMTS&VERSION=1.0.0&STYLE=PCI vecteur&TILEMATRIXSET=PM&FORMAT=image/png&LAYER=CADASTRALPARCELS.PARCELLAIRE_EXPRESS&TILEMATRIX={z}&TILEROW={y}&TILECOL={x}"
      }
     },
     "641d802ebeee4d059d9fc4cda92b5441": {
      "model_module": "@jupyter-widgets/base",
      "model_module_version": "1.2.0",
      "model_name": "LayoutModel",
      "state": {
       "height": "28px",
       "width": "72px"
      }
     },
     "642afc2ecf9b47779004a7f53934cd6b": {
      "model_module": "@jupyter-widgets/base",
      "model_module_version": "1.2.0",
      "model_name": "LayoutModel",
      "state": {}
     },
     "6466c00010724c7cb791c55921a15cad": {
      "model_module": "@jupyter-widgets/base",
      "model_module_version": "1.2.0",
      "model_name": "LayoutModel",
      "state": {
       "height": "auto",
       "padding": "0px 0px 0px 4px",
       "width": "auto"
      }
     },
     "6564bf36e1e44a408888df3a91c7b2fb": {
      "model_module": "@here/map-widget-for-jupyter",
      "model_module_version": "^1.1.3",
      "model_name": "DefaultLayersModel",
      "state": {
       "_model_module": "@here/map-widget-for-jupyter",
       "_model_module_version": "^1.1.3",
       "_view_count": null,
       "_view_module": "@here/map-widget-for-jupyter",
       "_view_module_version": "^1.1.3",
       "layer_name": "raster.terrain.labels",
       "ppi": null
      }
     },
     "65823bc5e708435c8b8613b4100604cd": {
      "model_module": "jupyter-leaflet",
      "model_module_version": "^0.15.0",
      "model_name": "LeafletWMSLayerModel",
      "state": {
       "_model_module_version": "^0.15.0",
       "_view_module_version": "^0.15.0",
       "attribution": "USGS",
       "crs": {
        "custom": false,
        "name": "EPSG3857"
       },
       "format": "image/png",
       "layers": "33DEPElevation:Hillshade Elevation Tinted",
       "max_native_zoom": 18,
       "min_native_zoom": 0,
       "name": "USGS 3DEP Elevation",
       "options": [
        "attribution",
        "detect_retina",
        "format",
        "layers",
        "max_native_zoom",
        "max_zoom",
        "min_native_zoom",
        "min_zoom",
        "no_wrap",
        "styles",
        "tile_size",
        "tms",
        "transparent",
        "uppercase"
       ],
       "transparent": true,
       "url": "https://elevation.nationalmap.gov/arcgis/services/3DEPElevation/ImageServer/WMSServer?"
      }
     },
     "66155190bd5c457fb828da3a17ee063c": {
      "model_module": "@jupyter-widgets/base",
      "model_module_version": "1.2.0",
      "model_name": "LayoutModel",
      "state": {}
     },
     "663cd055bcd6432fa0517c2f6a101153": {
      "model_module": "@jupyter-widgets/controls",
      "model_module_version": "1.5.0",
      "model_name": "DescriptionStyleModel",
      "state": {
       "description_width": ""
      }
     },
     "66a68586c3ce412080a058770b3e0b0d": {
      "model_module": "@here/map-widget-for-jupyter",
      "model_module_version": "^1.1.3",
      "model_name": "DefaultLayersModel",
      "state": {
       "_model_module": "@here/map-widget-for-jupyter",
       "_model_module_version": "^1.1.3",
       "_view_count": null,
       "_view_module": "@here/map-widget-for-jupyter",
       "_view_module_version": "^1.1.3",
       "layer_name": "raster.normal.basenight",
       "ppi": null
      }
     },
     "66cf249412c84cc4af40dd7f2158b016": {
      "model_module": "jupyter-leaflet",
      "model_module_version": "^0.15.0",
      "model_name": "LeafletWMSLayerModel",
      "state": {
       "_model_module_version": "^0.15.0",
       "_view_module_version": "^0.15.0",
       "attribution": "USGS",
       "crs": {
        "custom": false,
        "name": "EPSG3857"
       },
       "format": "image/png",
       "layers": "0",
       "max_native_zoom": 18,
       "min_native_zoom": 0,
       "name": "USGS Hydrography",
       "options": [
        "attribution",
        "detect_retina",
        "format",
        "layers",
        "max_native_zoom",
        "max_zoom",
        "min_native_zoom",
        "min_zoom",
        "no_wrap",
        "styles",
        "tile_size",
        "tms",
        "transparent",
        "uppercase"
       ],
       "transparent": true,
       "url": "https://basemap.nationalmap.gov/arcgis/services/USGSHydroCached/MapServer/WMSServer?"
      }
     },
     "673e8847d5654c368863dfaa61d0f6bb": {
      "model_module": "jupyter-leaflet",
      "model_module_version": "^0.15.0",
      "model_name": "LeafletTileLayerModel",
      "state": {
       "_model_module_version": "^0.15.0",
       "_view_module_version": "^0.15.0",
       "attribution": "Tiles courtesy of OpenStreetMap Sweden -- Map data (C) OpenStreetMap contributors",
       "max_native_zoom": 18,
       "max_zoom": 20,
       "min_native_zoom": 0,
       "name": "Hydda.Base",
       "options": [
        "attribution",
        "detect_retina",
        "max_native_zoom",
        "max_zoom",
        "min_native_zoom",
        "min_zoom",
        "no_wrap",
        "tile_size",
        "tms"
       ],
       "url": "https://a.tile.openstreetmap.se/hydda/base/{z}/{x}/{y}.png"
      }
     },
     "676ed118875741978bcca1a7ab843aa0": {
      "model_module": "@jupyter-widgets/controls",
      "model_module_version": "1.5.0",
      "model_name": "ToggleButtonModel",
      "state": {
       "button_style": "primary",
       "icon": "line-chart",
       "layout": "IPY_MODEL_0fe98b6dbe054514b6897e6453295c86",
       "style": "IPY_MODEL_5391f978b538445b88989f6ab66ede22",
       "tooltip": "Creating and plotting transects"
      }
     },
     "67a31c02022041a8896a6d68dee04300": {
      "model_module": "@jupyter-widgets/controls",
      "model_module_version": "1.5.0",
      "model_name": "ToggleButtonModel",
      "state": {
       "button_style": "primary",
       "icon": "folder-open",
       "layout": "IPY_MODEL_c66b020bed6a4eb9a9e41253cf2fcf4b",
       "style": "IPY_MODEL_af43949dc95045a7b01bec9c95307b1b",
       "tooltip": "Open local vector/raster data"
      }
     },
     "685526cdcf164ba1b71adec30c9ca0ae": {
      "model_module": "@jupyter-widgets/base",
      "model_module_version": "1.2.0",
      "model_name": "LayoutModel",
      "state": {
       "height": "auto",
       "padding": "0px 0px 0px 4px",
       "width": "auto"
      }
     },
     "691d6320939a438692173fa05defe1af": {
      "model_module": "jupyter-leaflet",
      "model_module_version": "^0.15.0",
      "model_name": "LeafletTileLayerModel",
      "state": {
       "_model_module_version": "^0.15.0",
       "_view_module_version": "^0.15.0",
       "attribution": "![](https://docs.onemap.sg/maps/images/oneMap64-01.png) New OneMap | Map data (C) contributors, Singapore Land Authority",
       "max_native_zoom": 18,
       "min_native_zoom": 0,
       "name": "OneMapSG.Night",
       "options": [
        "attribution",
        "detect_retina",
        "max_native_zoom",
        "max_zoom",
        "min_native_zoom",
        "min_zoom",
        "no_wrap",
        "tile_size",
        "tms"
       ],
       "url": "https://maps-a.onemap.sg/v3/Night/{z}/{x}/{y}.png"
      }
     },
     "69637fdcb4d448dcb79d2d2c1dc1b98d": {
      "model_module": "@jupyter-widgets/controls",
      "model_module_version": "1.5.0",
      "model_name": "DescriptionStyleModel",
      "state": {
       "description_width": ""
      }
     },
     "6987ed76bd3343cc804087e8d3b9c07c": {
      "model_module": "@jupyter-widgets/base",
      "model_module_version": "1.2.0",
      "model_name": "LayoutModel",
      "state": {
       "height": "28px",
       "padding": "0px 0px 0px 4px",
       "width": "28px"
      }
     },
     "6b2c0d9013a8418d909a5388359581e1": {
      "model_module": "@jupyter-widgets/base",
      "model_module_version": "1.2.0",
      "model_name": "LayoutModel",
      "state": {}
     },
     "6c2122228074492da7785893bcd2612f": {
      "model_module": "jupyter-leaflet",
      "model_module_version": "^0.15.0",
      "model_name": "LeafletTileLayerModel",
      "state": {
       "_model_module_version": "^0.15.0",
       "_view_module_version": "^0.15.0",
       "attribution": "(C) OpenStreetMap contributors",
       "max_native_zoom": 18,
       "max_zoom": 19,
       "min_native_zoom": 0,
       "name": "OpenStreetMap.Mapnik",
       "options": [
        "attribution",
        "detect_retina",
        "max_native_zoom",
        "max_zoom",
        "min_native_zoom",
        "min_zoom",
        "no_wrap",
        "tile_size",
        "tms"
       ],
       "url": "https://a.tile.openstreetmap.org/{z}/{x}/{y}.png"
      }
     },
     "6c46d44ca055408db6c8fc133afb579d": {
      "model_module": "jupyter-leaflet",
      "model_module_version": "^0.15.0",
      "model_name": "LeafletTileLayerModel",
      "state": {
       "_model_module_version": "^0.15.0",
       "_view_module_version": "^0.15.0",
       "attribution": "Imagery provided by services from the Global Imagery Browse Services (GIBS), operated by the NASA/GSFC/Earth Science Data and Information System (<a href=\"https://earthdata.nasa.gov\">ESDIS</a>) with funding provided by NASA/HQ.",
       "max_native_zoom": 18,
       "max_zoom": 9,
       "min_native_zoom": 0,
       "name": "NASAGIBS.ViirsTrueColorCR",
       "options": [
        "attribution",
        "detect_retina",
        "max_native_zoom",
        "max_zoom",
        "min_native_zoom",
        "min_zoom",
        "no_wrap",
        "tile_size",
        "tms"
       ],
       "url": "https://gibs.earthdata.nasa.gov/wmts/epsg3857/best/VIIRS_SNPP_CorrectedReflectance_TrueColor/default//GoogleMapsCompatible_Level9/{z}/{y}/{x}.jpg"
      }
     },
     "6c51916adb244d74aeb4c55871615fe8": {
      "model_module": "jupyter-leaflet",
      "model_module_version": "^0.15.0",
      "model_name": "LeafletMapStyleModel",
      "state": {
       "_model_module_version": "^0.15.0",
       "cursor": "move"
      }
     },
     "6d39ec27a0c040a2a53c77d7bf96b29d": {
      "model_module": "@jupyter-widgets/base",
      "model_module_version": "1.2.0",
      "model_name": "LayoutModel",
      "state": {}
     },
     "6dd07f1d1ca1419faf59d643ccbbd409": {
      "model_module": "@jupyter-widgets/base",
      "model_module_version": "1.2.0",
      "model_name": "LayoutModel",
      "state": {}
     },
     "6e746667b30b49d5ab33de4c3090f698": {
      "model_module": "jupyter-leaflet",
      "model_module_version": "^0.15.0",
      "model_name": "LeafletTileLayerModel",
      "state": {
       "_model_module_version": "^0.15.0",
       "_view_module_version": "^0.15.0",
       "attribution": "&copy; <a href=\"https://www.openstreetmap.org/copyright\">OpenStreetMap</a> contributors",
       "base": true,
       "max_native_zoom": 18,
       "max_zoom": 19,
       "min_native_zoom": 0,
       "min_zoom": 1,
       "name": "OpenStreetMap.Mapnik",
       "options": [
        "attribution",
        "detect_retina",
        "max_native_zoom",
        "max_zoom",
        "min_native_zoom",
        "min_zoom",
        "no_wrap",
        "tile_size",
        "tms"
       ],
       "url": "https://a.tile.openstreetmap.org/{z}/{x}/{y}.png"
      }
     },
     "6e7d6b9ac29f4a46a59f9819fd27b325": {
      "model_module": "jupyter-leaflet",
      "model_module_version": "^0.15.0",
      "model_name": "LeafletTileLayerModel",
      "state": {
       "_model_module_version": "^0.15.0",
       "_view_module_version": "^0.15.0",
       "attribution": "Map data: (C) OpenStreetMap contributors, SRTM | Map style: (C) OpenTopoMap (CC-BY-SA)",
       "max_native_zoom": 18,
       "max_zoom": 17,
       "min_native_zoom": 0,
       "name": "OpenTopoMap",
       "options": [
        "attribution",
        "detect_retina",
        "max_native_zoom",
        "max_zoom",
        "min_native_zoom",
        "min_zoom",
        "no_wrap",
        "tile_size",
        "tms"
       ],
       "url": "https://a.tile.opentopomap.org/{z}/{x}/{y}.png"
      }
     },
     "6eec5ea7f40b4154b4ec35b9d119f28d": {
      "model_module": "@jupyter-widgets/base",
      "model_module_version": "1.2.0",
      "model_name": "LayoutModel",
      "state": {
       "overflow": "auto"
      }
     },
     "6fe417c2b0b540d084dc619c5a1ec984": {
      "model_module": "jupyter-leaflet",
      "model_module_version": "^0.15.0",
      "model_name": "LeafletTileLayerModel",
      "state": {
       "_model_module_version": "^0.15.0",
       "_view_module_version": "^0.15.0",
       "attribution": "&copy; <a href=\"http://www.gaode.com/\">Gaode.com</a>",
       "max_native_zoom": 18,
       "max_zoom": 19,
       "min_native_zoom": 0,
       "name": "Gaode.Satellite",
       "options": [
        "attribution",
        "detect_retina",
        "max_native_zoom",
        "max_zoom",
        "min_native_zoom",
        "min_zoom",
        "no_wrap",
        "tile_size",
        "tms"
       ],
       "url": "http://webst01.is.autonavi.com/appmaptile?style=6&x={x}&y={y}&z={z}"
      }
     },
     "71120a0d02ee4a14b792bd1e402af2cf": {
      "model_module": "@jupyter-widgets/controls",
      "model_module_version": "1.5.0",
      "model_name": "HBoxModel",
      "state": {
       "_view_count": 1,
       "children": [
        "IPY_MODEL_0e7754ce551a431e88eb727afb3a4cd0"
       ],
       "layout": "IPY_MODEL_642afc2ecf9b47779004a7f53934cd6b"
      }
     },
     "712b3317053c4ca1a6a41e87650fcc34": {
      "model_module": "jupyter-leaflet",
      "model_module_version": "^0.15.0",
      "model_name": "LeafletTileLayerModel",
      "state": {
       "_model_module_version": "^0.15.0",
       "_view_module_version": "^0.15.0",
       "attribution": "Map data: (C) OpenStreetMap contributors | Map style: (C) waymarkedtrails.org (CC-BY-SA)",
       "max_native_zoom": 18,
       "min_native_zoom": 0,
       "name": "WaymarkedTrails.mtb",
       "options": [
        "attribution",
        "detect_retina",
        "max_native_zoom",
        "max_zoom",
        "min_native_zoom",
        "min_zoom",
        "no_wrap",
        "tile_size",
        "tms"
       ],
       "url": "https://tile.waymarkedtrails.org/mtb/{z}/{x}/{y}.png"
      }
     },
     "71620c98bde34914b832a480976482ff": {
      "model_module": "jupyter-leaflet",
      "model_module_version": "^0.15.0",
      "model_name": "LeafletTileLayerModel",
      "state": {
       "_model_module_version": "^0.15.0",
       "_view_module_version": "^0.15.0",
       "attribution": "Map data: (C) OpenSeaMap contributors",
       "max_native_zoom": 18,
       "max_zoom": 22,
       "min_native_zoom": 0,
       "name": "OpenSeaMap",
       "options": [
        "attribution",
        "detect_retina",
        "max_native_zoom",
        "max_zoom",
        "min_native_zoom",
        "min_zoom",
        "no_wrap",
        "tile_size",
        "tms"
       ],
       "url": "https://tiles.openseamap.org/seamark/{z}/{x}/{y}.png"
      }
     },
     "720a316c6bc743bdb3146abd6e530894": {
      "model_module": "@jupyter-widgets/controls",
      "model_module_version": "1.5.0",
      "model_name": "ToggleButtonModel",
      "state": {
       "button_style": "primary",
       "icon": "retweet",
       "layout": "IPY_MODEL_685526cdcf164ba1b71adec30c9ca0ae",
       "style": "IPY_MODEL_239ccc3c8f9444e297875694884b0f50",
       "tooltip": "Convert Earth Engine JavaScript to Python"
      }
     },
     "72d2773a83e845c3ab2bde963cf5dc64": {
      "model_module": "jupyter-leaflet",
      "model_module_version": "^0.15.0",
      "model_name": "LeafletTileLayerModel",
      "state": {
       "_model_module_version": "^0.15.0",
       "_view_module_version": "^0.15.0",
       "attribution": "Tiles (C) Esri -- Copyright: (C)2012 DeLorme",
       "max_native_zoom": 18,
       "max_zoom": 11,
       "min_native_zoom": 0,
       "name": "Esri.DeLorme",
       "options": [
        "attribution",
        "detect_retina",
        "max_native_zoom",
        "max_zoom",
        "min_native_zoom",
        "min_zoom",
        "no_wrap",
        "tile_size",
        "tms"
       ],
       "url": "https://server.arcgisonline.com/ArcGIS/rest/services/Specialty/DeLorme_World_Base_Map/MapServer/tile/{z}/{y}/{x}"
      }
     },
     "7396658ba8d14ae0b51aa873402ac2d9": {
      "model_module": "jupyter-leaflet",
      "model_module_version": "^0.15.0",
      "model_name": "LeafletWidgetControlModel",
      "state": {
       "_model_module": "jupyter-leaflet",
       "_model_module_version": "^0.15.0",
       "_view_count": null,
       "_view_module": "jupyter-leaflet",
       "_view_module_version": "^0.15.0",
       "options": [
        "position",
        "transparent_bg"
       ],
       "position": "topright",
       "widget": "IPY_MODEL_0fdecef529f24ba58b6d8fe8a2d9a274"
      }
     },
     "73b3901700e64fceb3194a6733f31c47": {
      "model_module": "jupyter-leaflet",
      "model_module_version": "^0.15.0",
      "model_name": "LeafletTileLayerModel",
      "state": {
       "_model_module_version": "^0.15.0",
       "_view_module_version": "^0.15.0",
       "attribution": "Imagery provided by services from the Global Imagery Browse Services (GIBS), operated by the NASA/GSFC/Earth Science Data and Information System (ESDIS) with funding provided by NASA/HQ.",
       "max_native_zoom": 18,
       "max_zoom": 9,
       "min_native_zoom": 0,
       "name": "NASAGIBS.ModisTerraBands367CR",
       "options": [
        "attribution",
        "detect_retina",
        "max_native_zoom",
        "max_zoom",
        "min_native_zoom",
        "min_zoom",
        "no_wrap",
        "tile_size",
        "tms"
       ],
       "url": "https://map1.vis.earthdata.nasa.gov/wmts-webmerc/MODIS_Terra_CorrectedReflectance_Bands367/default//GoogleMapsCompatible_Level9/{z}/{y}/{x}.jpg"
      }
     },
     "742f2e5a53a04964a9cc02fdd8ad7a90": {
      "model_module": "@jupyter-widgets/base",
      "model_module_version": "1.2.0",
      "model_name": "LayoutModel",
      "state": {
       "height": "auto",
       "padding": "0px 0px 0px 4px",
       "width": "auto"
      }
     },
     "7442fd72406f407bb224fa1d9eff0732": {
      "model_module": "@jupyter-widgets/controls",
      "model_module_version": "1.5.0",
      "model_name": "DescriptionStyleModel",
      "state": {
       "description_width": ""
      }
     },
     "7457abfbacf44d7ca1b906b86205974a": {
      "model_module": "@jupyter-widgets/base",
      "model_module_version": "1.2.0",
      "model_name": "LayoutModel",
      "state": {
       "height": "auto",
       "padding": "0px 0px 0px 4px",
       "width": "auto"
      }
     },
     "7471040c256c417a9ed2034fcc48e197": {
      "model_module": "@jupyter-widgets/controls",
      "model_module_version": "1.5.0",
      "model_name": "VBoxModel",
      "state": {
       "children": [
        "IPY_MODEL_f00ba8072ca4433f8822678d7d21288f",
        "IPY_MODEL_b84acddd48f64424b5c62e8cc7c25232"
       ],
       "layout": "IPY_MODEL_66155190bd5c457fb828da3a17ee063c"
      }
     },
     "74c1dcdbfd6545d6a33321d57a409cda": {
      "model_module": "jupyter-leaflet",
      "model_module_version": "^0.15.0",
      "model_name": "LeafletAttributionControlModel",
      "state": {
       "_model_module_version": "^0.15.0",
       "_view_module_version": "^0.15.0",
       "options": [
        "position",
        "prefix"
       ],
       "position": "bottomright",
       "prefix": "ipyleaflet"
      }
     },
     "74cd5a1606174a878a104386dec9739a": {
      "model_module": "@jupyter-widgets/base",
      "model_module_version": "1.2.0",
      "model_name": "LayoutModel",
      "state": {
       "height": "auto",
       "padding": "0px 0px 0px 4px",
       "width": "auto"
      }
     },
     "761431124120404fb1f2c449661571e4": {
      "model_module": "@here/map-widget-for-jupyter",
      "model_module_version": "^1.1.3",
      "model_name": "DefaultLayersModel",
      "state": {
       "_model_module": "@here/map-widget-for-jupyter",
       "_model_module_version": "^1.1.3",
       "_view_count": null,
       "_view_module": "@here/map-widget-for-jupyter",
       "_view_module_version": "^1.1.3",
       "layer_name": "raster.satellite.map",
       "ppi": null
      }
     },
     "77ebe815c0dc4b468ecf88407b402519": {
      "model_module": "@jupyter-widgets/controls",
      "model_module_version": "1.5.0",
      "model_name": "HBoxModel",
      "state": {
       "children": [
        "IPY_MODEL_618a3a489064455aa4cbcdf8cefa324e",
        "IPY_MODEL_628e281a2a344499b8646b0a3b6e34eb"
       ],
       "layout": "IPY_MODEL_171cddd1b8c641d3afe7db46c4e1aab3"
      }
     },
     "783d24859c37412d8b071db7c18834ca": {
      "model_module": "@jupyter-widgets/base",
      "model_module_version": "1.2.0",
      "model_name": "LayoutModel",
      "state": {
       "overflow": "auto"
      }
     },
     "78d7b4a35a0643e99fc1b0dc1e3b510d": {
      "model_module": "@jupyter-widgets/controls",
      "model_module_version": "1.5.0",
      "model_name": "DescriptionStyleModel",
      "state": {
       "description_width": ""
      }
     },
     "795e99d683dd49c1bb0ef304e89f5d06": {
      "model_module": "ipyevents",
      "model_module_version": "2.0.1",
      "model_name": "EventModel",
      "state": {
       "_supported_key_events": [
        "keydown",
        "keyup"
       ],
       "_supported_mouse_events": [
        "click",
        "auxclick",
        "dblclick",
        "mouseenter",
        "mouseleave",
        "mousedown",
        "mouseup",
        "mousemove",
        "wheel",
        "contextmenu",
        "dragstart",
        "drag",
        "dragend",
        "dragenter",
        "dragover",
        "dragleave",
        "drop"
       ],
       "_supported_touch_events": [
        "touchstart",
        "touchend",
        "touchmove",
        "touchcancel"
       ],
       "_view_module": "@jupyter-widgets/controls",
       "_view_module_version": "1.5.0",
       "source": "IPY_MODEL_0fdecef529f24ba58b6d8fe8a2d9a274",
       "throttle_or_debounce": "",
       "watched_events": [
        "mouseenter",
        "mouseleave"
       ],
       "xy_coordinate_system": ""
      }
     },
     "7ae02de8a5a8472595ccd33bcef9d018": {
      "model_module": "@here/map-widget-for-jupyter",
      "model_module_version": "^1.1.3",
      "model_name": "DefaultLayersModel",
      "state": {
       "_model_module": "@here/map-widget-for-jupyter",
       "_model_module_version": "^1.1.3",
       "_view_count": null,
       "_view_module": "@here/map-widget-for-jupyter",
       "_view_module_version": "^1.1.3",
       "layer_name": "raster.normal.transit",
       "ppi": null
      }
     },
     "7be77c4b32044b0b9bcd7aa508d5fd56": {
      "model_module": "@jupyter-widgets/controls",
      "model_module_version": "1.5.0",
      "model_name": "DescriptionStyleModel",
      "state": {
       "description_width": ""
      }
     },
     "7dff39a6d8b940a69d397b29c3fd8d02": {
      "model_module": "jupyter-leaflet",
      "model_module_version": "^0.15.0",
      "model_name": "LeafletMarkerModel",
      "state": {
       "_model_module_version": "^0.15.0",
       "_view_module_version": "^0.15.0",
       "icon": "IPY_MODEL_4366f96973874e889d823611fd006783",
       "options": [
        "alt",
        "draggable",
        "keyboard",
        "rise_offset",
        "rise_on_hover",
        "rotation_angle",
        "rotation_origin",
        "title",
        "z_index_offset"
       ]
      }
     },
     "7e1d0c3b39d3489da516817e76124911": {
      "model_module": "jupyter-leaflet",
      "model_module_version": "^0.15.0",
      "model_name": "LeafletTileLayerModel",
      "state": {
       "_model_module_version": "^0.15.0",
       "_view_module_version": "^0.15.0",
       "attribution": "Datenquelle: basemap.at",
       "max_native_zoom": 18,
       "max_zoom": 20,
       "min_native_zoom": 0,
       "name": "BasemapAT.basemap",
       "options": [
        "attribution",
        "detect_retina",
        "max_native_zoom",
        "max_zoom",
        "min_native_zoom",
        "min_zoom",
        "no_wrap",
        "tile_size",
        "tms"
       ],
       "url": "https://maps.wien.gv.at/basemap/geolandbasemap/normal/google3857/{z}/{y}/{x}.png"
      }
     },
     "7e3ed959c0c0488c9d8eb87f3c7a18ee": {
      "model_module": "jupyter-leaflet",
      "model_module_version": "^0.15.0",
      "model_name": "LeafletScaleControlModel",
      "state": {
       "_model_module_version": "^0.15.0",
       "_view_module_version": "^0.15.0",
       "imperial": true,
       "max_width": 100,
       "metric": true,
       "options": [
        "imperial",
        "max_width",
        "metric",
        "position",
        "update_when_idle"
       ],
       "position": "bottomleft",
       "update_when_idle": false
      }
     },
     "7e58d1547fca468e8492c31d5b2aabfc": {
      "model_module": "jupyter-leaflet",
      "model_module_version": "^0.15.0",
      "model_name": "LeafletTileLayerModel",
      "state": {
       "_model_module_version": "^0.15.0",
       "_view_module_version": "^0.15.0",
       "attribution": "Map data: (C) OpenStreetMap contributors | Map style: (C) OpenFireMap (CC-BY-SA)",
       "max_native_zoom": 18,
       "max_zoom": 19,
       "min_native_zoom": 0,
       "name": "OpenFireMap",
       "options": [
        "attribution",
        "detect_retina",
        "max_native_zoom",
        "max_zoom",
        "min_native_zoom",
        "min_zoom",
        "no_wrap",
        "tile_size",
        "tms"
       ],
       "url": "http://openfiremap.org/hytiles/{z}/{x}/{y}.png"
      }
     },
     "7e5f7f0364d54fcabca1badc00da9139": {
      "model_module": "jupyter-leaflet",
      "model_module_version": "^0.15.0",
      "model_name": "LeafletTileLayerModel",
      "state": {
       "_model_module_version": "^0.15.0",
       "_view_module_version": "^0.15.0",
       "attribution": "Tiles (C) Esri -- Source: US National Park Service",
       "max_native_zoom": 18,
       "max_zoom": 8,
       "min_native_zoom": 0,
       "name": "Esri.WorldPhysical",
       "options": [
        "attribution",
        "detect_retina",
        "max_native_zoom",
        "max_zoom",
        "min_native_zoom",
        "min_zoom",
        "no_wrap",
        "tile_size",
        "tms"
       ],
       "url": "https://server.arcgisonline.com/ArcGIS/rest/services/World_Physical_Map/MapServer/tile/{z}/{y}/{x}"
      }
     },
     "7e69fe59dd314553af73165a29e35b44": {
      "model_module": "@jupyter-widgets/controls",
      "model_module_version": "1.5.0",
      "model_name": "ToggleButtonModel",
      "state": {
       "button_style": "primary",
       "icon": "info-circle",
       "layout": "IPY_MODEL_8a26023301194fba9e03c0090fe8da4f",
       "style": "IPY_MODEL_cfd33fc024fc40d1b940dcb18edd230d",
       "tooltip": "Get COG/STAC pixel value"
      }
     },
     "7e9d5be4d961446589363edf818a8080": {
      "model_module": "jupyter-leaflet",
      "model_module_version": "^0.15.0",
      "model_name": "LeafletTileLayerModel",
      "state": {
       "_model_module_version": "^0.15.0",
       "_view_module_version": "^0.15.0",
       "attribution": "Justice Map",
       "max_native_zoom": 18,
       "max_zoom": 22,
       "min_native_zoom": 0,
       "name": "JusticeMap.hispanic",
       "options": [
        "attribution",
        "detect_retina",
        "max_native_zoom",
        "max_zoom",
        "min_native_zoom",
        "min_zoom",
        "no_wrap",
        "tile_size",
        "tms"
       ],
       "url": "https://www.justicemap.org/tile/county/hispanic/{z}/{x}/{y}.png"
      }
     },
     "7ecd338e6d1949cdb1652e87ce2109b5": {
      "model_module": "@jupyter-widgets/base",
      "model_module_version": "1.2.0",
      "model_name": "LayoutModel",
      "state": {
       "height": "auto",
       "padding": "0px 0px 0px 4px",
       "width": "auto"
      }
     },
     "7f8312d60e6448cab03627b4d8a6c7d4": {
      "model_module": "@jupyter-widgets/controls",
      "model_module_version": "1.5.0",
      "model_name": "HTMLModel",
      "state": {
       "layout": "IPY_MODEL_159e70719a5845d89e2caea18d111d63",
       "placeholder": "",
       "style": "IPY_MODEL_663cd055bcd6432fa0517c2f6a101153",
       "value": "<span style=\"color:black;\">No selection</span>"
      }
     },
     "7fd9812e5ea04c648eba2c1a3ee12147": {
      "model_module": "jupyter-leaflet",
      "model_module_version": "^0.15.0",
      "model_name": "LeafletMapModel",
      "state": {
       "_model_module_version": "^0.15.0",
       "_view_module_version": "^0.15.0",
       "bottom": 411113,
       "center": [
        36.17972104065897,
        -117.08560695896479
       ],
       "controls": [
        "IPY_MODEL_5a425bdaaba149adb25df1d455995fff",
        "IPY_MODEL_df7a7333fb874cc99ec82942c29d37e1",
        "IPY_MODEL_7e3ed959c0c0488c9d8eb87f3c7a18ee",
        "IPY_MODEL_b2a9d5c66c72418d9ae8391a73f75a03",
        "IPY_MODEL_c20cbbecb1134a3eb151dd64dc06a2a5",
        "IPY_MODEL_24b33fd52baa41ce803b43eb62d76dce",
        "IPY_MODEL_10cee8f237474ecc9f9f9c18f3026530",
        "IPY_MODEL_8c5e8a87380e4819b28def677f2c2641"
       ],
       "default_style": "IPY_MODEL_c685b3945af942d596039f49f40711a3",
       "dragging_style": "IPY_MODEL_278e60b5d36e4e49bba9bf21d98068a7",
       "east": -117.0857620239258,
       "fullscreen": false,
       "interpolation": "bilinear",
       "layers": [
        "IPY_MODEL_6e746667b30b49d5ab33de4c3090f698",
        "IPY_MODEL_425d0fd7ebbb47ce8c72b43d7b8c4873",
        "IPY_MODEL_c44a4c6a5254405bb239fe00d72b6c88",
        "IPY_MODEL_d95ab1715a744baab2543f61efb58c1f",
        "IPY_MODEL_0946411438cf4d86a58a53d1b89f5821",
        "IPY_MODEL_3716b122e03448ac91d4c682669e903a"
       ],
       "layout": "IPY_MODEL_24c9681d81864946beb1859bb9f6b1ed",
       "left": 183251,
       "max_zoom": 24,
       "modisdate": "2022-03-24",
       "north": 36.17973094416368,
       "options": [
        "bounce_at_zoom_limits",
        "box_zoom",
        "center",
        "close_popup_on_click",
        "double_click_zoom",
        "dragging",
        "fullscreen",
        "inertia",
        "inertia_deceleration",
        "inertia_max_speed",
        "interpolation",
        "keyboard",
        "keyboard_pan_offset",
        "keyboard_zoom_offset",
        "max_zoom",
        "min_zoom",
        "prefer_canvas",
        "scroll_wheel_zoom",
        "tap",
        "tap_tolerance",
        "touch_zoom",
        "world_copy_jump",
        "zoom",
        "zoom_animation_threshold",
        "zoom_delta",
        "zoom_snap",
        "zoom_start"
       ],
       "prefer_canvas": false,
       "right": 183251,
       "scroll_wheel_zoom": true,
       "south": 36.17973094416368,
       "style": "IPY_MODEL_c685b3945af942d596039f49f40711a3",
       "top": 411113,
       "west": -117.0857620239258,
       "window_url": "https://jupyterhub.cuahsi.org/user/torresrua/lab/tree/cee5003_remote_sensing/prj_earthengine_hydroshare/Lab%206%20Time-Series_2021.ipynb"
      }
     },
     "809b9b9724b844b482ec8821a60f3a2a": {
      "model_module": "@jupyter-widgets/base",
      "model_module_version": "1.2.0",
      "model_name": "LayoutModel",
      "state": {
       "height": "auto",
       "padding": "0px 0px 0px 4px",
       "width": "auto"
      }
     },
     "811a22f16c464dee84d24b97ba9cedef": {
      "model_module": "@jupyter-widgets/base",
      "model_module_version": "1.2.0",
      "model_name": "LayoutModel",
      "state": {
       "height": "auto",
       "padding": "0px 0px 0px 4px",
       "width": "auto"
      }
     },
     "815db4d33ee84f3fbfe7f957b92eb73b": {
      "model_module": "@jupyter-widgets/base",
      "model_module_version": "1.2.0",
      "model_name": "LayoutModel",
      "state": {
       "height": "auto",
       "padding": "0px 0px 0px 4px",
       "width": "auto"
      }
     },
     "8210733ec3e94093885633d7089202b6": {
      "model_module": "@jupyter-widgets/base",
      "model_module_version": "1.2.0",
      "model_name": "LayoutModel",
      "state": {
       "height": "auto",
       "padding": "0px 0px 0px 4px",
       "width": "auto"
      }
     },
     "83342aaea47f4288b181c41cafa45915": {
      "model_module": "@jupyter-widgets/base",
      "model_module_version": "1.2.0",
      "model_name": "LayoutModel",
      "state": {}
     },
     "837d450df2154a91bbfc33c9ea0a81d5": {
      "model_module": "@jupyter-widgets/controls",
      "model_module_version": "1.5.0",
      "model_name": "ToggleButtonsModel",
      "state": {
       "_options_labels": [
        "name/address",
        "lat-lon",
        "data"
       ],
       "button_style": "",
       "icons": [],
       "index": 0,
       "layout": "IPY_MODEL_6d39ec27a0c040a2a53c77d7bf96b29d",
       "style": "IPY_MODEL_4ea2987c8ddf4ca592a86e9874390305",
       "tooltips": [
        "Search by place name or address",
        "Search by lat-lon coordinates",
        "Search Earth Engine data catalog"
       ]
      }
     },
     "84625b3a2d6748398567495482c645a5": {
      "model_module": "@jupyter-widgets/base",
      "model_module_version": "1.2.0",
      "model_name": "LayoutModel",
      "state": {
       "height": "auto",
       "padding": "0px 0px 0px 4px",
       "width": "auto"
      }
     },
     "84ae188b46074e71ac91f92a528e88f4": {
      "model_module": "@jupyter-widgets/base",
      "model_module_version": "1.2.0",
      "model_name": "LayoutModel",
      "state": {
       "height": "28px",
       "width": "72px"
      }
     },
     "84d34554af93499db05fd0e75e46d2bf": {
      "model_module": "@jupyter-widgets/controls",
      "model_module_version": "1.5.0",
      "model_name": "DescriptionStyleModel",
      "state": {
       "description_width": ""
      }
     },
     "8506fefc397c4ecfa843a6558b430594": {
      "model_module": "@jupyter-widgets/controls",
      "model_module_version": "1.5.0",
      "model_name": "DescriptionStyleModel",
      "state": {
       "description_width": ""
      }
     },
     "8571dcaa905840e6ad53ef7207a19595": {
      "model_module": "@jupyter-widgets/controls",
      "model_module_version": "1.5.0",
      "model_name": "DescriptionStyleModel",
      "state": {
       "description_width": ""
      }
     },
     "863cdaefd2564337b532e94759370a92": {
      "model_module": "@jupyter-widgets/controls",
      "model_module_version": "1.5.0",
      "model_name": "DescriptionStyleModel",
      "state": {
       "description_width": ""
      }
     },
     "86686b97aa244ed2ae1dedb64b12dde5": {
      "model_module": "@jupyter-widgets/controls",
      "model_module_version": "1.5.0",
      "model_name": "DescriptionStyleModel",
      "state": {
       "description_width": ""
      }
     },
     "8762e16800604a3ca3ef3e5cf2b4cfca": {
      "model_module": "@jupyter-widgets/controls",
      "model_module_version": "1.5.0",
      "model_name": "HBoxModel",
      "state": {
       "children": [
        "IPY_MODEL_d70ff571c918499f97f242cfb56ac421",
        "IPY_MODEL_d0f5a39338b6456f97be6e22cc31a18c"
       ],
       "layout": "IPY_MODEL_6dd07f1d1ca1419faf59d643ccbbd409"
      }
     },
     "8922de69f9574673b73c3d260e6da8ba": {
      "model_module": "@jupyter-widgets/controls",
      "model_module_version": "1.5.0",
      "model_name": "DescriptionStyleModel",
      "state": {
       "description_width": ""
      }
     },
     "89967eb294da4a1bb39d15958caa5c18": {
      "model_module": "@jupyter-widgets/base",
      "model_module_version": "1.2.0",
      "model_name": "LayoutModel",
      "state": {
       "height": "auto",
       "padding": "0px 0px 0px 4px",
       "width": "auto"
      }
     },
     "8a16fe01b34d4e6594c9d1a1a00c59b8": {
      "model_module": "jupyter-leaflet",
      "model_module_version": "^0.15.0",
      "model_name": "LeafletTileLayerModel",
      "state": {
       "_model_module_version": "^0.15.0",
       "_view_module_version": "^0.15.0",
       "attribution": "(C) OpenStreetMap contributors (C) CARTO",
       "max_native_zoom": 18,
       "max_zoom": 20,
       "min_native_zoom": 0,
       "name": "CartoDB.Positron",
       "options": [
        "attribution",
        "detect_retina",
        "max_native_zoom",
        "max_zoom",
        "min_native_zoom",
        "min_zoom",
        "no_wrap",
        "tile_size",
        "tms"
       ],
       "url": "https://a.basemaps.cartocdn.com/light_all/{z}/{x}/{y}.png"
      }
     },
     "8a26023301194fba9e03c0090fe8da4f": {
      "model_module": "@jupyter-widgets/base",
      "model_module_version": "1.2.0",
      "model_name": "LayoutModel",
      "state": {
       "height": "auto",
       "padding": "0px 0px 0px 4px",
       "width": "auto"
      }
     },
     "8a671c715daa4779b5c6cbc7926948d5": {
      "model_module": "@jupyter-widgets/output",
      "model_module_version": "1.0.0",
      "model_name": "OutputModel",
      "state": {
       "layout": "IPY_MODEL_1ba2c37de73d43f6a29688d612abf58e"
      }
     },
     "8a93cc73f5224e61a5f73fc261eb18fc": {
      "model_module": "@jupyter-widgets/base",
      "model_module_version": "1.2.0",
      "model_name": "LayoutModel",
      "state": {
       "height": "auto",
       "padding": "0px 0px 0px 4px",
       "width": "auto"
      }
     },
     "8af083a5a576455894a5e5220843ae37": {
      "model_module": "@jupyter-widgets/controls",
      "model_module_version": "1.5.0",
      "model_name": "HBoxModel",
      "state": {
       "children": [
        "IPY_MODEL_bd22a922348146f9b1ebfc8929eab186",
        "IPY_MODEL_ca702231589c40749bc43bcb41768d48"
       ],
       "layout": "IPY_MODEL_8b98d9a7df02481e92f0924c09b6bb17"
      }
     },
     "8b98d9a7df02481e92f0924c09b6bb17": {
      "model_module": "@jupyter-widgets/base",
      "model_module_version": "1.2.0",
      "model_name": "LayoutModel",
      "state": {}
     },
     "8be3f1b1b0d84d7bb1888aca97b93870": {
      "model_module": "jupyter-leaflet",
      "model_module_version": "^0.15.0",
      "model_name": "LeafletDrawControlModel",
      "state": {
       "_model_module_version": "^0.15.0",
       "_view_module_version": "^0.15.0",
       "circle": {
        "shapeOptions": {
         "color": "#3388ff"
        }
       },
       "edit": false,
       "options": [
        "position"
       ],
       "polygon": {},
       "polyline": {},
       "rectangle": {
        "shapeOptions": {
         "color": "#3388ff"
        }
       },
       "remove": false
      }
     },
     "8c216614eecc4d49a848e9b897f28391": {
      "model_module": "@jupyter-widgets/controls",
      "model_module_version": "1.5.0",
      "model_name": "ToggleButtonModel",
      "state": {
       "button_style": "primary",
       "icon": "gears",
       "layout": "IPY_MODEL_175ce84aad924abc934073f51530e843",
       "style": "IPY_MODEL_8922de69f9574673b73c3d260e6da8ba",
       "tooltip": "WhiteboxTools for local geoprocessing"
      }
     },
     "8c5e8a87380e4819b28def677f2c2641": {
      "model_module": "jupyter-leaflet",
      "model_module_version": "^0.15.0",
      "model_name": "LeafletWidgetControlModel",
      "state": {
       "_model_module": "jupyter-leaflet",
       "_model_module_version": "^0.15.0",
       "_view_count": null,
       "_view_module": "jupyter-leaflet",
       "_view_module_version": "^0.15.0",
       "options": [
        "position",
        "transparent_bg"
       ],
       "position": "topright",
       "widget": "IPY_MODEL_29e41a68b3c647d8ba3317eb4c2ffb45"
      }
     },
     "8c9023287f1a4007bbfc669f2997e6c2": {
      "model_module": "@jupyter-widgets/base",
      "model_module_version": "1.2.0",
      "model_name": "LayoutModel",
      "state": {
       "height": "auto",
       "padding": "0px 0px 0px 4px",
       "width": "auto"
      }
     },
     "8d0c074ea06445f288fb8340cec701a5": {
      "model_module": "@jupyter-widgets/controls",
      "model_module_version": "1.5.0",
      "model_name": "RadioButtonsModel",
      "state": {
       "index": null,
       "layout": "IPY_MODEL_613816241d1c476897c9e29d13a8ada9",
       "style": "IPY_MODEL_86686b97aa244ed2ae1dedb64b12dde5"
      }
     },
     "8d5af72292854323b12dd04a3412d765": {
      "model_module": "@jupyter-widgets/base",
      "model_module_version": "1.2.0",
      "model_name": "LayoutModel",
      "state": {
       "height": "auto",
       "padding": "0px 0px 0px 4px",
       "width": "auto"
      }
     },
     "8dbc08903a9a4f77a11f03a3e5f76022": {
      "model_module": "jupyter-leaflet",
      "model_module_version": "^0.15.0",
      "model_name": "LeafletTileLayerModel",
      "state": {
       "_model_module_version": "^0.15.0",
       "_view_module_version": "^0.15.0",
       "attribution": "Justice Map",
       "max_native_zoom": 18,
       "max_zoom": 22,
       "min_native_zoom": 0,
       "name": "JusticeMap.nonWhite",
       "options": [
        "attribution",
        "detect_retina",
        "max_native_zoom",
        "max_zoom",
        "min_native_zoom",
        "min_zoom",
        "no_wrap",
        "tile_size",
        "tms"
       ],
       "url": "https://www.justicemap.org/tile/county/nonwhite/{z}/{x}/{y}.png"
      }
     },
     "8df2779c8ef04e3c882adfd4742dc091": {
      "model_module": "jupyter-leaflet",
      "model_module_version": "^0.15.0",
      "model_name": "LeafletWidgetControlModel",
      "state": {
       "_model_module": "jupyter-leaflet",
       "_model_module_version": "^0.15.0",
       "_view_count": null,
       "_view_module": "jupyter-leaflet",
       "_view_module_version": "^0.15.0",
       "options": [
        "position",
        "transparent_bg"
       ],
       "position": "topleft",
       "widget": "IPY_MODEL_71120a0d02ee4a14b792bd1e402af2cf"
      }
     },
     "8df6fba6357e4a69a58315efb98b99e7": {
      "model_module": "@jupyter-widgets/base",
      "model_module_version": "1.2.0",
      "model_name": "LayoutModel",
      "state": {
       "width": "340px"
      }
     },
     "8eb97372cc3743e79353bcb3d4bb483d": {
      "model_module": "jupyter-leaflet",
      "model_module_version": "^0.15.0",
      "model_name": "LeafletTileLayerModel",
      "state": {
       "_model_module_version": "^0.15.0",
       "_view_module_version": "^0.15.0",
       "attribution": "Map data: (C) OpenStreetMap contributors | Map style: (C) waymarkedtrails.org (CC-BY-SA)",
       "max_native_zoom": 18,
       "min_native_zoom": 0,
       "name": "WaymarkedTrails.riding",
       "options": [
        "attribution",
        "detect_retina",
        "max_native_zoom",
        "max_zoom",
        "min_native_zoom",
        "min_zoom",
        "no_wrap",
        "tile_size",
        "tms"
       ],
       "url": "https://tile.waymarkedtrails.org/riding/{z}/{x}/{y}.png"
      }
     },
     "8ef64f636cb14ca1ac362d731ba8d009": {
      "model_module": "@jupyter-widgets/controls",
      "model_module_version": "1.5.0",
      "model_name": "DescriptionStyleModel",
      "state": {
       "description_width": ""
      }
     },
     "8f59373c7ee540dcbc9e83fea894dfe7": {
      "model_module": "@jupyter-widgets/controls",
      "model_module_version": "1.5.0",
      "model_name": "ToggleButtonModel",
      "state": {
       "button_style": "primary",
       "icon": "fast-forward",
       "layout": "IPY_MODEL_ee6eafb8b324473a9e90097c367ce31a",
       "style": "IPY_MODEL_bd7e4fd3fc994e93b84f0f9310acae34",
       "tooltip": "Activate timeslider"
      }
     },
     "8f69ce330d114f8d9459cfdf4cb1dbf9": {
      "model_module": "jupyter-leaflet",
      "model_module_version": "^0.15.0",
      "model_name": "LeafletTileLayerModel",
      "state": {
       "_model_module_version": "^0.15.0",
       "_view_module_version": "^0.15.0",
       "attribution": "Imagery provided by services from the Global Imagery Browse Services (GIBS), operated by the NASA/GSFC/Earth Science Data and Information System (<a href=\"https://earthdata.nasa.gov\">ESDIS</a>) with funding provided by NASA/HQ.",
       "max_native_zoom": 18,
       "max_zoom": 9,
       "min_native_zoom": 0,
       "name": "NASAGIBS.ModisAquaTrueColorCR",
       "options": [
        "attribution",
        "detect_retina",
        "max_native_zoom",
        "max_zoom",
        "min_native_zoom",
        "min_zoom",
        "no_wrap",
        "tile_size",
        "tms"
       ],
       "url": "https://gibs.earthdata.nasa.gov/wmts/epsg3857/best/MODIS_Aqua_CorrectedReflectance_TrueColor/default//GoogleMapsCompatible_Level9/{z}/{y}/{x}.jpg"
      }
     },
     "8f915025473341cca3cfcf913a1b4168": {
      "model_module": "jupyter-leaflet",
      "model_module_version": "^0.15.0",
      "model_name": "LeafletTileLayerModel",
      "state": {
       "_model_module_version": "^0.15.0",
       "_view_module_version": "^0.15.0",
       "attribution": "Map tiles by Stamen Design, CC BY 3.0 -- Map data (C) OpenStreetMap contributors",
       "max_native_zoom": 18,
       "max_zoom": 20,
       "min_native_zoom": 0,
       "name": "Stamen.TopOSMFeatures",
       "options": [
        "attribution",
        "detect_retina",
        "max_native_zoom",
        "max_zoom",
        "min_native_zoom",
        "min_zoom",
        "no_wrap",
        "tile_size",
        "tms"
       ],
       "url": "https://stamen-tiles-a.a.ssl.fastly.net/toposm-features/{z}/{x}/{y}.png"
      }
     },
     "9035da83c131405f937f63cd432311a1": {
      "model_module": "jupyter-leaflet",
      "model_module_version": "^0.15.0",
      "model_name": "LeafletTileLayerModel",
      "state": {
       "_model_module_version": "^0.15.0",
       "_view_module_version": "^0.15.0",
       "attribution": "© swisstopo",
       "max_native_zoom": 18,
       "min_native_zoom": 0,
       "name": "SwissFederalGeoportal.JourneyThroughTime",
       "options": [
        "attribution",
        "detect_retina",
        "max_native_zoom",
        "max_zoom",
        "min_native_zoom",
        "min_zoom",
        "no_wrap",
        "tile_size",
        "tms"
       ],
       "url": "https://wmts.geo.admin.ch/1.0.0/ch.swisstopo.zeitreihen/default/18641231/3857/{z}/{x}/{y}.png"
      }
     },
     "914c8848ca354a08b2df3d489f6c26e7": {
      "model_module": "@jupyter-widgets/base",
      "model_module_version": "1.2.0",
      "model_name": "LayoutModel",
      "state": {
       "display": "none"
      }
     },
     "928c5222e5964c0bbbd27ebb1497df1c": {
      "model_module": "@jupyter-widgets/controls",
      "model_module_version": "1.5.0",
      "model_name": "ToggleButtonModel",
      "state": {
       "button_style": "primary",
       "icon": "camera",
       "layout": "IPY_MODEL_d17d84015560451e8dfde6180531dd3e",
       "style": "IPY_MODEL_a61a42125caa4f4ebd14159a2970bec5",
       "tooltip": "Save map as HTML or image"
      }
     },
     "93bce8a953de41f0b51561e1b749ac29": {
      "model_module": "@jupyter-widgets/controls",
      "model_module_version": "1.5.0",
      "model_name": "ToggleButtonModel",
      "state": {
       "button_style": "primary",
       "icon": "bar-chart",
       "layout": "IPY_MODEL_89967eb294da4a1bb39d15958caa5c18",
       "style": "IPY_MODEL_de2f62e858aa4c988ea800c60707763b",
       "tooltip": "Plotting"
      }
     },
     "9453daf3276c48159525598f503de10d": {
      "model_module": "jupyter-leaflet",
      "model_module_version": "^0.15.0",
      "model_name": "LeafletTileLayerModel",
      "state": {
       "_model_module_version": "^0.15.0",
       "_view_module_version": "^0.15.0",
       "attribution": "Tiles (C) Esri -- Source: USGS, Esri, TANA, DeLorme, and NPS",
       "max_native_zoom": 18,
       "max_zoom": 13,
       "min_native_zoom": 0,
       "name": "Esri.WorldTerrain",
       "options": [
        "attribution",
        "detect_retina",
        "max_native_zoom",
        "max_zoom",
        "min_native_zoom",
        "min_zoom",
        "no_wrap",
        "tile_size",
        "tms"
       ],
       "url": "https://server.arcgisonline.com/ArcGIS/rest/services/World_Terrain_Base/MapServer/tile/{z}/{y}/{x}"
      }
     },
     "948909374c35495ab039477a01e9c116": {
      "model_module": "ipyevents",
      "model_module_version": "2.0.1",
      "model_name": "EventModel",
      "state": {
       "_supported_key_events": [
        "keydown",
        "keyup"
       ],
       "_supported_mouse_events": [
        "click",
        "auxclick",
        "dblclick",
        "mouseenter",
        "mouseleave",
        "mousedown",
        "mouseup",
        "mousemove",
        "wheel",
        "contextmenu",
        "dragstart",
        "drag",
        "dragend",
        "dragenter",
        "dragover",
        "dragleave",
        "drop"
       ],
       "_supported_touch_events": [
        "touchstart",
        "touchend",
        "touchmove",
        "touchcancel"
       ],
       "_view_module": "@jupyter-widgets/controls",
       "_view_module_version": "1.5.0",
       "source": "IPY_MODEL_71120a0d02ee4a14b792bd1e402af2cf",
       "throttle_or_debounce": "",
       "watched_events": [
        "mouseenter",
        "mouseleave"
       ],
       "xy_coordinate_system": ""
      }
     },
     "94b07b95b80e465c9d63b7870ee1c9a8": {
      "model_module": "jupyter-leaflet",
      "model_module_version": "^0.15.0",
      "model_name": "LeafletWidgetControlModel",
      "state": {
       "_model_module": "jupyter-leaflet",
       "_model_module_version": "^0.15.0",
       "_view_count": null,
       "_view_module": "jupyter-leaflet",
       "_view_module_version": "^0.15.0",
       "options": [
        "position",
        "transparent_bg"
       ],
       "position": "topright",
       "widget": "IPY_MODEL_c5146d53c04e40bf80c54be37964ba19"
      }
     },
     "9508aee783694051a87a881fe46597aa": {
      "model_module": "@jupyter-widgets/base",
      "model_module_version": "1.2.0",
      "model_name": "LayoutModel",
      "state": {
       "grid_area": "pathlist",
       "width": "auto"
      }
     },
     "9514788d5e834c7fb1d173553c22f6d1": {
      "model_module": "@here/map-widget-for-jupyter",
      "model_module_version": "^1.1.3",
      "model_name": "DefaultLayersModel",
      "state": {
       "_model_module": "@here/map-widget-for-jupyter",
       "_model_module_version": "^1.1.3",
       "_view_count": null,
       "_view_module": "@here/map-widget-for-jupyter",
       "_view_module_version": "^1.1.3",
       "layer_name": "raster.normal.xbase",
       "ppi": null
      }
     },
     "9566f7eb31f94df4874e16bdd0762c06": {
      "model_module": "@jupyter-widgets/controls",
      "model_module_version": "1.5.0",
      "model_name": "DescriptionStyleModel",
      "state": {
       "description_width": ""
      }
     },
     "965fe3885dde41e8b44cd8dcf3ea1866": {
      "model_module": "@here/map-widget-for-jupyter",
      "model_module_version": "^1.1.3",
      "model_name": "DefaultLayersModel",
      "state": {
       "_model_module": "@here/map-widget-for-jupyter",
       "_model_module_version": "^1.1.3",
       "_view_count": null,
       "_view_module": "@here/map-widget-for-jupyter",
       "_view_module_version": "^1.1.3",
       "layer_name": "raster.satellite.base",
       "ppi": null
      }
     },
     "97a2edc6ae7c4643bda375a0daca1067": {
      "model_module": "jupyter-leaflet",
      "model_module_version": "^0.15.0",
      "model_name": "LeafletTileLayerModel",
      "state": {
       "_model_module_version": "^0.15.0",
       "_view_module_version": "^0.15.0",
       "attribution": "(C) OpenStreetMap contributors",
       "max_native_zoom": 18,
       "min_native_zoom": 0,
       "name": "OpenStreetMap.CH",
       "options": [
        "attribution",
        "detect_retina",
        "max_native_zoom",
        "max_zoom",
        "min_native_zoom",
        "min_zoom",
        "no_wrap",
        "tile_size",
        "tms"
       ],
       "url": "https://tile.osm.ch/switzerland/{z}/{x}/{y}.png"
      }
     },
     "9824fff1fb8743c28a116d3957b5d85b": {
      "model_module": "jupyter-leaflet",
      "model_module_version": "^0.15.0",
      "model_name": "LeafletTileLayerModel",
      "state": {
       "_model_module_version": "^0.15.0",
       "_view_module_version": "^0.15.0",
       "attribution": "![](https://docs.onemap.sg/maps/images/oneMap64-01.png) New OneMap | Map data (C) contributors, Singapore Land Authority",
       "max_native_zoom": 18,
       "min_native_zoom": 0,
       "name": "OneMapSG.LandLot",
       "options": [
        "attribution",
        "detect_retina",
        "max_native_zoom",
        "max_zoom",
        "min_native_zoom",
        "min_zoom",
        "no_wrap",
        "tile_size",
        "tms"
       ],
       "url": "https://maps-a.onemap.sg/v3/LandLot/{z}/{x}/{y}.png"
      }
     },
     "989623c550d249b39c03cc8aa30fa7c2": {
      "model_module": "@here/map-widget-for-jupyter",
      "model_module_version": "^1.1.3",
      "model_name": "DefaultLayersModel",
      "state": {
       "_model_module": "@here/map-widget-for-jupyter",
       "_model_module_version": "^1.1.3",
       "_view_count": null,
       "_view_module": "@here/map-widget-for-jupyter",
       "_view_module_version": "^1.1.3",
       "layer_name": "raster.terrain.xbase",
       "ppi": null
      }
     },
     "989732db12834b319b6636bf4d0e3de4": {
      "model_module": "jupyter-leaflet",
      "model_module_version": "^0.15.0",
      "model_name": "LeafletTileLayerModel",
      "state": {
       "_model_module_version": "^0.15.0",
       "_view_module_version": "^0.15.0",
       "attribution": "Geoportail France",
       "max_native_zoom": 18,
       "max_zoom": 19,
       "min_native_zoom": 0,
       "name": "GeoportailFrance.orthos",
       "options": [
        "attribution",
        "detect_retina",
        "max_native_zoom",
        "max_zoom",
        "min_native_zoom",
        "min_zoom",
        "no_wrap",
        "tile_size",
        "tms"
       ],
       "url": "https://wxs.ign.fr/choisirgeoportail/geoportail/wmts?REQUEST=GetTile&SERVICE=WMTS&VERSION=1.0.0&STYLE=normal&TILEMATRIXSET=PM&FORMAT=image/jpeg&LAYER=ORTHOIMAGERY.ORTHOPHOTOS&TILEMATRIX={z}&TILEROW={y}&TILECOL={x}"
      }
     },
     "9930d45a5854493cb3397bcc80ec0029": {
      "model_module": "jupyter-leaflet",
      "model_module_version": "^0.15.0",
      "model_name": "LeafletTileLayerModel",
      "state": {
       "_model_module_version": "^0.15.0",
       "_view_module_version": "^0.15.0",
       "attribution": "Tiles courtesy of the U.S. Geological Survey",
       "max_native_zoom": 18,
       "max_zoom": 20,
       "min_native_zoom": 0,
       "name": "USGS.USImageryTopo",
       "options": [
        "attribution",
        "detect_retina",
        "max_native_zoom",
        "max_zoom",
        "min_native_zoom",
        "min_zoom",
        "no_wrap",
        "tile_size",
        "tms"
       ],
       "url": "https://basemap.nationalmap.gov/arcgis/rest/services/USGSImageryTopo/MapServer/tile/{z}/{y}/{x}"
      }
     },
     "998491914e57478ca66815d3533d7d88": {
      "model_module": "jupyter-leaflet",
      "model_module_version": "^0.15.0",
      "model_name": "LeafletWMSLayerModel",
      "state": {
       "_model_module_version": "^0.15.0",
       "_view_module_version": "^0.15.0",
       "attribution": "MRLC",
       "crs": {
        "custom": false,
        "name": "EPSG3857"
       },
       "format": "image/png",
       "layers": "NLCD_2004_Land_Cover_L48",
       "max_native_zoom": 18,
       "min_native_zoom": 0,
       "name": "NLCD 2004 CONUS Land Cover",
       "options": [
        "attribution",
        "detect_retina",
        "format",
        "layers",
        "max_native_zoom",
        "max_zoom",
        "min_native_zoom",
        "min_zoom",
        "no_wrap",
        "styles",
        "tile_size",
        "tms",
        "transparent",
        "uppercase"
       ],
       "transparent": true,
       "url": "https://www.mrlc.gov/geoserver/mrlc_display/NLCD_2004_Land_Cover_L48/wms?"
      }
     },
     "999162c5a7454e33a43fe5013b6bc477": {
      "model_module": "jupyter-leaflet",
      "model_module_version": "^0.15.0",
      "model_name": "LeafletTileLayerModel",
      "state": {
       "_model_module_version": "^0.15.0",
       "_view_module_version": "^0.15.0",
       "attribution": "Map tiles by Stamen Design, CC BY 3.0 -- Map data (C) OpenStreetMap contributors",
       "max_native_zoom": 18,
       "max_zoom": 20,
       "min_native_zoom": 0,
       "name": "Stamen.TopOSMRelief",
       "options": [
        "attribution",
        "detect_retina",
        "max_native_zoom",
        "max_zoom",
        "min_native_zoom",
        "min_zoom",
        "no_wrap",
        "tile_size",
        "tms"
       ],
       "url": "https://stamen-tiles-a.a.ssl.fastly.net/toposm-color-relief/{z}/{x}/{y}.jpg"
      }
     },
     "9a4255db5fb44e919e4072e5bf710f37": {
      "model_module": "@jupyter-widgets/base",
      "model_module_version": "1.2.0",
      "model_name": "LayoutModel",
      "state": {
       "width": "auto"
      }
     },
     "9aa4d1589ac341e8a79fbd7549ba9c7c": {
      "model_module": "@jupyter-widgets/controls",
      "model_module_version": "1.5.0",
      "model_name": "DescriptionStyleModel",
      "state": {
       "description_width": ""
      }
     },
     "9aef9c045fea4bafafb03ed32c8d4728": {
      "model_module": "@jupyter-widgets/controls",
      "model_module_version": "1.5.0",
      "model_name": "ToggleButtonModel",
      "state": {
       "button_style": "primary",
       "icon": "folder-open",
       "layout": "IPY_MODEL_0c6bfbcd58704112ad60554c7a4d248b",
       "style": "IPY_MODEL_fdc60e0d1db5451d9659cef22a6b8ee6",
       "tooltip": "Open local vector/raster data"
      }
     },
     "9b3e34dd152d4f878ec74144cbc3d85e": {
      "model_module": "@jupyter-widgets/controls",
      "model_module_version": "1.5.0",
      "model_name": "DescriptionStyleModel",
      "state": {
       "description_width": ""
      }
     },
     "9b6575218fa043e1863e5f387d4801a8": {
      "model_module": "jupyter-leaflet",
      "model_module_version": "^0.15.0",
      "model_name": "LeafletTileLayerModel",
      "state": {
       "_model_module_version": "^0.15.0",
       "_view_module_version": "^0.15.0",
       "attribution": "(C) OpenStreetMap contributors (C) CARTO",
       "max_native_zoom": 18,
       "max_zoom": 20,
       "min_native_zoom": 0,
       "name": "CartoDB.PositronOnlyLabels",
       "options": [
        "attribution",
        "detect_retina",
        "max_native_zoom",
        "max_zoom",
        "min_native_zoom",
        "min_zoom",
        "no_wrap",
        "tile_size",
        "tms"
       ],
       "url": "https://a.basemaps.cartocdn.com/light_only_labels/{z}/{x}/{y}.png"
      }
     },
     "9bd580dadac34836aeb48651a98b8182": {
      "model_module": "@jupyter-widgets/controls",
      "model_module_version": "1.5.0",
      "model_name": "DescriptionStyleModel",
      "state": {
       "description_width": ""
      }
     },
     "9d25542b728041c8885513ecc77d692d": {
      "model_module": "@jupyter-widgets/base",
      "model_module_version": "1.2.0",
      "model_name": "LayoutModel",
      "state": {}
     },
     "9d33f252c188462386d8794cf1056ec1": {
      "model_module": "jupyter-leaflet",
      "model_module_version": "^0.15.0",
      "model_name": "LeafletTileLayerModel",
      "state": {
       "_model_module_version": "^0.15.0",
       "_view_module_version": "^0.15.0",
       "attribution": "Map tiles by <a href=\"https://labs.strava.com/heatmap\">Strava 2021</a>",
       "max_native_zoom": 18,
       "max_zoom": 15,
       "min_native_zoom": 0,
       "name": "Strava.Winter",
       "options": [
        "attribution",
        "detect_retina",
        "max_native_zoom",
        "max_zoom",
        "min_native_zoom",
        "min_zoom",
        "no_wrap",
        "tile_size",
        "tms"
       ],
       "url": "https://heatmap-external-a.strava.com/tiles/winter/hot/{z}/{x}/{y}.png"
      }
     },
     "9d5b0cf6a4ad4194911090f8be8a130f": {
      "model_module": "@jupyter-widgets/base",
      "model_module_version": "1.2.0",
      "model_name": "LayoutModel",
      "state": {
       "display": "none",
       "min_width": "6em",
       "width": "6em"
      }
     },
     "9d68e0f05e42477488bb348d09b11fae": {
      "model_module": "jupyter-leaflet",
      "model_module_version": "^0.15.0",
      "model_name": "LeafletTileLayerModel",
      "state": {
       "_model_module_version": "^0.15.0",
       "_view_module_version": "^0.15.0",
       "attribution": "Kaartgegevens (C) Kadaster",
       "max_native_zoom": 18,
       "max_zoom": 19,
       "min_native_zoom": 0,
       "name": "nlmaps.grijs",
       "options": [
        "attribution",
        "detect_retina",
        "max_native_zoom",
        "max_zoom",
        "min_native_zoom",
        "min_zoom",
        "no_wrap",
        "tile_size",
        "tms"
       ],
       "url": "https://service.pdok.nl/brt/achtergrondkaart/wmts/v2_0/grijs/EPSG:3857/{z}/{x}/{y}.png"
      }
     },
     "9d7f5ec7b59944bc87cbb12fbc57e771": {
      "model_module": "jupyter-leaflet",
      "model_module_version": "^0.15.0",
      "model_name": "LeafletTileLayerModel",
      "state": {
       "_model_module_version": "^0.15.0",
       "_view_module_version": "^0.15.0",
       "attribution": "Imagery provided by services from the Global Imagery Browse Services (GIBS), operated by the NASA/GSFC/Earth Science Data and Information System (ESDIS) with funding provided by NASA/HQ.",
       "max_native_zoom": 18,
       "max_zoom": 9,
       "min_native_zoom": 0,
       "name": "NASAGIBS.ModisTerraTrueColorCR",
       "options": [
        "attribution",
        "detect_retina",
        "max_native_zoom",
        "max_zoom",
        "min_native_zoom",
        "min_zoom",
        "no_wrap",
        "tile_size",
        "tms"
       ],
       "url": "https://map1.vis.earthdata.nasa.gov/wmts-webmerc/MODIS_Terra_CorrectedReflectance_TrueColor/default//GoogleMapsCompatible_Level9/{z}/{y}/{x}.jpg"
      }
     },
     "9dc62e0e334a4509b3c1a953f1dbdc88": {
      "model_module": "@jupyter-widgets/controls",
      "model_module_version": "1.5.0",
      "model_name": "VBoxModel",
      "state": {
       "children": [
        "IPY_MODEL_b3f90768660e4a3892abee9b22d722bc",
        "IPY_MODEL_f0de4d4039574fdf8a4fd2c206f217d4"
       ],
       "layout": "IPY_MODEL_0583c9e116484f26b994a6c9eb2f621c"
      }
     },
     "9e777428f7dd43e9980da2c134111d69": {
      "model_module": "@jupyter-widgets/controls",
      "model_module_version": "1.5.0",
      "model_name": "DescriptionStyleModel",
      "state": {
       "description_width": ""
      }
     },
     "9f1f4b492fe246dfb864b734f53f3cdf": {
      "model_module": "@jupyter-widgets/base",
      "model_module_version": "1.2.0",
      "model_name": "LayoutModel",
      "state": {
       "width": "auto"
      }
     },
     "a105cfb19c4343b7b138b9a6bc5cc02b": {
      "model_module": "@jupyter-widgets/controls",
      "model_module_version": "1.5.0",
      "model_name": "DescriptionStyleModel",
      "state": {
       "description_width": ""
      }
     },
     "a1ac7eb267ed456381b1c1f95e4c8e56": {
      "model_module": "@jupyter-widgets/controls",
      "model_module_version": "1.5.0",
      "model_name": "ToggleButtonModel",
      "state": {
       "button_style": "primary",
       "icon": "fast-forward",
       "layout": "IPY_MODEL_185a267ca6244078a6bef8fcbcf28ab0",
       "style": "IPY_MODEL_7be77c4b32044b0b9bcd7aa508d5fd56",
       "tooltip": "Activate timeslider"
      }
     },
     "a2425aefe4324da48d2d9607e19f0b3f": {
      "model_module": "@here/map-widget-for-jupyter",
      "model_module_version": "^1.1.3",
      "model_name": "DefaultLayersModel",
      "state": {
       "_model_module": "@here/map-widget-for-jupyter",
       "_model_module_version": "^1.1.3",
       "_view_count": null,
       "_view_module": "@here/map-widget-for-jupyter",
       "_view_module_version": "^1.1.3",
       "layer_name": "raster.satellite.labels",
       "ppi": null
      }
     },
     "a2d082b304154c12b2b304d87530b7d0": {
      "model_module": "@here/map-widget-for-jupyter",
      "model_module_version": "^1.1.3",
      "model_name": "DefaultLayersModel",
      "state": {
       "_model_module": "@here/map-widget-for-jupyter",
       "_model_module_version": "^1.1.3",
       "_view_count": null,
       "_view_module": "@here/map-widget-for-jupyter",
       "_view_module_version": "^1.1.3",
       "layer_name": "raster.normal.map",
       "ppi": null
      }
     },
     "a32a5e1b26fa417d859cecb734fbae03": {
      "model_module": "jupyter-leaflet",
      "model_module_version": "^0.15.0",
      "model_name": "LeafletMapModel",
      "state": {
       "_model_module_version": "^0.15.0",
       "_view_module_version": "^0.15.0",
       "bottom": 411113,
       "center": [
        36.17973094416368,
        -117.08541870117189
       ],
       "controls": [
        "IPY_MODEL_8df2779c8ef04e3c882adfd4742dc091",
        "IPY_MODEL_a7341b2f758e479683033da7f02e7d8d",
        "IPY_MODEL_52fa5606587148448e2ec30f71013080",
        "IPY_MODEL_0ea6630556df40fa8ab7f373a0f61004",
        "IPY_MODEL_d2ba4e6296304ad4abaae95320e29cd2",
        "IPY_MODEL_f673ec122b6a4551ab205c9fc338d50d",
        "IPY_MODEL_3f870ea439fa4eeb92a5257bf0739a19",
        "IPY_MODEL_7396658ba8d14ae0b51aa873402ac2d9"
       ],
       "default_style": "IPY_MODEL_b237e7bafd6948809be4d16f02e91c0c",
       "dragging_style": "IPY_MODEL_6c51916adb244d74aeb4c55871615fe8",
       "east": -117.08541870117189,
       "fullscreen": false,
       "interpolation": "bilinear",
       "layers": [
        "IPY_MODEL_04f2e05544e449e9a4733bcc295df976",
        "IPY_MODEL_425d0fd7ebbb47ce8c72b43d7b8c4873",
        "IPY_MODEL_ed6e914568e7464580eb0f6bd42f1851",
        "IPY_MODEL_d056025d29034999ab8ce434a94b6fb0",
        "IPY_MODEL_f3aab73acc6444db9059eeb560b19cb4",
        "IPY_MODEL_2b5036bfe9664ab28c674f8607586ffb"
       ],
       "layout": "IPY_MODEL_3795247b84774dd6a82d64a2da6a3c43",
       "left": 183252,
       "max_zoom": 24,
       "modisdate": "2022-03-24",
       "north": 36.17973094416368,
       "options": [
        "bounce_at_zoom_limits",
        "box_zoom",
        "center",
        "close_popup_on_click",
        "double_click_zoom",
        "dragging",
        "fullscreen",
        "inertia",
        "inertia_deceleration",
        "inertia_max_speed",
        "interpolation",
        "keyboard",
        "keyboard_pan_offset",
        "keyboard_zoom_offset",
        "max_zoom",
        "min_zoom",
        "prefer_canvas",
        "scroll_wheel_zoom",
        "tap",
        "tap_tolerance",
        "touch_zoom",
        "world_copy_jump",
        "zoom",
        "zoom_animation_threshold",
        "zoom_delta",
        "zoom_snap",
        "zoom_start"
       ],
       "prefer_canvas": false,
       "right": 183252,
       "scroll_wheel_zoom": true,
       "south": 36.17973094416368,
       "style": "IPY_MODEL_b237e7bafd6948809be4d16f02e91c0c",
       "top": 411113,
       "west": -117.08541870117189,
       "window_url": "https://jupyterhub.cuahsi.org/user/torresrua/lab/tree/cee5003_remote_sensing/prj_earthengine_hydroshare/Lab%206%20Time-Series_2021.ipynb"
      }
     },
     "a43c1f1a4acb41aebc94545c6348bb28": {
      "model_module": "jupyter-leaflet",
      "model_module_version": "^0.15.0",
      "model_name": "LeafletTileLayerModel",
      "state": {
       "_model_module_version": "^0.15.0",
       "_view_module_version": "^0.15.0",
       "attribution": "Imagery provided by services from the Global Imagery Browse Services (GIBS), operated by the NASA/GSFC/Earth Science Data and Information System (<a href=\"https://earthdata.nasa.gov\">ESDIS</a>) with funding provided by NASA/HQ.",
       "max_native_zoom": 18,
       "max_zoom": 9,
       "min_native_zoom": 0,
       "name": "NASAGIBS.ModisAquaBands721CR",
       "options": [
        "attribution",
        "detect_retina",
        "max_native_zoom",
        "max_zoom",
        "min_native_zoom",
        "min_zoom",
        "no_wrap",
        "tile_size",
        "tms"
       ],
       "url": "https://gibs.earthdata.nasa.gov/wmts/epsg3857/best/MODIS_Aqua_CorrectedReflectance_Bands721/default//GoogleMapsCompatible_Level9/{z}/{y}/{x}.jpg"
      }
     },
     "a47c4bbd7d4749e5ac9b052933ac2418": {
      "model_module": "jupyter-leaflet",
      "model_module_version": "^0.15.0",
      "model_name": "LeafletTileLayerModel",
      "state": {
       "_model_module_version": "^0.15.0",
       "_view_module_version": "^0.15.0",
       "attribution": "Datenquelle: basemap.at",
       "max_native_zoom": 18,
       "max_zoom": 19,
       "min_native_zoom": 0,
       "name": "BasemapAT.terrain",
       "options": [
        "attribution",
        "detect_retina",
        "max_native_zoom",
        "max_zoom",
        "min_native_zoom",
        "min_zoom",
        "no_wrap",
        "tile_size",
        "tms"
       ],
       "url": "https://maps.wien.gv.at/basemap/bmapgelaende/grau/google3857/{z}/{y}/{x}.jpeg"
      }
     },
     "a486f96db08640b0beb971e2d14fa77f": {
      "model_module": "@jupyter-widgets/controls",
      "model_module_version": "1.5.0",
      "model_name": "GridBoxModel",
      "state": {
       "children": [
        "IPY_MODEL_547d50d271f3415691fbffe3a85a16ee",
        "IPY_MODEL_93bce8a953de41f0b51561e1b749ac29",
        "IPY_MODEL_928c5222e5964c0bbbd27ebb1497df1c",
        "IPY_MODEL_ecd6117ae25445728c242b6fcaae679d",
        "IPY_MODEL_67a31c02022041a8896a6d68dee04300",
        "IPY_MODEL_720a316c6bc743bdb3146abd6e530894",
        "IPY_MODEL_8c216614eecc4d49a848e9b897f28391",
        "IPY_MODEL_ae316253529f470b90b4b55ba6e1a468",
        "IPY_MODEL_e83567343b0349399e5c68a14c1366ca",
        "IPY_MODEL_f4df1130378a404d9d605e1fdc79fe5e",
        "IPY_MODEL_a1ac7eb267ed456381b1c1f95e4c8e56",
        "IPY_MODEL_04e8de1afcd04f39816f3bf7246d09bf",
        "IPY_MODEL_0af134c7a1e94534bb0f7bb228f54065",
        "IPY_MODEL_2119a20314bf4cf9ba97198acae1dae8",
        "IPY_MODEL_4ddb2e6169774a7ea80585ccceadbe97",
        "IPY_MODEL_7e69fe59dd314553af73165a29e35b44",
        "IPY_MODEL_d3ce451bec694b3db20779054b9609e0",
        "IPY_MODEL_241ea3b9231f432193713b0984d89dff"
       ],
       "layout": "IPY_MODEL_02bd6cb22b234b2a8b1d2771e078349b"
      }
     },
     "a567144f68ee467f9c35b40711ba0462": {
      "model_module": "jupyter-leaflet",
      "model_module_version": "^0.15.0",
      "model_name": "LeafletTileLayerModel",
      "state": {
       "_model_module_version": "^0.15.0",
       "_view_module_version": "^0.15.0",
       "attribution": "Kaartgegevens (C) Kadaster",
       "max_native_zoom": 18,
       "max_zoom": 19,
       "min_native_zoom": 0,
       "name": "nlmaps.standaard",
       "options": [
        "attribution",
        "detect_retina",
        "max_native_zoom",
        "max_zoom",
        "min_native_zoom",
        "min_zoom",
        "no_wrap",
        "tile_size",
        "tms"
       ],
       "url": "https://service.pdok.nl/brt/achtergrondkaart/wmts/v2_0/standaard/EPSG:3857/{z}/{x}/{y}.png"
      }
     },
     "a61a42125caa4f4ebd14159a2970bec5": {
      "model_module": "@jupyter-widgets/controls",
      "model_module_version": "1.5.0",
      "model_name": "DescriptionStyleModel",
      "state": {
       "description_width": ""
      }
     },
     "a718becc8a824e7b8d41eb28e2df2ad5": {
      "model_module": "@jupyter-widgets/base",
      "model_module_version": "1.2.0",
      "model_name": "LayoutModel",
      "state": {
       "height": "auto",
       "padding": "0px 0px 0px 4px",
       "width": "auto"
      }
     },
     "a7341b2f758e479683033da7f02e7d8d": {
      "model_module": "jupyter-leaflet",
      "model_module_version": "^0.15.0",
      "model_name": "LeafletZoomControlModel",
      "state": {
       "_model_module_version": "^0.15.0",
       "_view_module_version": "^0.15.0",
       "options": [
        "position",
        "zoom_in_text",
        "zoom_in_title",
        "zoom_out_text",
        "zoom_out_title"
       ]
      }
     },
     "a74dcf998f604b09be5b87cdb8eb650f": {
      "model_module": "@jupyter-widgets/base",
      "model_module_version": "1.2.0",
      "model_name": "LayoutModel",
      "state": {
       "max_width": "279px",
       "min_width": "279px"
      }
     },
     "a7a26be5719549928331729c04c3c9c6": {
      "model_module": "jupyter-leaflet",
      "model_module_version": "^0.15.0",
      "model_name": "LeafletTileLayerModel",
      "state": {
       "_model_module_version": "^0.15.0",
       "_view_module_version": "^0.15.0",
       "attribution": "Tiles (C) Esri -- Esri, DeLorme, NAVTEQ, TomTom, Intermap, iPC, USGS, FAO, NPS, NRCAN, GeoBase, Kadaster NL, Ordnance Survey, Esri Japan, METI, Esri China (Hong Kong), and the GIS User Community",
       "max_native_zoom": 18,
       "max_zoom": 22,
       "min_native_zoom": 0,
       "name": "Esri.WorldTopoMap",
       "options": [
        "attribution",
        "detect_retina",
        "max_native_zoom",
        "max_zoom",
        "min_native_zoom",
        "min_zoom",
        "no_wrap",
        "tile_size",
        "tms"
       ],
       "url": "https://server.arcgisonline.com/ArcGIS/rest/services/World_Topo_Map/MapServer/tile/{z}/{y}/{x}"
      }
     },
     "a7d458f085074d8e9030aec2ea3b6137": {
      "model_module": "@jupyter-widgets/controls",
      "model_module_version": "1.5.0",
      "model_name": "ToggleButtonModel",
      "state": {
       "button_style": "primary",
       "icon": "info",
       "layout": "IPY_MODEL_b6cfda455bcc40cb9caa2b619f69472c",
       "style": "IPY_MODEL_16ae5461398a42988a471d551c7b9e81",
       "tooltip": "Inspector"
      }
     },
     "a87b0f7b54da4c91b70e53d3d0a6fa38": {
      "model_module": "jupyter-leaflet",
      "model_module_version": "^0.15.0",
      "model_name": "LeafletTileLayerModel",
      "state": {
       "_model_module_version": "^0.15.0",
       "_view_module_version": "^0.15.0",
       "attribution": "Justice Map",
       "max_native_zoom": 18,
       "max_zoom": 22,
       "min_native_zoom": 0,
       "name": "JusticeMap.multi",
       "options": [
        "attribution",
        "detect_retina",
        "max_native_zoom",
        "max_zoom",
        "min_native_zoom",
        "min_zoom",
        "no_wrap",
        "tile_size",
        "tms"
       ],
       "url": "https://www.justicemap.org/tile/county/multi/{z}/{x}/{y}.png"
      }
     },
     "a89544e0e6224dedaeb35a96507d5d1e": {
      "model_module": "jupyter-leaflet",
      "model_module_version": "^0.15.0",
      "model_name": "LeafletDrawControlModel",
      "state": {
       "_model_module_version": "^0.15.0",
       "_view_module_version": "^0.15.0",
       "circle": {
        "shapeOptions": {
         "color": "#3388ff"
        }
       },
       "edit": false,
       "options": [
        "position"
       ],
       "polygon": {},
       "polyline": {},
       "rectangle": {
        "shapeOptions": {
         "color": "#3388ff"
        }
       },
       "remove": false
      }
     },
     "a9bac632bf53431384efa6347af59e09": {
      "model_module": "jupyter-leaflet",
      "model_module_version": "^0.15.0",
      "model_name": "LeafletTileLayerModel",
      "state": {
       "_model_module_version": "^0.15.0",
       "_view_module_version": "^0.15.0",
       "attribution": "Map data: (C) OpenStreetMap contributors | Map style: (C) waymarkedtrails.org (CC-BY-SA)",
       "max_native_zoom": 18,
       "min_native_zoom": 0,
       "name": "WaymarkedTrails.skating",
       "options": [
        "attribution",
        "detect_retina",
        "max_native_zoom",
        "max_zoom",
        "min_native_zoom",
        "min_zoom",
        "no_wrap",
        "tile_size",
        "tms"
       ],
       "url": "https://tile.waymarkedtrails.org/skating/{z}/{x}/{y}.png"
      }
     },
     "a9d8bb0f3422458a94120ba786fda2e6": {
      "model_module": "jupyter-leaflet",
      "model_module_version": "^0.15.0",
      "model_name": "LeafletTileLayerModel",
      "state": {
       "_model_module_version": "^0.15.0",
       "_view_module_version": "^0.15.0",
       "attribution": "(C) OpenStreetMap contributors (C) CARTO",
       "max_native_zoom": 18,
       "max_zoom": 20,
       "min_native_zoom": 0,
       "name": "CartoDB.PositronNoLabels",
       "options": [
        "attribution",
        "detect_retina",
        "max_native_zoom",
        "max_zoom",
        "min_native_zoom",
        "min_zoom",
        "no_wrap",
        "tile_size",
        "tms"
       ],
       "url": "https://a.basemaps.cartocdn.com/light_nolabels/{z}/{x}/{y}.png"
      }
     },
     "aa4e60d9d8714c7ca8dc6aa4fed8bba0": {
      "model_module": "@here/map-widget-for-jupyter",
      "model_module_version": "^1.1.3",
      "model_name": "DefaultLayersModel",
      "state": {
       "_model_module": "@here/map-widget-for-jupyter",
       "_model_module_version": "^1.1.3",
       "_view_count": null,
       "_view_module": "@here/map-widget-for-jupyter",
       "_view_module_version": "^1.1.3",
       "layer_name": "raster.terrain.map",
       "ppi": null
      }
     },
     "aa64f2c01ae34acba060d913d0f42b5f": {
      "model_module": "jupyter-leaflet",
      "model_module_version": "^0.15.0",
      "model_name": "LeafletTileLayerModel",
      "state": {
       "_model_module_version": "^0.15.0",
       "_view_module_version": "^0.15.0",
       "attribution": "Tiles (C) Esri -- National Geographic, Esri, DeLorme, NAVTEQ, UNEP-WCMC, USGS, NASA, ESA, METI, NRCAN, GEBCO, NOAA, iPC",
       "max_native_zoom": 18,
       "max_zoom": 16,
       "min_native_zoom": 0,
       "name": "Esri.NatGeoWorldMap",
       "options": [
        "attribution",
        "detect_retina",
        "max_native_zoom",
        "max_zoom",
        "min_native_zoom",
        "min_zoom",
        "no_wrap",
        "tile_size",
        "tms"
       ],
       "url": "https://server.arcgisonline.com/ArcGIS/rest/services/NatGeo_World_Map/MapServer/tile/{z}/{y}/{x}"
      }
     },
     "aac57995277e40b68c60baae1f4d5f50": {
      "model_module": "@jupyter-widgets/base",
      "model_module_version": "1.2.0",
      "model_name": "LayoutModel",
      "state": {
       "display": "none",
       "grid_gap": "0px 0px",
       "grid_template_areas": "\n                    'pathlist filename'\n                    'dircontent dircontent'\n                    ",
       "grid_template_columns": "60% 40%",
       "grid_template_rows": "auto auto",
       "width": "auto"
      }
     },
     "ab33a51eeb204fc78966e91c32feb854": {
      "model_module": "@jupyter-widgets/controls",
      "model_module_version": "1.5.0",
      "model_name": "DescriptionStyleModel",
      "state": {
       "description_width": ""
      }
     },
     "ab8ced1cdbf34cc2b9f46db0d0042a28": {
      "model_module": "@jupyter-widgets/controls",
      "model_module_version": "1.5.0",
      "model_name": "ButtonModel",
      "state": {
       "description": "Select",
       "layout": "IPY_MODEL_efaf55b934e448df8b50ab20c86e97e5",
       "style": "IPY_MODEL_c0c64b1b64c243c593877e85e17b6517"
      }
     },
     "ac5b84c0e3824d13acc77dda711d24fa": {
      "model_module": "@jupyter-widgets/base",
      "model_module_version": "1.2.0",
      "model_name": "LayoutModel",
      "state": {
       "grid_area": "filename",
       "width": "auto"
      }
     },
     "ad16aecbf9ee4c2a8edbd36330db11e1": {
      "model_module": "@jupyter-widgets/controls",
      "model_module_version": "1.5.0",
      "model_name": "DescriptionStyleModel",
      "state": {
       "description_width": ""
      }
     },
     "ad516a7b4ef249f8aef3c9f7d993b622": {
      "model_module": "@jupyter-widgets/controls",
      "model_module_version": "1.5.0",
      "model_name": "ButtonStyleModel",
      "state": {}
     },
     "add98b2db52a4a7f94f74f9e190b82f3": {
      "model_module": "jupyter-leaflet",
      "model_module_version": "^0.15.0",
      "model_name": "LeafletTileLayerModel",
      "state": {
       "_model_module_version": "^0.15.0",
       "_view_module_version": "^0.15.0",
       "attribution": "(C) OpenStreetMap contributors",
       "max_native_zoom": 18,
       "max_zoom": 19,
       "min_native_zoom": 0,
       "name": "HikeBike.HikeBike",
       "options": [
        "attribution",
        "detect_retina",
        "max_native_zoom",
        "max_zoom",
        "min_native_zoom",
        "min_zoom",
        "no_wrap",
        "tile_size",
        "tms"
       ],
       "url": "https://tiles.wmflabs.org/hikebike/{z}/{x}/{y}.png"
      }
     },
     "ae03f33b4f1042769153818596ce18ed": {
      "model_module": "jupyter-leaflet",
      "model_module_version": "^0.15.0",
      "model_name": "LeafletTileLayerModel",
      "state": {
       "_model_module_version": "^0.15.0",
       "_view_module_version": "^0.15.0",
       "attribution": "(C) OpenStreetMap contributors, Tiles courtesy of Breton OpenStreetMap Team",
       "max_native_zoom": 18,
       "max_zoom": 19,
       "min_native_zoom": 0,
       "name": "OpenStreetMap.BZH",
       "options": [
        "attribution",
        "detect_retina",
        "max_native_zoom",
        "max_zoom",
        "min_native_zoom",
        "min_zoom",
        "no_wrap",
        "tile_size",
        "tms"
       ],
       "url": "https://tile.openstreetmap.bzh/br/{z}/{x}/{y}.png"
      }
     },
     "ae316253529f470b90b4b55ba6e1a468": {
      "model_module": "@jupyter-widgets/controls",
      "model_module_version": "1.5.0",
      "model_name": "ToggleButtonModel",
      "state": {
       "button_style": "primary",
       "icon": "google",
       "layout": "IPY_MODEL_74cd5a1606174a878a104386dec9739a",
       "style": "IPY_MODEL_29c740519bea492b9430507161c7c6f4",
       "tooltip": "GEE Toolbox for cloud computing"
      }
     },
     "ae75584b2b7c44f9b9ac981f39cc9e7c": {
      "model_module": "jupyter-leaflet",
      "model_module_version": "^0.15.0",
      "model_name": "LeafletMarkerModel",
      "state": {
       "_model_module_version": "^0.15.0",
       "_view_module_version": "^0.15.0",
       "icon": "IPY_MODEL_0aa351644b904d3c86b57537d765e0f5",
       "options": [
        "alt",
        "draggable",
        "keyboard",
        "rise_offset",
        "rise_on_hover",
        "rotation_angle",
        "rotation_origin",
        "title",
        "z_index_offset"
       ]
      }
     },
     "aea4e6812ebe42a8b54613d07f2d8283": {
      "model_module": "@jupyter-widgets/controls",
      "model_module_version": "1.5.0",
      "model_name": "DescriptionStyleModel",
      "state": {
       "description_width": ""
      }
     },
     "af43949dc95045a7b01bec9c95307b1b": {
      "model_module": "@jupyter-widgets/controls",
      "model_module_version": "1.5.0",
      "model_name": "DescriptionStyleModel",
      "state": {
       "description_width": ""
      }
     },
     "af80ec4a7acc4e449019ffd7b7f8ecb3": {
      "model_module": "jupyter-leaflet",
      "model_module_version": "^0.15.0",
      "model_name": "LeafletTileLayerModel",
      "state": {
       "_model_module_version": "^0.15.0",
       "_view_module_version": "^0.15.0",
       "attribution": "Justice Map",
       "max_native_zoom": 18,
       "max_zoom": 22,
       "min_native_zoom": 0,
       "name": "JusticeMap.asian",
       "options": [
        "attribution",
        "detect_retina",
        "max_native_zoom",
        "max_zoom",
        "min_native_zoom",
        "min_zoom",
        "no_wrap",
        "tile_size",
        "tms"
       ],
       "url": "https://www.justicemap.org/tile/county/asian/{z}/{x}/{y}.png"
      }
     },
     "b033dafd5c8e4efd86e98b8e8693c853": {
      "model_module": "@jupyter-widgets/controls",
      "model_module_version": "1.5.0",
      "model_name": "GridBoxModel",
      "state": {
       "children": [
        "IPY_MODEL_e70c004f316d4a03b14329a6106a4094",
        "IPY_MODEL_4cbedc7b41bb4b2482532b30b6d2b67e",
        "IPY_MODEL_bb3e2fa919fb46ca8a0bb7c4353e1d9d"
       ],
       "layout": "IPY_MODEL_dc3421cd8c82495ebda2e1f6eab39e4f"
      }
     },
     "b091fa6a73014719a9d7e07cec20cc7d": {
      "model_module": "@jupyter-widgets/controls",
      "model_module_version": "1.5.0",
      "model_name": "ToggleButtonModel",
      "state": {
       "button_style": "primary",
       "icon": "adjust",
       "layout": "IPY_MODEL_b52a9ba2162147e8a092fe6a0bf62287",
       "style": "IPY_MODEL_d5d5c0ff8af14f6381a93c133ecfe5a2",
       "tooltip": "Planet imagery"
      }
     },
     "b1b78aacc83846ae8bfde9edca98299d": {
      "model_module": "@jupyter-widgets/controls",
      "model_module_version": "1.5.0",
      "model_name": "ToggleButtonModel",
      "state": {
       "button_style": "primary",
       "icon": "google",
       "layout": "IPY_MODEL_6466c00010724c7cb791c55921a15cad",
       "style": "IPY_MODEL_bf5e1a0d6b4e4f8bb4449f71866eeb2c",
       "tooltip": "GEE Toolbox for cloud computing"
      }
     },
     "b237e7bafd6948809be4d16f02e91c0c": {
      "model_module": "jupyter-leaflet",
      "model_module_version": "^0.15.0",
      "model_name": "LeafletMapStyleModel",
      "state": {
       "_model_module_version": "^0.15.0"
      }
     },
     "b2a9d5c66c72418d9ae8391a73f75a03": {
      "model_module": "jupyter-leaflet",
      "model_module_version": "^0.15.0",
      "model_name": "LeafletFullScreenControlModel",
      "state": {
       "_model_module_version": "^0.15.0",
       "_view_module_version": "^0.15.0",
       "options": [
        "position"
       ]
      }
     },
     "b36ee8c128214ae18849b0d8d8a68a4f": {
      "model_module": "@jupyter-widgets/base",
      "model_module_version": "1.2.0",
      "model_name": "LayoutModel",
      "state": {
       "height": "auto",
       "padding": "0px 0px 0px 4px",
       "width": "auto"
      }
     },
     "b370063b10ae4e61a2e73d2ffa56c518": {
      "model_module": "@jupyter-widgets/controls",
      "model_module_version": "1.5.0",
      "model_name": "DescriptionStyleModel",
      "state": {
       "description_width": ""
      }
     },
     "b3db7770c1bf43bbb732f04757b4e9e8": {
      "model_module": "jupyter-leaflet",
      "model_module_version": "^0.15.0",
      "model_name": "LeafletTileLayerModel",
      "state": {
       "_model_module_version": "^0.15.0",
       "_view_module_version": "^0.15.0",
       "attribution": "Kaartgegevens (C) Kadaster",
       "max_native_zoom": 18,
       "max_zoom": 19,
       "min_native_zoom": 0,
       "name": "nlmaps.pastel",
       "options": [
        "attribution",
        "detect_retina",
        "max_native_zoom",
        "max_zoom",
        "min_native_zoom",
        "min_zoom",
        "no_wrap",
        "tile_size",
        "tms"
       ],
       "url": "https://service.pdok.nl/brt/achtergrondkaart/wmts/v2_0/pastel/EPSG:3857/{z}/{x}/{y}.png"
      }
     },
     "b3f90768660e4a3892abee9b22d722bc": {
      "model_module": "@jupyter-widgets/controls",
      "model_module_version": "1.5.0",
      "model_name": "ToggleButtonsModel",
      "state": {
       "_options_labels": [
        "name/address",
        "lat-lon",
        "data"
       ],
       "button_style": "",
       "icons": [],
       "index": 0,
       "layout": "IPY_MODEL_37b298ec88c04e36801c77a700193a28",
       "style": "IPY_MODEL_cee204530ea148e986941b5937760afa",
       "tooltips": [
        "Search by place name or address",
        "Search by lat-lon coordinates",
        "Search Earth Engine data catalog"
       ]
      }
     },
     "b4080598e2d34ec0b33a89c70cd6dc92": {
      "model_module": "@jupyter-widgets/controls",
      "model_module_version": "1.5.0",
      "model_name": "ToggleButtonModel",
      "state": {
       "button_style": "primary",
       "icon": "question",
       "layout": "IPY_MODEL_8a93cc73f5224e61a5f73fc261eb18fc",
       "style": "IPY_MODEL_270a01fb90334815b3558127599b0d0e",
       "tooltip": "Get help"
      }
     },
     "b4dd5031ff354bb1abab46b7f8afa530": {
      "model_module": "jupyter-leaflet",
      "model_module_version": "^0.15.0",
      "model_name": "LeafletTileLayerModel",
      "state": {
       "_model_module_version": "^0.15.0",
       "_view_module_version": "^0.15.0",
       "attribution": "Tiles (C) Esri -- Sources: GEBCO, NOAA, CHS, OSU, UNH, CSUMB, National Geographic, DeLorme, NAVTEQ, and Esri",
       "max_native_zoom": 18,
       "max_zoom": 13,
       "min_native_zoom": 0,
       "name": "Esri.OceanBasemap",
       "options": [
        "attribution",
        "detect_retina",
        "max_native_zoom",
        "max_zoom",
        "min_native_zoom",
        "min_zoom",
        "no_wrap",
        "tile_size",
        "tms"
       ],
       "url": "https://server.arcgisonline.com/ArcGIS/rest/services/Ocean_Basemap/MapServer/tile/{z}/{y}/{x}"
      }
     },
     "b50aac8ca10943c1ad9ac22d2d1b3c7e": {
      "model_module": "@jupyter-widgets/controls",
      "model_module_version": "1.5.0",
      "model_name": "ToggleButtonsModel",
      "state": {
       "_options_labels": [
        "OK",
        "Cancel"
       ],
       "button_style": "primary",
       "icons": [],
       "index": null,
       "layout": "IPY_MODEL_5cd078cabe974e6bb60f417afff05e89",
       "style": "IPY_MODEL_e13f58745fe046b2ad481b3c9ebf1bc7",
       "tooltips": [
        "OK",
        "Cancel"
       ]
      }
     },
     "b52a9ba2162147e8a092fe6a0bf62287": {
      "model_module": "@jupyter-widgets/base",
      "model_module_version": "1.2.0",
      "model_name": "LayoutModel",
      "state": {
       "height": "auto",
       "padding": "0px 0px 0px 4px",
       "width": "auto"
      }
     },
     "b66bc37bb54c488ca7970710f246b608": {
      "model_module": "@jupyter-widgets/controls",
      "model_module_version": "1.5.0",
      "model_name": "ButtonModel",
      "state": {
       "description": "Cancel",
       "layout": "IPY_MODEL_b92c1248a35440f8b12b97c28ca7ce48",
       "style": "IPY_MODEL_0f24c28a2ba14998bf5e2ac002543149"
      }
     },
     "b6cfda455bcc40cb9caa2b619f69472c": {
      "model_module": "@jupyter-widgets/base",
      "model_module_version": "1.2.0",
      "model_name": "LayoutModel",
      "state": {
       "height": "auto",
       "padding": "0px 0px 0px 4px",
       "width": "auto"
      }
     },
     "b76855576c70450d922d3bbdc1a18d6b": {
      "model_module": "jupyter-leaflet",
      "model_module_version": "^0.15.0",
      "model_name": "LeafletTileLayerModel",
      "state": {
       "_model_module_version": "^0.15.0",
       "_view_module_version": "^0.15.0",
       "attribution": "Map memomaps.de CC-BY-SA, map data (C) OpenStreetMap contributors",
       "max_native_zoom": 18,
       "min_native_zoom": 0,
       "name": "OPNVKarte",
       "options": [
        "attribution",
        "detect_retina",
        "max_native_zoom",
        "max_zoom",
        "min_native_zoom",
        "min_zoom",
        "no_wrap",
        "tile_size",
        "tms"
       ],
       "url": "https://tileserver.memomaps.de/tilegen/{z}/{x}/{y}.png"
      }
     },
     "b7fb5d9e2b3a4d05a56cf4df22c39a28": {
      "model_module": "@jupyter-widgets/controls",
      "model_module_version": "1.5.0",
      "model_name": "DescriptionStyleModel",
      "state": {
       "description_width": ""
      }
     },
     "b84acddd48f64424b5c62e8cc7c25232": {
      "model_module": "@jupyter-widgets/controls",
      "model_module_version": "1.5.0",
      "model_name": "VBoxModel",
      "state": {
       "children": [
        "IPY_MODEL_bed6fe341eda4c0b83fd593c51c12dc0",
        "IPY_MODEL_3111441deadd47b3a3189964e6f0a402",
        "IPY_MODEL_fc1be40288e24b12862cee301118c4ad"
       ],
       "layout": "IPY_MODEL_c07dfd8290624c198d4513b0bd86b89a"
      }
     },
     "b92c1248a35440f8b12b97c28ca7ce48": {
      "model_module": "@jupyter-widgets/base",
      "model_module_version": "1.2.0",
      "model_name": "LayoutModel",
      "state": {
       "display": "none",
       "min_width": "6em",
       "width": "6em"
      }
     },
     "b9662100b29b4fe8974341b2d556df43": {
      "model_module": "@jupyter-widgets/controls",
      "model_module_version": "1.5.0",
      "model_name": "ButtonStyleModel",
      "state": {}
     },
     "b96cf3517b604244b1f474cfa73a5abb": {
      "model_module": "@jupyter-widgets/base",
      "model_module_version": "1.2.0",
      "model_name": "LayoutModel",
      "state": {}
     },
     "b9a5ac83924c4d7d850fb836e35de462": {
      "model_module": "@jupyter-widgets/controls",
      "model_module_version": "1.5.0",
      "model_name": "DescriptionStyleModel",
      "state": {
       "description_width": ""
      }
     },
     "ba0aaaf3969d49ff91ea6faa9d6acad0": {
      "model_module": "@jupyter-widgets/base",
      "model_module_version": "1.2.0",
      "model_name": "LayoutModel",
      "state": {}
     },
     "ba2b0e05dc324992aa319d71bb0247d9": {
      "model_module": "@jupyter-widgets/controls",
      "model_module_version": "1.5.0",
      "model_name": "HTMLModel",
      "state": {
       "layout": "IPY_MODEL_3c28d06b05234d0ba71f6a8adafbd3a4",
       "style": "IPY_MODEL_190dc7847b804bfb952afee0a373e94c"
      }
     },
     "bb3e2fa919fb46ca8a0bb7c4353e1d9d": {
      "model_module": "@jupyter-widgets/controls",
      "model_module_version": "1.5.0",
      "model_name": "SelectModel",
      "state": {
       "_options_labels": [
        "📁 ..",
        "📁 0 Git commands",
        "📁 2020 Term Projects",
        "📁 Lab 1 figures",
        "📁 Lab 3 figures",
        "📁 asset_upload",
        "0 Git commands for HydroShare.ipynb",
        "0 Git commands for HydroShare.pdf",
        "1 Installing Google Earth Engine in HydroShare.ipynb",
        "Google Drive installation in HydroShare DEPRECATED.ipynb",
        "LICENSE",
        "Lab 0 Getting to know EarthEngine (Part 1).ipynb",
        "Lab 0 Getting to know EarthEngine (Part 2).ipynb",
        "Lab 0 Getting to know EarthEngine (Part 3).ipynb",
        "Lab 0 Getting to know EarthEngine (Part 4).ipynb",
        "Lab 1 Intro to Remote Sensing and EE.ipynb",
        "Lab 2 Characteristics of remotely sensed data.ipynb",
        "Lab 3 Spectral Indices and Transformations.ipynb",
        "Lab 4 Supervised regression.ipynb",
        "Lab 4 Supervised regression_2021.ipynb",
        "Lab 5 Supervised classification.ipynb",
        "Lab 5 Supervised classification_2021.ipynb",
        "Lab 6 Time Series.ipynb",
        "Lab 6 Time-Series_2021-Copy1.ipynb",
        "Lab 6 Time-Series_2021.ipynb",
        "Lab 7 Drone Crop Analysis.ipynb",
        "README.md",
        "Untitled.ipynb",
        "Using Earth Engine in HydroShare DEPRECATED.ipynb",
        "old Lab 3 Spectral Indices and Transformations.ipynb"
       ],
       "index": null,
       "layout": "IPY_MODEL_e82fced0e1764ce18cc43586479bee70",
       "rows": 8,
       "style": "IPY_MODEL_8506fefc397c4ecfa843a6558b430594"
      }
     },
     "bc1a240ccfbd4ed08d6e6a51812c4386": {
      "model_module": "@jupyter-widgets/base",
      "model_module_version": "1.2.0",
      "model_name": "LayoutModel",
      "state": {
       "height": "auto",
       "padding": "0px 0px 0px 4px",
       "width": "auto"
      }
     },
     "bca38d86e1f9400dbca1c445b2a8df04": {
      "model_module": "jupyter-leaflet",
      "model_module_version": "^0.15.0",
      "model_name": "LeafletTileLayerModel",
      "state": {
       "_model_module_version": "^0.15.0",
       "_view_module_version": "^0.15.0",
       "attribution": "Imagery provided by services from the Global Imagery Browse Services (GIBS), operated by the NASA/GSFC/Earth Science Data and Information System (<a href=\"https://earthdata.nasa.gov\">ESDIS</a>) with funding provided by NASA/HQ.",
       "max_native_zoom": 18,
       "max_zoom": 5,
       "min_native_zoom": 0,
       "name": "NASAGIBS.BlueMarble3413",
       "options": [
        "attribution",
        "detect_retina",
        "max_native_zoom",
        "max_zoom",
        "min_native_zoom",
        "min_zoom",
        "no_wrap",
        "tile_size",
        "tms"
       ],
       "url": "https://gibs.earthdata.nasa.gov/wmts/epsg3413/best/BlueMarble_NextGeneration/default/EPSG3413_500m/{z}/{y}/{x}.jpeg"
      }
     },
     "bd22a922348146f9b1ebfc8929eab186": {
      "model_module": "@jupyter-widgets/controls",
      "model_module_version": "1.5.0",
      "model_name": "ButtonModel",
      "state": {
       "button_style": "primary",
       "description": "import",
       "layout": "IPY_MODEL_c62abf92d4bc4e69ae90d99f437978f3",
       "style": "IPY_MODEL_4cd49dd9687f4d5eab1dec0b77251bcd",
       "tooltip": "Click to import the selected asset"
      }
     },
     "bd7e4fd3fc994e93b84f0f9310acae34": {
      "model_module": "@jupyter-widgets/controls",
      "model_module_version": "1.5.0",
      "model_name": "DescriptionStyleModel",
      "state": {
       "description_width": ""
      }
     },
     "bea49c6104d74fe2917ddc96bff6ba3a": {
      "model_module": "jupyter-leaflet",
      "model_module_version": "^0.15.0",
      "model_name": "LeafletTileLayerModel",
      "state": {
       "_model_module_version": "^0.15.0",
       "_view_module_version": "^0.15.0",
       "attribution": "(C) OpenStreetMap contributors (C) CARTO",
       "max_native_zoom": 18,
       "max_zoom": 20,
       "min_native_zoom": 0,
       "name": "CartoDB.Voyager",
       "options": [
        "attribution",
        "detect_retina",
        "max_native_zoom",
        "max_zoom",
        "min_native_zoom",
        "min_zoom",
        "no_wrap",
        "tile_size",
        "tms"
       ],
       "url": "https://a.basemaps.cartocdn.com/rastertiles/voyager/{z}/{x}/{y}.png"
      }
     },
     "bed6fe341eda4c0b83fd593c51c12dc0": {
      "model_module": "@jupyter-widgets/controls",
      "model_module_version": "1.5.0",
      "model_name": "HTMLModel",
      "state": {
       "layout": "IPY_MODEL_914c8848ca354a08b2df3d489f6c26e7",
       "style": "IPY_MODEL_9bd580dadac34836aeb48651a98b8182"
      }
     },
     "bf5e1a0d6b4e4f8bb4449f71866eeb2c": {
      "model_module": "@jupyter-widgets/controls",
      "model_module_version": "1.5.0",
      "model_name": "DescriptionStyleModel",
      "state": {
       "description_width": ""
      }
     },
     "bf97a9473499491f9ec5ec79b35dcae7": {
      "model_module": "@jupyter-widgets/base",
      "model_module_version": "1.2.0",
      "model_name": "LayoutModel",
      "state": {
       "display": "none"
      }
     },
     "c07dfd8290624c198d4513b0bd86b89a": {
      "model_module": "@jupyter-widgets/base",
      "model_module_version": "1.2.0",
      "model_name": "LayoutModel",
      "state": {
       "width": "500px"
      }
     },
     "c0c64b1b64c243c593877e85e17b6517": {
      "model_module": "@jupyter-widgets/controls",
      "model_module_version": "1.5.0",
      "model_name": "ButtonStyleModel",
      "state": {}
     },
     "c11cf46da39b478ca7d6bbac4a5007a6": {
      "model_module": "jupyter-leaflet",
      "model_module_version": "^0.15.0",
      "model_name": "LeafletTileLayerModel",
      "state": {
       "_model_module_version": "^0.15.0",
       "_view_module_version": "^0.15.0",
       "attribution": "Map tiles by Stamen Design, CC BY 3.0 -- Map data (C) OpenStreetMap contributors",
       "max_native_zoom": 18,
       "max_zoom": 20,
       "min_native_zoom": 0,
       "name": "Stamen.TonerBackground",
       "options": [
        "attribution",
        "detect_retina",
        "max_native_zoom",
        "max_zoom",
        "min_native_zoom",
        "min_zoom",
        "no_wrap",
        "tile_size",
        "tms"
       ],
       "url": "https://stamen-tiles-a.a.ssl.fastly.net/toner-background/{z}/{x}/{y}.png"
      }
     },
     "c1ec5d1019264877b79b08aa8ca6bcb7": {
      "model_module": "@jupyter-widgets/base",
      "model_module_version": "1.2.0",
      "model_name": "LayoutModel",
      "state": {}
     },
     "c20cbbecb1134a3eb151dd64dc06a2a5": {
      "model_module": "jupyter-leaflet",
      "model_module_version": "^0.15.0",
      "model_name": "LeafletMeasureControlModel",
      "state": {
       "_model_module_version": "^0.15.0",
       "_view_module_version": "^0.15.0",
       "active_color": "orange",
       "options": [
        "active_color",
        "capture_z_index",
        "completed_color",
        "popup_options",
        "position",
        "primary_area_unit",
        "primary_length_unit",
        "secondary_area_unit",
        "secondary_length_unit"
       ],
       "position": "bottomleft",
       "primary_length_unit": "kilometers",
       "secondary_area_unit": null,
       "secondary_length_unit": null
      }
     },
     "c3b17364dccf4d12a7f96de2b72de323": {
      "model_module": "@jupyter-widgets/base",
      "model_module_version": "1.2.0",
      "model_name": "LayoutModel",
      "state": {
       "height": "auto",
       "padding": "0px 0px 0px 4px",
       "width": "auto"
      }
     },
     "c42b9d2a6a844fe29106d94348388d39": {
      "model_module": "@jupyter-widgets/controls",
      "model_module_version": "1.5.0",
      "model_name": "DescriptionStyleModel",
      "state": {
       "description_width": ""
      }
     },
     "c44a4c6a5254405bb239fe00d72b6c88": {
      "model_module": "jupyter-leaflet",
      "model_module_version": "^0.15.0",
      "model_name": "LeafletTileLayerModel",
      "state": {
       "_model_module_version": "^0.15.0",
       "_view_module_version": "^0.15.0",
       "attribution": "Google Earth Engine",
       "max_native_zoom": 18,
       "max_zoom": 24,
       "min_native_zoom": 0,
       "name": "pine0",
       "options": [
        "attribution",
        "detect_retina",
        "max_native_zoom",
        "max_zoom",
        "min_native_zoom",
        "min_zoom",
        "no_wrap",
        "tile_size",
        "tms"
       ],
       "url": "https://earthengine.googleapis.com/v1alpha/projects/earthengine-legacy/maps/7fbc41c88a05b2c1ab215cfc8f943c71-9e9a281a8f5ea37b63e011ac3fca9b4b/tiles/{z}/{x}/{y}"
      }
     },
     "c5146d53c04e40bf80c54be37964ba19": {
      "model_module": "@jupyter-widgets/output",
      "model_module_version": "1.0.0",
      "model_name": "OutputModel",
      "state": {
       "layout": "IPY_MODEL_58c2f7dd848d4ed7a22ee3a38e88afae"
      }
     },
     "c5cedd96f13f45279e064b4cb76e0a31": {
      "model_module": "@jupyter-widgets/base",
      "model_module_version": "1.2.0",
      "model_name": "LayoutModel",
      "state": {
       "min_width": "6em",
       "width": "6em"
      }
     },
     "c60b4200155141cfb64d4b3f7b9b6364": {
      "model_module": "jupyter-leaflet",
      "model_module_version": "^0.15.0",
      "model_name": "LeafletTileLayerModel",
      "state": {
       "_model_module_version": "^0.15.0",
       "_view_module_version": "^0.15.0",
       "attribution": "Map tiles by <a href=\"https://labs.strava.com/heatmap\">Strava 2021</a>",
       "max_native_zoom": 18,
       "max_zoom": 15,
       "min_native_zoom": 0,
       "name": "Strava.Ride",
       "options": [
        "attribution",
        "detect_retina",
        "max_native_zoom",
        "max_zoom",
        "min_native_zoom",
        "min_zoom",
        "no_wrap",
        "tile_size",
        "tms"
       ],
       "url": "https://heatmap-external-a.strava.com/tiles/ride/hot/{z}/{x}/{y}.png"
      }
     },
     "c61e0d4a2534474385af2d0efe6aba6d": {
      "model_module": "jupyter-leaflet",
      "model_module_version": "^0.15.0",
      "model_name": "LeafletWMSLayerModel",
      "state": {
       "_model_module_version": "^0.15.0",
       "_view_module_version": "^0.15.0",
       "attribution": "MRLC",
       "crs": {
        "custom": false,
        "name": "EPSG3857"
       },
       "format": "image/png",
       "layers": "NLCD_2016_Land_Cover_L48",
       "max_native_zoom": 18,
       "min_native_zoom": 0,
       "name": "NLCD 2016 CONUS Land Cover",
       "options": [
        "attribution",
        "detect_retina",
        "format",
        "layers",
        "max_native_zoom",
        "max_zoom",
        "min_native_zoom",
        "min_zoom",
        "no_wrap",
        "styles",
        "tile_size",
        "tms",
        "transparent",
        "uppercase"
       ],
       "transparent": true,
       "url": "https://www.mrlc.gov/geoserver/mrlc_display/NLCD_2016_Land_Cover_L48/wms?"
      }
     },
     "c62abf92d4bc4e69ae90d99f437978f3": {
      "model_module": "@jupyter-widgets/base",
      "model_module_version": "1.2.0",
      "model_name": "LayoutModel",
      "state": {
       "max_width": "57px",
       "min_width": "57px"
      }
     },
     "c66b020bed6a4eb9a9e41253cf2fcf4b": {
      "model_module": "@jupyter-widgets/base",
      "model_module_version": "1.2.0",
      "model_name": "LayoutModel",
      "state": {
       "height": "auto",
       "padding": "0px 0px 0px 4px",
       "width": "auto"
      }
     },
     "c685b3945af942d596039f49f40711a3": {
      "model_module": "jupyter-leaflet",
      "model_module_version": "^0.15.0",
      "model_name": "LeafletMapStyleModel",
      "state": {
       "_model_module_version": "^0.15.0"
      }
     },
     "c712bc68b48945a093848b2a55c64d4f": {
      "model_module": "@jupyter-widgets/controls",
      "model_module_version": "1.5.0",
      "model_name": "DescriptionStyleModel",
      "state": {
       "description_width": ""
      }
     },
     "c94e77c99ee44f488cd7c602f404e9a0": {
      "model_module": "jupyter-leaflet",
      "model_module_version": "^0.15.0",
      "model_name": "LeafletWMSLayerModel",
      "state": {
       "_model_module_version": "^0.15.0",
       "_view_module_version": "^0.15.0",
       "attribution": "MRLC",
       "crs": {
        "custom": false,
        "name": "EPSG3857"
       },
       "format": "image/png",
       "layers": "NLCD_2001_Land_Cover_L48",
       "max_native_zoom": 18,
       "min_native_zoom": 0,
       "name": "NLCD 2001 CONUS Land Cover",
       "options": [
        "attribution",
        "detect_retina",
        "format",
        "layers",
        "max_native_zoom",
        "max_zoom",
        "min_native_zoom",
        "min_zoom",
        "no_wrap",
        "styles",
        "tile_size",
        "tms",
        "transparent",
        "uppercase"
       ],
       "transparent": true,
       "url": "https://www.mrlc.gov/geoserver/mrlc_display/NLCD_2001_Land_Cover_L48/wms?"
      }
     },
     "c9d14d1b43e84f3f9764ac7467be2bd3": {
      "model_module": "jupyter-leaflet",
      "model_module_version": "^0.15.0",
      "model_name": "LeafletTileLayerModel",
      "state": {
       "_model_module_version": "^0.15.0",
       "_view_module_version": "^0.15.0",
       "attribution": "Justice Map",
       "max_native_zoom": 18,
       "max_zoom": 22,
       "min_native_zoom": 0,
       "name": "JusticeMap.income",
       "options": [
        "attribution",
        "detect_retina",
        "max_native_zoom",
        "max_zoom",
        "min_native_zoom",
        "min_zoom",
        "no_wrap",
        "tile_size",
        "tms"
       ],
       "url": "https://www.justicemap.org/tile/county/income/{z}/{x}/{y}.png"
      }
     },
     "ca702231589c40749bc43bcb41768d48": {
      "model_module": "@jupyter-widgets/controls",
      "model_module_version": "1.5.0",
      "model_name": "DropdownModel",
      "state": {
       "index": null,
       "layout": "IPY_MODEL_a74dcf998f604b09be5b87cdb8eb650f",
       "style": "IPY_MODEL_8571dcaa905840e6ad53ef7207a19595"
      }
     },
     "caec91ac618d417982528e58324a06bb": {
      "model_module": "jupyter-leaflet",
      "model_module_version": "^0.15.0",
      "model_name": "LeafletTileLayerModel",
      "state": {
       "_model_module_version": "^0.15.0",
       "_view_module_version": "^0.15.0",
       "attribution": "Map data: (C) OpenStreetMap contributors | Map style: (C) OpenRailwayMap (CC-BY-SA)",
       "max_native_zoom": 18,
       "max_zoom": 19,
       "min_native_zoom": 0,
       "name": "OpenRailwayMap",
       "options": [
        "attribution",
        "detect_retina",
        "max_native_zoom",
        "max_zoom",
        "min_native_zoom",
        "min_zoom",
        "no_wrap",
        "tile_size",
        "tms"
       ],
       "url": "https://a.tiles.openrailwaymap.org/standard/{z}/{x}/{y}.png"
      }
     },
     "cc148447c3cd4ac78f4436607ca1de91": {
      "model_module": "@jupyter-widgets/base",
      "model_module_version": "1.2.0",
      "model_name": "LayoutModel",
      "state": {
       "max_width": "57px",
       "min_width": "57px"
      }
     },
     "cd28da9bc88f42ec9738638549f32965": {
      "model_module": "@jupyter-widgets/base",
      "model_module_version": "1.2.0",
      "model_name": "LayoutModel",
      "state": {
       "grid_gap": "1px 1px",
       "grid_template_columns": "32px 32px 32px ",
       "grid_template_rows": "32px 32px 32px 32px 32px 32px ",
       "padding": "5px",
       "width": "109px"
      }
     },
     "ce37965efd364d74b9718a92412b33f3": {
      "model_module": "@jupyter-widgets/controls",
      "model_module_version": "1.5.0",
      "model_name": "ToggleButtonsStyleModel",
      "state": {
       "button_width": "",
       "description_width": ""
      }
     },
     "cee204530ea148e986941b5937760afa": {
      "model_module": "@jupyter-widgets/controls",
      "model_module_version": "1.5.0",
      "model_name": "ToggleButtonsStyleModel",
      "state": {
       "button_width": "110px",
       "description_width": ""
      }
     },
     "cee83d8bb4b54b8bb8f9f89846020e44": {
      "model_module": "jupyter-leaflet",
      "model_module_version": "^0.15.0",
      "model_name": "LeafletTileLayerModel",
      "state": {
       "_model_module_version": "^0.15.0",
       "_view_module_version": "^0.15.0",
       "attribution": "(C) OpenStreetMap contributors (C) CARTO",
       "max_native_zoom": 18,
       "max_zoom": 20,
       "min_native_zoom": 0,
       "name": "CartoDB.VoyagerNoLabels",
       "options": [
        "attribution",
        "detect_retina",
        "max_native_zoom",
        "max_zoom",
        "min_native_zoom",
        "min_zoom",
        "no_wrap",
        "tile_size",
        "tms"
       ],
       "url": "https://a.basemaps.cartocdn.com/rastertiles/voyager_nolabels/{z}/{x}/{y}.png"
      }
     },
     "cfd33fc024fc40d1b940dcb18edd230d": {
      "model_module": "@jupyter-widgets/controls",
      "model_module_version": "1.5.0",
      "model_name": "DescriptionStyleModel",
      "state": {
       "description_width": ""
      }
     },
     "d056025d29034999ab8ce434a94b6fb0": {
      "model_module": "jupyter-leaflet",
      "model_module_version": "^0.15.0",
      "model_name": "LeafletTileLayerModel",
      "state": {
       "_model_module_version": "^0.15.0",
       "_view_module_version": "^0.15.0",
       "attribution": "Google Earth Engine",
       "max_native_zoom": 18,
       "max_zoom": 24,
       "min_native_zoom": 0,
       "name": "pine1",
       "options": [
        "attribution",
        "detect_retina",
        "max_native_zoom",
        "max_zoom",
        "min_native_zoom",
        "min_zoom",
        "no_wrap",
        "tile_size",
        "tms"
       ],
       "url": "https://earthengine.googleapis.com/v1alpha/projects/earthengine-legacy/maps/a812b4173eba10677cdada126a3cb6dc-739aae986a8eea687b22bb0a3de677f3/tiles/{z}/{x}/{y}"
      }
     },
     "d0bd56f4ba3b46b88e045c50d6e6394d": {
      "model_module": "jupyter-leaflet",
      "model_module_version": "^0.15.0",
      "model_name": "LeafletTileLayerModel",
      "state": {
       "_model_module_version": "^0.15.0",
       "_view_module_version": "^0.15.0",
       "attribution": "Justice Map",
       "max_native_zoom": 18,
       "max_zoom": 22,
       "min_native_zoom": 0,
       "name": "JusticeMap.white",
       "options": [
        "attribution",
        "detect_retina",
        "max_native_zoom",
        "max_zoom",
        "min_native_zoom",
        "min_zoom",
        "no_wrap",
        "tile_size",
        "tms"
       ],
       "url": "https://www.justicemap.org/tile/county/white/{z}/{x}/{y}.png"
      }
     },
     "d0f5a39338b6456f97be6e22cc31a18c": {
      "model_module": "@jupyter-widgets/controls",
      "model_module_version": "1.5.0",
      "model_name": "ToggleButtonModel",
      "state": {
       "icon": "wrench",
       "layout": "IPY_MODEL_423ca940182442f991b38b7d26251f66",
       "style": "IPY_MODEL_188d918b1d864e31a6db75480a8f1f88",
       "tooltip": "Toolbar"
      }
     },
     "d10bd530fa5742e49f692161eabcc716": {
      "model_module": "@jupyter-widgets/controls",
      "model_module_version": "1.5.0",
      "model_name": "TextModel",
      "state": {
       "layout": "IPY_MODEL_ac5b84c0e3824d13acc77dda711d24fa",
       "placeholder": "output filename",
       "style": "IPY_MODEL_f2a0551f26ca4a5c8ef2e3f4ce0fb905",
       "value": "my_map.html"
      }
     },
     "d10c97c6530b4156845c9f109054e999": {
      "model_module": "@jupyter-widgets/controls",
      "model_module_version": "1.5.0",
      "model_name": "ToggleButtonModel",
      "state": {
       "button_style": "primary",
       "icon": "bar-chart",
       "layout": "IPY_MODEL_8d5af72292854323b12dd04a3412d765",
       "style": "IPY_MODEL_10a00d1d51704913b83b158ad4ae1525",
       "tooltip": "Plotting"
      }
     },
     "d17d84015560451e8dfde6180531dd3e": {
      "model_module": "@jupyter-widgets/base",
      "model_module_version": "1.2.0",
      "model_name": "LayoutModel",
      "state": {
       "height": "auto",
       "padding": "0px 0px 0px 4px",
       "width": "auto"
      }
     },
     "d2ba4e6296304ad4abaae95320e29cd2": {
      "model_module": "jupyter-leaflet",
      "model_module_version": "^0.15.0",
      "model_name": "LeafletMeasureControlModel",
      "state": {
       "_model_module_version": "^0.15.0",
       "_view_module_version": "^0.15.0",
       "active_color": "orange",
       "options": [
        "active_color",
        "capture_z_index",
        "completed_color",
        "popup_options",
        "position",
        "primary_area_unit",
        "primary_length_unit",
        "secondary_area_unit",
        "secondary_length_unit"
       ],
       "position": "bottomleft",
       "primary_length_unit": "kilometers",
       "secondary_area_unit": null,
       "secondary_length_unit": null
      }
     },
     "d3653b19cde24bdc9c3c6683118e64ec": {
      "model_module": "jupyter-leaflet",
      "model_module_version": "^0.15.0",
      "model_name": "LeafletTileLayerModel",
      "state": {
       "_model_module_version": "^0.15.0",
       "_view_module_version": "^0.15.0",
       "attribution": "Justice Map",
       "max_native_zoom": 18,
       "max_zoom": 22,
       "min_native_zoom": 0,
       "name": "JusticeMap.plurality",
       "options": [
        "attribution",
        "detect_retina",
        "max_native_zoom",
        "max_zoom",
        "min_native_zoom",
        "min_zoom",
        "no_wrap",
        "tile_size",
        "tms"
       ],
       "url": "https://www.justicemap.org/tile/county/plural/{z}/{x}/{y}.png"
      }
     },
     "d37265f63d4d42d3bb124e1fc10ad7f8": {
      "model_module": "@jupyter-widgets/controls",
      "model_module_version": "1.5.0",
      "model_name": "ToggleButtonsStyleModel",
      "state": {
       "button_width": "",
       "description_width": ""
      }
     },
     "d3ce451bec694b3db20779054b9609e0": {
      "model_module": "@jupyter-widgets/controls",
      "model_module_version": "1.5.0",
      "model_name": "ToggleButtonModel",
      "state": {
       "button_style": "primary",
       "icon": "spinner",
       "layout": "IPY_MODEL_bc1a240ccfbd4ed08d6e6a51812c4386",
       "style": "IPY_MODEL_54c1727ea29c439da8ae45b097435c7d",
       "tooltip": "This is a placehold"
      }
     },
     "d447c2b8cfe44a2783279f7e536832ff": {
      "model_module": "@jupyter-widgets/base",
      "model_module_version": "1.2.0",
      "model_name": "LayoutModel",
      "state": {
       "height": "28px",
       "padding": "0px 0px 0px 4px",
       "width": "28px"
      }
     },
     "d4b810cbb30e4245af4c2d40c498c762": {
      "model_module": "ipyevents",
      "model_module_version": "2.0.1",
      "model_name": "EventModel",
      "state": {
       "_supported_key_events": [
        "keydown",
        "keyup"
       ],
       "_supported_mouse_events": [
        "click",
        "auxclick",
        "dblclick",
        "mouseenter",
        "mouseleave",
        "mousedown",
        "mouseup",
        "mousemove",
        "wheel",
        "contextmenu",
        "dragstart",
        "drag",
        "dragend",
        "dragenter",
        "dragover",
        "dragleave",
        "drop"
       ],
       "_supported_touch_events": [
        "touchstart",
        "touchend",
        "touchmove",
        "touchcancel"
       ],
       "_view_module": "@jupyter-widgets/controls",
       "_view_module_version": "1.5.0",
       "source": "IPY_MODEL_2eb4de08689542238fff1147040db0c7",
       "throttle_or_debounce": "",
       "watched_events": [
        "mouseenter",
        "mouseleave"
       ],
       "xy_coordinate_system": ""
      }
     },
     "d4cb5257cd1d4b8190da2e5b069d28c8": {
      "model_module": "@jupyter-widgets/output",
      "model_module_version": "1.0.0",
      "model_name": "OutputModel",
      "state": {
       "layout": "IPY_MODEL_1f583588b3ad4894a7e6a962090daefe"
      }
     },
     "d5a2f360bb854ca38d69441945d75ab4": {
      "model_module": "@jupyter-widgets/base",
      "model_module_version": "1.2.0",
      "model_name": "LayoutModel",
      "state": {
       "height": "auto",
       "padding": "0px 0px 0px 4px",
       "width": "auto"
      }
     },
     "d5d5c0ff8af14f6381a93c133ecfe5a2": {
      "model_module": "@jupyter-widgets/controls",
      "model_module_version": "1.5.0",
      "model_name": "DescriptionStyleModel",
      "state": {
       "description_width": ""
      }
     },
     "d6aa2a87c40c4f4fba2e273dbc103287": {
      "model_module": "@jupyter-widgets/controls",
      "model_module_version": "1.5.0",
      "model_name": "ToggleButtonModel",
      "state": {
       "button_style": "primary",
       "icon": "camera",
       "layout": "IPY_MODEL_7ecd338e6d1949cdb1652e87ce2109b5",
       "style": "IPY_MODEL_4575f2f269044db2847bb256a7f076fe",
       "tooltip": "Save map as HTML or image"
      }
     },
     "d70ff571c918499f97f242cfb56ac421": {
      "model_module": "@jupyter-widgets/controls",
      "model_module_version": "1.5.0",
      "model_name": "ToggleButtonModel",
      "state": {
       "icon": "server",
       "layout": "IPY_MODEL_641d802ebeee4d059d9fc4cda92b5441",
       "style": "IPY_MODEL_fb9438f5c4fb45dfaece7b7f3deca246",
       "tooltip": "Layers"
      }
     },
     "d95ab1715a744baab2543f61efb58c1f": {
      "model_module": "jupyter-leaflet",
      "model_module_version": "^0.15.0",
      "model_name": "LeafletTileLayerModel",
      "state": {
       "_model_module_version": "^0.15.0",
       "_view_module_version": "^0.15.0",
       "attribution": "Google Earth Engine",
       "max_native_zoom": 18,
       "max_zoom": 24,
       "min_native_zoom": 0,
       "name": "pine1",
       "options": [
        "attribution",
        "detect_retina",
        "max_native_zoom",
        "max_zoom",
        "min_native_zoom",
        "min_zoom",
        "no_wrap",
        "tile_size",
        "tms"
       ],
       "url": "https://earthengine.googleapis.com/v1alpha/projects/earthengine-legacy/maps/a812b4173eba10677cdada126a3cb6dc-0f151c589c17318126ea6cd155fa3fdb/tiles/{z}/{x}/{y}"
      }
     },
     "d95be47500254543a120be446ab47aa1": {
      "model_module": "jupyter-leaflet",
      "model_module_version": "^0.15.0",
      "model_name": "LeafletTileLayerModel",
      "state": {
       "_model_module_version": "^0.15.0",
       "_view_module_version": "^0.15.0",
       "attribution": "Justice Map",
       "max_native_zoom": 18,
       "max_zoom": 22,
       "min_native_zoom": 0,
       "name": "JusticeMap.americanIndian",
       "options": [
        "attribution",
        "detect_retina",
        "max_native_zoom",
        "max_zoom",
        "min_native_zoom",
        "min_zoom",
        "no_wrap",
        "tile_size",
        "tms"
       ],
       "url": "https://www.justicemap.org/tile/county/indian/{z}/{x}/{y}.png"
      }
     },
     "d967a7faf07c46ad838aa9b501ae4a0c": {
      "model_module": "@jupyter-widgets/controls",
      "model_module_version": "1.5.0",
      "model_name": "DropdownModel",
      "state": {
       "_options_labels": [
        "/home/jovyan/data/cee5003_remote_sensing/prj_earthengine_hydroshare",
        "/home/jovyan/data/cee5003_remote_sensing",
        "/home/jovyan/data",
        "/home/jovyan",
        "/home",
        "/"
       ],
       "index": 0,
       "layout": "IPY_MODEL_9508aee783694051a87a881fe46597aa",
       "style": "IPY_MODEL_863cdaefd2564337b532e94759370a92"
      }
     },
     "da66ca622de14e7290386933e13e103d": {
      "model_module": "@jupyter-widgets/controls",
      "model_module_version": "1.5.0",
      "model_name": "VBoxModel",
      "state": {
       "children": [
        "IPY_MODEL_48f208e30e5649939f06f3a5cd6d5395"
       ],
       "layout": "IPY_MODEL_b96cf3517b604244b1f474cfa73a5abb"
      }
     },
     "daab81fca2a1407288379e8b1df4f4d6": {
      "model_module": "jupyter-leaflet",
      "model_module_version": "^0.15.0",
      "model_name": "LeafletTileLayerModel",
      "state": {
       "_model_module_version": "^0.15.0",
       "_view_module_version": "^0.15.0",
       "attribution": "(C) OpenStreetMap contributors (C) CARTO",
       "max_native_zoom": 18,
       "max_zoom": 20,
       "min_native_zoom": 0,
       "name": "CartoDB.DarkMatterOnlyLabels",
       "options": [
        "attribution",
        "detect_retina",
        "max_native_zoom",
        "max_zoom",
        "min_native_zoom",
        "min_zoom",
        "no_wrap",
        "tile_size",
        "tms"
       ],
       "url": "https://a.basemaps.cartocdn.com/dark_only_labels/{z}/{x}/{y}.png"
      }
     },
     "db33b3f3e569478f87a3825ac914b32b": {
      "model_module": "@jupyter-widgets/controls",
      "model_module_version": "1.5.0",
      "model_name": "DescriptionStyleModel",
      "state": {
       "description_width": ""
      }
     },
     "db6844acbfb14fb483512393ce7fb51a": {
      "model_module": "jupyter-leaflet",
      "model_module_version": "^0.15.0",
      "model_name": "LeafletTileLayerModel",
      "state": {
       "_model_module_version": "^0.15.0",
       "_view_module_version": "^0.15.0",
       "attribution": "![](https://docs.onemap.sg/maps/images/oneMap64-01.png) New OneMap | Map data (C) contributors, Singapore Land Authority",
       "max_native_zoom": 18,
       "min_native_zoom": 0,
       "name": "OneMapSG.Original",
       "options": [
        "attribution",
        "detect_retina",
        "max_native_zoom",
        "max_zoom",
        "min_native_zoom",
        "min_zoom",
        "no_wrap",
        "tile_size",
        "tms"
       ],
       "url": "https://maps-a.onemap.sg/v3/Original/{z}/{x}/{y}.png"
      }
     },
     "dc3421cd8c82495ebda2e1f6eab39e4f": {
      "model_module": "@jupyter-widgets/base",
      "model_module_version": "1.2.0",
      "model_name": "LayoutModel",
      "state": {
       "display": "none",
       "grid_gap": "0px 0px",
       "grid_template_areas": "\n                    'pathlist filename'\n                    'dircontent dircontent'\n                    ",
       "grid_template_columns": "60% 40%",
       "grid_template_rows": "auto auto",
       "width": "auto"
      }
     },
     "dccb3007d4374d3c8040a8f46451b245": {
      "model_module": "@jupyter-widgets/controls",
      "model_module_version": "1.5.0",
      "model_name": "DescriptionStyleModel",
      "state": {
       "description_width": ""
      }
     },
     "dcfcfbc735da491ca0222913a2c11519": {
      "model_module": "jupyter-leaflet",
      "model_module_version": "^0.15.0",
      "model_name": "LeafletWMSLayerModel",
      "state": {
       "_model_module_version": "^0.15.0",
       "_view_module_version": "^0.15.0",
       "attribution": "FWS",
       "crs": {
        "custom": false,
        "name": "EPSG3857"
       },
       "format": "image/png",
       "layers": "1",
       "max_native_zoom": 18,
       "min_native_zoom": 0,
       "name": "FWS NWI Wetlands",
       "options": [
        "attribution",
        "detect_retina",
        "format",
        "layers",
        "max_native_zoom",
        "max_zoom",
        "min_native_zoom",
        "min_zoom",
        "no_wrap",
        "styles",
        "tile_size",
        "tms",
        "transparent",
        "uppercase"
       ],
       "transparent": true,
       "url": "https://www.fws.gov/wetlands/arcgis/services/Wetlands/MapServer/WMSServer?"
      }
     },
     "ddfd083bb862445082ca0c0160faf848": {
      "model_module": "@jupyter-widgets/base",
      "model_module_version": "1.2.0",
      "model_name": "LayoutModel",
      "state": {
       "height": "auto",
       "padding": "0px 0px 0px 4px",
       "width": "auto"
      }
     },
     "de2f62e858aa4c988ea800c60707763b": {
      "model_module": "@jupyter-widgets/controls",
      "model_module_version": "1.5.0",
      "model_name": "DescriptionStyleModel",
      "state": {
       "description_width": ""
      }
     },
     "df64ef5c76f84bb598f5e6cb48c19475": {
      "model_module": "@jupyter-widgets/controls",
      "model_module_version": "1.5.0",
      "model_name": "DescriptionStyleModel",
      "state": {
       "description_width": ""
      }
     },
     "df7a7333fb874cc99ec82942c29d37e1": {
      "model_module": "jupyter-leaflet",
      "model_module_version": "^0.15.0",
      "model_name": "LeafletZoomControlModel",
      "state": {
       "_model_module_version": "^0.15.0",
       "_view_module_version": "^0.15.0",
       "options": [
        "position",
        "zoom_in_text",
        "zoom_in_title",
        "zoom_out_text",
        "zoom_out_title"
       ]
      }
     },
     "dfd1bf6b003a49bb9718010bf0f2e339": {
      "model_module": "@jupyter-widgets/controls",
      "model_module_version": "1.5.0",
      "model_name": "ToggleButtonModel",
      "state": {
       "button_style": "primary",
       "icon": "hand-o-up",
       "layout": "IPY_MODEL_815db4d33ee84f3fbfe7f957b92eb73b",
       "style": "IPY_MODEL_dccb3007d4374d3c8040a8f46451b245",
       "tooltip": "Collect training samples"
      }
     },
     "dffb63a62c574af0997d94bd13e1485d": {
      "model_module": "@jupyter-widgets/controls",
      "model_module_version": "1.5.0",
      "model_name": "BoxModel",
      "state": {
       "children": [
        "IPY_MODEL_7f8312d60e6448cab03627b4d8a6c7d4"
       ],
       "layout": "IPY_MODEL_783d24859c37412d8b071db7c18834ca"
      }
     },
     "e00e8e02d81a4eb1ac0f08df8a171d02": {
      "model_module": "jupyter-leaflet",
      "model_module_version": "^0.15.0",
      "model_name": "LeafletTileLayerModel",
      "state": {
       "_model_module_version": "^0.15.0",
       "_view_module_version": "^0.15.0",
       "attribution": "(C) OpenStreetMap contributors (C) CARTO",
       "max_native_zoom": 18,
       "max_zoom": 20,
       "min_native_zoom": 0,
       "name": "CartoDB.DarkMatterNoLabels",
       "options": [
        "attribution",
        "detect_retina",
        "max_native_zoom",
        "max_zoom",
        "min_native_zoom",
        "min_zoom",
        "no_wrap",
        "tile_size",
        "tms"
       ],
       "url": "https://a.basemaps.cartocdn.com/dark_nolabels/{z}/{x}/{y}.png"
      }
     },
     "e119fe6541094e54b51429768526485f": {
      "model_module": "jupyter-leaflet",
      "model_module_version": "^0.15.0",
      "model_name": "LeafletWMSLayerModel",
      "state": {
       "_model_module_version": "^0.15.0",
       "_view_module_version": "^0.15.0",
       "attribution": "MRLC",
       "crs": {
        "custom": false,
        "name": "EPSG3857"
       },
       "format": "image/png",
       "layers": "NLCD_2019_Land_Cover_L48",
       "max_native_zoom": 18,
       "min_native_zoom": 0,
       "name": "NLCD 2019 CONUS Land Cover",
       "options": [
        "attribution",
        "detect_retina",
        "format",
        "layers",
        "max_native_zoom",
        "max_zoom",
        "min_native_zoom",
        "min_zoom",
        "no_wrap",
        "styles",
        "tile_size",
        "tms",
        "transparent",
        "uppercase"
       ],
       "transparent": true,
       "url": "https://www.mrlc.gov/geoserver/mrlc_display/NLCD_2019_Land_Cover_L48/wms?"
      }
     },
     "e13f58745fe046b2ad481b3c9ebf1bc7": {
      "model_module": "@jupyter-widgets/controls",
      "model_module_version": "1.5.0",
      "model_name": "ToggleButtonsStyleModel",
      "state": {
       "button_width": "",
       "description_width": ""
      }
     },
     "e175c891332a42359b82f658e0cf146e": {
      "model_module": "@jupyter-widgets/controls",
      "model_module_version": "1.5.0",
      "model_name": "DescriptionStyleModel",
      "state": {
       "description_width": ""
      }
     },
     "e19097b5010d4ff59d3e1b2f69ff8b68": {
      "model_module": "@jupyter-widgets/controls",
      "model_module_version": "1.5.0",
      "model_name": "ToggleButtonModel",
      "state": {
       "icon": "wrench",
       "layout": "IPY_MODEL_d447c2b8cfe44a2783279f7e536832ff",
       "style": "IPY_MODEL_84d34554af93499db05fd0e75e46d2bf",
       "tooltip": "Toolbar"
      }
     },
     "e39f2d56eaaf4a7e8cf2f0a31bf778fd": {
      "model_module": "jupyter-leaflet",
      "model_module_version": "^0.15.0",
      "model_name": "LeafletTileLayerModel",
      "state": {
       "_model_module_version": "^0.15.0",
       "_view_module_version": "^0.15.0",
       "attribution": "Google",
       "max_native_zoom": 18,
       "max_zoom": 22,
       "min_native_zoom": 0,
       "name": "Google Satellite",
       "options": [
        "attribution",
        "detect_retina",
        "max_native_zoom",
        "max_zoom",
        "min_native_zoom",
        "min_zoom",
        "no_wrap",
        "tile_size",
        "tms"
       ],
       "url": "https://mt1.google.com/vt/lyrs=y&x={x}&y={y}&z={z}"
      }
     },
     "e3c99164de8648289558bd76b3d73ac7": {
      "model_module": "@jupyter-widgets/controls",
      "model_module_version": "1.5.0",
      "model_name": "ToggleButtonModel",
      "state": {
       "button_style": "primary",
       "icon": "random",
       "layout": "IPY_MODEL_595f80c6425141a7813b93e2ec7c3050",
       "style": "IPY_MODEL_c42b9d2a6a844fe29106d94348388d39",
       "tooltip": "Sankey plots"
      }
     },
     "e48b31e9882c4d9f9a29343b0835ea99": {
      "model_module": "jupyter-leaflet",
      "model_module_version": "^0.15.0",
      "model_name": "LeafletMarkerClusterModel",
      "state": {
       "_model_module_version": "^0.15.0",
       "_view_module_version": "^0.15.0",
       "disable_clustering_at_zoom": 18,
       "max_cluster_radius": 80,
       "name": "Marker Cluster",
       "options": [
        "disable_clustering_at_zoom",
        "max_cluster_radius"
       ]
      }
     },
     "e6d20f155f044ad2ad404d19328f9150": {
      "model_module": "@jupyter-widgets/controls",
      "model_module_version": "1.5.0",
      "model_name": "ToggleButtonModel",
      "state": {
       "button_style": "primary",
       "icon": "spinner",
       "layout": "IPY_MODEL_7457abfbacf44d7ca1b906b86205974a",
       "style": "IPY_MODEL_ab33a51eeb204fc78966e91c32feb854",
       "tooltip": "This is a placehold"
      }
     },
     "e70c004f316d4a03b14329a6106a4094": {
      "model_module": "@jupyter-widgets/controls",
      "model_module_version": "1.5.0",
      "model_name": "DropdownModel",
      "state": {
       "_options_labels": [
        "/home/jovyan/data/cee5003_remote_sensing/prj_earthengine_hydroshare",
        "/home/jovyan/data/cee5003_remote_sensing",
        "/home/jovyan/data",
        "/home/jovyan",
        "/home",
        "/"
       ],
       "index": 0,
       "layout": "IPY_MODEL_1eda8aa07c89481cb0bf4fb6662e70ea",
       "style": "IPY_MODEL_69637fdcb4d448dcb79d2d2c1dc1b98d"
      }
     },
     "e73df9d24d824329912d83e0664ce477": {
      "model_module": "@here/map-widget-for-jupyter",
      "model_module_version": "^1.1.3",
      "model_name": "DefaultLayersModel",
      "state": {
       "_model_module": "@here/map-widget-for-jupyter",
       "_model_module_version": "^1.1.3",
       "_view_count": null,
       "_view_module": "@here/map-widget-for-jupyter",
       "_view_module_version": "^1.1.3",
       "layer_name": "raster.normal.base",
       "ppi": null
      }
     },
     "e76b8f8c777d4fc998e79a067fbf4bd3": {
      "model_module": "jupyter-leaflet",
      "model_module_version": "^0.15.0",
      "model_name": "LeafletTileLayerModel",
      "state": {
       "_model_module_version": "^0.15.0",
       "_view_module_version": "^0.15.0",
       "attribution": "Map data: (C) OpenStreetMap contributors | Map style: (C) SafeCast (CC-BY-SA)",
       "max_native_zoom": 18,
       "max_zoom": 16,
       "min_native_zoom": 0,
       "name": "SafeCast",
       "options": [
        "attribution",
        "detect_retina",
        "max_native_zoom",
        "max_zoom",
        "min_native_zoom",
        "min_zoom",
        "no_wrap",
        "tile_size",
        "tms"
       ],
       "url": "https://s3.amazonaws.com/te512.safecast.org/{z}/{x}/{y}.png"
      }
     },
     "e7db5b22c8dc416ea8432d947b0902c3": {
      "model_module": "jupyter-leaflet",
      "model_module_version": "^0.15.0",
      "model_name": "LeafletTileLayerModel",
      "state": {
       "_model_module_version": "^0.15.0",
       "_view_module_version": "^0.15.0",
       "attribution": "Imagery provided by services from the Global Imagery Browse Services (GIBS), operated by the NASA/GSFC/Earth Science Data and Information System (ESDIS) with funding provided by NASA/HQ.",
       "max_native_zoom": 18,
       "max_zoom": 8,
       "min_native_zoom": 0,
       "name": "NASAGIBS.ViirsEarthAtNight2012",
       "options": [
        "attribution",
        "detect_retina",
        "max_native_zoom",
        "max_zoom",
        "min_native_zoom",
        "min_zoom",
        "no_wrap",
        "tile_size",
        "tms"
       ],
       "url": "https://map1.vis.earthdata.nasa.gov/wmts-webmerc/VIIRS_CityLights_2012/default//GoogleMapsCompatible_Level8/{z}/{y}/{x}.jpg"
      }
     },
     "e82fced0e1764ce18cc43586479bee70": {
      "model_module": "@jupyter-widgets/base",
      "model_module_version": "1.2.0",
      "model_name": "LayoutModel",
      "state": {
       "grid_area": "dircontent",
       "width": "auto"
      }
     },
     "e83567343b0349399e5c68a14c1366ca": {
      "model_module": "@jupyter-widgets/controls",
      "model_module_version": "1.5.0",
      "model_name": "ToggleButtonModel",
      "state": {
       "button_style": "primary",
       "icon": "map",
       "layout": "IPY_MODEL_d5a2f360bb854ca38d69441945d75ab4",
       "style": "IPY_MODEL_b9a5ac83924c4d7d850fb836e35de462",
       "tooltip": "Change basemap"
      }
     },
     "e8a2c788918a470aa6502ae93970c022": {
      "model_module": "@jupyter-widgets/controls",
      "model_module_version": "1.5.0",
      "model_name": "HTMLModel",
      "state": {
       "layout": "IPY_MODEL_333f1a690ccb458c913fe4437a9a54f2",
       "style": "IPY_MODEL_9b3e34dd152d4f878ec74144cbc3d85e"
      }
     },
     "ea862a1c656947129811daea12074b68": {
      "model_module": "@jupyter-widgets/controls",
      "model_module_version": "1.5.0",
      "model_name": "DescriptionStyleModel",
      "state": {
       "description_width": ""
      }
     },
     "eac7bf29ded0409983b17b206d8e2e25": {
      "model_module": "@jupyter-widgets/controls",
      "model_module_version": "1.5.0",
      "model_name": "VBoxModel",
      "state": {
       "children": [
        "IPY_MODEL_5b59c3fbc69f47bc87411938e3eaf647",
        "IPY_MODEL_b033dafd5c8e4efd86e98b8e8693c853",
        "IPY_MODEL_fec9f78131a44860a173f51bebe318aa"
       ],
       "layout": "IPY_MODEL_c07dfd8290624c198d4513b0bd86b89a"
      }
     },
     "eb497780b05b4f54a024a3909046184c": {
      "model_module": "@jupyter-widgets/controls",
      "model_module_version": "1.5.0",
      "model_name": "ToggleButtonModel",
      "state": {
       "icon": "server",
       "layout": "IPY_MODEL_84ae188b46074e71ac91f92a528e88f4",
       "style": "IPY_MODEL_5b85fe601b034c4aac1eb675ef8de3de",
       "tooltip": "Layers"
      }
     },
     "ecd6117ae25445728c242b6fcaae679d": {
      "model_module": "@jupyter-widgets/controls",
      "model_module_version": "1.5.0",
      "model_name": "ToggleButtonModel",
      "state": {
       "button_style": "primary",
       "icon": "eraser",
       "layout": "IPY_MODEL_03462e0fce1c43249739a47bae928d89",
       "style": "IPY_MODEL_8ef64f636cb14ca1ac362d731ba8d009",
       "tooltip": "Remove all drawn features"
      }
     },
     "ed6e914568e7464580eb0f6bd42f1851": {
      "model_module": "jupyter-leaflet",
      "model_module_version": "^0.15.0",
      "model_name": "LeafletTileLayerModel",
      "state": {
       "_model_module_version": "^0.15.0",
       "_view_module_version": "^0.15.0",
       "attribution": "Google Earth Engine",
       "max_native_zoom": 18,
       "max_zoom": 24,
       "min_native_zoom": 0,
       "name": "pine0",
       "options": [
        "attribution",
        "detect_retina",
        "max_native_zoom",
        "max_zoom",
        "min_native_zoom",
        "min_zoom",
        "no_wrap",
        "tile_size",
        "tms"
       ],
       "url": "https://earthengine.googleapis.com/v1alpha/projects/earthengine-legacy/maps/7fbc41c88a05b2c1ab215cfc8f943c71-14ca81591085f7d2c8d0b53fad6117be/tiles/{z}/{x}/{y}"
      }
     },
     "ee2c07a14aa6466dab07d261f3923709": {
      "model_module": "jupyter-leaflet",
      "model_module_version": "^0.15.0",
      "model_name": "LeafletTileLayerModel",
      "state": {
       "_model_module_version": "^0.15.0",
       "_view_module_version": "^0.15.0",
       "attribution": "Tiles courtesy of the U.S. Geological Survey",
       "max_native_zoom": 18,
       "max_zoom": 20,
       "min_native_zoom": 0,
       "name": "USGS.USTopo",
       "options": [
        "attribution",
        "detect_retina",
        "max_native_zoom",
        "max_zoom",
        "min_native_zoom",
        "min_zoom",
        "no_wrap",
        "tile_size",
        "tms"
       ],
       "url": "https://basemap.nationalmap.gov/arcgis/rest/services/USGSTopo/MapServer/tile/{z}/{y}/{x}"
      }
     },
     "ee6eafb8b324473a9e90097c367ce31a": {
      "model_module": "@jupyter-widgets/base",
      "model_module_version": "1.2.0",
      "model_name": "LayoutModel",
      "state": {
       "height": "auto",
       "padding": "0px 0px 0px 4px",
       "width": "auto"
      }
     },
     "ee76a5362db6445bb696a0bddd71cb74": {
      "model_module": "@here/map-widget-for-jupyter",
      "model_module_version": "^1.1.3",
      "model_name": "DefaultLayersModel",
      "state": {
       "_model_module": "@here/map-widget-for-jupyter",
       "_model_module_version": "^1.1.3",
       "_view_count": null,
       "_view_module": "@here/map-widget-for-jupyter",
       "_view_module_version": "^1.1.3",
       "layer_name": "raster.normal.xbasenight",
       "ppi": null
      }
     },
     "eeade679eb16417fa0d7e337ef7c9328": {
      "model_module": "jupyter-leaflet",
      "model_module_version": "^0.15.0",
      "model_name": "LeafletTileLayerModel",
      "state": {
       "_model_module_version": "^0.15.0",
       "_view_module_version": "^0.15.0",
       "attribution": "Tiles (C) Esri -- Esri, DeLorme, NAVTEQ",
       "max_native_zoom": 18,
       "max_zoom": 16,
       "min_native_zoom": 0,
       "name": "Esri.WorldGrayCanvas",
       "options": [
        "attribution",
        "detect_retina",
        "max_native_zoom",
        "max_zoom",
        "min_native_zoom",
        "min_zoom",
        "no_wrap",
        "tile_size",
        "tms"
       ],
       "url": "https://server.arcgisonline.com/ArcGIS/rest/services/Canvas/World_Light_Gray_Base/MapServer/tile/{z}/{y}/{x}"
      }
     },
     "efaf55b934e448df8b50ab20c86e97e5": {
      "model_module": "@jupyter-widgets/base",
      "model_module_version": "1.2.0",
      "model_name": "LayoutModel",
      "state": {
       "min_width": "6em",
       "width": "6em"
      }
     },
     "efe8edcab5554805985ee341e099cb40": {
      "model_module": "@jupyter-widgets/controls",
      "model_module_version": "1.5.0",
      "model_name": "ToggleButtonModel",
      "state": {
       "button_style": "primary",
       "icon": "gears",
       "layout": "IPY_MODEL_c3b17364dccf4d12a7f96de2b72de323",
       "style": "IPY_MODEL_df64ef5c76f84bb598f5e6cb48c19475",
       "tooltip": "WhiteboxTools for local geoprocessing"
      }
     },
     "f00ba8072ca4433f8822678d7d21288f": {
      "model_module": "@jupyter-widgets/controls",
      "model_module_version": "1.5.0",
      "model_name": "ToggleButtonsModel",
      "state": {
       "_options_labels": [
        "HTML",
        "PNG",
        "JPG"
       ],
       "button_style": "",
       "icons": [],
       "index": 0,
       "layout": "IPY_MODEL_1d34a15a939e4fcc9e9423e217b565ad",
       "style": "IPY_MODEL_d37265f63d4d42d3bb124e1fc10ad7f8",
       "tooltips": [
        "Save the map as an HTML file",
        "Take a screenshot and save as a PNG file",
        "Take a screenshot and save as a JPG file"
       ]
      }
     },
     "f00e190132e94d438bbf857358bb15eb": {
      "model_module": "jupyter-leaflet",
      "model_module_version": "^0.15.0",
      "model_name": "LeafletTileLayerModel",
      "state": {
       "_model_module_version": "^0.15.0",
       "_view_module_version": "^0.15.0",
       "attribution": "(C) OpenStreetMap contributors, Tiles style by Humanitarian OpenStreetMap Team hosted by OpenStreetMap France",
       "max_native_zoom": 18,
       "max_zoom": 19,
       "min_native_zoom": 0,
       "name": "OpenStreetMap.HOT",
       "options": [
        "attribution",
        "detect_retina",
        "max_native_zoom",
        "max_zoom",
        "min_native_zoom",
        "min_zoom",
        "no_wrap",
        "tile_size",
        "tms"
       ],
       "url": "https://a.tile.openstreetmap.fr/hot/{z}/{x}/{y}.png"
      }
     },
     "f068fdf9b5834d75a07b6ecbad55d975": {
      "model_module": "@jupyter-widgets/controls",
      "model_module_version": "1.5.0",
      "model_name": "ButtonModel",
      "state": {
       "description": "Select",
       "layout": "IPY_MODEL_c5cedd96f13f45279e064b4cb76e0a31",
       "style": "IPY_MODEL_6344a63fd00c48b8bb14bd091cdab133"
      }
     },
     "f0de4d4039574fdf8a4fd2c206f217d4": {
      "model_module": "@jupyter-widgets/controls",
      "model_module_version": "1.5.0",
      "model_name": "TextModel",
      "state": {
       "layout": "IPY_MODEL_8df6fba6357e4a69a58315efb98b99e7",
       "placeholder": "Search by place name or address",
       "style": "IPY_MODEL_9566f7eb31f94df4874e16bdd0762c06"
      }
     },
     "f1074be64ffe4b40b1d0e355df9d2a04": {
      "model_module": "@here/map-widget-for-jupyter",
      "model_module_version": "^1.1.3",
      "model_name": "DefaultLayersModel",
      "state": {
       "_model_module": "@here/map-widget-for-jupyter",
       "_model_module_version": "^1.1.3",
       "_view_count": null,
       "_view_module": "@here/map-widget-for-jupyter",
       "_view_module_version": "^1.1.3",
       "layer_name": "raster.terrain.base",
       "ppi": null
      }
     },
     "f1a27b5b7b8b4df6879570cff35744a7": {
      "model_module": "@here/map-widget-for-jupyter",
      "model_module_version": "^1.1.3",
      "model_name": "DefaultLayersModel",
      "state": {
       "_model_module": "@here/map-widget-for-jupyter",
       "_model_module_version": "^1.1.3",
       "_view_count": null,
       "_view_module": "@here/map-widget-for-jupyter",
       "_view_module_version": "^1.1.3",
       "ppi": null
      }
     },
     "f1c30ec3f3af48d8b5cfa44cecb21beb": {
      "model_module": "jupyter-leaflet",
      "model_module_version": "^0.15.0",
      "model_name": "LeafletTileLayerModel",
      "state": {
       "_model_module_version": "^0.15.0",
       "_view_module_version": "^0.15.0",
       "attribution": "Google",
       "max_native_zoom": 18,
       "max_zoom": 22,
       "min_native_zoom": 0,
       "name": "Google Satellite",
       "options": [
        "attribution",
        "detect_retina",
        "max_native_zoom",
        "max_zoom",
        "min_native_zoom",
        "min_zoom",
        "no_wrap",
        "tile_size",
        "tms"
       ],
       "url": "https://mt1.google.com/vt/lyrs=s&x={x}&y={y}&z={z}"
      }
     },
     "f2a0551f26ca4a5c8ef2e3f4ce0fb905": {
      "model_module": "@jupyter-widgets/controls",
      "model_module_version": "1.5.0",
      "model_name": "DescriptionStyleModel",
      "state": {
       "description_width": ""
      }
     },
     "f2b054015c2548329440f03797dd0089": {
      "model_module": "jupyter-leaflet",
      "model_module_version": "^0.15.0",
      "model_name": "LeafletWMSLayerModel",
      "state": {
       "_model_module_version": "^0.15.0",
       "_view_module_version": "^0.15.0",
       "attribution": "MRLC",
       "crs": {
        "custom": false,
        "name": "EPSG3857"
       },
       "format": "image/png",
       "layers": "NLCD_2013_Land_Cover_L48",
       "max_native_zoom": 18,
       "min_native_zoom": 0,
       "name": "NLCD 2013 CONUS Land Cover",
       "options": [
        "attribution",
        "detect_retina",
        "format",
        "layers",
        "max_native_zoom",
        "max_zoom",
        "min_native_zoom",
        "min_zoom",
        "no_wrap",
        "styles",
        "tile_size",
        "tms",
        "transparent",
        "uppercase"
       ],
       "transparent": true,
       "url": "https://www.mrlc.gov/geoserver/mrlc_display/NLCD_2013_Land_Cover_L48/wms?"
      }
     },
     "f35f88747c4a402293ba44f7722afd4e": {
      "model_module": "jupyter-leaflet",
      "model_module_version": "^0.15.0",
      "model_name": "LeafletTileLayerModel",
      "state": {
       "_model_module_version": "^0.15.0",
       "_view_module_version": "^0.15.0",
       "attribution": "![](https://docs.onemap.sg/maps/images/oneMap64-01.png) New OneMap | Map data (C) contributors, Singapore Land Authority",
       "max_native_zoom": 18,
       "min_native_zoom": 0,
       "name": "OneMapSG.Default",
       "options": [
        "attribution",
        "detect_retina",
        "max_native_zoom",
        "max_zoom",
        "min_native_zoom",
        "min_zoom",
        "no_wrap",
        "tile_size",
        "tms"
       ],
       "url": "https://maps-a.onemap.sg/v3/Default/{z}/{x}/{y}.png"
      }
     },
     "f3a396c5c6154bb2b8f59198a737978b": {
      "model_module": "jupyter-leaflet",
      "model_module_version": "^0.15.0",
      "model_name": "LeafletTileLayerModel",
      "state": {
       "_model_module_version": "^0.15.0",
       "_view_module_version": "^0.15.0",
       "attribution": "(C) OpenStreetMap contributors (C) CARTO",
       "max_native_zoom": 18,
       "max_zoom": 20,
       "min_native_zoom": 0,
       "name": "CartoDB.VoyagerOnlyLabels",
       "options": [
        "attribution",
        "detect_retina",
        "max_native_zoom",
        "max_zoom",
        "min_native_zoom",
        "min_zoom",
        "no_wrap",
        "tile_size",
        "tms"
       ],
       "url": "https://a.basemaps.cartocdn.com/rastertiles/voyager_only_labels/{z}/{x}/{y}.png"
      }
     },
     "f3aab73acc6444db9059eeb560b19cb4": {
      "model_module": "jupyter-leaflet",
      "model_module_version": "^0.15.0",
      "model_name": "LeafletTileLayerModel",
      "state": {
       "_model_module_version": "^0.15.0",
       "_view_module_version": "^0.15.0",
       "attribution": "Google Earth Engine",
       "max_native_zoom": 18,
       "max_zoom": 24,
       "min_native_zoom": 0,
       "name": "pine2",
       "options": [
        "attribution",
        "detect_retina",
        "max_native_zoom",
        "max_zoom",
        "min_native_zoom",
        "min_zoom",
        "no_wrap",
        "tile_size",
        "tms"
       ],
       "url": "https://earthengine.googleapis.com/v1alpha/projects/earthengine-legacy/maps/6621c0175c88466814c6ae3037a163e3-b69b05f94f6fa5fdf596a07136359d51/tiles/{z}/{x}/{y}"
      }
     },
     "f4c6ff10abf34dd0ad07bb9c9a183a3c": {
      "model_module": "@jupyter-widgets/base",
      "model_module_version": "1.2.0",
      "model_name": "LayoutModel",
      "state": {}
     },
     "f4df1130378a404d9d605e1fdc79fe5e": {
      "model_module": "@jupyter-widgets/controls",
      "model_module_version": "1.5.0",
      "model_name": "ToggleButtonModel",
      "state": {
       "button_style": "primary",
       "icon": "globe",
       "layout": "IPY_MODEL_b36ee8c128214ae18849b0d8d8a68a4f",
       "style": "IPY_MODEL_78d7b4a35a0643e99fc1b0dc1e3b510d",
       "tooltip": "Create timelapse"
      }
     },
     "f57608ba96d044dc909fe235bd9ed0d6": {
      "model_module": "@jupyter-widgets/controls",
      "model_module_version": "1.5.0",
      "model_name": "VBoxModel",
      "state": {
       "children": [
        "IPY_MODEL_0d9a60a429134cb79be12e3ad8a8e154",
        "IPY_MODEL_eac7bf29ded0409983b17b206d8e2e25"
       ],
       "layout": "IPY_MODEL_ba0aaaf3969d49ff91ea6faa9d6acad0"
      }
     },
     "f595ef1f623241f4b57504e24650a24e": {
      "model_module": "jupyter-leaflet",
      "model_module_version": "^0.15.0",
      "model_name": "LeafletTileLayerModel",
      "state": {
       "_model_module_version": "^0.15.0",
       "_view_module_version": "^0.15.0",
       "attribution": "Map tiles by Stamen Design, CC BY 3.0 -- Map data (C) OpenStreetMap contributors",
       "max_native_zoom": 18,
       "min_native_zoom": 0,
       "name": "Stamen.Terrain",
       "options": [
        "attribution",
        "detect_retina",
        "max_native_zoom",
        "max_zoom",
        "min_native_zoom",
        "min_zoom",
        "no_wrap",
        "tile_size",
        "tms"
       ],
       "url": "https://stamen-tiles-a.a.ssl.fastly.net/terrain/{z}/{x}/{y}.png"
      }
     },
     "f643f13bce5e43a786440ca744cf65a6": {
      "model_module": "jupyter-leaflet",
      "model_module_version": "^0.15.0",
      "model_name": "LeafletTileLayerModel",
      "state": {
       "_model_module_version": "^0.15.0",
       "_view_module_version": "^0.15.0",
       "attribution": "Datenquelle: basemap.at",
       "max_native_zoom": 18,
       "max_zoom": 19,
       "min_native_zoom": 0,
       "name": "BasemapAT.overlay",
       "options": [
        "attribution",
        "detect_retina",
        "max_native_zoom",
        "max_zoom",
        "min_native_zoom",
        "min_zoom",
        "no_wrap",
        "tile_size",
        "tms"
       ],
       "url": "https://maps.wien.gv.at/basemap/bmapoverlay/normal/google3857/{z}/{y}/{x}.png"
      }
     },
     "f673ec122b6a4551ab205c9fc338d50d": {
      "model_module": "jupyter-leaflet",
      "model_module_version": "^0.15.0",
      "model_name": "LeafletAttributionControlModel",
      "state": {
       "_model_module_version": "^0.15.0",
       "_view_module_version": "^0.15.0",
       "options": [
        "position",
        "prefix"
       ],
       "position": "bottomright",
       "prefix": "ipyleaflet"
      }
     },
     "f7cc55f2a5ad4c8caaf62c3550d66629": {
      "model_module": "@jupyter-widgets/controls",
      "model_module_version": "1.5.0",
      "model_name": "HBoxModel",
      "state": {
       "children": [
        "IPY_MODEL_eb497780b05b4f54a024a3909046184c",
        "IPY_MODEL_e19097b5010d4ff59d3e1b2f69ff8b68"
       ],
       "layout": "IPY_MODEL_83342aaea47f4288b181c41cafa45915"
      }
     },
     "f80374accbf743ee8eb67e126a9c085e": {
      "model_module": "@jupyter-widgets/controls",
      "model_module_version": "1.5.0",
      "model_name": "VBoxModel",
      "state": {
       "children": [
        "IPY_MODEL_a486f96db08640b0beb971e2d14fa77f"
       ],
       "layout": "IPY_MODEL_6b2c0d9013a8418d909a5388359581e1"
      }
     },
     "f9162fb9fc7f45af84cadc5cd2912b0d": {
      "model_module": "jupyter-leaflet",
      "model_module_version": "^0.15.0",
      "model_name": "LeafletTileLayerModel",
      "state": {
       "_model_module_version": "^0.15.0",
       "_view_module_version": "^0.15.0",
       "attribution": "Imagery provided by services from the Global Imagery Browse Services (GIBS), operated by the NASA/GSFC/Earth Science Data and Information System (ESDIS) with funding provided by NASA/HQ.",
       "max_native_zoom": 18,
       "max_zoom": 6,
       "min_native_zoom": 0,
       "name": "NASAGIBS.ModisTerraAOD",
       "options": [
        "attribution",
        "detect_retina",
        "max_native_zoom",
        "max_zoom",
        "min_native_zoom",
        "min_zoom",
        "no_wrap",
        "tile_size",
        "tms"
       ],
       "url": "https://map1.vis.earthdata.nasa.gov/wmts-webmerc/MODIS_Terra_Aerosol/default//GoogleMapsCompatible_Level6/{z}/{y}/{x}.png"
      }
     },
     "faf7d5717b9d468eb84f6b020257d220": {
      "model_module": "@jupyter-widgets/controls",
      "model_module_version": "1.5.0",
      "model_name": "HTMLModel",
      "state": {
       "layout": "IPY_MODEL_297b97b35c4f436cac2c1190dad4bd69",
       "placeholder": "",
       "style": "IPY_MODEL_525e9ae1faf44f209c07468e744f1ff9",
       "value": "<span style=\"color:black;\">No selection</span>"
      }
     },
     "fb2e9ff98b9848aabbc6481b0994faf4": {
      "model_module": "jupyter-leaflet",
      "model_module_version": "^0.15.0",
      "model_name": "LeafletWMSLayerModel",
      "state": {
       "_model_module_version": "^0.15.0",
       "_view_module_version": "^0.15.0",
       "attribution": "MRLC",
       "crs": {
        "custom": false,
        "name": "EPSG3857"
       },
       "format": "image/png",
       "layers": "NLCD_2006_Land_Cover_L48",
       "max_native_zoom": 18,
       "min_native_zoom": 0,
       "name": "NLCD 2006 CONUS Land Cover",
       "options": [
        "attribution",
        "detect_retina",
        "format",
        "layers",
        "max_native_zoom",
        "max_zoom",
        "min_native_zoom",
        "min_zoom",
        "no_wrap",
        "styles",
        "tile_size",
        "tms",
        "transparent",
        "uppercase"
       ],
       "transparent": true,
       "url": "https://www.mrlc.gov/geoserver/mrlc_display/NLCD_2006_Land_Cover_L48/wms?"
      }
     },
     "fb7de97a4a7146e2afa7da0e33cc0bc9": {
      "model_module": "jupyter-leaflet",
      "model_module_version": "^0.15.0",
      "model_name": "LeafletZoomControlModel",
      "state": {
       "_model_module_version": "^0.15.0",
       "_view_module_version": "^0.15.0",
       "options": [
        "position",
        "zoom_in_text",
        "zoom_in_title",
        "zoom_out_text",
        "zoom_out_title"
       ]
      }
     },
     "fb9438f5c4fb45dfaece7b7f3deca246": {
      "model_module": "@jupyter-widgets/controls",
      "model_module_version": "1.5.0",
      "model_name": "DescriptionStyleModel",
      "state": {
       "description_width": ""
      }
     },
     "fc1be40288e24b12862cee301118c4ad": {
      "model_module": "@jupyter-widgets/controls",
      "model_module_version": "1.5.0",
      "model_name": "HBoxModel",
      "state": {
       "children": [
        "IPY_MODEL_ab8ced1cdbf34cc2b9f46db0d0042a28",
        "IPY_MODEL_b66bc37bb54c488ca7970710f246b608",
        "IPY_MODEL_dffb63a62c574af0997d94bd13e1485d"
       ],
       "layout": "IPY_MODEL_9a4255db5fb44e919e4072e5bf710f37"
      }
     },
     "fcdd868e37964c2cb1320e8828fa9da0": {
      "model_module": "@jupyter-widgets/controls",
      "model_module_version": "1.5.0",
      "model_name": "DescriptionStyleModel",
      "state": {
       "description_width": ""
      }
     },
     "fdc60e0d1db5451d9659cef22a6b8ee6": {
      "model_module": "@jupyter-widgets/controls",
      "model_module_version": "1.5.0",
      "model_name": "DescriptionStyleModel",
      "state": {
       "description_width": ""
      }
     },
     "fdf87a89886a423c946106fb1edb8ebe": {
      "model_module": "jupyter-leaflet",
      "model_module_version": "^0.15.0",
      "model_name": "LeafletZoomControlModel",
      "state": {
       "_model_module_version": "^0.15.0",
       "_view_module_version": "^0.15.0",
       "options": [
        "position",
        "zoom_in_text",
        "zoom_in_title",
        "zoom_out_text",
        "zoom_out_title"
       ]
      }
     },
     "fec9f78131a44860a173f51bebe318aa": {
      "model_module": "@jupyter-widgets/controls",
      "model_module_version": "1.5.0",
      "model_name": "HBoxModel",
      "state": {
       "children": [
        "IPY_MODEL_f068fdf9b5834d75a07b6ecbad55d975",
        "IPY_MODEL_075f783db9eb4eb8b1bc6f0817019559",
        "IPY_MODEL_3e852467c97f41fb83da6b78124c6f8f"
       ],
       "layout": "IPY_MODEL_9f1f4b492fe246dfb864b734f53f3cdf"
      }
     },
     "ff367a2086c74205a5bbb0f34d49c734": {
      "model_module": "jupyter-leaflet",
      "model_module_version": "^0.15.0",
      "model_name": "LeafletTileLayerModel",
      "state": {
       "_model_module_version": "^0.15.0",
       "_view_module_version": "^0.15.0",
       "attribution": "Geoportail France",
       "max_native_zoom": 18,
       "min_native_zoom": 0,
       "name": "GeoportailFrance.plan",
       "options": [
        "attribution",
        "detect_retina",
        "max_native_zoom",
        "max_zoom",
        "min_native_zoom",
        "min_zoom",
        "no_wrap",
        "tile_size",
        "tms"
       ],
       "url": "https://wxs.ign.fr/choisirgeoportail/geoportail/wmts?REQUEST=GetTile&SERVICE=WMTS&VERSION=1.0.0&STYLE=normal&TILEMATRIXSET=PM&FORMAT=image/png&LAYER=GEOGRAPHICALGRIDSYSTEMS.PLANIGNV2&TILEMATRIX={z}&TILEROW={y}&TILECOL={x}"
      }
     },
     "ffafea99a73b4a839511c60a8d3197a4": {
      "model_module": "jupyter-leaflet",
      "model_module_version": "^0.15.0",
      "model_name": "LeafletTileLayerModel",
      "state": {
       "_model_module_version": "^0.15.0",
       "_view_module_version": "^0.15.0",
       "attribution": "Google",
       "max_native_zoom": 18,
       "max_zoom": 22,
       "min_native_zoom": 0,
       "name": "Google Terrain",
       "options": [
        "attribution",
        "detect_retina",
        "max_native_zoom",
        "max_zoom",
        "min_native_zoom",
        "min_zoom",
        "no_wrap",
        "tile_size",
        "tms"
       ],
       "url": "https://mt1.google.com/vt/lyrs=p&x={x}&y={y}&z={z}"
      }
     }
    },
    "version_major": 2,
    "version_minor": 0
   }
  }
 },
 "nbformat": 4,
 "nbformat_minor": 4
}
