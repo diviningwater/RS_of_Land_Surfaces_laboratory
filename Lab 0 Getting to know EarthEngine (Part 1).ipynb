{
 "cells": [
  {
   "cell_type": "raw",
   "metadata": {
    "slideshow": {
     "slide_type": "skip"
    }
   },
   "source": [
    "Run this notebook as slides by clicking in the \"Enter/Exit RISE Slideshow\" button in the toolbar"
   ]
  },
  {
   "cell_type": "markdown",
   "metadata": {
    "slideshow": {
     "slide_type": "slide"
    }
   },
   "source": [
    "# Lab 0 Getting to know EarthEngine (Part 1)"
   ]
  },
  {
   "cell_type": "code",
   "execution_count": 1,
   "metadata": {
    "slideshow": {
     "slide_type": "fragment"
    }
   },
   "outputs": [
    {
     "name": "stdout",
     "output_type": "stream",
     "text": [
      "Updated by Alfonso Torres-Rua,  February 05, 2021\n"
     ]
    }
   ],
   "source": [
    "from datetime import date\n",
    "today = date.today()\n",
    "d2 = today.strftime(\"%B %d, %Y\")\n",
    "print(\"Updated by Alfonso Torres-Rua, \", d2) "
   ]
  },
  {
   "cell_type": "markdown",
   "metadata": {
    "slideshow": {
     "slide_type": "slide"
    }
   },
   "source": [
    "## Introduction\n",
    "\n",
    "Google EarthEngine *GEE* is the largest remote sensing repository with steroids. So it is much more than just a storage service. \n",
    "\n",
    "GEE allows you to:\n",
    "\n",
    "1) Query, retrieve, and clip specific remote sensing and vector data for your needs (area of study). As any repository should do.\n",
    "\n",
    "2) Process/filter the remote sensing data before bringing it to your local or HydroShare storage. For example, clouded pixels can be \"filtered\" and NDVI values calculated before importing the e.g. timeseries files.\n",
    "\n",
    "3) Connect the EarthEngine datasets to live applications (e.g. an app). An example of this is the EEFlux project: https://eeflux-level1.appspot.com/\n",
    "\n",
    "We need to learn some of the GEE terminology to get it to work. This notebook will be your guide. Let's begin:"
   ]
  },
  {
   "cell_type": "markdown",
   "metadata": {
    "slideshow": {
     "slide_type": "slide"
    }
   },
   "source": [
    "## GEE objects:\n",
    "\n",
    "Objects are the features we will interact with in the GEE cloud. These can be:\n",
    "\n",
    "1) Strings or text.\n",
    "\n",
    "2) Numbers, one or many.\n",
    "\n",
    "3) Methods or \"functions\" to apply to GEE objects.\n",
    "\n",
    "4) Lists.\n",
    "\n",
    "Let's check each of them:\n",
    "\n",
    "(DON'T FORGET RUNNING A TERMINAL AND INSTALLING THE NECESSARY MODULES DESCRIBED IN THE [2 Using Earth Engine in HydroShare](2 Using Earth Engine in HydroShare.ipynb))\n"
   ]
  },
  {
   "cell_type": "markdown",
   "metadata": {
    "slideshow": {
     "slide_type": "slide"
    }
   },
   "source": [
    "Let's initiate GEE API"
   ]
  },
  {
   "cell_type": "code",
   "execution_count": 2,
   "metadata": {
    "slideshow": {
     "slide_type": "fragment"
    }
   },
   "outputs": [],
   "source": [
    "# Initializing display and earthengine\n",
    "from IPython.display import Image\n",
    "%matplotlib inline\n",
    "\n",
    "import ee\n",
    "ee.Initialize()"
   ]
  },
  {
   "cell_type": "markdown",
   "metadata": {
    "slideshow": {
     "slide_type": "slide"
    }
   },
   "source": [
    "### Strings\n",
    "Which is just text and is passed to GEE cloud with the command *ee.String('text')* as follows:"
   ]
  },
  {
   "cell_type": "code",
   "execution_count": 3,
   "metadata": {
    "slideshow": {
     "slide_type": "fragment"
    }
   },
   "outputs": [
    {
     "name": "stdout",
     "output_type": "stream",
     "text": [
      "Where to? To the cloud!\n"
     ]
    }
   ],
   "source": [
    "# Define a string, then put it into an EE container.\n",
    "aString = 'To the cloud!'\n",
    "eeString = ee.String(aString)\n",
    "print('Where to?', eeString.getInfo())"
   ]
  },
  {
   "cell_type": "markdown",
   "metadata": {
    "slideshow": {
     "slide_type": "fragment"
    }
   },
   "source": [
    "Note that retrieving values from a GEE object we use *.getInfo()* command."
   ]
  },
  {
   "cell_type": "code",
   "execution_count": 4,
   "metadata": {
    "slideshow": {
     "slide_type": "fragment"
    }
   },
   "outputs": [
    {
     "name": "stdout",
     "output_type": "stream",
     "text": [
      "String on the server: This is on the server.\n"
     ]
    }
   ],
   "source": [
    "# Define a string that exists on the server.\n",
    "serverString = ee.String('This is on the server.')\n",
    "print('String on the server:', serverString.getInfo())"
   ]
  },
  {
   "cell_type": "markdown",
   "metadata": {
    "slideshow": {
     "slide_type": "slide"
    }
   },
   "source": [
    "## Numbers\n",
    "\n",
    "Use *ee.Number(number)* to create the numeric variable:"
   ]
  },
  {
   "cell_type": "code",
   "execution_count": 5,
   "metadata": {
    "slideshow": {
     "slide_type": "fragment"
    }
   },
   "outputs": [
    {
     "name": "stdout",
     "output_type": "stream",
     "text": [
      "e= 2.718281828459045\n"
     ]
    }
   ],
   "source": [
    "# create a numerical variable that is passed to the server.\n",
    "import math #importing the python math module\n",
    "e_base =math.exp(1)\n",
    "serverNumber = ee.Number(e_base)\n",
    "print('e=', serverNumber.getInfo());"
   ]
  },
  {
   "cell_type": "markdown",
   "metadata": {
    "slideshow": {
     "slide_type": "slide"
    }
   },
   "source": [
    "## Methods or functions\n",
    "\n",
    "Once the variable is on the GEE server, we cannot use local python commands. We have to use GEE API functions. A complete list of *methods* is located here: https://developers.google.com/earth-engine/api_docs"
   ]
  },
  {
   "cell_type": "code",
   "execution_count": 6,
   "metadata": {
    "slideshow": {
     "slide_type": "fragment"
    }
   },
   "outputs": [
    {
     "name": "stdout",
     "output_type": "stream",
     "text": [
      "log(e)= 1\n"
     ]
    }
   ],
   "source": [
    "# Use a built-in function to perform an operation on the number.\n",
    "logE = serverNumber.log()\n",
    "print('log(e)=', logE.getInfo())"
   ]
  }
 ],
 "metadata": {
  "celltoolbar": "Slideshow",
  "kernelspec": {
   "display_name": "Python 3",
   "language": "python",
   "name": "python3"
  },
  "language_info": {
   "codemirror_mode": {
    "name": "ipython",
    "version": 3
   },
   "file_extension": ".py",
   "mimetype": "text/x-python",
   "name": "python",
   "nbconvert_exporter": "python",
   "pygments_lexer": "ipython3",
   "version": "3.7.8"
  },
  "latex_envs": {
   "LaTeX_envs_menu_present": true,
   "autoclose": false,
   "autocomplete": true,
   "bibliofile": "biblio.bib",
   "cite_by": "apalike",
   "current_citInitial": 1,
   "eqLabelWithNumbers": true,
   "eqNumInitial": 1,
   "hotkeys": {
    "equation": "Ctrl-E",
    "itemize": "Ctrl-I"
   },
   "labels_anchors": false,
   "latex_user_defs": false,
   "report_style_numbering": false,
   "user_envs_cfg": false
  }
 },
 "nbformat": 4,
 "nbformat_minor": 4
}
