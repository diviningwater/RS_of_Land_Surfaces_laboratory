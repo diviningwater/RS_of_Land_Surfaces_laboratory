{
 "cells": [
  {
   "cell_type": "markdown",
   "metadata": {
    "slideshow": {
     "slide_type": "slide"
    }
   },
   "source": [
    "## Exporting Data\n",
    "You can export images, map tiles, tables and video from Earth Engine. The exports can be sent to your Google Drive account, to Google Cloud Storage or to a new Earth Engine asset.\n",
    "\n",
    "### Exporting images\n",
    "You can export images from Earth Engine in GeoTIFF or TFRecord format. See Configuration Parameters for more output options. To export an image to your Drive account, use ee.batch.Export.image.toDrive(). For example, to export portions of a Landsat image, define a region to export, then call ee.batch.Export.image.toDrive():\n",
    "\n"
   ]
  },
  {
   "cell_type": "code",
   "execution_count": 1,
   "metadata": {
    "slideshow": {
     "slide_type": "slide"
    }
   },
   "outputs": [],
   "source": [
    "# Initializing display, earthengine, and ipyleaflet\n",
    "from IPython.display import Image\n",
    "%matplotlib inline\n",
    "\n",
    "import ee\n",
    "ee.Initialize()"
   ]
  },
  {
   "cell_type": "code",
   "execution_count": 2,
   "metadata": {},
   "outputs": [],
   "source": [
    "# Load a landsat image and select three bands.\n",
    "landsat = ee.Image('LANDSAT/LC08/C01/T1_TOA/LC08_123032_20140515').select(['B4', 'B3', 'B2'])\n",
    "\n",
    "#// Create a geometry representing an export region.\n",
    "geometry = ee.Geometry.Rectangle([116.2621, 39.8412, 116.4849, 40.01236])\n",
    "\n",
    "task = ee.batch.Export.image.toDrive(image=landsat.clip(geometry),\n",
    "                                           description=\"LC08_123032_20140515_TOA\",\n",
    "                                           folder=\"GEEexport\",\n",
    "                                           region=geometry['coordinates'],\n",
    "                                           crs= landsat.projection().crs().getInfo(),\n",
    "                                           scale=landsat.projection().nominalScale().getInfo(),\n",
    "                                           fileFormat='GeoTIFF',\n",
    "                                           skipEmptyTiles=True)\n",
    "task.start()"
   ]
  },
  {
   "cell_type": "markdown",
   "metadata": {},
   "source": [
    "## Exporting tables and vector data\n",
    "You can export a FeatureCollection as CSV, SHP (shapefile), GeoJSON, KML, KMZ or TFRecord using Export.table. The FeatureCollection may represent vectors or simply a table of data. In the latter case, the features in the collection will have null geometry.\n",
    "\n",
    "Note some additional constraints when working with some file formats, including:\n",
    "\n",
    "KML: A FeatureCollection exported to a KML file will have all the geometries transformed to unprojected (WGS84) coordinates.\n",
    "SHP: A FeatureCollection exported to a Shapefile must contain features with the same geometry type and projection and must fit within the Shapefile size limits. Column names are truncated to 10 characters or fewer, and this must not create duplicate column names."
   ]
  },
  {
   "cell_type": "code",
   "execution_count": 3,
   "metadata": {},
   "outputs": [],
   "source": [
    "#// Make a collection of points.\n",
    "features = ee.FeatureCollection([\n",
    "  ee.Feature(ee.Geometry.Point(30.41, 59.933)).set('name','Voronoi'),\n",
    "  ee.Feature(ee.Geometry.Point(-73.96, 40.781)).set('name','Thiessen'),\n",
    "  ee.Feature(ee.Geometry.Point(6.4806, 50.8012)).set('name','Dirichlet')\n",
    "])\n",
    "\n",
    "#// Export the FeatureCollection to a KML file.\n",
    "task = ee.batch.Export.table.toDrive(\n",
    "  collection= features,\n",
    "  description='vectorsToDriveExample',\n",
    "  folder=\"GEEexport\",\n",
    "  fileFormat= 'KML'\n",
    ");\n",
    "\n",
    "\n",
    "task.start()"
   ]
  },
  {
   "cell_type": "markdown",
   "metadata": {},
   "source": [
    "Note that the output format is specified as KML to handle geographic data (SHP would also be appropriate for exporting a table with geometry). To export just a table of data, without any geographic information, export features with null geometry in CSV format. The following demonstrates using ee.batch.Export.table.toDrive() to get the results of a potentially long running reduction:\n",
    "\n"
   ]
  },
  {
   "cell_type": "code",
   "execution_count": 4,
   "metadata": {},
   "outputs": [
    {
     "name": "stdout",
     "output_type": "stream",
     "text": [
      "{'B1': 0.10156660976055135, 'B10': 288.38945983522234, 'B11': 287.449363371539, 'B2': 0.0777191134617773, 'B3': 0.05530029791297399, 'B4': 0.036708278784827325, 'B5': 0.2213974520811337, 'B6': 0.07888247177758294, 'B7': 0.03508945487734233, 'B8': 0.04710008874158145, 'B9': 0.0015609697454817123, 'BQA': 2720.119445772292}\n"
     ]
    }
   ],
   "source": [
    "# // Load a Landsat TOA image.\n",
    "image = ee.Image('LANDSAT/LC08/C01/T1_TOA/LC08_044034_20140318');\n",
    "# // Create an arbitrary rectangle.\n",
    "region = ee.Geometry.Rectangle([-122.2806, 37.1209, -122.0554, 37.2413])\n",
    "\n",
    "# // Get a dictionary of means in the region.\n",
    "means = image.reduceRegion(ee.Reducer.mean(),region,  maxPixels= 1e9)\n",
    "print(means.getInfo())"
   ]
  },
  {
   "cell_type": "code",
   "execution_count": 5,
   "metadata": {},
   "outputs": [],
   "source": [
    "# // Make a feature without geometry and set the properties to the dictionary of means.\n",
    "feature = ee.Feature(None, means)\n",
    "\n",
    "# // Wrap the Feature in a FeatureCollection for export.\n",
    "featureCollection = ee.FeatureCollection([feature])\n",
    "\n",
    "# // Export the FeatureCollection.\n",
    "task = ee.batch.Export.table.toDrive(\n",
    "  collection=featureCollection,\n",
    "  description= 'exportTableExample',\n",
    "  folder=\"GEEexport\",\n",
    "  fileFormat='CSV'\n",
    ")\n",
    "\n",
    "task.start()"
   ]
  },
  {
   "cell_type": "code",
   "execution_count": null,
   "metadata": {},
   "outputs": [],
   "source": []
  }
 ],
 "metadata": {
  "celltoolbar": "Slideshow",
  "kernelspec": {
   "display_name": "Python 3 (ipykernel)",
   "language": "python",
   "name": "python3"
  },
  "language_info": {
   "codemirror_mode": {
    "name": "ipython",
    "version": 3
   },
   "file_extension": ".py",
   "mimetype": "text/x-python",
   "name": "python",
   "nbconvert_exporter": "python",
   "pygments_lexer": "ipython3",
   "version": "3.9.7"
  },
  "latex_envs": {
   "LaTeX_envs_menu_present": true,
   "autoclose": false,
   "autocomplete": true,
   "bibliofile": "biblio.bib",
   "cite_by": "apalike",
   "current_citInitial": 1,
   "eqLabelWithNumbers": true,
   "eqNumInitial": 1,
   "hotkeys": {
    "equation": "Ctrl-E",
    "itemize": "Ctrl-I"
   },
   "labels_anchors": false,
   "latex_user_defs": false,
   "report_style_numbering": false,
   "user_envs_cfg": false
  },
  "widgets": {
   "application/vnd.jupyter.widget-state+json": {
    "state": {},
    "version_major": 2,
    "version_minor": 0
   }
  }
 },
 "nbformat": 4,
 "nbformat_minor": 4
}
