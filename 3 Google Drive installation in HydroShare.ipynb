{
 "cells": [
  {
   "cell_type": "markdown",
   "metadata": {},
   "source": [
    "## Google Drive API Installation in HydroShare (deprecated by geemap)\n",
    "\n",
    "Complete the steps described in the rest of this page an create a simple Python command-line application that makes requests to the Drive API."
   ]
  },
  {
   "cell_type": "markdown",
   "metadata": {},
   "source": [
    "### Prerequisites\n",
    "To run this quickstart, you'll need:\n",
    "- Python 2.6 or greater\n",
    "- The pip package management tool\n",
    "- A Google account with Google Drive enabled"
   ]
  },
  {
   "cell_type": "markdown",
   "metadata": {},
   "source": [
    "### Step 1: Turn on the Drive API\n",
    "Complete Step 1 in this website https://developers.google.com/drive/api/v3/quickstart/python to create a new console project and automatically enable the Drive API.\n",
    "\n",
    "Once enabled, download the credential.json file, upload it to your CUASHI folder working where work will be done and ensure it is named *credentials.json*."
   ]
  },
  {
   "cell_type": "markdown",
   "metadata": {},
   "source": [
    "### Step 2: Install the Google Client Library\n",
    "Open a terminal and run the following command to install the library using pip:"
   ]
  },
  {
   "cell_type": "raw",
   "metadata": {},
   "source": [
    "pip install --upgrade google-api-python-client oauth2client\n"
   ]
  },
  {
   "cell_type": "markdown",
   "metadata": {},
   "source": [
    "### Step 3: Set up the sample\n",
    "Create a file named quickstart.py in Notepad, copy in the following code and upload it to the working directory."
   ]
  },
  {
   "cell_type": "raw",
   "metadata": {},
   "source": [
    "from __future__ import print_function\n",
    "from googleapiclient.discovery import build\n",
    "from httplib2 import Http\n",
    "from oauth2client import file, client, tools\n",
    "\n",
    "# If modifying these scopes, delete the file token.json.\n",
    "SCOPES = 'https://www.googleapis.com/auth/drive'\n",
    "\n",
    "def main():\n",
    "    \"\"\"Shows basic usage of the Drive v3 API.\n",
    "    Prints the names and ids of the first 10 files the user has access to.\n",
    "    \"\"\"\n",
    "    # The file token.json stores the user's access and refresh tokens, and is\n",
    "    # created automatically when the authorization flow completes for the first\n",
    "    # time.\n",
    "    store = file.Storage('token.json')\n",
    "    creds = store.get()\n",
    "    if not creds or creds.invalid:\n",
    "        flow = client.flow_from_clientsecrets('credentials.json', SCOPES)\n",
    "        creds = tools.run_flow(flow, store)\n",
    "    service = build('drive', 'v3', http=creds.authorize(Http()))\n",
    "\n",
    "    # Call the Drive v3 API\n",
    "    results = service.files().list(\n",
    "        pageSize=10, fields=\"nextPageToken, files(id, name)\").execute()\n",
    "    items = results.get('files', [])\n",
    "\n",
    "    if not items:\n",
    "        print('No files found.')\n",
    "    else:\n",
    "        print('Files:')\n",
    "        for item in items:\n",
    "            print(u'{0} ({1})'.format(item['name'], item['id']))\n",
    "\n",
    "if __name__ == '__main__':\n",
    "    main()"
   ]
  },
  {
   "cell_type": "markdown",
   "metadata": {},
   "source": [
    "### Step 4: Run the sample\n",
    "Run the sample in the open terminal using the following command:"
   ]
  },
  {
   "cell_type": "raw",
   "metadata": {},
   "source": [
    "python quickstart.py --noauth_local_webserver"
   ]
  },
  {
   "cell_type": "markdown",
   "metadata": {},
   "source": [
    "- The sample will provide a web address like the one below, copy the URL from the terminal and manually open it in your browser."
   ]
  },
  {
   "cell_type": "raw",
   "metadata": {},
   "source": [
    "https://accounts.google.com/o/oauth2/auth?scope=https%3A%2F%2Fwww.googleapis.com%2Fauth%2Fdrive.metadata.readonly&redirect_uri=urn%3Aietf%3Awg%3Aoauth%3A2.0%3Aoob&response_type=code&client_id=510521574319-g9nn25nvu8fse6l2rl4opfgghjv2ku253pui7.apps.googleusercontent.com&access_type=offline"
   ]
  },
  {
   "cell_type": "markdown",
   "metadata": {},
   "source": [
    "- If you are not already logged into your Google account, you will be prompted to log in. If you are logged into multiple Google accounts, you will be asked to select one account to use for the authorization.\n",
    "\n",
    "- Click the Accept button.\n",
    "\n",
    "- The sample will provide an authorization code like the one below, copy and paste it in the terminal, and you may close the window/tab."
   ]
  },
  {
   "cell_type": "raw",
   "metadata": {},
   "source": [
    "4/pgBIj_ZtyDlpLfI7-EVYc2SzVAw4z1Tad_GeRxasdgjrIcN1YWDi17Ba9d8o"
   ]
  },
  {
   "cell_type": "markdown",
   "metadata": {},
   "source": [
    "If successful, a message similar to below will show:"
   ]
  },
  {
   "cell_type": "raw",
   "metadata": {},
   "source": [
    "Authentication successful.\n",
    "Files:\n",
    "AggieAir Research Background (1qPndKYrlr1UHN8RqBl7JyRdJrttyjldYsvbZPLa01r2eaKY)\n",
    "2018_agu_image_details.png (1r9koucgr4ICOOUcfsX5zDulhkyuiioOzfezcr)\n",
    "spatial-temporal-analysis_11302018_AT.docx (1dZyV-XdplKQ4m2ioytUwNogpSlkMFL8psKnB)\n",
    "4d161073-1526-4528-91c5-7fc423b2bfd7.jpg (1osnlPUby4c8cB6Abasd8XEcV26TtT8KpZFCfw)\n",
    "spatial-temporal-analysis_11302018_AT.docx (1KWDqlcTISRPQtwerreebhdcykfHI8YIvWH5U)\n",
    "Response to the comments of Reviewer 2.docx (0B6iNeExGapZXvbnmUllfcnBMNmNwVlBPaXBlUVBEUTl2S1RjV0Mw)\n",
    "Response to the comments of Reviewer 3.docx (0B6iNeExGapZXVlA0jkybVpYemJvTUtMNkdwZkMxM1dwMlRGaDdF)\n",
    "Response to the comments of Reviewer 1.docx (0B6iNeExGapZXTk91uitrMXIxZE5xQW50cHJPLWJhMDZ2endWN0lv)\n",
    "spatial-temporal-analysis_11302018.pdf (0B6iNeExGapZXNTFvdGp2edfghyeVEtUVpOYXhXeDRGLVZsdmpZV3ZR)\n",
    "precipitation paper (1OCteIv1QkqmqIVFaNPpjOP_cCxgVfghjk5smL)"
   ]
  },
  {
   "cell_type": "markdown",
   "metadata": {},
   "source": [
    "A new file called token.json will be created. token.json and credentials.json must be close to the notebooks that will interact with Google Drive.\n",
    "\n",
    "That's it! Now HydroShare can intereact with GoogleDrive API. You can go to the next notebook!"
   ]
  },
  {
   "cell_type": "code",
   "execution_count": null,
   "metadata": {},
   "outputs": [],
   "source": []
  }
 ],
 "metadata": {
  "kernelspec": {
   "display_name": "Python 3",
   "language": "python",
   "name": "python3"
  },
  "language_info": {
   "codemirror_mode": {
    "name": "ipython",
    "version": 3
   },
   "file_extension": ".py",
   "mimetype": "text/x-python",
   "name": "python",
   "nbconvert_exporter": "python",
   "pygments_lexer": "ipython3",
   "version": "3.7.8"
  }
 },
 "nbformat": 4,
 "nbformat_minor": 4
}
