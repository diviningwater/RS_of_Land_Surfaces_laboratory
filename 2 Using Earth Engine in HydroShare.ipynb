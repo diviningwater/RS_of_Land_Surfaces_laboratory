{
 "cells": [
  {
   "cell_type": "raw",
   "metadata": {
    "slideshow": {
     "slide_type": "skip"
    }
   },
   "source": [
    "Run this notebook as slides by clicking in the \"Enter/Exit RISE Slideshow\" button in the toolbar"
   ]
  },
  {
   "cell_type": "markdown",
   "metadata": {
    "slideshow": {
     "slide_type": "slide"
    }
   },
   "source": [
    "# Readme for using Google Earth Engine in HydroShare (deprecated)"
   ]
  },
  {
   "cell_type": "code",
   "execution_count": 2,
   "metadata": {
    "slideshow": {
     "slide_type": "fragment"
    }
   },
   "outputs": [
    {
     "name": "stdout",
     "output_type": "stream",
     "text": [
      "Updated by Alfonso Torres-Rua,  April 20, 2020\n"
     ]
    }
   ],
   "source": [
    "from datetime import date\n",
    "today = date.today()\n",
    "d2 = today.strftime(\"%B %d, %Y\")\n",
    "print(\"Updated by Alfonso Torres-Rua, \", d2)"
   ]
  },
  {
   "cell_type": "markdown",
   "metadata": {
    "slideshow": {
     "slide_type": "slide"
    }
   },
   "source": [
    "This is a series of **jupyter notebooks** for the integration of the vast array of spatial datasets stored in **Google Earth Engine** https://earthengine.google.com/ to the Hydroshare platform and store the code and results into HydroShare.\n",
    "\n",
    "This is a live document, that is updated with the semesters and years. So it will keeep evolving.\n",
    "\n",
    "This is what is expected from you to run these notebooks:"
   ]
  },
  {
   "cell_type": "markdown",
   "metadata": {
    "slideshow": {
     "slide_type": "slide"
    }
   },
   "source": [
    "1) You are able to import or upload resources (notebooks) from  internet / Github and store it in a HydroShare folder (unzipped, of course). \n",
    " For example, you should be able to bring these github notebook repositories to your Hydroshare folder to respective subfolders: \n",
    " \n",
    " https://github.com/tylere/eeus2017-python\n",
    " \n",
    " https://github.com/tylere/EEUS2018-JupyterSession\n",
    " \n",
    " https://github.com/rosaguilar/geetutorial\n",
    " \n",
    " \n",
    " A nice description on how to use git commands to **\"clone\"** git repositores into Hydroshare is in this document: \n",
    " [0 Git commands for HydroShare.ipynb](0 Git commands for HydroShare.ipynb)."
   ]
  },
  {
   "cell_type": "markdown",
   "metadata": {
    "slideshow": {
     "slide_type": "slide"
    }
   },
   "source": [
    "2) You are familiar (not necessarily an expert) in Python. Why use Python? Because of the Pandas library. (I am a Matlab guy and this is my main reason to to migrate to Python). If you do not know much about Pandas, here is a good description about it: https://data36.com/pandas-tutorial-1-basics-reading-data-files-dataframes-data-selection/. \n",
    "\n",
    "3) Complete the EarthEngine Hydroshare integration steps as described in this *notebook*. This is done ONE TIME ONLY. After completion, you just need to go to Step 4. Follow the [1 Google Earth Engine installation in HydroShare.ipynb](1 Google Earth Engine installation in HydroShare.ipynb) notebook."
   ]
  },
  {
   "cell_type": "markdown",
   "metadata": {
    "slideshow": {
     "slide_type": "slide"
    }
   },
   "source": [
    "4) When comming back to work on these lectures, open a terminal and run (copy and paste) the following lines:"
   ]
  },
  {
   "cell_type": "raw",
   "metadata": {
    "slideshow": {
     "slide_type": "fragment"
    }
   },
   "source": [
    "# IMPORTANT setting up Jupyter slides mode\n",
    "pip install RISE --quiet\n",
    "jupyter-nbextension install rise --py --sys-prefix\n",
    "jupyter nbextension enable rise --py --sys-prefix\n",
    "\n",
    "# IMPORTANT setting up Google Earth Engine GEE Python API\n",
    "pip install google-api-python-client --quiet\n",
    "pip install oauth2client --quiet\n",
    "pip install pyCrypto --quiet\n",
    "#pip install earthengine-api --quiet\n",
    "conda install -y -c conda-forge earthengine-api --quiet\n",
    "\n",
    "\n",
    "\n",
    "# IMPORTANT setting up Google EarthEngine GEE Jupyter map visulization capabilities\n",
    "pip install ipygee --quiet\n",
    "pip install geetools --quiet\n",
    "pip install ipyleaflet --quiet\n",
    "jupyter nbextension enable --py --sys-prefix ipyleaflet\n",
    "\n",
    "# IMPORTANT setting Jupyternotebook extended capabilities\n",
    "jupyter nbextension enable --py widgetsnbextension\n",
    "\n",
    "# IMPORTANT Jupyter extension that split cells into two columns\n",
    "jupyter nbextension enable splitcell/splitcell\n",
    "jupyter nbextension enable hinterland/hinterland\n",
    "pip install yapf --quiet\n",
    "jupyter nbextension enable code_prettify/code_prettify\n",
    "\n",
    "# IMPORTANT upgrading pandas to reduce errors in custom GEE github repositories\n",
    "pip install --upgrade pandas --quiet\n",
    "\n",
    "#pip install folium --quiet\n",
    "#pip install pillow --quiet\n",
    "#pip install pygal --quiet\n",
    "#pip install geopy --quiet\n",
    "#pip install cartopy --quiet\n",
    "#pip install pyepsg --quiet\n",
    "pip install openet-ssebop --quiet\n",
    "\n",
    "# OPTIONAL making sure that GEE Python API is up and running\n",
    "earthengine du\n"
   ]
  },
  {
   "cell_type": "code",
   "execution_count": null,
   "metadata": {},
   "outputs": [],
   "source": [
    "# https://uoa-eresearch.github.io/eresearch-cookbook/recipe/2014/11/20/conda/\n",
    "# conda -V\n",
    "# conda update conda\n",
    "# conda search \"^python$\"\n",
    "# conda create -n earthengine python=3.8.2 anaconda\n",
    "# conda init bash\n",
    "# # close terminal and notebooks and reopen terminal\n",
    "# conda activate earthengine\n",
    "# then install libraries above"
   ]
  },
  {
   "cell_type": "code",
   "execution_count": 3,
   "metadata": {
    "slideshow": {
     "slide_type": "skip"
    }
   },
   "outputs": [],
   "source": [
    "# Creating environment.yml for Binder and replication in other environments\n",
    "# conda update --all\n",
    "# !conda env export --no-builds --name root > environment.yml\n",
    "# conda env create -f environment.yml -n earthengine\n",
    "\n",
    "\n",
    "# !conda env export --from-history --name root > environment.yml\n",
    "# pip freeze > requirements.txt"
   ]
  },
  {
   "cell_type": "markdown",
   "metadata": {
    "slideshow": {
     "slide_type": "slide"
    }
   },
   "source": [
    "The last command **earthengine du** shows the list of assets you have in EarthEngine. If you are new to GEE the list will be empty, so do not worry.\n",
    "\n",
    "That's it! You are ready to go on the next notebooks. \n",
    "\n",
    "HAPPY CODING!\n",
    "\n",
    "\n",
    "The \"Awesome\" USU Team"
   ]
  },
  {
   "cell_type": "code",
   "execution_count": 4,
   "metadata": {
    "slideshow": {
     "slide_type": "slide"
    }
   },
   "outputs": [
    {
     "name": "stdout",
     "output_type": "stream",
     "text": [
      "The Zen of Python, by Tim Peters\n",
      "\n",
      "Beautiful is better than ugly.\n",
      "Explicit is better than implicit.\n",
      "Simple is better than complex.\n",
      "Complex is better than complicated.\n",
      "Flat is better than nested.\n",
      "Sparse is better than dense.\n",
      "Readability counts.\n",
      "Special cases aren't special enough to break the rules.\n",
      "Although practicality beats purity.\n",
      "Errors should never pass silently.\n",
      "Unless explicitly silenced.\n",
      "In the face of ambiguity, refuse the temptation to guess.\n",
      "There should be one-- and preferably only one --obvious way to do it.\n",
      "Although that way may not be obvious at first unless you're Dutch.\n",
      "Now is better than never.\n",
      "Although never is often better than *right* now.\n",
      "If the implementation is hard to explain, it's a bad idea.\n",
      "If the implementation is easy to explain, it may be a good idea.\n",
      "Namespaces are one honking great idea -- let's do more of those!\n"
     ]
    }
   ],
   "source": [
    "import this"
   ]
  }
 ],
 "metadata": {
  "celltoolbar": "Slideshow",
  "kernelspec": {
   "display_name": "Python 3",
   "language": "python",
   "name": "python3"
  },
  "language_info": {
   "codemirror_mode": {
    "name": "ipython",
    "version": 3
   },
   "file_extension": ".py",
   "mimetype": "text/x-python",
   "name": "python",
   "nbconvert_exporter": "python",
   "pygments_lexer": "ipython3",
   "version": "3.7.8"
  },
  "latex_envs": {
   "LaTeX_envs_menu_present": true,
   "autoclose": false,
   "autocomplete": true,
   "bibliofile": "biblio.bib",
   "cite_by": "apalike",
   "current_citInitial": 1,
   "eqLabelWithNumbers": true,
   "eqNumInitial": 1,
   "hotkeys": {
    "equation": "Ctrl-E",
    "itemize": "Ctrl-I"
   },
   "labels_anchors": false,
   "latex_user_defs": false,
   "report_style_numbering": false,
   "user_envs_cfg": false
  },
  "varInspector": {
   "cols": {
    "lenName": 16,
    "lenType": 16,
    "lenVar": 40
   },
   "kernels_config": {
    "python": {
     "delete_cmd_postfix": "",
     "delete_cmd_prefix": "del ",
     "library": "var_list.py",
     "varRefreshCmd": "print(var_dic_list())"
    },
    "r": {
     "delete_cmd_postfix": ") ",
     "delete_cmd_prefix": "rm(",
     "library": "var_list.r",
     "varRefreshCmd": "cat(var_dic_list()) "
    }
   },
   "oldHeight": 123,
   "position": {
    "height": "40px",
    "left": "1278px",
    "right": "20px",
    "top": "120px",
    "width": "250px"
   },
   "types_to_exclude": [
    "module",
    "function",
    "builtin_function_or_method",
    "instance",
    "_Feature"
   ],
   "varInspector_section_display": "none",
   "window_display": true
  }
 },
 "nbformat": 4,
 "nbformat_minor": 4
}
