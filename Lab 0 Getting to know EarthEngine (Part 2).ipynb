{
 "cells": [
  {
   "cell_type": "markdown",
   "metadata": {},
   "source": [
    "## Introduction\n",
    "\n",
    "Google EarthEngine *GEE* is a remote sensing repository with steroids. So it is much more than just a storage service. \n",
    "\n",
    "GEE allows you to:\n",
    "\n",
    "1) Query, retrieve, and clip specific remote sensing and vector data for your needs (area of study). As any repository should do.\n",
    "\n",
    "2) Process/filter the remote sensing data before bringing it to your local or HydroShare storage. For example, clouded pixels can be \"filtered\" and NDVI values calculated before importing the e.g. timeseries files.\n",
    "\n",
    "3) Connect the EarthEngine datasets to live applications (e.g. an app). An example of this is the EEFlux project: https://eeflux-level1.appspot.com/\n",
    "\n",
    "We need to learn some of the GEE terminology to get it to work. This notebook will be your guide. Let's begin:"
   ]
  },
  {
   "cell_type": "markdown",
   "metadata": {},
   "source": [
    "## Visualizing Images and Images Bands:\n",
    "\n",
    "Visualizing Images using GEE requires the use of the geemap module. \n"
   ]
  },
  {
   "cell_type": "code",
   "execution_count": 4,
   "metadata": {
    "scrolled": true
   },
   "outputs": [
    {
     "data": {
      "application/vnd.jupyter.widget-view+json": {
       "model_id": "cf102ab7b85d4549b4207694441412fd",
       "version_major": 2,
       "version_minor": 0
      },
      "text/plain": [
       "Map(center=[40, -100], controls=(WidgetControl(options=['position', 'transparent_bg'], widget=HBox(children=(T…"
      ]
     },
     "execution_count": 4,
     "metadata": {},
     "output_type": "execute_result"
    }
   ],
   "source": [
    "import ee\n",
    "import geemap\n",
    "\n",
    "Map = geemap.Map(center=(40, -100), zoom=4)\n",
    "Map"
   ]
  },
  {
   "cell_type": "markdown",
   "metadata": {},
   "source": [
    "### Visualizing an image"
   ]
  },
  {
   "cell_type": "code",
   "execution_count": 5,
   "metadata": {},
   "outputs": [],
   "source": [
    "# add layer\n",
    "image = ee.Image('CGIAR/SRTM90_V4');\n",
    "Map.addLayer(image, {}, name='CGIAR/SRTM90_V4')\n",
    "\n"
   ]
  },
  {
   "cell_type": "markdown",
   "metadata": {},
   "source": [
    "Observe that a very white image appears on the map. Don't worry, you'll make it look better soon.\n",
    "\n",
    "## Digression: Images in Earth Engine\n",
    "Images in Earth Engine (see this page for more details) are made up of one or more bands. Each band in an image has its own name, pixel values, pixel resolution, and projection. As you'll soon discover, the SRTM image has one band: 'elevation'.\n",
    "\n",
    "When you add an image to a map using *Map.add_layer()*, Earth Engine needs to determine how to map the values in the image band(s) to colors on the display. If a single-band image is added to a map, by default Earth Engine displays the band in grayscale, where the minimum value is assigned to black, and the maximum value is assigned to white. If you don't specify what the minimum and maximum should be, Earth Engine will use default values. For example, the image you just added to the map is displayed as a grayscale image stretched to the full range of the data, or signed 16-bit integer [-32768, 32767]. (float bands are stretched to [0, 1] and byte bands are stretched to [0, 255] by default).\n",
    "\n",
    "You can discover the data type of the image by printing it and inspecting the image object in the Console tab. For example, run the following after the previous code:"
   ]
  },
  {
   "cell_type": "code",
   "execution_count": 4,
   "metadata": {},
   "outputs": [
    {
     "name": "stdout",
     "output_type": "stream",
     "text": [
      "SRTM image ['elevation']\n",
      "SRTM image {'elevation': {'type': 'PixelType', 'precision': 'int', 'min': -32768, 'max': 32767}}\n"
     ]
    }
   ],
   "source": [
    "print('SRTM image', image.bandNames().getInfo());\n",
    "print('SRTM image', image.bandTypes().getInfo());"
   ]
  },
  {
   "cell_type": "markdown",
   "metadata": {},
   "source": [
    "See that there is only one bands called 'elevation' band at index '0' and the 'data_type' property of the 'elevation' band is a signed int16 data type.\n",
    "\n",
    "## Customizing layer visualization\n",
    "To change the way the data are stretched, you can provide another parameter to the *image* variable. Specifically, a second parameter, *visualize()*, lets you specify the minimum and maximum values to display. To discover what values to use, see the *bandTypes().getInfo()* information above. Suppose that you determine that the data should be stretched to [0, 3000]. To display the image using this range, use:"
   ]
  },
  {
   "cell_type": "code",
   "execution_count": 6,
   "metadata": {},
   "outputs": [
    {
     "data": {
      "application/vnd.jupyter.widget-view+json": {
       "model_id": "cf102ab7b85d4549b4207694441412fd",
       "version_major": 2,
       "version_minor": 0
      },
      "text/plain": [
       "Map(bottom=1188.0, center=[23.241346102386135, -92.28415861292657], controls=(WidgetControl(options=['position…"
      ]
     },
     "execution_count": 6,
     "metadata": {},
     "output_type": "execute_result"
    }
   ],
   "source": [
    "image2=image\n",
    "\n",
    "Map.addLayer(image2, {'min':0,'max':3000}, name='CGIAR/SRTM90_V4 stretched')\n",
    "Map\n"
   ]
  },
  {
   "cell_type": "markdown",
   "metadata": {},
   "source": [
    "To display a single band using a color palette, add a palette property to the visParams object. We can use the seaborn python module to create hexadecimal palettes. To know more about paletes, see this link: https://chrisalbon.com/python/data_visualization/seaborn_color_palettes/\n"
   ]
  },
  {
   "cell_type": "code",
   "execution_count": 5,
   "metadata": {},
   "outputs": [],
   "source": [
    "# import seaborn as sns"
   ]
  },
  {
   "cell_type": "code",
   "execution_count": 7,
   "metadata": {},
   "outputs": [
    {
     "data": {
      "application/vnd.jupyter.widget-view+json": {
       "model_id": "cf102ab7b85d4549b4207694441412fd",
       "version_major": 2,
       "version_minor": 0
      },
      "text/plain": [
       "Map(bottom=1188.0, center=[23.241346102386135, -92.28415861292657], controls=(WidgetControl(options=['position…"
      ]
     },
     "execution_count": 7,
     "metadata": {},
     "output_type": "execute_result"
    }
   ],
   "source": [
    "# color ramp based on hexadecimal values:\n",
    "# check this link: https://seaborn.pydata.org/tutorial/color_palettes.html\n",
    "# pal = sns.color_palette('cubehelix', 5)\n",
    "# palette =pal.as_hex()\n",
    "\n",
    "# we can use color names!\n",
    "palette =['red','yellow', 'green', 'blue', 'purple']\n",
    "image3=image\n",
    "\n",
    "Map.addLayer(image3, {'min':0,'max':3000,'palette': palette}, name='CGIAR/SRTM90_V4 colormap')\n",
    "Map\n"
   ]
  },
  {
   "cell_type": "code",
   "execution_count": null,
   "metadata": {},
   "outputs": [],
   "source": []
  }
 ],
 "metadata": {
  "celltoolbar": "Slideshow",
  "kernelspec": {
   "display_name": "Python 3 (ipykernel)",
   "language": "python",
   "name": "python3"
  },
  "language_info": {
   "codemirror_mode": {
    "name": "ipython",
    "version": 3
   },
   "file_extension": ".py",
   "mimetype": "text/x-python",
   "name": "python",
   "nbconvert_exporter": "python",
   "pygments_lexer": "ipython3",
   "version": "3.9.7"
  },
  "latex_envs": {
   "LaTeX_envs_menu_present": true,
   "autoclose": false,
   "autocomplete": true,
   "bibliofile": "biblio.bib",
   "cite_by": "apalike",
   "current_citInitial": 1,
   "eqLabelWithNumbers": true,
   "eqNumInitial": 1,
   "hotkeys": {
    "equation": "Ctrl-E",
    "itemize": "Ctrl-I"
   },
   "labels_anchors": false,
   "latex_user_defs": false,
   "report_style_numbering": false,
   "user_envs_cfg": false
  },
  "widgets": {
   "application/vnd.jupyter.widget-state+json": {
    "state": {
     "00aa76fd3bdc440a87541ee718a89506": {
      "model_module": "ipyevents",
      "model_module_version": "2.0.2",
      "model_name": "EventModel",
      "state": {
       "_supported_key_events": [
        "keydown",
        "keyup"
       ],
       "_supported_mouse_events": [
        "click",
        "auxclick",
        "dblclick",
        "mouseenter",
        "mouseleave",
        "mousedown",
        "mouseup",
        "mousemove",
        "wheel",
        "contextmenu",
        "dragstart",
        "drag",
        "dragend",
        "dragenter",
        "dragover",
        "dragleave",
        "drop"
       ],
       "_supported_touch_events": [
        "touchstart",
        "touchend",
        "touchmove",
        "touchcancel"
       ],
       "_view_module": "@jupyter-widgets/controls",
       "source": "IPY_MODEL_5e734c4e13194355bf5f30398eba474a",
       "throttle_or_debounce": "",
       "watched_events": [
        "mouseenter",
        "mouseleave"
       ],
       "xy_coordinate_system": ""
      }
     },
     "011e2ecf66be4cef97a5da283178aa51": {
      "model_module": "jupyter-leaflet",
      "model_module_version": "^0.17",
      "model_name": "LeafletMeasureControlModel",
      "state": {
       "_model_module_version": "^0.17",
       "_view_module_version": "^0.17",
       "active_color": "orange",
       "options": [
        "active_color",
        "capture_z_index",
        "completed_color",
        "popup_options",
        "position",
        "primary_area_unit",
        "primary_length_unit",
        "secondary_area_unit",
        "secondary_length_unit"
       ],
       "position": "bottomleft",
       "primary_length_unit": "kilometers",
       "secondary_area_unit": null,
       "secondary_length_unit": null
      }
     },
     "013ed25cfc3f4087bb3594788b481c01": {
      "model_module": "@jupyter-widgets/controls",
      "model_module_version": "2.0.0",
      "model_name": "ToggleButtonStyleModel",
      "state": {
       "description_width": "",
       "font_family": null,
       "font_size": null,
       "font_style": null,
       "font_variant": null,
       "font_weight": null,
       "text_color": null,
       "text_decoration": null
      }
     },
     "02642493f6c342b0a45d6ba2670291ed": {
      "model_module": "@jupyter-widgets/controls",
      "model_module_version": "2.0.0",
      "model_name": "ToggleButtonModel",
      "state": {
       "button_style": "primary",
       "icon": "line-chart",
       "layout": "IPY_MODEL_3839963363cd46aebc7195dabb217325",
       "style": "IPY_MODEL_402bf35402984cc6af07d0c5d5289a19",
       "tooltip": "Creating and plotting transects"
      }
     },
     "03b2117b772c4fdca3e0e45fbdbe57d7": {
      "model_module": "@jupyter-widgets/base",
      "model_module_version": "2.0.0",
      "model_name": "LayoutModel",
      "state": {
       "height": "28px",
       "padding": "0px 0px 0px 4px",
       "width": "28px"
      }
     },
     "0434b8bcf8a34466849515fb56c4d884": {
      "model_module": "@jupyter-widgets/base",
      "model_module_version": "2.0.0",
      "model_name": "LayoutModel",
      "state": {}
     },
     "04915828b85948d68d3df6bad9a5c39b": {
      "model_module": "@jupyter-widgets/base",
      "model_module_version": "2.0.0",
      "model_name": "LayoutModel",
      "state": {}
     },
     "05383d636287453da2016d95670a5ad1": {
      "model_module": "@jupyter-widgets/controls",
      "model_module_version": "2.0.0",
      "model_name": "ToggleButtonStyleModel",
      "state": {
       "description_width": "",
       "font_family": null,
       "font_size": null,
       "font_style": null,
       "font_variant": null,
       "font_weight": null,
       "text_color": null,
       "text_decoration": null
      }
     },
     "0652d98dedee4d29a006c9618d93a6ee": {
      "model_module": "@jupyter-widgets/controls",
      "model_module_version": "2.0.0",
      "model_name": "ToggleButtonStyleModel",
      "state": {
       "description_width": "",
       "font_family": null,
       "font_size": null,
       "font_style": null,
       "font_variant": null,
       "font_weight": null,
       "text_color": null,
       "text_decoration": null
      }
     },
     "070c022525a1495da6b0d1b84bc29f1c": {
      "model_module": "@jupyter-widgets/base",
      "model_module_version": "2.0.0",
      "model_name": "LayoutModel",
      "state": {
       "height": "auto",
       "padding": "0px 0px 0px 4px",
       "width": "auto"
      }
     },
     "07556038e7114a3e9b6f6fab4bc64d94": {
      "model_module": "@jupyter-widgets/controls",
      "model_module_version": "2.0.0",
      "model_name": "TextStyleModel",
      "state": {
       "description_width": "",
       "font_size": null,
       "text_color": null
      }
     },
     "0760c1e9a5a348d9a23cb783d736c25c": {
      "model_module": "@jupyter-widgets/controls",
      "model_module_version": "2.0.0",
      "model_name": "ToggleButtonStyleModel",
      "state": {
       "description_width": "",
       "font_family": null,
       "font_size": null,
       "font_style": null,
       "font_variant": null,
       "font_weight": null,
       "text_color": null,
       "text_decoration": null
      }
     },
     "078e66292d424d0a82299efd255946c8": {
      "model_module": "@jupyter-widgets/controls",
      "model_module_version": "2.0.0",
      "model_name": "ToggleButtonModel",
      "state": {
       "button_style": "primary",
       "icon": "info-circle",
       "layout": "IPY_MODEL_2d366df0807b454d806e5e7ba7654f7f",
       "style": "IPY_MODEL_a1d36572f329415b9618b9aebfd4cfa2",
       "tooltip": "Get COG/STAC pixel value"
      }
     },
     "080d7560aa214ecdba04b89510759c04": {
      "model_module": "jupyter-leaflet",
      "model_module_version": "^0.17",
      "model_name": "LeafletWidgetControlModel",
      "state": {
       "_model_module": "jupyter-leaflet",
       "_model_module_version": "^0.17",
       "_view_count": null,
       "_view_module": "jupyter-leaflet",
       "_view_module_version": "^0.17",
       "options": [
        "position",
        "transparent_bg"
       ],
       "position": "topleft",
       "widget": "IPY_MODEL_546f9cb3f8fb496d8b11e952043e337c"
      }
     },
     "0930e230db40400c952b3db4e07434ef": {
      "model_module": "jupyter-leaflet",
      "model_module_version": "^0.17",
      "model_name": "LeafletZoomControlModel",
      "state": {
       "_model_module_version": "^0.17",
       "_view_module_version": "^0.17",
       "options": [
        "position",
        "zoom_in_text",
        "zoom_in_title",
        "zoom_out_text",
        "zoom_out_title"
       ]
      }
     },
     "0942beedfc24477fa837d04a522f8937": {
      "model_module": "@jupyter-widgets/controls",
      "model_module_version": "2.0.0",
      "model_name": "GridBoxModel",
      "state": {
       "children": [
        "IPY_MODEL_fd437ff698e347c3a8d0b5b376bbb011",
        "IPY_MODEL_dd97caadac39425a8eb07d9b9a20e150",
        "IPY_MODEL_2159433267d14edda78ea60a565f54cf",
        "IPY_MODEL_97bf79324b694f8ca7995075ea02d003",
        "IPY_MODEL_ce8961e78280440f88a2a6ed8561f106",
        "IPY_MODEL_a07ae5dde2d74d4999fb05430a0232dc"
       ],
       "layout": "IPY_MODEL_170526a8466840e8828e3a5837f2d9e2"
      }
     },
     "0a21eb4c166843dba07246eeba0e54a6": {
      "model_module": "@jupyter-widgets/controls",
      "model_module_version": "2.0.0",
      "model_name": "DescriptionStyleModel",
      "state": {
       "description_width": ""
      }
     },
     "0b0aea293eaa48708668611c9e55b8eb": {
      "model_module": "@jupyter-widgets/controls",
      "model_module_version": "2.0.0",
      "model_name": "HBoxModel",
      "state": {
       "children": [
        "IPY_MODEL_d682b0efd65b410f9f3abe340e47eecb",
        "IPY_MODEL_d6b9762d70a340c587351a663ed60257"
       ],
       "layout": "IPY_MODEL_0434b8bcf8a34466849515fb56c4d884"
      }
     },
     "0b9aee839ca04a2299972487e9262132": {
      "model_module": "jupyter-leaflet",
      "model_module_version": "^0.17",
      "model_name": "LeafletTileLayerModel",
      "state": {
       "_model_module_version": "^0.17",
       "_view_module_version": "^0.17",
       "attribution": "Google",
       "max_zoom": 24,
       "name": "Google Maps",
       "options": [
        "attribution",
        "bounds",
        "detect_retina",
        "max_native_zoom",
        "max_zoom",
        "min_native_zoom",
        "min_zoom",
        "no_wrap",
        "tile_size",
        "tms",
        "zoom_offset"
       ],
       "url": "https://mt1.google.com/vt/lyrs=m&x={x}&y={y}&z={z}"
      }
     },
     "0bc8d22de14c48f687aab6eb99d19088": {
      "model_module": "@jupyter-widgets/controls",
      "model_module_version": "2.0.0",
      "model_name": "DropdownModel",
      "state": {
       "index": null,
       "layout": "IPY_MODEL_700c69b2e2c14c09a6485563601142ec",
       "style": "IPY_MODEL_ad19b69cef4f40bfb5821406531baac0"
      }
     },
     "0be0977a1ce749d3a73ecd41d5736007": {
      "model_module": "@jupyter-widgets/controls",
      "model_module_version": "2.0.0",
      "model_name": "ToggleButtonStyleModel",
      "state": {
       "description_width": "",
       "font_family": null,
       "font_size": null,
       "font_style": null,
       "font_variant": null,
       "font_weight": null,
       "text_color": null,
       "text_decoration": null
      }
     },
     "0c4fa8af43ff461e8120b072fa162620": {
      "model_module": "@jupyter-widgets/base",
      "model_module_version": "2.0.0",
      "model_name": "LayoutModel",
      "state": {}
     },
     "0d2616b2733c4c619322f3faa12cbf67": {
      "model_module": "@jupyter-widgets/base",
      "model_module_version": "2.0.0",
      "model_name": "LayoutModel",
      "state": {}
     },
     "0dfc82cb41a14447875f0f684835d371": {
      "model_module": "@jupyter-widgets/controls",
      "model_module_version": "2.0.0",
      "model_name": "ToggleButtonModel",
      "state": {
       "icon": "server",
       "layout": "IPY_MODEL_d5894bc748854ac38ed7b3bcf0166383",
       "style": "IPY_MODEL_3e1ba589d3be40158b8420d9920b786f",
       "tooltip": "Layers"
      }
     },
     "0e517a2b83d14318ab2791dea17b5b41": {
      "model_module": "jupyter-leaflet",
      "model_module_version": "^0.17",
      "model_name": "LeafletWidgetControlModel",
      "state": {
       "_model_module": "jupyter-leaflet",
       "_model_module_version": "^0.17",
       "_view_count": null,
       "_view_module": "jupyter-leaflet",
       "_view_module_version": "^0.17",
       "options": [
        "position",
        "transparent_bg"
       ],
       "position": "topleft",
       "widget": "IPY_MODEL_f495277d36fc4368b66c623b9262f187"
      }
     },
     "0ed2ca3958c8435c8aa0bd855f1a9cef": {
      "model_module": "@jupyter-widgets/controls",
      "model_module_version": "2.0.0",
      "model_name": "ToggleButtonStyleModel",
      "state": {
       "description_width": "",
       "font_family": null,
       "font_size": null,
       "font_style": null,
       "font_variant": null,
       "font_weight": null,
       "text_color": null,
       "text_decoration": null
      }
     },
     "0ed32720ef9f447cad6fee9eb2274b7a": {
      "model_module": "@jupyter-widgets/base",
      "model_module_version": "2.0.0",
      "model_name": "LayoutModel",
      "state": {
       "height": "auto",
       "padding": "0px 0px 0px 4px",
       "width": "auto"
      }
     },
     "0f69485e53a04e6481af9372a8388761": {
      "model_module": "@jupyter-widgets/controls",
      "model_module_version": "2.0.0",
      "model_name": "ToggleButtonStyleModel",
      "state": {
       "description_width": "",
       "font_family": null,
       "font_size": null,
       "font_style": null,
       "font_variant": null,
       "font_weight": null,
       "text_color": null,
       "text_decoration": null
      }
     },
     "10ff08af65b14cde8956be3470a41cc5": {
      "model_module": "@jupyter-widgets/controls",
      "model_module_version": "2.0.0",
      "model_name": "ToggleButtonStyleModel",
      "state": {
       "description_width": "",
       "font_family": null,
       "font_size": null,
       "font_style": null,
       "font_variant": null,
       "font_weight": null,
       "text_color": null,
       "text_decoration": null
      }
     },
     "1225942fe6cd4feab4ae65b7fd04aa7d": {
      "model_module": "@jupyter-widgets/controls",
      "model_module_version": "2.0.0",
      "model_name": "ToggleButtonModel",
      "state": {
       "button_style": "primary",
       "icon": "info-circle",
       "layout": "IPY_MODEL_1f387c69826b4c3aad21a2b0adef9e18",
       "style": "IPY_MODEL_013ed25cfc3f4087bb3594788b481c01",
       "tooltip": "Get COG/STAC pixel value"
      }
     },
     "13302cc146e142fabaf65d09a5778032": {
      "model_module": "@jupyter-widgets/base",
      "model_module_version": "2.0.0",
      "model_name": "LayoutModel",
      "state": {}
     },
     "13334e0301b64782af68b93d0f3e51ad": {
      "model_module": "@jupyter-widgets/base",
      "model_module_version": "2.0.0",
      "model_name": "LayoutModel",
      "state": {}
     },
     "1338a24df128403096a5cf53566ebe5a": {
      "model_module": "@jupyter-widgets/base",
      "model_module_version": "2.0.0",
      "model_name": "LayoutModel",
      "state": {
       "height": "28px",
       "padding": "0px 0px 0px 4px",
       "width": "28px"
      }
     },
     "135a2cc43eb34943b4f226f94501280e": {
      "model_module": "@jupyter-widgets/controls",
      "model_module_version": "2.0.0",
      "model_name": "ToggleButtonStyleModel",
      "state": {
       "description_width": "",
       "font_family": null,
       "font_size": null,
       "font_style": null,
       "font_variant": null,
       "font_weight": null,
       "text_color": null,
       "text_decoration": null
      }
     },
     "14e327c9ef9f41c5b3078894f7de912d": {
      "model_module": "jupyter-leaflet",
      "model_module_version": "^0.17",
      "model_name": "LeafletWidgetControlModel",
      "state": {
       "_model_module": "jupyter-leaflet",
       "_model_module_version": "^0.17",
       "_view_count": null,
       "_view_module": "jupyter-leaflet",
       "_view_module_version": "^0.17",
       "options": [
        "position",
        "transparent_bg"
       ],
       "position": "topright",
       "widget": "IPY_MODEL_a7176da54f124703ae2e0f4b17d00125"
      }
     },
     "151ce11980f348ed99a4f425e867df66": {
      "model_module": "@jupyter-widgets/base",
      "model_module_version": "2.0.0",
      "model_name": "LayoutModel",
      "state": {
       "height": "auto",
       "padding": "0px 0px 0px 4px",
       "width": "auto"
      }
     },
     "159e181db0b64250806b2571e96cdff4": {
      "model_module": "jupyter-leaflet",
      "model_module_version": "^0.17",
      "model_name": "LeafletAttributionControlModel",
      "state": {
       "_model_module_version": "^0.17",
       "_view_module_version": "^0.17",
       "options": [
        "position",
        "prefix"
       ],
       "position": "bottomright",
       "prefix": "ipyleaflet"
      }
     },
     "16f13975408e479d9cbe9ac3c7b5f93e": {
      "model_module": "@jupyter-widgets/base",
      "model_module_version": "2.0.0",
      "model_name": "LayoutModel",
      "state": {
       "height": "auto",
       "padding": "0px 0px 0px 4px",
       "width": "auto"
      }
     },
     "170526a8466840e8828e3a5837f2d9e2": {
      "model_module": "@jupyter-widgets/base",
      "model_module_version": "2.0.0",
      "model_name": "LayoutModel",
      "state": {
       "grid_gap": "1px 1px",
       "grid_template_columns": "32px 32px 32px ",
       "grid_template_rows": "32px 32px ",
       "padding": "5px",
       "width": "109px"
      }
     },
     "1763a0f442724bdca0d0b5b538eea634": {
      "model_module": "@jupyter-widgets/base",
      "model_module_version": "2.0.0",
      "model_name": "LayoutModel",
      "state": {
       "width": "340px"
      }
     },
     "17c3f70789f54c84b7967936bc449cdf": {
      "model_module": "@jupyter-widgets/controls",
      "model_module_version": "2.0.0",
      "model_name": "ToggleButtonStyleModel",
      "state": {
       "description_width": "",
       "font_family": null,
       "font_size": null,
       "font_style": null,
       "font_variant": null,
       "font_weight": null,
       "text_color": null,
       "text_decoration": null
      }
     },
     "187d89bb64e94238a21bdf3bc19c1980": {
      "model_module": "@jupyter-widgets/output",
      "model_module_version": "1.0.0",
      "model_name": "OutputModel",
      "state": {
       "layout": "IPY_MODEL_4285a07b69ee49e18ed619cfca9eadda"
      }
     },
     "1892484e6b14490088ae4aa675acaa8d": {
      "model_module": "jupyter-leaflet",
      "model_module_version": "^0.17",
      "model_name": "LeafletMapStyleModel",
      "state": {
       "_model_module_version": "^0.17"
      }
     },
     "18eec8b181874fabb1ced376d0f5c080": {
      "model_module": "@jupyter-widgets/controls",
      "model_module_version": "2.0.0",
      "model_name": "ToggleButtonModel",
      "state": {
       "icon": "server",
       "layout": "IPY_MODEL_5af1bf62afaf4468929a5af044dfdc5a",
       "style": "IPY_MODEL_46335136665d4c2a8dab5a37b4f83171",
       "tooltip": "Layers"
      }
     },
     "18fb7b25320c4b72a07ec8644489c68e": {
      "model_module": "jupyter-leaflet",
      "model_module_version": "^0.17",
      "model_name": "LeafletTileLayerModel",
      "state": {
       "_model_module_version": "^0.17",
       "_view_module_version": "^0.17",
       "attribution": "Google",
       "max_zoom": 24,
       "name": "Google Maps",
       "options": [
        "attribution",
        "bounds",
        "detect_retina",
        "max_native_zoom",
        "max_zoom",
        "min_native_zoom",
        "min_zoom",
        "no_wrap",
        "tile_size",
        "tms",
        "zoom_offset"
       ],
       "url": "https://mt1.google.com/vt/lyrs=m&x={x}&y={y}&z={z}"
      }
     },
     "195c7766df804d1a8a0490ae700080e6": {
      "model_module": "@jupyter-widgets/controls",
      "model_module_version": "2.0.0",
      "model_name": "RadioButtonsModel",
      "state": {
       "index": null,
       "layout": "IPY_MODEL_8227f42ecf284b8a93f9de459ace3825",
       "style": "IPY_MODEL_6304f06c3f884dcb91afb213bc109646"
      }
     },
     "1bae1d7693c244b098931e77bab99459": {
      "model_module": "@jupyter-widgets/controls",
      "model_module_version": "2.0.0",
      "model_name": "TextModel",
      "state": {
       "layout": "IPY_MODEL_ada721f86bd34b2ab81a429eec6ea757",
       "placeholder": "Search by place name or address",
       "style": "IPY_MODEL_e018e8f4309a4b5c883956b1ddaa8c22",
       "tooltip": "Search location"
      }
     },
     "1bb64dfaae0c4e0e8313ff6e7e09c1f3": {
      "model_module": "@jupyter-widgets/controls",
      "model_module_version": "2.0.0",
      "model_name": "ToggleButtonModel",
      "state": {
       "button_style": "primary",
       "icon": "plus",
       "layout": "IPY_MODEL_9e506718cde748ee97b2f35d2395e4c4",
       "style": "IPY_MODEL_0ed2ca3958c8435c8aa0bd855f1a9cef",
       "tooltip": "Expand toolbar"
      }
     },
     "1beaa64db41f475ba045d3c56f5a5981": {
      "model_module": "@jupyter-widgets/controls",
      "model_module_version": "2.0.0",
      "model_name": "HBoxModel",
      "state": {
       "children": [
        "IPY_MODEL_0dfc82cb41a14447875f0f684835d371",
        "IPY_MODEL_e4d65a6439d94e119b1fd968c5c96bc7"
       ],
       "layout": "IPY_MODEL_324bc3ac5f7c459f976e49cd025ae47e"
      }
     },
     "1c07ad8377c5408d844c06d0e767ba7d": {
      "model_module": "@jupyter-widgets/controls",
      "model_module_version": "2.0.0",
      "model_name": "ToggleButtonStyleModel",
      "state": {
       "description_width": "",
       "font_family": null,
       "font_size": null,
       "font_style": null,
       "font_variant": null,
       "font_weight": null,
       "text_color": null,
       "text_decoration": null
      }
     },
     "1c22960d571d46479cc485e658386b57": {
      "model_module": "@jupyter-widgets/controls",
      "model_module_version": "2.0.0",
      "model_name": "VBoxModel",
      "state": {
       "children": [
        "IPY_MODEL_30814915c5e2496d92a4d0e7b2b89a34"
       ],
       "layout": "IPY_MODEL_13302cc146e142fabaf65d09a5778032"
      }
     },
     "1ca62e297e5b4db3900fa4b23cf7520e": {
      "model_module": "@jupyter-widgets/controls",
      "model_module_version": "2.0.0",
      "model_name": "ToggleButtonStyleModel",
      "state": {
       "description_width": "",
       "font_family": null,
       "font_size": null,
       "font_style": null,
       "font_variant": null,
       "font_weight": null,
       "text_color": null,
       "text_decoration": null
      }
     },
     "1f387c69826b4c3aad21a2b0adef9e18": {
      "model_module": "@jupyter-widgets/base",
      "model_module_version": "2.0.0",
      "model_name": "LayoutModel",
      "state": {
       "height": "auto",
       "padding": "0px 0px 0px 4px",
       "width": "auto"
      }
     },
     "1f39330164f2412da9c785f553eefc1a": {
      "model_module": "@jupyter-widgets/base",
      "model_module_version": "2.0.0",
      "model_name": "LayoutModel",
      "state": {}
     },
     "1f65b0d0112f42449e1541df4fef76cd": {
      "model_module": "@jupyter-widgets/controls",
      "model_module_version": "2.0.0",
      "model_name": "ToggleButtonStyleModel",
      "state": {
       "description_width": "",
       "font_family": null,
       "font_size": null,
       "font_style": null,
       "font_variant": null,
       "font_weight": null,
       "text_color": null,
       "text_decoration": null
      }
     },
     "209c63ececb6483fae6558bcd8430b73": {
      "model_module": "@jupyter-widgets/controls",
      "model_module_version": "2.0.0",
      "model_name": "ToggleButtonModel",
      "state": {
       "icon": "globe",
       "layout": "IPY_MODEL_03b2117b772c4fdca3e0e45fbdbe57d7",
       "style": "IPY_MODEL_c8e1a3517401400596df1ffa0559a65e",
       "tooltip": "Search location/data"
      }
     },
     "2118e2f10dbf47ca824939461e48ca46": {
      "model_module": "@jupyter-widgets/base",
      "model_module_version": "2.0.0",
      "model_name": "LayoutModel",
      "state": {
       "height": "28px",
       "padding": "0px 0px 0px 4px",
       "width": "28px"
      }
     },
     "2120380524d644ffabfebdac6b1a73b1": {
      "model_module": "@jupyter-widgets/controls",
      "model_module_version": "2.0.0",
      "model_name": "ToggleButtonModel",
      "state": {
       "button_style": "primary",
       "icon": "fast-forward",
       "layout": "IPY_MODEL_911ca121bedf4e64ae46c8b7733e90c6",
       "style": "IPY_MODEL_45b9ab2f0d0b489bb2c13f9ae23a3487",
       "tooltip": "Activate timeslider"
      }
     },
     "213d0262103842ac9002e82b85bea223": {
      "model_module": "jupyter-leaflet",
      "model_module_version": "^0.17",
      "model_name": "LeafletWidgetControlModel",
      "state": {
       "_model_module": "jupyter-leaflet",
       "_model_module_version": "^0.17",
       "_view_count": null,
       "_view_module": "jupyter-leaflet",
       "_view_module_version": "^0.17",
       "options": [
        "position",
        "transparent_bg"
       ],
       "position": "topright",
       "widget": "IPY_MODEL_5f79ed43ce49457e9771d8b54624402b"
      }
     },
     "214389bf24ab4caba7eee4d06ed0093c": {
      "model_module": "@jupyter-widgets/base",
      "model_module_version": "2.0.0",
      "model_name": "LayoutModel",
      "state": {
       "height": "auto",
       "padding": "0px 0px 0px 4px",
       "width": "auto"
      }
     },
     "2159433267d14edda78ea60a565f54cf": {
      "model_module": "@jupyter-widgets/controls",
      "model_module_version": "2.0.0",
      "model_name": "ToggleButtonModel",
      "state": {
       "button_style": "primary",
       "icon": "globe",
       "layout": "IPY_MODEL_45f1e935ff97486ca5fd8cca1bad015e",
       "style": "IPY_MODEL_536aed7669994a4d9fa34124de3b2ac3",
       "tooltip": "Create timelapse"
      }
     },
     "219ac494085f4099950277e29a683856": {
      "model_module": "@jupyter-widgets/controls",
      "model_module_version": "2.0.0",
      "model_name": "ButtonModel",
      "state": {
       "button_style": "primary",
       "description": "import",
       "layout": "IPY_MODEL_b53a460b3ab34312a4ca131894315c18",
       "style": "IPY_MODEL_9e1ea5b36aac49ce8923a3a41374d487",
       "tooltip": "Click to import the selected asset"
      }
     },
     "223144cc5f0d49ac919132a3fa33ebd9": {
      "model_module": "@jupyter-widgets/base",
      "model_module_version": "2.0.0",
      "model_name": "LayoutModel",
      "state": {
       "grid_gap": "1px 1px",
       "grid_template_columns": "32px 32px 32px ",
       "grid_template_rows": "32px 32px ",
       "padding": "5px",
       "width": "109px"
      }
     },
     "22e85bb7e0694cf7a65b8484c9ef873c": {
      "model_module": "@jupyter-widgets/controls",
      "model_module_version": "2.0.0",
      "model_name": "ToggleButtonStyleModel",
      "state": {
       "description_width": "",
       "font_family": null,
       "font_size": null,
       "font_style": null,
       "font_variant": null,
       "font_weight": null,
       "text_color": null,
       "text_decoration": null
      }
     },
     "24cacf0f657242fcad04ac48ed6d8b3c": {
      "model_module": "ipyevents",
      "model_module_version": "2.0.2",
      "model_name": "EventModel",
      "state": {
       "_supported_key_events": [
        "keydown",
        "keyup"
       ],
       "_supported_mouse_events": [
        "click",
        "auxclick",
        "dblclick",
        "mouseenter",
        "mouseleave",
        "mousedown",
        "mouseup",
        "mousemove",
        "wheel",
        "contextmenu",
        "dragstart",
        "drag",
        "dragend",
        "dragenter",
        "dragover",
        "dragleave",
        "drop"
       ],
       "_supported_touch_events": [
        "touchstart",
        "touchend",
        "touchmove",
        "touchcancel"
       ],
       "_view_module": "@jupyter-widgets/controls",
       "source": "IPY_MODEL_a7176da54f124703ae2e0f4b17d00125",
       "throttle_or_debounce": "",
       "watched_events": [
        "mouseenter",
        "mouseleave"
       ],
       "xy_coordinate_system": ""
      }
     },
     "24eee1e67e7248419995e76dca0567af": {
      "model_module": "@jupyter-widgets/controls",
      "model_module_version": "2.0.0",
      "model_name": "ToggleButtonStyleModel",
      "state": {
       "description_width": "",
       "font_family": null,
       "font_size": null,
       "font_style": null,
       "font_variant": null,
       "font_weight": null,
       "text_color": null,
       "text_decoration": null
      }
     },
     "24f1554c9a0e4d20a1e421e6fd7a0247": {
      "model_module": "@jupyter-widgets/base",
      "model_module_version": "2.0.0",
      "model_name": "LayoutModel",
      "state": {
       "height": "auto",
       "padding": "0px 0px 0px 4px",
       "width": "auto"
      }
     },
     "25060cd6bbd145b4a8d118c65ff5f074": {
      "model_module": "jupyter-leaflet",
      "model_module_version": "^0.17",
      "model_name": "LeafletMapStyleModel",
      "state": {
       "_model_module_version": "^0.17"
      }
     },
     "2506437aa33a4da1b1ff771412f51521": {
      "model_module": "@jupyter-widgets/controls",
      "model_module_version": "2.0.0",
      "model_name": "ToggleButtonStyleModel",
      "state": {
       "description_width": "",
       "font_family": null,
       "font_size": null,
       "font_style": null,
       "font_variant": null,
       "font_weight": null,
       "text_color": null,
       "text_decoration": null
      }
     },
     "2563f619c35a4dc6ade38dca9befb269": {
      "model_module": "@jupyter-widgets/base",
      "model_module_version": "2.0.0",
      "model_name": "LayoutModel",
      "state": {
       "height": "auto",
       "padding": "0px 0px 0px 4px",
       "width": "auto"
      }
     },
     "267454ad0a64458995099a4d8ed7be94": {
      "model_module": "@jupyter-widgets/controls",
      "model_module_version": "2.0.0",
      "model_name": "ToggleButtonModel",
      "state": {
       "icon": "globe",
       "layout": "IPY_MODEL_2118e2f10dbf47ca824939461e48ca46",
       "style": "IPY_MODEL_17c3f70789f54c84b7967936bc449cdf",
       "tooltip": "Search location/data"
      }
     },
     "27c61ce130534b70b1f2345701b70086": {
      "model_module": "@jupyter-widgets/controls",
      "model_module_version": "2.0.0",
      "model_name": "ToggleButtonStyleModel",
      "state": {
       "description_width": "",
       "font_family": null,
       "font_size": null,
       "font_style": null,
       "font_variant": null,
       "font_weight": null,
       "text_color": null,
       "text_decoration": null
      }
     },
     "285fbc27649b46ec82dac50fe50058a3": {
      "model_module": "jupyter-leaflet",
      "model_module_version": "^0.17",
      "model_name": "LeafletScaleControlModel",
      "state": {
       "_model_module_version": "^0.17",
       "_view_module_version": "^0.17",
       "imperial": true,
       "max_width": 100,
       "metric": true,
       "options": [
        "imperial",
        "max_width",
        "metric",
        "position",
        "update_when_idle"
       ],
       "position": "bottomleft",
       "update_when_idle": false
      }
     },
     "2911e88002fb4288abf2751352997b26": {
      "model_module": "@jupyter-widgets/base",
      "model_module_version": "2.0.0",
      "model_name": "LayoutModel",
      "state": {}
     },
     "2b6774d5c5414eee95b2b683ef2cf819": {
      "model_module": "@jupyter-widgets/base",
      "model_module_version": "2.0.0",
      "model_name": "LayoutModel",
      "state": {
       "height": "auto",
       "padding": "0px 0px 0px 4px",
       "width": "auto"
      }
     },
     "2bbd38d07d874794be007434a3512b30": {
      "model_module": "@jupyter-widgets/controls",
      "model_module_version": "2.0.0",
      "model_name": "ToggleButtonModel",
      "state": {
       "button_style": "primary",
       "icon": "bar-chart",
       "layout": "IPY_MODEL_e2e6d26226014a7b9fc975c61b924a80",
       "style": "IPY_MODEL_66f30eda54b94f3aaac555ada64bd2af",
       "tooltip": "Plotting"
      }
     },
     "2be08e496118454cbb78821a05ac691d": {
      "model_module": "@jupyter-widgets/base",
      "model_module_version": "2.0.0",
      "model_name": "LayoutModel",
      "state": {}
     },
     "2d366df0807b454d806e5e7ba7654f7f": {
      "model_module": "@jupyter-widgets/base",
      "model_module_version": "2.0.0",
      "model_name": "LayoutModel",
      "state": {
       "height": "auto",
       "padding": "0px 0px 0px 4px",
       "width": "auto"
      }
     },
     "2d84f96fb1d54fa4b3057e7eab19ef76": {
      "model_module": "jupyter-leaflet",
      "model_module_version": "^0.17",
      "model_name": "LeafletFullScreenControlModel",
      "state": {
       "_model_module_version": "^0.17",
       "_view_module_version": "^0.17",
       "options": [
        "position"
       ]
      }
     },
     "2d9a4ed4c4894ae18a171ae408e6b7de": {
      "model_module": "jupyter-leaflet",
      "model_module_version": "^0.17",
      "model_name": "LeafletTileLayerModel",
      "state": {
       "_model_module_version": "^0.17",
       "_view_module_version": "^0.17",
       "attribution": "Google Earth Engine",
       "max_zoom": 24,
       "name": "CGIAR/SRTM90_V4 stretched",
       "options": [
        "attribution",
        "bounds",
        "detect_retina",
        "max_native_zoom",
        "max_zoom",
        "min_native_zoom",
        "min_zoom",
        "no_wrap",
        "tile_size",
        "tms",
        "zoom_offset"
       ],
       "url": "https://earthengine.googleapis.com/v1/projects/earthengine-legacy/maps/ca9cfc7f0baf709c74c34427c312c627-1bf8aa6d24a37fb3b840e9cc21a4eee5/tiles/{z}/{x}/{y}"
      }
     },
     "2ddf33edd5f6441ca2eb07d003df0c31": {
      "model_module": "@jupyter-widgets/base",
      "model_module_version": "2.0.0",
      "model_name": "LayoutModel",
      "state": {
       "height": "auto",
       "padding": "0px 0px 0px 4px",
       "width": "auto"
      }
     },
     "2e2914a44dc043d691e20bde37d1ef14": {
      "model_module": "@jupyter-widgets/controls",
      "model_module_version": "2.0.0",
      "model_name": "HTMLModel",
      "state": {
       "layout": "IPY_MODEL_b1ac196602bd4bb6a79a666389d6ea88",
       "style": "IPY_MODEL_ded9f60be26c4910a40d296ac23c54a7"
      }
     },
     "2edc588152eb48a9be6d1e6b31b3d9b7": {
      "model_module": "@jupyter-widgets/base",
      "model_module_version": "2.0.0",
      "model_name": "LayoutModel",
      "state": {}
     },
     "2ee03daf13f74e199ffb6e94fb128cb8": {
      "model_module": "@jupyter-widgets/controls",
      "model_module_version": "2.0.0",
      "model_name": "ToggleButtonModel",
      "state": {
       "button_style": "primary",
       "icon": "folder-open",
       "layout": "IPY_MODEL_57bf0e10c0254e19ac57cd86f5a4f400",
       "style": "IPY_MODEL_fcb79a059a5348338b1a7eb6b037873c",
       "tooltip": "Open local vector/raster data"
      }
     },
     "2f35f11ea03e41219eb525043fa7d4dd": {
      "model_module": "@jupyter-widgets/base",
      "model_module_version": "2.0.0",
      "model_name": "LayoutModel",
      "state": {
       "height": "600px"
      }
     },
     "2f8d1155023946adb0890419c1d9aa46": {
      "model_module": "jupyter-leaflet",
      "model_module_version": "^0.17",
      "model_name": "LeafletFullScreenControlModel",
      "state": {
       "_model_module_version": "^0.17",
       "_view_module_version": "^0.17",
       "options": [
        "position"
       ]
      }
     },
     "30814915c5e2496d92a4d0e7b2b89a34": {
      "model_module": "@jupyter-widgets/controls",
      "model_module_version": "2.0.0",
      "model_name": "GridBoxModel",
      "state": {
       "children": [
        "IPY_MODEL_debdfe6107c649b3a5f9a9516cfa8527",
        "IPY_MODEL_6eb65e24356a449bb852c5db072d537d",
        "IPY_MODEL_c5c2b70d2e2a4ffcb38e74e8e927987b",
        "IPY_MODEL_889dd343654e4713b44525a542cc500b",
        "IPY_MODEL_6b37adf60c0c4ed797db8579e31be443",
        "IPY_MODEL_861574e995c84675b161fc34a591d1d3"
       ],
       "layout": "IPY_MODEL_8ce44b8eb4d04edab4cd655368df017a"
      }
     },
     "3097c850f2684a2f813aef83c4431af2": {
      "model_module": "@jupyter-widgets/controls",
      "model_module_version": "2.0.0",
      "model_name": "ToggleButtonStyleModel",
      "state": {
       "description_width": "",
       "font_family": null,
       "font_size": null,
       "font_style": null,
       "font_variant": null,
       "font_weight": null,
       "text_color": null,
       "text_decoration": null
      }
     },
     "309b6db3930245e1a16fae107baa8c43": {
      "model_module": "@jupyter-widgets/base",
      "model_module_version": "2.0.0",
      "model_name": "LayoutModel",
      "state": {}
     },
     "30e51ea678b04caf9af9e345dc501793": {
      "model_module": "@jupyter-widgets/base",
      "model_module_version": "2.0.0",
      "model_name": "LayoutModel",
      "state": {
       "height": "auto",
       "padding": "0px 0px 0px 4px",
       "width": "auto"
      }
     },
     "31405293855049b085791caf6bce2240": {
      "model_module": "@jupyter-widgets/controls",
      "model_module_version": "2.0.0",
      "model_name": "ToggleButtonStyleModel",
      "state": {
       "description_width": "",
       "font_family": null,
       "font_size": null,
       "font_style": null,
       "font_variant": null,
       "font_weight": null,
       "text_color": null,
       "text_decoration": null
      }
     },
     "324bc3ac5f7c459f976e49cd025ae47e": {
      "model_module": "@jupyter-widgets/base",
      "model_module_version": "2.0.0",
      "model_name": "LayoutModel",
      "state": {}
     },
     "32550a0fed094574a8ed38aca49618e5": {
      "model_module": "jupyter-leaflet",
      "model_module_version": "^0.17",
      "model_name": "LeafletZoomControlModel",
      "state": {
       "_model_module_version": "^0.17",
       "_view_module_version": "^0.17",
       "options": [
        "position",
        "zoom_in_text",
        "zoom_in_title",
        "zoom_out_text",
        "zoom_out_title"
       ]
      }
     },
     "3311a35743e54bfc9453f2e149d52f89": {
      "model_module": "jupyter-leaflet",
      "model_module_version": "^0.17",
      "model_name": "LeafletZoomControlModel",
      "state": {
       "_model_module_version": "^0.17",
       "_view_module_version": "^0.17",
       "options": [
        "position",
        "zoom_in_text",
        "zoom_in_title",
        "zoom_out_text",
        "zoom_out_title"
       ]
      }
     },
     "334216d011774735ae17706343cd5203": {
      "model_module": "ipyevents",
      "model_module_version": "2.0.2",
      "model_name": "EventModel",
      "state": {
       "_supported_key_events": [
        "keydown",
        "keyup"
       ],
       "_supported_mouse_events": [
        "click",
        "auxclick",
        "dblclick",
        "mouseenter",
        "mouseleave",
        "mousedown",
        "mouseup",
        "mousemove",
        "wheel",
        "contextmenu",
        "dragstart",
        "drag",
        "dragend",
        "dragenter",
        "dragover",
        "dragleave",
        "drop"
       ],
       "_supported_touch_events": [
        "touchstart",
        "touchend",
        "touchmove",
        "touchcancel"
       ],
       "_view_module": "@jupyter-widgets/controls",
       "source": "IPY_MODEL_8ca5d349975746cdb9a10945eb186a45",
       "throttle_or_debounce": "",
       "watched_events": [
        "mouseenter",
        "mouseleave"
       ],
       "xy_coordinate_system": ""
      }
     },
     "3621c4fecb0a48d6b81e28ae93826ecd": {
      "model_module": "jupyter-leaflet",
      "model_module_version": "^0.17",
      "model_name": "LeafletTileLayerModel",
      "state": {
       "_model_module_version": "^0.17",
       "_view_module_version": "^0.17",
       "attribution": "&copy; <a href=\"https://www.openstreetmap.org/copyright\">OpenStreetMap</a> contributors",
       "base": true,
       "max_zoom": 19,
       "min_zoom": 1,
       "name": "OpenStreetMap.Mapnik",
       "options": [
        "attribution",
        "bounds",
        "detect_retina",
        "max_native_zoom",
        "max_zoom",
        "min_native_zoom",
        "min_zoom",
        "no_wrap",
        "tile_size",
        "tms",
        "zoom_offset"
       ],
       "url": "https://tile.openstreetmap.org/{z}/{x}/{y}.png"
      }
     },
     "369ac2582a4e411089187cd431a8f272": {
      "model_module": "@jupyter-widgets/controls",
      "model_module_version": "2.0.0",
      "model_name": "ToggleButtonStyleModel",
      "state": {
       "description_width": "",
       "font_family": null,
       "font_size": null,
       "font_style": null,
       "font_variant": null,
       "font_weight": null,
       "text_color": null,
       "text_decoration": null
      }
     },
     "373e8eb2f34c4217b29d507d3a1dd531": {
      "model_module": "@jupyter-widgets/controls",
      "model_module_version": "2.0.0",
      "model_name": "ToggleButtonModel",
      "state": {
       "button_style": "primary",
       "icon": "random",
       "layout": "IPY_MODEL_93a051c227ac4e5881cc57205de240da",
       "style": "IPY_MODEL_56fccd1bb2c3472a8dceca50c194b9be",
       "tooltip": "Sankey plots"
      }
     },
     "37b634004d4b4e908dddccb9c5a32409": {
      "model_module": "@jupyter-widgets/controls",
      "model_module_version": "2.0.0",
      "model_name": "ToggleButtonModel",
      "state": {
       "button_style": "primary",
       "icon": "retweet",
       "layout": "IPY_MODEL_612d4e3aff4c417c874860eb85ab6bc9",
       "style": "IPY_MODEL_af39a51ee9a14e78b3582ab8031b0984",
       "tooltip": "Convert Earth Engine JavaScript to Python"
      }
     },
     "37ddd55fc54b4eeca301dd8935dab826": {
      "model_module": "@jupyter-widgets/base",
      "model_module_version": "2.0.0",
      "model_name": "LayoutModel",
      "state": {
       "height": "auto",
       "padding": "0px 0px 0px 4px",
       "width": "auto"
      }
     },
     "3839963363cd46aebc7195dabb217325": {
      "model_module": "@jupyter-widgets/base",
      "model_module_version": "2.0.0",
      "model_name": "LayoutModel",
      "state": {
       "height": "auto",
       "padding": "0px 0px 0px 4px",
       "width": "auto"
      }
     },
     "395b5a31bd6b4ce4b7fb998c00d58f71": {
      "model_module": "jupyter-leaflet",
      "model_module_version": "^0.17",
      "model_name": "LeafletDrawControlModel",
      "state": {
       "_model_module_version": "^0.17",
       "_view_module_version": "^0.17",
       "marker": {
        "shapeOptions": {
         "color": "#3388ff"
        }
       },
       "options": [
        "position"
       ],
       "polygon": {
        "shapeOptions": {
         "clickable": true,
         "color": "#3388ff",
         "fill": true,
         "fillColor": null,
         "fillOpacity": 0.2,
         "opacity": 0.5,
         "stroke": true,
         "weight": 4
        }
       },
       "polyline": {
        "shapeOptions": {
         "clickable": true,
         "color": "#3388ff",
         "fill": false,
         "opacity": 0.5,
         "stroke": true,
         "weight": 4
        }
       },
       "rectangle": {
        "shapeOptions": {
         "clickable": true,
         "color": "#3388ff",
         "fill": true,
         "fillColor": null,
         "fillOpacity": 0.2,
         "opacity": 0.5,
         "stroke": true,
         "weight": 4
        }
       }
      }
     },
     "3b6fafc0b695443fab71f9de9fe4e3d7": {
      "model_module": "jupyter-leaflet",
      "model_module_version": "^0.17",
      "model_name": "LeafletZoomControlModel",
      "state": {
       "_model_module_version": "^0.17",
       "_view_module_version": "^0.17",
       "options": [
        "position",
        "zoom_in_text",
        "zoom_in_title",
        "zoom_out_text",
        "zoom_out_title"
       ]
      }
     },
     "3d2e966d214c424dac9276422a3eef75": {
      "model_module": "@jupyter-widgets/controls",
      "model_module_version": "2.0.0",
      "model_name": "ToggleButtonsModel",
      "state": {
       "_options_labels": [
        "name/address",
        "lat-lon",
        "data"
       ],
       "button_style": "",
       "icons": [],
       "index": 0,
       "layout": "IPY_MODEL_df5a6355d04a440da71c91dc58d6be3d",
       "style": "IPY_MODEL_4d16189aa5f74f45936661132189152e",
       "tooltips": [
        "Search by place name or address",
        "Search by lat-lon coordinates",
        "Search Earth Engine data catalog"
       ]
      }
     },
     "3e1ba589d3be40158b8420d9920b786f": {
      "model_module": "@jupyter-widgets/controls",
      "model_module_version": "2.0.0",
      "model_name": "ToggleButtonStyleModel",
      "state": {
       "description_width": "",
       "font_family": null,
       "font_size": null,
       "font_style": null,
       "font_variant": null,
       "font_weight": null,
       "text_color": null,
       "text_decoration": null
      }
     },
     "3ef867df6e9b4058a913647b8c0e7a75": {
      "model_module": "@jupyter-widgets/base",
      "model_module_version": "2.0.0",
      "model_name": "LayoutModel",
      "state": {
       "max_width": "57px",
       "min_width": "57px"
      }
     },
     "3fd8efa254bb4ef69a73d127edc82639": {
      "model_module": "@jupyter-widgets/controls",
      "model_module_version": "2.0.0",
      "model_name": "ToggleButtonModel",
      "state": {
       "button_style": "primary",
       "icon": "folder-open",
       "layout": "IPY_MODEL_fec023b3acae4a1a94b628ada2cace3a",
       "style": "IPY_MODEL_effe3174aedb480fa7e91e8025709832",
       "tooltip": "Open local vector/raster data"
      }
     },
     "3ff0a81512a94773b2d9d45dfb9e449f": {
      "model_module": "@jupyter-widgets/controls",
      "model_module_version": "2.0.0",
      "model_name": "ToggleButtonModel",
      "state": {
       "button_style": "primary",
       "icon": "fast-forward",
       "layout": "IPY_MODEL_61a2fac255eb4bc895bada2e7a3b38f6",
       "style": "IPY_MODEL_c875880a1d864abfb8a46c91e25f5825",
       "tooltip": "Activate timeslider"
      }
     },
     "402bf35402984cc6af07d0c5d5289a19": {
      "model_module": "@jupyter-widgets/controls",
      "model_module_version": "2.0.0",
      "model_name": "ToggleButtonStyleModel",
      "state": {
       "description_width": "",
       "font_family": null,
       "font_size": null,
       "font_style": null,
       "font_variant": null,
       "font_weight": null,
       "text_color": null,
       "text_decoration": null
      }
     },
     "4050bf924cfb4668aaa9a7d8e9fc1f6a": {
      "model_module": "jupyter-leaflet",
      "model_module_version": "^0.17",
      "model_name": "LeafletAttributionControlModel",
      "state": {
       "_model_module_version": "^0.17",
       "_view_module_version": "^0.17",
       "options": [
        "position",
        "prefix"
       ],
       "position": "bottomright",
       "prefix": "ipyleaflet"
      }
     },
     "40580adec7ea42c1a7094aa9f6453232": {
      "model_module": "@jupyter-widgets/controls",
      "model_module_version": "2.0.0",
      "model_name": "ToggleButtonStyleModel",
      "state": {
       "description_width": "",
       "font_family": null,
       "font_size": null,
       "font_style": null,
       "font_variant": null,
       "font_weight": null,
       "text_color": null,
       "text_decoration": null
      }
     },
     "4144b6d36c8541a794c5eae8985cfa45": {
      "model_module": "@jupyter-widgets/base",
      "model_module_version": "2.0.0",
      "model_name": "LayoutModel",
      "state": {}
     },
     "4285a07b69ee49e18ed619cfca9eadda": {
      "model_module": "@jupyter-widgets/base",
      "model_module_version": "2.0.0",
      "model_name": "LayoutModel",
      "state": {
       "max_height": "350px",
       "max_width": "340px",
       "overflow": "scroll"
      }
     },
     "45b9ab2f0d0b489bb2c13f9ae23a3487": {
      "model_module": "@jupyter-widgets/controls",
      "model_module_version": "2.0.0",
      "model_name": "ToggleButtonStyleModel",
      "state": {
       "description_width": "",
       "font_family": null,
       "font_size": null,
       "font_style": null,
       "font_variant": null,
       "font_weight": null,
       "text_color": null,
       "text_decoration": null
      }
     },
     "45f1e935ff97486ca5fd8cca1bad015e": {
      "model_module": "@jupyter-widgets/base",
      "model_module_version": "2.0.0",
      "model_name": "LayoutModel",
      "state": {
       "height": "auto",
       "padding": "0px 0px 0px 4px",
       "width": "auto"
      }
     },
     "45f429085e5348f198eacf8c76eb62f8": {
      "model_module": "@jupyter-widgets/base",
      "model_module_version": "2.0.0",
      "model_name": "LayoutModel",
      "state": {
       "height": "auto",
       "padding": "0px 0px 0px 4px",
       "width": "auto"
      }
     },
     "46335136665d4c2a8dab5a37b4f83171": {
      "model_module": "@jupyter-widgets/controls",
      "model_module_version": "2.0.0",
      "model_name": "ToggleButtonStyleModel",
      "state": {
       "description_width": "",
       "font_family": null,
       "font_size": null,
       "font_style": null,
       "font_variant": null,
       "font_weight": null,
       "text_color": null,
       "text_decoration": null
      }
     },
     "46cd8bbbbd924032b11a6dc2c60d33f6": {
      "model_module": "@jupyter-widgets/controls",
      "model_module_version": "2.0.0",
      "model_name": "ToggleButtonStyleModel",
      "state": {
       "description_width": "",
       "font_family": null,
       "font_size": null,
       "font_style": null,
       "font_variant": null,
       "font_weight": null,
       "text_color": null,
       "text_decoration": null
      }
     },
     "4789c91a456f46e3bf8038d9cb5ae8d4": {
      "model_module": "@jupyter-widgets/controls",
      "model_module_version": "2.0.0",
      "model_name": "DropdownModel",
      "state": {
       "index": null,
       "layout": "IPY_MODEL_fa630f054ad748f5935dbfd3f199f3e4",
       "style": "IPY_MODEL_5b0382953aa04bdc874d1a4e0c75f77b"
      }
     },
     "47dc74251f414975b9161636f29aab53": {
      "model_module": "@jupyter-widgets/controls",
      "model_module_version": "2.0.0",
      "model_name": "ToggleButtonModel",
      "state": {
       "button_style": "primary",
       "icon": "info-circle",
       "layout": "IPY_MODEL_ef34c8f5863e4144a243d2c9c534f6fb",
       "style": "IPY_MODEL_3097c850f2684a2f813aef83c4431af2",
       "tooltip": "Get COG/STAC pixel value"
      }
     },
     "4814e39e86c8472ca34b2d3a10f8a765": {
      "model_module": "@jupyter-widgets/base",
      "model_module_version": "2.0.0",
      "model_name": "LayoutModel",
      "state": {
       "height": "auto",
       "padding": "0px 0px 0px 4px",
       "width": "auto"
      }
     },
     "48156d3f0fe246edbd360f39c3c139e0": {
      "model_module": "@jupyter-widgets/base",
      "model_module_version": "2.0.0",
      "model_name": "LayoutModel",
      "state": {
       "height": "28px",
       "width": "72px"
      }
     },
     "484878c9b700456983b97a8159fc1e00": {
      "model_module": "@jupyter-widgets/controls",
      "model_module_version": "2.0.0",
      "model_name": "ToggleButtonStyleModel",
      "state": {
       "description_width": "",
       "font_family": null,
       "font_size": null,
       "font_style": null,
       "font_variant": null,
       "font_weight": null,
       "text_color": null,
       "text_decoration": null
      }
     },
     "48c321c47fb541f698941f8776caae4c": {
      "model_module": "jupyter-leaflet",
      "model_module_version": "^0.17",
      "model_name": "LeafletMapStyleModel",
      "state": {
       "_model_module_version": "^0.17"
      }
     },
     "48f10a430f2f4fc1b2889eccc0f3bbb2": {
      "model_module": "@jupyter-widgets/base",
      "model_module_version": "2.0.0",
      "model_name": "LayoutModel",
      "state": {
       "height": "auto",
       "padding": "0px 0px 0px 4px",
       "width": "auto"
      }
     },
     "49c9a2ea8c1d4da19b6a47f4edb11407": {
      "model_module": "jupyter-leaflet",
      "model_module_version": "^0.17",
      "model_name": "LeafletAttributionControlModel",
      "state": {
       "_model_module_version": "^0.17",
       "_view_module_version": "^0.17",
       "options": [
        "position",
        "prefix"
       ],
       "position": "bottomright",
       "prefix": "ipyleaflet"
      }
     },
     "4a8663b5bacb4fdd9cb995d84210a6a9": {
      "model_module": "@jupyter-widgets/base",
      "model_module_version": "2.0.0",
      "model_name": "LayoutModel",
      "state": {
       "height": "auto",
       "padding": "0px 0px 0px 4px",
       "width": "auto"
      }
     },
     "4b5b1ff83fd945c294e3823d4d40ac65": {
      "model_module": "@jupyter-widgets/controls",
      "model_module_version": "2.0.0",
      "model_name": "VBoxModel",
      "state": {
       "children": [
        "IPY_MODEL_e72caff2ed6640d682e76f15d9f299b1",
        "IPY_MODEL_56b408f17867439ab4041e5c6c23643a"
       ],
       "layout": "IPY_MODEL_89778051dc264dc3875416b2f30726bd"
      }
     },
     "4c79dcda3b4643048f3c14d08e916ec1": {
      "model_module": "@jupyter-widgets/controls",
      "model_module_version": "2.0.0",
      "model_name": "ToggleButtonModel",
      "state": {
       "button_style": "primary",
       "icon": "random",
       "layout": "IPY_MODEL_151ce11980f348ed99a4f425e867df66",
       "style": "IPY_MODEL_40580adec7ea42c1a7094aa9f6453232",
       "tooltip": "Sankey plots"
      }
     },
     "4c92a732dcc540c3a53f56a0a813f17a": {
      "model_module": "@jupyter-widgets/base",
      "model_module_version": "2.0.0",
      "model_name": "LayoutModel",
      "state": {
       "height": "auto",
       "padding": "0px 0px 0px 4px",
       "width": "auto"
      }
     },
     "4d16189aa5f74f45936661132189152e": {
      "model_module": "@jupyter-widgets/controls",
      "model_module_version": "2.0.0",
      "model_name": "ToggleButtonsStyleModel",
      "state": {
       "button_width": "110px",
       "description_width": ""
      }
     },
     "4e782022b8df45ecbc1cae3003ca2c75": {
      "model_module": "@jupyter-widgets/controls",
      "model_module_version": "2.0.0",
      "model_name": "ToggleButtonModel",
      "state": {
       "icon": "wrench",
       "layout": "IPY_MODEL_690256b77dd64854aa9a41a1c379b048",
       "style": "IPY_MODEL_6b459059bae44f2ba96e81c5412dddc8",
       "tooltip": "Toolbar"
      }
     },
     "4f5615114d384b5dbc6d1c9bab3bb20d": {
      "model_module": "@jupyter-widgets/base",
      "model_module_version": "2.0.0",
      "model_name": "LayoutModel",
      "state": {
       "height": "auto",
       "padding": "0px 0px 0px 4px",
       "width": "auto"
      }
     },
     "4fd2a68fb25941c99239d9f3bc8024d2": {
      "model_module": "@jupyter-widgets/base",
      "model_module_version": "2.0.0",
      "model_name": "LayoutModel",
      "state": {
       "height": "auto",
       "padding": "0px 0px 0px 4px",
       "width": "auto"
      }
     },
     "5041788eee884cf89e79cbbc9717923e": {
      "model_module": "@jupyter-widgets/controls",
      "model_module_version": "2.0.0",
      "model_name": "ToggleButtonStyleModel",
      "state": {
       "description_width": "",
       "font_family": null,
       "font_size": null,
       "font_style": null,
       "font_variant": null,
       "font_weight": null,
       "text_color": null,
       "text_decoration": null
      }
     },
     "50950563e768485e92a30f124e47d1f1": {
      "model_module": "@jupyter-widgets/controls",
      "model_module_version": "2.0.0",
      "model_name": "ToggleButtonModel",
      "state": {
       "button_style": "primary",
       "icon": "map",
       "layout": "IPY_MODEL_45f429085e5348f198eacf8c76eb62f8",
       "style": "IPY_MODEL_521b5992a3ed413e983078ad32606fbd",
       "tooltip": "Change basemap"
      }
     },
     "517ea944b8c84b738b6afbd46b7d2706": {
      "model_module": "@jupyter-widgets/controls",
      "model_module_version": "2.0.0",
      "model_name": "VBoxModel",
      "state": {
       "children": [
        "IPY_MODEL_0942beedfc24477fa837d04a522f8937"
       ],
       "layout": "IPY_MODEL_64c1ae25eb524a81b3ec2d3cde71f668"
      }
     },
     "521b5992a3ed413e983078ad32606fbd": {
      "model_module": "@jupyter-widgets/controls",
      "model_module_version": "2.0.0",
      "model_name": "ToggleButtonStyleModel",
      "state": {
       "description_width": "",
       "font_family": null,
       "font_size": null,
       "font_style": null,
       "font_variant": null,
       "font_weight": null,
       "text_color": null,
       "text_decoration": null
      }
     },
     "527f371cbb3a4f82840a1c489788d8cc": {
      "model_module": "@jupyter-widgets/controls",
      "model_module_version": "2.0.0",
      "model_name": "ToggleButtonModel",
      "state": {
       "icon": "globe",
       "layout": "IPY_MODEL_1338a24df128403096a5cf53566ebe5a",
       "style": "IPY_MODEL_e5e1bc33f8794fdcba0057d265b17345",
       "tooltip": "Search location/data"
      }
     },
     "536aed7669994a4d9fa34124de3b2ac3": {
      "model_module": "@jupyter-widgets/controls",
      "model_module_version": "2.0.0",
      "model_name": "ToggleButtonStyleModel",
      "state": {
       "description_width": "",
       "font_family": null,
       "font_size": null,
       "font_style": null,
       "font_variant": null,
       "font_weight": null,
       "text_color": null,
       "text_decoration": null
      }
     },
     "54660b17757440d9abf36bc6d7093659": {
      "model_module": "@jupyter-widgets/controls",
      "model_module_version": "2.0.0",
      "model_name": "ToggleButtonStyleModel",
      "state": {
       "description_width": "",
       "font_family": null,
       "font_size": null,
       "font_style": null,
       "font_variant": null,
       "font_weight": null,
       "text_color": null,
       "text_decoration": null
      }
     },
     "546f9cb3f8fb496d8b11e952043e337c": {
      "model_module": "@jupyter-widgets/controls",
      "model_module_version": "2.0.0",
      "model_name": "HBoxModel",
      "state": {
       "_view_count": 1,
       "children": [
        "IPY_MODEL_209c63ececb6483fae6558bcd8430b73"
       ],
       "layout": "IPY_MODEL_efdba2045a0f4bf58e9f435c1b1498c8"
      }
     },
     "546fe96c9e7f4a4aa477c3eafe594161": {
      "model_module": "@jupyter-widgets/controls",
      "model_module_version": "2.0.0",
      "model_name": "ToggleButtonsStyleModel",
      "state": {
       "button_width": "110px",
       "description_width": ""
      }
     },
     "54be683713da4d40920b210e90604bd9": {
      "model_module": "@jupyter-widgets/base",
      "model_module_version": "2.0.0",
      "model_name": "LayoutModel",
      "state": {}
     },
     "558072f8dd6c4e80ab39989ba1aeb3a0": {
      "model_module": "@jupyter-widgets/base",
      "model_module_version": "2.0.0",
      "model_name": "LayoutModel",
      "state": {}
     },
     "558222f8b95a41a185edc8cc40193dcc": {
      "model_module": "jupyter-leaflet",
      "model_module_version": "^0.17",
      "model_name": "LeafletAttributionControlModel",
      "state": {
       "_model_module_version": "^0.17",
       "_view_module_version": "^0.17",
       "options": [
        "position",
        "prefix"
       ],
       "position": "bottomright",
       "prefix": "ipyleaflet"
      }
     },
     "564fcb8e1d8d4c66a51f9cb42a243937": {
      "model_module": "@jupyter-widgets/controls",
      "model_module_version": "2.0.0",
      "model_name": "ToggleButtonStyleModel",
      "state": {
       "description_width": "",
       "font_family": null,
       "font_size": null,
       "font_style": null,
       "font_variant": null,
       "font_weight": null,
       "text_color": null,
       "text_decoration": null
      }
     },
     "569199b9c97445b9864510721441e446": {
      "model_module": "@jupyter-widgets/base",
      "model_module_version": "2.0.0",
      "model_name": "LayoutModel",
      "state": {
       "height": "auto",
       "padding": "0px 0px 0px 4px",
       "width": "auto"
      }
     },
     "56b408f17867439ab4041e5c6c23643a": {
      "model_module": "@jupyter-widgets/controls",
      "model_module_version": "2.0.0",
      "model_name": "TextModel",
      "state": {
       "layout": "IPY_MODEL_e26b16eb00c6403899266ae9fb2bdb83",
       "placeholder": "Search by place name or address",
       "style": "IPY_MODEL_8dd244c755904823bd8337b7b1136c2e",
       "tooltip": "Search location"
      }
     },
     "56fccd1bb2c3472a8dceca50c194b9be": {
      "model_module": "@jupyter-widgets/controls",
      "model_module_version": "2.0.0",
      "model_name": "ToggleButtonStyleModel",
      "state": {
       "description_width": "",
       "font_family": null,
       "font_size": null,
       "font_style": null,
       "font_variant": null,
       "font_weight": null,
       "text_color": null,
       "text_decoration": null
      }
     },
     "5795b743846f4d7fb58f172a45a414c1": {
      "model_module": "jupyter-leaflet",
      "model_module_version": "^0.17",
      "model_name": "LeafletAttributionControlModel",
      "state": {
       "_model_module_version": "^0.17",
       "_view_module_version": "^0.17",
       "options": [
        "position",
        "prefix"
       ],
       "position": "bottomright",
       "prefix": "ipyleaflet"
      }
     },
     "57bf0e10c0254e19ac57cd86f5a4f400": {
      "model_module": "@jupyter-widgets/base",
      "model_module_version": "2.0.0",
      "model_name": "LayoutModel",
      "state": {
       "height": "auto",
       "padding": "0px 0px 0px 4px",
       "width": "auto"
      }
     },
     "593415ab889647918f31bc01d36be2de": {
      "model_module": "@jupyter-widgets/controls",
      "model_module_version": "2.0.0",
      "model_name": "ToggleButtonModel",
      "state": {
       "button_style": "primary",
       "icon": "globe",
       "layout": "IPY_MODEL_de091164d05042f393f02ec6bee34554",
       "style": "IPY_MODEL_c7f60356e0984b9098e9aa895c3d2d3a",
       "tooltip": "Create timelapse"
      }
     },
     "5957bbef8cf9479f92acfae48735a9c5": {
      "model_module": "@jupyter-widgets/base",
      "model_module_version": "2.0.0",
      "model_name": "LayoutModel",
      "state": {}
     },
     "59936dc3983446c589832ac110fb2aec": {
      "model_module": "@jupyter-widgets/controls",
      "model_module_version": "2.0.0",
      "model_name": "HBoxModel",
      "state": {
       "_view_count": 3,
       "children": [
        "IPY_MODEL_527f371cbb3a4f82840a1c489788d8cc"
       ],
       "layout": "IPY_MODEL_04915828b85948d68d3df6bad9a5c39b"
      }
     },
     "5a16552836564ee5b6fb2ae861213f26": {
      "model_module": "@jupyter-widgets/controls",
      "model_module_version": "2.0.0",
      "model_name": "ToggleButtonModel",
      "state": {
       "button_style": "primary",
       "icon": "line-chart",
       "layout": "IPY_MODEL_c6bd2a7dfd664b1b8b0beef126bb6906",
       "style": "IPY_MODEL_c7b87386cd314536be151b33025e7d93",
       "tooltip": "Creating and plotting transects"
      }
     },
     "5af1bf62afaf4468929a5af044dfdc5a": {
      "model_module": "@jupyter-widgets/base",
      "model_module_version": "2.0.0",
      "model_name": "LayoutModel",
      "state": {
       "height": "28px",
       "width": "72px"
      }
     },
     "5af5df9b1ec4487b92296dc22aeee887": {
      "model_module": "@jupyter-widgets/controls",
      "model_module_version": "2.0.0",
      "model_name": "ToggleButtonModel",
      "state": {
       "button_style": "primary",
       "icon": "eraser",
       "layout": "IPY_MODEL_e1ea35c092c54badae9c1aae5d3377bc",
       "style": "IPY_MODEL_e16291d9571845f296d7c80fe89ccb66",
       "tooltip": "Remove all drawn features"
      }
     },
     "5b0382953aa04bdc874d1a4e0c75f77b": {
      "model_module": "@jupyter-widgets/controls",
      "model_module_version": "2.0.0",
      "model_name": "DescriptionStyleModel",
      "state": {
       "description_width": ""
      }
     },
     "5b96974fd56c4ed187db73b32583fab4": {
      "model_module": "@jupyter-widgets/controls",
      "model_module_version": "2.0.0",
      "model_name": "GridBoxModel",
      "state": {
       "children": [
        "IPY_MODEL_d542e05e90c34484badbe174683341f5",
        "IPY_MODEL_942183c226334e2ba068034dd821f74d",
        "IPY_MODEL_593415ab889647918f31bc01d36be2de",
        "IPY_MODEL_9ddacf4049664d8492c362e6809f5a67",
        "IPY_MODEL_37b634004d4b4e908dddccb9c5a32409",
        "IPY_MODEL_f4ce819e700a44999b562038693cfaab"
       ],
       "layout": "IPY_MODEL_b924cfea36634c778d92fe94c58cdd1c"
      }
     },
     "5c8b7c2789db40ea93bd4637e1a7ba42": {
      "model_module": "@jupyter-widgets/controls",
      "model_module_version": "2.0.0",
      "model_name": "RadioButtonsModel",
      "state": {
       "index": null,
       "layout": "IPY_MODEL_c317e7f6f73f491295ecd778453d5545",
       "style": "IPY_MODEL_d5f4598a711342349ccb847878ac48c8"
      }
     },
     "5d1d6a90b2d74aa984e7d9040e594727": {
      "model_module": "@jupyter-widgets/controls",
      "model_module_version": "2.0.0",
      "model_name": "ToggleButtonsStyleModel",
      "state": {
       "button_width": "110px",
       "description_width": ""
      }
     },
     "5da6ea3223a441fca0b1e9ac9897f0eb": {
      "model_module": "@jupyter-widgets/base",
      "model_module_version": "2.0.0",
      "model_name": "LayoutModel",
      "state": {
       "height": "auto",
       "padding": "0px 0px 0px 4px",
       "width": "auto"
      }
     },
     "5e5800848aa44ab384ca165c5f5b840b": {
      "model_module": "@jupyter-widgets/base",
      "model_module_version": "2.0.0",
      "model_name": "LayoutModel",
      "state": {}
     },
     "5e734c4e13194355bf5f30398eba474a": {
      "model_module": "@jupyter-widgets/controls",
      "model_module_version": "2.0.0",
      "model_name": "VBoxModel",
      "state": {
       "_view_count": 3,
       "children": [
        "IPY_MODEL_d16da295359f4dd58c943038d7fdc7f3"
       ],
       "layout": "IPY_MODEL_0c4fa8af43ff461e8120b072fa162620"
      }
     },
     "5e942819bccd42878bf54dc4d81d5ee9": {
      "model_module": "@jupyter-widgets/controls",
      "model_module_version": "2.0.0",
      "model_name": "ToggleButtonStyleModel",
      "state": {
       "description_width": "",
       "font_family": null,
       "font_size": null,
       "font_style": null,
       "font_variant": null,
       "font_weight": null,
       "text_color": null,
       "text_decoration": null
      }
     },
     "5f79ed43ce49457e9771d8b54624402b": {
      "model_module": "@jupyter-widgets/controls",
      "model_module_version": "2.0.0",
      "model_name": "VBoxModel",
      "state": {
       "_view_count": 1,
       "children": [
        "IPY_MODEL_d6b9762d70a340c587351a663ed60257"
       ],
       "layout": "IPY_MODEL_2911e88002fb4288abf2751352997b26"
      }
     },
     "5fa6af2050954cd9820cb2a306218e34": {
      "model_module": "@jupyter-widgets/controls",
      "model_module_version": "2.0.0",
      "model_name": "ToggleButtonStyleModel",
      "state": {
       "description_width": "",
       "font_family": null,
       "font_size": null,
       "font_style": null,
       "font_variant": null,
       "font_weight": null,
       "text_color": null,
       "text_decoration": null
      }
     },
     "5fcb9e4d97ee42b293de2d42da0d64bd": {
      "model_module": "@jupyter-widgets/base",
      "model_module_version": "2.0.0",
      "model_name": "LayoutModel",
      "state": {
       "height": "auto",
       "padding": "0px 0px 0px 4px",
       "width": "auto"
      }
     },
     "612d4e3aff4c417c874860eb85ab6bc9": {
      "model_module": "@jupyter-widgets/base",
      "model_module_version": "2.0.0",
      "model_name": "LayoutModel",
      "state": {
       "height": "auto",
       "padding": "0px 0px 0px 4px",
       "width": "auto"
      }
     },
     "614fb0e393be4eb590bed936e49b9306": {
      "model_module": "@jupyter-widgets/controls",
      "model_module_version": "2.0.0",
      "model_name": "DescriptionStyleModel",
      "state": {
       "description_width": ""
      }
     },
     "61a2fac255eb4bc895bada2e7a3b38f6": {
      "model_module": "@jupyter-widgets/base",
      "model_module_version": "2.0.0",
      "model_name": "LayoutModel",
      "state": {
       "height": "auto",
       "padding": "0px 0px 0px 4px",
       "width": "auto"
      }
     },
     "62b43675ce3645398138ec7fe977c937": {
      "model_module": "jupyter-leaflet",
      "model_module_version": "^0.17",
      "model_name": "LeafletTileLayerModel",
      "state": {
       "_model_module_version": "^0.17",
       "_view_module_version": "^0.17",
       "attribution": "&copy; <a href=\"https://www.openstreetmap.org/copyright\">OpenStreetMap</a> contributors",
       "base": true,
       "max_zoom": 19,
       "min_zoom": 1,
       "name": "OpenStreetMap.Mapnik",
       "options": [
        "attribution",
        "bounds",
        "detect_retina",
        "max_native_zoom",
        "max_zoom",
        "min_native_zoom",
        "min_zoom",
        "no_wrap",
        "tile_size",
        "tms",
        "zoom_offset"
       ],
       "url": "https://tile.openstreetmap.org/{z}/{x}/{y}.png"
      }
     },
     "6304f06c3f884dcb91afb213bc109646": {
      "model_module": "@jupyter-widgets/controls",
      "model_module_version": "2.0.0",
      "model_name": "DescriptionStyleModel",
      "state": {
       "description_width": ""
      }
     },
     "645310f476e14b5d8fee4321f7849ff1": {
      "model_module": "@jupyter-widgets/controls",
      "model_module_version": "2.0.0",
      "model_name": "DescriptionStyleModel",
      "state": {
       "description_width": ""
      }
     },
     "64c1ae25eb524a81b3ec2d3cde71f668": {
      "model_module": "@jupyter-widgets/base",
      "model_module_version": "2.0.0",
      "model_name": "LayoutModel",
      "state": {}
     },
     "656c65ed0bb047198fa86fa1f82afbc9": {
      "model_module": "@jupyter-widgets/controls",
      "model_module_version": "2.0.0",
      "model_name": "ToggleButtonStyleModel",
      "state": {
       "description_width": "",
       "font_family": null,
       "font_size": null,
       "font_style": null,
       "font_variant": null,
       "font_weight": null,
       "text_color": null,
       "text_decoration": null
      }
     },
     "66be0f3ce14042c4bb5749d750d81aa8": {
      "model_module": "jupyter-leaflet",
      "model_module_version": "^0.17",
      "model_name": "LeafletMapModel",
      "state": {
       "_model_module_version": "^0.17",
       "_view_module_version": "^0.17",
       "center": [
        40.00000497268461,
        -99.99996185302736
       ],
       "controls": [
        "IPY_MODEL_0e517a2b83d14318ab2791dea17b5b41",
        "IPY_MODEL_6a6498ff0c0a47fe873b4fb521c54f88",
        "IPY_MODEL_e120e403c5414837a924dde7ab16d082",
        "IPY_MODEL_ca5c16e9b0524b12a1bf9d144d4d3701",
        "IPY_MODEL_b38d11deb9d7469b949f9d2f8e6a34f6",
        "IPY_MODEL_8c133b833657402094212b37aa4e7904",
        "IPY_MODEL_f005d3d92eb94d7e817837ef16871858",
        "IPY_MODEL_558222f8b95a41a185edc8cc40193dcc"
       ],
       "default_style": "IPY_MODEL_48c321c47fb541f698941f8776caae4c",
       "dragging_style": "IPY_MODEL_e6ea0882719b49398d5249362676ad40",
       "east": null,
       "fullscreen": false,
       "interpolation": "bilinear",
       "layers": [
        "IPY_MODEL_9f8ad721f52e43f7a6e3c5e8610951ee",
        "IPY_MODEL_d1aa41f059e94fceb424f4f8712e4472"
       ],
       "layout": "IPY_MODEL_2f35f11ea03e41219eb525043fa7d4dd",
       "max_zoom": 24,
       "modisdate": "2024-01-24",
       "north": -90,
       "options": [
        "bounce_at_zoom_limits",
        "box_zoom",
        "center",
        "close_popup_on_click",
        "double_click_zoom",
        "dragging",
        "fullscreen",
        "inertia",
        "inertia_deceleration",
        "inertia_max_speed",
        "interpolation",
        "keyboard",
        "keyboard_pan_offset",
        "keyboard_zoom_offset",
        "max_zoom",
        "min_zoom",
        "prefer_canvas",
        "scroll_wheel_zoom",
        "tap",
        "tap_tolerance",
        "touch_zoom",
        "world_copy_jump",
        "zoom",
        "zoom_animation_threshold",
        "zoom_delta",
        "zoom_snap"
       ],
       "prefer_canvas": false,
       "scroll_wheel_zoom": true,
       "south": 90,
       "style": "IPY_MODEL_48c321c47fb541f698941f8776caae4c",
       "west": null,
       "window_url": "https://jupyterhub.cuahsi.org/user/torresrua/lab/tree/courses/RS_of_Land_Surfaces_laboratory/Lab%200%20Getting%20to%20know%20EarthEngine%20(Part%202).ipynb"
      }
     },
     "66f30eda54b94f3aaac555ada64bd2af": {
      "model_module": "@jupyter-widgets/controls",
      "model_module_version": "2.0.0",
      "model_name": "ToggleButtonStyleModel",
      "state": {
       "description_width": "",
       "font_family": null,
       "font_size": null,
       "font_style": null,
       "font_variant": null,
       "font_weight": null,
       "text_color": null,
       "text_decoration": null
      }
     },
     "6731b75bde2f4bef8d0e0fb5f701b1b7": {
      "model_module": "@jupyter-widgets/controls",
      "model_module_version": "2.0.0",
      "model_name": "ToggleButtonStyleModel",
      "state": {
       "description_width": "",
       "font_family": null,
       "font_size": null,
       "font_style": null,
       "font_variant": null,
       "font_weight": null,
       "text_color": null,
       "text_decoration": null
      }
     },
     "674c92cb7d9a4578ab07b219cc542e64": {
      "model_module": "@jupyter-widgets/controls",
      "model_module_version": "2.0.0",
      "model_name": "ToggleButtonsStyleModel",
      "state": {
       "button_width": "110px",
       "description_width": ""
      }
     },
     "678f49c0bec945f8ab58e1dc0a90f71a": {
      "model_module": "@jupyter-widgets/base",
      "model_module_version": "2.0.0",
      "model_name": "LayoutModel",
      "state": {
       "height": "28px",
       "padding": "0px 0px 0px 4px",
       "width": "28px"
      }
     },
     "68b59e9f32624857a47737eedfcfe2a9": {
      "model_module": "ipyevents",
      "model_module_version": "2.0.2",
      "model_name": "EventModel",
      "state": {
       "_supported_key_events": [
        "keydown",
        "keyup"
       ],
       "_supported_mouse_events": [
        "click",
        "auxclick",
        "dblclick",
        "mouseenter",
        "mouseleave",
        "mousedown",
        "mouseup",
        "mousemove",
        "wheel",
        "contextmenu",
        "dragstart",
        "drag",
        "dragend",
        "dragenter",
        "dragover",
        "dragleave",
        "drop"
       ],
       "_supported_touch_events": [
        "touchstart",
        "touchend",
        "touchmove",
        "touchcancel"
       ],
       "_view_module": "@jupyter-widgets/controls",
       "source": "IPY_MODEL_5f79ed43ce49457e9771d8b54624402b",
       "throttle_or_debounce": "",
       "watched_events": [
        "mouseenter",
        "mouseleave"
       ],
       "xy_coordinate_system": ""
      }
     },
     "690256b77dd64854aa9a41a1c379b048": {
      "model_module": "@jupyter-widgets/base",
      "model_module_version": "2.0.0",
      "model_name": "LayoutModel",
      "state": {
       "height": "28px",
       "padding": "0px 0px 0px 4px",
       "width": "28px"
      }
     },
     "698e5a7d31e84b9399114e20d23ec204": {
      "model_module": "@jupyter-widgets/base",
      "model_module_version": "2.0.0",
      "model_name": "LayoutModel",
      "state": {
       "height": "auto",
       "padding": "0px 0px 0px 4px",
       "width": "auto"
      }
     },
     "69b33f4fa6274aa5b1a11117b73676f2": {
      "model_module": "@jupyter-widgets/base",
      "model_module_version": "2.0.0",
      "model_name": "LayoutModel",
      "state": {
       "max_width": "57px",
       "min_width": "57px"
      }
     },
     "69bb86f860b849d0b201e8ddc422a1bb": {
      "model_module": "@jupyter-widgets/controls",
      "model_module_version": "2.0.0",
      "model_name": "ToggleButtonModel",
      "state": {
       "button_style": "primary",
       "icon": "fast-forward",
       "layout": "IPY_MODEL_951fb9e1f864490fab37d2140c03da59",
       "style": "IPY_MODEL_7560a3276d6f43f9b7d5068b65caf344",
       "tooltip": "Activate timeslider"
      }
     },
     "6a6498ff0c0a47fe873b4fb521c54f88": {
      "model_module": "jupyter-leaflet",
      "model_module_version": "^0.17",
      "model_name": "LeafletZoomControlModel",
      "state": {
       "_model_module_version": "^0.17",
       "_view_module_version": "^0.17",
       "options": [
        "position",
        "zoom_in_text",
        "zoom_in_title",
        "zoom_out_text",
        "zoom_out_title"
       ]
      }
     },
     "6aa6187d1e5448fcbaae5a249e3106f7": {
      "model_module": "@jupyter-widgets/base",
      "model_module_version": "2.0.0",
      "model_name": "LayoutModel",
      "state": {
       "max_height": "350px",
       "max_width": "340px",
       "overflow": "scroll"
      }
     },
     "6b16ce7f282f40ddb0db552417501dab": {
      "model_module": "@jupyter-widgets/controls",
      "model_module_version": "2.0.0",
      "model_name": "ToggleButtonModel",
      "state": {
       "button_style": "primary",
       "icon": "retweet",
       "layout": "IPY_MODEL_dec572eb0c4a45c295dc2e7fc1c81978",
       "style": "IPY_MODEL_ab711b22980740c7a421826e997e39a9",
       "tooltip": "Convert Earth Engine JavaScript to Python"
      }
     },
     "6b37adf60c0c4ed797db8579e31be443": {
      "model_module": "@jupyter-widgets/controls",
      "model_module_version": "2.0.0",
      "model_name": "ToggleButtonModel",
      "state": {
       "button_style": "primary",
       "icon": "retweet",
       "layout": "IPY_MODEL_83a3c80c9c4140d0bb4cca8ec7dee92f",
       "style": "IPY_MODEL_5fa6af2050954cd9820cb2a306218e34",
       "tooltip": "Convert Earth Engine JavaScript to Python"
      }
     },
     "6b459059bae44f2ba96e81c5412dddc8": {
      "model_module": "@jupyter-widgets/controls",
      "model_module_version": "2.0.0",
      "model_name": "ToggleButtonStyleModel",
      "state": {
       "description_width": "",
       "font_family": null,
       "font_size": null,
       "font_style": null,
       "font_variant": null,
       "font_weight": null,
       "text_color": null,
       "text_decoration": null
      }
     },
     "6c4c814d4d0a41ac8ea81d95859ff96c": {
      "model_module": "@jupyter-widgets/controls",
      "model_module_version": "2.0.0",
      "model_name": "ToggleButtonStyleModel",
      "state": {
       "description_width": "",
       "font_family": null,
       "font_size": null,
       "font_style": null,
       "font_variant": null,
       "font_weight": null,
       "text_color": null,
       "text_decoration": null
      }
     },
     "6cbfd5b7a9074ab6b5abd565e3139d77": {
      "model_module": "@jupyter-widgets/controls",
      "model_module_version": "2.0.0",
      "model_name": "ToggleButtonStyleModel",
      "state": {
       "description_width": "",
       "font_family": null,
       "font_size": null,
       "font_style": null,
       "font_variant": null,
       "font_weight": null,
       "text_color": null,
       "text_decoration": null
      }
     },
     "6cc7fff9bebf4ce49d0d2b4da27eba24": {
      "model_module": "@jupyter-widgets/controls",
      "model_module_version": "2.0.0",
      "model_name": "TextModel",
      "state": {
       "layout": "IPY_MODEL_1763a0f442724bdca0d0b5b538eea634",
       "placeholder": "Search by place name or address",
       "style": "IPY_MODEL_07556038e7114a3e9b6f6fab4bc64d94",
       "tooltip": "Search location"
      }
     },
     "6dac79b670814972ae6cad979a9bb982": {
      "model_module": "@jupyter-widgets/base",
      "model_module_version": "2.0.0",
      "model_name": "LayoutModel",
      "state": {}
     },
     "6df9838f5ac44a20905795c1ee67d579": {
      "model_module": "@jupyter-widgets/base",
      "model_module_version": "2.0.0",
      "model_name": "LayoutModel",
      "state": {}
     },
     "6e006cf35bc24884a44a07b8e1be752e": {
      "model_module": "@jupyter-widgets/base",
      "model_module_version": "2.0.0",
      "model_name": "LayoutModel",
      "state": {
       "height": "600px"
      }
     },
     "6e90f16bdcc2483eb63e54843d43cea4": {
      "model_module": "@jupyter-widgets/controls",
      "model_module_version": "2.0.0",
      "model_name": "HBoxModel",
      "state": {
       "children": [
        "IPY_MODEL_18eec8b181874fabb1ced376d0f5c080",
        "IPY_MODEL_4e782022b8df45ecbc1cae3003ca2c75"
       ],
       "layout": "IPY_MODEL_5957bbef8cf9479f92acfae48735a9c5"
      }
     },
     "6e9a18c70dba4d118cfa064fb53642e6": {
      "model_module": "@jupyter-widgets/base",
      "model_module_version": "2.0.0",
      "model_name": "LayoutModel",
      "state": {
       "max_width": "279px",
       "min_width": "279px"
      }
     },
     "6eb65e24356a449bb852c5db072d537d": {
      "model_module": "@jupyter-widgets/controls",
      "model_module_version": "2.0.0",
      "model_name": "ToggleButtonModel",
      "state": {
       "button_style": "primary",
       "icon": "bar-chart",
       "layout": "IPY_MODEL_214389bf24ab4caba7eee4d06ed0093c",
       "style": "IPY_MODEL_656c65ed0bb047198fa86fa1f82afbc9",
       "tooltip": "Plotting"
      }
     },
     "6f792c86a3624d33b2a50a3cd2126dff": {
      "model_module": "@jupyter-widgets/controls",
      "model_module_version": "2.0.0",
      "model_name": "ButtonStyleModel",
      "state": {
       "font_family": null,
       "font_size": null,
       "font_style": null,
       "font_variant": null,
       "font_weight": null,
       "text_color": null,
       "text_decoration": null
      }
     },
     "700c69b2e2c14c09a6485563601142ec": {
      "model_module": "@jupyter-widgets/base",
      "model_module_version": "2.0.0",
      "model_name": "LayoutModel",
      "state": {
       "max_width": "279px",
       "min_width": "279px"
      }
     },
     "70f3320fc4ca41829c88402d10f11dd5": {
      "model_module": "@jupyter-widgets/controls",
      "model_module_version": "2.0.0",
      "model_name": "ButtonModel",
      "state": {
       "button_style": "primary",
       "description": "import",
       "layout": "IPY_MODEL_e9a37f595876444bb64f07c9d4d71a9b",
       "style": "IPY_MODEL_ac4b502a7c15468f903d40a42027e458",
       "tooltip": "Click to import the selected asset"
      }
     },
     "71be9e1b4b7a4972bbaba732dd180e97": {
      "model_module": "@jupyter-widgets/base",
      "model_module_version": "2.0.0",
      "model_name": "LayoutModel",
      "state": {
       "height": "auto",
       "padding": "0px 0px 0px 4px",
       "width": "auto"
      }
     },
     "71ff99af002c4d3dbc0c91adb3c1ba25": {
      "model_module": "@jupyter-widgets/base",
      "model_module_version": "2.0.0",
      "model_name": "LayoutModel",
      "state": {
       "height": "28px",
       "width": "72px"
      }
     },
     "731f2890716e4a9e93bc74cc079f2f86": {
      "model_module": "@jupyter-widgets/controls",
      "model_module_version": "2.0.0",
      "model_name": "RadioButtonsModel",
      "state": {
       "index": null,
       "layout": "IPY_MODEL_2edc588152eb48a9be6d1e6b31b3d9b7",
       "style": "IPY_MODEL_0a21eb4c166843dba07246eeba0e54a6"
      }
     },
     "73789ebb9331412481b6ce618e0bde8d": {
      "model_module": "@jupyter-widgets/controls",
      "model_module_version": "2.0.0",
      "model_name": "VBoxModel",
      "state": {
       "children": [
        "IPY_MODEL_5b96974fd56c4ed187db73b32583fab4"
       ],
       "layout": "IPY_MODEL_793d9dd9e12f4ab7b7efce76323a00b4"
      }
     },
     "73be8cab91e84306911338fead65ad8b": {
      "model_module": "@jupyter-widgets/base",
      "model_module_version": "2.0.0",
      "model_name": "LayoutModel",
      "state": {}
     },
     "74fdbd866dd34218911781ab4383e371": {
      "model_module": "ipyevents",
      "model_module_version": "2.0.2",
      "model_name": "EventModel",
      "state": {
       "_supported_key_events": [
        "keydown",
        "keyup"
       ],
       "_supported_mouse_events": [
        "click",
        "auxclick",
        "dblclick",
        "mouseenter",
        "mouseleave",
        "mousedown",
        "mouseup",
        "mousemove",
        "wheel",
        "contextmenu",
        "dragstart",
        "drag",
        "dragend",
        "dragenter",
        "dragover",
        "dragleave",
        "drop"
       ],
       "_supported_touch_events": [
        "touchstart",
        "touchend",
        "touchmove",
        "touchcancel"
       ],
       "_view_module": "@jupyter-widgets/controls",
       "source": "IPY_MODEL_ab7f2976474645b69a663772cd71d996",
       "throttle_or_debounce": "",
       "watched_events": [
        "mouseenter",
        "mouseleave"
       ],
       "xy_coordinate_system": ""
      }
     },
     "7560a3276d6f43f9b7d5068b65caf344": {
      "model_module": "@jupyter-widgets/controls",
      "model_module_version": "2.0.0",
      "model_name": "ToggleButtonStyleModel",
      "state": {
       "description_width": "",
       "font_family": null,
       "font_size": null,
       "font_style": null,
       "font_variant": null,
       "font_weight": null,
       "text_color": null,
       "text_decoration": null
      }
     },
     "759b93cfe0da44af9efbd36627514693": {
      "model_module": "jupyter-leaflet",
      "model_module_version": "^0.17",
      "model_name": "LeafletMapStyleModel",
      "state": {
       "_model_module_version": "^0.17",
       "cursor": "move"
      }
     },
     "75b7c3c859db4099a981321b1349a172": {
      "model_module": "@jupyter-widgets/controls",
      "model_module_version": "2.0.0",
      "model_name": "ToggleButtonStyleModel",
      "state": {
       "description_width": "",
       "font_family": null,
       "font_size": null,
       "font_style": null,
       "font_variant": null,
       "font_weight": null,
       "text_color": null,
       "text_decoration": null
      }
     },
     "76035b53be864cac9e73aa41927e16c8": {
      "model_module": "@jupyter-widgets/controls",
      "model_module_version": "2.0.0",
      "model_name": "ToggleButtonStyleModel",
      "state": {
       "description_width": "",
       "font_family": null,
       "font_size": null,
       "font_style": null,
       "font_variant": null,
       "font_weight": null,
       "text_color": null,
       "text_decoration": null
      }
     },
     "770b7a0448244760995bef30676d385e": {
      "model_module": "@jupyter-widgets/controls",
      "model_module_version": "2.0.0",
      "model_name": "HBoxModel",
      "state": {
       "children": [
        "IPY_MODEL_c329d0313cd94d13956f7ff3d001bff5",
        "IPY_MODEL_e1500fd1476247a3bfbe6e19f2b802a9"
       ],
       "layout": "IPY_MODEL_d3f39bff6bbb4c7ea105ec52df0ef5c5"
      }
     },
     "793d9dd9e12f4ab7b7efce76323a00b4": {
      "model_module": "@jupyter-widgets/base",
      "model_module_version": "2.0.0",
      "model_name": "LayoutModel",
      "state": {}
     },
     "79681853ce3c44b19615437353e53771": {
      "model_module": "@jupyter-widgets/controls",
      "model_module_version": "2.0.0",
      "model_name": "HBoxModel",
      "state": {
       "children": [
        "IPY_MODEL_70f3320fc4ca41829c88402d10f11dd5",
        "IPY_MODEL_4789c91a456f46e3bf8038d9cb5ae8d4"
       ],
       "layout": "IPY_MODEL_13334e0301b64782af68b93d0f3e51ad"
      }
     },
     "7a213b623d1f4b6b887173b55fe0ac02": {
      "model_module": "@jupyter-widgets/controls",
      "model_module_version": "2.0.0",
      "model_name": "ToggleButtonStyleModel",
      "state": {
       "description_width": "",
       "font_family": null,
       "font_size": null,
       "font_style": null,
       "font_variant": null,
       "font_weight": null,
       "text_color": null,
       "text_decoration": null
      }
     },
     "7b8eb5e608444cdda082e6827442d1bd": {
      "model_module": "@jupyter-widgets/controls",
      "model_module_version": "2.0.0",
      "model_name": "ToggleButtonStyleModel",
      "state": {
       "description_width": "",
       "font_family": null,
       "font_size": null,
       "font_style": null,
       "font_variant": null,
       "font_weight": null,
       "text_color": null,
       "text_decoration": null
      }
     },
     "7c0f4a6626724f8fa3702494d263070d": {
      "model_module": "@jupyter-widgets/controls",
      "model_module_version": "2.0.0",
      "model_name": "ToggleButtonsModel",
      "state": {
       "_options_labels": [
        "name/address",
        "lat-lon",
        "data"
       ],
       "button_style": "",
       "icons": [],
       "index": 0,
       "layout": "IPY_MODEL_a56e01ccefd34a5797df41ca720b9609",
       "style": "IPY_MODEL_5d1d6a90b2d74aa984e7d9040e594727",
       "tooltips": [
        "Search by place name or address",
        "Search by lat-lon coordinates",
        "Search Earth Engine data catalog"
       ]
      }
     },
     "7c688b7124be4d7287f7eb5217df0fa8": {
      "model_module": "@jupyter-widgets/controls",
      "model_module_version": "2.0.0",
      "model_name": "ToggleButtonModel",
      "state": {
       "button_style": "primary",
       "icon": "hand-o-up",
       "layout": "IPY_MODEL_4fd2a68fb25941c99239d9f3bc8024d2",
       "style": "IPY_MODEL_0652d98dedee4d29a006c9618d93a6ee",
       "tooltip": "Collect training samples"
      }
     },
     "7d944e18680e4bfaa375424c6b3359db": {
      "model_module": "@jupyter-widgets/base",
      "model_module_version": "2.0.0",
      "model_name": "LayoutModel",
      "state": {}
     },
     "7dff17b59d194d1a917c0b2b1a362057": {
      "model_module": "@jupyter-widgets/controls",
      "model_module_version": "2.0.0",
      "model_name": "ToggleButtonModel",
      "state": {
       "button_style": "primary",
       "icon": "folder-open",
       "layout": "IPY_MODEL_9ba553d99ac848ab8ca0f49d4791eb3d",
       "style": "IPY_MODEL_6731b75bde2f4bef8d0e0fb5f701b1b7",
       "tooltip": "Open local vector/raster data"
      }
     },
     "7e9830318fd84655ad734ff1827c8980": {
      "model_module": "jupyter-leaflet",
      "model_module_version": "^0.17",
      "model_name": "LeafletScaleControlModel",
      "state": {
       "_model_module_version": "^0.17",
       "_view_module_version": "^0.17",
       "imperial": true,
       "max_width": 100,
       "metric": true,
       "options": [
        "imperial",
        "max_width",
        "metric",
        "position",
        "update_when_idle"
       ],
       "position": "bottomleft",
       "update_when_idle": false
      }
     },
     "80e182ecba4d4dccb944fc8e48b52095": {
      "model_module": "jupyter-leaflet",
      "model_module_version": "^0.17",
      "model_name": "LeafletTileLayerModel",
      "state": {
       "_model_module_version": "^0.17",
       "_view_module_version": "^0.17",
       "attribution": "Google Earth Engine",
       "max_zoom": 24,
       "name": "CGIAR/SRTM90_V4",
       "options": [
        "attribution",
        "bounds",
        "detect_retina",
        "max_native_zoom",
        "max_zoom",
        "min_native_zoom",
        "min_zoom",
        "no_wrap",
        "tile_size",
        "tms",
        "zoom_offset"
       ],
       "url": "https://earthengine.googleapis.com/v1/projects/earthengine-legacy/maps/06a63269a4b5948318f598f667eed684-1afd05bb462f7951b79a543a4047f2ce/tiles/{z}/{x}/{y}"
      }
     },
     "813f21e5f67e44e994223b2a15a9c722": {
      "model_module": "ipyevents",
      "model_module_version": "2.0.2",
      "model_name": "EventModel",
      "state": {
       "_supported_key_events": [
        "keydown",
        "keyup"
       ],
       "_supported_mouse_events": [
        "click",
        "auxclick",
        "dblclick",
        "mouseenter",
        "mouseleave",
        "mousedown",
        "mouseup",
        "mousemove",
        "wheel",
        "contextmenu",
        "dragstart",
        "drag",
        "dragend",
        "dragenter",
        "dragover",
        "dragleave",
        "drop"
       ],
       "_supported_touch_events": [
        "touchstart",
        "touchend",
        "touchmove",
        "touchcancel"
       ],
       "_view_module": "@jupyter-widgets/controls",
       "source": "IPY_MODEL_f495277d36fc4368b66c623b9262f187",
       "throttle_or_debounce": "",
       "watched_events": [
        "mouseenter",
        "mouseleave"
       ],
       "xy_coordinate_system": ""
      }
     },
     "82015d5629a148f39dc86f9ab6972e01": {
      "model_module": "@jupyter-widgets/controls",
      "model_module_version": "2.0.0",
      "model_name": "DescriptionStyleModel",
      "state": {
       "description_width": ""
      }
     },
     "8227f42ecf284b8a93f9de459ace3825": {
      "model_module": "@jupyter-widgets/base",
      "model_module_version": "2.0.0",
      "model_name": "LayoutModel",
      "state": {}
     },
     "833fe646dd924199809c63dbcaf16d2b": {
      "model_module": "@jupyter-widgets/controls",
      "model_module_version": "2.0.0",
      "model_name": "ToggleButtonModel",
      "state": {
       "button_style": "primary",
       "icon": "eraser",
       "layout": "IPY_MODEL_4c92a732dcc540c3a53f56a0a813f17a",
       "style": "IPY_MODEL_484878c9b700456983b97a8159fc1e00",
       "tooltip": "Remove all drawn features"
      }
     },
     "838b152ed456431794b096b72403761f": {
      "model_module": "jupyter-leaflet",
      "model_module_version": "^0.17",
      "model_name": "LeafletDrawControlModel",
      "state": {
       "_model_module_version": "^0.17",
       "_view_module_version": "^0.17",
       "marker": {
        "shapeOptions": {
         "color": "#3388ff"
        }
       },
       "options": [
        "position"
       ],
       "polygon": {
        "shapeOptions": {
         "clickable": true,
         "color": "#3388ff",
         "fill": true,
         "fillColor": null,
         "fillOpacity": 0.2,
         "opacity": 0.5,
         "stroke": true,
         "weight": 4
        }
       },
       "polyline": {
        "shapeOptions": {
         "clickable": true,
         "color": "#3388ff",
         "fill": false,
         "opacity": 0.5,
         "stroke": true,
         "weight": 4
        }
       },
       "rectangle": {
        "shapeOptions": {
         "clickable": true,
         "color": "#3388ff",
         "fill": true,
         "fillColor": null,
         "fillOpacity": 0.2,
         "opacity": 0.5,
         "stroke": true,
         "weight": 4
        }
       }
      }
     },
     "83a3c80c9c4140d0bb4cca8ec7dee92f": {
      "model_module": "@jupyter-widgets/base",
      "model_module_version": "2.0.0",
      "model_name": "LayoutModel",
      "state": {
       "height": "auto",
       "padding": "0px 0px 0px 4px",
       "width": "auto"
      }
     },
     "851d14b7c05242aeb9576bdcc8dcfebf": {
      "model_module": "jupyter-leaflet",
      "model_module_version": "^0.17",
      "model_name": "LeafletWidgetControlModel",
      "state": {
       "_model_module": "jupyter-leaflet",
       "_model_module_version": "^0.17",
       "_view_count": null,
       "_view_module": "jupyter-leaflet",
       "_view_module_version": "^0.17",
       "options": [
        "position",
        "transparent_bg"
       ],
       "position": "topleft",
       "widget": "IPY_MODEL_8ca5d349975746cdb9a10945eb186a45"
      }
     },
     "8561e8d479ce499b970317282b22de7e": {
      "model_module": "@jupyter-widgets/controls",
      "model_module_version": "2.0.0",
      "model_name": "VBoxModel",
      "state": {
       "children": [
        "IPY_MODEL_7c0f4a6626724f8fa3702494d263070d",
        "IPY_MODEL_1bae1d7693c244b098931e77bab99459"
       ],
       "layout": "IPY_MODEL_309b6db3930245e1a16fae107baa8c43"
      }
     },
     "8584b84f8152482ebcf46c8bfbbf8495": {
      "model_module": "jupyter-leaflet",
      "model_module_version": "^0.17",
      "model_name": "LeafletMapStyleModel",
      "state": {
       "_model_module_version": "^0.17",
       "cursor": "move"
      }
     },
     "861574e995c84675b161fc34a591d1d3": {
      "model_module": "@jupyter-widgets/controls",
      "model_module_version": "2.0.0",
      "model_name": "ToggleButtonModel",
      "state": {
       "button_style": "primary",
       "icon": "plus",
       "layout": "IPY_MODEL_2563f619c35a4dc6ade38dca9befb269",
       "style": "IPY_MODEL_22e85bb7e0694cf7a65b8484c9ef873c",
       "tooltip": "Expand toolbar"
      }
     },
     "863535896c24478885b64c7eda6f8525": {
      "model_module": "@jupyter-widgets/controls",
      "model_module_version": "2.0.0",
      "model_name": "ToggleButtonStyleModel",
      "state": {
       "description_width": "",
       "font_family": null,
       "font_size": null,
       "font_style": null,
       "font_variant": null,
       "font_weight": null,
       "text_color": null,
       "text_decoration": null
      }
     },
     "87a163d401934c89a6df6ab38caef962": {
      "model_module": "@jupyter-widgets/controls",
      "model_module_version": "2.0.0",
      "model_name": "ToggleButtonModel",
      "state": {
       "button_style": "primary",
       "icon": "info-circle",
       "layout": "IPY_MODEL_a23b1c1d5c084837a99f7048b4d72568",
       "style": "IPY_MODEL_7a213b623d1f4b6b887173b55fe0ac02",
       "tooltip": "Get COG/STAC pixel value"
      }
     },
     "87aa95a33aca47f2ad594149c72a3ec9": {
      "model_module": "@jupyter-widgets/base",
      "model_module_version": "2.0.0",
      "model_name": "LayoutModel",
      "state": {
       "width": "340px"
      }
     },
     "889dd343654e4713b44525a542cc500b": {
      "model_module": "@jupyter-widgets/controls",
      "model_module_version": "2.0.0",
      "model_name": "ToggleButtonModel",
      "state": {
       "button_style": "primary",
       "icon": "map",
       "layout": "IPY_MODEL_a042da68e49f47028cb76c614cef130d",
       "style": "IPY_MODEL_a259836d829c45668c009c6e7125b574",
       "tooltip": "Change basemap"
      }
     },
     "8962e41344604a3f909fd0c3d12583aa": {
      "model_module": "@jupyter-widgets/base",
      "model_module_version": "2.0.0",
      "model_name": "LayoutModel",
      "state": {
       "height": "auto",
       "padding": "0px 0px 0px 4px",
       "width": "auto"
      }
     },
     "89778051dc264dc3875416b2f30726bd": {
      "model_module": "@jupyter-widgets/base",
      "model_module_version": "2.0.0",
      "model_name": "LayoutModel",
      "state": {}
     },
     "8a44a325e5c742c08b5e646a217337bc": {
      "model_module": "@jupyter-widgets/controls",
      "model_module_version": "2.0.0",
      "model_name": "ToggleButtonModel",
      "state": {
       "icon": "server",
       "layout": "IPY_MODEL_71ff99af002c4d3dbc0c91adb3c1ba25",
       "style": "IPY_MODEL_1f65b0d0112f42449e1541df4fef76cd",
       "tooltip": "Layers"
      }
     },
     "8b7e3ad8344a4c26a6a005a7f8e0a3ff": {
      "model_module": "@jupyter-widgets/base",
      "model_module_version": "2.0.0",
      "model_name": "LayoutModel",
      "state": {
       "height": "auto",
       "padding": "0px 0px 0px 4px",
       "width": "auto"
      }
     },
     "8c133b833657402094212b37aa4e7904": {
      "model_module": "jupyter-leaflet",
      "model_module_version": "^0.17",
      "model_name": "LeafletMeasureControlModel",
      "state": {
       "_model_module_version": "^0.17",
       "_view_module_version": "^0.17",
       "active_color": "orange",
       "options": [
        "active_color",
        "capture_z_index",
        "completed_color",
        "popup_options",
        "position",
        "primary_area_unit",
        "primary_length_unit",
        "secondary_area_unit",
        "secondary_length_unit"
       ],
       "position": "bottomleft",
       "primary_length_unit": "kilometers",
       "secondary_area_unit": null,
       "secondary_length_unit": null
      }
     },
     "8c41720c316f48aeb30a21a7cb5e9d0c": {
      "model_module": "@jupyter-widgets/controls",
      "model_module_version": "2.0.0",
      "model_name": "ToggleButtonStyleModel",
      "state": {
       "description_width": "",
       "font_family": null,
       "font_size": null,
       "font_style": null,
       "font_variant": null,
       "font_weight": null,
       "text_color": null,
       "text_decoration": null
      }
     },
     "8c8e11548aed4ea08d58d665d0b5346d": {
      "model_module": "jupyter-leaflet",
      "model_module_version": "^0.17",
      "model_name": "LeafletZoomControlModel",
      "state": {
       "_model_module_version": "^0.17",
       "_view_module_version": "^0.17",
       "options": [
        "position",
        "zoom_in_text",
        "zoom_in_title",
        "zoom_out_text",
        "zoom_out_title"
       ]
      }
     },
     "8c9aae4c67eb4112b3fcd79b0ddb6408": {
      "model_module": "@jupyter-widgets/base",
      "model_module_version": "2.0.0",
      "model_name": "LayoutModel",
      "state": {
       "height": "600px"
      }
     },
     "8ca5d349975746cdb9a10945eb186a45": {
      "model_module": "@jupyter-widgets/controls",
      "model_module_version": "2.0.0",
      "model_name": "HBoxModel",
      "state": {
       "_view_count": 1,
       "children": [
        "IPY_MODEL_267454ad0a64458995099a4d8ed7be94"
       ],
       "layout": "IPY_MODEL_7d944e18680e4bfaa375424c6b3359db"
      }
     },
     "8ce44b8eb4d04edab4cd655368df017a": {
      "model_module": "@jupyter-widgets/base",
      "model_module_version": "2.0.0",
      "model_name": "LayoutModel",
      "state": {
       "grid_gap": "1px 1px",
       "grid_template_columns": "32px 32px 32px ",
       "grid_template_rows": "32px 32px ",
       "padding": "5px",
       "width": "109px"
      }
     },
     "8cf09f9e13f04a209b23e23484df4496": {
      "model_module": "@jupyter-widgets/base",
      "model_module_version": "2.0.0",
      "model_name": "LayoutModel",
      "state": {}
     },
     "8d3b11d83cc24d92bc0b88d5377a8ae4": {
      "model_module": "@jupyter-widgets/controls",
      "model_module_version": "2.0.0",
      "model_name": "ToggleButtonStyleModel",
      "state": {
       "description_width": "",
       "font_family": null,
       "font_size": null,
       "font_style": null,
       "font_variant": null,
       "font_weight": null,
       "text_color": null,
       "text_decoration": null
      }
     },
     "8dd244c755904823bd8337b7b1136c2e": {
      "model_module": "@jupyter-widgets/controls",
      "model_module_version": "2.0.0",
      "model_name": "TextStyleModel",
      "state": {
       "description_width": "",
       "font_size": null,
       "text_color": null
      }
     },
     "8e7f98414c8f4d2f96f9aa65a6991e85": {
      "model_module": "jupyter-leaflet",
      "model_module_version": "^0.17",
      "model_name": "LeafletMapModel",
      "state": {
       "_model_module_version": "^0.17",
       "_view_module_version": "^0.17",
       "center": [
        39.977120098439634,
        -100.01953125000001
       ],
       "controls": [
        "IPY_MODEL_080d7560aa214ecdba04b89510759c04",
        "IPY_MODEL_ae1b489073c044ad8faf839e6934a98a",
        "IPY_MODEL_2f8d1155023946adb0890419c1d9aa46",
        "IPY_MODEL_395b5a31bd6b4ce4b7fb998c00d58f71",
        "IPY_MODEL_7e9830318fd84655ad734ff1827c8980",
        "IPY_MODEL_fbba4fa5b2134e5880b9959e38ad12e9",
        "IPY_MODEL_213d0262103842ac9002e82b85bea223",
        "IPY_MODEL_5795b743846f4d7fb58f172a45a414c1"
       ],
       "default_style": "IPY_MODEL_d8da7bec877943c0bbc5bbd10a25975a",
       "dragging_style": "IPY_MODEL_759b93cfe0da44af9efbd36627514693",
       "east": null,
       "fullscreen": false,
       "interpolation": "bilinear",
       "layers": [
        "IPY_MODEL_3621c4fecb0a48d6b81e28ae93826ecd",
        "IPY_MODEL_0b9aee839ca04a2299972487e9262132"
       ],
       "layout": "IPY_MODEL_8ff2d3ef14854782bc7f1998776f9461",
       "max_zoom": 24,
       "modisdate": "2024-01-24",
       "north": -90,
       "options": [
        "bounce_at_zoom_limits",
        "box_zoom",
        "center",
        "close_popup_on_click",
        "double_click_zoom",
        "dragging",
        "fullscreen",
        "inertia",
        "inertia_deceleration",
        "inertia_max_speed",
        "interpolation",
        "keyboard",
        "keyboard_pan_offset",
        "keyboard_zoom_offset",
        "max_zoom",
        "min_zoom",
        "prefer_canvas",
        "scroll_wheel_zoom",
        "tap",
        "tap_tolerance",
        "touch_zoom",
        "world_copy_jump",
        "zoom",
        "zoom_animation_threshold",
        "zoom_delta",
        "zoom_snap"
       ],
       "prefer_canvas": false,
       "scroll_wheel_zoom": true,
       "south": 90,
       "style": "IPY_MODEL_d8da7bec877943c0bbc5bbd10a25975a",
       "west": null,
       "window_url": "https://jupyterhub.cuahsi.org/user/torresrua/lab/tree/courses/RS_of_Land_Surfaces_laboratory/Lab%200%20Getting%20to%20know%20EarthEngine%20(Part%202).ipynb",
       "zoom": 4
      }
     },
     "8ff2d3ef14854782bc7f1998776f9461": {
      "model_module": "@jupyter-widgets/base",
      "model_module_version": "2.0.0",
      "model_name": "LayoutModel",
      "state": {
       "height": "600px"
      }
     },
     "911ca121bedf4e64ae46c8b7733e90c6": {
      "model_module": "@jupyter-widgets/base",
      "model_module_version": "2.0.0",
      "model_name": "LayoutModel",
      "state": {
       "height": "auto",
       "padding": "0px 0px 0px 4px",
       "width": "auto"
      }
     },
     "92340e4f178f410093e95758974c2f1d": {
      "model_module": "jupyter-leaflet",
      "model_module_version": "^0.17",
      "model_name": "LeafletTileLayerModel",
      "state": {
       "_model_module_version": "^0.17",
       "_view_module_version": "^0.17",
       "attribution": "&copy; <a href=\"https://www.openstreetmap.org/copyright\">OpenStreetMap</a> contributors",
       "base": true,
       "max_zoom": 19,
       "min_zoom": 1,
       "name": "OpenStreetMap.Mapnik",
       "options": [
        "attribution",
        "bounds",
        "detect_retina",
        "max_native_zoom",
        "max_zoom",
        "min_native_zoom",
        "min_zoom",
        "no_wrap",
        "tile_size",
        "tms",
        "zoom_offset"
       ],
       "url": "https://tile.openstreetmap.org/{z}/{x}/{y}.png"
      }
     },
     "92466b980231442f935c098024b7308f": {
      "model_module": "jupyter-leaflet",
      "model_module_version": "^0.17",
      "model_name": "LeafletMeasureControlModel",
      "state": {
       "_model_module_version": "^0.17",
       "_view_module_version": "^0.17",
       "active_color": "orange",
       "options": [
        "active_color",
        "capture_z_index",
        "completed_color",
        "popup_options",
        "position",
        "primary_area_unit",
        "primary_length_unit",
        "secondary_area_unit",
        "secondary_length_unit"
       ],
       "position": "bottomleft",
       "primary_length_unit": "kilometers",
       "secondary_area_unit": null,
       "secondary_length_unit": null
      }
     },
     "9276f265d89a4aeeb27c5f07d84fca43": {
      "model_module": "@jupyter-widgets/controls",
      "model_module_version": "2.0.0",
      "model_name": "ToggleButtonModel",
      "state": {
       "button_style": "primary",
       "icon": "gears",
       "layout": "IPY_MODEL_b4dfec5071b845bd98645e79cff327fc",
       "style": "IPY_MODEL_5041788eee884cf89e79cbbc9717923e",
       "tooltip": "WhiteboxTools for local geoprocessing"
      }
     },
     "92c742ec93014e88bf8e6da7078c662c": {
      "model_module": "@jupyter-widgets/base",
      "model_module_version": "2.0.0",
      "model_name": "LayoutModel",
      "state": {
       "height": "auto",
       "padding": "0px 0px 0px 4px",
       "width": "auto"
      }
     },
     "93a051c227ac4e5881cc57205de240da": {
      "model_module": "@jupyter-widgets/base",
      "model_module_version": "2.0.0",
      "model_name": "LayoutModel",
      "state": {
       "height": "auto",
       "padding": "0px 0px 0px 4px",
       "width": "auto"
      }
     },
     "94054a9d79034b98af813895f424b231": {
      "model_module": "@jupyter-widgets/controls",
      "model_module_version": "2.0.0",
      "model_name": "ToggleButtonStyleModel",
      "state": {
       "description_width": "",
       "font_family": null,
       "font_size": null,
       "font_style": null,
       "font_variant": null,
       "font_weight": null,
       "text_color": null,
       "text_decoration": null
      }
     },
     "942183c226334e2ba068034dd821f74d": {
      "model_module": "@jupyter-widgets/controls",
      "model_module_version": "2.0.0",
      "model_name": "ToggleButtonModel",
      "state": {
       "button_style": "primary",
       "icon": "bar-chart",
       "layout": "IPY_MODEL_ccf80567b7e5457f931c7824c239eebf",
       "style": "IPY_MODEL_b464582ca0ef4237b3d330708d9fab9d",
       "tooltip": "Plotting"
      }
     },
     "951fb9e1f864490fab37d2140c03da59": {
      "model_module": "@jupyter-widgets/base",
      "model_module_version": "2.0.0",
      "model_name": "LayoutModel",
      "state": {
       "height": "auto",
       "padding": "0px 0px 0px 4px",
       "width": "auto"
      }
     },
     "956197bd684c49de9836277977d82711": {
      "model_module": "@jupyter-widgets/controls",
      "model_module_version": "2.0.0",
      "model_name": "ToggleButtonStyleModel",
      "state": {
       "description_width": "",
       "font_family": null,
       "font_size": null,
       "font_style": null,
       "font_variant": null,
       "font_weight": null,
       "text_color": null,
       "text_decoration": null
      }
     },
     "95782e1c818447e196ed4f52f918cae8": {
      "model_module": "@jupyter-widgets/controls",
      "model_module_version": "2.0.0",
      "model_name": "ToggleButtonModel",
      "state": {
       "button_style": "primary",
       "icon": "eraser",
       "layout": "IPY_MODEL_569199b9c97445b9864510721441e446",
       "style": "IPY_MODEL_135a2cc43eb34943b4f226f94501280e",
       "tooltip": "Remove all drawn features"
      }
     },
     "97520861df6f4a04b80f369e040bd960": {
      "model_module": "@jupyter-widgets/controls",
      "model_module_version": "2.0.0",
      "model_name": "ToggleButtonModel",
      "state": {
       "button_style": "primary",
       "icon": "folder-open",
       "layout": "IPY_MODEL_5fcb9e4d97ee42b293de2d42da0d64bd",
       "style": "IPY_MODEL_369ac2582a4e411089187cd431a8f272",
       "tooltip": "Open local vector/raster data"
      }
     },
     "97bf79324b694f8ca7995075ea02d003": {
      "model_module": "@jupyter-widgets/controls",
      "model_module_version": "2.0.0",
      "model_name": "ToggleButtonModel",
      "state": {
       "button_style": "primary",
       "icon": "map",
       "layout": "IPY_MODEL_8962e41344604a3f909fd0c3d12583aa",
       "style": "IPY_MODEL_8d3b11d83cc24d92bc0b88d5377a8ae4",
       "tooltip": "Change basemap"
      }
     },
     "98f205bd3af749acaa0ffb4243e61de5": {
      "model_module": "@jupyter-widgets/controls",
      "model_module_version": "2.0.0",
      "model_name": "ToggleButtonStyleModel",
      "state": {
       "description_width": "",
       "font_family": null,
       "font_size": null,
       "font_style": null,
       "font_variant": null,
       "font_weight": null,
       "text_color": null,
       "text_decoration": null
      }
     },
     "9abc577eda3846aab2f60c225ff87513": {
      "model_module": "jupyter-leaflet",
      "model_module_version": "^0.17",
      "model_name": "LeafletFullScreenControlModel",
      "state": {
       "_model_module_version": "^0.17",
       "_view_module_version": "^0.17",
       "options": [
        "position"
       ]
      }
     },
     "9ae2f9230c12481daf4acd448573b371": {
      "model_module": "@jupyter-widgets/base",
      "model_module_version": "2.0.0",
      "model_name": "LayoutModel",
      "state": {}
     },
     "9ba553d99ac848ab8ca0f49d4791eb3d": {
      "model_module": "@jupyter-widgets/base",
      "model_module_version": "2.0.0",
      "model_name": "LayoutModel",
      "state": {
       "height": "auto",
       "padding": "0px 0px 0px 4px",
       "width": "auto"
      }
     },
     "9bbc13463c3145e7a96bf34e791ba98a": {
      "model_module": "@jupyter-widgets/base",
      "model_module_version": "2.0.0",
      "model_name": "LayoutModel",
      "state": {
       "height": "auto",
       "padding": "0px 0px 0px 4px",
       "width": "auto"
      }
     },
     "9d7811370ffe496aaa68a42854aaf859": {
      "model_module": "@jupyter-widgets/base",
      "model_module_version": "2.0.0",
      "model_name": "LayoutModel",
      "state": {
       "width": "500px"
      }
     },
     "9ddacf4049664d8492c362e6809f5a67": {
      "model_module": "@jupyter-widgets/controls",
      "model_module_version": "2.0.0",
      "model_name": "ToggleButtonModel",
      "state": {
       "button_style": "primary",
       "icon": "map",
       "layout": "IPY_MODEL_5da6ea3223a441fca0b1e9ac9897f0eb",
       "style": "IPY_MODEL_1ca62e297e5b4db3900fa4b23cf7520e",
       "tooltip": "Change basemap"
      }
     },
     "9e1ea5b36aac49ce8923a3a41374d487": {
      "model_module": "@jupyter-widgets/controls",
      "model_module_version": "2.0.0",
      "model_name": "ButtonStyleModel",
      "state": {
       "font_family": null,
       "font_size": null,
       "font_style": null,
       "font_variant": null,
       "font_weight": null,
       "text_color": null,
       "text_decoration": null
      }
     },
     "9e506718cde748ee97b2f35d2395e4c4": {
      "model_module": "@jupyter-widgets/base",
      "model_module_version": "2.0.0",
      "model_name": "LayoutModel",
      "state": {
       "height": "auto",
       "padding": "0px 0px 0px 4px",
       "width": "auto"
      }
     },
     "9ee5cf707c254fa49843f642d7307fc6": {
      "model_module": "@jupyter-widgets/controls",
      "model_module_version": "2.0.0",
      "model_name": "ToggleButtonModel",
      "state": {
       "button_style": "primary",
       "icon": "random",
       "layout": "IPY_MODEL_bf897b527f264bb49796c284ca1bbe80",
       "style": "IPY_MODEL_c5ab745b535241e2937dd400da616fe7",
       "tooltip": "Sankey plots"
      }
     },
     "9f8ad721f52e43f7a6e3c5e8610951ee": {
      "model_module": "jupyter-leaflet",
      "model_module_version": "^0.17",
      "model_name": "LeafletTileLayerModel",
      "state": {
       "_model_module_version": "^0.17",
       "_view_module_version": "^0.17",
       "attribution": "&copy; <a href=\"https://www.openstreetmap.org/copyright\">OpenStreetMap</a> contributors",
       "base": true,
       "max_zoom": 19,
       "min_zoom": 1,
       "name": "OpenStreetMap.Mapnik",
       "options": [
        "attribution",
        "bounds",
        "detect_retina",
        "max_native_zoom",
        "max_zoom",
        "min_native_zoom",
        "min_zoom",
        "no_wrap",
        "tile_size",
        "tms",
        "zoom_offset"
       ],
       "url": "https://tile.openstreetmap.org/{z}/{x}/{y}.png"
      }
     },
     "9fd577d5ac92443e951ba22169d9fc27": {
      "model_module": "@jupyter-widgets/controls",
      "model_module_version": "2.0.0",
      "model_name": "ToggleButtonModel",
      "state": {
       "button_style": "primary",
       "icon": "globe",
       "layout": "IPY_MODEL_2ddf33edd5f6441ca2eb07d003df0c31",
       "style": "IPY_MODEL_76035b53be864cac9e73aa41927e16c8",
       "tooltip": "Create timelapse"
      }
     },
     "a042da68e49f47028cb76c614cef130d": {
      "model_module": "@jupyter-widgets/base",
      "model_module_version": "2.0.0",
      "model_name": "LayoutModel",
      "state": {
       "height": "auto",
       "padding": "0px 0px 0px 4px",
       "width": "auto"
      }
     },
     "a07ae5dde2d74d4999fb05430a0232dc": {
      "model_module": "@jupyter-widgets/controls",
      "model_module_version": "2.0.0",
      "model_name": "ToggleButtonModel",
      "state": {
       "button_style": "primary",
       "icon": "plus",
       "layout": "IPY_MODEL_e2efde4428d34838985e607687a5f104",
       "style": "IPY_MODEL_31405293855049b085791caf6bce2240",
       "tooltip": "Expand toolbar"
      }
     },
     "a1d36572f329415b9618b9aebfd4cfa2": {
      "model_module": "@jupyter-widgets/controls",
      "model_module_version": "2.0.0",
      "model_name": "ToggleButtonStyleModel",
      "state": {
       "description_width": "",
       "font_family": null,
       "font_size": null,
       "font_style": null,
       "font_variant": null,
       "font_weight": null,
       "text_color": null,
       "text_decoration": null
      }
     },
     "a23b1c1d5c084837a99f7048b4d72568": {
      "model_module": "@jupyter-widgets/base",
      "model_module_version": "2.0.0",
      "model_name": "LayoutModel",
      "state": {
       "height": "auto",
       "padding": "0px 0px 0px 4px",
       "width": "auto"
      }
     },
     "a259836d829c45668c009c6e7125b574": {
      "model_module": "@jupyter-widgets/controls",
      "model_module_version": "2.0.0",
      "model_name": "ToggleButtonStyleModel",
      "state": {
       "description_width": "",
       "font_family": null,
       "font_size": null,
       "font_style": null,
       "font_variant": null,
       "font_weight": null,
       "text_color": null,
       "text_decoration": null
      }
     },
     "a3aaf3990e5f4c2290224724b77d070e": {
      "model_module": "jupyter-leaflet",
      "model_module_version": "^0.17",
      "model_name": "LeafletAttributionControlModel",
      "state": {
       "_model_module_version": "^0.17",
       "_view_module_version": "^0.17",
       "options": [
        "position",
        "prefix"
       ],
       "position": "bottomright",
       "prefix": "ipyleaflet"
      }
     },
     "a497a31291004b39807abb1b9081b607": {
      "model_module": "jupyter-leaflet",
      "model_module_version": "^0.17",
      "model_name": "LeafletScaleControlModel",
      "state": {
       "_model_module_version": "^0.17",
       "_view_module_version": "^0.17",
       "imperial": true,
       "max_width": 100,
       "metric": true,
       "options": [
        "imperial",
        "max_width",
        "metric",
        "position",
        "update_when_idle"
       ],
       "position": "bottomleft",
       "update_when_idle": false
      }
     },
     "a4ed76086a4a4a60b9ab594901377ac1": {
      "model_module": "@jupyter-widgets/controls",
      "model_module_version": "2.0.0",
      "model_name": "ToggleButtonModel",
      "state": {
       "button_style": "primary",
       "icon": "info",
       "layout": "IPY_MODEL_c8d5cc80dd114e97b67a56a26fbff0a5",
       "style": "IPY_MODEL_0be0977a1ce749d3a73ecd41d5736007",
       "tooltip": "Inspector"
      }
     },
     "a5490b4b41cb44708f0f3f36b5d8460a": {
      "model_module": "jupyter-leaflet",
      "model_module_version": "^0.17",
      "model_name": "LeafletWidgetControlModel",
      "state": {
       "_model_module": "jupyter-leaflet",
       "_model_module_version": "^0.17",
       "_view_count": null,
       "_view_module": "jupyter-leaflet",
       "_view_module_version": "^0.17",
       "options": [
        "position",
        "transparent_bg"
       ],
       "position": "topleft",
       "widget": "IPY_MODEL_59936dc3983446c589832ac110fb2aec"
      }
     },
     "a56e01ccefd34a5797df41ca720b9609": {
      "model_module": "@jupyter-widgets/base",
      "model_module_version": "2.0.0",
      "model_name": "LayoutModel",
      "state": {}
     },
     "a7176da54f124703ae2e0f4b17d00125": {
      "model_module": "@jupyter-widgets/controls",
      "model_module_version": "2.0.0",
      "model_name": "VBoxModel",
      "state": {
       "_view_count": 1,
       "children": [
        "IPY_MODEL_e4d65a6439d94e119b1fd968c5c96bc7"
       ],
       "layout": "IPY_MODEL_1f39330164f2412da9c785f553eefc1a"
      }
     },
     "a885b5ec78fa47eb9b425a6563b2ab34": {
      "model_module": "jupyter-leaflet",
      "model_module_version": "^0.17",
      "model_name": "LeafletDrawControlModel",
      "state": {
       "_model_module_version": "^0.17",
       "_view_module_version": "^0.17",
       "marker": {
        "shapeOptions": {
         "color": "#3388ff"
        }
       },
       "options": [
        "position"
       ],
       "polygon": {
        "shapeOptions": {
         "clickable": true,
         "color": "#3388ff",
         "fill": true,
         "fillColor": null,
         "fillOpacity": 0.2,
         "opacity": 0.5,
         "stroke": true,
         "weight": 4
        }
       },
       "polyline": {
        "shapeOptions": {
         "clickable": true,
         "color": "#3388ff",
         "fill": false,
         "opacity": 0.5,
         "stroke": true,
         "weight": 4
        }
       },
       "rectangle": {
        "shapeOptions": {
         "clickable": true,
         "color": "#3388ff",
         "fill": true,
         "fillColor": null,
         "fillOpacity": 0.2,
         "opacity": 0.5,
         "stroke": true,
         "weight": 4
        }
       }
      }
     },
     "a9f139904480449bb56ead1dbac53a58": {
      "model_module": "@jupyter-widgets/base",
      "model_module_version": "2.0.0",
      "model_name": "LayoutModel",
      "state": {
       "max_width": "279px",
       "min_width": "279px"
      }
     },
     "aa50d55cd03341e1b0a6a5a4adeba497": {
      "model_module": "@jupyter-widgets/base",
      "model_module_version": "2.0.0",
      "model_name": "LayoutModel",
      "state": {
       "height": "auto",
       "padding": "0px 0px 0px 4px",
       "width": "auto"
      }
     },
     "ab14e43cc2c5480b8ce3f9f033a5dd44": {
      "model_module": "@jupyter-widgets/controls",
      "model_module_version": "2.0.0",
      "model_name": "ToggleButtonModel",
      "state": {
       "button_style": "primary",
       "icon": "fast-forward",
       "layout": "IPY_MODEL_df1a2473cecf4e198aa806411b2b2a6b",
       "style": "IPY_MODEL_10ff08af65b14cde8956be3470a41cc5",
       "tooltip": "Activate timeslider"
      }
     },
     "ab711b22980740c7a421826e997e39a9": {
      "model_module": "@jupyter-widgets/controls",
      "model_module_version": "2.0.0",
      "model_name": "ToggleButtonStyleModel",
      "state": {
       "description_width": "",
       "font_family": null,
       "font_size": null,
       "font_style": null,
       "font_variant": null,
       "font_weight": null,
       "text_color": null,
       "text_decoration": null
      }
     },
     "ab7f2976474645b69a663772cd71d996": {
      "model_module": "@jupyter-widgets/controls",
      "model_module_version": "2.0.0",
      "model_name": "VBoxModel",
      "state": {
       "_view_count": 1,
       "children": [
        "IPY_MODEL_4e782022b8df45ecbc1cae3003ca2c75"
       ],
       "layout": "IPY_MODEL_eec6839d542d4891b7e546ae3bfd74bf"
      }
     },
     "ac304b1baf00401c92ef8e7e41026d89": {
      "model_module": "@jupyter-widgets/controls",
      "model_module_version": "2.0.0",
      "model_name": "ToggleButtonModel",
      "state": {
       "button_style": "primary",
       "icon": "hand-o-up",
       "layout": "IPY_MODEL_ebbc72bd17434b2ab94f5ab7c787f7c2",
       "style": "IPY_MODEL_d75ade9e50464d68bfae5535c996cc44",
       "tooltip": "Collect training samples"
      }
     },
     "ac4b502a7c15468f903d40a42027e458": {
      "model_module": "@jupyter-widgets/controls",
      "model_module_version": "2.0.0",
      "model_name": "ButtonStyleModel",
      "state": {
       "font_family": null,
       "font_size": null,
       "font_style": null,
       "font_variant": null,
       "font_weight": null,
       "text_color": null,
       "text_decoration": null
      }
     },
     "ad19b69cef4f40bfb5821406531baac0": {
      "model_module": "@jupyter-widgets/controls",
      "model_module_version": "2.0.0",
      "model_name": "DescriptionStyleModel",
      "state": {
       "description_width": ""
      }
     },
     "ada721f86bd34b2ab81a429eec6ea757": {
      "model_module": "@jupyter-widgets/base",
      "model_module_version": "2.0.0",
      "model_name": "LayoutModel",
      "state": {
       "width": "340px"
      }
     },
     "add18f34dc1948aea4586a917d36ed7d": {
      "model_module": "jupyter-leaflet",
      "model_module_version": "^0.17",
      "model_name": "LeafletZoomControlModel",
      "state": {
       "_model_module_version": "^0.17",
       "_view_module_version": "^0.17",
       "options": [
        "position",
        "zoom_in_text",
        "zoom_in_title",
        "zoom_out_text",
        "zoom_out_title"
       ]
      }
     },
     "ae1b489073c044ad8faf839e6934a98a": {
      "model_module": "jupyter-leaflet",
      "model_module_version": "^0.17",
      "model_name": "LeafletZoomControlModel",
      "state": {
       "_model_module_version": "^0.17",
       "_view_module_version": "^0.17",
       "options": [
        "position",
        "zoom_in_text",
        "zoom_in_title",
        "zoom_out_text",
        "zoom_out_title"
       ]
      }
     },
     "aef50cc9b1f941869383d4a7252a4668": {
      "model_module": "@jupyter-widgets/controls",
      "model_module_version": "2.0.0",
      "model_name": "ToggleButtonModel",
      "state": {
       "button_style": "primary",
       "icon": "hand-o-up",
       "layout": "IPY_MODEL_4a8663b5bacb4fdd9cb995d84210a6a9",
       "style": "IPY_MODEL_0760c1e9a5a348d9a23cb783d736c25c",
       "tooltip": "Collect training samples"
      }
     },
     "af39a51ee9a14e78b3582ab8031b0984": {
      "model_module": "@jupyter-widgets/controls",
      "model_module_version": "2.0.0",
      "model_name": "ToggleButtonStyleModel",
      "state": {
       "description_width": "",
       "font_family": null,
       "font_size": null,
       "font_style": null,
       "font_variant": null,
       "font_weight": null,
       "text_color": null,
       "text_decoration": null
      }
     },
     "afb7a45f4c13400093b682dad1364348": {
      "model_module": "ipyevents",
      "model_module_version": "2.0.2",
      "model_name": "EventModel",
      "state": {
       "_supported_key_events": [
        "keydown",
        "keyup"
       ],
       "_supported_mouse_events": [
        "click",
        "auxclick",
        "dblclick",
        "mouseenter",
        "mouseleave",
        "mousedown",
        "mouseup",
        "mousemove",
        "wheel",
        "contextmenu",
        "dragstart",
        "drag",
        "dragend",
        "dragenter",
        "dragover",
        "dragleave",
        "drop"
       ],
       "_supported_touch_events": [
        "touchstart",
        "touchend",
        "touchmove",
        "touchcancel"
       ],
       "_view_module": "@jupyter-widgets/controls",
       "source": "IPY_MODEL_59936dc3983446c589832ac110fb2aec",
       "throttle_or_debounce": "",
       "watched_events": [
        "mouseenter",
        "mouseleave"
       ],
       "xy_coordinate_system": ""
      }
     },
     "b0c6c124cadf4b55befd63b2d4c0be3b": {
      "model_module": "@jupyter-widgets/output",
      "model_module_version": "1.0.0",
      "model_name": "OutputModel",
      "state": {
       "layout": "IPY_MODEL_eaafd04c973541cea2a5235fcf2c1ab5"
      }
     },
     "b1ac196602bd4bb6a79a666389d6ea88": {
      "model_module": "@jupyter-widgets/base",
      "model_module_version": "2.0.0",
      "model_name": "LayoutModel",
      "state": {}
     },
     "b38d11deb9d7469b949f9d2f8e6a34f6": {
      "model_module": "jupyter-leaflet",
      "model_module_version": "^0.17",
      "model_name": "LeafletScaleControlModel",
      "state": {
       "_model_module_version": "^0.17",
       "_view_module_version": "^0.17",
       "imperial": true,
       "max_width": 100,
       "metric": true,
       "options": [
        "imperial",
        "max_width",
        "metric",
        "position",
        "update_when_idle"
       ],
       "position": "bottomleft",
       "update_when_idle": false
      }
     },
     "b464582ca0ef4237b3d330708d9fab9d": {
      "model_module": "@jupyter-widgets/controls",
      "model_module_version": "2.0.0",
      "model_name": "ToggleButtonStyleModel",
      "state": {
       "description_width": "",
       "font_family": null,
       "font_size": null,
       "font_style": null,
       "font_variant": null,
       "font_weight": null,
       "text_color": null,
       "text_decoration": null
      }
     },
     "b4dfec5071b845bd98645e79cff327fc": {
      "model_module": "@jupyter-widgets/base",
      "model_module_version": "2.0.0",
      "model_name": "LayoutModel",
      "state": {
       "height": "auto",
       "padding": "0px 0px 0px 4px",
       "width": "auto"
      }
     },
     "b53a460b3ab34312a4ca131894315c18": {
      "model_module": "@jupyter-widgets/base",
      "model_module_version": "2.0.0",
      "model_name": "LayoutModel",
      "state": {
       "max_width": "57px",
       "min_width": "57px"
      }
     },
     "b8bd8d4aca87416f98a8a50782144d48": {
      "model_module": "@jupyter-widgets/output",
      "model_module_version": "1.0.0",
      "model_name": "OutputModel",
      "state": {
       "layout": "IPY_MODEL_f6e25184a8f8472b899e99664cf40ebc"
      }
     },
     "b924cfea36634c778d92fe94c58cdd1c": {
      "model_module": "@jupyter-widgets/base",
      "model_module_version": "2.0.0",
      "model_name": "LayoutModel",
      "state": {
       "grid_gap": "1px 1px",
       "grid_template_columns": "32px 32px 32px ",
       "grid_template_rows": "32px 32px ",
       "padding": "5px",
       "width": "109px"
      }
     },
     "babf22554846461c8ccf5e03890decac": {
      "model_module": "@jupyter-widgets/controls",
      "model_module_version": "2.0.0",
      "model_name": "HTMLStyleModel",
      "state": {
       "description_width": "",
       "font_size": null,
       "text_color": null
      }
     },
     "bb726b32a8974c4e929a3283b86acc27": {
      "model_module": "@jupyter-widgets/controls",
      "model_module_version": "2.0.0",
      "model_name": "ToggleButtonStyleModel",
      "state": {
       "description_width": "",
       "font_family": null,
       "font_size": null,
       "font_style": null,
       "font_variant": null,
       "font_weight": null,
       "text_color": null,
       "text_decoration": null
      }
     },
     "bf897b527f264bb49796c284ca1bbe80": {
      "model_module": "@jupyter-widgets/base",
      "model_module_version": "2.0.0",
      "model_name": "LayoutModel",
      "state": {
       "height": "auto",
       "padding": "0px 0px 0px 4px",
       "width": "auto"
      }
     },
     "bfb87d08c8de464299e8279ef77b3d4d": {
      "model_module": "@jupyter-widgets/controls",
      "model_module_version": "2.0.0",
      "model_name": "ToggleButtonModel",
      "state": {
       "icon": "globe",
       "layout": "IPY_MODEL_e5b370eb9c7e463cab2793d2584a4204",
       "style": "IPY_MODEL_f94b83ba646b4a21a29bf5f100383502",
       "tooltip": "Search location/data"
      }
     },
     "c1465d1588794a0b8f4cfe4d920734a8": {
      "model_module": "@jupyter-widgets/controls",
      "model_module_version": "2.0.0",
      "model_name": "TextStyleModel",
      "state": {
       "description_width": "",
       "font_size": null,
       "text_color": null
      }
     },
     "c317e7f6f73f491295ecd778453d5545": {
      "model_module": "@jupyter-widgets/base",
      "model_module_version": "2.0.0",
      "model_name": "LayoutModel",
      "state": {}
     },
     "c329d0313cd94d13956f7ff3d001bff5": {
      "model_module": "@jupyter-widgets/controls",
      "model_module_version": "2.0.0",
      "model_name": "ButtonModel",
      "state": {
       "button_style": "primary",
       "description": "import",
       "layout": "IPY_MODEL_3ef867df6e9b4058a913647b8c0e7a75",
       "style": "IPY_MODEL_fc9597ef59a049ca9db6940faf47d566",
       "tooltip": "Click to import the selected asset"
      }
     },
     "c36048c384da4e14a90a330f620707f1": {
      "model_module": "jupyter-leaflet",
      "model_module_version": "^0.17",
      "model_name": "LeafletMapStyleModel",
      "state": {
       "_model_module_version": "^0.17",
       "cursor": "move"
      }
     },
     "c3d203facf4f4e4ab7df69e4613b2d5b": {
      "model_module": "@jupyter-widgets/base",
      "model_module_version": "2.0.0",
      "model_name": "LayoutModel",
      "state": {
       "height": "28px",
       "padding": "0px 0px 0px 4px",
       "width": "28px"
      }
     },
     "c5ab745b535241e2937dd400da616fe7": {
      "model_module": "@jupyter-widgets/controls",
      "model_module_version": "2.0.0",
      "model_name": "ToggleButtonStyleModel",
      "state": {
       "description_width": "",
       "font_family": null,
       "font_size": null,
       "font_style": null,
       "font_variant": null,
       "font_weight": null,
       "text_color": null,
       "text_decoration": null
      }
     },
     "c5c2b70d2e2a4ffcb38e74e8e927987b": {
      "model_module": "@jupyter-widgets/controls",
      "model_module_version": "2.0.0",
      "model_name": "ToggleButtonModel",
      "state": {
       "button_style": "primary",
       "icon": "globe",
       "layout": "IPY_MODEL_c9ddd36ee2224863afd69220ccbba2eb",
       "style": "IPY_MODEL_feec43667d11435db734e3a55b7816ef",
       "tooltip": "Create timelapse"
      }
     },
     "c6b2d01de2114787ac6df580c60b6eb1": {
      "model_module": "@jupyter-widgets/controls",
      "model_module_version": "2.0.0",
      "model_name": "HBoxModel",
      "state": {
       "children": [
        "IPY_MODEL_219ac494085f4099950277e29a683856",
        "IPY_MODEL_d3cc0a5335d2476b9d4b40fa91f1f44e"
       ],
       "layout": "IPY_MODEL_558072f8dd6c4e80ab39989ba1aeb3a0"
      }
     },
     "c6bd2a7dfd664b1b8b0beef126bb6906": {
      "model_module": "@jupyter-widgets/base",
      "model_module_version": "2.0.0",
      "model_name": "LayoutModel",
      "state": {
       "height": "auto",
       "padding": "0px 0px 0px 4px",
       "width": "auto"
      }
     },
     "c73166bbf7d94a5b9cf068e50402e7a1": {
      "model_module": "jupyter-leaflet",
      "model_module_version": "^0.17",
      "model_name": "LeafletMapModel",
      "state": {
       "_model_module_version": "^0.17",
       "_view_module_version": "^0.17",
       "center": [
        39.90973623453719,
        -99.84375
       ],
       "controls": [
        "IPY_MODEL_851d14b7c05242aeb9576bdcc8dcfebf",
        "IPY_MODEL_3b6fafc0b695443fab71f9de9fe4e3d7",
        "IPY_MODEL_2d84f96fb1d54fa4b3057e7eab19ef76",
        "IPY_MODEL_838b152ed456431794b096b72403761f",
        "IPY_MODEL_a497a31291004b39807abb1b9081b607",
        "IPY_MODEL_011e2ecf66be4cef97a5da283178aa51",
        "IPY_MODEL_14e327c9ef9f41c5b3078894f7de912d",
        "IPY_MODEL_d9c7ed69247641dd86dbcb443a7d5da2"
       ],
       "default_style": "IPY_MODEL_25060cd6bbd145b4a8d118c65ff5f074",
       "dragging_style": "IPY_MODEL_c36048c384da4e14a90a330f620707f1",
       "east": null,
       "fullscreen": false,
       "interpolation": "bilinear",
       "layers": [
        "IPY_MODEL_62b43675ce3645398138ec7fe977c937",
        "IPY_MODEL_18fb7b25320c4b72a07ec8644489c68e"
       ],
       "layout": "IPY_MODEL_8c9aae4c67eb4112b3fcd79b0ddb6408",
       "max_zoom": 24,
       "modisdate": "2024-01-24",
       "north": -90,
       "options": [
        "bounce_at_zoom_limits",
        "box_zoom",
        "center",
        "close_popup_on_click",
        "double_click_zoom",
        "dragging",
        "fullscreen",
        "inertia",
        "inertia_deceleration",
        "inertia_max_speed",
        "interpolation",
        "keyboard",
        "keyboard_pan_offset",
        "keyboard_zoom_offset",
        "max_zoom",
        "min_zoom",
        "prefer_canvas",
        "scroll_wheel_zoom",
        "tap",
        "tap_tolerance",
        "touch_zoom",
        "world_copy_jump",
        "zoom",
        "zoom_animation_threshold",
        "zoom_delta",
        "zoom_snap"
       ],
       "prefer_canvas": false,
       "scroll_wheel_zoom": true,
       "south": 90,
       "style": "IPY_MODEL_25060cd6bbd145b4a8d118c65ff5f074",
       "west": null,
       "window_url": "https://jupyterhub.cuahsi.org/user/torresrua/lab/tree/courses/RS_of_Land_Surfaces_laboratory/Lab%200%20Getting%20to%20know%20EarthEngine%20(Part%202).ipynb",
       "zoom": 1
      }
     },
     "c7b87386cd314536be151b33025e7d93": {
      "model_module": "@jupyter-widgets/controls",
      "model_module_version": "2.0.0",
      "model_name": "ToggleButtonStyleModel",
      "state": {
       "description_width": "",
       "font_family": null,
       "font_size": null,
       "font_style": null,
       "font_variant": null,
       "font_weight": null,
       "text_color": null,
       "text_decoration": null
      }
     },
     "c7f60356e0984b9098e9aa895c3d2d3a": {
      "model_module": "@jupyter-widgets/controls",
      "model_module_version": "2.0.0",
      "model_name": "ToggleButtonStyleModel",
      "state": {
       "description_width": "",
       "font_family": null,
       "font_size": null,
       "font_style": null,
       "font_variant": null,
       "font_weight": null,
       "text_color": null,
       "text_decoration": null
      }
     },
     "c875880a1d864abfb8a46c91e25f5825": {
      "model_module": "@jupyter-widgets/controls",
      "model_module_version": "2.0.0",
      "model_name": "ToggleButtonStyleModel",
      "state": {
       "description_width": "",
       "font_family": null,
       "font_size": null,
       "font_style": null,
       "font_variant": null,
       "font_weight": null,
       "text_color": null,
       "text_decoration": null
      }
     },
     "c8d5cc80dd114e97b67a56a26fbff0a5": {
      "model_module": "@jupyter-widgets/base",
      "model_module_version": "2.0.0",
      "model_name": "LayoutModel",
      "state": {
       "height": "auto",
       "padding": "0px 0px 0px 4px",
       "width": "auto"
      }
     },
     "c8e1a3517401400596df1ffa0559a65e": {
      "model_module": "@jupyter-widgets/controls",
      "model_module_version": "2.0.0",
      "model_name": "ToggleButtonStyleModel",
      "state": {
       "description_width": "",
       "font_family": null,
       "font_size": null,
       "font_style": null,
       "font_variant": null,
       "font_weight": null,
       "text_color": null,
       "text_decoration": null
      }
     },
     "c9ddd36ee2224863afd69220ccbba2eb": {
      "model_module": "@jupyter-widgets/base",
      "model_module_version": "2.0.0",
      "model_name": "LayoutModel",
      "state": {
       "height": "auto",
       "padding": "0px 0px 0px 4px",
       "width": "auto"
      }
     },
     "ca5c16e9b0524b12a1bf9d144d4d3701": {
      "model_module": "jupyter-leaflet",
      "model_module_version": "^0.17",
      "model_name": "LeafletDrawControlModel",
      "state": {
       "_model_module_version": "^0.17",
       "_view_module_version": "^0.17",
       "marker": {
        "shapeOptions": {
         "color": "#3388ff"
        }
       },
       "options": [
        "position"
       ],
       "polygon": {
        "shapeOptions": {
         "clickable": true,
         "color": "#3388ff",
         "fill": true,
         "fillColor": null,
         "fillOpacity": 0.2,
         "opacity": 0.5,
         "stroke": true,
         "weight": 4
        }
       },
       "polyline": {
        "shapeOptions": {
         "clickable": true,
         "color": "#3388ff",
         "fill": false,
         "opacity": 0.5,
         "stroke": true,
         "weight": 4
        }
       },
       "rectangle": {
        "shapeOptions": {
         "clickable": true,
         "color": "#3388ff",
         "fill": true,
         "fillColor": null,
         "fillOpacity": 0.2,
         "opacity": 0.5,
         "stroke": true,
         "weight": 4
        }
       }
      }
     },
     "ca7590cdf7f44d41871d1f030c145f8a": {
      "model_module": "@jupyter-widgets/controls",
      "model_module_version": "2.0.0",
      "model_name": "ToggleButtonStyleModel",
      "state": {
       "description_width": "",
       "font_family": null,
       "font_size": null,
       "font_style": null,
       "font_variant": null,
       "font_weight": null,
       "text_color": null,
       "text_decoration": null
      }
     },
     "cc38c7292766468088f83d884d7b2ec2": {
      "model_module": "@jupyter-widgets/base",
      "model_module_version": "2.0.0",
      "model_name": "LayoutModel",
      "state": {}
     },
     "ccf80567b7e5457f931c7824c239eebf": {
      "model_module": "@jupyter-widgets/base",
      "model_module_version": "2.0.0",
      "model_name": "LayoutModel",
      "state": {
       "height": "auto",
       "padding": "0px 0px 0px 4px",
       "width": "auto"
      }
     },
     "cd18eb16e4fe49638479d15a92d182ca": {
      "model_module": "@jupyter-widgets/controls",
      "model_module_version": "2.0.0",
      "model_name": "GridBoxModel",
      "state": {
       "children": [
        "IPY_MODEL_a4ed76086a4a4a60b9ab594901377ac1",
        "IPY_MODEL_2bbd38d07d874794be007434a3512b30",
        "IPY_MODEL_9fd577d5ac92443e951ba22169d9fc27",
        "IPY_MODEL_50950563e768485e92a30f124e47d1f1",
        "IPY_MODEL_6b16ce7f282f40ddb0db552417501dab",
        "IPY_MODEL_1bb64dfaae0c4e0e8313ff6e7e09c1f3"
       ],
       "layout": "IPY_MODEL_223144cc5f0d49ac919132a3fa33ebd9"
      }
     },
     "ce8961e78280440f88a2a6ed8561f106": {
      "model_module": "@jupyter-widgets/controls",
      "model_module_version": "2.0.0",
      "model_name": "ToggleButtonModel",
      "state": {
       "button_style": "primary",
       "icon": "retweet",
       "layout": "IPY_MODEL_4f5615114d384b5dbc6d1c9bab3bb20d",
       "style": "IPY_MODEL_75b7c3c859db4099a981321b1349a172",
       "tooltip": "Convert Earth Engine JavaScript to Python"
      }
     },
     "cf102ab7b85d4549b4207694441412fd": {
      "model_module": "jupyter-leaflet",
      "model_module_version": "^0.17",
      "model_name": "LeafletMapModel",
      "state": {
       "_model_module_version": "^0.17",
       "_view_module_version": "^0.17",
       "bottom": 1233.0536206376228,
       "center": [
        15.78318363217359,
        -41.83093856810481
       ],
       "controls": [
        "IPY_MODEL_a5490b4b41cb44708f0f3f36b5d8460a",
        "IPY_MODEL_add18f34dc1948aea4586a917d36ed7d",
        "IPY_MODEL_9abc577eda3846aab2f60c225ff87513",
        "IPY_MODEL_a885b5ec78fa47eb9b425a6563b2ab34",
        "IPY_MODEL_285fbc27649b46ec82dac50fe50058a3",
        "IPY_MODEL_92466b980231442f935c098024b7308f",
        "IPY_MODEL_ea73508724e846629e5411389ae32e99",
        "IPY_MODEL_a3aaf3990e5f4c2290224724b77d070e"
       ],
       "default_style": "IPY_MODEL_1892484e6b14490088ae4aa675acaa8d",
       "dragging_style": "IPY_MODEL_8584b84f8152482ebcf46c8bfbbf8495",
       "east": 14.594842681895189,
       "fullscreen": false,
       "interpolation": "bilinear",
       "layers": [
        "IPY_MODEL_92340e4f178f410093e95758974c2f1d",
        "IPY_MODEL_f079b21f486c4c579ddebd767c3f139a",
        "IPY_MODEL_80e182ecba4d4dccb944fc8e48b52095",
        "IPY_MODEL_2d9a4ed4c4894ae18a171ae408e6b7de",
        "IPY_MODEL_d9ddec86372342dfb0d59a5ef077720f"
       ],
       "layout": "IPY_MODEL_6e006cf35bc24884a44a07b8e1be752e",
       "left": 465,
       "max_zoom": 24,
       "modisdate": "2024-01-24",
       "north": 56.46249048388979,
       "options": [
        "bounce_at_zoom_limits",
        "box_zoom",
        "center",
        "close_popup_on_click",
        "double_click_zoom",
        "dragging",
        "fullscreen",
        "inertia",
        "inertia_deceleration",
        "inertia_max_speed",
        "interpolation",
        "keyboard",
        "keyboard_pan_offset",
        "keyboard_zoom_offset",
        "max_zoom",
        "min_zoom",
        "prefer_canvas",
        "scroll_wheel_zoom",
        "tap",
        "tap_tolerance",
        "touch_zoom",
        "world_copy_jump",
        "zoom",
        "zoom_animation_threshold",
        "zoom_delta",
        "zoom_snap"
       ],
       "prefer_canvas": false,
       "right": 1107.0284383681148,
       "scroll_wheel_zoom": true,
       "south": -34.45999036422665,
       "style": "IPY_MODEL_1892484e6b14490088ae4aa675acaa8d",
       "top": 633,
       "west": -98.26171875000001,
       "window_url": "https://jupyterhub.cuahsi.org/user/torresrua/lab/tree/courses/RS_of_Land_Surfaces_laboratory/Lab%200%20Getting%20to%20know%20EarthEngine%20(Part%202).ipynb",
       "zoom": 3
      }
     },
     "cf8557dc1c674036997b7435ece577ea": {
      "model_module": "@jupyter-widgets/controls",
      "model_module_version": "2.0.0",
      "model_name": "HTMLStyleModel",
      "state": {
       "description_width": "",
       "font_size": null,
       "text_color": null
      }
     },
     "d021d1d6ea494724839393f6a3845840": {
      "model_module": "@jupyter-widgets/controls",
      "model_module_version": "2.0.0",
      "model_name": "ToggleButtonModel",
      "state": {
       "button_style": "primary",
       "icon": "gears",
       "layout": "IPY_MODEL_71be9e1b4b7a4972bbaba732dd180e97",
       "style": "IPY_MODEL_27c61ce130534b70b1f2345701b70086",
       "tooltip": "WhiteboxTools for local geoprocessing"
      }
     },
     "d09a929ea6d74eb7a3456a9c2cfdac59": {
      "model_module": "@jupyter-widgets/base",
      "model_module_version": "2.0.0",
      "model_name": "LayoutModel",
      "state": {
       "height": "28px",
       "padding": "0px 0px 0px 4px",
       "width": "28px"
      }
     },
     "d16da295359f4dd58c943038d7fdc7f3": {
      "model_module": "@jupyter-widgets/controls",
      "model_module_version": "2.0.0",
      "model_name": "ToggleButtonModel",
      "state": {
       "icon": "wrench",
       "layout": "IPY_MODEL_678f49c0bec945f8ab58e1dc0a90f71a",
       "style": "IPY_MODEL_6c4c814d4d0a41ac8ea81d95859ff96c",
       "tooltip": "Toolbar"
      }
     },
     "d1aa41f059e94fceb424f4f8712e4472": {
      "model_module": "jupyter-leaflet",
      "model_module_version": "^0.17",
      "model_name": "LeafletTileLayerModel",
      "state": {
       "_model_module_version": "^0.17",
       "_view_module_version": "^0.17",
       "attribution": "Google",
       "max_zoom": 24,
       "name": "Google Maps",
       "options": [
        "attribution",
        "bounds",
        "detect_retina",
        "max_native_zoom",
        "max_zoom",
        "min_native_zoom",
        "min_zoom",
        "no_wrap",
        "tile_size",
        "tms",
        "zoom_offset"
       ],
       "url": "https://mt1.google.com/vt/lyrs=m&x={x}&y={y}&z={z}"
      }
     },
     "d39cec9907b34ff6be703eeb5b105e80": {
      "model_module": "ipyevents",
      "model_module_version": "2.0.2",
      "model_name": "EventModel",
      "state": {
       "_supported_key_events": [
        "keydown",
        "keyup"
       ],
       "_supported_mouse_events": [
        "click",
        "auxclick",
        "dblclick",
        "mouseenter",
        "mouseleave",
        "mousedown",
        "mouseup",
        "mousemove",
        "wheel",
        "contextmenu",
        "dragstart",
        "drag",
        "dragend",
        "dragenter",
        "dragover",
        "dragleave",
        "drop"
       ],
       "_supported_touch_events": [
        "touchstart",
        "touchend",
        "touchmove",
        "touchcancel"
       ],
       "_view_module": "@jupyter-widgets/controls",
       "source": "IPY_MODEL_546f9cb3f8fb496d8b11e952043e337c",
       "throttle_or_debounce": "",
       "watched_events": [
        "mouseenter",
        "mouseleave"
       ],
       "xy_coordinate_system": ""
      }
     },
     "d3cc0a5335d2476b9d4b40fa91f1f44e": {
      "model_module": "@jupyter-widgets/controls",
      "model_module_version": "2.0.0",
      "model_name": "DropdownModel",
      "state": {
       "index": null,
       "layout": "IPY_MODEL_6e9a18c70dba4d118cfa064fb53642e6",
       "style": "IPY_MODEL_614fb0e393be4eb590bed936e49b9306"
      }
     },
     "d3f39bff6bbb4c7ea105ec52df0ef5c5": {
      "model_module": "@jupyter-widgets/base",
      "model_module_version": "2.0.0",
      "model_name": "LayoutModel",
      "state": {}
     },
     "d4f44fe2f9a04fa7bb64285ba9958874": {
      "model_module": "@jupyter-widgets/controls",
      "model_module_version": "2.0.0",
      "model_name": "ToggleButtonModel",
      "state": {
       "button_style": "primary",
       "icon": "hand-o-up",
       "layout": "IPY_MODEL_24f1554c9a0e4d20a1e421e6fd7a0247",
       "style": "IPY_MODEL_46cd8bbbbd924032b11a6dc2c60d33f6",
       "tooltip": "Collect training samples"
      }
     },
     "d53e438e9f144fc9937af13ecc21358d": {
      "model_module": "@jupyter-widgets/controls",
      "model_module_version": "2.0.0",
      "model_name": "VBoxModel",
      "state": {
       "children": [
        "IPY_MODEL_3d2e966d214c424dac9276422a3eef75",
        "IPY_MODEL_6cc7fff9bebf4ce49d0d2b4da27eba24"
       ],
       "layout": "IPY_MODEL_9ae2f9230c12481daf4acd448573b371"
      }
     },
     "d542e05e90c34484badbe174683341f5": {
      "model_module": "@jupyter-widgets/controls",
      "model_module_version": "2.0.0",
      "model_name": "ToggleButtonModel",
      "state": {
       "button_style": "primary",
       "icon": "info",
       "layout": "IPY_MODEL_9bbc13463c3145e7a96bf34e791ba98a",
       "style": "IPY_MODEL_564fcb8e1d8d4c66a51f9cb42a243937",
       "tooltip": "Inspector"
      }
     },
     "d5894bc748854ac38ed7b3bcf0166383": {
      "model_module": "@jupyter-widgets/base",
      "model_module_version": "2.0.0",
      "model_name": "LayoutModel",
      "state": {
       "height": "28px",
       "width": "72px"
      }
     },
     "d5f4598a711342349ccb847878ac48c8": {
      "model_module": "@jupyter-widgets/controls",
      "model_module_version": "2.0.0",
      "model_name": "DescriptionStyleModel",
      "state": {
       "description_width": ""
      }
     },
     "d6096113627b4011ab7e036e50011aaa": {
      "model_module": "@jupyter-widgets/controls",
      "model_module_version": "2.0.0",
      "model_name": "ToggleButtonModel",
      "state": {
       "button_style": "primary",
       "icon": "adjust",
       "layout": "IPY_MODEL_8b7e3ad8344a4c26a6a005a7f8e0a3ff",
       "style": "IPY_MODEL_24eee1e67e7248419995e76dca0567af",
       "tooltip": "Planet imagery"
      }
     },
     "d618c2fcc23d42f8b6dad47b94ddc7cd": {
      "model_module": "@jupyter-widgets/controls",
      "model_module_version": "2.0.0",
      "model_name": "ToggleButtonModel",
      "state": {
       "button_style": "primary",
       "icon": "random",
       "layout": "IPY_MODEL_16f13975408e479d9cbe9ac3c7b5f93e",
       "style": "IPY_MODEL_8c41720c316f48aeb30a21a7cb5e9d0c",
       "tooltip": "Sankey plots"
      }
     },
     "d682b0efd65b410f9f3abe340e47eecb": {
      "model_module": "@jupyter-widgets/controls",
      "model_module_version": "2.0.0",
      "model_name": "ToggleButtonModel",
      "state": {
       "icon": "server",
       "layout": "IPY_MODEL_48156d3f0fe246edbd360f39c3c139e0",
       "style": "IPY_MODEL_94054a9d79034b98af813895f424b231",
       "tooltip": "Layers"
      }
     },
     "d6b9762d70a340c587351a663ed60257": {
      "model_module": "@jupyter-widgets/controls",
      "model_module_version": "2.0.0",
      "model_name": "ToggleButtonModel",
      "state": {
       "icon": "wrench",
       "layout": "IPY_MODEL_d09a929ea6d74eb7a3456a9c2cfdac59",
       "style": "IPY_MODEL_ca7590cdf7f44d41871d1f030c145f8a",
       "tooltip": "Toolbar"
      }
     },
     "d75ade9e50464d68bfae5535c996cc44": {
      "model_module": "@jupyter-widgets/controls",
      "model_module_version": "2.0.0",
      "model_name": "ToggleButtonStyleModel",
      "state": {
       "description_width": "",
       "font_family": null,
       "font_size": null,
       "font_style": null,
       "font_variant": null,
       "font_weight": null,
       "text_color": null,
       "text_decoration": null
      }
     },
     "d7d0ca49ee0a461ead05232339b83acd": {
      "model_module": "@jupyter-widgets/output",
      "model_module_version": "1.0.0",
      "model_name": "OutputModel",
      "state": {
       "layout": "IPY_MODEL_6aa6187d1e5448fcbaae5a249e3106f7"
      }
     },
     "d860b7488d87444cb6ed847d9138823f": {
      "model_module": "@jupyter-widgets/controls",
      "model_module_version": "2.0.0",
      "model_name": "ToggleButtonModel",
      "state": {
       "button_style": "primary",
       "icon": "gears",
       "layout": "IPY_MODEL_4814e39e86c8472ca34b2d3a10f8a765",
       "style": "IPY_MODEL_54660b17757440d9abf36bc6d7093659",
       "tooltip": "WhiteboxTools for local geoprocessing"
      }
     },
     "d8da7bec877943c0bbc5bbd10a25975a": {
      "model_module": "jupyter-leaflet",
      "model_module_version": "^0.17",
      "model_name": "LeafletMapStyleModel",
      "state": {
       "_model_module_version": "^0.17"
      }
     },
     "d972aae656b044d0b51fbb253c74994a": {
      "model_module": "@jupyter-widgets/controls",
      "model_module_version": "2.0.0",
      "model_name": "ToggleButtonModel",
      "state": {
       "button_style": "primary",
       "icon": "gears",
       "layout": "IPY_MODEL_ee23735c8ced45ce9e99380a3e73de04",
       "style": "IPY_MODEL_0f69485e53a04e6481af9372a8388761",
       "tooltip": "WhiteboxTools for local geoprocessing"
      }
     },
     "d9c5d728fc9049a0ae41befa994e02d2": {
      "model_module": "jupyter-leaflet",
      "model_module_version": "^0.17",
      "model_name": "LeafletMapStyleModel",
      "state": {
       "_model_module_version": "^0.17"
      }
     },
     "d9c7ed69247641dd86dbcb443a7d5da2": {
      "model_module": "jupyter-leaflet",
      "model_module_version": "^0.17",
      "model_name": "LeafletAttributionControlModel",
      "state": {
       "_model_module_version": "^0.17",
       "_view_module_version": "^0.17",
       "options": [
        "position",
        "prefix"
       ],
       "position": "bottomright",
       "prefix": "ipyleaflet"
      }
     },
     "d9ddec86372342dfb0d59a5ef077720f": {
      "model_module": "jupyter-leaflet",
      "model_module_version": "^0.17",
      "model_name": "LeafletTileLayerModel",
      "state": {
       "_model_module_version": "^0.17",
       "_view_module_version": "^0.17",
       "attribution": "Google Earth Engine",
       "max_zoom": 24,
       "name": "CGIAR/SRTM90_V4 colormap",
       "options": [
        "attribution",
        "bounds",
        "detect_retina",
        "max_native_zoom",
        "max_zoom",
        "min_native_zoom",
        "min_zoom",
        "no_wrap",
        "tile_size",
        "tms",
        "zoom_offset"
       ],
       "url": "https://earthengine.googleapis.com/v1/projects/earthengine-legacy/maps/4a5e1eb9462ec6b6092a99ac24d6eaac-0038fa4dff2589188b13895559f516e5/tiles/{z}/{x}/{y}"
      }
     },
     "da408365a58c48b69ffd8e1337bcf528": {
      "model_module": "@jupyter-widgets/controls",
      "model_module_version": "2.0.0",
      "model_name": "HBoxModel",
      "state": {
       "children": [
        "IPY_MODEL_efebfd7004144376bcba0d0fb0498b20",
        "IPY_MODEL_0bc8d22de14c48f687aab6eb99d19088"
       ],
       "layout": "IPY_MODEL_73be8cab91e84306911338fead65ad8b"
      }
     },
     "da9e5a3d18684b839a83a9f2c161af4e": {
      "model_module": "@jupyter-widgets/controls",
      "model_module_version": "2.0.0",
      "model_name": "ToggleButtonModel",
      "state": {
       "button_style": "primary",
       "icon": "adjust",
       "layout": "IPY_MODEL_070c022525a1495da6b0d1b84bc29f1c",
       "style": "IPY_MODEL_efc8c88990c84b0eb3e388f1e6e055ba",
       "tooltip": "Planet imagery"
      }
     },
     "db604c4aae364800bf41ec9be4d8ec90": {
      "model_module": "jupyter-leaflet",
      "model_module_version": "^0.17",
      "model_name": "LeafletAttributionControlModel",
      "state": {
       "_model_module_version": "^0.17",
       "_view_module_version": "^0.17",
       "options": [
        "position",
        "prefix"
       ],
       "position": "bottomright",
       "prefix": "ipyleaflet"
      }
     },
     "dc2fe3287d6542e2950c612f4eb75d3e": {
      "model_module": "@jupyter-widgets/controls",
      "model_module_version": "2.0.0",
      "model_name": "VBoxModel",
      "state": {
       "children": [
        "IPY_MODEL_cd18eb16e4fe49638479d15a92d182ca"
       ],
       "layout": "IPY_MODEL_6df9838f5ac44a20905795c1ee67d579"
      }
     },
     "dd97caadac39425a8eb07d9b9a20e150": {
      "model_module": "@jupyter-widgets/controls",
      "model_module_version": "2.0.0",
      "model_name": "ToggleButtonModel",
      "state": {
       "button_style": "primary",
       "icon": "bar-chart",
       "layout": "IPY_MODEL_37ddd55fc54b4eeca301dd8935dab826",
       "style": "IPY_MODEL_98f205bd3af749acaa0ffb4243e61de5",
       "tooltip": "Plotting"
      }
     },
     "de091164d05042f393f02ec6bee34554": {
      "model_module": "@jupyter-widgets/base",
      "model_module_version": "2.0.0",
      "model_name": "LayoutModel",
      "state": {
       "height": "auto",
       "padding": "0px 0px 0px 4px",
       "width": "auto"
      }
     },
     "debdfe6107c649b3a5f9a9516cfa8527": {
      "model_module": "@jupyter-widgets/controls",
      "model_module_version": "2.0.0",
      "model_name": "ToggleButtonModel",
      "state": {
       "button_style": "primary",
       "icon": "info",
       "layout": "IPY_MODEL_30e51ea678b04caf9af9e345dc501793",
       "style": "IPY_MODEL_2506437aa33a4da1b1ff771412f51521",
       "tooltip": "Inspector"
      }
     },
     "dec572eb0c4a45c295dc2e7fc1c81978": {
      "model_module": "@jupyter-widgets/base",
      "model_module_version": "2.0.0",
      "model_name": "LayoutModel",
      "state": {
       "height": "auto",
       "padding": "0px 0px 0px 4px",
       "width": "auto"
      }
     },
     "ded9f60be26c4910a40d296ac23c54a7": {
      "model_module": "@jupyter-widgets/controls",
      "model_module_version": "2.0.0",
      "model_name": "HTMLStyleModel",
      "state": {
       "description_width": "",
       "font_size": null,
       "text_color": null
      }
     },
     "df1a2473cecf4e198aa806411b2b2a6b": {
      "model_module": "@jupyter-widgets/base",
      "model_module_version": "2.0.0",
      "model_name": "LayoutModel",
      "state": {
       "height": "auto",
       "padding": "0px 0px 0px 4px",
       "width": "auto"
      }
     },
     "df2f5796077a49cab90c15e1b347e0da": {
      "model_module": "@jupyter-widgets/controls",
      "model_module_version": "2.0.0",
      "model_name": "ToggleButtonModel",
      "state": {
       "button_style": "primary",
       "icon": "adjust",
       "layout": "IPY_MODEL_0ed32720ef9f447cad6fee9eb2274b7a",
       "style": "IPY_MODEL_7b8eb5e608444cdda082e6827442d1bd",
       "tooltip": "Planet imagery"
      }
     },
     "df5a6355d04a440da71c91dc58d6be3d": {
      "model_module": "@jupyter-widgets/base",
      "model_module_version": "2.0.0",
      "model_name": "LayoutModel",
      "state": {}
     },
     "e018e8f4309a4b5c883956b1ddaa8c22": {
      "model_module": "@jupyter-widgets/controls",
      "model_module_version": "2.0.0",
      "model_name": "TextStyleModel",
      "state": {
       "description_width": "",
       "font_size": null,
       "text_color": null
      }
     },
     "e120e403c5414837a924dde7ab16d082": {
      "model_module": "jupyter-leaflet",
      "model_module_version": "^0.17",
      "model_name": "LeafletFullScreenControlModel",
      "state": {
       "_model_module_version": "^0.17",
       "_view_module_version": "^0.17",
       "options": [
        "position"
       ]
      }
     },
     "e12e9700ebfc410885f4274f892ae84d": {
      "model_module": "@jupyter-widgets/controls",
      "model_module_version": "2.0.0",
      "model_name": "HTMLStyleModel",
      "state": {
       "description_width": "",
       "font_size": null,
       "text_color": null
      }
     },
     "e1500fd1476247a3bfbe6e19f2b802a9": {
      "model_module": "@jupyter-widgets/controls",
      "model_module_version": "2.0.0",
      "model_name": "DropdownModel",
      "state": {
       "index": null,
       "layout": "IPY_MODEL_a9f139904480449bb56ead1dbac53a58",
       "style": "IPY_MODEL_82015d5629a148f39dc86f9ab6972e01"
      }
     },
     "e16291d9571845f296d7c80fe89ccb66": {
      "model_module": "@jupyter-widgets/controls",
      "model_module_version": "2.0.0",
      "model_name": "ToggleButtonStyleModel",
      "state": {
       "description_width": "",
       "font_family": null,
       "font_size": null,
       "font_style": null,
       "font_variant": null,
       "font_weight": null,
       "text_color": null,
       "text_decoration": null
      }
     },
     "e1952b6d23e94ac5af3822c602b4ded2": {
      "model_module": "@jupyter-widgets/controls",
      "model_module_version": "2.0.0",
      "model_name": "HBoxModel",
      "state": {
       "children": [
        "IPY_MODEL_8a44a325e5c742c08b5e646a217337bc",
        "IPY_MODEL_d16da295359f4dd58c943038d7fdc7f3"
       ],
       "layout": "IPY_MODEL_cc38c7292766468088f83d884d7b2ec2"
      }
     },
     "e1ea35c092c54badae9c1aae5d3377bc": {
      "model_module": "@jupyter-widgets/base",
      "model_module_version": "2.0.0",
      "model_name": "LayoutModel",
      "state": {
       "height": "auto",
       "padding": "0px 0px 0px 4px",
       "width": "auto"
      }
     },
     "e26b16eb00c6403899266ae9fb2bdb83": {
      "model_module": "@jupyter-widgets/base",
      "model_module_version": "2.0.0",
      "model_name": "LayoutModel",
      "state": {
       "width": "340px"
      }
     },
     "e2e6d26226014a7b9fc975c61b924a80": {
      "model_module": "@jupyter-widgets/base",
      "model_module_version": "2.0.0",
      "model_name": "LayoutModel",
      "state": {
       "height": "auto",
       "padding": "0px 0px 0px 4px",
       "width": "auto"
      }
     },
     "e2efde4428d34838985e607687a5f104": {
      "model_module": "@jupyter-widgets/base",
      "model_module_version": "2.0.0",
      "model_name": "LayoutModel",
      "state": {
       "height": "auto",
       "padding": "0px 0px 0px 4px",
       "width": "auto"
      }
     },
     "e359c700938b422c9a247569cbcfd81e": {
      "model_module": "@jupyter-widgets/controls",
      "model_module_version": "2.0.0",
      "model_name": "ToggleButtonModel",
      "state": {
       "button_style": "primary",
       "icon": "line-chart",
       "layout": "IPY_MODEL_aa50d55cd03341e1b0a6a5a4adeba497",
       "style": "IPY_MODEL_5e942819bccd42878bf54dc4d81d5ee9",
       "tooltip": "Creating and plotting transects"
      }
     },
     "e43030694ccb4bc7a374610da31ee5d5": {
      "model_module": "jupyter-leaflet",
      "model_module_version": "^0.17",
      "model_name": "LeafletMapStyleModel",
      "state": {
       "_model_module_version": "^0.17"
      }
     },
     "e4475dec1446401ca8bd67a113c40654": {
      "model_module": "@jupyter-widgets/controls",
      "model_module_version": "2.0.0",
      "model_name": "ToggleButtonModel",
      "state": {
       "button_style": "primary",
       "icon": "line-chart",
       "layout": "IPY_MODEL_2b6774d5c5414eee95b2b683ef2cf819",
       "style": "IPY_MODEL_1c07ad8377c5408d844c06d0e767ba7d",
       "tooltip": "Creating and plotting transects"
      }
     },
     "e4d65a6439d94e119b1fd968c5c96bc7": {
      "model_module": "@jupyter-widgets/controls",
      "model_module_version": "2.0.0",
      "model_name": "ToggleButtonModel",
      "state": {
       "icon": "wrench",
       "layout": "IPY_MODEL_c3d203facf4f4e4ab7df69e4613b2d5b",
       "style": "IPY_MODEL_6cbfd5b7a9074ab6b5abd565e3139d77",
       "tooltip": "Toolbar"
      }
     },
     "e5b370eb9c7e463cab2793d2584a4204": {
      "model_module": "@jupyter-widgets/base",
      "model_module_version": "2.0.0",
      "model_name": "LayoutModel",
      "state": {
       "height": "28px",
       "padding": "0px 0px 0px 4px",
       "width": "28px"
      }
     },
     "e5e1bc33f8794fdcba0057d265b17345": {
      "model_module": "@jupyter-widgets/controls",
      "model_module_version": "2.0.0",
      "model_name": "ToggleButtonStyleModel",
      "state": {
       "description_width": "",
       "font_family": null,
       "font_size": null,
       "font_style": null,
       "font_variant": null,
       "font_weight": null,
       "text_color": null,
       "text_decoration": null
      }
     },
     "e6ea0882719b49398d5249362676ad40": {
      "model_module": "jupyter-leaflet",
      "model_module_version": "^0.17",
      "model_name": "LeafletMapStyleModel",
      "state": {
       "_model_module_version": "^0.17",
       "cursor": "move"
      }
     },
     "e72caff2ed6640d682e76f15d9f299b1": {
      "model_module": "@jupyter-widgets/controls",
      "model_module_version": "2.0.0",
      "model_name": "ToggleButtonsModel",
      "state": {
       "_options_labels": [
        "name/address",
        "lat-lon",
        "data"
       ],
       "button_style": "",
       "icons": [],
       "index": 0,
       "layout": "IPY_MODEL_0d2616b2733c4c619322f3faa12cbf67",
       "style": "IPY_MODEL_546fe96c9e7f4a4aa477c3eafe594161",
       "tooltips": [
        "Search by place name or address",
        "Search by lat-lon coordinates",
        "Search Earth Engine data catalog"
       ]
      }
     },
     "e79c18677ab54eaa9f7dd5619031936e": {
      "model_module": "jupyter-leaflet",
      "model_module_version": "^0.17",
      "model_name": "LeafletMapStyleModel",
      "state": {
       "_model_module_version": "^0.17"
      }
     },
     "e91e7c57d89246649bea3890f13ef3b6": {
      "model_module": "@jupyter-widgets/controls",
      "model_module_version": "2.0.0",
      "model_name": "VBoxModel",
      "state": {
       "children": [
        "IPY_MODEL_fcb28b8f9a09424fa6fe2ed582764c3c",
        "IPY_MODEL_fa92ee60d41d499787c44bcb08282fd3"
       ],
       "layout": "IPY_MODEL_5e5800848aa44ab384ca165c5f5b840b"
      }
     },
     "e9578bd139fa4afabe51b44387955a73": {
      "model_module": "@jupyter-widgets/controls",
      "model_module_version": "2.0.0",
      "model_name": "HTMLModel",
      "state": {
       "layout": "IPY_MODEL_eb78c316232d4851bddb700b7bf62b6a",
       "style": "IPY_MODEL_cf8557dc1c674036997b7435ece577ea"
      }
     },
     "e9a30b8ca0ad4f9cb2ba0a42fbd775ee": {
      "model_module": "@jupyter-widgets/controls",
      "model_module_version": "2.0.0",
      "model_name": "RadioButtonsModel",
      "state": {
       "index": null,
       "layout": "IPY_MODEL_4144b6d36c8541a794c5eae8985cfa45",
       "style": "IPY_MODEL_645310f476e14b5d8fee4321f7849ff1"
      }
     },
     "e9a37f595876444bb64f07c9d4d71a9b": {
      "model_module": "@jupyter-widgets/base",
      "model_module_version": "2.0.0",
      "model_name": "LayoutModel",
      "state": {
       "max_width": "57px",
       "min_width": "57px"
      }
     },
     "e9d1d178422a4a188fc8684223aa8598": {
      "model_module": "@jupyter-widgets/controls",
      "model_module_version": "2.0.0",
      "model_name": "HTMLModel",
      "state": {
       "layout": "IPY_MODEL_54be683713da4d40920b210e90604bd9",
       "style": "IPY_MODEL_babf22554846461c8ccf5e03890decac"
      }
     },
     "ea73508724e846629e5411389ae32e99": {
      "model_module": "jupyter-leaflet",
      "model_module_version": "^0.17",
      "model_name": "LeafletWidgetControlModel",
      "state": {
       "_model_module": "jupyter-leaflet",
       "_model_module_version": "^0.17",
       "_view_count": null,
       "_view_module": "jupyter-leaflet",
       "_view_module_version": "^0.17",
       "options": [
        "position",
        "transparent_bg"
       ],
       "position": "topright",
       "widget": "IPY_MODEL_5e734c4e13194355bf5f30398eba474a"
      }
     },
     "eaafd04c973541cea2a5235fcf2c1ab5": {
      "model_module": "@jupyter-widgets/base",
      "model_module_version": "2.0.0",
      "model_name": "LayoutModel",
      "state": {
       "max_height": "350px",
       "max_width": "340px",
       "overflow": "scroll"
      }
     },
     "eb78c316232d4851bddb700b7bf62b6a": {
      "model_module": "@jupyter-widgets/base",
      "model_module_version": "2.0.0",
      "model_name": "LayoutModel",
      "state": {}
     },
     "ebbc72bd17434b2ab94f5ab7c787f7c2": {
      "model_module": "@jupyter-widgets/base",
      "model_module_version": "2.0.0",
      "model_name": "LayoutModel",
      "state": {
       "height": "auto",
       "padding": "0px 0px 0px 4px",
       "width": "auto"
      }
     },
     "ebf7d1ec59874944b4835e795a52f5fa": {
      "model_module": "@jupyter-widgets/controls",
      "model_module_version": "2.0.0",
      "model_name": "HTMLModel",
      "state": {
       "layout": "IPY_MODEL_2be08e496118454cbb78821a05ac691d",
       "style": "IPY_MODEL_e12e9700ebfc410885f4274f892ae84d"
      }
     },
     "ee23735c8ced45ce9e99380a3e73de04": {
      "model_module": "@jupyter-widgets/base",
      "model_module_version": "2.0.0",
      "model_name": "LayoutModel",
      "state": {
       "height": "auto",
       "padding": "0px 0px 0px 4px",
       "width": "auto"
      }
     },
     "eec6839d542d4891b7e546ae3bfd74bf": {
      "model_module": "@jupyter-widgets/base",
      "model_module_version": "2.0.0",
      "model_name": "LayoutModel",
      "state": {}
     },
     "ef34c8f5863e4144a243d2c9c534f6fb": {
      "model_module": "@jupyter-widgets/base",
      "model_module_version": "2.0.0",
      "model_name": "LayoutModel",
      "state": {
       "height": "auto",
       "padding": "0px 0px 0px 4px",
       "width": "auto"
      }
     },
     "efc8c88990c84b0eb3e388f1e6e055ba": {
      "model_module": "@jupyter-widgets/controls",
      "model_module_version": "2.0.0",
      "model_name": "ToggleButtonStyleModel",
      "state": {
       "description_width": "",
       "font_family": null,
       "font_size": null,
       "font_style": null,
       "font_variant": null,
       "font_weight": null,
       "text_color": null,
       "text_decoration": null
      }
     },
     "efdba2045a0f4bf58e9f435c1b1498c8": {
      "model_module": "@jupyter-widgets/base",
      "model_module_version": "2.0.0",
      "model_name": "LayoutModel",
      "state": {}
     },
     "efebfd7004144376bcba0d0fb0498b20": {
      "model_module": "@jupyter-widgets/controls",
      "model_module_version": "2.0.0",
      "model_name": "ButtonModel",
      "state": {
       "button_style": "primary",
       "description": "import",
       "layout": "IPY_MODEL_69b33f4fa6274aa5b1a11117b73676f2",
       "style": "IPY_MODEL_6f792c86a3624d33b2a50a3cd2126dff",
       "tooltip": "Click to import the selected asset"
      }
     },
     "effe3174aedb480fa7e91e8025709832": {
      "model_module": "@jupyter-widgets/controls",
      "model_module_version": "2.0.0",
      "model_name": "ToggleButtonStyleModel",
      "state": {
       "description_width": "",
       "font_family": null,
       "font_size": null,
       "font_style": null,
       "font_variant": null,
       "font_weight": null,
       "text_color": null,
       "text_decoration": null
      }
     },
     "f005d3d92eb94d7e817837ef16871858": {
      "model_module": "jupyter-leaflet",
      "model_module_version": "^0.17",
      "model_name": "LeafletWidgetControlModel",
      "state": {
       "_model_module": "jupyter-leaflet",
       "_model_module_version": "^0.17",
       "_view_count": null,
       "_view_module": "jupyter-leaflet",
       "_view_module_version": "^0.17",
       "options": [
        "position",
        "transparent_bg"
       ],
       "position": "topright",
       "widget": "IPY_MODEL_ab7f2976474645b69a663772cd71d996"
      }
     },
     "f079b21f486c4c579ddebd767c3f139a": {
      "model_module": "jupyter-leaflet",
      "model_module_version": "^0.17",
      "model_name": "LeafletTileLayerModel",
      "state": {
       "_model_module_version": "^0.17",
       "_view_module_version": "^0.17",
       "attribution": "Google",
       "max_zoom": 24,
       "name": "Google Maps",
       "options": [
        "attribution",
        "bounds",
        "detect_retina",
        "max_native_zoom",
        "max_zoom",
        "min_native_zoom",
        "min_zoom",
        "no_wrap",
        "tile_size",
        "tms",
        "zoom_offset"
       ],
       "url": "https://mt1.google.com/vt/lyrs=m&x={x}&y={y}&z={z}"
      }
     },
     "f45bbbb9b668450d9bbfecbfb61bb9f3": {
      "model_module": "@jupyter-widgets/controls",
      "model_module_version": "2.0.0",
      "model_name": "ToggleButtonModel",
      "state": {
       "button_style": "primary",
       "icon": "eraser",
       "layout": "IPY_MODEL_fd6a298dcf834cba88810cdb5b6a83ea",
       "style": "IPY_MODEL_863535896c24478885b64c7eda6f8525",
       "tooltip": "Remove all drawn features"
      }
     },
     "f495277d36fc4368b66c623b9262f187": {
      "model_module": "@jupyter-widgets/controls",
      "model_module_version": "2.0.0",
      "model_name": "HBoxModel",
      "state": {
       "_view_count": 1,
       "children": [
        "IPY_MODEL_bfb87d08c8de464299e8279ef77b3d4d"
       ],
       "layout": "IPY_MODEL_6dac79b670814972ae6cad979a9bb982"
      }
     },
     "f4ce819e700a44999b562038693cfaab": {
      "model_module": "@jupyter-widgets/controls",
      "model_module_version": "2.0.0",
      "model_name": "ToggleButtonModel",
      "state": {
       "button_style": "primary",
       "icon": "plus",
       "layout": "IPY_MODEL_48f10a430f2f4fc1b2889eccc0f3bbb2",
       "style": "IPY_MODEL_05383d636287453da2016d95670a5ad1",
       "tooltip": "Expand toolbar"
      }
     },
     "f57eabf2050b415cb92e274912da7490": {
      "model_module": "@jupyter-widgets/controls",
      "model_module_version": "2.0.0",
      "model_name": "ToggleButtonModel",
      "state": {
       "button_style": "primary",
       "icon": "adjust",
       "layout": "IPY_MODEL_698e5a7d31e84b9399114e20d23ec204",
       "style": "IPY_MODEL_956197bd684c49de9836277977d82711",
       "tooltip": "Planet imagery"
      }
     },
     "f6e25184a8f8472b899e99664cf40ebc": {
      "model_module": "@jupyter-widgets/base",
      "model_module_version": "2.0.0",
      "model_name": "LayoutModel",
      "state": {
       "max_height": "350px",
       "max_width": "340px",
       "overflow": "scroll"
      }
     },
     "f80e6a42c1d54940ad1ddd15d49b3099": {
      "model_module": "jupyter-leaflet",
      "model_module_version": "^0.17",
      "model_name": "LeafletMapStyleModel",
      "state": {
       "_model_module_version": "^0.17"
      }
     },
     "f94b83ba646b4a21a29bf5f100383502": {
      "model_module": "@jupyter-widgets/controls",
      "model_module_version": "2.0.0",
      "model_name": "ToggleButtonStyleModel",
      "state": {
       "description_width": "",
       "font_family": null,
       "font_size": null,
       "font_style": null,
       "font_variant": null,
       "font_weight": null,
       "text_color": null,
       "text_decoration": null
      }
     },
     "fa630f054ad748f5935dbfd3f199f3e4": {
      "model_module": "@jupyter-widgets/base",
      "model_module_version": "2.0.0",
      "model_name": "LayoutModel",
      "state": {
       "max_width": "279px",
       "min_width": "279px"
      }
     },
     "fa92ee60d41d499787c44bcb08282fd3": {
      "model_module": "@jupyter-widgets/controls",
      "model_module_version": "2.0.0",
      "model_name": "TextModel",
      "state": {
       "layout": "IPY_MODEL_87aa95a33aca47f2ad594149c72a3ec9",
       "placeholder": "Search by place name or address",
       "style": "IPY_MODEL_c1465d1588794a0b8f4cfe4d920734a8",
       "tooltip": "Search location"
      }
     },
     "fbba4fa5b2134e5880b9959e38ad12e9": {
      "model_module": "jupyter-leaflet",
      "model_module_version": "^0.17",
      "model_name": "LeafletMeasureControlModel",
      "state": {
       "_model_module_version": "^0.17",
       "_view_module_version": "^0.17",
       "active_color": "orange",
       "options": [
        "active_color",
        "capture_z_index",
        "completed_color",
        "popup_options",
        "position",
        "primary_area_unit",
        "primary_length_unit",
        "secondary_area_unit",
        "secondary_length_unit"
       ],
       "position": "bottomleft",
       "primary_length_unit": "kilometers",
       "secondary_area_unit": null,
       "secondary_length_unit": null
      }
     },
     "fc9597ef59a049ca9db6940faf47d566": {
      "model_module": "@jupyter-widgets/controls",
      "model_module_version": "2.0.0",
      "model_name": "ButtonStyleModel",
      "state": {
       "font_family": null,
       "font_size": null,
       "font_style": null,
       "font_variant": null,
       "font_weight": null,
       "text_color": null,
       "text_decoration": null
      }
     },
     "fcb28b8f9a09424fa6fe2ed582764c3c": {
      "model_module": "@jupyter-widgets/controls",
      "model_module_version": "2.0.0",
      "model_name": "ToggleButtonsModel",
      "state": {
       "_options_labels": [
        "name/address",
        "lat-lon",
        "data"
       ],
       "button_style": "",
       "icons": [],
       "index": 0,
       "layout": "IPY_MODEL_8cf09f9e13f04a209b23e23484df4496",
       "style": "IPY_MODEL_674c92cb7d9a4578ab07b219cc542e64",
       "tooltips": [
        "Search by place name or address",
        "Search by lat-lon coordinates",
        "Search Earth Engine data catalog"
       ]
      }
     },
     "fcb79a059a5348338b1a7eb6b037873c": {
      "model_module": "@jupyter-widgets/controls",
      "model_module_version": "2.0.0",
      "model_name": "ToggleButtonStyleModel",
      "state": {
       "description_width": "",
       "font_family": null,
       "font_size": null,
       "font_style": null,
       "font_variant": null,
       "font_weight": null,
       "text_color": null,
       "text_decoration": null
      }
     },
     "fd437ff698e347c3a8d0b5b376bbb011": {
      "model_module": "@jupyter-widgets/controls",
      "model_module_version": "2.0.0",
      "model_name": "ToggleButtonModel",
      "state": {
       "button_style": "primary",
       "icon": "info",
       "layout": "IPY_MODEL_92c742ec93014e88bf8e6da7078c662c",
       "style": "IPY_MODEL_bb726b32a8974c4e929a3283b86acc27",
       "tooltip": "Inspector"
      }
     },
     "fd6a298dcf834cba88810cdb5b6a83ea": {
      "model_module": "@jupyter-widgets/base",
      "model_module_version": "2.0.0",
      "model_name": "LayoutModel",
      "state": {
       "height": "auto",
       "padding": "0px 0px 0px 4px",
       "width": "auto"
      }
     },
     "fec023b3acae4a1a94b628ada2cace3a": {
      "model_module": "@jupyter-widgets/base",
      "model_module_version": "2.0.0",
      "model_name": "LayoutModel",
      "state": {
       "height": "auto",
       "padding": "0px 0px 0px 4px",
       "width": "auto"
      }
     },
     "feec43667d11435db734e3a55b7816ef": {
      "model_module": "@jupyter-widgets/controls",
      "model_module_version": "2.0.0",
      "model_name": "ToggleButtonStyleModel",
      "state": {
       "description_width": "",
       "font_family": null,
       "font_size": null,
       "font_style": null,
       "font_variant": null,
       "font_weight": null,
       "text_color": null,
       "text_decoration": null
      }
     }
    },
    "version_major": 2,
    "version_minor": 0
   }
  }
 },
 "nbformat": 4,
 "nbformat_minor": 4
}
