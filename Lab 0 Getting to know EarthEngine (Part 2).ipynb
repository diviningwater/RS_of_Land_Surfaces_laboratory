{
 "cells": [
  {
   "cell_type": "markdown",
   "metadata": {},
   "source": [
    "## Introduction\n",
    "\n",
    "Google EarthEngine *GEE* is a remote sensing repository with steroids. So it is much more than just a storage service. \n",
    "\n",
    "GEE allows you to:\n",
    "\n",
    "1) Query, retrieve, and clip specific remote sensing and vector data for your needs (area of study). As any repository should do.\n",
    "\n",
    "2) Process/filter the remote sensing data before bringing it to your local or HydroShare storage. For example, clouded pixels can be \"filtered\" and NDVI values calculated before importing the e.g. timeseries files.\n",
    "\n",
    "3) Connect the EarthEngine datasets to live applications (e.g. an app). An example of this is the EEFlux project: https://eeflux-level1.appspot.com/\n",
    "\n",
    "We need to learn some of the GEE terminology to get it to work. This notebook will be your guide. Let's begin:"
   ]
  },
  {
   "cell_type": "markdown",
   "metadata": {},
   "source": [
    "## Visualizing Images and Images Bands:\n",
    "\n",
    "Visualizing Images using GEE requires the use of the geemap module. \n"
   ]
  },
  {
   "cell_type": "code",
   "execution_count": 1,
   "metadata": {
    "scrolled": true
   },
   "outputs": [
    {
     "data": {
      "application/vnd.jupyter.widget-view+json": {
       "model_id": "e2324b035f4e47849eba48f803c7cf74",
       "version_major": 2,
       "version_minor": 0
      },
      "text/plain": [
       "Map(center=[40, -100], controls=(WidgetControl(options=['position', 'transparent_bg'], widget=HBox(children=(T…"
      ]
     },
     "execution_count": 1,
     "metadata": {},
     "output_type": "execute_result"
    }
   ],
   "source": [
    "import ee\n",
    "import geemap\n",
    "\n",
    "Map = geemap.Map(center=(40, -100), zoom=4)\n",
    "Map"
   ]
  },
  {
   "cell_type": "markdown",
   "metadata": {},
   "source": [
    "### Visualizing an image"
   ]
  },
  {
   "cell_type": "code",
   "execution_count": 3,
   "metadata": {},
   "outputs": [],
   "source": [
    "# add layer\n",
    "image = ee.Image('CGIAR/SRTM90_V4');\n",
    "Map.addLayer(image, {}, name='CGIAR/SRTM90_V4')\n",
    "\n"
   ]
  },
  {
   "cell_type": "markdown",
   "metadata": {},
   "source": [
    "Observe that a very white image appears on the map. Don't worry, you'll make it look better soon.\n",
    "\n",
    "## Digression: Images in Earth Engine\n",
    "Images in Earth Engine (see this page for more details) are made up of one or more bands. Each band in an image has its own name, pixel values, pixel resolution, and projection. As you'll soon discover, the SRTM image has one band: 'elevation'.\n",
    "\n",
    "When you add an image to a map using *Map.add_layer()*, Earth Engine needs to determine how to map the values in the image band(s) to colors on the display. If a single-band image is added to a map, by default Earth Engine displays the band in grayscale, where the minimum value is assigned to black, and the maximum value is assigned to white. If you don't specify what the minimum and maximum should be, Earth Engine will use default values. For example, the image you just added to the map is displayed as a grayscale image stretched to the full range of the data, or signed 16-bit integer [-32768, 32767]. (float bands are stretched to [0, 1] and byte bands are stretched to [0, 255] by default).\n",
    "\n",
    "You can discover the data type of the image by printing it and inspecting the image object in the Console tab. For example, run the following after the previous code:"
   ]
  },
  {
   "cell_type": "code",
   "execution_count": 4,
   "metadata": {},
   "outputs": [
    {
     "name": "stdout",
     "output_type": "stream",
     "text": [
      "SRTM image ['elevation']\n",
      "SRTM image {'elevation': {'type': 'PixelType', 'precision': 'int', 'min': -32768, 'max': 32767}}\n"
     ]
    }
   ],
   "source": [
    "print('SRTM image', image.bandNames().getInfo());\n",
    "print('SRTM image', image.bandTypes().getInfo());"
   ]
  },
  {
   "cell_type": "markdown",
   "metadata": {},
   "source": [
    "See that there is only one bands called 'elevation' band at index '0' and the 'data_type' property of the 'elevation' band is a signed int16 data type.\n",
    "\n",
    "## Customizing layer visualization\n",
    "To change the way the data are stretched, you can provide another parameter to the *image* variable. Specifically, a second parameter, *visualize()*, lets you specify the minimum and maximum values to display. To discover what values to use, see the *bandTypes().getInfo()* information above. Suppose that you determine that the data should be stretched to [0, 3000]. To display the image using this range, use:"
   ]
  },
  {
   "cell_type": "code",
   "execution_count": 9,
   "metadata": {},
   "outputs": [
    {
     "data": {
      "application/vnd.jupyter.widget-view+json": {
       "model_id": "82e44e8b332f4660a03939e3a7e15a7a",
       "version_major": 2,
       "version_minor": 0
      },
      "text/plain": [
       "Map(bottom=1851.0, center=[40, -100], controls=(WidgetControl(options=['position', 'transparent_bg'], widget=H…"
      ]
     },
     "metadata": {},
     "output_type": "display_data"
    }
   ],
   "source": [
    "image2=image\n",
    "\n",
    "Map.addLayer(image2, {'min':0,'max':3000}, name='CGIAR/SRTM90_V4 stretched')\n",
    "Map\n"
   ]
  },
  {
   "cell_type": "markdown",
   "metadata": {},
   "source": [
    "To display a single band using a color palette, add a palette property to the visParams object. We can use the seaborn python module to create hexadecimal palettes. To know more about paletes, see this link: https://chrisalbon.com/python/data_visualization/seaborn_color_palettes/\n"
   ]
  },
  {
   "cell_type": "code",
   "execution_count": 5,
   "metadata": {},
   "outputs": [],
   "source": [
    "# import seaborn as sns"
   ]
  },
  {
   "cell_type": "code",
   "execution_count": 10,
   "metadata": {},
   "outputs": [
    {
     "data": {
      "application/vnd.jupyter.widget-view+json": {
       "model_id": "82e44e8b332f4660a03939e3a7e15a7a",
       "version_major": 2,
       "version_minor": 0
      },
      "text/plain": [
       "Map(bottom=1851.0, center=[40, -100], controls=(WidgetControl(options=['position', 'transparent_bg'], widget=H…"
      ]
     },
     "metadata": {},
     "output_type": "display_data"
    }
   ],
   "source": [
    "# color ramp based on hexadecimal values:\n",
    "# check this link: https://seaborn.pydata.org/tutorial/color_palettes.html\n",
    "# pal = sns.color_palette('cubehelix', 5)\n",
    "# palette =pal.as_hex()\n",
    "\n",
    "# we can use color names!\n",
    "palette =['red','yellow', 'green', 'blue', 'purple']\n",
    "image3=image\n",
    "\n",
    "Map.addLayer(image3, {'min':0,'max':3000,'palette': palette}, name='CGIAR/SRTM90_V4 colormap')\n",
    "Map\n"
   ]
  },
  {
   "cell_type": "code",
   "execution_count": null,
   "metadata": {},
   "outputs": [],
   "source": []
  }
 ],
 "metadata": {
  "celltoolbar": "Slideshow",
  "kernelspec": {
   "display_name": "Python 3 (ipykernel)",
   "language": "python",
   "name": "python3"
  },
  "language_info": {
   "codemirror_mode": {
    "name": "ipython",
    "version": 3
   },
   "file_extension": ".py",
   "mimetype": "text/x-python",
   "name": "python",
   "nbconvert_exporter": "python",
   "pygments_lexer": "ipython3",
   "version": "3.9.7"
  },
  "latex_envs": {
   "LaTeX_envs_menu_present": true,
   "autoclose": false,
   "autocomplete": true,
   "bibliofile": "biblio.bib",
   "cite_by": "apalike",
   "current_citInitial": 1,
   "eqLabelWithNumbers": true,
   "eqNumInitial": 1,
   "hotkeys": {
    "equation": "Ctrl-E",
    "itemize": "Ctrl-I"
   },
   "labels_anchors": false,
   "latex_user_defs": false,
   "report_style_numbering": false,
   "user_envs_cfg": false
  },
  "widgets": {
   "application/vnd.jupyter.widget-state+json": {
    "state": {
     "00fc21560d454d5baadd45e7700ffc7c": {
      "model_module": "@jupyter-widgets/controls",
      "model_module_version": "2.0.0",
      "model_name": "ToggleButtonsStyleModel",
      "state": {
       "button_width": "110px",
       "description_width": ""
      }
     },
     "023216504fe141e5b18ed49142c0a6c9": {
      "model_module": "@jupyter-widgets/controls",
      "model_module_version": "2.0.0",
      "model_name": "ToggleButtonModel",
      "state": {
       "icon": "wrench",
       "layout": "IPY_MODEL_45330c0a932b43af9ba926fa673e2163",
       "style": "IPY_MODEL_31948c7b9eae4cc09f1c11080ef15262",
       "tooltip": "Toolbar"
      }
     },
     "03edd879eec44b5b915cb6e31378812f": {
      "model_module": "@jupyter-widgets/controls",
      "model_module_version": "2.0.0",
      "model_name": "ToggleButtonStyleModel",
      "state": {
       "description_width": "",
       "font_family": null,
       "font_size": null,
       "font_style": null,
       "font_variant": null,
       "font_weight": null,
       "text_color": null,
       "text_decoration": null
      }
     },
     "04e99aea9d54459287c88a08a2ef7a5a": {
      "model_module": "@jupyter-widgets/controls",
      "model_module_version": "2.0.0",
      "model_name": "CheckboxStyleModel",
      "state": {
       "description_width": ""
      }
     },
     "05828e518552459986081ef9a158c0c4": {
      "model_module": "@jupyter-widgets/controls",
      "model_module_version": "2.0.0",
      "model_name": "ToggleButtonModel",
      "state": {
       "icon": "server",
       "layout": "IPY_MODEL_ede194969cc14dcd9a1039fa6e874fc8",
       "style": "IPY_MODEL_b4fe113e01ad4bcf8ff3c98ed4dd81ee",
       "tooltip": "Layers"
      }
     },
     "0593dfaee50644f6b0e0dbee58c039c5": {
      "model_module": "@jupyter-widgets/controls",
      "model_module_version": "2.0.0",
      "model_name": "ToggleButtonModel",
      "state": {
       "button_style": "primary",
       "icon": "random",
       "layout": "IPY_MODEL_643332d64bf3402eb5b64b7f0441ae64",
       "style": "IPY_MODEL_cf5693c4808246538625a61f65b9cf31",
       "tooltip": "Sankey plots"
      }
     },
     "061a89dde0dc41e183cf6ab3a1d73e12": {
      "model_module": "@jupyter-widgets/controls",
      "model_module_version": "2.0.0",
      "model_name": "LinkModel",
      "state": {
       "source": [
        "IPY_MODEL_8f47768f70cd44eeaaaf99ed96bc32c6",
        "value"
       ],
       "target": [
        "IPY_MODEL_f2248a37ff4440e1b132546ebe86b189",
        "visible"
       ]
      }
     },
     "0680ad2528404bccb0e0b20022914c57": {
      "model_module": "@jupyter-widgets/controls",
      "model_module_version": "2.0.0",
      "model_name": "LinkModel",
      "state": {
       "source": [
        "IPY_MODEL_88223f9e0a3440ddb9170862d7ac4e30",
        "value"
       ],
       "target": [
        "IPY_MODEL_54c7891c1cb248c687730d114491836c",
        "visible"
       ]
      }
     },
     "09f9da80c4de43a8a54ee98ff0912bc8": {
      "model_module": "@jupyter-widgets/controls",
      "model_module_version": "2.0.0",
      "model_name": "FloatSliderModel",
      "state": {
       "behavior": "drag-tap",
       "layout": "IPY_MODEL_4100c5bd684e4212bde02ba6c974e550",
       "max": 1,
       "readout": false,
       "step": 0.01,
       "style": "IPY_MODEL_c2250dcefb2544fc9b24e2d482e75200",
       "value": 1
      }
     },
     "0a4282ad8b02415f99f29212a3400934": {
      "model_module": "@jupyter-widgets/controls",
      "model_module_version": "2.0.0",
      "model_name": "DirectionalLinkModel",
      "state": {
       "source": [
        "IPY_MODEL_09f9da80c4de43a8a54ee98ff0912bc8",
        "value"
       ],
       "target": [
        "IPY_MODEL_54c7891c1cb248c687730d114491836c",
        "opacity"
       ]
      }
     },
     "0ac8ca2f3d7e4451a5ee52af3ada80cd": {
      "model_module": "jupyter-leaflet",
      "model_module_version": "^0.17",
      "model_name": "LeafletMapStyleModel",
      "state": {
       "_model_module_version": "^0.17"
      }
     },
     "0b13b289ffeb4edf9b14ff3c9c0a791a": {
      "model_module": "@jupyter-widgets/controls",
      "model_module_version": "2.0.0",
      "model_name": "HBoxModel",
      "state": {
       "children": [
        "IPY_MODEL_8f47768f70cd44eeaaaf99ed96bc32c6",
        "IPY_MODEL_4b0ffbac7c654b929204f1977b9e2dbc",
        "IPY_MODEL_97b5e332bb0f4c25a7fc75dad799d904"
       ],
       "layout": "IPY_MODEL_7b49a5af38214262b1c39919014a2afc"
      }
     },
     "0b2df8d2fcb74df8b6350fe3686e7f12": {
      "model_module": "@jupyter-widgets/controls",
      "model_module_version": "2.0.0",
      "model_name": "CheckboxModel",
      "state": {
       "description": "Google Maps",
       "disabled": false,
       "indent": false,
       "layout": "IPY_MODEL_e3b57d25baa24a58a41a71cdbea0ebd2",
       "style": "IPY_MODEL_04e99aea9d54459287c88a08a2ef7a5a",
       "value": true
      }
     },
     "0ce6db83e16a4b078809764a44697139": {
      "model_module": "@jupyter-widgets/base",
      "model_module_version": "2.0.0",
      "model_name": "LayoutModel",
      "state": {}
     },
     "0dfbb4390a2645d0b31614690779dc40": {
      "model_module": "@jupyter-widgets/controls",
      "model_module_version": "2.0.0",
      "model_name": "HTMLModel",
      "state": {
       "layout": "IPY_MODEL_7e460aa0ef214c6e8a2101c32f32790f",
       "style": "IPY_MODEL_f8a9df2bcdc3441989608c399b7f110d"
      }
     },
     "0dfbb900a52745d58501e03d7552411e": {
      "model_module": "@jupyter-widgets/base",
      "model_module_version": "2.0.0",
      "model_name": "LayoutModel",
      "state": {
       "height": "28px",
       "padding": "0px 0px 0px 4px",
       "width": "28px"
      }
     },
     "0f0538c8c5d04b499c98e2e4cd6955f8": {
      "model_module": "@jupyter-widgets/controls",
      "model_module_version": "2.0.0",
      "model_name": "ToggleButtonModel",
      "state": {
       "icon": "gear",
       "layout": "IPY_MODEL_710ec2fa7ebe4ef8b47346ee1be8e751",
       "style": "IPY_MODEL_3655588f6e58498e9c842faebaf50c93",
       "tooltip": "CGIAR/SRTM90_V4"
      }
     },
     "101546d2c55f4005a7883d07f389b704": {
      "model_module": "@jupyter-widgets/base",
      "model_module_version": "2.0.0",
      "model_name": "LayoutModel",
      "state": {
       "height": "28px",
       "padding": "0px 0px 0px 4px",
       "width": "28px"
      }
     },
     "10909d4ff9434428a2592674a8d39507": {
      "model_module": "@jupyter-widgets/base",
      "model_module_version": "2.0.0",
      "model_name": "LayoutModel",
      "state": {
       "height": "18px",
       "padding": "0px 8px 25px 8px",
       "width": "30ex"
      }
     },
     "134d697e0b894edcb907b665d73a4eb3": {
      "model_module": "@jupyter-widgets/controls",
      "model_module_version": "2.0.0",
      "model_name": "SliderStyleModel",
      "state": {
       "description_width": ""
      }
     },
     "13efbe63f50f4a0ab0fd8401f511aa75": {
      "model_module": "@jupyter-widgets/base",
      "model_module_version": "2.0.0",
      "model_name": "LayoutModel",
      "state": {
       "height": "auto",
       "padding": "0px 0px 0px 4px",
       "width": "auto"
      }
     },
     "15a0735b7c4045f9b476466c77993235": {
      "model_module": "@jupyter-widgets/base",
      "model_module_version": "2.0.0",
      "model_name": "LayoutModel",
      "state": {
       "height": "25px",
       "padding": "0px 0px 0px 5px",
       "width": "25px"
      }
     },
     "17d3eb8f65124586acb596929ee2d4dc": {
      "model_module": "@jupyter-widgets/controls",
      "model_module_version": "2.0.0",
      "model_name": "ToggleButtonStyleModel",
      "state": {
       "description_width": "",
       "font_family": null,
       "font_size": null,
       "font_style": null,
       "font_variant": null,
       "font_weight": null,
       "text_color": null,
       "text_decoration": null
      }
     },
     "23f50c8efc22412da7370df0dfff0573": {
      "model_module": "@jupyter-widgets/base",
      "model_module_version": "2.0.0",
      "model_name": "LayoutModel",
      "state": {}
     },
     "256f0e814593439ebf15285b66669edb": {
      "model_module": "@jupyter-widgets/controls",
      "model_module_version": "2.0.0",
      "model_name": "CheckboxModel",
      "state": {
       "description": "All layers on/off",
       "disabled": false,
       "indent": false,
       "layout": "IPY_MODEL_10909d4ff9434428a2592674a8d39507",
       "style": "IPY_MODEL_9a2e82e338e040fcb4d944552495007d",
       "value": false
      }
     },
     "26f2bcbde2074de7b4d578518083263a": {
      "model_module": "@jupyter-widgets/base",
      "model_module_version": "2.0.0",
      "model_name": "LayoutModel",
      "state": {}
     },
     "27dda21faee8410f8d6c0cc6f87c931b": {
      "model_module": "jupyter-leaflet",
      "model_module_version": "^0.17",
      "model_name": "LeafletMapStyleModel",
      "state": {
       "_model_module_version": "^0.17",
       "cursor": "move"
      }
     },
     "286ab848b27f47d8b3c8a7acdda7bbe1": {
      "model_module": "@jupyter-widgets/controls",
      "model_module_version": "2.0.0",
      "model_name": "ButtonModel",
      "state": {
       "button_style": "primary",
       "description": "import",
       "layout": "IPY_MODEL_d20cb46a7b8d4a6d9e77b3a03b99434c",
       "style": "IPY_MODEL_8c30c804ff7b49f68c57054c4d855dd6",
       "tooltip": "Click to import the selected asset"
      }
     },
     "288b48d0a2d34d2ba5514a16f4fa4f8b": {
      "model_module": "@jupyter-widgets/controls",
      "model_module_version": "2.0.0",
      "model_name": "ToggleButtonModel",
      "state": {
       "button_style": "primary",
       "icon": "times",
       "layout": "IPY_MODEL_0dfbb900a52745d58501e03d7552411e",
       "style": "IPY_MODEL_3617168999af46f7b2bd9c130d71a749",
       "tooltip": "Close the tool"
      }
     },
     "29ca4ff589fb43e3b5f59e9856a12a21": {
      "model_module": "@jupyter-widgets/base",
      "model_module_version": "2.0.0",
      "model_name": "LayoutModel",
      "state": {
       "height": "28px",
       "padding": "0px 0px 0px 4px",
       "width": "28px"
      }
     },
     "2a044fdabf1f40e1b911a85ad4c72dac": {
      "model_module": "@jupyter-widgets/controls",
      "model_module_version": "2.0.0",
      "model_name": "CheckboxStyleModel",
      "state": {
       "description_width": ""
      }
     },
     "2b21eb6997d4435c80d2d35c179d7ee6": {
      "model_module": "@jupyter-widgets/controls",
      "model_module_version": "2.0.0",
      "model_name": "VBoxModel",
      "state": {
       "children": [
        "IPY_MODEL_5055d4c3850b40c58c880534d306195f",
        "IPY_MODEL_6f6e717cda5d43409fe53ea27e359255"
       ],
       "layout": "IPY_MODEL_26f2bcbde2074de7b4d578518083263a"
      }
     },
     "2ca67e7874e9458dba1c9926785795d9": {
      "model_module": "jupyter-leaflet",
      "model_module_version": "^0.17",
      "model_name": "LeafletTileLayerModel",
      "state": {
       "_model_module_version": "^0.17",
       "_view_module_version": "^0.17",
       "attribution": "&copy; <a href=\"https://www.openstreetmap.org/copyright\">OpenStreetMap</a> contributors",
       "base": true,
       "max_zoom": 19,
       "min_zoom": 1,
       "name": "OpenStreetMap.Mapnik",
       "options": [
        "attribution",
        "bounds",
        "detect_retina",
        "max_native_zoom",
        "max_zoom",
        "min_native_zoom",
        "min_zoom",
        "no_wrap",
        "tile_size",
        "tms",
        "zoom_offset"
       ],
       "url": "https://tile.openstreetmap.org/{z}/{x}/{y}.png"
      }
     },
     "2e199721bf38484b885f66b60a38a59e": {
      "model_module": "@jupyter-widgets/controls",
      "model_module_version": "2.0.0",
      "model_name": "ToggleButtonModel",
      "state": {
       "button_style": "primary",
       "icon": "plus",
       "layout": "IPY_MODEL_b396483ee637447fb9fee59b0ae11adb",
       "style": "IPY_MODEL_9f6c59182d4e41b5a597ed9b8439c4c7",
       "tooltip": "Expand toolbar"
      }
     },
     "2e42f9016e4543a287c101d7c71fa569": {
      "model_module": "@jupyter-widgets/base",
      "model_module_version": "2.0.0",
      "model_name": "LayoutModel",
      "state": {}
     },
     "2f5d0c84d1e741a2b645876193db6450": {
      "model_module": "@jupyter-widgets/controls",
      "model_module_version": "2.0.0",
      "model_name": "LinkModel",
      "state": {
       "source": [
        "IPY_MODEL_0b2df8d2fcb74df8b6350fe3686e7f12",
        "value"
       ],
       "target": [
        "IPY_MODEL_f2248a37ff4440e1b132546ebe86b189",
        "visible"
       ]
      }
     },
     "2fb1d45e68c14e84bd23f9daf85cd3ed": {
      "model_module": "@jupyter-widgets/base",
      "model_module_version": "2.0.0",
      "model_name": "LayoutModel",
      "state": {
       "height": "auto",
       "padding": "0px 0px 0px 4px",
       "width": "auto"
      }
     },
     "305697cf31a149c4b0a861ed7e6544f6": {
      "model_module": "jupyter-leaflet",
      "model_module_version": "^0.17",
      "model_name": "LeafletTileLayerModel",
      "state": {
       "_model_module_version": "^0.17",
       "_view_module_version": "^0.17",
       "attribution": "Google Earth Engine",
       "max_zoom": 24,
       "name": "CGIAR/SRTM90_V4",
       "options": [
        "attribution",
        "bounds",
        "detect_retina",
        "max_native_zoom",
        "max_zoom",
        "min_native_zoom",
        "min_zoom",
        "no_wrap",
        "tile_size",
        "tms",
        "zoom_offset"
       ],
       "url": "https://earthengine.googleapis.com/v1/projects/earthengine-legacy/maps/06a63269a4b5948318f598f667eed684-0dee248356e357e7e00403853712b747/tiles/{z}/{x}/{y}"
      }
     },
     "314002f0edbd4735a2d277aa8bdf391d": {
      "model_module": "@jupyter-widgets/controls",
      "model_module_version": "2.0.0",
      "model_name": "DirectionalLinkModel",
      "state": {
       "source": [
        "IPY_MODEL_dcc17c049f1845e691c1106bd61955b4",
        "value"
       ],
       "target": [
        "IPY_MODEL_305697cf31a149c4b0a861ed7e6544f6",
        "opacity"
       ]
      }
     },
     "315247952dc74b5a84a73f359905975a": {
      "model_module": "@jupyter-widgets/base",
      "model_module_version": "2.0.0",
      "model_name": "LayoutModel",
      "state": {
       "height": "28px",
       "padding": "0px 0px 0px 4px",
       "width": "28px"
      }
     },
     "31948c7b9eae4cc09f1c11080ef15262": {
      "model_module": "@jupyter-widgets/controls",
      "model_module_version": "2.0.0",
      "model_name": "ToggleButtonStyleModel",
      "state": {
       "description_width": "",
       "font_family": null,
       "font_size": null,
       "font_style": null,
       "font_variant": null,
       "font_weight": null,
       "text_color": null,
       "text_decoration": null
      }
     },
     "32ad32cf6043493899a8f5cac0687b80": {
      "model_module": "@jupyter-widgets/controls",
      "model_module_version": "2.0.0",
      "model_name": "FloatSliderModel",
      "state": {
       "behavior": "drag-tap",
       "layout": "IPY_MODEL_ff038f74107c4f90a9337c2f4075b67f",
       "max": 1,
       "readout": false,
       "step": 0.01,
       "style": "IPY_MODEL_134d697e0b894edcb907b665d73a4eb3",
       "value": 1
      }
     },
     "3333f82e5ab14d3785ce3d7b4ee6cb1c": {
      "model_module": "@jupyter-widgets/controls",
      "model_module_version": "2.0.0",
      "model_name": "VBoxModel",
      "state": {
       "children": [
        "IPY_MODEL_620bed9c0e2d4bff86ad8d305cf102d0",
        "IPY_MODEL_9b7ea0b19f4a465ea331548596a7cf5d"
       ],
       "layout": "IPY_MODEL_7c711c1faed3471bb8e06c475b289847"
      }
     },
     "33465c36196f456da09179af0745a699": {
      "model_module": "@jupyter-widgets/controls",
      "model_module_version": "2.0.0",
      "model_name": "CheckboxStyleModel",
      "state": {
       "description_width": ""
      }
     },
     "34869294cfc64b1f8dc0006e11b09ee0": {
      "model_module": "@jupyter-widgets/controls",
      "model_module_version": "2.0.0",
      "model_name": "ToggleButtonStyleModel",
      "state": {
       "description_width": "",
       "font_family": null,
       "font_size": null,
       "font_style": null,
       "font_variant": null,
       "font_weight": null,
       "text_color": null,
       "text_decoration": null
      }
     },
     "359258e41daf4489a4e0e64a4407381f": {
      "model_module": "@jupyter-widgets/controls",
      "model_module_version": "2.0.0",
      "model_name": "ToggleButtonModel",
      "state": {
       "button_style": "primary",
       "icon": "times",
       "layout": "IPY_MODEL_101546d2c55f4005a7883d07f389b704",
       "style": "IPY_MODEL_ea53e528d90b464f8408b92af5cb07a0",
       "tooltip": "Close the tool"
      }
     },
     "3617168999af46f7b2bd9c130d71a749": {
      "model_module": "@jupyter-widgets/controls",
      "model_module_version": "2.0.0",
      "model_name": "ToggleButtonStyleModel",
      "state": {
       "description_width": "",
       "font_family": null,
       "font_size": null,
       "font_style": null,
       "font_variant": null,
       "font_weight": null,
       "text_color": null,
       "text_decoration": null
      }
     },
     "3655588f6e58498e9c842faebaf50c93": {
      "model_module": "@jupyter-widgets/controls",
      "model_module_version": "2.0.0",
      "model_name": "ToggleButtonStyleModel",
      "state": {
       "description_width": "",
       "font_family": null,
       "font_size": null,
       "font_style": null,
       "font_variant": null,
       "font_weight": null,
       "text_color": null,
       "text_decoration": null
      }
     },
     "36925923f45741ba9a539ae8eba7954d": {
      "model_module": "@jupyter-widgets/base",
      "model_module_version": "2.0.0",
      "model_name": "LayoutModel",
      "state": {
       "width": "80px"
      }
     },
     "3719178d2e6747deb0c0977736293462": {
      "model_module": "@jupyter-widgets/base",
      "model_module_version": "2.0.0",
      "model_name": "LayoutModel",
      "state": {
       "height": "18px",
       "width": "140px"
      }
     },
     "392757667883427da1e184691ea90f6e": {
      "model_module": "@jupyter-widgets/controls",
      "model_module_version": "2.0.0",
      "model_name": "ToggleButtonStyleModel",
      "state": {
       "description_width": "",
       "font_family": null,
       "font_size": null,
       "font_style": null,
       "font_variant": null,
       "font_weight": null,
       "text_color": null,
       "text_decoration": null
      }
     },
     "39a914336d004442989e5481f5156dd6": {
      "model_module": "@jupyter-widgets/controls",
      "model_module_version": "2.0.0",
      "model_name": "ToggleButtonStyleModel",
      "state": {
       "description_width": "",
       "font_family": null,
       "font_size": null,
       "font_style": null,
       "font_variant": null,
       "font_weight": null,
       "text_color": null,
       "text_decoration": null
      }
     },
     "3b9749b97cca4e2195be140772b00491": {
      "model_module": "@jupyter-widgets/controls",
      "model_module_version": "2.0.0",
      "model_name": "ToggleButtonModel",
      "state": {
       "icon": "server",
       "layout": "IPY_MODEL_29ca4ff589fb43e3b5f59e9856a12a21",
       "style": "IPY_MODEL_f2dec2d2e0e442599cda11b498b57122",
       "tooltip": "Layer Manager",
       "value": true
      }
     },
     "3c536a70e7a844948aeaa86ba4c838e3": {
      "model_module": "@jupyter-widgets/base",
      "model_module_version": "2.0.0",
      "model_name": "LayoutModel",
      "state": {
       "height": "25px",
       "padding": "0px 0px 0px 5px",
       "width": "25px"
      }
     },
     "3e811a19f95b4b4cb57c64c1d3fd4fe0": {
      "model_module": "@jupyter-widgets/base",
      "model_module_version": "2.0.0",
      "model_name": "LayoutModel",
      "state": {
       "height": "25px",
       "padding": "0px 0px 0px 5px",
       "width": "25px"
      }
     },
     "3f591ea07bec40c7ba5aac00c5e046ed": {
      "model_module": "@jupyter-widgets/base",
      "model_module_version": "2.0.0",
      "model_name": "LayoutModel",
      "state": {}
     },
     "3f9026d109b14633a2b23a51146e652d": {
      "model_module": "ipyevents",
      "model_module_version": "2.0.2",
      "model_name": "EventModel",
      "state": {
       "_supported_key_events": [
        "keydown",
        "keyup"
       ],
       "_supported_mouse_events": [
        "click",
        "auxclick",
        "dblclick",
        "mouseenter",
        "mouseleave",
        "mousedown",
        "mouseup",
        "mousemove",
        "wheel",
        "contextmenu",
        "dragstart",
        "drag",
        "dragend",
        "dragenter",
        "dragover",
        "dragleave",
        "drop"
       ],
       "_supported_touch_events": [
        "touchstart",
        "touchend",
        "touchmove",
        "touchcancel"
       ],
       "_view_module": "@jupyter-widgets/controls",
       "source": "IPY_MODEL_8f1c3f0d939f46648051f16a3b598beb",
       "throttle_or_debounce": "",
       "watched_events": [
        "mouseenter",
        "mouseleave"
       ],
       "xy_coordinate_system": ""
      }
     },
     "4100c5bd684e4212bde02ba6c974e550": {
      "model_module": "@jupyter-widgets/base",
      "model_module_version": "2.0.0",
      "model_name": "LayoutModel",
      "state": {
       "width": "80px"
      }
     },
     "42d3c47dc7f54f32a73f6ef6a5db2f89": {
      "model_module": "@jupyter-widgets/controls",
      "model_module_version": "2.0.0",
      "model_name": "ToggleButtonStyleModel",
      "state": {
       "description_width": "",
       "font_family": null,
       "font_size": null,
       "font_style": null,
       "font_variant": null,
       "font_weight": null,
       "text_color": null,
       "text_decoration": null
      }
     },
     "45330c0a932b43af9ba926fa673e2163": {
      "model_module": "@jupyter-widgets/base",
      "model_module_version": "2.0.0",
      "model_name": "LayoutModel",
      "state": {
       "height": "28px",
       "padding": "0px 0px 0px 4px",
       "width": "28px"
      }
     },
     "4753b9ac214d47f0a4eb971edc8e3037": {
      "model_module": "@jupyter-widgets/controls",
      "model_module_version": "2.0.0",
      "model_name": "DescriptionStyleModel",
      "state": {
       "description_width": ""
      }
     },
     "4810c135ffc5477fa7a54e08bf5f8fe2": {
      "model_module": "@jupyter-widgets/base",
      "model_module_version": "2.0.0",
      "model_name": "LayoutModel",
      "state": {
       "width": "340px"
      }
     },
     "483a782c2a144b57ba0b442ae75dc099": {
      "model_module": "@jupyter-widgets/base",
      "model_module_version": "2.0.0",
      "model_name": "LayoutModel",
      "state": {
       "height": "18px",
       "width": "140px"
      }
     },
     "496f8d853d104b8b8aea12b26041fb91": {
      "model_module": "@jupyter-widgets/base",
      "model_module_version": "2.0.0",
      "model_name": "LayoutModel",
      "state": {
       "width": "80px"
      }
     },
     "49bad76d25dd4e6595391fd7b60e29ed": {
      "model_module": "jupyter-leaflet",
      "model_module_version": "^0.17",
      "model_name": "LeafletWidgetControlModel",
      "state": {
       "_model_module": "jupyter-leaflet",
       "_model_module_version": "^0.17",
       "_view_count": null,
       "_view_module": "jupyter-leaflet",
       "_view_module_version": "^0.17",
       "options": [
        "position",
        "transparent_bg"
       ],
       "position": "topleft",
       "widget": "IPY_MODEL_8f1c3f0d939f46648051f16a3b598beb"
      }
     },
     "4b0ffbac7c654b929204f1977b9e2dbc": {
      "model_module": "@jupyter-widgets/controls",
      "model_module_version": "2.0.0",
      "model_name": "ToggleButtonModel",
      "state": {
       "icon": "gear",
       "layout": "IPY_MODEL_3e811a19f95b4b4cb57c64c1d3fd4fe0",
       "style": "IPY_MODEL_f859864e8d944ac8869374811dde31e1",
       "tooltip": "Google Maps"
      }
     },
     "4e779e5f144442f598940ace8d80b58f": {
      "model_module": "@jupyter-widgets/controls",
      "model_module_version": "2.0.0",
      "model_name": "ToggleButtonModel",
      "state": {
       "button_style": "primary",
       "icon": "eraser",
       "layout": "IPY_MODEL_f35e78bbd7594c33926b72f98e81a424",
       "style": "IPY_MODEL_34869294cfc64b1f8dc0006e11b09ee0",
       "tooltip": "Remove all drawn features"
      }
     },
     "5055d4c3850b40c58c880534d306195f": {
      "model_module": "@jupyter-widgets/controls",
      "model_module_version": "2.0.0",
      "model_name": "HBoxModel",
      "state": {
       "children": [
        "IPY_MODEL_288b48d0a2d34d2ba5514a16f4fa4f8b",
        "IPY_MODEL_3b9749b97cca4e2195be140772b00491"
       ],
       "layout": "IPY_MODEL_2e42f9016e4543a287c101d7c71fa569"
      }
     },
     "52d953f9a8e947d9bf8b48d28bf0c41b": {
      "model_module": "@jupyter-widgets/base",
      "model_module_version": "2.0.0",
      "model_name": "LayoutModel",
      "state": {
       "width": "500px"
      }
     },
     "544424c49e014511ac461d5443eaa7f4": {
      "model_module": "@jupyter-widgets/base",
      "model_module_version": "2.0.0",
      "model_name": "LayoutModel",
      "state": {
       "height": "auto",
       "padding": "0px 0px 0px 4px",
       "width": "auto"
      }
     },
     "54ba4518316047be94bb94dc019f4887": {
      "model_module": "jupyter-leaflet",
      "model_module_version": "^0.17",
      "model_name": "LeafletMeasureControlModel",
      "state": {
       "_model_module_version": "^0.17",
       "_view_module_version": "^0.17",
       "active_color": "orange",
       "options": [
        "active_color",
        "capture_z_index",
        "completed_color",
        "popup_options",
        "position",
        "primary_area_unit",
        "primary_length_unit",
        "secondary_area_unit",
        "secondary_length_unit"
       ],
       "position": "bottomleft",
       "primary_length_unit": "kilometers",
       "secondary_area_unit": null,
       "secondary_length_unit": null
      }
     },
     "54c7891c1cb248c687730d114491836c": {
      "model_module": "jupyter-leaflet",
      "model_module_version": "^0.17",
      "model_name": "LeafletTileLayerModel",
      "state": {
       "_model_module_version": "^0.17",
       "_view_module_version": "^0.17",
       "attribution": "Google Earth Engine",
       "max_zoom": 24,
       "name": "CGIAR/SRTM90_V4",
       "options": [
        "attribution",
        "bounds",
        "detect_retina",
        "max_native_zoom",
        "max_zoom",
        "min_native_zoom",
        "min_zoom",
        "no_wrap",
        "tile_size",
        "tms",
        "zoom_offset"
       ],
       "url": "https://earthengine.googleapis.com/v1/projects/earthengine-legacy/maps/06a63269a4b5948318f598f667eed684-82b036d9489a80afec1c555a0ec0e5b4/tiles/{z}/{x}/{y}"
      }
     },
     "54da624b78e94c9ba78336f4a0fa7feb": {
      "model_module": "@jupyter-widgets/controls",
      "model_module_version": "2.0.0",
      "model_name": "VBoxModel",
      "state": {
       "children": [
        "IPY_MODEL_8e7a8e408c6942f3afc144bdd5e1fd03",
        "IPY_MODEL_e519569f29924d2ba35829e1f44b582b"
       ],
       "layout": "IPY_MODEL_915e104a5b4c48739419b08ac645d55f"
      }
     },
     "5567bb3f25e947209200930ae7a5653b": {
      "model_module": "@jupyter-widgets/controls",
      "model_module_version": "2.0.0",
      "model_name": "CheckboxModel",
      "state": {
       "description": "CGIAR/SRTM90_V4",
       "disabled": false,
       "indent": false,
       "layout": "IPY_MODEL_483a782c2a144b57ba0b442ae75dc099",
       "style": "IPY_MODEL_2a044fdabf1f40e1b911a85ad4c72dac",
       "value": true
      }
     },
     "597b171205164a81b98b371daebb67ad": {
      "model_module": "@jupyter-widgets/controls",
      "model_module_version": "2.0.0",
      "model_name": "ToggleButtonModel",
      "state": {
       "icon": "gear",
       "layout": "IPY_MODEL_3c536a70e7a844948aeaa86ba4c838e3",
       "style": "IPY_MODEL_d0eb34a5840b4dc39adf85f77fcdfb5c",
       "tooltip": "Google Maps"
      }
     },
     "599a7e2fa1814ea2ab27dea37ec71212": {
      "model_module": "@jupyter-widgets/controls",
      "model_module_version": "2.0.0",
      "model_name": "HBoxModel",
      "state": {
       "children": [
        "IPY_MODEL_286ab848b27f47d8b3c8a7acdda7bbe1",
        "IPY_MODEL_90db8a74a43d4dabbd882809e40c8ef3"
       ],
       "layout": "IPY_MODEL_79d3f0d947ed4f59bcc3be0c8a309124"
      }
     },
     "5c56c2569ae0480abd997d8e0a0bb070": {
      "model_module": "ipyevents",
      "model_module_version": "2.0.2",
      "model_name": "EventModel",
      "state": {
       "_supported_key_events": [
        "keydown",
        "keyup"
       ],
       "_supported_mouse_events": [
        "click",
        "auxclick",
        "dblclick",
        "mouseenter",
        "mouseleave",
        "mousedown",
        "mouseup",
        "mousemove",
        "wheel",
        "contextmenu",
        "dragstart",
        "drag",
        "dragend",
        "dragenter",
        "dragover",
        "dragleave",
        "drop"
       ],
       "_supported_touch_events": [
        "touchstart",
        "touchend",
        "touchmove",
        "touchcancel"
       ],
       "_view_module": "@jupyter-widgets/controls",
       "source": "IPY_MODEL_f04d210725a24fa2b96e5396c1c09e7d",
       "throttle_or_debounce": "",
       "watched_events": [
        "mouseenter",
        "mouseleave"
       ],
       "xy_coordinate_system": ""
      }
     },
     "5e245464c4c8466284939249c6b1a2b9": {
      "model_module": "@jupyter-widgets/controls",
      "model_module_version": "2.0.0",
      "model_name": "ToggleButtonModel",
      "state": {
       "button_style": "primary",
       "icon": "retweet",
       "layout": "IPY_MODEL_d8b133b4c0924cbb85437cd672ec6562",
       "style": "IPY_MODEL_908b01ab27e14a68bf8c276d793496f1",
       "tooltip": "Convert Earth Engine JavaScript to Python"
      }
     },
     "5f9c07a98df04223bbb23744ae559e7b": {
      "model_module": "@jupyter-widgets/controls",
      "model_module_version": "2.0.0",
      "model_name": "ToggleButtonModel",
      "state": {
       "button_style": "primary",
       "icon": "fast-forward",
       "layout": "IPY_MODEL_faaed57b7a05409081dd38f56c040aa5",
       "style": "IPY_MODEL_7c28680a92954f6f9158e811b69162d3",
       "tooltip": "Activate timeslider"
      }
     },
     "608213ad839341fa930483e6ecd6fd2f": {
      "model_module": "jupyter-leaflet",
      "model_module_version": "^0.17",
      "model_name": "LeafletZoomControlModel",
      "state": {
       "_model_module_version": "^0.17",
       "_view_module_version": "^0.17",
       "options": [
        "position",
        "zoom_in_text",
        "zoom_in_title",
        "zoom_out_text",
        "zoom_out_title"
       ]
      }
     },
     "620b870796d243f9b90de56ffdeeb143": {
      "model_module": "@jupyter-widgets/controls",
      "model_module_version": "2.0.0",
      "model_name": "ToggleButtonModel",
      "state": {
       "button_style": "primary",
       "icon": "info",
       "layout": "IPY_MODEL_84b5329d19064c04bda123cb4c86da41",
       "style": "IPY_MODEL_f3c109f0a0cf4830ad6f4e4d04899f44",
       "tooltip": "Inspector"
      }
     },
     "620bed9c0e2d4bff86ad8d305cf102d0": {
      "model_module": "@jupyter-widgets/controls",
      "model_module_version": "2.0.0",
      "model_name": "HBoxModel",
      "state": {
       "children": [
        "IPY_MODEL_359258e41daf4489a4e0e64a4407381f",
        "IPY_MODEL_e1eeb63427f94500a0b96edcdd37dba5"
       ],
       "layout": "IPY_MODEL_a82bef5d32594b5e8fce74fd6312c5a3"
      }
     },
     "641d47c616374860b97e013e59768018": {
      "model_module": "@jupyter-widgets/controls",
      "model_module_version": "2.0.0",
      "model_name": "ToggleButtonModel",
      "state": {
       "button_style": "primary",
       "icon": "folder-open",
       "layout": "IPY_MODEL_fb2a1131cd904130b12a3d1940020fe2",
       "style": "IPY_MODEL_f2ae8ee02ac3494eaf8b636f76cb5fa0",
       "tooltip": "Open local vector/raster data"
      }
     },
     "643332d64bf3402eb5b64b7f0441ae64": {
      "model_module": "@jupyter-widgets/base",
      "model_module_version": "2.0.0",
      "model_name": "LayoutModel",
      "state": {
       "height": "auto",
       "padding": "0px 0px 0px 4px",
       "width": "auto"
      }
     },
     "682f708b6ad34899a6ee2365ae2fec35": {
      "model_module": "@jupyter-widgets/base",
      "model_module_version": "2.0.0",
      "model_name": "LayoutModel",
      "state": {
       "padding": "0px 8px 0px 8px"
      }
     },
     "691979ea2bfa40bd9c9ea47a3d54cebc": {
      "model_module": "@jupyter-widgets/controls",
      "model_module_version": "2.0.0",
      "model_name": "HBoxModel",
      "state": {
       "children": [
        "IPY_MODEL_5567bb3f25e947209200930ae7a5653b",
        "IPY_MODEL_0f0538c8c5d04b499c98e2e4cd6955f8",
        "IPY_MODEL_dcc17c049f1845e691c1106bd61955b4"
       ],
       "layout": "IPY_MODEL_c12b8872f1d04524b619d7210a7af193"
      }
     },
     "6b383d97ac27415b9356cff2abd8a31b": {
      "model_module": "@jupyter-widgets/base",
      "model_module_version": "2.0.0",
      "model_name": "LayoutModel",
      "state": {
       "height": "auto",
       "padding": "0px 0px 0px 4px",
       "width": "auto"
      }
     },
     "6da8d45687ce423db7955da7b7cce0d8": {
      "model_module": "@jupyter-widgets/controls",
      "model_module_version": "2.0.0",
      "model_name": "ToggleButtonModel",
      "state": {
       "button_style": "primary",
       "icon": "gears",
       "layout": "IPY_MODEL_2fb1d45e68c14e84bd23f9daf85cd3ed",
       "style": "IPY_MODEL_9190c5dc41654220b0084fb985f88c82",
       "tooltip": "WhiteboxTools for local geoprocessing"
      }
     },
     "6f6e717cda5d43409fe53ea27e359255": {
      "model_module": "@jupyter-widgets/controls",
      "model_module_version": "2.0.0",
      "model_name": "VBoxModel",
      "state": {
       "children": [
        "IPY_MODEL_256f0e814593439ebf15285b66669edb",
        "IPY_MODEL_887aa42753ae4b1cb6a97ab8757ce321",
        "IPY_MODEL_a21bed99281e459caf94977d37b9fbe5"
       ],
       "layout": "IPY_MODEL_eb9766e121604b4db67d46e00a432272"
      }
     },
     "70d6515edb2c4b0f83113699f7a91765": {
      "model_module": "@jupyter-widgets/base",
      "model_module_version": "2.0.0",
      "model_name": "LayoutModel",
      "state": {
       "height": "600px"
      }
     },
     "710ec2fa7ebe4ef8b47346ee1be8e751": {
      "model_module": "@jupyter-widgets/base",
      "model_module_version": "2.0.0",
      "model_name": "LayoutModel",
      "state": {
       "height": "25px",
       "padding": "0px 0px 0px 5px",
       "width": "25px"
      }
     },
     "74657451d5644a7d91e98b311d8ff70d": {
      "model_module": "@jupyter-widgets/controls",
      "model_module_version": "2.0.0",
      "model_name": "ToggleButtonModel",
      "state": {
       "button_style": "primary",
       "icon": "bar-chart",
       "layout": "IPY_MODEL_13efbe63f50f4a0ab0fd8401f511aa75",
       "style": "IPY_MODEL_c6e6e833aa1d49f3be9811c7d64086d5",
       "tooltip": "Plotting"
      }
     },
     "749c47814995435e8aefc4656fd0bb02": {
      "model_module": "@jupyter-widgets/controls",
      "model_module_version": "2.0.0",
      "model_name": "ToggleButtonModel",
      "state": {
       "button_style": "primary",
       "icon": "adjust",
       "layout": "IPY_MODEL_544424c49e014511ac461d5443eaa7f4",
       "style": "IPY_MODEL_392757667883427da1e184691ea90f6e",
       "tooltip": "Planet imagery"
      }
     },
     "76a67cc29a3f448fb2a30b6ea21b0b46": {
      "model_module": "@jupyter-widgets/controls",
      "model_module_version": "2.0.0",
      "model_name": "ToggleButtonStyleModel",
      "state": {
       "description_width": "",
       "font_family": null,
       "font_size": null,
       "font_style": null,
       "font_variant": null,
       "font_weight": null,
       "text_color": null,
       "text_decoration": null
      }
     },
     "79d3f0d947ed4f59bcc3be0c8a309124": {
      "model_module": "@jupyter-widgets/base",
      "model_module_version": "2.0.0",
      "model_name": "LayoutModel",
      "state": {}
     },
     "7a2639a2fd3b4ddc87cd59a424e829ae": {
      "model_module": "@jupyter-widgets/controls",
      "model_module_version": "2.0.0",
      "model_name": "ToggleButtonModel",
      "state": {
       "button_style": "primary",
       "icon": "info-circle",
       "layout": "IPY_MODEL_7f7d3a79e3a4494fa50077879addb870",
       "style": "IPY_MODEL_f7e4d1793de94fcb97003fea7477a226",
       "tooltip": "Get COG/STAC pixel value"
      }
     },
     "7b49a5af38214262b1c39919014a2afc": {
      "model_module": "@jupyter-widgets/base",
      "model_module_version": "2.0.0",
      "model_name": "LayoutModel",
      "state": {
       "padding": "0px 8px 0px 8px"
      }
     },
     "7c28680a92954f6f9158e811b69162d3": {
      "model_module": "@jupyter-widgets/controls",
      "model_module_version": "2.0.0",
      "model_name": "ToggleButtonStyleModel",
      "state": {
       "description_width": "",
       "font_family": null,
       "font_size": null,
       "font_style": null,
       "font_variant": null,
       "font_weight": null,
       "text_color": null,
       "text_decoration": null
      }
     },
     "7c711c1faed3471bb8e06c475b289847": {
      "model_module": "@jupyter-widgets/base",
      "model_module_version": "2.0.0",
      "model_name": "LayoutModel",
      "state": {}
     },
     "7e460aa0ef214c6e8a2101c32f32790f": {
      "model_module": "@jupyter-widgets/base",
      "model_module_version": "2.0.0",
      "model_name": "LayoutModel",
      "state": {}
     },
     "7ee1248b86174707b76062630febfa3d": {
      "model_module": "@jupyter-widgets/base",
      "model_module_version": "2.0.0",
      "model_name": "LayoutModel",
      "state": {
       "height": "auto",
       "padding": "0px 0px 0px 4px",
       "width": "auto"
      }
     },
     "7f7d3a79e3a4494fa50077879addb870": {
      "model_module": "@jupyter-widgets/base",
      "model_module_version": "2.0.0",
      "model_name": "LayoutModel",
      "state": {
       "height": "auto",
       "padding": "0px 0px 0px 4px",
       "width": "auto"
      }
     },
     "7fdde0f08c894c1d8fd1a78edc89f4f2": {
      "model_module": "@jupyter-widgets/controls",
      "model_module_version": "2.0.0",
      "model_name": "ToggleButtonModel",
      "state": {
       "icon": "gear",
       "layout": "IPY_MODEL_15a0735b7c4045f9b476466c77993235",
       "style": "IPY_MODEL_17d3eb8f65124586acb596929ee2d4dc",
       "tooltip": "CGIAR/SRTM90_V4"
      }
     },
     "803bdc3ea2d44212b69ecdc630fbb1bd": {
      "model_module": "@jupyter-widgets/controls",
      "model_module_version": "2.0.0",
      "model_name": "VBoxModel",
      "state": {
       "children": [
        "IPY_MODEL_eca99568791d4284a2ee3214b548bc18"
       ],
       "layout": "IPY_MODEL_ca337889a7fd44b19c760eac382a0a8b"
      }
     },
     "84b5329d19064c04bda123cb4c86da41": {
      "model_module": "@jupyter-widgets/base",
      "model_module_version": "2.0.0",
      "model_name": "LayoutModel",
      "state": {
       "height": "auto",
       "padding": "0px 0px 0px 4px",
       "width": "auto"
      }
     },
     "86b92b2bafc847218fd4a78d29552a2d": {
      "model_module": "@jupyter-widgets/controls",
      "model_module_version": "2.0.0",
      "model_name": "ToggleButtonModel",
      "state": {
       "button_style": "primary",
       "icon": "hand-o-up",
       "layout": "IPY_MODEL_a12ed7681107483dbab922bd8179086b",
       "style": "IPY_MODEL_ff3b7e8e325d46e4bc9544bd4ab89765",
       "tooltip": "Collect training samples"
      }
     },
     "87bbbcea5b8742de9bb3b7eccfd1c589": {
      "model_module": "@jupyter-widgets/output",
      "model_module_version": "1.0.0",
      "model_name": "OutputModel",
      "state": {
       "layout": "IPY_MODEL_9b7ca7059d09407b9fb3e924b6a792bc"
      }
     },
     "880b4e46813e4371850bf666f24e6724": {
      "model_module": "@jupyter-widgets/controls",
      "model_module_version": "2.0.0",
      "model_name": "ToggleButtonModel",
      "state": {
       "icon": "globe",
       "layout": "IPY_MODEL_315247952dc74b5a84a73f359905975a",
       "style": "IPY_MODEL_03edd879eec44b5b915cb6e31378812f",
       "tooltip": "Search location/data"
      }
     },
     "88223f9e0a3440ddb9170862d7ac4e30": {
      "model_module": "@jupyter-widgets/controls",
      "model_module_version": "2.0.0",
      "model_name": "CheckboxModel",
      "state": {
       "description": "CGIAR/SRTM90_V4",
       "disabled": false,
       "indent": false,
       "layout": "IPY_MODEL_3719178d2e6747deb0c0977736293462",
       "style": "IPY_MODEL_946faf67a66c4d4b9c79b9a247fdc892",
       "value": true
      }
     },
     "887aa42753ae4b1cb6a97ab8757ce321": {
      "model_module": "@jupyter-widgets/controls",
      "model_module_version": "2.0.0",
      "model_name": "HBoxModel",
      "state": {
       "children": [
        "IPY_MODEL_0b2df8d2fcb74df8b6350fe3686e7f12",
        "IPY_MODEL_597b171205164a81b98b371daebb67ad",
        "IPY_MODEL_32ad32cf6043493899a8f5cac0687b80"
       ],
       "layout": "IPY_MODEL_682f708b6ad34899a6ee2365ae2fec35"
      }
     },
     "8b5158ef9a8d4381a65f029931a72c3c": {
      "model_module": "jupyter-leaflet",
      "model_module_version": "^0.17",
      "model_name": "LeafletDrawControlModel",
      "state": {
       "_model_module_version": "^0.17",
       "_view_module_version": "^0.17",
       "marker": {
        "shapeOptions": {
         "color": "#3388ff"
        }
       },
       "options": [
        "position"
       ],
       "polygon": {
        "shapeOptions": {
         "clickable": true,
         "color": "#3388ff",
         "fill": true,
         "fillColor": null,
         "fillOpacity": 0.2,
         "opacity": 0.5,
         "stroke": true,
         "weight": 4
        }
       },
       "polyline": {
        "shapeOptions": {
         "clickable": true,
         "color": "#3388ff",
         "fill": false,
         "opacity": 0.5,
         "stroke": true,
         "weight": 4
        }
       },
       "rectangle": {
        "shapeOptions": {
         "clickable": true,
         "color": "#3388ff",
         "fill": true,
         "fillColor": null,
         "fillOpacity": 0.2,
         "opacity": 0.5,
         "stroke": true,
         "weight": 4
        }
       }
      }
     },
     "8b68b645932b49d385985785e6a2dd20": {
      "model_module": "jupyter-leaflet",
      "model_module_version": "^0.17",
      "model_name": "LeafletZoomControlModel",
      "state": {
       "_model_module_version": "^0.17",
       "_view_module_version": "^0.17",
       "options": [
        "position",
        "zoom_in_text",
        "zoom_in_title",
        "zoom_out_text",
        "zoom_out_title"
       ]
      }
     },
     "8c30c804ff7b49f68c57054c4d855dd6": {
      "model_module": "@jupyter-widgets/controls",
      "model_module_version": "2.0.0",
      "model_name": "ButtonStyleModel",
      "state": {
       "font_family": null,
       "font_size": null,
       "font_style": null,
       "font_variant": null,
       "font_weight": null,
       "text_color": null,
       "text_decoration": null
      }
     },
     "8d731684fc854451b304ca16bf23436e": {
      "model_module": "@jupyter-widgets/controls",
      "model_module_version": "2.0.0",
      "model_name": "CheckboxModel",
      "state": {
       "description": "All layers on/off",
       "disabled": false,
       "indent": false,
       "layout": "IPY_MODEL_b36c15b1f513459f9e619d192e9691bf",
       "style": "IPY_MODEL_f7d887b3eaa54de4af58d9931a53aa00",
       "value": false
      }
     },
     "8e7a8e408c6942f3afc144bdd5e1fd03": {
      "model_module": "@jupyter-widgets/controls",
      "model_module_version": "2.0.0",
      "model_name": "ToggleButtonsModel",
      "state": {
       "_options_labels": [
        "name/address",
        "lat-lon",
        "data"
       ],
       "button_style": "",
       "icons": [],
       "index": 0,
       "layout": "IPY_MODEL_dc8374426afd4853b6055a4f86e33766",
       "style": "IPY_MODEL_00fc21560d454d5baadd45e7700ffc7c",
       "tooltips": [
        "Search by place name or address",
        "Search by lat-lon coordinates",
        "Search Earth Engine data catalog"
       ]
      }
     },
     "8f1c3f0d939f46648051f16a3b598beb": {
      "model_module": "@jupyter-widgets/controls",
      "model_module_version": "2.0.0",
      "model_name": "HBoxModel",
      "state": {
       "_view_count": 1,
       "children": [
        "IPY_MODEL_880b4e46813e4371850bf666f24e6724"
       ],
       "layout": "IPY_MODEL_23f50c8efc22412da7370df0dfff0573"
      }
     },
     "8f47768f70cd44eeaaaf99ed96bc32c6": {
      "model_module": "@jupyter-widgets/controls",
      "model_module_version": "2.0.0",
      "model_name": "CheckboxModel",
      "state": {
       "description": "Google Maps",
       "disabled": false,
       "indent": false,
       "layout": "IPY_MODEL_eb67d702b0ad4696a85b6b9ccaf13254",
       "style": "IPY_MODEL_33465c36196f456da09179af0745a699",
       "value": true
      }
     },
     "908b01ab27e14a68bf8c276d793496f1": {
      "model_module": "@jupyter-widgets/controls",
      "model_module_version": "2.0.0",
      "model_name": "ToggleButtonStyleModel",
      "state": {
       "description_width": "",
       "font_family": null,
       "font_size": null,
       "font_style": null,
       "font_variant": null,
       "font_weight": null,
       "text_color": null,
       "text_decoration": null
      }
     },
     "90db8a74a43d4dabbd882809e40c8ef3": {
      "model_module": "@jupyter-widgets/controls",
      "model_module_version": "2.0.0",
      "model_name": "DropdownModel",
      "state": {
       "index": null,
       "layout": "IPY_MODEL_ed23b88dee2b491a8661d6774e40985f",
       "style": "IPY_MODEL_c367064e21ab4bdd8eb37c1fb78970f6"
      }
     },
     "915e104a5b4c48739419b08ac645d55f": {
      "model_module": "@jupyter-widgets/base",
      "model_module_version": "2.0.0",
      "model_name": "LayoutModel",
      "state": {}
     },
     "9190c5dc41654220b0084fb985f88c82": {
      "model_module": "@jupyter-widgets/controls",
      "model_module_version": "2.0.0",
      "model_name": "ToggleButtonStyleModel",
      "state": {
       "description_width": "",
       "font_family": null,
       "font_size": null,
       "font_style": null,
       "font_variant": null,
       "font_weight": null,
       "text_color": null,
       "text_decoration": null
      }
     },
     "946faf67a66c4d4b9c79b9a247fdc892": {
      "model_module": "@jupyter-widgets/controls",
      "model_module_version": "2.0.0",
      "model_name": "CheckboxStyleModel",
      "state": {
       "description_width": ""
      }
     },
     "97b5e332bb0f4c25a7fc75dad799d904": {
      "model_module": "@jupyter-widgets/controls",
      "model_module_version": "2.0.0",
      "model_name": "FloatSliderModel",
      "state": {
       "behavior": "drag-tap",
       "layout": "IPY_MODEL_496f8d853d104b8b8aea12b26041fb91",
       "max": 1,
       "readout": false,
       "step": 0.01,
       "style": "IPY_MODEL_f428d855d7b746afa4f2d8e82c349190",
       "value": 1
      }
     },
     "9832c5e0ba4042e98eb66a3a40cd6fed": {
      "model_module": "@jupyter-widgets/controls",
      "model_module_version": "2.0.0",
      "model_name": "DirectionalLinkModel",
      "state": {
       "source": [
        "IPY_MODEL_32ad32cf6043493899a8f5cac0687b80",
        "value"
       ],
       "target": [
        "IPY_MODEL_f2248a37ff4440e1b132546ebe86b189",
        "opacity"
       ]
      }
     },
     "99322800d35649c09027deca755a06b2": {
      "model_module": "jupyter-leaflet",
      "model_module_version": "^0.17",
      "model_name": "LeafletMapStyleModel",
      "state": {
       "_model_module_version": "^0.17"
      }
     },
     "995392623c7546acbd26a8eb8bb52690": {
      "model_module": "@jupyter-widgets/controls",
      "model_module_version": "2.0.0",
      "model_name": "DirectionalLinkModel",
      "state": {
       "source": [
        "IPY_MODEL_97b5e332bb0f4c25a7fc75dad799d904",
        "value"
       ],
       "target": [
        "IPY_MODEL_f2248a37ff4440e1b132546ebe86b189",
        "opacity"
       ]
      }
     },
     "9a2e82e338e040fcb4d944552495007d": {
      "model_module": "@jupyter-widgets/controls",
      "model_module_version": "2.0.0",
      "model_name": "CheckboxStyleModel",
      "state": {
       "description_width": ""
      }
     },
     "9a6786a4ff3c45378eaba3aa04ff1c09": {
      "model_module": "@jupyter-widgets/controls",
      "model_module_version": "2.0.0",
      "model_name": "SliderStyleModel",
      "state": {
       "description_width": ""
      }
     },
     "9b3a50d5765246a3bc0f4b0f1f6f11ee": {
      "model_module": "jupyter-leaflet",
      "model_module_version": "^0.17",
      "model_name": "LeafletAttributionControlModel",
      "state": {
       "_model_module_version": "^0.17",
       "_view_module_version": "^0.17",
       "options": [
        "position",
        "prefix"
       ],
       "position": "bottomright",
       "prefix": "ipyleaflet"
      }
     },
     "9b7ca7059d09407b9fb3e924b6a792bc": {
      "model_module": "@jupyter-widgets/base",
      "model_module_version": "2.0.0",
      "model_name": "LayoutModel",
      "state": {
       "max_height": "350px",
       "max_width": "340px",
       "overflow": "scroll"
      }
     },
     "9b7ea0b19f4a465ea331548596a7cf5d": {
      "model_module": "@jupyter-widgets/controls",
      "model_module_version": "2.0.0",
      "model_name": "VBoxModel",
      "state": {
       "children": [
        "IPY_MODEL_256f0e814593439ebf15285b66669edb",
        "IPY_MODEL_887aa42753ae4b1cb6a97ab8757ce321",
        "IPY_MODEL_a21bed99281e459caf94977d37b9fbe5"
       ],
       "layout": "IPY_MODEL_0ce6db83e16a4b078809764a44697139"
      }
     },
     "9f6c59182d4e41b5a597ed9b8439c4c7": {
      "model_module": "@jupyter-widgets/controls",
      "model_module_version": "2.0.0",
      "model_name": "ToggleButtonStyleModel",
      "state": {
       "description_width": "",
       "font_family": null,
       "font_size": null,
       "font_style": null,
       "font_variant": null,
       "font_weight": null,
       "text_color": null,
       "text_decoration": null
      }
     },
     "a12ed7681107483dbab922bd8179086b": {
      "model_module": "@jupyter-widgets/base",
      "model_module_version": "2.0.0",
      "model_name": "LayoutModel",
      "state": {
       "height": "auto",
       "padding": "0px 0px 0px 4px",
       "width": "auto"
      }
     },
     "a21bed99281e459caf94977d37b9fbe5": {
      "model_module": "@jupyter-widgets/controls",
      "model_module_version": "2.0.0",
      "model_name": "HBoxModel",
      "state": {
       "children": [
        "IPY_MODEL_88223f9e0a3440ddb9170862d7ac4e30",
        "IPY_MODEL_7fdde0f08c894c1d8fd1a78edc89f4f2",
        "IPY_MODEL_09f9da80c4de43a8a54ee98ff0912bc8"
       ],
       "layout": "IPY_MODEL_a5bf87248c4440088e551cd46a6079cf"
      }
     },
     "a5334e69dfce403e974de7ac8040ff69": {
      "model_module": "@jupyter-widgets/base",
      "model_module_version": "2.0.0",
      "model_name": "LayoutModel",
      "state": {}
     },
     "a5bf87248c4440088e551cd46a6079cf": {
      "model_module": "@jupyter-widgets/base",
      "model_module_version": "2.0.0",
      "model_name": "LayoutModel",
      "state": {
       "padding": "0px 8px 0px 8px"
      }
     },
     "a716373cc6284f699271da954de85310": {
      "model_module": "@jupyter-widgets/controls",
      "model_module_version": "2.0.0",
      "model_name": "ToggleButtonModel",
      "state": {
       "button_style": "primary",
       "icon": "line-chart",
       "layout": "IPY_MODEL_6b383d97ac27415b9356cff2abd8a31b",
       "style": "IPY_MODEL_76a67cc29a3f448fb2a30b6ea21b0b46",
       "tooltip": "Creating and plotting transects"
      }
     },
     "a82bef5d32594b5e8fce74fd6312c5a3": {
      "model_module": "@jupyter-widgets/base",
      "model_module_version": "2.0.0",
      "model_name": "LayoutModel",
      "state": {}
     },
     "ada00c7dbc9d42c6827f0591c213050c": {
      "model_module": "jupyter-leaflet",
      "model_module_version": "^0.17",
      "model_name": "LeafletScaleControlModel",
      "state": {
       "_model_module_version": "^0.17",
       "_view_module_version": "^0.17",
       "imperial": true,
       "max_width": 100,
       "metric": true,
       "options": [
        "imperial",
        "max_width",
        "metric",
        "position",
        "update_when_idle"
       ],
       "position": "bottomleft",
       "update_when_idle": false
      }
     },
     "b0159f8291e34dfe9158554d7e9c6681": {
      "model_module": "@jupyter-widgets/controls",
      "model_module_version": "2.0.0",
      "model_name": "ToggleButtonStyleModel",
      "state": {
       "description_width": "",
       "font_family": null,
       "font_size": null,
       "font_style": null,
       "font_variant": null,
       "font_weight": null,
       "text_color": null,
       "text_decoration": null
      }
     },
     "b36c15b1f513459f9e619d192e9691bf": {
      "model_module": "@jupyter-widgets/base",
      "model_module_version": "2.0.0",
      "model_name": "LayoutModel",
      "state": {
       "height": "18px",
       "padding": "0px 8px 25px 8px",
       "width": "30ex"
      }
     },
     "b396483ee637447fb9fee59b0ae11adb": {
      "model_module": "@jupyter-widgets/base",
      "model_module_version": "2.0.0",
      "model_name": "LayoutModel",
      "state": {
       "height": "auto",
       "padding": "0px 0px 0px 4px",
       "width": "auto"
      }
     },
     "b4fe113e01ad4bcf8ff3c98ed4dd81ee": {
      "model_module": "@jupyter-widgets/controls",
      "model_module_version": "2.0.0",
      "model_name": "ToggleButtonStyleModel",
      "state": {
       "description_width": "",
       "font_family": null,
       "font_size": null,
       "font_style": null,
       "font_variant": null,
       "font_weight": null,
       "text_color": null,
       "text_decoration": null
      }
     },
     "be122c95453a4f87bb677412c7480f1d": {
      "model_module": "jupyter-leaflet",
      "model_module_version": "^0.17",
      "model_name": "LeafletFullScreenControlModel",
      "state": {
       "_model_module_version": "^0.17",
       "_view_module_version": "^0.17",
       "options": [
        "position"
       ]
      }
     },
     "c12b8872f1d04524b619d7210a7af193": {
      "model_module": "@jupyter-widgets/base",
      "model_module_version": "2.0.0",
      "model_name": "LayoutModel",
      "state": {
       "padding": "0px 8px 0px 8px"
      }
     },
     "c2250dcefb2544fc9b24e2d482e75200": {
      "model_module": "@jupyter-widgets/controls",
      "model_module_version": "2.0.0",
      "model_name": "SliderStyleModel",
      "state": {
       "description_width": ""
      }
     },
     "c367064e21ab4bdd8eb37c1fb78970f6": {
      "model_module": "@jupyter-widgets/controls",
      "model_module_version": "2.0.0",
      "model_name": "DescriptionStyleModel",
      "state": {
       "description_width": ""
      }
     },
     "c6e6e833aa1d49f3be9811c7d64086d5": {
      "model_module": "@jupyter-widgets/controls",
      "model_module_version": "2.0.0",
      "model_name": "ToggleButtonStyleModel",
      "state": {
       "description_width": "",
       "font_family": null,
       "font_size": null,
       "font_style": null,
       "font_variant": null,
       "font_weight": null,
       "text_color": null,
       "text_decoration": null
      }
     },
     "ca337889a7fd44b19c760eac382a0a8b": {
      "model_module": "@jupyter-widgets/base",
      "model_module_version": "2.0.0",
      "model_name": "LayoutModel",
      "state": {}
     },
     "ce208c99808a4d6db4f446ec5d539aa7": {
      "model_module": "@jupyter-widgets/controls",
      "model_module_version": "2.0.0",
      "model_name": "ToggleButtonModel",
      "state": {
       "button_style": "primary",
       "icon": "globe",
       "layout": "IPY_MODEL_d0fde36e0832422ba4aeb2867d945e42",
       "style": "IPY_MODEL_b0159f8291e34dfe9158554d7e9c6681",
       "tooltip": "Create timelapse"
      }
     },
     "cf5693c4808246538625a61f65b9cf31": {
      "model_module": "@jupyter-widgets/controls",
      "model_module_version": "2.0.0",
      "model_name": "ToggleButtonStyleModel",
      "state": {
       "description_width": "",
       "font_family": null,
       "font_size": null,
       "font_style": null,
       "font_variant": null,
       "font_weight": null,
       "text_color": null,
       "text_decoration": null
      }
     },
     "d020940833014cf283982cbb5d160db0": {
      "model_module": "@jupyter-widgets/base",
      "model_module_version": "2.0.0",
      "model_name": "LayoutModel",
      "state": {}
     },
     "d0ddc136257a4f699fa8e66937da7579": {
      "model_module": "jupyter-leaflet",
      "model_module_version": "^0.17",
      "model_name": "LeafletAttributionControlModel",
      "state": {
       "_model_module_version": "^0.17",
       "_view_module_version": "^0.17",
       "options": [
        "position",
        "prefix"
       ],
       "position": "bottomright",
       "prefix": "ipyleaflet"
      }
     },
     "d0eb34a5840b4dc39adf85f77fcdfb5c": {
      "model_module": "@jupyter-widgets/controls",
      "model_module_version": "2.0.0",
      "model_name": "ToggleButtonStyleModel",
      "state": {
       "description_width": "",
       "font_family": null,
       "font_size": null,
       "font_style": null,
       "font_variant": null,
       "font_weight": null,
       "text_color": null,
       "text_decoration": null
      }
     },
     "d0fde36e0832422ba4aeb2867d945e42": {
      "model_module": "@jupyter-widgets/base",
      "model_module_version": "2.0.0",
      "model_name": "LayoutModel",
      "state": {
       "height": "auto",
       "padding": "0px 0px 0px 4px",
       "width": "auto"
      }
     },
     "d20cb46a7b8d4a6d9e77b3a03b99434c": {
      "model_module": "@jupyter-widgets/base",
      "model_module_version": "2.0.0",
      "model_name": "LayoutModel",
      "state": {
       "max_width": "57px",
       "min_width": "57px"
      }
     },
     "d8b133b4c0924cbb85437cd672ec6562": {
      "model_module": "@jupyter-widgets/base",
      "model_module_version": "2.0.0",
      "model_name": "LayoutModel",
      "state": {
       "height": "auto",
       "padding": "0px 0px 0px 4px",
       "width": "auto"
      }
     },
     "dbadb4ddfd0e42a8901cca0a45f7d89c": {
      "model_module": "@jupyter-widgets/base",
      "model_module_version": "2.0.0",
      "model_name": "LayoutModel",
      "state": {
       "grid_gap": "1px 1px",
       "grid_template_columns": "32px 32px 32px ",
       "grid_template_rows": "32px 32px ",
       "padding": "5px",
       "width": "109px"
      }
     },
     "dc8374426afd4853b6055a4f86e33766": {
      "model_module": "@jupyter-widgets/base",
      "model_module_version": "2.0.0",
      "model_name": "LayoutModel",
      "state": {}
     },
     "dcc17c049f1845e691c1106bd61955b4": {
      "model_module": "@jupyter-widgets/controls",
      "model_module_version": "2.0.0",
      "model_name": "FloatSliderModel",
      "state": {
       "behavior": "drag-tap",
       "layout": "IPY_MODEL_36925923f45741ba9a539ae8eba7954d",
       "max": 1,
       "readout": false,
       "step": 0.01,
       "style": "IPY_MODEL_9a6786a4ff3c45378eaba3aa04ff1c09",
       "value": 1
      }
     },
     "dd53e622ccbc47b4bfc7b1d8fffe87af": {
      "model_module": "jupyter-leaflet",
      "model_module_version": "^0.17",
      "model_name": "LeafletWidgetControlModel",
      "state": {
       "_model_module": "jupyter-leaflet",
       "_model_module_version": "^0.17",
       "_view_count": null,
       "_view_module": "jupyter-leaflet",
       "_view_module_version": "^0.17",
       "options": [
        "position",
        "transparent_bg"
       ],
       "position": "topright",
       "widget": "IPY_MODEL_f04d210725a24fa2b96e5396c1c09e7d"
      }
     },
     "e03de0e355b74c9b88069382c0ae6f94": {
      "model_module": "@jupyter-widgets/controls",
      "model_module_version": "2.0.0",
      "model_name": "LinkModel",
      "state": {
       "source": [
        "IPY_MODEL_5567bb3f25e947209200930ae7a5653b",
        "value"
       ],
       "target": [
        "IPY_MODEL_305697cf31a149c4b0a861ed7e6544f6",
        "visible"
       ]
      }
     },
     "e18d70418b5442309f8119381b6e466b": {
      "model_module": "@jupyter-widgets/base",
      "model_module_version": "2.0.0",
      "model_name": "LayoutModel",
      "state": {
       "height": "28px",
       "padding": "0px 0px 0px 4px",
       "width": "28px"
      }
     },
     "e1eeb63427f94500a0b96edcdd37dba5": {
      "model_module": "@jupyter-widgets/controls",
      "model_module_version": "2.0.0",
      "model_name": "ToggleButtonModel",
      "state": {
       "icon": "server",
       "layout": "IPY_MODEL_e18d70418b5442309f8119381b6e466b",
       "style": "IPY_MODEL_42d3c47dc7f54f32a73f6ef6a5db2f89",
       "tooltip": "Layer Manager",
       "value": true
      }
     },
     "e2324b035f4e47849eba48f803c7cf74": {
      "model_module": "jupyter-leaflet",
      "model_module_version": "^0.17",
      "model_name": "LeafletMapModel",
      "state": {
       "_model_module_version": "^0.17",
       "_view_module_version": "^0.17",
       "bottom": 1959,
       "center": [
        32.32427558887655,
        -97.55859375000001
       ],
       "controls": [
        "IPY_MODEL_49bad76d25dd4e6595391fd7b60e29ed",
        "IPY_MODEL_608213ad839341fa930483e6ecd6fd2f",
        "IPY_MODEL_be122c95453a4f87bb677412c7480f1d",
        "IPY_MODEL_8b5158ef9a8d4381a65f029931a72c3c",
        "IPY_MODEL_ada00c7dbc9d42c6827f0591c213050c",
        "IPY_MODEL_54ba4518316047be94bb94dc019f4887",
        "IPY_MODEL_dd53e622ccbc47b4bfc7b1d8fffe87af",
        "IPY_MODEL_d0ddc136257a4f699fa8e66937da7579"
       ],
       "default_style": "IPY_MODEL_99322800d35649c09027deca755a06b2",
       "dragging_style": "IPY_MODEL_27dda21faee8410f8d6c0cc6f87c931b",
       "east": -74.79492187500001,
       "fullscreen": false,
       "interpolation": "bilinear",
       "layers": [
        "IPY_MODEL_2ca67e7874e9458dba1c9926785795d9",
        "IPY_MODEL_f2248a37ff4440e1b132546ebe86b189",
        "IPY_MODEL_54c7891c1cb248c687730d114491836c"
       ],
       "layout": "IPY_MODEL_70d6515edb2c4b0f83113699f7a91765",
       "left": 679,
       "max_zoom": 24,
       "modisdate": "2023-11-27",
       "north": 51.67255514839676,
       "options": [
        "bounce_at_zoom_limits",
        "box_zoom",
        "center",
        "close_popup_on_click",
        "double_click_zoom",
        "dragging",
        "fullscreen",
        "inertia",
        "inertia_deceleration",
        "inertia_max_speed",
        "interpolation",
        "keyboard",
        "keyboard_pan_offset",
        "keyboard_zoom_offset",
        "max_zoom",
        "min_zoom",
        "prefer_canvas",
        "scroll_wheel_zoom",
        "tap",
        "tap_tolerance",
        "touch_zoom",
        "world_copy_jump",
        "zoom",
        "zoom_animation_threshold",
        "zoom_delta",
        "zoom_snap"
       ],
       "prefer_canvas": false,
       "right": 1197,
       "scroll_wheel_zoom": true,
       "south": 7.798078531355303,
       "style": "IPY_MODEL_99322800d35649c09027deca755a06b2",
       "top": 1359,
       "west": -120.32226562500001,
       "window_url": "https://jupyterhub.cuahsi.org/user/torresrua/lab/tree/CEE5003/RS_of_Land_Surfaces_laboratory/Lab%200%20Getting%20to%20know%20EarthEngine%20(Part%202).ipynb",
       "zoom": 4
      }
     },
     "e3b57d25baa24a58a41a71cdbea0ebd2": {
      "model_module": "@jupyter-widgets/base",
      "model_module_version": "2.0.0",
      "model_name": "LayoutModel",
      "state": {
       "height": "18px",
       "width": "140px"
      }
     },
     "e519569f29924d2ba35829e1f44b582b": {
      "model_module": "@jupyter-widgets/controls",
      "model_module_version": "2.0.0",
      "model_name": "TextModel",
      "state": {
       "layout": "IPY_MODEL_4810c135ffc5477fa7a54e08bf5f8fe2",
       "placeholder": "Search by place name or address",
       "style": "IPY_MODEL_f9db16959b3f4850a6de3decefc2ed08",
       "tooltip": "Search location"
      }
     },
     "e8d0406f62b945cca5827ccfc9ca6516": {
      "model_module": "@jupyter-widgets/controls",
      "model_module_version": "2.0.0",
      "model_name": "RadioButtonsModel",
      "state": {
       "index": null,
       "layout": "IPY_MODEL_3f591ea07bec40c7ba5aac00c5e046ed",
       "style": "IPY_MODEL_4753b9ac214d47f0a4eb971edc8e3037"
      }
     },
     "ea53e528d90b464f8408b92af5cb07a0": {
      "model_module": "@jupyter-widgets/controls",
      "model_module_version": "2.0.0",
      "model_name": "ToggleButtonStyleModel",
      "state": {
       "description_width": "",
       "font_family": null,
       "font_size": null,
       "font_style": null,
       "font_variant": null,
       "font_weight": null,
       "text_color": null,
       "text_decoration": null
      }
     },
     "eb67d702b0ad4696a85b6b9ccaf13254": {
      "model_module": "@jupyter-widgets/base",
      "model_module_version": "2.0.0",
      "model_name": "LayoutModel",
      "state": {
       "height": "18px",
       "width": "140px"
      }
     },
     "eb9766e121604b4db67d46e00a432272": {
      "model_module": "@jupyter-widgets/base",
      "model_module_version": "2.0.0",
      "model_name": "LayoutModel",
      "state": {}
     },
     "eca99568791d4284a2ee3214b548bc18": {
      "model_module": "@jupyter-widgets/controls",
      "model_module_version": "2.0.0",
      "model_name": "GridBoxModel",
      "state": {
       "children": [
        "IPY_MODEL_620b870796d243f9b90de56ffdeeb143",
        "IPY_MODEL_74657451d5644a7d91e98b311d8ff70d",
        "IPY_MODEL_ce208c99808a4d6db4f446ec5d539aa7",
        "IPY_MODEL_fac862779930440f89628f93b6facc92",
        "IPY_MODEL_5e245464c4c8466284939249c6b1a2b9",
        "IPY_MODEL_2e199721bf38484b885f66b60a38a59e"
       ],
       "layout": "IPY_MODEL_dbadb4ddfd0e42a8901cca0a45f7d89c"
      }
     },
     "ed23b88dee2b491a8661d6774e40985f": {
      "model_module": "@jupyter-widgets/base",
      "model_module_version": "2.0.0",
      "model_name": "LayoutModel",
      "state": {
       "max_width": "279px",
       "min_width": "279px"
      }
     },
     "ede194969cc14dcd9a1039fa6e874fc8": {
      "model_module": "@jupyter-widgets/base",
      "model_module_version": "2.0.0",
      "model_name": "LayoutModel",
      "state": {
       "height": "28px",
       "width": "72px"
      }
     },
     "f04d210725a24fa2b96e5396c1c09e7d": {
      "model_module": "@jupyter-widgets/controls",
      "model_module_version": "2.0.0",
      "model_name": "VBoxModel",
      "state": {
       "_view_count": 1,
       "children": [
        "IPY_MODEL_023216504fe141e5b18ed49142c0a6c9"
       ],
       "layout": "IPY_MODEL_d020940833014cf283982cbb5d160db0"
      }
     },
     "f2248a37ff4440e1b132546ebe86b189": {
      "model_module": "jupyter-leaflet",
      "model_module_version": "^0.17",
      "model_name": "LeafletTileLayerModel",
      "state": {
       "_model_module_version": "^0.17",
       "_view_module_version": "^0.17",
       "attribution": "Google",
       "max_zoom": 24,
       "name": "Google Maps",
       "options": [
        "attribution",
        "bounds",
        "detect_retina",
        "max_native_zoom",
        "max_zoom",
        "min_native_zoom",
        "min_zoom",
        "no_wrap",
        "tile_size",
        "tms",
        "zoom_offset"
       ],
       "url": "https://mt1.google.com/vt/lyrs=m&x={x}&y={y}&z={z}"
      }
     },
     "f2ae8ee02ac3494eaf8b636f76cb5fa0": {
      "model_module": "@jupyter-widgets/controls",
      "model_module_version": "2.0.0",
      "model_name": "ToggleButtonStyleModel",
      "state": {
       "description_width": "",
       "font_family": null,
       "font_size": null,
       "font_style": null,
       "font_variant": null,
       "font_weight": null,
       "text_color": null,
       "text_decoration": null
      }
     },
     "f2cf258e509a49c990b2d6d682d8eb8f": {
      "model_module": "@jupyter-widgets/controls",
      "model_module_version": "2.0.0",
      "model_name": "HBoxModel",
      "state": {
       "children": [
        "IPY_MODEL_05828e518552459986081ef9a158c0c4",
        "IPY_MODEL_023216504fe141e5b18ed49142c0a6c9"
       ],
       "layout": "IPY_MODEL_a5334e69dfce403e974de7ac8040ff69"
      }
     },
     "f2dec2d2e0e442599cda11b498b57122": {
      "model_module": "@jupyter-widgets/controls",
      "model_module_version": "2.0.0",
      "model_name": "ToggleButtonStyleModel",
      "state": {
       "description_width": "",
       "font_family": null,
       "font_size": null,
       "font_style": null,
       "font_variant": null,
       "font_weight": null,
       "text_color": null,
       "text_decoration": null
      }
     },
     "f35e78bbd7594c33926b72f98e81a424": {
      "model_module": "@jupyter-widgets/base",
      "model_module_version": "2.0.0",
      "model_name": "LayoutModel",
      "state": {
       "height": "auto",
       "padding": "0px 0px 0px 4px",
       "width": "auto"
      }
     },
     "f3c109f0a0cf4830ad6f4e4d04899f44": {
      "model_module": "@jupyter-widgets/controls",
      "model_module_version": "2.0.0",
      "model_name": "ToggleButtonStyleModel",
      "state": {
       "description_width": "",
       "font_family": null,
       "font_size": null,
       "font_style": null,
       "font_variant": null,
       "font_weight": null,
       "text_color": null,
       "text_decoration": null
      }
     },
     "f428d855d7b746afa4f2d8e82c349190": {
      "model_module": "@jupyter-widgets/controls",
      "model_module_version": "2.0.0",
      "model_name": "SliderStyleModel",
      "state": {
       "description_width": ""
      }
     },
     "f7d887b3eaa54de4af58d9931a53aa00": {
      "model_module": "@jupyter-widgets/controls",
      "model_module_version": "2.0.0",
      "model_name": "CheckboxStyleModel",
      "state": {
       "description_width": ""
      }
     },
     "f7e4d1793de94fcb97003fea7477a226": {
      "model_module": "@jupyter-widgets/controls",
      "model_module_version": "2.0.0",
      "model_name": "ToggleButtonStyleModel",
      "state": {
       "description_width": "",
       "font_family": null,
       "font_size": null,
       "font_style": null,
       "font_variant": null,
       "font_weight": null,
       "text_color": null,
       "text_decoration": null
      }
     },
     "f859864e8d944ac8869374811dde31e1": {
      "model_module": "@jupyter-widgets/controls",
      "model_module_version": "2.0.0",
      "model_name": "ToggleButtonStyleModel",
      "state": {
       "description_width": "",
       "font_family": null,
       "font_size": null,
       "font_style": null,
       "font_variant": null,
       "font_weight": null,
       "text_color": null,
       "text_decoration": null
      }
     },
     "f8a9df2bcdc3441989608c399b7f110d": {
      "model_module": "@jupyter-widgets/controls",
      "model_module_version": "2.0.0",
      "model_name": "HTMLStyleModel",
      "state": {
       "description_width": "",
       "font_size": null,
       "text_color": null
      }
     },
     "f9db16959b3f4850a6de3decefc2ed08": {
      "model_module": "@jupyter-widgets/controls",
      "model_module_version": "2.0.0",
      "model_name": "TextStyleModel",
      "state": {
       "description_width": "",
       "font_size": null,
       "text_color": null
      }
     },
     "faaed57b7a05409081dd38f56c040aa5": {
      "model_module": "@jupyter-widgets/base",
      "model_module_version": "2.0.0",
      "model_name": "LayoutModel",
      "state": {
       "height": "auto",
       "padding": "0px 0px 0px 4px",
       "width": "auto"
      }
     },
     "fac862779930440f89628f93b6facc92": {
      "model_module": "@jupyter-widgets/controls",
      "model_module_version": "2.0.0",
      "model_name": "ToggleButtonModel",
      "state": {
       "button_style": "primary",
       "icon": "map",
       "layout": "IPY_MODEL_7ee1248b86174707b76062630febfa3d",
       "style": "IPY_MODEL_39a914336d004442989e5481f5156dd6",
       "tooltip": "Change basemap"
      }
     },
     "fb2a1131cd904130b12a3d1940020fe2": {
      "model_module": "@jupyter-widgets/base",
      "model_module_version": "2.0.0",
      "model_name": "LayoutModel",
      "state": {
       "height": "auto",
       "padding": "0px 0px 0px 4px",
       "width": "auto"
      }
     },
     "ff038f74107c4f90a9337c2f4075b67f": {
      "model_module": "@jupyter-widgets/base",
      "model_module_version": "2.0.0",
      "model_name": "LayoutModel",
      "state": {
       "width": "80px"
      }
     },
     "ff3b7e8e325d46e4bc9544bd4ab89765": {
      "model_module": "@jupyter-widgets/controls",
      "model_module_version": "2.0.0",
      "model_name": "ToggleButtonStyleModel",
      "state": {
       "description_width": "",
       "font_family": null,
       "font_size": null,
       "font_style": null,
       "font_variant": null,
       "font_weight": null,
       "text_color": null,
       "text_decoration": null
      }
     }
    },
    "version_major": 2,
    "version_minor": 0
   }
  }
 },
 "nbformat": 4,
 "nbformat_minor": 4
}
