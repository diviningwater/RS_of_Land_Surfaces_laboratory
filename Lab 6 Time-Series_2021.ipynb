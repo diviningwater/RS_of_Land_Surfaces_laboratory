{
 "cells": [
  {
   "cell_type": "markdown",
   "metadata": {},
   "source": [
    "<a href=\"https://colab.research.google.com/github/davemlz/eemont/blob/master/tutorials/014-Time-Series-By-Regions-Pandas.ipynb\" target=\"_parent\"><img src=\"https://colab.research.google.com/assets/colab-badge.svg\" alt=\"Open In Colab\"/></a>"
   ]
  },
  {
   "cell_type": "markdown",
   "metadata": {
    "id": "jZEthLln92Ep"
   },
   "source": [
    "# Time Series By Regions (with Conversion to Pandas and Visualization with Seaborn) using EEMONT, GEETOOLS and GEEMAP"
   ]
  },
  {
   "cell_type": "markdown",
   "metadata": {
    "id": "dNa470OZ8Oec"
   },
   "source": [
    "- GitHub Repo: [https://github.com/davemlz/eemont](https://github.com/davemlz/eemont)\n",
    "- PyPI link: [https://pypi.org/project/eemont/](https://pypi.org/project/eemont/)\n",
    "- Documentation: [https://eemont.readthedocs.io/en/0.1.8/index.html](https://eemont.readthedocs.io/en/0.1.8/index.html)\n",
    "- More tutorials: [https://github.com/davemlz/eemont/tree/master/tutorials](https://github.com/davemlz/eemont/tree/master/tutorials)"
   ]
  },
  {
   "cell_type": "markdown",
   "metadata": {
    "id": "CD7h0hbi92Er",
    "tags": []
   },
   "source": [
    "## Let's start!"
   ]
  },
  {
   "cell_type": "markdown",
   "metadata": {
    "id": "E0rc6Cya92Es"
   },
   "source": [
    "NOTE: before running this notebook, pass the following commands to a Python terminal. (File, New, Terminal)"
   ]
  },
  {
   "cell_type": "code",
   "execution_count": 1,
   "metadata": {},
   "outputs": [
    {
     "name": "stdout",
     "output_type": "stream",
     "text": [
      "yes: standard output: Broken pipe\n"
     ]
    }
   ],
   "source": [
    "!yes | mamba install eemont -q"
   ]
  },
  {
   "cell_type": "markdown",
   "metadata": {
    "id": "x3Rm3qt_92Et"
   },
   "source": [
    "Return to this notebook and Import the required packges."
   ]
  },
  {
   "cell_type": "code",
   "execution_count": 3,
   "metadata": {
    "id": "H0C9S_Hh92Et"
   },
   "outputs": [],
   "source": [
    "import ee, geemap\n",
    "import pandas as pd\n",
    "import numpy as np\n",
    "import seaborn as sns\n",
    "from matplotlib import pyplot as plt\n",
    "import eemont\n",
    "\n",
    "# import geetools for cloud /shadow discrimination\n",
    "# from geetools import ui, cloud_mask\n"
   ]
  },
  {
   "cell_type": "markdown",
   "metadata": {
    "id": "k1sdX2p592Eu"
   },
   "source": [
    "Authenticate and Initialize Earth Engine and geemap."
   ]
  },
  {
   "cell_type": "code",
   "execution_count": 4,
   "metadata": {
    "id": "7QDXqVwy8Oef"
   },
   "outputs": [
    {
     "data": {
      "application/vnd.jupyter.widget-view+json": {
       "model_id": "5630814b99aa409bbccfe1e8565d42f6",
       "version_major": 2,
       "version_minor": 0
      },
      "text/plain": [
       "Map(center=[20, 0], controls=(WidgetControl(options=['position', 'transparent_bg'], widget=HBox(children=(Togg…"
      ]
     },
     "execution_count": 4,
     "metadata": {},
     "output_type": "execute_result"
    }
   ],
   "source": [
    "Map = geemap.Map()\n",
    "Map.add_basemap('Esri.WorldImagery')\n",
    "Map\n"
   ]
  },
  {
   "cell_type": "markdown",
   "metadata": {},
   "source": [
    "Let's use some center-pivot crops in Utah:"
   ]
  },
  {
   "cell_type": "code",
   "execution_count": 5,
   "metadata": {},
   "outputs": [
    {
     "data": {
      "application/vnd.jupyter.widget-view+json": {
       "model_id": "5630814b99aa409bbccfe1e8565d42f6",
       "version_major": 2,
       "version_minor": 0
      },
      "text/plain": [
       "Map(center=[37.68295151294841, -113.66364198203783], controls=(WidgetControl(options=['position', 'transparent…"
      ]
     },
     "execution_count": 5,
     "metadata": {},
     "output_type": "execute_result"
    }
   ],
   "source": [
    "pivot0=ee.Geometry.Point([-113.663642,37.682951]).buffer(500) #the number in buffer is the radius for the center pivot\n",
    "pivot1=ee.Geometry.Point([-113.698426,37.623206]).buffer(400)\n",
    "pivot2=ee.Geometry.Point([-113.642373,37.732786]).buffer(400)\n",
    "\n",
    "Map.addLayer(pivot0,{},'pivot0')\n",
    "Map.addLayer(pivot1,{},'pivot1')\n",
    "Map.addLayer(pivot2,{},'pivot2')\n",
    "\n",
    "Map.centerObject(pivot0,12)\n",
    "Map"
   ]
  },
  {
   "cell_type": "markdown",
   "metadata": {},
   "source": [
    "Let's combine the different center pivot features into a Feature Collection"
   ]
  },
  {
   "cell_type": "code",
   "execution_count": 6,
   "metadata": {},
   "outputs": [],
   "source": [
    "pivots = ee.FeatureCollection([\n",
    "    ee.Feature(pivot0,{'pivot':0}),\n",
    "    ee.Feature(pivot1,{'pivot':1}),\n",
    "    ee.Feature(pivot2,{'pivot':2})    \n",
    "])"
   ]
  },
  {
   "cell_type": "markdown",
   "metadata": {},
   "source": [
    "Let's pre-process and process our image collection; LANDSAT 8"
   ]
  },
  {
   "cell_type": "markdown",
   "metadata": {},
   "source": [
    "First let's create a Landsat 8 snow pixel filter"
   ]
  },
  {
   "cell_type": "code",
   "execution_count": 7,
   "metadata": {},
   "outputs": [],
   "source": [
    "def maskSnow(image):\n",
    "# // to Landsat 8 imagery.\n",
    "    N = image.select('B5')\n",
    "    G = image.select('B3')\n",
    "    NDSI =image.normalizedDifference(['B3', 'B6'])\n",
    "    # https://eemont.readthedocs.io/en/latest/tutorials/006-NDSI-and-Snow-Cover-Sentinel-2-MOD10A2.html?highlight=snow%20mask#Overloaded-Operators\n",
    "    snowPixels = (NDSI > 0.4) & (N >= 0.1) & (G > 0.11)\n",
    "    return image.updateMask(~snowPixels)"
   ]
  },
  {
   "cell_type": "markdown",
   "metadata": {},
   "source": [
    "process landsat and apply maskSnow"
   ]
  },
  {
   "cell_type": "code",
   "execution_count": 8,
   "metadata": {},
   "outputs": [],
   "source": [
    "L8 = (ee.ImageCollection('LANDSAT/LC08/C01/T1_SR')\n",
    "      .filterBounds(pivots)\n",
    "      .maskClouds()\n",
    "      .scaleAndOffset()\n",
    "      .spectralIndices(['NDVI','NDWI','GVMI'])).map(maskSnow)"
   ]
  },
  {
   "cell_type": "markdown",
   "metadata": {},
   "source": [
    "The list of available indices in eemont can be retrieved by running (check this list to get details on the implemented indexes https://eemont.readthedocs.io/en/latest/guide/spectralIndices.html):"
   ]
  },
  {
   "cell_type": "code",
   "execution_count": 9,
   "metadata": {},
   "outputs": [
    {
     "data": {
      "text/plain": [
       "['AFRI1600',\n",
       " 'AFRI2100',\n",
       " 'ANDWI',\n",
       " 'ARI',\n",
       " 'ARI2',\n",
       " 'ARVI',\n",
       " 'ATSAVI',\n",
       " 'AVI',\n",
       " 'AWEInsh',\n",
       " 'AWEIsh',\n",
       " 'BAI',\n",
       " 'BAIM',\n",
       " 'BAIS2',\n",
       " 'BCC',\n",
       " 'BI',\n",
       " 'BITM',\n",
       " 'BIXS',\n",
       " 'BLFEI',\n",
       " 'BNDVI',\n",
       " 'BRBA',\n",
       " 'BWDRVI',\n",
       " 'BaI',\n",
       " 'CIG',\n",
       " 'CIRE',\n",
       " 'CSI',\n",
       " 'CSIT',\n",
       " 'CVI',\n",
       " 'DBI',\n",
       " 'DBSI',\n",
       " 'DPDD',\n",
       " 'DSI',\n",
       " 'DSWI1',\n",
       " 'DSWI2',\n",
       " 'DSWI3',\n",
       " 'DSWI4',\n",
       " 'DSWI5',\n",
       " 'DVI',\n",
       " 'DVIplus',\n",
       " 'DpRVIHH',\n",
       " 'DpRVIVV',\n",
       " 'EBBI',\n",
       " 'EMBI',\n",
       " 'EVI',\n",
       " 'EVI2',\n",
       " 'ExG',\n",
       " 'ExGR',\n",
       " 'ExR',\n",
       " 'FCVI',\n",
       " 'GARI',\n",
       " 'GBNDVI',\n",
       " 'GCC',\n",
       " 'GDVI',\n",
       " 'GEMI',\n",
       " 'GLI',\n",
       " 'GM1',\n",
       " 'GM2',\n",
       " 'GNDVI',\n",
       " 'GOSAVI',\n",
       " 'GRNDVI',\n",
       " 'GRVI',\n",
       " 'GSAVI',\n",
       " 'GVMI',\n",
       " 'IAVI',\n",
       " 'IBI',\n",
       " 'IKAW',\n",
       " 'IPVI',\n",
       " 'IRECI',\n",
       " 'LSWI',\n",
       " 'MBI',\n",
       " 'MBWI',\n",
       " 'MCARI',\n",
       " 'MCARI1',\n",
       " 'MCARI2',\n",
       " 'MCARI705',\n",
       " 'MCARIOSAVI',\n",
       " 'MCARIOSAVI705',\n",
       " 'MGRVI',\n",
       " 'MIRBI',\n",
       " 'MLSWI26',\n",
       " 'MLSWI27',\n",
       " 'MNDVI',\n",
       " 'MNDWI',\n",
       " 'MNLI',\n",
       " 'MRBVI',\n",
       " 'MSAVI',\n",
       " 'MSI',\n",
       " 'MSR',\n",
       " 'MSR705',\n",
       " 'MTCI',\n",
       " 'MTVI1',\n",
       " 'MTVI2',\n",
       " 'MuWIR',\n",
       " 'NBAI',\n",
       " 'NBLI',\n",
       " 'NBR',\n",
       " 'NBR2',\n",
       " 'NBRSWIR',\n",
       " 'NBRT1',\n",
       " 'NBRT2',\n",
       " 'NBRT3',\n",
       " 'NBRplus',\n",
       " 'NBSIMS',\n",
       " 'NBUI',\n",
       " 'ND705',\n",
       " 'NDBI',\n",
       " 'NDBaI',\n",
       " 'NDCI',\n",
       " 'NDDI',\n",
       " 'NDGI',\n",
       " 'NDGlaI',\n",
       " 'NDII',\n",
       " 'NDISIb',\n",
       " 'NDISIg',\n",
       " 'NDISImndwi',\n",
       " 'NDISIndwi',\n",
       " 'NDISIr',\n",
       " 'NDMI',\n",
       " 'NDPI',\n",
       " 'NDPolI',\n",
       " 'NDPonI',\n",
       " 'NDREI',\n",
       " 'NDSI',\n",
       " 'NDSII',\n",
       " 'NDSIWV',\n",
       " 'NDSInw',\n",
       " 'NDSWIR',\n",
       " 'NDSaII',\n",
       " 'NDSoI',\n",
       " 'NDTI',\n",
       " 'NDVI',\n",
       " 'NDVI705',\n",
       " 'NDVIMNDWI',\n",
       " 'NDVIT',\n",
       " 'NDWI',\n",
       " 'NDWIns',\n",
       " 'NDYI',\n",
       " 'NGRDI',\n",
       " 'NHFD',\n",
       " 'NIRv',\n",
       " 'NIRvH2',\n",
       " 'NIRvP',\n",
       " 'NLI',\n",
       " 'NMDI',\n",
       " 'NRFIg',\n",
       " 'NRFIr',\n",
       " 'NSDS',\n",
       " 'NSDSI1',\n",
       " 'NSDSI2',\n",
       " 'NSDSI3',\n",
       " 'NSTv1',\n",
       " 'NSTv2',\n",
       " 'NWI',\n",
       " 'NormG',\n",
       " 'NormNIR',\n",
       " 'NormR',\n",
       " 'OCVI',\n",
       " 'OSAVI',\n",
       " 'PISI',\n",
       " 'PSRI',\n",
       " 'QpRVI',\n",
       " 'RCC',\n",
       " 'RDVI',\n",
       " 'REDSI',\n",
       " 'RENDVI',\n",
       " 'RFDI',\n",
       " 'RGBVI',\n",
       " 'RGRI',\n",
       " 'RI',\n",
       " 'RI4XS',\n",
       " 'RVI',\n",
       " 'S2REP',\n",
       " 'S2WI',\n",
       " 'S3',\n",
       " 'SARVI',\n",
       " 'SAVI',\n",
       " 'SAVI2',\n",
       " 'SAVIT',\n",
       " 'SEVI',\n",
       " 'SI',\n",
       " 'SIPI',\n",
       " 'SR',\n",
       " 'SR2',\n",
       " 'SR3',\n",
       " 'SR555',\n",
       " 'SR705',\n",
       " 'SWI',\n",
       " 'SWM',\n",
       " 'SeLI',\n",
       " 'TCARI',\n",
       " 'TCARIOSAVI',\n",
       " 'TCARIOSAVI705',\n",
       " 'TCI',\n",
       " 'TDVI',\n",
       " 'TGI',\n",
       " 'TRRVI',\n",
       " 'TSAVI',\n",
       " 'TTVI',\n",
       " 'TVI',\n",
       " 'TriVI',\n",
       " 'UI',\n",
       " 'VARI',\n",
       " 'VARI700',\n",
       " 'VDDPI',\n",
       " 'VHVVD',\n",
       " 'VHVVP',\n",
       " 'VHVVR',\n",
       " 'VI6T',\n",
       " 'VI700',\n",
       " 'VIBI',\n",
       " 'VIG',\n",
       " 'VVVHD',\n",
       " 'VVVHR',\n",
       " 'VVVHS',\n",
       " 'VgNIRBI',\n",
       " 'VrNIRBI',\n",
       " 'WDRVI',\n",
       " 'WDVI',\n",
       " 'WI1',\n",
       " 'WI2',\n",
       " 'WI2015',\n",
       " 'WRI',\n",
       " 'kEVI',\n",
       " 'kIPVI',\n",
       " 'kNDVI',\n",
       " 'kRVI',\n",
       " 'kVARI',\n",
       " 'mND705',\n",
       " 'mSR705']"
      ]
     },
     "execution_count": 9,
     "metadata": {},
     "output_type": "execute_result"
    }
   ],
   "source": [
    "eemont.listIndices()"
   ]
  },
  {
   "cell_type": "markdown",
   "metadata": {},
   "source": [
    "Let's check which bands are available."
   ]
  },
  {
   "cell_type": "code",
   "execution_count": 10,
   "metadata": {},
   "outputs": [
    {
     "data": {
      "text/plain": [
       "['B1',\n",
       " 'B2',\n",
       " 'B3',\n",
       " 'B4',\n",
       " 'B5',\n",
       " 'B6',\n",
       " 'B7',\n",
       " 'B10',\n",
       " 'B11',\n",
       " 'sr_aerosol',\n",
       " 'pixel_qa',\n",
       " 'radsat_qa',\n",
       " 'NDVI',\n",
       " 'NDWI',\n",
       " 'GVMI']"
      ]
     },
     "execution_count": 10,
     "metadata": {},
     "output_type": "execute_result"
    }
   ],
   "source": [
    "L8.first().bandNames().getInfo()"
   ]
  },
  {
   "cell_type": "markdown",
   "metadata": {},
   "source": [
    "## Time Lapse of the Satellite data"
   ]
  },
  {
   "cell_type": "markdown",
   "metadata": {},
   "source": [
    "Using Geemap example 72"
   ]
  },
  {
   "cell_type": "code",
   "execution_count": 11,
   "metadata": {},
   "outputs": [
    {
     "data": {
      "application/vnd.jupyter.widget-view+json": {
       "model_id": "5630814b99aa409bbccfe1e8565d42f6",
       "version_major": 2,
       "version_minor": 0
      },
      "text/plain": [
       "Map(center=[37.68295151294841, -113.66364198203783], controls=(WidgetControl(options=['position', 'transparent…"
      ]
     },
     "execution_count": 11,
     "metadata": {},
     "output_type": "execute_result"
    }
   ],
   "source": [
    "collection = L8.select(\"NDVI\").filter(ee.Filter.date('2021-01-01', '2021-12-31')).sort('system:time_start')\n",
    "\n",
    "vis_params = {\n",
    "  'min': 0.0,\n",
    "  'max': 1.0,\n",
    "  'palette': [\n",
    "    'FFFFFF', 'CE7E45', 'DF923D', 'F1B555', 'FCD163', '99B718', '74A901',\n",
    "    '66A000', '529400', '3E8601', '207401', '056201', '004C00', '023B01',\n",
    "    '012E01', '011D01', '011301'\n",
    "  ],\n",
    "}\n",
    "\n",
    "first_image = collection.first()\n",
    "\n",
    "Map.addLayer(first_image, vis_params, \"First image\")\n",
    "# Map.setCenter(-7.03125, 31.0529339857, 2)\n",
    "Map"
   ]
  },
  {
   "cell_type": "code",
   "execution_count": 12,
   "metadata": {},
   "outputs": [],
   "source": [
    "# image = collection.toBands()\n",
    "# Map.addLayer(image, {}, \"Time series\", False)"
   ]
  },
  {
   "cell_type": "code",
   "execution_count": 35,
   "metadata": {},
   "outputs": [
    {
     "data": {
      "application/vnd.jupyter.widget-view+json": {
       "model_id": "5630814b99aa409bbccfe1e8565d42f6",
       "version_major": 2,
       "version_minor": 0
      },
      "text/plain": [
       "Map(bottom=1623197.0, center=[37.658751368732155, -113.6433506011963], controls=(WidgetControl(options=['posit…"
      ]
     },
     "execution_count": 35,
     "metadata": {},
     "output_type": "execute_result"
    }
   ],
   "source": [
    "labels = collection.aggregate_array(\"system:index\").getInfo()\n",
    "Map.add_time_slider(collection, vis_params, labels=labels, time_interval=1)\n",
    "Map"
   ]
  },
  {
   "cell_type": "markdown",
   "metadata": {},
   "source": [
    "## Time Series By Regions"
   ]
  },
  {
   "cell_type": "markdown",
   "metadata": {},
   "source": [
    "Let's get the L8 time series for our buffer. Checklist:\n",
    "\n",
    "- Image Collection: The Landsat 8 collection.\n",
    "- Bands to use for the time series: GNDVI and EVI.\n",
    "- Feature Collection: Our center-pivot crops.\n",
    "- Statistics to compute: Mean and Median.\n",
    "- Scale: 30 m."
   ]
  },
  {
   "cell_type": "code",
   "execution_count": 36,
   "metadata": {},
   "outputs": [],
   "source": [
    "ts = L8.getTimeSeriesByRegions(collection = pivots,\n",
    "                               bands = ['NDVI','NDWI','GVMI'],\n",
    "                               reducer = [ee.Reducer.mean()], #ee.Reducer.median()\n",
    "                               scale = 30)"
   ]
  },
  {
   "cell_type": "markdown",
   "metadata": {},
   "source": [
    "## Conversion to Pandas"
   ]
  },
  {
   "cell_type": "markdown",
   "metadata": {},
   "source": [
    "The time series is retrieved as a feature collection. To convert it to a pandas dataframe we'll use `geemap` (This may take a little bit):"
   ]
  },
  {
   "cell_type": "code",
   "execution_count": 15,
   "metadata": {},
   "outputs": [],
   "source": [
    "tsPandas = geemap.ee_to_pandas(ts)"
   ]
  },
  {
   "cell_type": "markdown",
   "metadata": {},
   "source": [
    "Let's check our pandas data frame:"
   ]
  },
  {
   "cell_type": "code",
   "execution_count": 16,
   "metadata": {},
   "outputs": [
    {
     "data": {
      "text/html": [
       "<div>\n",
       "<style scoped>\n",
       "    .dataframe tbody tr th:only-of-type {\n",
       "        vertical-align: middle;\n",
       "    }\n",
       "\n",
       "    .dataframe tbody tr th {\n",
       "        vertical-align: top;\n",
       "    }\n",
       "\n",
       "    .dataframe thead th {\n",
       "        text-align: right;\n",
       "    }\n",
       "</style>\n",
       "<table border=\"1\" class=\"dataframe\">\n",
       "  <thead>\n",
       "    <tr style=\"text-align: right;\">\n",
       "      <th></th>\n",
       "      <th>date</th>\n",
       "      <th>B4</th>\n",
       "      <th>B5</th>\n",
       "      <th>pivot</th>\n",
       "      <th>reducer</th>\n",
       "      <th>NDVI</th>\n",
       "    </tr>\n",
       "  </thead>\n",
       "  <tbody>\n",
       "    <tr>\n",
       "      <th>0</th>\n",
       "      <td>2013-03-29T18:11:42</td>\n",
       "      <td>0.239893</td>\n",
       "      <td>0.316394</td>\n",
       "      <td>0</td>\n",
       "      <td>mean</td>\n",
       "      <td>0.137762</td>\n",
       "    </tr>\n",
       "    <tr>\n",
       "      <th>1</th>\n",
       "      <td>2013-03-29T18:11:42</td>\n",
       "      <td>0.142119</td>\n",
       "      <td>0.290962</td>\n",
       "      <td>1</td>\n",
       "      <td>mean</td>\n",
       "      <td>0.343453</td>\n",
       "    </tr>\n",
       "    <tr>\n",
       "      <th>2</th>\n",
       "      <td>2013-03-29T18:11:42</td>\n",
       "      <td>0.177749</td>\n",
       "      <td>0.339646</td>\n",
       "      <td>2</td>\n",
       "      <td>mean</td>\n",
       "      <td>0.313492</td>\n",
       "    </tr>\n",
       "    <tr>\n",
       "      <th>3</th>\n",
       "      <td>2013-04-22T18:10:46</td>\n",
       "      <td>0.253788</td>\n",
       "      <td>0.337367</td>\n",
       "      <td>0</td>\n",
       "      <td>mean</td>\n",
       "      <td>0.141594</td>\n",
       "    </tr>\n",
       "    <tr>\n",
       "      <th>4</th>\n",
       "      <td>2013-04-22T18:10:46</td>\n",
       "      <td>0.066927</td>\n",
       "      <td>0.424787</td>\n",
       "      <td>1</td>\n",
       "      <td>mean</td>\n",
       "      <td>0.727673</td>\n",
       "    </tr>\n",
       "    <tr>\n",
       "      <th>...</th>\n",
       "      <td>...</td>\n",
       "      <td>...</td>\n",
       "      <td>...</td>\n",
       "      <td>...</td>\n",
       "      <td>...</td>\n",
       "      <td>...</td>\n",
       "    </tr>\n",
       "    <tr>\n",
       "      <th>1150</th>\n",
       "      <td>2021-12-15T18:15:31</td>\n",
       "      <td>-9999.000000</td>\n",
       "      <td>-9999.000000</td>\n",
       "      <td>1</td>\n",
       "      <td>mean</td>\n",
       "      <td>-9999.000000</td>\n",
       "    </tr>\n",
       "    <tr>\n",
       "      <th>1151</th>\n",
       "      <td>2021-12-15T18:15:31</td>\n",
       "      <td>-9999.000000</td>\n",
       "      <td>-9999.000000</td>\n",
       "      <td>2</td>\n",
       "      <td>mean</td>\n",
       "      <td>-9999.000000</td>\n",
       "    </tr>\n",
       "    <tr>\n",
       "      <th>1152</th>\n",
       "      <td>2021-12-31T18:15:25</td>\n",
       "      <td>-9999.000000</td>\n",
       "      <td>-9999.000000</td>\n",
       "      <td>0</td>\n",
       "      <td>mean</td>\n",
       "      <td>-9999.000000</td>\n",
       "    </tr>\n",
       "    <tr>\n",
       "      <th>1153</th>\n",
       "      <td>2021-12-31T18:15:25</td>\n",
       "      <td>-9999.000000</td>\n",
       "      <td>-9999.000000</td>\n",
       "      <td>1</td>\n",
       "      <td>mean</td>\n",
       "      <td>-9999.000000</td>\n",
       "    </tr>\n",
       "    <tr>\n",
       "      <th>1154</th>\n",
       "      <td>2021-12-31T18:15:25</td>\n",
       "      <td>-9999.000000</td>\n",
       "      <td>-9999.000000</td>\n",
       "      <td>2</td>\n",
       "      <td>mean</td>\n",
       "      <td>-9999.000000</td>\n",
       "    </tr>\n",
       "  </tbody>\n",
       "</table>\n",
       "<p>1155 rows × 6 columns</p>\n",
       "</div>"
      ],
      "text/plain": [
       "                     date           B4           B5  pivot reducer  \\\n",
       "0     2013-03-29T18:11:42     0.239893     0.316394      0    mean   \n",
       "1     2013-03-29T18:11:42     0.142119     0.290962      1    mean   \n",
       "2     2013-03-29T18:11:42     0.177749     0.339646      2    mean   \n",
       "3     2013-04-22T18:10:46     0.253788     0.337367      0    mean   \n",
       "4     2013-04-22T18:10:46     0.066927     0.424787      1    mean   \n",
       "...                   ...          ...          ...    ...     ...   \n",
       "1150  2021-12-15T18:15:31 -9999.000000 -9999.000000      1    mean   \n",
       "1151  2021-12-15T18:15:31 -9999.000000 -9999.000000      2    mean   \n",
       "1152  2021-12-31T18:15:25 -9999.000000 -9999.000000      0    mean   \n",
       "1153  2021-12-31T18:15:25 -9999.000000 -9999.000000      1    mean   \n",
       "1154  2021-12-31T18:15:25 -9999.000000 -9999.000000      2    mean   \n",
       "\n",
       "             NDVI  \n",
       "0        0.137762  \n",
       "1        0.343453  \n",
       "2        0.313492  \n",
       "3        0.141594  \n",
       "4        0.727673  \n",
       "...           ...  \n",
       "1150 -9999.000000  \n",
       "1151 -9999.000000  \n",
       "1152 -9999.000000  \n",
       "1153 -9999.000000  \n",
       "1154 -9999.000000  \n",
       "\n",
       "[1155 rows x 6 columns]"
      ]
     },
     "execution_count": 16,
     "metadata": {},
     "output_type": "execute_result"
    }
   ],
   "source": [
    "tsPandas"
   ]
  },
  {
   "cell_type": "markdown",
   "metadata": {},
   "source": [
    "What can we see here?\n",
    "\n",
    "- The values for each band (NDWI, NDVI and CVI) are in separated columns.\n",
    "- There are some -9999 values in the NDWI, NDVI and CVI columns. These values represent the NA values (e.g. Clouds or shadows). The -9999 can be changed by modifying the `naValue` parameter in the `getTimeSeriesByRegion` method (e.g. `naValue = -10000`).\n",
    "- Multiple reducers can be used. In the output dataframe they are specified by a single column named `reducer`: mean, median.\n",
    "- The date is a string that needs to be converted to a date data type.\n",
    "- The attributes of the original feature collection are attached to the data frame: `pivot`.\n",
    "\n",
    "Given this, let's curate our data frame!"
   ]
  },
  {
   "cell_type": "markdown",
   "metadata": {},
   "source": [
    "First, let's get rid of the -9999 value:"
   ]
  },
  {
   "cell_type": "code",
   "execution_count": 17,
   "metadata": {},
   "outputs": [],
   "source": [
    "tsPandas[tsPandas == -9999] = np.nan"
   ]
  },
  {
   "cell_type": "markdown",
   "metadata": {},
   "source": [
    "And now, let's convert the date to a date data type:"
   ]
  },
  {
   "cell_type": "code",
   "execution_count": 18,
   "metadata": {},
   "outputs": [],
   "source": [
    "tsPandas['date'] = pd.to_datetime(tsPandas['date'],infer_datetime_format = True)"
   ]
  },
  {
   "cell_type": "markdown",
   "metadata": {},
   "source": [
    "We can also gather the GNDVI and EVI columns into a single column to make the data frame more 'tidy-er' (This is optional):"
   ]
  },
  {
   "cell_type": "code",
   "execution_count": 34,
   "metadata": {},
   "outputs": [
    {
     "ename": "ValueError",
     "evalue": "value_name (Value) cannot match an element in the DataFrame columns.",
     "output_type": "error",
     "traceback": [
      "\u001b[0;31m---------------------------------------------------------------------------\u001b[0m",
      "\u001b[0;31mValueError\u001b[0m                                Traceback (most recent call last)",
      "\u001b[0;32m/tmp/ipykernel_409/3215701089.py\u001b[0m in \u001b[0;36m<module>\u001b[0;34m\u001b[0m\n\u001b[0;32m----> 1\u001b[0;31m tsPandas = pd.melt(tsPandas,\n\u001b[0m\u001b[1;32m      2\u001b[0m                    \u001b[0mid_vars\u001b[0m \u001b[0;34m=\u001b[0m \u001b[0;34m[\u001b[0m\u001b[0;34m'reducer'\u001b[0m\u001b[0;34m,\u001b[0m\u001b[0;34m'date'\u001b[0m\u001b[0;34m,\u001b[0m\u001b[0;34m'pivot'\u001b[0m\u001b[0;34m]\u001b[0m\u001b[0;34m,\u001b[0m\u001b[0;34m\u001b[0m\u001b[0;34m\u001b[0m\u001b[0m\n\u001b[1;32m      3\u001b[0m                    \u001b[0mvalue_vars\u001b[0m \u001b[0;34m=\u001b[0m \u001b[0;34m[\u001b[0m\u001b[0;34m'NDVI'\u001b[0m\u001b[0;34m,\u001b[0m\u001b[0;34m'NDWI'\u001b[0m\u001b[0;34m,\u001b[0m\u001b[0;34m'GVMI'\u001b[0m\u001b[0;34m]\u001b[0m\u001b[0;34m,\u001b[0m\u001b[0;34m\u001b[0m\u001b[0;34m\u001b[0m\u001b[0m\n\u001b[1;32m      4\u001b[0m                    \u001b[0mvar_name\u001b[0m \u001b[0;34m=\u001b[0m \u001b[0;34m'Index'\u001b[0m\u001b[0;34m,\u001b[0m\u001b[0;34m\u001b[0m\u001b[0;34m\u001b[0m\u001b[0m\n\u001b[1;32m      5\u001b[0m                    value_name = 'Value')\n",
      "\u001b[0;32m/opt/conda/lib/python3.9/site-packages/pandas/core/reshape/melt.py\u001b[0m in \u001b[0;36mmelt\u001b[0;34m(frame, id_vars, value_vars, var_name, value_name, col_level, ignore_index)\u001b[0m\n\u001b[1;32m     54\u001b[0m \u001b[0;34m\u001b[0m\u001b[0m\n\u001b[1;32m     55\u001b[0m     \u001b[0;32mif\u001b[0m \u001b[0mvalue_name\u001b[0m \u001b[0;32min\u001b[0m \u001b[0mframe\u001b[0m\u001b[0;34m.\u001b[0m\u001b[0mcolumns\u001b[0m\u001b[0;34m:\u001b[0m\u001b[0;34m\u001b[0m\u001b[0;34m\u001b[0m\u001b[0m\n\u001b[0;32m---> 56\u001b[0;31m         raise ValueError(\n\u001b[0m\u001b[1;32m     57\u001b[0m             \u001b[0;34mf\"value_name ({value_name}) cannot match an element in \"\u001b[0m\u001b[0;34m\u001b[0m\u001b[0;34m\u001b[0m\u001b[0m\n\u001b[1;32m     58\u001b[0m             \u001b[0;34m\"the DataFrame columns.\"\u001b[0m\u001b[0;34m\u001b[0m\u001b[0;34m\u001b[0m\u001b[0m\n",
      "\u001b[0;31mValueError\u001b[0m: value_name (Value) cannot match an element in the DataFrame columns."
     ]
    }
   ],
   "source": [
    "tsPandas = pd.melt(tsPandas,\n",
    "                   id_vars = ['reducer','date','pivot'],\n",
    "                   value_vars = ['NDVI','NDWI','GVMI'],\n",
    "                   var_name = 'Index',\n",
    "                   value_name = 'Value')"
   ]
  },
  {
   "cell_type": "markdown",
   "metadata": {},
   "source": [
    "Let's check our curated data frame:"
   ]
  },
  {
   "cell_type": "code",
   "execution_count": 20,
   "metadata": {},
   "outputs": [
    {
     "data": {
      "text/html": [
       "<div>\n",
       "<style scoped>\n",
       "    .dataframe tbody tr th:only-of-type {\n",
       "        vertical-align: middle;\n",
       "    }\n",
       "\n",
       "    .dataframe tbody tr th {\n",
       "        vertical-align: top;\n",
       "    }\n",
       "\n",
       "    .dataframe thead th {\n",
       "        text-align: right;\n",
       "    }\n",
       "</style>\n",
       "<table border=\"1\" class=\"dataframe\">\n",
       "  <thead>\n",
       "    <tr style=\"text-align: right;\">\n",
       "      <th></th>\n",
       "      <th>reducer</th>\n",
       "      <th>date</th>\n",
       "      <th>pivot</th>\n",
       "      <th>Index</th>\n",
       "      <th>Value</th>\n",
       "    </tr>\n",
       "  </thead>\n",
       "  <tbody>\n",
       "    <tr>\n",
       "      <th>0</th>\n",
       "      <td>mean</td>\n",
       "      <td>2013-03-29 18:11:42</td>\n",
       "      <td>0</td>\n",
       "      <td>NDVI</td>\n",
       "      <td>0.137762</td>\n",
       "    </tr>\n",
       "    <tr>\n",
       "      <th>1</th>\n",
       "      <td>mean</td>\n",
       "      <td>2013-03-29 18:11:42</td>\n",
       "      <td>1</td>\n",
       "      <td>NDVI</td>\n",
       "      <td>0.343453</td>\n",
       "    </tr>\n",
       "    <tr>\n",
       "      <th>2</th>\n",
       "      <td>mean</td>\n",
       "      <td>2013-03-29 18:11:42</td>\n",
       "      <td>2</td>\n",
       "      <td>NDVI</td>\n",
       "      <td>0.313492</td>\n",
       "    </tr>\n",
       "    <tr>\n",
       "      <th>3</th>\n",
       "      <td>mean</td>\n",
       "      <td>2013-04-22 18:10:46</td>\n",
       "      <td>0</td>\n",
       "      <td>NDVI</td>\n",
       "      <td>0.141594</td>\n",
       "    </tr>\n",
       "    <tr>\n",
       "      <th>4</th>\n",
       "      <td>mean</td>\n",
       "      <td>2013-04-22 18:10:46</td>\n",
       "      <td>1</td>\n",
       "      <td>NDVI</td>\n",
       "      <td>0.727673</td>\n",
       "    </tr>\n",
       "    <tr>\n",
       "      <th>...</th>\n",
       "      <td>...</td>\n",
       "      <td>...</td>\n",
       "      <td>...</td>\n",
       "      <td>...</td>\n",
       "      <td>...</td>\n",
       "    </tr>\n",
       "    <tr>\n",
       "      <th>3460</th>\n",
       "      <td>mean</td>\n",
       "      <td>2021-12-15 18:15:31</td>\n",
       "      <td>1</td>\n",
       "      <td>B5</td>\n",
       "      <td>NaN</td>\n",
       "    </tr>\n",
       "    <tr>\n",
       "      <th>3461</th>\n",
       "      <td>mean</td>\n",
       "      <td>2021-12-15 18:15:31</td>\n",
       "      <td>2</td>\n",
       "      <td>B5</td>\n",
       "      <td>NaN</td>\n",
       "    </tr>\n",
       "    <tr>\n",
       "      <th>3462</th>\n",
       "      <td>mean</td>\n",
       "      <td>2021-12-31 18:15:25</td>\n",
       "      <td>0</td>\n",
       "      <td>B5</td>\n",
       "      <td>NaN</td>\n",
       "    </tr>\n",
       "    <tr>\n",
       "      <th>3463</th>\n",
       "      <td>mean</td>\n",
       "      <td>2021-12-31 18:15:25</td>\n",
       "      <td>1</td>\n",
       "      <td>B5</td>\n",
       "      <td>NaN</td>\n",
       "    </tr>\n",
       "    <tr>\n",
       "      <th>3464</th>\n",
       "      <td>mean</td>\n",
       "      <td>2021-12-31 18:15:25</td>\n",
       "      <td>2</td>\n",
       "      <td>B5</td>\n",
       "      <td>NaN</td>\n",
       "    </tr>\n",
       "  </tbody>\n",
       "</table>\n",
       "<p>3465 rows × 5 columns</p>\n",
       "</div>"
      ],
      "text/plain": [
       "     reducer                date  pivot Index     Value\n",
       "0       mean 2013-03-29 18:11:42      0  NDVI  0.137762\n",
       "1       mean 2013-03-29 18:11:42      1  NDVI  0.343453\n",
       "2       mean 2013-03-29 18:11:42      2  NDVI  0.313492\n",
       "3       mean 2013-04-22 18:10:46      0  NDVI  0.141594\n",
       "4       mean 2013-04-22 18:10:46      1  NDVI  0.727673\n",
       "...      ...                 ...    ...   ...       ...\n",
       "3460    mean 2021-12-15 18:15:31      1    B5       NaN\n",
       "3461    mean 2021-12-15 18:15:31      2    B5       NaN\n",
       "3462    mean 2021-12-31 18:15:25      0    B5       NaN\n",
       "3463    mean 2021-12-31 18:15:25      1    B5       NaN\n",
       "3464    mean 2021-12-31 18:15:25      2    B5       NaN\n",
       "\n",
       "[3465 rows x 5 columns]"
      ]
     },
     "execution_count": 20,
     "metadata": {},
     "output_type": "execute_result"
    }
   ],
   "source": [
    "# tsPandas[tsPandas['Value'] > 1] = np.nan\n",
    "# tsPandas[tsPandas['Value'] < 0] = np.nan\n",
    "\n",
    "tsPandas"
   ]
  },
  {
   "cell_type": "markdown",
   "metadata": {},
   "source": [
    "## Visualization"
   ]
  },
  {
   "cell_type": "markdown",
   "metadata": {},
   "source": [
    "Now, let's visualize our time series using `seaborn`:"
   ]
  },
  {
   "cell_type": "code",
   "execution_count": 21,
   "metadata": {},
   "outputs": [
    {
     "data": {
      "text/plain": [
       "<seaborn.axisgrid.FacetGrid at 0x7f7f0ba19d90>"
      ]
     },
     "execution_count": 21,
     "metadata": {},
     "output_type": "execute_result"
    },
    {
     "data": {
      "image/png": "[encoded data removed]",
      "text/plain": [
       "<Figure size 938.5x648 with 3 Axes>"
      ]
     },
     "metadata": {
      "needs_background": "light"
     },
     "output_type": "display_data"
    }
   ],
   "source": [
    "g = sns.FacetGrid(tsPandas,row = 'pivot',height = 3,aspect = 4)\n",
    "g.map_dataframe(sns.lineplot,x = 'date',y = 'Value',hue = 'Index',style = 'reducer')\n",
    "g.add_legend()"
   ]
  },
  {
   "cell_type": "markdown",
   "metadata": {},
   "source": [
    "Let's do the same, but now for radiometric temperature (two bands, B10 and B11)."
   ]
  },
  {
   "cell_type": "code",
   "execution_count": 22,
   "metadata": {},
   "outputs": [],
   "source": [
    "ts = L8.getTimeSeriesByRegions(collection = pivots,\n",
    "                               bands = ['B10'],\n",
    "                               reducer = [ee.Reducer.mean()],\n",
    "                               scale = 30)"
   ]
  },
  {
   "cell_type": "code",
   "execution_count": 23,
   "metadata": {},
   "outputs": [],
   "source": [
    "tsPandas2 = geemap.ee_to_pandas(ts)"
   ]
  },
  {
   "cell_type": "code",
   "execution_count": 24,
   "metadata": {},
   "outputs": [
    {
     "data": {
      "text/html": [
       "<div>\n",
       "<style scoped>\n",
       "    .dataframe tbody tr th:only-of-type {\n",
       "        vertical-align: middle;\n",
       "    }\n",
       "\n",
       "    .dataframe tbody tr th {\n",
       "        vertical-align: top;\n",
       "    }\n",
       "\n",
       "    .dataframe thead th {\n",
       "        text-align: right;\n",
       "    }\n",
       "</style>\n",
       "<table border=\"1\" class=\"dataframe\">\n",
       "  <thead>\n",
       "    <tr style=\"text-align: right;\">\n",
       "      <th></th>\n",
       "      <th>date</th>\n",
       "      <th>B10</th>\n",
       "      <th>pivot</th>\n",
       "      <th>reducer</th>\n",
       "    </tr>\n",
       "  </thead>\n",
       "  <tbody>\n",
       "    <tr>\n",
       "      <th>0</th>\n",
       "      <td>2013-03-29T18:11:42</td>\n",
       "      <td>306.408830</td>\n",
       "      <td>0</td>\n",
       "      <td>mean</td>\n",
       "    </tr>\n",
       "    <tr>\n",
       "      <th>1</th>\n",
       "      <td>2013-03-29T18:11:42</td>\n",
       "      <td>303.716339</td>\n",
       "      <td>1</td>\n",
       "      <td>mean</td>\n",
       "    </tr>\n",
       "    <tr>\n",
       "      <th>2</th>\n",
       "      <td>2013-03-29T18:11:42</td>\n",
       "      <td>303.921917</td>\n",
       "      <td>2</td>\n",
       "      <td>mean</td>\n",
       "    </tr>\n",
       "    <tr>\n",
       "      <th>3</th>\n",
       "      <td>2013-04-22T18:10:46</td>\n",
       "      <td>307.296102</td>\n",
       "      <td>0</td>\n",
       "      <td>mean</td>\n",
       "    </tr>\n",
       "    <tr>\n",
       "      <th>4</th>\n",
       "      <td>2013-04-22T18:10:46</td>\n",
       "      <td>297.388625</td>\n",
       "      <td>1</td>\n",
       "      <td>mean</td>\n",
       "    </tr>\n",
       "    <tr>\n",
       "      <th>...</th>\n",
       "      <td>...</td>\n",
       "      <td>...</td>\n",
       "      <td>...</td>\n",
       "      <td>...</td>\n",
       "    </tr>\n",
       "    <tr>\n",
       "      <th>1150</th>\n",
       "      <td>2021-12-15T18:15:31</td>\n",
       "      <td>NaN</td>\n",
       "      <td>1</td>\n",
       "      <td>mean</td>\n",
       "    </tr>\n",
       "    <tr>\n",
       "      <th>1151</th>\n",
       "      <td>2021-12-15T18:15:31</td>\n",
       "      <td>NaN</td>\n",
       "      <td>2</td>\n",
       "      <td>mean</td>\n",
       "    </tr>\n",
       "    <tr>\n",
       "      <th>1152</th>\n",
       "      <td>2021-12-31T18:15:25</td>\n",
       "      <td>NaN</td>\n",
       "      <td>0</td>\n",
       "      <td>mean</td>\n",
       "    </tr>\n",
       "    <tr>\n",
       "      <th>1153</th>\n",
       "      <td>2021-12-31T18:15:25</td>\n",
       "      <td>NaN</td>\n",
       "      <td>1</td>\n",
       "      <td>mean</td>\n",
       "    </tr>\n",
       "    <tr>\n",
       "      <th>1154</th>\n",
       "      <td>2021-12-31T18:15:25</td>\n",
       "      <td>NaN</td>\n",
       "      <td>2</td>\n",
       "      <td>mean</td>\n",
       "    </tr>\n",
       "  </tbody>\n",
       "</table>\n",
       "<p>1155 rows × 4 columns</p>\n",
       "</div>"
      ],
      "text/plain": [
       "                     date         B10  pivot reducer\n",
       "0     2013-03-29T18:11:42  306.408830      0    mean\n",
       "1     2013-03-29T18:11:42  303.716339      1    mean\n",
       "2     2013-03-29T18:11:42  303.921917      2    mean\n",
       "3     2013-04-22T18:10:46  307.296102      0    mean\n",
       "4     2013-04-22T18:10:46  297.388625      1    mean\n",
       "...                   ...         ...    ...     ...\n",
       "1150  2021-12-15T18:15:31         NaN      1    mean\n",
       "1151  2021-12-15T18:15:31         NaN      2    mean\n",
       "1152  2021-12-31T18:15:25         NaN      0    mean\n",
       "1153  2021-12-31T18:15:25         NaN      1    mean\n",
       "1154  2021-12-31T18:15:25         NaN      2    mean\n",
       "\n",
       "[1155 rows x 4 columns]"
      ]
     },
     "execution_count": 24,
     "metadata": {},
     "output_type": "execute_result"
    }
   ],
   "source": [
    "tsPandas2"
   ]
  },
  {
   "cell_type": "code",
   "execution_count": 25,
   "metadata": {},
   "outputs": [],
   "source": [
    "tsPandas2[tsPandas2 == -9999] = np.nan\n",
    "\n",
    "tsPandas2['date'] = pd.to_datetime(tsPandas2['date'],infer_datetime_format = True)"
   ]
  },
  {
   "cell_type": "code",
   "execution_count": 26,
   "metadata": {},
   "outputs": [],
   "source": [
    "tsPandas2 = pd.melt(tsPandas2,\n",
    "                   id_vars = ['reducer','date','pivot'],\n",
    "                   value_vars = ['B10'],\n",
    "                   var_name = 'Index',\n",
    "                   value_name = 'Value')"
   ]
  },
  {
   "cell_type": "code",
   "execution_count": 27,
   "metadata": {},
   "outputs": [
    {
     "data": {
      "text/html": [
       "<div>\n",
       "<style scoped>\n",
       "    .dataframe tbody tr th:only-of-type {\n",
       "        vertical-align: middle;\n",
       "    }\n",
       "\n",
       "    .dataframe tbody tr th {\n",
       "        vertical-align: top;\n",
       "    }\n",
       "\n",
       "    .dataframe thead th {\n",
       "        text-align: right;\n",
       "    }\n",
       "</style>\n",
       "<table border=\"1\" class=\"dataframe\">\n",
       "  <thead>\n",
       "    <tr style=\"text-align: right;\">\n",
       "      <th></th>\n",
       "      <th>reducer</th>\n",
       "      <th>date</th>\n",
       "      <th>pivot</th>\n",
       "      <th>Index</th>\n",
       "      <th>Value</th>\n",
       "    </tr>\n",
       "  </thead>\n",
       "  <tbody>\n",
       "    <tr>\n",
       "      <th>0</th>\n",
       "      <td>mean</td>\n",
       "      <td>2013-03-29 18:11:42</td>\n",
       "      <td>0</td>\n",
       "      <td>B10</td>\n",
       "      <td>306.408830</td>\n",
       "    </tr>\n",
       "    <tr>\n",
       "      <th>1</th>\n",
       "      <td>mean</td>\n",
       "      <td>2013-03-29 18:11:42</td>\n",
       "      <td>1</td>\n",
       "      <td>B10</td>\n",
       "      <td>303.716339</td>\n",
       "    </tr>\n",
       "    <tr>\n",
       "      <th>2</th>\n",
       "      <td>mean</td>\n",
       "      <td>2013-03-29 18:11:42</td>\n",
       "      <td>2</td>\n",
       "      <td>B10</td>\n",
       "      <td>303.921917</td>\n",
       "    </tr>\n",
       "    <tr>\n",
       "      <th>3</th>\n",
       "      <td>mean</td>\n",
       "      <td>2013-04-22 18:10:46</td>\n",
       "      <td>0</td>\n",
       "      <td>B10</td>\n",
       "      <td>307.296102</td>\n",
       "    </tr>\n",
       "    <tr>\n",
       "      <th>4</th>\n",
       "      <td>mean</td>\n",
       "      <td>2013-04-22 18:10:46</td>\n",
       "      <td>1</td>\n",
       "      <td>B10</td>\n",
       "      <td>297.388625</td>\n",
       "    </tr>\n",
       "    <tr>\n",
       "      <th>...</th>\n",
       "      <td>...</td>\n",
       "      <td>...</td>\n",
       "      <td>...</td>\n",
       "      <td>...</td>\n",
       "      <td>...</td>\n",
       "    </tr>\n",
       "    <tr>\n",
       "      <th>1150</th>\n",
       "      <td>mean</td>\n",
       "      <td>2021-12-15 18:15:31</td>\n",
       "      <td>1</td>\n",
       "      <td>B10</td>\n",
       "      <td>NaN</td>\n",
       "    </tr>\n",
       "    <tr>\n",
       "      <th>1151</th>\n",
       "      <td>mean</td>\n",
       "      <td>2021-12-15 18:15:31</td>\n",
       "      <td>2</td>\n",
       "      <td>B10</td>\n",
       "      <td>NaN</td>\n",
       "    </tr>\n",
       "    <tr>\n",
       "      <th>1152</th>\n",
       "      <td>mean</td>\n",
       "      <td>2021-12-31 18:15:25</td>\n",
       "      <td>0</td>\n",
       "      <td>B10</td>\n",
       "      <td>NaN</td>\n",
       "    </tr>\n",
       "    <tr>\n",
       "      <th>1153</th>\n",
       "      <td>mean</td>\n",
       "      <td>2021-12-31 18:15:25</td>\n",
       "      <td>1</td>\n",
       "      <td>B10</td>\n",
       "      <td>NaN</td>\n",
       "    </tr>\n",
       "    <tr>\n",
       "      <th>1154</th>\n",
       "      <td>mean</td>\n",
       "      <td>2021-12-31 18:15:25</td>\n",
       "      <td>2</td>\n",
       "      <td>B10</td>\n",
       "      <td>NaN</td>\n",
       "    </tr>\n",
       "  </tbody>\n",
       "</table>\n",
       "<p>1155 rows × 5 columns</p>\n",
       "</div>"
      ],
      "text/plain": [
       "     reducer                date  pivot Index       Value\n",
       "0       mean 2013-03-29 18:11:42      0   B10  306.408830\n",
       "1       mean 2013-03-29 18:11:42      1   B10  303.716339\n",
       "2       mean 2013-03-29 18:11:42      2   B10  303.921917\n",
       "3       mean 2013-04-22 18:10:46      0   B10  307.296102\n",
       "4       mean 2013-04-22 18:10:46      1   B10  297.388625\n",
       "...      ...                 ...    ...   ...         ...\n",
       "1150    mean 2021-12-15 18:15:31      1   B10         NaN\n",
       "1151    mean 2021-12-15 18:15:31      2   B10         NaN\n",
       "1152    mean 2021-12-31 18:15:25      0   B10         NaN\n",
       "1153    mean 2021-12-31 18:15:25      1   B10         NaN\n",
       "1154    mean 2021-12-31 18:15:25      2   B10         NaN\n",
       "\n",
       "[1155 rows x 5 columns]"
      ]
     },
     "execution_count": 27,
     "metadata": {},
     "output_type": "execute_result"
    }
   ],
   "source": [
    "tsPandas2"
   ]
  },
  {
   "cell_type": "markdown",
   "metadata": {},
   "source": [
    "Visualization"
   ]
  },
  {
   "cell_type": "code",
   "execution_count": 28,
   "metadata": {},
   "outputs": [
    {
     "data": {
      "text/plain": [
       "<seaborn.axisgrid.FacetGrid at 0x7f7f094e3af0>"
      ]
     },
     "execution_count": 28,
     "metadata": {},
     "output_type": "execute_result"
    },
    {
     "data": {
      "image/png": "[encoded data removed]",
      "text/plain": [
       "<Figure size 938.5x648 with 3 Axes>"
      ]
     },
     "metadata": {
      "needs_background": "light"
     },
     "output_type": "display_data"
    }
   ],
   "source": [
    "g = sns.FacetGrid(tsPandas2,row = 'pivot',height = 3,aspect = 4)\n",
    "g.map_dataframe(sns.lineplot,x = 'date',y = 'Value',hue = 'Index',style = 'reducer')\n",
    "g.add_legend()"
   ]
  },
  {
   "cell_type": "markdown",
   "metadata": {},
   "source": [
    "Is there any relationship between NDVI and temperature?"
   ]
  },
  {
   "cell_type": "code",
   "execution_count": 29,
   "metadata": {},
   "outputs": [
    {
     "data": {
      "text/html": [
       "<div>\n",
       "<style scoped>\n",
       "    .dataframe tbody tr th:only-of-type {\n",
       "        vertical-align: middle;\n",
       "    }\n",
       "\n",
       "    .dataframe tbody tr th {\n",
       "        vertical-align: top;\n",
       "    }\n",
       "\n",
       "    .dataframe thead th {\n",
       "        text-align: right;\n",
       "    }\n",
       "</style>\n",
       "<table border=\"1\" class=\"dataframe\">\n",
       "  <thead>\n",
       "    <tr style=\"text-align: right;\">\n",
       "      <th></th>\n",
       "      <th>reducer</th>\n",
       "      <th>date</th>\n",
       "      <th>pivot</th>\n",
       "      <th>Index_x</th>\n",
       "      <th>Value_x</th>\n",
       "      <th>Index_y</th>\n",
       "      <th>Value_y</th>\n",
       "    </tr>\n",
       "  </thead>\n",
       "  <tbody>\n",
       "    <tr>\n",
       "      <th>0</th>\n",
       "      <td>mean</td>\n",
       "      <td>2013-03-29 18:11:42</td>\n",
       "      <td>0</td>\n",
       "      <td>NDVI</td>\n",
       "      <td>0.137762</td>\n",
       "      <td>B10</td>\n",
       "      <td>306.408830</td>\n",
       "    </tr>\n",
       "    <tr>\n",
       "      <th>1</th>\n",
       "      <td>mean</td>\n",
       "      <td>2013-03-29 18:11:42</td>\n",
       "      <td>0</td>\n",
       "      <td>B4</td>\n",
       "      <td>0.239893</td>\n",
       "      <td>B10</td>\n",
       "      <td>306.408830</td>\n",
       "    </tr>\n",
       "    <tr>\n",
       "      <th>2</th>\n",
       "      <td>mean</td>\n",
       "      <td>2013-03-29 18:11:42</td>\n",
       "      <td>0</td>\n",
       "      <td>B5</td>\n",
       "      <td>0.316394</td>\n",
       "      <td>B10</td>\n",
       "      <td>306.408830</td>\n",
       "    </tr>\n",
       "    <tr>\n",
       "      <th>3</th>\n",
       "      <td>mean</td>\n",
       "      <td>2013-03-29 18:11:42</td>\n",
       "      <td>1</td>\n",
       "      <td>NDVI</td>\n",
       "      <td>0.343453</td>\n",
       "      <td>B10</td>\n",
       "      <td>303.716339</td>\n",
       "    </tr>\n",
       "    <tr>\n",
       "      <th>4</th>\n",
       "      <td>mean</td>\n",
       "      <td>2013-03-29 18:11:42</td>\n",
       "      <td>1</td>\n",
       "      <td>B4</td>\n",
       "      <td>0.142119</td>\n",
       "      <td>B10</td>\n",
       "      <td>303.716339</td>\n",
       "    </tr>\n",
       "    <tr>\n",
       "      <th>...</th>\n",
       "      <td>...</td>\n",
       "      <td>...</td>\n",
       "      <td>...</td>\n",
       "      <td>...</td>\n",
       "      <td>...</td>\n",
       "      <td>...</td>\n",
       "      <td>...</td>\n",
       "    </tr>\n",
       "    <tr>\n",
       "      <th>3460</th>\n",
       "      <td>mean</td>\n",
       "      <td>2021-12-31 18:15:25</td>\n",
       "      <td>1</td>\n",
       "      <td>B4</td>\n",
       "      <td>NaN</td>\n",
       "      <td>B10</td>\n",
       "      <td>NaN</td>\n",
       "    </tr>\n",
       "    <tr>\n",
       "      <th>3461</th>\n",
       "      <td>mean</td>\n",
       "      <td>2021-12-31 18:15:25</td>\n",
       "      <td>1</td>\n",
       "      <td>B5</td>\n",
       "      <td>NaN</td>\n",
       "      <td>B10</td>\n",
       "      <td>NaN</td>\n",
       "    </tr>\n",
       "    <tr>\n",
       "      <th>3462</th>\n",
       "      <td>mean</td>\n",
       "      <td>2021-12-31 18:15:25</td>\n",
       "      <td>2</td>\n",
       "      <td>NDVI</td>\n",
       "      <td>NaN</td>\n",
       "      <td>B10</td>\n",
       "      <td>NaN</td>\n",
       "    </tr>\n",
       "    <tr>\n",
       "      <th>3463</th>\n",
       "      <td>mean</td>\n",
       "      <td>2021-12-31 18:15:25</td>\n",
       "      <td>2</td>\n",
       "      <td>B4</td>\n",
       "      <td>NaN</td>\n",
       "      <td>B10</td>\n",
       "      <td>NaN</td>\n",
       "    </tr>\n",
       "    <tr>\n",
       "      <th>3464</th>\n",
       "      <td>mean</td>\n",
       "      <td>2021-12-31 18:15:25</td>\n",
       "      <td>2</td>\n",
       "      <td>B5</td>\n",
       "      <td>NaN</td>\n",
       "      <td>B10</td>\n",
       "      <td>NaN</td>\n",
       "    </tr>\n",
       "  </tbody>\n",
       "</table>\n",
       "<p>3465 rows × 7 columns</p>\n",
       "</div>"
      ],
      "text/plain": [
       "     reducer                date  pivot Index_x   Value_x Index_y     Value_y\n",
       "0       mean 2013-03-29 18:11:42      0    NDVI  0.137762     B10  306.408830\n",
       "1       mean 2013-03-29 18:11:42      0      B4  0.239893     B10  306.408830\n",
       "2       mean 2013-03-29 18:11:42      0      B5  0.316394     B10  306.408830\n",
       "3       mean 2013-03-29 18:11:42      1    NDVI  0.343453     B10  303.716339\n",
       "4       mean 2013-03-29 18:11:42      1      B4  0.142119     B10  303.716339\n",
       "...      ...                 ...    ...     ...       ...     ...         ...\n",
       "3460    mean 2021-12-31 18:15:25      1      B4       NaN     B10         NaN\n",
       "3461    mean 2021-12-31 18:15:25      1      B5       NaN     B10         NaN\n",
       "3462    mean 2021-12-31 18:15:25      2    NDVI       NaN     B10         NaN\n",
       "3463    mean 2021-12-31 18:15:25      2      B4       NaN     B10         NaN\n",
       "3464    mean 2021-12-31 18:15:25      2      B5       NaN     B10         NaN\n",
       "\n",
       "[3465 rows x 7 columns]"
      ]
     },
     "execution_count": 29,
     "metadata": {},
     "output_type": "execute_result"
    }
   ],
   "source": [
    "dfinal = tsPandas.merge(tsPandas2, on=['date','reducer','pivot'])\n",
    "dfinal"
   ]
  },
  {
   "cell_type": "code",
   "execution_count": 30,
   "metadata": {},
   "outputs": [
    {
     "data": {
      "text/html": [
       "<div>\n",
       "<style scoped>\n",
       "    .dataframe tbody tr th:only-of-type {\n",
       "        vertical-align: middle;\n",
       "    }\n",
       "\n",
       "    .dataframe tbody tr th {\n",
       "        vertical-align: top;\n",
       "    }\n",
       "\n",
       "    .dataframe thead th {\n",
       "        text-align: right;\n",
       "    }\n",
       "</style>\n",
       "<table border=\"1\" class=\"dataframe\">\n",
       "  <thead>\n",
       "    <tr style=\"text-align: right;\">\n",
       "      <th></th>\n",
       "      <th>reducer</th>\n",
       "      <th>date</th>\n",
       "      <th>pivot</th>\n",
       "      <th>Index_x</th>\n",
       "      <th>Value_x</th>\n",
       "      <th>Index_y</th>\n",
       "      <th>Value_y</th>\n",
       "    </tr>\n",
       "  </thead>\n",
       "  <tbody>\n",
       "    <tr>\n",
       "      <th>0</th>\n",
       "      <td>mean</td>\n",
       "      <td>2013-03-29 18:11:42</td>\n",
       "      <td>0</td>\n",
       "      <td>NDVI</td>\n",
       "      <td>0.137762</td>\n",
       "      <td>B10</td>\n",
       "      <td>306.408830</td>\n",
       "    </tr>\n",
       "    <tr>\n",
       "      <th>9</th>\n",
       "      <td>mean</td>\n",
       "      <td>2013-04-22 18:10:46</td>\n",
       "      <td>0</td>\n",
       "      <td>NDVI</td>\n",
       "      <td>0.141594</td>\n",
       "      <td>B10</td>\n",
       "      <td>307.296102</td>\n",
       "    </tr>\n",
       "    <tr>\n",
       "      <th>18</th>\n",
       "      <td>mean</td>\n",
       "      <td>2013-05-24 18:11:02</td>\n",
       "      <td>0</td>\n",
       "      <td>NDVI</td>\n",
       "      <td>0.164506</td>\n",
       "      <td>B10</td>\n",
       "      <td>307.978358</td>\n",
       "    </tr>\n",
       "    <tr>\n",
       "      <th>27</th>\n",
       "      <td>mean</td>\n",
       "      <td>2013-06-09 18:11:00</td>\n",
       "      <td>0</td>\n",
       "      <td>NDVI</td>\n",
       "      <td>0.207524</td>\n",
       "      <td>B10</td>\n",
       "      <td>308.635887</td>\n",
       "    </tr>\n",
       "    <tr>\n",
       "      <th>36</th>\n",
       "      <td>mean</td>\n",
       "      <td>2013-06-25 18:10:56</td>\n",
       "      <td>0</td>\n",
       "      <td>NDVI</td>\n",
       "      <td>0.324716</td>\n",
       "      <td>B10</td>\n",
       "      <td>299.764536</td>\n",
       "    </tr>\n",
       "    <tr>\n",
       "      <th>...</th>\n",
       "      <td>...</td>\n",
       "      <td>...</td>\n",
       "      <td>...</td>\n",
       "      <td>...</td>\n",
       "      <td>...</td>\n",
       "      <td>...</td>\n",
       "      <td>...</td>\n",
       "    </tr>\n",
       "    <tr>\n",
       "      <th>3420</th>\n",
       "      <td>mean</td>\n",
       "      <td>2021-10-28 18:15:36</td>\n",
       "      <td>0</td>\n",
       "      <td>NDVI</td>\n",
       "      <td>0.329083</td>\n",
       "      <td>B10</td>\n",
       "      <td>287.344539</td>\n",
       "    </tr>\n",
       "    <tr>\n",
       "      <th>3429</th>\n",
       "      <td>mean</td>\n",
       "      <td>2021-11-13 18:15:32</td>\n",
       "      <td>0</td>\n",
       "      <td>NDVI</td>\n",
       "      <td>NaN</td>\n",
       "      <td>B10</td>\n",
       "      <td>NaN</td>\n",
       "    </tr>\n",
       "    <tr>\n",
       "      <th>3438</th>\n",
       "      <td>mean</td>\n",
       "      <td>2021-11-29 18:15:32</td>\n",
       "      <td>0</td>\n",
       "      <td>NDVI</td>\n",
       "      <td>0.638640</td>\n",
       "      <td>B10</td>\n",
       "      <td>287.381068</td>\n",
       "    </tr>\n",
       "    <tr>\n",
       "      <th>3447</th>\n",
       "      <td>mean</td>\n",
       "      <td>2021-12-15 18:15:31</td>\n",
       "      <td>0</td>\n",
       "      <td>NDVI</td>\n",
       "      <td>NaN</td>\n",
       "      <td>B10</td>\n",
       "      <td>NaN</td>\n",
       "    </tr>\n",
       "    <tr>\n",
       "      <th>3456</th>\n",
       "      <td>mean</td>\n",
       "      <td>2021-12-31 18:15:25</td>\n",
       "      <td>0</td>\n",
       "      <td>NDVI</td>\n",
       "      <td>NaN</td>\n",
       "      <td>B10</td>\n",
       "      <td>NaN</td>\n",
       "    </tr>\n",
       "  </tbody>\n",
       "</table>\n",
       "<p>385 rows × 7 columns</p>\n",
       "</div>"
      ],
      "text/plain": [
       "     reducer                date  pivot Index_x   Value_x Index_y     Value_y\n",
       "0       mean 2013-03-29 18:11:42      0    NDVI  0.137762     B10  306.408830\n",
       "9       mean 2013-04-22 18:10:46      0    NDVI  0.141594     B10  307.296102\n",
       "18      mean 2013-05-24 18:11:02      0    NDVI  0.164506     B10  307.978358\n",
       "27      mean 2013-06-09 18:11:00      0    NDVI  0.207524     B10  308.635887\n",
       "36      mean 2013-06-25 18:10:56      0    NDVI  0.324716     B10  299.764536\n",
       "...      ...                 ...    ...     ...       ...     ...         ...\n",
       "3420    mean 2021-10-28 18:15:36      0    NDVI  0.329083     B10  287.344539\n",
       "3429    mean 2021-11-13 18:15:32      0    NDVI       NaN     B10         NaN\n",
       "3438    mean 2021-11-29 18:15:32      0    NDVI  0.638640     B10  287.381068\n",
       "3447    mean 2021-12-15 18:15:31      0    NDVI       NaN     B10         NaN\n",
       "3456    mean 2021-12-31 18:15:25      0    NDVI       NaN     B10         NaN\n",
       "\n",
       "[385 rows x 7 columns]"
      ]
     },
     "execution_count": 30,
     "metadata": {},
     "output_type": "execute_result"
    }
   ],
   "source": [
    "select_color = dfinal.loc[(dfinal['Index_x'] == 'NDVI') & (dfinal['Index_y'] == 'B10') & (dfinal['pivot'] == 0)& (dfinal['reducer'] == 'mean')]\n",
    "select_color"
   ]
  },
  {
   "cell_type": "code",
   "execution_count": 31,
   "metadata": {},
   "outputs": [
    {
     "data": {
      "text/plain": [
       "<AxesSubplot: title={'center': 'Center Pivot 0'}, xlabel='B10', ylabel='NDVI'>"
      ]
     },
     "execution_count": 31,
     "metadata": {},
     "output_type": "execute_result"
    },
    {
     "data": {
      "image/png": "[encoded data removed]",
      "text/plain": [
       "<Figure size 432x288 with 1 Axes>"
      ]
     },
     "metadata": {
      "needs_background": "light"
     },
     "output_type": "display_data"
    }
   ],
   "source": [
    "select_color.plot(kind='scatter',x=\"Value_y\",y=\"Value_x\",title=\"Center Pivot 0\",xlim=(270,320),ylim=(0,1),xlabel='B10',ylabel='NDVI')"
   ]
  },
  {
   "cell_type": "code",
   "execution_count": 32,
   "metadata": {},
   "outputs": [
    {
     "data": {
      "text/plain": [
       "<AxesSubplot: title={'center': 'Center Pivot 0'}, xlabel='B10', ylabel='NDWI'>"
      ]
     },
     "execution_count": 32,
     "metadata": {},
     "output_type": "execute_result"
    },
    {
     "data": {
      "image/png": "[encoded data removed]",
      "text/plain": [
       "<Figure size 432x288 with 1 Axes>"
      ]
     },
     "metadata": {
      "needs_background": "light"
     },
     "output_type": "display_data"
    }
   ],
   "source": [
    "select_color = dfinal.loc[(dfinal['Index_x'] == 'NDWI') & (dfinal['Index_y'] == 'B10') & (dfinal['pivot'] == 0)& (dfinal['reducer'] == 'mean')]\n",
    "select_color.plot(kind='scatter',x=\"Value_y\",y=\"Value_x\",title=\"Center Pivot 0\",xlim=(270,320),ylim=(-1,0),xlabel='B10',ylabel='NDWI')\n"
   ]
  },
  {
   "cell_type": "code",
   "execution_count": 33,
   "metadata": {},
   "outputs": [
    {
     "data": {
      "text/plain": [
       "<AxesSubplot: title={'center': 'Center Pivot 0'}, xlabel='B10', ylabel='GVMI'>"
      ]
     },
     "execution_count": 33,
     "metadata": {},
     "output_type": "execute_result"
    },
    {
     "data": {
      "image/png": "[encoded data removed]",
      "text/plain": [
       "<Figure size 432x288 with 1 Axes>"
      ]
     },
     "metadata": {
      "needs_background": "light"
     },
     "output_type": "display_data"
    }
   ],
   "source": [
    "select_color = dfinal.loc[(dfinal['Index_x'] == 'GVMI') & (dfinal['Index_y'] == 'B10') & (dfinal['pivot'] == 0)& (dfinal['reducer'] == 'mean')]\n",
    "select_color.plot(kind='scatter',x=\"Value_y\",y=\"Value_x\",title=\"Center Pivot 0\",xlim=(270,320),ylim=(0,1),xlabel='B10',ylabel='GVMI')"
   ]
  },
  {
   "cell_type": "markdown",
   "metadata": {},
   "source": [
    "## Assignment:\n",
    "    \n",
    "Create two notebooks, and in each notebook, change the center pivot locations, for the first one, select 3 center pivots around \"El Amal, Markaz Abo El Matamier, Beheira\" (Egypt) and the second notebook select 3 center pivots around  \"Seminole, Texas\". Please, discuss the time series variability in vegetation indices and temperatures between the two notebooks. What could be reasons for the found differences?\n",
    "\n",
    "Happy Coding!\n"
   ]
  },
  {
   "cell_type": "code",
   "execution_count": null,
   "metadata": {},
   "outputs": [],
   "source": []
  }
 ],
 "metadata": {
  "kernelspec": {
   "display_name": "Python 3 (ipykernel)",
   "language": "python",
   "name": "python3"
  },
  "language_info": {
   "codemirror_mode": {
    "name": "ipython",
    "version": 3
   },
   "file_extension": ".py",
   "mimetype": "text/x-python",
   "name": "python",
   "nbconvert_exporter": "python",
   "pygments_lexer": "ipython3",
   "version": "3.9.7"
  },
  "widgets": {
   "application/vnd.jupyter.widget-state+json": {
    "state": {
     "02172068da9748aba7ab48b0139fc8cb": {
      "model_module": "@jupyter-widgets/controls",
      "model_module_version": "2.0.0",
      "model_name": "ToggleButtonStyleModel",
      "state": {
       "description_width": "",
       "font_family": null,
       "font_size": null,
       "font_style": null,
       "font_variant": null,
       "font_weight": null,
       "text_color": null,
       "text_decoration": null
      }
     },
     "024d570cfecd423b9cd4bb2b7378eb43": {
      "model_module": "jupyter-leaflet",
      "model_module_version": "^0.17",
      "model_name": "LeafletTileLayerModel",
      "state": {
       "_model_module_version": "^0.17",
       "_view_module_version": "^0.17",
       "attribution": "Google Earth Engine",
       "max_zoom": 24,
       "name": "First image",
       "options": [
        "attribution",
        "bounds",
        "detect_retina",
        "max_native_zoom",
        "max_zoom",
        "min_native_zoom",
        "min_zoom",
        "no_wrap",
        "tile_size",
        "tms",
        "zoom_offset"
       ],
       "url": "https://earthengine.googleapis.com/v1/projects/earthengine-legacy/maps/94ff739dca812389feb044e19dd103e2-55f1ba4d34d0fe5491a9a8b1e20b389f/tiles/{z}/{x}/{y}"
      }
     },
     "02ab2e524b744145b70ce40e5ed1b54a": {
      "model_module": "@jupyter-widgets/controls",
      "model_module_version": "2.0.0",
      "model_name": "ButtonModel",
      "state": {
       "button_style": "primary",
       "icon": "play",
       "layout": "IPY_MODEL_4f6ea547f1004ae19b8dc5c6b5439ff7",
       "style": "IPY_MODEL_4a8630d5e35641a7bdecaa879e5f3c77",
       "tooltip": "Play the time slider"
      }
     },
     "04a2d2d5c6f14ab9a29002fb2b3f9dfe": {
      "model_module": "@jupyter-widgets/base",
      "model_module_version": "2.0.0",
      "model_name": "LayoutModel",
      "state": {
       "height": "auto",
       "padding": "0px 0px 0px 4px",
       "width": "auto"
      }
     },
     "056483751581482baf4521c27029eb4b": {
      "model_module": "jupyter-leaflet",
      "model_module_version": "^0.17",
      "model_name": "LeafletTileLayerModel",
      "state": {
       "_model_module_version": "^0.17",
       "_view_module_version": "^0.17",
       "attribution": "Google Earth Engine",
       "max_zoom": 24,
       "name": "Time series",
       "options": [
        "attribution",
        "bounds",
        "detect_retina",
        "max_native_zoom",
        "max_zoom",
        "min_native_zoom",
        "min_zoom",
        "no_wrap",
        "tile_size",
        "tms",
        "zoom_offset"
       ],
       "url": "https://earthengine.googleapis.com/v1/projects/earthengine-legacy/maps/e2f068b547ab3fb915141d2f1d838ad0-26ef0408d649d328ecf1b171ba743fd6/tiles/{z}/{x}/{y}",
       "visible": false
      }
     },
     "07fc2d6ae639472689c897beba25650b": {
      "model_module": "@jupyter-widgets/controls",
      "model_module_version": "2.0.0",
      "model_name": "ToggleButtonStyleModel",
      "state": {
       "description_width": "",
       "font_family": null,
       "font_size": null,
       "font_style": null,
       "font_variant": null,
       "font_weight": null,
       "text_color": null,
       "text_decoration": null
      }
     },
     "0df87c77292a453cb313f82830e37be5": {
      "model_module": "@jupyter-widgets/controls",
      "model_module_version": "2.0.0",
      "model_name": "LabelStyleModel",
      "state": {
       "description_width": "",
       "font_family": null,
       "font_size": null,
       "font_style": null,
       "font_variant": null,
       "font_weight": null,
       "text_color": null,
       "text_decoration": null
      }
     },
     "102f271732db4f1582154b173a36081a": {
      "model_module": "@jupyter-widgets/base",
      "model_module_version": "2.0.0",
      "model_name": "LayoutModel",
      "state": {
       "height": "auto",
       "padding": "0px 0px 0px 4px",
       "width": "auto"
      }
     },
     "12d7e0f590cd4405bc219c5e86f6d8ff": {
      "model_module": "@jupyter-widgets/controls",
      "model_module_version": "2.0.0",
      "model_name": "ToggleButtonsModel",
      "state": {
       "_options_labels": [
        "name/address",
        "lat-lon",
        "data"
       ],
       "button_style": "",
       "icons": [],
       "index": 0,
       "layout": "IPY_MODEL_4c733b897f744946b3199886fe60d145",
       "style": "IPY_MODEL_c3ea6a149d8e4e3fa7abd2b35ddcbff5",
       "tooltips": [
        "Search by place name or address",
        "Search by lat-lon coordinates",
        "Search Earth Engine data catalog"
       ]
      }
     },
     "135908eb36334f9ab84bc87e2cf86afd": {
      "model_module": "jupyter-leaflet",
      "model_module_version": "^0.17",
      "model_name": "LeafletAttributionControlModel",
      "state": {
       "_model_module_version": "^0.17",
       "_view_module_version": "^0.17",
       "options": [
        "position",
        "prefix"
       ],
       "position": "bottomright",
       "prefix": "ipyleaflet"
      }
     },
     "13e8e7ac89ba4577a33386f2a18f51a4": {
      "model_module": "jupyter-leaflet",
      "model_module_version": "^0.17",
      "model_name": "LeafletWidgetControlModel",
      "state": {
       "_model_module": "jupyter-leaflet",
       "_model_module_version": "^0.17",
       "_view_count": null,
       "_view_module": "jupyter-leaflet",
       "_view_module_version": "^0.17",
       "options": [
        "position",
        "transparent_bg"
       ],
       "position": "topleft",
       "widget": "IPY_MODEL_a073cb1f4f3949ec88cfeb52d63ea79f"
      }
     },
     "14306b86723548d68a8682a550c4fc66": {
      "model_module": "@jupyter-widgets/controls",
      "model_module_version": "2.0.0",
      "model_name": "ToggleButtonModel",
      "state": {
       "button_style": "primary",
       "icon": "hand-o-up",
       "layout": "IPY_MODEL_ffec7e34d17e458b838766e4854f56e7",
       "style": "IPY_MODEL_3953228254e441e6a2b17863bca7957a",
       "tooltip": "Collect training samples"
      }
     },
     "148b30ffab724801941c122e375acfb8": {
      "model_module": "@jupyter-widgets/base",
      "model_module_version": "2.0.0",
      "model_name": "LayoutModel",
      "state": {
       "width": "500px"
      }
     },
     "16593a86a45c4087a94d066ec9445a1f": {
      "model_module": "@jupyter-widgets/controls",
      "model_module_version": "2.0.0",
      "model_name": "GridBoxModel",
      "state": {
       "children": [
        "IPY_MODEL_6efe75e019164f32a4530b93b250f75d",
        "IPY_MODEL_17e94917213b4a0fbee043b1808683a9",
        "IPY_MODEL_4bdc48391f6c4e7b9052e0763d5accfd",
        "IPY_MODEL_e19c91e3d38d457da84523ecdddd74ef",
        "IPY_MODEL_44d614c29e3046f6a1c2ce915ab7a132",
        "IPY_MODEL_70c96bb771d0472b9af7b7e2f93d315f"
       ],
       "layout": "IPY_MODEL_41b58893428f464e8fe99a86972dfae9"
      }
     },
     "17e94917213b4a0fbee043b1808683a9": {
      "model_module": "@jupyter-widgets/controls",
      "model_module_version": "2.0.0",
      "model_name": "ToggleButtonModel",
      "state": {
       "button_style": "primary",
       "icon": "bar-chart",
       "layout": "IPY_MODEL_f878251a5ecb4c018491f599d69a835e",
       "style": "IPY_MODEL_a6f90fb39e4744839d4e0eb62958f8c8",
       "tooltip": "Plotting"
      }
     },
     "1819ced9f60c4f869100f5df94089473": {
      "model_module": "jupyter-leaflet",
      "model_module_version": "^0.17",
      "model_name": "LeafletWidgetControlModel",
      "state": {
       "_model_module": "jupyter-leaflet",
       "_model_module_version": "^0.17",
       "_view_count": null,
       "_view_module": "jupyter-leaflet",
       "_view_module_version": "^0.17",
       "options": [
        "position",
        "transparent_bg"
       ],
       "position": "topright",
       "widget": "IPY_MODEL_8858e6ba9c9f41099ad2b5211c9956b1"
      }
     },
     "18aa5032ee6c4176a9900aa454b3c897": {
      "model_module": "@jupyter-widgets/controls",
      "model_module_version": "2.0.0",
      "model_name": "VBoxModel",
      "state": {
       "children": [
        "IPY_MODEL_16593a86a45c4087a94d066ec9445a1f"
       ],
       "layout": "IPY_MODEL_ff25a370ad1342c4a6833a34f0c66b7a"
      }
     },
     "1efe735c40724b73a2ff7b300ae43ceb": {
      "model_module": "@jupyter-widgets/base",
      "model_module_version": "2.0.0",
      "model_name": "LayoutModel",
      "state": {
       "height": "auto",
       "padding": "0px 0px 0px 4px",
       "width": "auto"
      }
     },
     "1f24d98d5e8a45ff85924b052df3487d": {
      "model_module": "@jupyter-widgets/controls",
      "model_module_version": "2.0.0",
      "model_name": "ToggleButtonModel",
      "state": {
       "button_style": "primary",
       "icon": "adjust",
       "layout": "IPY_MODEL_9d83c12fd1cd4bb9a467924d1d186621",
       "style": "IPY_MODEL_c4aeb18b2add4dcd8c26127a49bfe6ab",
       "tooltip": "Planet imagery"
      }
     },
     "1f65aae25f954c20bb99f4205130e2db": {
      "model_module": "ipyevents",
      "model_module_version": "2.0.2",
      "model_name": "EventModel",
      "state": {
       "_supported_key_events": [
        "keydown",
        "keyup"
       ],
       "_supported_mouse_events": [
        "click",
        "auxclick",
        "dblclick",
        "mouseenter",
        "mouseleave",
        "mousedown",
        "mouseup",
        "mousemove",
        "wheel",
        "contextmenu",
        "dragstart",
        "drag",
        "dragend",
        "dragenter",
        "dragover",
        "dragleave",
        "drop"
       ],
       "_supported_touch_events": [
        "touchstart",
        "touchend",
        "touchmove",
        "touchcancel"
       ],
       "_view_module": "@jupyter-widgets/controls",
       "source": "IPY_MODEL_8858e6ba9c9f41099ad2b5211c9956b1",
       "throttle_or_debounce": "",
       "watched_events": [
        "mouseenter",
        "mouseleave"
       ],
       "xy_coordinate_system": ""
      }
     },
     "22863fa95ae946169dd8d0dba967f77b": {
      "model_module": "@jupyter-widgets/controls",
      "model_module_version": "2.0.0",
      "model_name": "ButtonStyleModel",
      "state": {
       "font_family": null,
       "font_size": null,
       "font_style": null,
       "font_variant": null,
       "font_weight": null,
       "text_color": null,
       "text_decoration": null
      }
     },
     "240259614c284276a857c39f6c661d60": {
      "model_module": "@jupyter-widgets/controls",
      "model_module_version": "2.0.0",
      "model_name": "ToggleButtonModel",
      "state": {
       "button_style": "primary",
       "icon": "fast-forward",
       "layout": "IPY_MODEL_7c9d0fa9a139434d80dbf678a1d1e4ea",
       "style": "IPY_MODEL_432a71b2d764416789da1f5ab18761a0",
       "tooltip": "Activate timeslider"
      }
     },
     "25b3babdb0514529a69b41943d2b0041": {
      "model_module": "@jupyter-widgets/base",
      "model_module_version": "2.0.0",
      "model_name": "LayoutModel",
      "state": {
       "max_width": "57px",
       "min_width": "57px"
      }
     },
     "26cf350a45944dfe8dc405e22d9a6274": {
      "model_module": "@jupyter-widgets/base",
      "model_module_version": "2.0.0",
      "model_name": "LayoutModel",
      "state": {}
     },
     "270323fe60b747adb5669e03d61f034a": {
      "model_module": "@jupyter-widgets/controls",
      "model_module_version": "2.0.0",
      "model_name": "DropdownModel",
      "state": {
       "index": null,
       "layout": "IPY_MODEL_d1e05b9aa5434ef8954843449cf2ec0b",
       "style": "IPY_MODEL_4bbd968393eb4d72a108f77b85b8762f"
      }
     },
     "29f7b71fd9a649d888a43d6d223307dd": {
      "model_module": "@jupyter-widgets/controls",
      "model_module_version": "2.0.0",
      "model_name": "DescriptionStyleModel",
      "state": {
       "description_width": ""
      }
     },
     "2ad35ed0de2d4b2fbf49a7c122bb29b2": {
      "model_module": "@jupyter-widgets/controls",
      "model_module_version": "2.0.0",
      "model_name": "ToggleButtonStyleModel",
      "state": {
       "description_width": "",
       "font_family": null,
       "font_size": null,
       "font_style": null,
       "font_variant": null,
       "font_weight": null,
       "text_color": null,
       "text_decoration": null
      }
     },
     "2d528717ebec43ef81ac373eb93510b6": {
      "model_module": "jupyter-leaflet",
      "model_module_version": "^0.17",
      "model_name": "LeafletTileLayerModel",
      "state": {
       "_model_module_version": "^0.17",
       "_view_module_version": "^0.17",
       "attribution": "Google Earth Engine",
       "max_zoom": 24,
       "name": "Image X",
       "options": [
        "attribution",
        "bounds",
        "detect_retina",
        "max_native_zoom",
        "max_zoom",
        "min_native_zoom",
        "min_zoom",
        "no_wrap",
        "tile_size",
        "tms",
        "zoom_offset"
       ],
       "url": "https://earthengine.googleapis.com/v1/projects/earthengine-legacy/maps/94ff739dca812389feb044e19dd103e2-67bb4e938e63e007007afcb2fae60529/tiles/{z}/{x}/{y}"
      }
     },
     "2ddc052590c0447a941b7657ef5805f0": {
      "model_module": "@jupyter-widgets/base",
      "model_module_version": "2.0.0",
      "model_name": "LayoutModel",
      "state": {}
     },
     "2e2426929e2b4496965a396a48abb01f": {
      "model_module": "@jupyter-widgets/controls",
      "model_module_version": "2.0.0",
      "model_name": "ToggleButtonModel",
      "state": {
       "button_style": "primary",
       "icon": "gears",
       "layout": "IPY_MODEL_1efe735c40724b73a2ff7b300ae43ceb",
       "style": "IPY_MODEL_c41de6317b7b4d18a4c301827c9289f4",
       "tooltip": "WhiteboxTools for local geoprocessing"
      }
     },
     "2f51d70b2ed042c39226e079d9f18d0e": {
      "model_module": "jupyter-leaflet",
      "model_module_version": "^0.17",
      "model_name": "LeafletMeasureControlModel",
      "state": {
       "_model_module_version": "^0.17",
       "_view_module_version": "^0.17",
       "active_color": "orange",
       "options": [
        "active_color",
        "capture_z_index",
        "completed_color",
        "popup_options",
        "position",
        "primary_area_unit",
        "primary_length_unit",
        "secondary_area_unit",
        "secondary_length_unit"
       ],
       "position": "bottomleft",
       "primary_length_unit": "kilometers",
       "secondary_area_unit": null,
       "secondary_length_unit": null
      }
     },
     "308e23fe87684def82c794bf3df2f03a": {
      "model_module": "@jupyter-widgets/controls",
      "model_module_version": "2.0.0",
      "model_name": "ButtonModel",
      "state": {
       "button_style": "primary",
       "icon": "pause",
       "layout": "IPY_MODEL_c5d50c3c9345462e8c32a9102d80ac7b",
       "style": "IPY_MODEL_85955184f1bb4618af76d2412e585ffb",
       "tooltip": "Pause the time slider"
      }
     },
     "31ab2aa241c645e1b14776017ebdfb40": {
      "model_module": "@jupyter-widgets/controls",
      "model_module_version": "2.0.0",
      "model_name": "ToggleButtonStyleModel",
      "state": {
       "description_width": "",
       "font_family": null,
       "font_size": null,
       "font_style": null,
       "font_variant": null,
       "font_weight": null,
       "text_color": null,
       "text_decoration": null
      }
     },
     "31e87486c7b24b9c99800753b73f21cb": {
      "model_module": "@jupyter-widgets/controls",
      "model_module_version": "2.0.0",
      "model_name": "ButtonStyleModel",
      "state": {
       "font_family": null,
       "font_size": null,
       "font_style": null,
       "font_variant": null,
       "font_weight": null,
       "text_color": null,
       "text_decoration": null
      }
     },
     "35ca001e3a0e41558f2e636f00f1f59f": {
      "model_module": "@jupyter-widgets/controls",
      "model_module_version": "2.0.0",
      "model_name": "ToggleButtonStyleModel",
      "state": {
       "description_width": "",
       "font_family": null,
       "font_size": null,
       "font_style": null,
       "font_variant": null,
       "font_weight": null,
       "text_color": null,
       "text_decoration": null
      }
     },
     "3898bdce0c2d4bbea033c8f794f1299f": {
      "model_module": "@jupyter-widgets/controls",
      "model_module_version": "2.0.0",
      "model_name": "HBoxModel",
      "state": {
       "children": [
        "IPY_MODEL_b685be6d0d434cbda30b1e3eade3ea65",
        "IPY_MODEL_50a80cba05ec4d4ab0953ff2709ae389"
       ],
       "layout": "IPY_MODEL_adbccf447a5e49e2aa46686616e37205"
      }
     },
     "3953228254e441e6a2b17863bca7957a": {
      "model_module": "@jupyter-widgets/controls",
      "model_module_version": "2.0.0",
      "model_name": "ToggleButtonStyleModel",
      "state": {
       "description_width": "",
       "font_family": null,
       "font_size": null,
       "font_style": null,
       "font_variant": null,
       "font_weight": null,
       "text_color": null,
       "text_decoration": null
      }
     },
     "3de8fb8c5c0447678601985640c3e0c4": {
      "model_module": "@jupyter-widgets/base",
      "model_module_version": "2.0.0",
      "model_name": "LayoutModel",
      "state": {}
     },
     "402e058ad0024bc1878e9382a5901783": {
      "model_module": "@jupyter-widgets/controls",
      "model_module_version": "2.0.0",
      "model_name": "ButtonModel",
      "state": {
       "button_style": "primary",
       "description": "import",
       "layout": "IPY_MODEL_25b3babdb0514529a69b41943d2b0041",
       "style": "IPY_MODEL_d6a4db4c8275461dba15dae5f7cbe7dc",
       "tooltip": "Click to import the selected asset"
      }
     },
     "411327ce9b684939a85520fc06fa6cb9": {
      "model_module": "jupyter-leaflet",
      "model_module_version": "^0.17",
      "model_name": "LeafletTileLayerModel",
      "state": {
       "_model_module_version": "^0.17",
       "_view_module_version": "^0.17",
       "attribution": "Tiles (C) Esri -- Source: Esri, i-cubed, USDA, USGS, AEX, GeoEye, Getmapping, Aerogrid, IGN, IGP, UPR-EGP, and the GIS User Community",
       "max_zoom": 24,
       "name": "Esri.WorldImagery",
       "options": [
        "attribution",
        "bounds",
        "detect_retina",
        "max_native_zoom",
        "max_zoom",
        "min_native_zoom",
        "min_zoom",
        "no_wrap",
        "tile_size",
        "tms",
        "zoom_offset"
       ],
       "url": "https://server.arcgisonline.com/ArcGIS/rest/services/World_Imagery/MapServer/tile/{z}/{y}/{x}"
      }
     },
     "41b58893428f464e8fe99a86972dfae9": {
      "model_module": "@jupyter-widgets/base",
      "model_module_version": "2.0.0",
      "model_name": "LayoutModel",
      "state": {
       "grid_gap": "1px 1px",
       "grid_template_columns": "32px 32px 32px ",
       "grid_template_rows": "32px 32px ",
       "padding": "5px",
       "width": "109px"
      }
     },
     "41e05b9ea693430ab7db23646322ddaf": {
      "model_module": "@jupyter-widgets/controls",
      "model_module_version": "2.0.0",
      "model_name": "ButtonStyleModel",
      "state": {
       "font_family": null,
       "font_size": null,
       "font_style": null,
       "font_variant": null,
       "font_weight": null,
       "text_color": null,
       "text_decoration": null
      }
     },
     "42b5a2e979304324bf8ca14122f4761b": {
      "model_module": "@jupyter-widgets/base",
      "model_module_version": "2.0.0",
      "model_name": "LayoutModel",
      "state": {
       "height": "auto",
       "padding": "0px 0px 0px 4px",
       "width": "auto"
      }
     },
     "432a71b2d764416789da1f5ab18761a0": {
      "model_module": "@jupyter-widgets/controls",
      "model_module_version": "2.0.0",
      "model_name": "ToggleButtonStyleModel",
      "state": {
       "description_width": "",
       "font_family": null,
       "font_size": null,
       "font_style": null,
       "font_variant": null,
       "font_weight": null,
       "text_color": null,
       "text_decoration": null
      }
     },
     "44d614c29e3046f6a1c2ce915ab7a132": {
      "model_module": "@jupyter-widgets/controls",
      "model_module_version": "2.0.0",
      "model_name": "ToggleButtonModel",
      "state": {
       "button_style": "primary",
       "icon": "retweet",
       "layout": "IPY_MODEL_9a9e20e9596b4ffd9b3e8e54892acbfd",
       "style": "IPY_MODEL_e77bcf286ded4410b9a8001d8febd92c",
       "tooltip": "Convert Earth Engine JavaScript to Python"
      }
     },
     "45773fdca66a4240aaf00a19b8b9e95d": {
      "model_module": "@jupyter-widgets/controls",
      "model_module_version": "2.0.0",
      "model_name": "HBoxModel",
      "state": {
       "children": [
        "IPY_MODEL_95ac6e3df6274a509da8409ab8552c22",
        "IPY_MODEL_7050a8931d9f4caa8faa555149470cbf",
        "IPY_MODEL_02ab2e524b744145b70ce40e5ed1b54a",
        "IPY_MODEL_308e23fe87684def82c794bf3df2f03a",
        "IPY_MODEL_5834a3086327404a9931205601de1259"
       ],
       "layout": "IPY_MODEL_875763cae45c4ec4b12467ff7e814b42"
      }
     },
     "4627e4deaf004f82a0814c995c4114b4": {
      "model_module": "jupyter-leaflet",
      "model_module_version": "^0.17",
      "model_name": "LeafletWidgetControlModel",
      "state": {
       "_model_module": "jupyter-leaflet",
       "_model_module_version": "^0.17",
       "_view_count": null,
       "_view_module": "jupyter-leaflet",
       "_view_module_version": "^0.17",
       "options": [
        "position",
        "transparent_bg"
       ],
       "position": "bottomright",
       "widget": "IPY_MODEL_45773fdca66a4240aaf00a19b8b9e95d"
      }
     },
     "47d8a101b17045148b61d1dfc4e3c770": {
      "model_module": "@jupyter-widgets/controls",
      "model_module_version": "2.0.0",
      "model_name": "TextStyleModel",
      "state": {
       "description_width": "",
       "font_size": null,
       "text_color": null
      }
     },
     "4a8630d5e35641a7bdecaa879e5f3c77": {
      "model_module": "@jupyter-widgets/controls",
      "model_module_version": "2.0.0",
      "model_name": "ButtonStyleModel",
      "state": {
       "font_family": null,
       "font_size": null,
       "font_style": null,
       "font_variant": null,
       "font_weight": null,
       "text_color": null,
       "text_decoration": null
      }
     },
     "4bbd968393eb4d72a108f77b85b8762f": {
      "model_module": "@jupyter-widgets/controls",
      "model_module_version": "2.0.0",
      "model_name": "DescriptionStyleModel",
      "state": {
       "description_width": ""
      }
     },
     "4bdc48391f6c4e7b9052e0763d5accfd": {
      "model_module": "@jupyter-widgets/controls",
      "model_module_version": "2.0.0",
      "model_name": "ToggleButtonModel",
      "state": {
       "button_style": "primary",
       "icon": "globe",
       "layout": "IPY_MODEL_bd5f44b2e95442549fd7e69a14c87f1b",
       "style": "IPY_MODEL_9bcf49d76d5c4cdfa3f3299e4d22e0c3",
       "tooltip": "Create timelapse"
      }
     },
     "4c733b897f744946b3199886fe60d145": {
      "model_module": "@jupyter-widgets/base",
      "model_module_version": "2.0.0",
      "model_name": "LayoutModel",
      "state": {}
     },
     "4f6ea547f1004ae19b8dc5c6b5439ff7": {
      "model_module": "@jupyter-widgets/base",
      "model_module_version": "2.0.0",
      "model_name": "LayoutModel",
      "state": {
       "width": "32px"
      }
     },
     "50a80cba05ec4d4ab0953ff2709ae389": {
      "model_module": "@jupyter-widgets/controls",
      "model_module_version": "2.0.0",
      "model_name": "ToggleButtonModel",
      "state": {
       "icon": "wrench",
       "layout": "IPY_MODEL_6931c88afb4947cc8253a6e971e930af",
       "style": "IPY_MODEL_a8d938b4372542c7a48039d271dd6370",
       "tooltip": "Toolbar"
      }
     },
     "51e9df9b5b064547a7b1a9281af26345": {
      "model_module": "@jupyter-widgets/base",
      "model_module_version": "2.0.0",
      "model_name": "LayoutModel",
      "state": {}
     },
     "54f144a3e99848a0ba27e55e0a8c8770": {
      "model_module": "@jupyter-widgets/controls",
      "model_module_version": "2.0.0",
      "model_name": "ToggleButtonModel",
      "state": {
       "button_style": "primary",
       "icon": "eraser",
       "layout": "IPY_MODEL_5b54b8670cfc42999bac3d46b5c5aa91",
       "style": "IPY_MODEL_31ab2aa241c645e1b14776017ebdfb40",
       "tooltip": "Remove all drawn features"
      }
     },
     "5630814b99aa409bbccfe1e8565d42f6": {
      "model_module": "jupyter-leaflet",
      "model_module_version": "^0.17",
      "model_name": "LeafletMapModel",
      "state": {
       "_model_module_version": "^0.17",
       "_view_module_version": "^0.17",
       "bottom": 1623197,
       "center": [
        37.658751368732155,
        -113.6433506011963
       ],
       "controls": [
        "IPY_MODEL_13e8e7ac89ba4577a33386f2a18f51a4",
        "IPY_MODEL_f471242607644065b4505a30e8ec709c",
        "IPY_MODEL_9b1e9f862c2148e1a40fd7e3589069b0",
        "IPY_MODEL_be91d9699b434d15a7e45126aceced98",
        "IPY_MODEL_95de8ce3e9ce411c9c97d1e6221249d7",
        "IPY_MODEL_2f51d70b2ed042c39226e079d9f18d0e",
        "IPY_MODEL_1819ced9f60c4f869100f5df94089473",
        "IPY_MODEL_135908eb36334f9ab84bc87e2cf86afd",
        "IPY_MODEL_4627e4deaf004f82a0814c995c4114b4",
        "IPY_MODEL_a25e22bf9914442f87d28ed956dcbe14"
       ],
       "default_style": "IPY_MODEL_fd3b5ff0ea774698b59720efe3a4d9b0",
       "dragging_style": "IPY_MODEL_aecae200ae244bb399396054388be6c4",
       "east": -113.60137939453126,
       "fullscreen": false,
       "interpolation": "bilinear",
       "layers": [
        "IPY_MODEL_dbc550fd0302469fa92f70b8066ed541",
        "IPY_MODEL_bd94324958834460893d07b938459ddd",
        "IPY_MODEL_411327ce9b684939a85520fc06fa6cb9",
        "IPY_MODEL_96cd56991e4647f4ab9f01f4982a1d41",
        "IPY_MODEL_f61a03ba445e43f1be4881c2300c488e",
        "IPY_MODEL_da249def6b114eca992b8110dfd71255",
        "IPY_MODEL_024d570cfecd423b9cd4bb2b7378eb43",
        "IPY_MODEL_056483751581482baf4521c27029eb4b",
        "IPY_MODEL_2d528717ebec43ef81ac373eb93510b6"
       ],
       "layout": "IPY_MODEL_a1ef0212166b46eb83ebef59a930aead",
       "left": 772622,
       "max_zoom": 24,
       "modisdate": "2024-03-11",
       "north": 37.67913327911363,
       "options": [
        "bounce_at_zoom_limits",
        "box_zoom",
        "center",
        "close_popup_on_click",
        "double_click_zoom",
        "dragging",
        "fullscreen",
        "inertia",
        "inertia_deceleration",
        "inertia_max_speed",
        "interpolation",
        "keyboard",
        "keyboard_pan_offset",
        "keyboard_zoom_offset",
        "max_zoom",
        "min_zoom",
        "prefer_canvas",
        "scroll_wheel_zoom",
        "tap",
        "tap_tolerance",
        "touch_zoom",
        "world_copy_jump",
        "zoom",
        "zoom_animation_threshold",
        "zoom_delta",
        "zoom_snap"
       ],
       "prefer_canvas": false,
       "right": 773600,
       "scroll_wheel_zoom": true,
       "south": 37.63836386133473,
       "style": "IPY_MODEL_fd3b5ff0ea774698b59720efe3a4d9b0",
       "top": 1622597,
       "west": -113.68532180786134,
       "window_url": "https://jupyterhub.cuahsi.org/user/torresrua/lab/tree/courses/RS_of_Land_Surfaces_laboratory/Lab%206%20Time-Series_2021.ipynb",
       "zoom": 14
      }
     },
     "573ab60e2d9e41738ea46c5ece4da33c": {
      "model_module": "@jupyter-widgets/base",
      "model_module_version": "2.0.0",
      "model_name": "LayoutModel",
      "state": {
       "max_height": "350px",
       "max_width": "340px",
       "overflow": "scroll"
      }
     },
     "5834a3086327404a9931205601de1259": {
      "model_module": "@jupyter-widgets/controls",
      "model_module_version": "2.0.0",
      "model_name": "ButtonModel",
      "state": {
       "button_style": "primary",
       "icon": "times",
       "layout": "IPY_MODEL_7d9acfe9465649cf98af2d611efcdf83",
       "style": "IPY_MODEL_31e87486c7b24b9c99800753b73f21cb",
       "tooltip": "Close the time slider"
      }
     },
     "5962242b99e546228a35d80aa7c453a1": {
      "model_module": "@jupyter-widgets/controls",
      "model_module_version": "2.0.0",
      "model_name": "VBoxModel",
      "state": {
       "children": [
        "IPY_MODEL_12d7e0f590cd4405bc219c5e86f6d8ff",
        "IPY_MODEL_d88d9d27ec3e46ae876dc8149163d75b"
       ],
       "layout": "IPY_MODEL_51e9df9b5b064547a7b1a9281af26345"
      }
     },
     "5b54b8670cfc42999bac3d46b5c5aa91": {
      "model_module": "@jupyter-widgets/base",
      "model_module_version": "2.0.0",
      "model_name": "LayoutModel",
      "state": {
       "height": "auto",
       "padding": "0px 0px 0px 4px",
       "width": "auto"
      }
     },
     "5c46d446b13842b584515290d873e4ab": {
      "model_module": "@jupyter-widgets/controls",
      "model_module_version": "2.0.0",
      "model_name": "CheckboxModel",
      "state": {
       "disabled": false,
       "layout": "IPY_MODEL_a277175d921e4be3a1b6641e27aa62d9",
       "style": "IPY_MODEL_f2f821018cb147549a47f9c43624d459",
       "value": false
      }
     },
     "5c65d6e13482477a9b121edc56c9212f": {
      "model_module": "@jupyter-widgets/base",
      "model_module_version": "2.0.0",
      "model_name": "LayoutModel",
      "state": {}
     },
     "6931c88afb4947cc8253a6e971e930af": {
      "model_module": "@jupyter-widgets/base",
      "model_module_version": "2.0.0",
      "model_name": "LayoutModel",
      "state": {
       "height": "28px",
       "padding": "0px 0px 0px 4px",
       "width": "28px"
      }
     },
     "6e7bfd0e47dd4f178c5406f17746e56e": {
      "model_module": "@jupyter-widgets/base",
      "model_module_version": "2.0.0",
      "model_name": "LayoutModel",
      "state": {
       "width": "150px"
      }
     },
     "6efe75e019164f32a4530b93b250f75d": {
      "model_module": "@jupyter-widgets/controls",
      "model_module_version": "2.0.0",
      "model_name": "ToggleButtonModel",
      "state": {
       "button_style": "primary",
       "icon": "info",
       "layout": "IPY_MODEL_c3e4b5f941624cdead4ec846e05dcdcd",
       "style": "IPY_MODEL_e8c5cb2973744b2fb276314aca9bb1af",
       "tooltip": "Inspector"
      }
     },
     "6fdc47aef62c427aacf362b219aeff55": {
      "model_module": "@jupyter-widgets/controls",
      "model_module_version": "2.0.0",
      "model_name": "HTMLStyleModel",
      "state": {
       "description_width": "",
       "font_size": null,
       "text_color": null
      }
     },
     "70060eb999ed464da955dead3c5647a2": {
      "model_module": "@jupyter-widgets/base",
      "model_module_version": "2.0.0",
      "model_name": "LayoutModel",
      "state": {}
     },
     "7050a8931d9f4caa8faa555149470cbf": {
      "model_module": "@jupyter-widgets/controls",
      "model_module_version": "2.0.0",
      "model_name": "LabelModel",
      "state": {
       "layout": "IPY_MODEL_8f733564597e4bbe91e6f93cccb507a9",
       "style": "IPY_MODEL_e7c1de89aa1b49f0a969c8ddf534ca98",
       "value": "LC08_038034_20210106"
      }
     },
     "70c96bb771d0472b9af7b7e2f93d315f": {
      "model_module": "@jupyter-widgets/controls",
      "model_module_version": "2.0.0",
      "model_name": "ToggleButtonModel",
      "state": {
       "button_style": "primary",
       "icon": "plus",
       "layout": "IPY_MODEL_8e9cb70556dd4d6eb64acc336989bd0d",
       "style": "IPY_MODEL_07fc2d6ae639472689c897beba25650b",
       "tooltip": "Expand toolbar"
      }
     },
     "730b3cf898b340b1b6fce3af27186715": {
      "model_module": "@jupyter-widgets/controls",
      "model_module_version": "2.0.0",
      "model_name": "LabelModel",
      "state": {
       "layout": "IPY_MODEL_b36acd2b65064ad5a7d1a95a536d19ce",
       "style": "IPY_MODEL_0df87c77292a453cb313f82830e37be5",
       "value": "LC08_038034_20210106"
      }
     },
     "78032b0d41a847b1894d24153466683d": {
      "model_module": "@jupyter-widgets/controls",
      "model_module_version": "2.0.0",
      "model_name": "ButtonModel",
      "state": {
       "button_style": "primary",
       "icon": "pause",
       "layout": "IPY_MODEL_b365ce37439145829aadab5c44a5dc22",
       "style": "IPY_MODEL_22863fa95ae946169dd8d0dba967f77b",
       "tooltip": "Pause the time slider"
      }
     },
     "79b178c7a31e4c8596d260b37aa74679": {
      "model_module": "@jupyter-widgets/output",
      "model_module_version": "1.0.0",
      "model_name": "OutputModel",
      "state": {
       "layout": "IPY_MODEL_573ab60e2d9e41738ea46c5ece4da33c"
      }
     },
     "7acf7502dffc47098e417de12daff8fe": {
      "model_module": "@jupyter-widgets/controls",
      "model_module_version": "2.0.0",
      "model_name": "CheckboxStyleModel",
      "state": {
       "description_width": ""
      }
     },
     "7c9d0fa9a139434d80dbf678a1d1e4ea": {
      "model_module": "@jupyter-widgets/base",
      "model_module_version": "2.0.0",
      "model_name": "LayoutModel",
      "state": {
       "height": "auto",
       "padding": "0px 0px 0px 4px",
       "width": "auto"
      }
     },
     "7d9acfe9465649cf98af2d611efcdf83": {
      "model_module": "@jupyter-widgets/base",
      "model_module_version": "2.0.0",
      "model_name": "LayoutModel",
      "state": {
       "width": "32px"
      }
     },
     "8413f1f3a7f34ab48000c199811d4d90": {
      "model_module": "jupyter-leaflet",
      "model_module_version": "^0.17",
      "model_name": "LeafletMapStyleModel",
      "state": {
       "_model_module_version": "^0.17"
      }
     },
     "85704edc58ec45759124c9c3271bd291": {
      "model_module": "@jupyter-widgets/controls",
      "model_module_version": "2.0.0",
      "model_name": "ToggleButtonStyleModel",
      "state": {
       "description_width": "",
       "font_family": null,
       "font_size": null,
       "font_style": null,
       "font_variant": null,
       "font_weight": null,
       "text_color": null,
       "text_decoration": null
      }
     },
     "85955184f1bb4618af76d2412e585ffb": {
      "model_module": "@jupyter-widgets/controls",
      "model_module_version": "2.0.0",
      "model_name": "ButtonStyleModel",
      "state": {
       "font_family": null,
       "font_size": null,
       "font_style": null,
       "font_variant": null,
       "font_weight": null,
       "text_color": null,
       "text_decoration": null
      }
     },
     "875763cae45c4ec4b12467ff7e814b42": {
      "model_module": "@jupyter-widgets/base",
      "model_module_version": "2.0.0",
      "model_name": "LayoutModel",
      "state": {}
     },
     "8858e6ba9c9f41099ad2b5211c9956b1": {
      "model_module": "@jupyter-widgets/controls",
      "model_module_version": "2.0.0",
      "model_name": "VBoxModel",
      "state": {
       "_view_count": 5,
       "children": [
        "IPY_MODEL_50a80cba05ec4d4ab0953ff2709ae389"
       ],
       "layout": "IPY_MODEL_26cf350a45944dfe8dc405e22d9a6274"
      }
     },
     "8af6262fbc0742cc8a84e13408788df5": {
      "model_module": "@jupyter-widgets/controls",
      "model_module_version": "2.0.0",
      "model_name": "ToggleButtonStyleModel",
      "state": {
       "description_width": "",
       "font_family": null,
       "font_size": null,
       "font_style": null,
       "font_variant": null,
       "font_weight": null,
       "text_color": null,
       "text_decoration": null
      }
     },
     "8e9cb70556dd4d6eb64acc336989bd0d": {
      "model_module": "@jupyter-widgets/base",
      "model_module_version": "2.0.0",
      "model_name": "LayoutModel",
      "state": {
       "height": "auto",
       "padding": "0px 0px 0px 4px",
       "width": "auto"
      }
     },
     "8f733564597e4bbe91e6f93cccb507a9": {
      "model_module": "@jupyter-widgets/base",
      "model_module_version": "2.0.0",
      "model_name": "LayoutModel",
      "state": {
       "padding": "0px 5px 0px 5px"
      }
     },
     "923089b637e848689b487456df6a9afe": {
      "model_module": "@jupyter-widgets/controls",
      "model_module_version": "2.0.0",
      "model_name": "IntSliderModel",
      "state": {
       "behavior": "drag-tap",
       "continuous_update": false,
       "layout": "IPY_MODEL_c24c5f43cdc745faba8ae29f63f8749d",
       "max": 42,
       "min": 1,
       "readout": false,
       "style": "IPY_MODEL_baa6dabb46754acaaea3794e30b4e205",
       "value": 1
      }
     },
     "95ac6e3df6274a509da8409ab8552c22": {
      "model_module": "@jupyter-widgets/controls",
      "model_module_version": "2.0.0",
      "model_name": "IntSliderModel",
      "state": {
       "behavior": "drag-tap",
       "continuous_update": false,
       "layout": "IPY_MODEL_6e7bfd0e47dd4f178c5406f17746e56e",
       "max": 42,
       "min": 1,
       "readout": false,
       "style": "IPY_MODEL_e4a8c1afeea644cc8c6f796fa6be0bbf",
       "value": 1
      }
     },
     "95de8ce3e9ce411c9c97d1e6221249d7": {
      "model_module": "jupyter-leaflet",
      "model_module_version": "^0.17",
      "model_name": "LeafletScaleControlModel",
      "state": {
       "_model_module_version": "^0.17",
       "_view_module_version": "^0.17",
       "imperial": true,
       "max_width": 100,
       "metric": true,
       "options": [
        "imperial",
        "max_width",
        "metric",
        "position",
        "update_when_idle"
       ],
       "position": "bottomleft",
       "update_when_idle": false
      }
     },
     "96cd56991e4647f4ab9f01f4982a1d41": {
      "model_module": "jupyter-leaflet",
      "model_module_version": "^0.17",
      "model_name": "LeafletTileLayerModel",
      "state": {
       "_model_module_version": "^0.17",
       "_view_module_version": "^0.17",
       "attribution": "Google Earth Engine",
       "max_zoom": 24,
       "name": "pivot0",
       "options": [
        "attribution",
        "bounds",
        "detect_retina",
        "max_native_zoom",
        "max_zoom",
        "min_native_zoom",
        "min_zoom",
        "no_wrap",
        "tile_size",
        "tms",
        "zoom_offset"
       ],
       "url": "https://earthengine.googleapis.com/v1/projects/earthengine-legacy/maps/d825bc6db1fc523eb5302a16d771b7ad-bef9cccadc7e43a6fea981a6415eeb2e/tiles/{z}/{x}/{y}"
      }
     },
     "97994c9c06c242e1b4bd10a7fb12ad6e": {
      "model_module": "jupyter-leaflet",
      "model_module_version": "^0.17",
      "model_name": "LeafletZoomControlModel",
      "state": {
       "_model_module_version": "^0.17",
       "_view_module_version": "^0.17",
       "options": [
        "position",
        "zoom_in_text",
        "zoom_in_title",
        "zoom_out_text",
        "zoom_out_title"
       ]
      }
     },
     "9a9e20e9596b4ffd9b3e8e54892acbfd": {
      "model_module": "@jupyter-widgets/base",
      "model_module_version": "2.0.0",
      "model_name": "LayoutModel",
      "state": {
       "height": "auto",
       "padding": "0px 0px 0px 4px",
       "width": "auto"
      }
     },
     "9b1e9f862c2148e1a40fd7e3589069b0": {
      "model_module": "jupyter-leaflet",
      "model_module_version": "^0.17",
      "model_name": "LeafletFullScreenControlModel",
      "state": {
       "_model_module_version": "^0.17",
       "_view_module_version": "^0.17",
       "options": [
        "position"
       ]
      }
     },
     "9b4da9855c174a71ab78a9442b22029a": {
      "model_module": "@jupyter-widgets/controls",
      "model_module_version": "2.0.0",
      "model_name": "ToggleButtonModel",
      "state": {
       "button_style": "primary",
       "icon": "line-chart",
       "layout": "IPY_MODEL_102f271732db4f1582154b173a36081a",
       "style": "IPY_MODEL_35ca001e3a0e41558f2e636f00f1f59f",
       "tooltip": "Creating and plotting transects"
      }
     },
     "9bcf49d76d5c4cdfa3f3299e4d22e0c3": {
      "model_module": "@jupyter-widgets/controls",
      "model_module_version": "2.0.0",
      "model_name": "ToggleButtonStyleModel",
      "state": {
       "description_width": "",
       "font_family": null,
       "font_size": null,
       "font_style": null,
       "font_variant": null,
       "font_weight": null,
       "text_color": null,
       "text_decoration": null
      }
     },
     "9d83c12fd1cd4bb9a467924d1d186621": {
      "model_module": "@jupyter-widgets/base",
      "model_module_version": "2.0.0",
      "model_name": "LayoutModel",
      "state": {
       "height": "auto",
       "padding": "0px 0px 0px 4px",
       "width": "auto"
      }
     },
     "a073cb1f4f3949ec88cfeb52d63ea79f": {
      "model_module": "@jupyter-widgets/controls",
      "model_module_version": "2.0.0",
      "model_name": "HBoxModel",
      "state": {
       "_view_count": 5,
       "children": [
        "IPY_MODEL_a298044fe78149d69db940797597ba36"
       ],
       "layout": "IPY_MODEL_3de8fb8c5c0447678601985640c3e0c4"
      }
     },
     "a1032705de5643c89fcc58219aebe589": {
      "model_module": "@jupyter-widgets/base",
      "model_module_version": "2.0.0",
      "model_name": "LayoutModel",
      "state": {
       "height": "auto",
       "padding": "0px 0px 0px 4px",
       "width": "auto"
      }
     },
     "a1ef0212166b46eb83ebef59a930aead": {
      "model_module": "@jupyter-widgets/base",
      "model_module_version": "2.0.0",
      "model_name": "LayoutModel",
      "state": {
       "height": "600px"
      }
     },
     "a25e22bf9914442f87d28ed956dcbe14": {
      "model_module": "jupyter-leaflet",
      "model_module_version": "^0.17",
      "model_name": "LeafletWidgetControlModel",
      "state": {
       "_model_module": "jupyter-leaflet",
       "_model_module_version": "^0.17",
       "_view_count": null,
       "_view_module": "jupyter-leaflet",
       "_view_module_version": "^0.17",
       "options": [
        "position",
        "transparent_bg"
       ],
       "position": "bottomright",
       "widget": "IPY_MODEL_e72dec8bb761417cbe6a2544d994f9d1"
      }
     },
     "a277175d921e4be3a1b6641e27aa62d9": {
      "model_module": "@jupyter-widgets/base",
      "model_module_version": "2.0.0",
      "model_name": "LayoutModel",
      "state": {}
     },
     "a298044fe78149d69db940797597ba36": {
      "model_module": "@jupyter-widgets/controls",
      "model_module_version": "2.0.0",
      "model_name": "ToggleButtonModel",
      "state": {
       "icon": "globe",
       "layout": "IPY_MODEL_ac2f342ef5a040de90a9cc982664be2e",
       "style": "IPY_MODEL_8af6262fbc0742cc8a84e13408788df5",
       "tooltip": "Search location/data"
      }
     },
     "a6f90fb39e4744839d4e0eb62958f8c8": {
      "model_module": "@jupyter-widgets/controls",
      "model_module_version": "2.0.0",
      "model_name": "ToggleButtonStyleModel",
      "state": {
       "description_width": "",
       "font_family": null,
       "font_size": null,
       "font_style": null,
       "font_variant": null,
       "font_weight": null,
       "text_color": null,
       "text_decoration": null
      }
     },
     "a78b0f5a70904fa4bd77a6a92a948cdc": {
      "model_module": "@jupyter-widgets/controls",
      "model_module_version": "2.0.0",
      "model_name": "RadioButtonsModel",
      "state": {
       "index": null,
       "layout": "IPY_MODEL_e2d33700b6bd46faa81983e140d2189a",
       "style": "IPY_MODEL_29f7b71fd9a649d888a43d6d223307dd"
      }
     },
     "a7bd69013acf4d9186cf7a11fd56537a": {
      "model_module": "@jupyter-widgets/controls",
      "model_module_version": "2.0.0",
      "model_name": "ButtonModel",
      "state": {
       "button_style": "primary",
       "icon": "play",
       "layout": "IPY_MODEL_c75b2535572a46028686318dd2b33b24",
       "style": "IPY_MODEL_f5d69542140548449eebf7377dfaf01c",
       "tooltip": "Play the time slider"
      }
     },
     "a8d938b4372542c7a48039d271dd6370": {
      "model_module": "@jupyter-widgets/controls",
      "model_module_version": "2.0.0",
      "model_name": "ToggleButtonStyleModel",
      "state": {
       "description_width": "",
       "font_family": null,
       "font_size": null,
       "font_style": null,
       "font_variant": null,
       "font_weight": null,
       "text_color": null,
       "text_decoration": null
      }
     },
     "ab6cc960839e4c93ae75a5c0a104c428": {
      "model_module": "@jupyter-widgets/controls",
      "model_module_version": "2.0.0",
      "model_name": "ToggleButtonModel",
      "state": {
       "button_style": "primary",
       "icon": "folder-open",
       "layout": "IPY_MODEL_ac287b03b46746eda2c7d8add95981bd",
       "style": "IPY_MODEL_2ad35ed0de2d4b2fbf49a7c122bb29b2",
       "tooltip": "Open local vector/raster data"
      }
     },
     "ac287b03b46746eda2c7d8add95981bd": {
      "model_module": "@jupyter-widgets/base",
      "model_module_version": "2.0.0",
      "model_name": "LayoutModel",
      "state": {
       "height": "auto",
       "padding": "0px 0px 0px 4px",
       "width": "auto"
      }
     },
     "ac2f342ef5a040de90a9cc982664be2e": {
      "model_module": "@jupyter-widgets/base",
      "model_module_version": "2.0.0",
      "model_name": "LayoutModel",
      "state": {
       "height": "28px",
       "padding": "0px 0px 0px 4px",
       "width": "28px"
      }
     },
     "adbccf447a5e49e2aa46686616e37205": {
      "model_module": "@jupyter-widgets/base",
      "model_module_version": "2.0.0",
      "model_name": "LayoutModel",
      "state": {}
     },
     "aecae200ae244bb399396054388be6c4": {
      "model_module": "jupyter-leaflet",
      "model_module_version": "^0.17",
      "model_name": "LeafletMapStyleModel",
      "state": {
       "_model_module_version": "^0.17",
       "cursor": "move"
      }
     },
     "b365ce37439145829aadab5c44a5dc22": {
      "model_module": "@jupyter-widgets/base",
      "model_module_version": "2.0.0",
      "model_name": "LayoutModel",
      "state": {
       "width": "32px"
      }
     },
     "b36acd2b65064ad5a7d1a95a536d19ce": {
      "model_module": "@jupyter-widgets/base",
      "model_module_version": "2.0.0",
      "model_name": "LayoutModel",
      "state": {
       "padding": "0px 5px 0px 5px"
      }
     },
     "b685be6d0d434cbda30b1e3eade3ea65": {
      "model_module": "@jupyter-widgets/controls",
      "model_module_version": "2.0.0",
      "model_name": "ToggleButtonModel",
      "state": {
       "icon": "server",
       "layout": "IPY_MODEL_fc6b8a58482341358ef2c467f1581b84",
       "style": "IPY_MODEL_85704edc58ec45759124c9c3271bd291",
       "tooltip": "Layers"
      }
     },
     "b7c0405f9f89468a811ab78b8df5fd54": {
      "model_module": "@jupyter-widgets/base",
      "model_module_version": "2.0.0",
      "model_name": "LayoutModel",
      "state": {}
     },
     "baa6dabb46754acaaea3794e30b4e205": {
      "model_module": "@jupyter-widgets/controls",
      "model_module_version": "2.0.0",
      "model_name": "SliderStyleModel",
      "state": {
       "description_width": ""
      }
     },
     "bd5f44b2e95442549fd7e69a14c87f1b": {
      "model_module": "@jupyter-widgets/base",
      "model_module_version": "2.0.0",
      "model_name": "LayoutModel",
      "state": {
       "height": "auto",
       "padding": "0px 0px 0px 4px",
       "width": "auto"
      }
     },
     "bd94324958834460893d07b938459ddd": {
      "model_module": "jupyter-leaflet",
      "model_module_version": "^0.17",
      "model_name": "LeafletTileLayerModel",
      "state": {
       "_model_module_version": "^0.17",
       "_view_module_version": "^0.17",
       "attribution": "Google",
       "max_zoom": 24,
       "name": "Google Maps",
       "options": [
        "attribution",
        "bounds",
        "detect_retina",
        "max_native_zoom",
        "max_zoom",
        "min_native_zoom",
        "min_zoom",
        "no_wrap",
        "tile_size",
        "tms",
        "zoom_offset"
       ],
       "url": "https://mt1.google.com/vt/lyrs=m&x={x}&y={y}&z={z}"
      }
     },
     "be91d9699b434d15a7e45126aceced98": {
      "model_module": "jupyter-leaflet",
      "model_module_version": "^0.17",
      "model_name": "LeafletDrawControlModel",
      "state": {
       "_model_module_version": "^0.17",
       "_view_module_version": "^0.17",
       "marker": {
        "shapeOptions": {
         "color": "#3388ff"
        }
       },
       "options": [
        "position"
       ],
       "polygon": {
        "shapeOptions": {
         "clickable": true,
         "color": "#3388ff",
         "fill": true,
         "fillColor": null,
         "fillOpacity": 0.2,
         "opacity": 0.5,
         "stroke": true,
         "weight": 4
        }
       },
       "polyline": {
        "shapeOptions": {
         "clickable": true,
         "color": "#3388ff",
         "fill": false,
         "opacity": 0.5,
         "stroke": true,
         "weight": 4
        }
       },
       "rectangle": {
        "shapeOptions": {
         "clickable": true,
         "color": "#3388ff",
         "fill": true,
         "fillColor": null,
         "fillOpacity": 0.2,
         "opacity": 0.5,
         "stroke": true,
         "weight": 4
        }
       }
      }
     },
     "c1113ee823644212a7f259a3dc31a81f": {
      "model_module": "@jupyter-widgets/controls",
      "model_module_version": "2.0.0",
      "model_name": "ToggleButtonStyleModel",
      "state": {
       "description_width": "",
       "font_family": null,
       "font_size": null,
       "font_style": null,
       "font_variant": null,
       "font_weight": null,
       "text_color": null,
       "text_decoration": null
      }
     },
     "c24c5f43cdc745faba8ae29f63f8749d": {
      "model_module": "@jupyter-widgets/base",
      "model_module_version": "2.0.0",
      "model_name": "LayoutModel",
      "state": {
       "width": "150px"
      }
     },
     "c3e4b5f941624cdead4ec846e05dcdcd": {
      "model_module": "@jupyter-widgets/base",
      "model_module_version": "2.0.0",
      "model_name": "LayoutModel",
      "state": {
       "height": "auto",
       "padding": "0px 0px 0px 4px",
       "width": "auto"
      }
     },
     "c3ea6a149d8e4e3fa7abd2b35ddcbff5": {
      "model_module": "@jupyter-widgets/controls",
      "model_module_version": "2.0.0",
      "model_name": "ToggleButtonsStyleModel",
      "state": {
       "button_width": "110px",
       "description_width": ""
      }
     },
     "c41de6317b7b4d18a4c301827c9289f4": {
      "model_module": "@jupyter-widgets/controls",
      "model_module_version": "2.0.0",
      "model_name": "ToggleButtonStyleModel",
      "state": {
       "description_width": "",
       "font_family": null,
       "font_size": null,
       "font_style": null,
       "font_variant": null,
       "font_weight": null,
       "text_color": null,
       "text_decoration": null
      }
     },
     "c4aeb18b2add4dcd8c26127a49bfe6ab": {
      "model_module": "@jupyter-widgets/controls",
      "model_module_version": "2.0.0",
      "model_name": "ToggleButtonStyleModel",
      "state": {
       "description_width": "",
       "font_family": null,
       "font_size": null,
       "font_style": null,
       "font_variant": null,
       "font_weight": null,
       "text_color": null,
       "text_decoration": null
      }
     },
     "c5d50c3c9345462e8c32a9102d80ac7b": {
      "model_module": "@jupyter-widgets/base",
      "model_module_version": "2.0.0",
      "model_name": "LayoutModel",
      "state": {
       "width": "32px"
      }
     },
     "c75b2535572a46028686318dd2b33b24": {
      "model_module": "@jupyter-widgets/base",
      "model_module_version": "2.0.0",
      "model_name": "LayoutModel",
      "state": {
       "width": "32px"
      }
     },
     "d1e05b9aa5434ef8954843449cf2ec0b": {
      "model_module": "@jupyter-widgets/base",
      "model_module_version": "2.0.0",
      "model_name": "LayoutModel",
      "state": {
       "max_width": "279px",
       "min_width": "279px"
      }
     },
     "d56e9306a422493fb311aba929bbf34e": {
      "model_module": "jupyter-leaflet",
      "model_module_version": "^0.17",
      "model_name": "LeafletAttributionControlModel",
      "state": {
       "_model_module_version": "^0.17",
       "_view_module_version": "^0.17",
       "options": [
        "position",
        "prefix"
       ],
       "position": "bottomright",
       "prefix": "ipyleaflet"
      }
     },
     "d637a823428e42c286dd651658bb305f": {
      "model_module": "@jupyter-widgets/controls",
      "model_module_version": "2.0.0",
      "model_name": "ToggleButtonModel",
      "state": {
       "button_style": "primary",
       "icon": "random",
       "layout": "IPY_MODEL_42b5a2e979304324bf8ca14122f4761b",
       "style": "IPY_MODEL_c1113ee823644212a7f259a3dc31a81f",
       "tooltip": "Sankey plots"
      }
     },
     "d6a4db4c8275461dba15dae5f7cbe7dc": {
      "model_module": "@jupyter-widgets/controls",
      "model_module_version": "2.0.0",
      "model_name": "ButtonStyleModel",
      "state": {
       "font_family": null,
       "font_size": null,
       "font_style": null,
       "font_variant": null,
       "font_weight": null,
       "text_color": null,
       "text_decoration": null
      }
     },
     "d88d9d27ec3e46ae876dc8149163d75b": {
      "model_module": "@jupyter-widgets/controls",
      "model_module_version": "2.0.0",
      "model_name": "TextModel",
      "state": {
       "layout": "IPY_MODEL_ef0709516369444cb00b59fb2a2c8635",
       "placeholder": "Search by place name or address",
       "style": "IPY_MODEL_47d8a101b17045148b61d1dfc4e3c770",
       "tooltip": "Search location"
      }
     },
     "d93abdca63d04861863ad47aced2d625": {
      "model_module": "@jupyter-widgets/controls",
      "model_module_version": "2.0.0",
      "model_name": "ToggleButtonStyleModel",
      "state": {
       "description_width": "",
       "font_family": null,
       "font_size": null,
       "font_style": null,
       "font_variant": null,
       "font_weight": null,
       "text_color": null,
       "text_decoration": null
      }
     },
     "da249def6b114eca992b8110dfd71255": {
      "model_module": "jupyter-leaflet",
      "model_module_version": "^0.17",
      "model_name": "LeafletTileLayerModel",
      "state": {
       "_model_module_version": "^0.17",
       "_view_module_version": "^0.17",
       "attribution": "Google Earth Engine",
       "max_zoom": 24,
       "name": "pivot2",
       "options": [
        "attribution",
        "bounds",
        "detect_retina",
        "max_native_zoom",
        "max_zoom",
        "min_native_zoom",
        "min_zoom",
        "no_wrap",
        "tile_size",
        "tms",
        "zoom_offset"
       ],
       "url": "https://earthengine.googleapis.com/v1/projects/earthengine-legacy/maps/f8cb86275f8459180432df43232936b9-7cea91518b85d847dc39ff0fbaef5cd9/tiles/{z}/{x}/{y}"
      }
     },
     "dbc550fd0302469fa92f70b8066ed541": {
      "model_module": "jupyter-leaflet",
      "model_module_version": "^0.17",
      "model_name": "LeafletTileLayerModel",
      "state": {
       "_model_module_version": "^0.17",
       "_view_module_version": "^0.17",
       "attribution": "&copy; <a href=\"https://www.openstreetmap.org/copyright\">OpenStreetMap</a> contributors",
       "base": true,
       "max_zoom": 19,
       "min_zoom": 1,
       "name": "OpenStreetMap.Mapnik",
       "options": [
        "attribution",
        "bounds",
        "detect_retina",
        "max_native_zoom",
        "max_zoom",
        "min_native_zoom",
        "min_zoom",
        "no_wrap",
        "tile_size",
        "tms",
        "zoom_offset"
       ],
       "url": "https://tile.openstreetmap.org/{z}/{x}/{y}.png"
      }
     },
     "ddc4295159bb4579b1ca61f44e3ce967": {
      "model_module": "@jupyter-widgets/controls",
      "model_module_version": "2.0.0",
      "model_name": "CheckboxModel",
      "state": {
       "disabled": false,
       "layout": "IPY_MODEL_2ddc052590c0447a941b7657ef5805f0",
       "style": "IPY_MODEL_7acf7502dffc47098e417de12daff8fe",
       "value": false
      }
     },
     "e19c91e3d38d457da84523ecdddd74ef": {
      "model_module": "@jupyter-widgets/controls",
      "model_module_version": "2.0.0",
      "model_name": "ToggleButtonModel",
      "state": {
       "button_style": "primary",
       "icon": "map",
       "layout": "IPY_MODEL_04a2d2d5c6f14ab9a29002fb2b3f9dfe",
       "style": "IPY_MODEL_02172068da9748aba7ab48b0139fc8cb",
       "tooltip": "Change basemap"
      }
     },
     "e1e1dd0bbf854c749ebf40b97ac9132c": {
      "model_module": "@jupyter-widgets/controls",
      "model_module_version": "2.0.0",
      "model_name": "ButtonModel",
      "state": {
       "button_style": "primary",
       "icon": "times",
       "layout": "IPY_MODEL_f3da6c956e88424e89477c68f5b8be7f",
       "style": "IPY_MODEL_41e05b9ea693430ab7db23646322ddaf",
       "tooltip": "Close the time slider"
      }
     },
     "e2d33700b6bd46faa81983e140d2189a": {
      "model_module": "@jupyter-widgets/base",
      "model_module_version": "2.0.0",
      "model_name": "LayoutModel",
      "state": {}
     },
     "e306fa272f26466a835cf1f90659fff7": {
      "model_module": "ipyevents",
      "model_module_version": "2.0.2",
      "model_name": "EventModel",
      "state": {
       "_supported_key_events": [
        "keydown",
        "keyup"
       ],
       "_supported_mouse_events": [
        "click",
        "auxclick",
        "dblclick",
        "mouseenter",
        "mouseleave",
        "mousedown",
        "mouseup",
        "mousemove",
        "wheel",
        "contextmenu",
        "dragstart",
        "drag",
        "dragend",
        "dragenter",
        "dragover",
        "dragleave",
        "drop"
       ],
       "_supported_touch_events": [
        "touchstart",
        "touchend",
        "touchmove",
        "touchcancel"
       ],
       "_view_module": "@jupyter-widgets/controls",
       "source": "IPY_MODEL_a073cb1f4f3949ec88cfeb52d63ea79f",
       "throttle_or_debounce": "",
       "watched_events": [
        "mouseenter",
        "mouseleave"
       ],
       "xy_coordinate_system": ""
      }
     },
     "e4a8c1afeea644cc8c6f796fa6be0bbf": {
      "model_module": "@jupyter-widgets/controls",
      "model_module_version": "2.0.0",
      "model_name": "SliderStyleModel",
      "state": {
       "description_width": ""
      }
     },
     "e72dec8bb761417cbe6a2544d994f9d1": {
      "model_module": "@jupyter-widgets/controls",
      "model_module_version": "2.0.0",
      "model_name": "HBoxModel",
      "state": {
       "children": [
        "IPY_MODEL_923089b637e848689b487456df6a9afe",
        "IPY_MODEL_730b3cf898b340b1b6fce3af27186715",
        "IPY_MODEL_a7bd69013acf4d9186cf7a11fd56537a",
        "IPY_MODEL_78032b0d41a847b1894d24153466683d",
        "IPY_MODEL_e1e1dd0bbf854c749ebf40b97ac9132c"
       ],
       "layout": "IPY_MODEL_b7c0405f9f89468a811ab78b8df5fd54"
      }
     },
     "e77bcf286ded4410b9a8001d8febd92c": {
      "model_module": "@jupyter-widgets/controls",
      "model_module_version": "2.0.0",
      "model_name": "ToggleButtonStyleModel",
      "state": {
       "description_width": "",
       "font_family": null,
       "font_size": null,
       "font_style": null,
       "font_variant": null,
       "font_weight": null,
       "text_color": null,
       "text_decoration": null
      }
     },
     "e7c1de89aa1b49f0a969c8ddf534ca98": {
      "model_module": "@jupyter-widgets/controls",
      "model_module_version": "2.0.0",
      "model_name": "LabelStyleModel",
      "state": {
       "description_width": "",
       "font_family": null,
       "font_size": null,
       "font_style": null,
       "font_variant": null,
       "font_weight": null,
       "text_color": null,
       "text_decoration": null
      }
     },
     "e8c5cb2973744b2fb276314aca9bb1af": {
      "model_module": "@jupyter-widgets/controls",
      "model_module_version": "2.0.0",
      "model_name": "ToggleButtonStyleModel",
      "state": {
       "description_width": "",
       "font_family": null,
       "font_size": null,
       "font_style": null,
       "font_variant": null,
       "font_weight": null,
       "text_color": null,
       "text_decoration": null
      }
     },
     "eb9284e97a374037ac2ebe53fbcefeaf": {
      "model_module": "@jupyter-widgets/controls",
      "model_module_version": "2.0.0",
      "model_name": "HBoxModel",
      "state": {
       "children": [
        "IPY_MODEL_402e058ad0024bc1878e9382a5901783",
        "IPY_MODEL_270323fe60b747adb5669e03d61f034a"
       ],
       "layout": "IPY_MODEL_70060eb999ed464da955dead3c5647a2"
      }
     },
     "ef0709516369444cb00b59fb2a2c8635": {
      "model_module": "@jupyter-widgets/base",
      "model_module_version": "2.0.0",
      "model_name": "LayoutModel",
      "state": {
       "width": "340px"
      }
     },
     "f2f821018cb147549a47f9c43624d459": {
      "model_module": "@jupyter-widgets/controls",
      "model_module_version": "2.0.0",
      "model_name": "CheckboxStyleModel",
      "state": {
       "description_width": ""
      }
     },
     "f3da6c956e88424e89477c68f5b8be7f": {
      "model_module": "@jupyter-widgets/base",
      "model_module_version": "2.0.0",
      "model_name": "LayoutModel",
      "state": {
       "width": "32px"
      }
     },
     "f471242607644065b4505a30e8ec709c": {
      "model_module": "jupyter-leaflet",
      "model_module_version": "^0.17",
      "model_name": "LeafletZoomControlModel",
      "state": {
       "_model_module_version": "^0.17",
       "_view_module_version": "^0.17",
       "options": [
        "position",
        "zoom_in_text",
        "zoom_in_title",
        "zoom_out_text",
        "zoom_out_title"
       ]
      }
     },
     "f5d69542140548449eebf7377dfaf01c": {
      "model_module": "@jupyter-widgets/controls",
      "model_module_version": "2.0.0",
      "model_name": "ButtonStyleModel",
      "state": {
       "font_family": null,
       "font_size": null,
       "font_style": null,
       "font_variant": null,
       "font_weight": null,
       "text_color": null,
       "text_decoration": null
      }
     },
     "f61a03ba445e43f1be4881c2300c488e": {
      "model_module": "jupyter-leaflet",
      "model_module_version": "^0.17",
      "model_name": "LeafletTileLayerModel",
      "state": {
       "_model_module_version": "^0.17",
       "_view_module_version": "^0.17",
       "attribution": "Google Earth Engine",
       "max_zoom": 24,
       "name": "pivot1",
       "options": [
        "attribution",
        "bounds",
        "detect_retina",
        "max_native_zoom",
        "max_zoom",
        "min_native_zoom",
        "min_zoom",
        "no_wrap",
        "tile_size",
        "tms",
        "zoom_offset"
       ],
       "url": "https://earthengine.googleapis.com/v1/projects/earthengine-legacy/maps/ab1c5e435f97c7a6085ef025f414bca6-0ef7deead444282d8db4185051ee3833/tiles/{z}/{x}/{y}"
      }
     },
     "f878251a5ecb4c018491f599d69a835e": {
      "model_module": "@jupyter-widgets/base",
      "model_module_version": "2.0.0",
      "model_name": "LayoutModel",
      "state": {
       "height": "auto",
       "padding": "0px 0px 0px 4px",
       "width": "auto"
      }
     },
     "f90f67e02cb04c85aa7024e90fa46e18": {
      "model_module": "@jupyter-widgets/controls",
      "model_module_version": "2.0.0",
      "model_name": "HTMLModel",
      "state": {
       "layout": "IPY_MODEL_5c65d6e13482477a9b121edc56c9212f",
       "style": "IPY_MODEL_6fdc47aef62c427aacf362b219aeff55"
      }
     },
     "f97f17aa602742b5960b07fabf4c33a1": {
      "model_module": "jupyter-leaflet",
      "model_module_version": "^0.17",
      "model_name": "LeafletTileLayerModel",
      "state": {
       "_model_module_version": "^0.17",
       "_view_module_version": "^0.17",
       "attribution": "Google Earth Engine",
       "max_zoom": 24,
       "name": "Image X",
       "options": [
        "attribution",
        "bounds",
        "detect_retina",
        "max_native_zoom",
        "max_zoom",
        "min_native_zoom",
        "min_zoom",
        "no_wrap",
        "tile_size",
        "tms",
        "zoom_offset"
       ],
       "url": "https://earthengine.googleapis.com/v1/projects/earthengine-legacy/maps/94ff739dca812389feb044e19dd103e2-f493e8fe4be8826ed9611c8c9ab60e1b/tiles/{z}/{x}/{y}"
      }
     },
     "fa1b425caf8a45b2a5086bd7087c5795": {
      "model_module": "@jupyter-widgets/controls",
      "model_module_version": "2.0.0",
      "model_name": "ToggleButtonModel",
      "state": {
       "button_style": "primary",
       "icon": "info-circle",
       "layout": "IPY_MODEL_a1032705de5643c89fcc58219aebe589",
       "style": "IPY_MODEL_d93abdca63d04861863ad47aced2d625",
       "tooltip": "Get COG/STAC pixel value"
      }
     },
     "fc6b8a58482341358ef2c467f1581b84": {
      "model_module": "@jupyter-widgets/base",
      "model_module_version": "2.0.0",
      "model_name": "LayoutModel",
      "state": {
       "height": "28px",
       "width": "72px"
      }
     },
     "fd3b5ff0ea774698b59720efe3a4d9b0": {
      "model_module": "jupyter-leaflet",
      "model_module_version": "^0.17",
      "model_name": "LeafletMapStyleModel",
      "state": {
       "_model_module_version": "^0.17"
      }
     },
     "ff25a370ad1342c4a6833a34f0c66b7a": {
      "model_module": "@jupyter-widgets/base",
      "model_module_version": "2.0.0",
      "model_name": "LayoutModel",
      "state": {}
     },
     "ffec7e34d17e458b838766e4854f56e7": {
      "model_module": "@jupyter-widgets/base",
      "model_module_version": "2.0.0",
      "model_name": "LayoutModel",
      "state": {
       "height": "auto",
       "padding": "0px 0px 0px 4px",
       "width": "auto"
      }
     }
    },
    "version_major": 2,
    "version_minor": 0
   }
  }
 },
 "nbformat": 4,
 "nbformat_minor": 4
}
