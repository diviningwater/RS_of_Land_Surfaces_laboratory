{
 "cells": [
  {
   "cell_type": "markdown",
   "id": "9da8544b-98e8-450e-a21d-7adc6a882dba",
   "metadata": {},
   "source": [
    "Where is the spatial information?"
   ]
  },
  {
   "cell_type": "markdown",
   "id": "575530c0-e88d-4b8d-93d7-21b8a6c60530",
   "metadata": {},
   "source": [
    "https://developers.google.com/earth-engine/datasets/"
   ]
  },
  {
   "cell_type": "markdown",
   "id": "77cad9e7-7d83-4a96-b742-18d519771ff9",
   "metadata": {},
   "source": [
    "Tutorial for GEEMAP"
   ]
  },
  {
   "cell_type": "markdown",
   "id": "10e66dd1-89aa-486d-8b18-4488d991c943",
   "metadata": {},
   "source": [
    "https://geemap.org/"
   ]
  },
  {
   "cell_type": "code",
   "execution_count": null,
   "id": "f29d62b7-2e15-4826-b636-40b30ddce353",
   "metadata": {},
   "outputs": [],
   "source": []
  }
 ],
 "metadata": {
  "kernelspec": {
   "display_name": "Python [conda env:gee]",
   "language": "python",
   "name": "conda-env-gee-py"
  },
  "language_info": {
   "codemirror_mode": {
    "name": "ipython",
    "version": 3
   },
   "file_extension": ".py",
   "mimetype": "text/x-python",
   "name": "python",
   "nbconvert_exporter": "python",
   "pygments_lexer": "ipython3",
   "version": "3.10.13"
  },
  "widgets": {
   "application/vnd.jupyter.widget-state+json": {
    "state": {},
    "version_major": 2,
    "version_minor": 0
   }
  }
 },
 "nbformat": 4,
 "nbformat_minor": 5
}
